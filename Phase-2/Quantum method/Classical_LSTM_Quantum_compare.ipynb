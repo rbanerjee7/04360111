{
 "cells": [
  {
   "cell_type": "code",
   "execution_count": 27,
   "id": "a33a1f56",
   "metadata": {},
   "outputs": [],
   "source": [
    "import pandas as pd\n",
    "from utils import *\n",
    "import time\n",
    "import numpy as np\n",
    "import math\n",
    "import matplotlib.pyplot as plt\n",
    "# Torch package\n",
    "import torch\n",
    "from torch.utils.data import DataLoader\n",
    "from torch import nn\n",
    "import torch\n",
    "from torch import nn\n",
    "from torch.utils.data import Dataset\n",
    "import torch.optim as optim\n",
    "import torch.utils.data as data\n",
    "import random\n",
    "import tensorflow as tf"
   ]
  },
  {
   "cell_type": "code",
   "execution_count": 28,
   "id": "589a4ff5",
   "metadata": {},
   "outputs": [],
   "source": [
    "tf.random.set_seed(15)\n",
    "torch.manual_seed(42)\n",
    "random.seed(42)\n",
    "plt.rcParams[\"font.weight\"] = \"bold\"\n",
    "plt.rcParams[\"axes.labelweight\"] = \"bold\"\n",
    "plt.rcParams.update({'font.size':20})\n",
    "legend_prop = {'weight':'bold'}\n",
    "from pylab import rcParams\n",
    "rcParams['axes.linewidth'] = 2"
   ]
  },
  {
   "cell_type": "markdown",
   "id": "8dcf2258",
   "metadata": {},
   "source": [
    "## Read Data"
   ]
  },
  {
   "cell_type": "code",
   "execution_count": 29,
   "id": "31c36071",
   "metadata": {},
   "outputs": [],
   "source": [
    "df = pd.read_csv('Processed_data.csv')\n",
    "df = df.drop([ 'Unnamed: 0'], axis=1)\n",
    "# Used data from Aug 2013 till 1st March 2024 \n",
    "df=df[500:]\n",
    "# Remove few redundant data\n",
    "df=df.drop(columns=['Date'])\n",
    "df=df.drop(columns=['CUMLOGRET_1'])\n",
    "df=df.drop(columns=['Gold in USD volume'])\n",
    "df=df.drop(columns=['Open'])\n",
    "df=df.drop(columns=['High'])\n",
    "df=df.drop(columns=['Low'])"
   ]
  },
  {
   "cell_type": "code",
   "execution_count": 30,
   "id": "d53abe07",
   "metadata": {},
   "outputs": [
    {
     "name": "stdout",
     "output_type": "stream",
     "text": [
      "['3M', 'BBB_20_2.0', 'BBL_20_2.0', 'BBM_20_2.0', 'BBP_20_2.0', 'BBU_20_2.0', 'Close_copy', 'Crude Futures_close', 'Crude Futures_volume', 'Crude_H-L', 'Crude_O-C', 'EMA_14', 'EMA_21', 'EMA_7', 'FTSE_H-L', 'FTSE_O-C', 'GBP USD ', 'GBP_USD_H-L', 'GBP_USD_O-C', 'Gold in USD close', 'Gold_H-L', 'Gold_O-C', 'MACD_12_26_9', 'MACDh_12_26_9', 'MACDs_12_26_9', 'SMA_14', 'SMA_21', 'SMA_7', 'Volume']\n",
      "29\n"
     ]
    }
   ],
   "source": [
    "# Set target and features\n",
    "target = \"Close\"\n",
    "features = list(df.columns.difference([\"Close\"]))\n",
    "print(features)\n",
    "print(len(features))"
   ]
  },
  {
   "cell_type": "markdown",
   "id": "a65613d0",
   "metadata": {},
   "source": [
    "## Normalize data"
   ]
  },
  {
   "cell_type": "code",
   "execution_count": 31,
   "id": "bff7d289",
   "metadata": {},
   "outputs": [],
   "source": [
    "target_mean = df[target].mean()\n",
    "target_stdev = df[target].std()\n",
    "\n",
    "for c in df.columns:\n",
    "    mean = df[c].mean()\n",
    "    stdev = df[c].std()\n",
    "\n",
    "    df[c] = (df[c] - mean) / stdev"
   ]
  },
  {
   "cell_type": "code",
   "execution_count": 32,
   "id": "943866a4",
   "metadata": {},
   "outputs": [
    {
     "data": {
      "text/html": [
       "<div>\n",
       "<style scoped>\n",
       "    .dataframe tbody tr th:only-of-type {\n",
       "        vertical-align: middle;\n",
       "    }\n",
       "\n",
       "    .dataframe tbody tr th {\n",
       "        vertical-align: top;\n",
       "    }\n",
       "\n",
       "    .dataframe thead th {\n",
       "        text-align: right;\n",
       "    }\n",
       "</style>\n",
       "<table border=\"1\" class=\"dataframe\">\n",
       "  <thead>\n",
       "    <tr style=\"text-align: right;\">\n",
       "      <th></th>\n",
       "      <th>Close</th>\n",
       "      <th>Volume</th>\n",
       "      <th>EMA_7</th>\n",
       "      <th>EMA_14</th>\n",
       "      <th>EMA_21</th>\n",
       "      <th>SMA_7</th>\n",
       "      <th>SMA_14</th>\n",
       "      <th>SMA_21</th>\n",
       "      <th>MACD_12_26_9</th>\n",
       "      <th>MACDh_12_26_9</th>\n",
       "      <th>...</th>\n",
       "      <th>3M</th>\n",
       "      <th>FTSE_H-L</th>\n",
       "      <th>FTSE_O-C</th>\n",
       "      <th>GBP_USD_H-L</th>\n",
       "      <th>GBP_USD_O-C</th>\n",
       "      <th>Gold_H-L</th>\n",
       "      <th>Gold_O-C</th>\n",
       "      <th>Crude_H-L</th>\n",
       "      <th>Crude_O-C</th>\n",
       "      <th>Close_copy</th>\n",
       "    </tr>\n",
       "  </thead>\n",
       "  <tbody>\n",
       "    <tr>\n",
       "      <th>500</th>\n",
       "      <td>-0.586759</td>\n",
       "      <td>0.718521</td>\n",
       "      <td>-0.725941</td>\n",
       "      <td>-0.794212</td>\n",
       "      <td>-0.861787</td>\n",
       "      <td>-0.745251</td>\n",
       "      <td>-0.748905</td>\n",
       "      <td>-0.830099</td>\n",
       "      <td>0.857920</td>\n",
       "      <td>0.142893</td>\n",
       "      <td>...</td>\n",
       "      <td>-0.414669</td>\n",
       "      <td>-0.110213</td>\n",
       "      <td>-0.940828</td>\n",
       "      <td>0.159355</td>\n",
       "      <td>0.441655</td>\n",
       "      <td>1.705116</td>\n",
       "      <td>-0.309942</td>\n",
       "      <td>-0.730894</td>\n",
       "      <td>0.295629</td>\n",
       "      <td>-0.586759</td>\n",
       "    </tr>\n",
       "    <tr>\n",
       "      <th>501</th>\n",
       "      <td>-0.650690</td>\n",
       "      <td>-0.444215</td>\n",
       "      <td>-0.708600</td>\n",
       "      <td>-0.776571</td>\n",
       "      <td>-0.844034</td>\n",
       "      <td>-0.737822</td>\n",
       "      <td>-0.740482</td>\n",
       "      <td>-0.809370</td>\n",
       "      <td>0.863578</td>\n",
       "      <td>0.128215</td>\n",
       "      <td>...</td>\n",
       "      <td>-0.412881</td>\n",
       "      <td>-0.151148</td>\n",
       "      <td>0.541553</td>\n",
       "      <td>1.923313</td>\n",
       "      <td>-0.106166</td>\n",
       "      <td>1.385769</td>\n",
       "      <td>0.666877</td>\n",
       "      <td>-0.518520</td>\n",
       "      <td>0.365571</td>\n",
       "      <td>-0.650690</td>\n",
       "    </tr>\n",
       "    <tr>\n",
       "      <th>502</th>\n",
       "      <td>-0.703747</td>\n",
       "      <td>-0.650799</td>\n",
       "      <td>-0.709025</td>\n",
       "      <td>-0.768534</td>\n",
       "      <td>-0.832895</td>\n",
       "      <td>-0.729285</td>\n",
       "      <td>-0.731869</td>\n",
       "      <td>-0.787001</td>\n",
       "      <td>0.822823</td>\n",
       "      <td>0.005250</td>\n",
       "      <td>...</td>\n",
       "      <td>-0.412881</td>\n",
       "      <td>0.303229</td>\n",
       "      <td>0.451050</td>\n",
       "      <td>0.252315</td>\n",
       "      <td>1.465842</td>\n",
       "      <td>1.066422</td>\n",
       "      <td>1.643696</td>\n",
       "      <td>-0.306146</td>\n",
       "      <td>0.435514</td>\n",
       "      <td>-0.703747</td>\n",
       "    </tr>\n",
       "    <tr>\n",
       "      <th>503</th>\n",
       "      <td>-0.732619</td>\n",
       "      <td>-0.304666</td>\n",
       "      <td>-0.716653</td>\n",
       "      <td>-0.765515</td>\n",
       "      <td>-0.825489</td>\n",
       "      <td>-0.715939</td>\n",
       "      <td>-0.727467</td>\n",
       "      <td>-0.772880</td>\n",
       "      <td>0.762045</td>\n",
       "      <td>-0.141106</td>\n",
       "      <td>...</td>\n",
       "      <td>-0.412881</td>\n",
       "      <td>-0.251439</td>\n",
       "      <td>0.249758</td>\n",
       "      <td>-0.777813</td>\n",
       "      <td>-0.205409</td>\n",
       "      <td>0.013439</td>\n",
       "      <td>-0.285212</td>\n",
       "      <td>-0.817284</td>\n",
       "      <td>0.192556</td>\n",
       "      <td>-0.732619</td>\n",
       "    </tr>\n",
       "    <tr>\n",
       "      <th>504</th>\n",
       "      <td>-0.906976</td>\n",
       "      <td>-0.513727</td>\n",
       "      <td>-0.766512</td>\n",
       "      <td>-0.786729</td>\n",
       "      <td>-0.835188</td>\n",
       "      <td>-0.729204</td>\n",
       "      <td>-0.744258</td>\n",
       "      <td>-0.773054</td>\n",
       "      <td>0.590776</td>\n",
       "      <td>-0.522973</td>\n",
       "      <td>...</td>\n",
       "      <td>-0.412881</td>\n",
       "      <td>0.690063</td>\n",
       "      <td>1.460629</td>\n",
       "      <td>3.787425</td>\n",
       "      <td>0.076441</td>\n",
       "      <td>1.282197</td>\n",
       "      <td>-2.197634</td>\n",
       "      <td>-0.586912</td>\n",
       "      <td>0.207281</td>\n",
       "      <td>-0.906976</td>\n",
       "    </tr>\n",
       "  </tbody>\n",
       "</table>\n",
       "<p>5 rows × 30 columns</p>\n",
       "</div>"
      ],
      "text/plain": [
       "        Close    Volume     EMA_7    EMA_14    EMA_21     SMA_7    SMA_14  \\\n",
       "500 -0.586759  0.718521 -0.725941 -0.794212 -0.861787 -0.745251 -0.748905   \n",
       "501 -0.650690 -0.444215 -0.708600 -0.776571 -0.844034 -0.737822 -0.740482   \n",
       "502 -0.703747 -0.650799 -0.709025 -0.768534 -0.832895 -0.729285 -0.731869   \n",
       "503 -0.732619 -0.304666 -0.716653 -0.765515 -0.825489 -0.715939 -0.727467   \n",
       "504 -0.906976 -0.513727 -0.766512 -0.786729 -0.835188 -0.729204 -0.744258   \n",
       "\n",
       "       SMA_21  MACD_12_26_9  MACDh_12_26_9  ...        3M  FTSE_H-L  FTSE_O-C  \\\n",
       "500 -0.830099      0.857920       0.142893  ... -0.414669 -0.110213 -0.940828   \n",
       "501 -0.809370      0.863578       0.128215  ... -0.412881 -0.151148  0.541553   \n",
       "502 -0.787001      0.822823       0.005250  ... -0.412881  0.303229  0.451050   \n",
       "503 -0.772880      0.762045      -0.141106  ... -0.412881 -0.251439  0.249758   \n",
       "504 -0.773054      0.590776      -0.522973  ... -0.412881  0.690063  1.460629   \n",
       "\n",
       "     GBP_USD_H-L  GBP_USD_O-C  Gold_H-L  Gold_O-C  Crude_H-L  Crude_O-C  \\\n",
       "500     0.159355     0.441655  1.705116 -0.309942  -0.730894   0.295629   \n",
       "501     1.923313    -0.106166  1.385769  0.666877  -0.518520   0.365571   \n",
       "502     0.252315     1.465842  1.066422  1.643696  -0.306146   0.435514   \n",
       "503    -0.777813    -0.205409  0.013439 -0.285212  -0.817284   0.192556   \n",
       "504     3.787425     0.076441  1.282197 -2.197634  -0.586912   0.207281   \n",
       "\n",
       "     Close_copy  \n",
       "500   -0.586759  \n",
       "501   -0.650690  \n",
       "502   -0.703747  \n",
       "503   -0.732619  \n",
       "504   -0.906976  \n",
       "\n",
       "[5 rows x 30 columns]"
      ]
     },
     "execution_count": 32,
     "metadata": {},
     "output_type": "execute_result"
    }
   ],
   "source": [
    "df.head()"
   ]
  },
  {
   "cell_type": "markdown",
   "id": "f6df5754",
   "metadata": {},
   "source": [
    "## Data processing for time series model"
   ]
  },
  {
   "cell_type": "markdown",
   "id": "c9d23113",
   "metadata": {},
   "source": [
    "The data processing is to prepare the data in a sequence of past observations. Preparation of the time series data means that it uses a certain number of past observations to predict the future. In this case, the sequence length decides how many days the LSTM considers in advance and window decides how many days we want to predict for. If the sequence length is $n$ and window is $w$, then the LSTM considers the last $n$ observations to predict the next $w$ day price."
   ]
  },
  {
   "cell_type": "code",
   "execution_count": 33,
   "id": "465d24a1",
   "metadata": {},
   "outputs": [],
   "source": [
    "sequence_length = 30\n",
    "window =6\n",
    "\n",
    "def create_dataset(dataset,target,features, lookback, window):\n",
    "    X_store, y_store = [], []\n",
    "    for i in range(0,len(dataset)-lookback-window,2):\n",
    "        X = (dataset[features].values)[i:i+lookback]\n",
    "        y = (dataset[target].values)[i+lookback:i+lookback+window]\n",
    "        X_store.append(X)\n",
    "        y_store.append(y)\n",
    "    return torch.FloatTensor(np.array(X_store)), torch.FloatTensor(np.array(y_store))"
   ]
  },
  {
   "cell_type": "code",
   "execution_count": 34,
   "id": "85abfafc",
   "metadata": {},
   "outputs": [
    {
     "name": "stdout",
     "output_type": "stream",
     "text": [
      "Total sample 2758\n",
      "Train sample 2647\n",
      "Test sample 111\n"
     ]
    }
   ],
   "source": [
    "# Split train test data\n",
    "from sklearn.model_selection import train_test_split\n",
    "# df_train, df_test = train_test_split(df, test_size=0.05)\n",
    "size=int(len(df)*0.96)\n",
    "df_train=df[:size]\n",
    "df_test=df[size:]\n",
    "print('Total sample', len(df))\n",
    "print('Train sample', len(df_train))\n",
    "print('Test sample', len(df_test))"
   ]
  },
  {
   "cell_type": "code",
   "execution_count": 35,
   "id": "da089e65",
   "metadata": {},
   "outputs": [
    {
     "name": "stdout",
     "output_type": "stream",
     "text": [
      "torch.Size([1306, 30, 29]) torch.Size([1306, 6])\n"
     ]
    }
   ],
   "source": [
    "# Train data\n",
    "X_train, y_train = create_dataset(\n",
    "    df_train,\n",
    "    target=target,\n",
    "    features=features,\n",
    "    lookback=sequence_length, window=window)\n",
    "\n",
    "indices = tf.range(start=0, limit=tf.shape(X_train)[0])\n",
    "shuffled_indices = tf.random.shuffle(indices)\n",
    "X_train = tf.gather(X_train, shuffled_indices)\n",
    "y_train = tf.gather(y_train, shuffled_indices)\n",
    "\n",
    "X_train=torch.FloatTensor(np.array(X_train))\n",
    "y_train=torch.FloatTensor(np.array(y_train))\n",
    "\n",
    "print(X_train.shape, y_train.shape)"
   ]
  },
  {
   "cell_type": "code",
   "execution_count": 36,
   "id": "17880330",
   "metadata": {},
   "outputs": [
    {
     "name": "stdout",
     "output_type": "stream",
     "text": [
      "torch.Size([38, 30, 29]) torch.Size([38, 6])\n"
     ]
    }
   ],
   "source": [
    "# Test data\n",
    "X_test, y_test = create_dataset(\n",
    "    df_test,\n",
    "    target=target,\n",
    "    features=features,\n",
    "    lookback=sequence_length, window=window)\n",
    "\n",
    "X_test=torch.FloatTensor(np.array(X_test))\n",
    "y_test=torch.FloatTensor(np.array(y_test))\n",
    "\n",
    "print(X_test.shape, y_test.shape)"
   ]
  },
  {
   "cell_type": "code",
   "execution_count": 37,
   "id": "0c7f423c",
   "metadata": {},
   "outputs": [],
   "source": [
    "batch_size=10\n",
    "train_loader = DataLoader(data.TensorDataset(X_train, y_train), shuffle=True, batch_size=batch_size)\n",
    "test_loader= DataLoader(data.TensorDataset(X_test, y_test), shuffle=True, batch_size=batch_size)"
   ]
  },
  {
   "cell_type": "code",
   "execution_count": 38,
   "id": "23995e43",
   "metadata": {},
   "outputs": [
    {
     "data": {
      "text/plain": [
       "torch.Size([1, 30, 29])"
      ]
     },
     "execution_count": 38,
     "metadata": {},
     "output_type": "execute_result"
    }
   ],
   "source": [
    "# The unknown data\n",
    "X_check=(df_train[features].values)[len(df_train)-sequence_length:len(df_train)]\n",
    "y_check=(df_test[target].values)[:window]\n",
    "torch.FloatTensor([X_check]).shape"
   ]
  },
  {
   "cell_type": "markdown",
   "id": "245af1d7",
   "metadata": {},
   "source": [
    "## Classical LSTM"
   ]
  },
  {
   "cell_type": "markdown",
   "id": "50a784bc",
   "metadata": {},
   "source": [
    "We first define train_model: function to train the model based on the batches of data\n",
    "We print the loss at the end to understand how the model is performing with regards to the data."
   ]
  },
  {
   "cell_type": "code",
   "execution_count": 39,
   "id": "dbe496cd",
   "metadata": {},
   "outputs": [],
   "source": [
    "def train_model(data_loader, model, loss_function, optimizer):\n",
    "    num_batches = len(data_loader)\n",
    "    total_loss = 0\n",
    "    model.train()\n",
    "    \n",
    "    for X, y in data_loader:\n",
    "        output = model(X)\n",
    "        loss = loss_function(output, y)\n",
    "\n",
    "        optimizer.zero_grad()\n",
    "        loss.backward()\n",
    "        optimizer.step()\n",
    "\n",
    "        total_loss += loss.item()\n",
    "\n",
    "    avg_loss = total_loss / num_batches\n",
    "    print(f\"Train loss: {avg_loss}\")\n",
    "    return avg_loss\n",
    "\n",
    "def test_model(data_loader, model, loss_function):\n",
    "    \n",
    "    num_batches = len(data_loader)\n",
    "    total_loss = 0\n",
    "\n",
    "    model.eval()\n",
    "    with torch.no_grad():\n",
    "        for X, y in data_loader:\n",
    "            output = model(X)\n",
    "            total_loss += loss_function(output, y).item()\n",
    "\n",
    "    avg_loss = total_loss / num_batches\n",
    "    print(f\"Test loss: {avg_loss}\")\n",
    "    return avg_loss"
   ]
  },
  {
   "cell_type": "markdown",
   "id": "8dd5d66a",
   "metadata": {},
   "source": [
    "## Classical LSTM"
   ]
  },
  {
   "cell_type": "code",
   "execution_count": 40,
   "id": "aa31393b",
   "metadata": {},
   "outputs": [],
   "source": [
    "class ShallowRegressionLSTM(nn.Module):\n",
    "    def __init__(self, num_sensors, hidden_units):\n",
    "        super().__init__()\n",
    "        self.num_sensors = num_sensors  # this is the number of features\n",
    "        self.hidden_units = hidden_units\n",
    "        self.num_layers = 2\n",
    "\n",
    "        self.lstm = nn.LSTM(\n",
    "            input_size=num_sensors,\n",
    "            hidden_size=hidden_units,\n",
    "            batch_first=True,\n",
    "            num_layers=self.num_layers\n",
    "        )\n",
    "\n",
    "        self.linear = nn.Linear(in_features=self.hidden_units, out_features=1) # The output dimesion is set as window\n",
    "        self.linear_2 = nn.Linear(in_features=30, out_features=6)\n",
    "\n",
    "    def forward(self, x):\n",
    "        batch_size = x.shape[0]\n",
    "        h0 = torch.zeros(self.num_layers, batch_size, self.hidden_units).requires_grad_()\n",
    "        c0 = torch.zeros(self.num_layers, batch_size, self.hidden_units).requires_grad_()\n",
    "        \n",
    "        out_l1, (hn, _) = self.lstm(x, (h0, c0))\n",
    "        out_l2 = self.linear(out_l1)\n",
    "        out = self.linear_2(torch.squeeze(out_l2))\n",
    "        return torch.squeeze(out)"
   ]
  },
  {
   "cell_type": "code",
   "execution_count": 41,
   "id": "2a758f02",
   "metadata": {},
   "outputs": [],
   "source": [
    "learning_rate = 0.001\n",
    "num_hidden_units = 16\n",
    "\n",
    "model_lstm = ShallowRegressionLSTM(num_sensors=len(features), hidden_units=num_hidden_units)\n",
    "loss_function = nn.MSELoss()\n",
    "optimizer = torch.optim.Adam(model_lstm.parameters(), lr=learning_rate)"
   ]
  },
  {
   "cell_type": "code",
   "execution_count": 42,
   "id": "5e2cdd9a",
   "metadata": {},
   "outputs": [
    {
     "name": "stdout",
     "output_type": "stream",
     "text": [
      "Epoch 0\n",
      "---------\n",
      "Train loss: 0.45355936250727596\n",
      "Test loss: 0.03372592618688941\n",
      "Epoch 1\n",
      "---------\n",
      "Train loss: 0.11527287226369362\n",
      "Test loss: 0.03008799348026514\n",
      "Epoch 2\n",
      "---------\n",
      "Train loss: 0.08185798755868245\n",
      "Test loss: 0.045939779840409756\n",
      "Epoch 3\n",
      "---------\n",
      "Train loss: 0.06374522935570652\n",
      "Test loss: 0.06955239363014698\n",
      "Epoch 4\n",
      "---------\n",
      "Train loss: 0.0556238949412608\n",
      "Test loss: 0.034197764936834574\n",
      "Epoch 5\n",
      "---------\n",
      "Train loss: 0.050382812841589214\n",
      "Test loss: 0.05283508263528347\n",
      "Epoch 6\n",
      "---------\n",
      "Train loss: 0.04542949608747513\n",
      "Test loss: 0.03963572718203068\n",
      "Epoch 7\n",
      "---------\n",
      "Train loss: 0.04194873298397501\n",
      "Test loss: 0.03592234058305621\n",
      "Epoch 8\n",
      "---------\n",
      "Train loss: 0.03962179030227752\n",
      "Test loss: 0.03374815289862454\n",
      "Epoch 9\n",
      "---------\n",
      "Train loss: 0.03639845809550913\n",
      "Test loss: 0.06457534618675709\n"
     ]
    }
   ],
   "source": [
    "lstm_loss_train = []\n",
    "lstm_loss_test=[]\n",
    "num_epoch=10\n",
    "for ix_epoch in range(num_epoch):\n",
    "    print(f\"Epoch {ix_epoch}\\n---------\")\n",
    "    train_loss = train_model(train_loader, model_lstm, loss_function, optimizer=optimizer)\n",
    "    test_loss = test_model(test_loader, model_lstm, loss_function)\n",
    "    lstm_loss_train.append(train_loss)\n",
    "    lstm_loss_test.append(test_loss)"
   ]
  },
  {
   "cell_type": "code",
   "execution_count": 43,
   "id": "7b0b2d07",
   "metadata": {},
   "outputs": [
    {
     "data": {
      "text/plain": [
       "[0.45355936250727596,\n",
       " 0.11527287226369362,\n",
       " 0.08185798755868245,\n",
       " 0.06374522935570652,\n",
       " 0.0556238949412608,\n",
       " 0.050382812841589214,\n",
       " 0.04542949608747513,\n",
       " 0.04194873298397501,\n",
       " 0.03962179030227752,\n",
       " 0.03639845809550913]"
      ]
     },
     "execution_count": 43,
     "metadata": {},
     "output_type": "execute_result"
    }
   ],
   "source": [
    "lstm_loss_train"
   ]
  },
  {
   "cell_type": "code",
   "execution_count": 44,
   "id": "fc2be6b2",
   "metadata": {},
   "outputs": [
    {
     "data": {
      "text/plain": [
       "[0.03372592618688941,\n",
       " 0.03008799348026514,\n",
       " 0.045939779840409756,\n",
       " 0.06955239363014698,\n",
       " 0.034197764936834574,\n",
       " 0.05283508263528347,\n",
       " 0.03963572718203068,\n",
       " 0.03592234058305621,\n",
       " 0.03374815289862454,\n",
       " 0.06457534618675709]"
      ]
     },
     "execution_count": 44,
     "metadata": {},
     "output_type": "execute_result"
    }
   ],
   "source": [
    "lstm_loss_test"
   ]
  },
  {
   "cell_type": "code",
   "execution_count": 54,
   "id": "f8806195",
   "metadata": {},
   "outputs": [
    {
     "data": {
      "image/png": "[encoded data removed]",
      "text/plain": [
       "<Figure size 576x432 with 1 Axes>"
      ]
     },
     "metadata": {
      "needs_background": "light"
     },
     "output_type": "display_data"
    }
   ],
   "source": [
    "plt.figure(figsize=(8, 6))\n",
    "plt.plot(range(num_epoch), lstm_loss_train, label='train')\n",
    "plt.plot(range(num_epoch), lstm_loss_test, label='test')\n",
    "plt.ylabel('Loss')\n",
    "plt.xlabel('Epoch')\n",
    "plt.legend()\n",
    "plt.show()"
   ]
  },
  {
   "cell_type": "markdown",
   "id": "2f44945e",
   "metadata": {},
   "source": [
    "We then use the model to predict the test set, and then compare the results of the prediction to the real values."
   ]
  },
  {
   "cell_type": "code",
   "execution_count": 46,
   "id": "478ffa72",
   "metadata": {},
   "outputs": [],
   "source": [
    "def predict(data_loader, model):\n",
    "    \"\"\"Just like `test_loop` function but keep track of the outputs instead of the loss\n",
    "    function.\n",
    "    \"\"\"\n",
    "    output = []\n",
    "    model.eval()\n",
    "    with torch.no_grad():\n",
    "        for X, _ in data_loader:\n",
    "            y_star = model(X)\n",
    "            output.append(y_star.numpy())  \n",
    "    return output"
   ]
  },
  {
   "cell_type": "code",
   "execution_count": 47,
   "id": "aec3abbe",
   "metadata": {},
   "outputs": [],
   "source": [
    "# Prepare data to evaluate training accuracy of lstm\n",
    "train_eval_loader = DataLoader(data.TensorDataset(X_train, y_train), shuffle=False, batch_size=batch_size)\n",
    "y_train_pred_lstm=predict(train_eval_loader, model_lstm)\n",
    "y_train_lstm=[]\n",
    "for X, y in train_eval_loader:\n",
    "    y_train_lstm.append(y)\n",
    "    \n",
    "# Prepare data to evaluate test accuracy of lstm\n",
    "test_eval_loader = DataLoader(data.TensorDataset(X_test, y_test), shuffle=False, batch_size=batch_size)\n",
    "y_test_pred_lstm=predict(test_eval_loader, model_lstm)\n",
    "y_test_lstm=[]\n",
    "for X, y in test_eval_loader:\n",
    "    y_test_lstm.append(y)"
   ]
  },
  {
   "cell_type": "code",
   "execution_count": 48,
   "id": "1d45f169",
   "metadata": {},
   "outputs": [],
   "source": [
    "from sklearn.metrics import mean_squared_error\n",
    "from sklearn.metrics import mean_absolute_error\n",
    "from sklearn.metrics import mean_absolute_percentage_error\n",
    "def cal_metrics(y_true,y_pred):\n",
    "    mae=0\n",
    "    rmse=0\n",
    "    for i in range(len(y_true)):\n",
    "        y1=y_true[i].flatten().numpy()* target_stdev + target_mean\n",
    "        y2=y_pred[i].flatten()* target_stdev + target_mean\n",
    "        mae=mean_absolute_error(y1, y2)+mae\n",
    "        rmse=mean_squared_error(y1, y2, squared=False)+rmse  \n",
    "    return mae/len(y_true) , rmse/len(y_true)"
   ]
  },
  {
   "cell_type": "code",
   "execution_count": 49,
   "id": "ba63dddb",
   "metadata": {
    "scrolled": true
   },
   "outputs": [
    {
     "name": "stdout",
     "output_type": "stream",
     "text": [
      "MAE train error is 74.93221871179479\n",
      "RMSE train error is 97.74934436710737\n",
      "MAE test error is 109.78248977661133\n",
      "RMSE test error is 130.50122451782227\n"
     ]
    }
   ],
   "source": [
    "mae_train_lstm, rmse_train_lstm= cal_metrics(y_train_lstm,y_train_pred_lstm)\n",
    "print('MAE train error is',mae_train_lstm)\n",
    "print('RMSE train error is',rmse_train_lstm)\n",
    "\n",
    "mae_test_lstm, rmse_test_lstm= cal_metrics(y_test_lstm,y_test_pred_lstm)\n",
    "print('MAE test error is',mae_test_lstm)\n",
    "print('RMSE test error is',rmse_test_lstm)"
   ]
  },
  {
   "cell_type": "code",
   "execution_count": 52,
   "id": "3cec8d55",
   "metadata": {},
   "outputs": [
    {
     "name": "stdout",
     "output_type": "stream",
     "text": [
      "No. of parameters for QLSTM:  5387\n"
     ]
    }
   ],
   "source": [
    "total_params_Q = sum(p.numel() for p in model_lstm.parameters() if p.requires_grad)\n",
    "\n",
    "print(\"No. of parameters for QLSTM: \", total_params_Q)"
   ]
  },
  {
   "cell_type": "code",
   "execution_count": null,
   "id": "b004ea79",
   "metadata": {},
   "outputs": [],
   "source": []
  },
  {
   "cell_type": "code",
   "execution_count": null,
   "id": "cd39efdd",
   "metadata": {},
   "outputs": [],
   "source": []
  }
 ],
 "metadata": {
  "kernelspec": {
   "display_name": "Python 3",
   "language": "python",
   "name": "python3"
  },
  "language_info": {
   "codemirror_mode": {
    "name": "ipython",
    "version": 3
   },
   "file_extension": ".py",
   "mimetype": "text/x-python",
   "name": "python",
   "nbconvert_exporter": "python",
   "pygments_lexer": "ipython3",
   "version": "3.8.8"
  }
 },
 "nbformat": 4,
 "nbformat_minor": 5
}
