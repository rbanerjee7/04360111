{
 "cells": [
  {
   "cell_type": "code",
   "execution_count": 5,
   "id": "a33a1f56",
   "metadata": {
    "tags": []
   },
   "outputs": [
    {
     "name": "stderr",
     "output_type": "stream",
     "text": [
      "/home/ec2-user/anaconda3/envs/Braket/lib/python3.10/site-packages/tqdm/auto.py:21: TqdmWarning: IProgress not found. Please update jupyter and ipywidgets. See https://ipywidgets.readthedocs.io/en/stable/user_install.html\n",
      "  from .autonotebook import tqdm as notebook_tqdm\n",
      "2024-03-07 10:55:26.904135: E external/local_xla/xla/stream_executor/cuda/cuda_dnn.cc:9261] Unable to register cuDNN factory: Attempting to register factory for plugin cuDNN when one has already been registered\n",
      "2024-03-07 10:55:26.904178: E external/local_xla/xla/stream_executor/cuda/cuda_fft.cc:607] Unable to register cuFFT factory: Attempting to register factory for plugin cuFFT when one has already been registered\n",
      "2024-03-07 10:55:26.905334: E external/local_xla/xla/stream_executor/cuda/cuda_blas.cc:1515] Unable to register cuBLAS factory: Attempting to register factory for plugin cuBLAS when one has already been registered\n",
      "2024-03-07 10:55:27.870261: W tensorflow/compiler/tf2tensorrt/utils/py_utils.cc:38] TF-TRT Warning: Could not find TensorRT\n"
     ]
    }
   ],
   "source": [
    "import pandas as pd\n",
    "import time\n",
    "import numpy as np\n",
    "import math\n",
    "import matplotlib.pyplot as plt\n",
    "# Torch package\n",
    "import torch\n",
    "from torch.utils.data import DataLoader\n",
    "from torch import nn\n",
    "import torch\n",
    "from torch import nn\n",
    "from torch.utils.data import Dataset\n",
    "import pennylane as qml\n",
    "import torch.optim as optim\n",
    "import torch.utils.data as data\n",
    "import random\n",
    "import tensorflow as tf"
   ]
  },
  {
   "cell_type": "code",
   "execution_count": 6,
   "id": "31c36071",
   "metadata": {
    "tags": []
   },
   "outputs": [],
   "source": [
    "tf.random.set_seed(15)\n",
    "torch.manual_seed(42)\n",
    "random.seed(42)\n",
    "plt.rcParams[\"font.weight\"] = \"bold\"\n",
    "plt.rcParams[\"axes.labelweight\"] = \"bold\"\n",
    "plt.rcParams.update({'font.size':20})\n",
    "legend_prop = {'weight':'bold'}\n",
    "from pylab import rcParams\n",
    "rcParams['axes.linewidth'] = 2"
   ]
  },
  {
   "cell_type": "markdown",
   "id": "111505b5-5d5f-4e55-8e47-ecfdda0593cc",
   "metadata": {},
   "source": [
    "# Data"
   ]
  },
  {
   "cell_type": "code",
   "execution_count": 21,
   "id": "d53abe07",
   "metadata": {
    "tags": []
   },
   "outputs": [],
   "source": [
    "df = pd.read_csv('Processed_data.csv')\n",
    "df = df.drop([ 'Unnamed: 0'], axis=1)\n",
    "# Used data from Aug 2013 till 1st March 2024 \n",
    "df=df[500:]\n",
    "# Remove few redundant data\n",
    "df=df.drop(columns=['Date'])\n",
    "df=df.drop(columns=['CUMLOGRET_1'])\n",
    "df=df.drop(columns=['Gold in USD volume'])\n",
    "df=df.drop(columns=['Open'])\n",
    "df=df.drop(columns=['High'])\n",
    "df=df.drop(columns=['Low'])"
   ]
  },
  {
   "cell_type": "code",
   "execution_count": 22,
   "id": "a8cedb86",
   "metadata": {
    "tags": []
   },
   "outputs": [
    {
     "name": "stdout",
     "output_type": "stream",
     "text": [
      "['3M', 'BBB_20_2.0', 'BBL_20_2.0', 'BBM_20_2.0', 'BBP_20_2.0', 'BBU_20_2.0', 'Close_copy', 'Crude Futures_close', 'Crude Futures_volume', 'Crude_H-L', 'Crude_O-C', 'EMA_14', 'EMA_21', 'EMA_7', 'FTSE_H-L', 'FTSE_O-C', 'GBP USD ', 'GBP_USD_H-L', 'GBP_USD_O-C', 'Gold in USD close', 'Gold_H-L', 'Gold_O-C', 'MACD_12_26_9', 'MACDh_12_26_9', 'MACDs_12_26_9', 'SMA_14', 'SMA_21', 'SMA_7', 'Volume']\n",
      "29\n"
     ]
    }
   ],
   "source": [
    "# Set target and features\n",
    "target = \"Close\"\n",
    "features = list(df.columns.difference([\"Close\"]))\n",
    "print(features)\n",
    "print(len(features))"
   ]
  },
  {
   "cell_type": "code",
   "execution_count": 23,
   "id": "11e95ff1-300d-4e80-8f1a-fc0c2ba35d0d",
   "metadata": {
    "tags": []
   },
   "outputs": [],
   "source": [
    "target_mean = df[target].mean()\n",
    "target_stdev = df[target].std()\n",
    "\n",
    "for c in df.columns:\n",
    "    mean = df[c].mean()\n",
    "    stdev = df[c].std()\n",
    "\n",
    "    df[c] = (df[c] - mean) / stdev"
   ]
  },
  {
   "cell_type": "code",
   "execution_count": 24,
   "id": "bb6e581d-4e02-485a-a2cf-3a754e51b966",
   "metadata": {
    "tags": []
   },
   "outputs": [
    {
     "data": {
      "text/html": [
       "<div>\n",
       "<style scoped>\n",
       "    .dataframe tbody tr th:only-of-type {\n",
       "        vertical-align: middle;\n",
       "    }\n",
       "\n",
       "    .dataframe tbody tr th {\n",
       "        vertical-align: top;\n",
       "    }\n",
       "\n",
       "    .dataframe thead th {\n",
       "        text-align: right;\n",
       "    }\n",
       "</style>\n",
       "<table border=\"1\" class=\"dataframe\">\n",
       "  <thead>\n",
       "    <tr style=\"text-align: right;\">\n",
       "      <th></th>\n",
       "      <th>Close</th>\n",
       "      <th>Volume</th>\n",
       "      <th>EMA_7</th>\n",
       "      <th>EMA_14</th>\n",
       "      <th>EMA_21</th>\n",
       "      <th>SMA_7</th>\n",
       "      <th>SMA_14</th>\n",
       "      <th>SMA_21</th>\n",
       "      <th>MACD_12_26_9</th>\n",
       "      <th>MACDh_12_26_9</th>\n",
       "      <th>...</th>\n",
       "      <th>3M</th>\n",
       "      <th>FTSE_H-L</th>\n",
       "      <th>FTSE_O-C</th>\n",
       "      <th>GBP_USD_H-L</th>\n",
       "      <th>GBP_USD_O-C</th>\n",
       "      <th>Gold_H-L</th>\n",
       "      <th>Gold_O-C</th>\n",
       "      <th>Crude_H-L</th>\n",
       "      <th>Crude_O-C</th>\n",
       "      <th>Close_copy</th>\n",
       "    </tr>\n",
       "  </thead>\n",
       "  <tbody>\n",
       "    <tr>\n",
       "      <th>500</th>\n",
       "      <td>-0.586759</td>\n",
       "      <td>0.718521</td>\n",
       "      <td>-0.725941</td>\n",
       "      <td>-0.794212</td>\n",
       "      <td>-0.861787</td>\n",
       "      <td>-0.745251</td>\n",
       "      <td>-0.748905</td>\n",
       "      <td>-0.830099</td>\n",
       "      <td>0.857920</td>\n",
       "      <td>0.142893</td>\n",
       "      <td>...</td>\n",
       "      <td>-0.414669</td>\n",
       "      <td>-0.110213</td>\n",
       "      <td>-0.940828</td>\n",
       "      <td>0.159355</td>\n",
       "      <td>0.441655</td>\n",
       "      <td>1.705116</td>\n",
       "      <td>-0.309942</td>\n",
       "      <td>-0.730894</td>\n",
       "      <td>0.295629</td>\n",
       "      <td>-0.586759</td>\n",
       "    </tr>\n",
       "    <tr>\n",
       "      <th>501</th>\n",
       "      <td>-0.650690</td>\n",
       "      <td>-0.444215</td>\n",
       "      <td>-0.708600</td>\n",
       "      <td>-0.776571</td>\n",
       "      <td>-0.844034</td>\n",
       "      <td>-0.737822</td>\n",
       "      <td>-0.740482</td>\n",
       "      <td>-0.809370</td>\n",
       "      <td>0.863578</td>\n",
       "      <td>0.128215</td>\n",
       "      <td>...</td>\n",
       "      <td>-0.412881</td>\n",
       "      <td>-0.151148</td>\n",
       "      <td>0.541553</td>\n",
       "      <td>1.923313</td>\n",
       "      <td>-0.106166</td>\n",
       "      <td>1.385769</td>\n",
       "      <td>0.666877</td>\n",
       "      <td>-0.518520</td>\n",
       "      <td>0.365571</td>\n",
       "      <td>-0.650690</td>\n",
       "    </tr>\n",
       "    <tr>\n",
       "      <th>502</th>\n",
       "      <td>-0.703747</td>\n",
       "      <td>-0.650799</td>\n",
       "      <td>-0.709025</td>\n",
       "      <td>-0.768534</td>\n",
       "      <td>-0.832895</td>\n",
       "      <td>-0.729285</td>\n",
       "      <td>-0.731869</td>\n",
       "      <td>-0.787001</td>\n",
       "      <td>0.822823</td>\n",
       "      <td>0.005250</td>\n",
       "      <td>...</td>\n",
       "      <td>-0.412881</td>\n",
       "      <td>0.303229</td>\n",
       "      <td>0.451050</td>\n",
       "      <td>0.252315</td>\n",
       "      <td>1.465842</td>\n",
       "      <td>1.066422</td>\n",
       "      <td>1.643696</td>\n",
       "      <td>-0.306146</td>\n",
       "      <td>0.435514</td>\n",
       "      <td>-0.703747</td>\n",
       "    </tr>\n",
       "    <tr>\n",
       "      <th>503</th>\n",
       "      <td>-0.732619</td>\n",
       "      <td>-0.304666</td>\n",
       "      <td>-0.716653</td>\n",
       "      <td>-0.765515</td>\n",
       "      <td>-0.825489</td>\n",
       "      <td>-0.715939</td>\n",
       "      <td>-0.727467</td>\n",
       "      <td>-0.772880</td>\n",
       "      <td>0.762045</td>\n",
       "      <td>-0.141106</td>\n",
       "      <td>...</td>\n",
       "      <td>-0.412881</td>\n",
       "      <td>-0.251439</td>\n",
       "      <td>0.249758</td>\n",
       "      <td>-0.777813</td>\n",
       "      <td>-0.205409</td>\n",
       "      <td>0.013439</td>\n",
       "      <td>-0.285212</td>\n",
       "      <td>-0.817284</td>\n",
       "      <td>0.192556</td>\n",
       "      <td>-0.732619</td>\n",
       "    </tr>\n",
       "    <tr>\n",
       "      <th>504</th>\n",
       "      <td>-0.906976</td>\n",
       "      <td>-0.513727</td>\n",
       "      <td>-0.766512</td>\n",
       "      <td>-0.786729</td>\n",
       "      <td>-0.835188</td>\n",
       "      <td>-0.729204</td>\n",
       "      <td>-0.744258</td>\n",
       "      <td>-0.773054</td>\n",
       "      <td>0.590776</td>\n",
       "      <td>-0.522973</td>\n",
       "      <td>...</td>\n",
       "      <td>-0.412881</td>\n",
       "      <td>0.690063</td>\n",
       "      <td>1.460629</td>\n",
       "      <td>3.787425</td>\n",
       "      <td>0.076441</td>\n",
       "      <td>1.282197</td>\n",
       "      <td>-2.197634</td>\n",
       "      <td>-0.586912</td>\n",
       "      <td>0.207281</td>\n",
       "      <td>-0.906976</td>\n",
       "    </tr>\n",
       "  </tbody>\n",
       "</table>\n",
       "<p>5 rows × 30 columns</p>\n",
       "</div>"
      ],
      "text/plain": [
       "        Close    Volume     EMA_7    EMA_14    EMA_21     SMA_7    SMA_14  \\\n",
       "500 -0.586759  0.718521 -0.725941 -0.794212 -0.861787 -0.745251 -0.748905   \n",
       "501 -0.650690 -0.444215 -0.708600 -0.776571 -0.844034 -0.737822 -0.740482   \n",
       "502 -0.703747 -0.650799 -0.709025 -0.768534 -0.832895 -0.729285 -0.731869   \n",
       "503 -0.732619 -0.304666 -0.716653 -0.765515 -0.825489 -0.715939 -0.727467   \n",
       "504 -0.906976 -0.513727 -0.766512 -0.786729 -0.835188 -0.729204 -0.744258   \n",
       "\n",
       "       SMA_21  MACD_12_26_9  MACDh_12_26_9  ...        3M  FTSE_H-L  FTSE_O-C  \\\n",
       "500 -0.830099      0.857920       0.142893  ... -0.414669 -0.110213 -0.940828   \n",
       "501 -0.809370      0.863578       0.128215  ... -0.412881 -0.151148  0.541553   \n",
       "502 -0.787001      0.822823       0.005250  ... -0.412881  0.303229  0.451050   \n",
       "503 -0.772880      0.762045      -0.141106  ... -0.412881 -0.251439  0.249758   \n",
       "504 -0.773054      0.590776      -0.522973  ... -0.412881  0.690063  1.460629   \n",
       "\n",
       "     GBP_USD_H-L  GBP_USD_O-C  Gold_H-L  Gold_O-C  Crude_H-L  Crude_O-C  \\\n",
       "500     0.159355     0.441655  1.705116 -0.309942  -0.730894   0.295629   \n",
       "501     1.923313    -0.106166  1.385769  0.666877  -0.518520   0.365571   \n",
       "502     0.252315     1.465842  1.066422  1.643696  -0.306146   0.435514   \n",
       "503    -0.777813    -0.205409  0.013439 -0.285212  -0.817284   0.192556   \n",
       "504     3.787425     0.076441  1.282197 -2.197634  -0.586912   0.207281   \n",
       "\n",
       "     Close_copy  \n",
       "500   -0.586759  \n",
       "501   -0.650690  \n",
       "502   -0.703747  \n",
       "503   -0.732619  \n",
       "504   -0.906976  \n",
       "\n",
       "[5 rows x 30 columns]"
      ]
     },
     "execution_count": 24,
     "metadata": {},
     "output_type": "execute_result"
    }
   ],
   "source": [
    "df.head()"
   ]
  },
  {
   "cell_type": "code",
   "execution_count": 29,
   "id": "465d24a1",
   "metadata": {
    "tags": []
   },
   "outputs": [],
   "source": [
    "sequence_length = 30\n",
    "window =6\n",
    "\n",
    "def create_dataset(dataset,target,features, lookback, window):\n",
    "    X_store, y_store = [], []\n",
    "    for i in range(0,len(dataset)-lookback-window,3):\n",
    "        X = (dataset[features].values)[i:i+lookback]\n",
    "        y = (dataset[target].values)[i+lookback:i+lookback+window]\n",
    "        X_store.append(X)\n",
    "        y_store.append(y)\n",
    "    return torch.FloatTensor(np.array(X_store)), torch.FloatTensor(np.array(y_store))"
   ]
  },
  {
   "cell_type": "code",
   "execution_count": 30,
   "id": "ab3dd779-b16d-42ba-8a5d-de7320dfb63d",
   "metadata": {
    "tags": []
   },
   "outputs": [
    {
     "name": "stdout",
     "output_type": "stream",
     "text": [
      "Total sample 2758\n",
      "Train sample 2647\n",
      "Test sample 111\n"
     ]
    }
   ],
   "source": [
    "# Split train test data\n",
    "from sklearn.model_selection import train_test_split\n",
    "# df_train, df_test = train_test_split(df, test_size=0.05)\n",
    "size=int(len(df)*0.96)\n",
    "df_train=df[:size]\n",
    "df_test=df[size:]\n",
    "print('Total sample', len(df))\n",
    "print('Train sample', len(df_train))\n",
    "print('Test sample', len(df_test))"
   ]
  },
  {
   "cell_type": "code",
   "execution_count": 31,
   "id": "d7d9dd35-23f7-4dc4-91ba-098187905bff",
   "metadata": {
    "tags": []
   },
   "outputs": [
    {
     "name": "stdout",
     "output_type": "stream",
     "text": [
      "torch.Size([871, 30, 29]) torch.Size([871, 6])\n"
     ]
    }
   ],
   "source": [
    "# Train data\n",
    "X_train, y_train = create_dataset(\n",
    "    df_train,\n",
    "    target=target,\n",
    "    features=features,\n",
    "    lookback=sequence_length, window=window)\n",
    "\n",
    "indices = tf.range(start=0, limit=tf.shape(X_train)[0])\n",
    "shuffled_indices = tf.random.shuffle(indices)\n",
    "X_train = tf.gather(X_train, shuffled_indices)\n",
    "y_train = tf.gather(y_train, shuffled_indices)\n",
    "\n",
    "X_train=torch.FloatTensor(np.array(X_train))\n",
    "y_train=torch.FloatTensor(np.array(y_train))\n",
    "\n",
    "print(X_train.shape, y_train.shape)"
   ]
  },
  {
   "cell_type": "code",
   "execution_count": 32,
   "id": "e1cb0e19-9cf5-4dba-b1de-f2512f33bf06",
   "metadata": {
    "tags": []
   },
   "outputs": [
    {
     "name": "stdout",
     "output_type": "stream",
     "text": [
      "torch.Size([25, 30, 29]) torch.Size([25, 6])\n"
     ]
    }
   ],
   "source": [
    "# Test data\n",
    "X_test, y_test = create_dataset(\n",
    "    df_test,\n",
    "    target=target,\n",
    "    features=features,\n",
    "    lookback=sequence_length, window=window)\n",
    "\n",
    "X_test=torch.FloatTensor(np.array(X_test))\n",
    "y_test=torch.FloatTensor(np.array(y_test))\n",
    "\n",
    "print(X_test.shape, y_test.shape)"
   ]
  },
  {
   "cell_type": "code",
   "execution_count": 33,
   "id": "8858fa34-b301-43da-b1be-51489ed010a9",
   "metadata": {
    "tags": []
   },
   "outputs": [],
   "source": [
    "batch_size=10\n",
    "train_loader = DataLoader(data.TensorDataset(X_train, y_train), shuffle=True, batch_size=batch_size)\n",
    "test_loader= DataLoader(data.TensorDataset(X_test, y_test), shuffle=True, batch_size=batch_size)"
   ]
  },
  {
   "cell_type": "code",
   "execution_count": null,
   "id": "68d39842-b139-40fb-a164-d8b8f452010f",
   "metadata": {},
   "outputs": [],
   "source": []
  },
  {
   "cell_type": "markdown",
   "id": "b15a96e7",
   "metadata": {},
   "source": [
    "## QLSTM-DRC"
   ]
  },
  {
   "cell_type": "code",
   "execution_count": 34,
   "id": "17e97ab8",
   "metadata": {
    "tags": []
   },
   "outputs": [],
   "source": [
    "def train_model(data_loader, model, loss_function, optimizer):\n",
    "    num_batches = len(data_loader)\n",
    "    total_loss = 0\n",
    "    model.train()\n",
    "    \n",
    "    for X, y in data_loader:\n",
    "        output = model(X)\n",
    "        loss = loss_function(output, y)\n",
    "\n",
    "        optimizer.zero_grad()\n",
    "        loss.backward()\n",
    "        optimizer.step()\n",
    "\n",
    "        total_loss += loss.item()\n",
    "\n",
    "    avg_loss = total_loss / num_batches\n",
    "    print(f\"Train loss: {avg_loss}\")\n",
    "    return avg_loss\n",
    "\n",
    "def test_model(data_loader, model, loss_function):\n",
    "    \n",
    "    num_batches = len(data_loader)\n",
    "    total_loss = 0\n",
    "\n",
    "    model.eval()\n",
    "    with torch.no_grad():\n",
    "        for X, y in data_loader:\n",
    "            output = model(X)\n",
    "            total_loss += loss_function(output, y).item()\n",
    "\n",
    "    avg_loss = total_loss / num_batches\n",
    "    print(f\"Test loss: {avg_loss}\")\n",
    "    return avg_loss"
   ]
  },
  {
   "cell_type": "code",
   "execution_count": 35,
   "id": "32c8e360",
   "metadata": {
    "tags": []
   },
   "outputs": [],
   "source": [
    "class QLSTM(nn.Module):\n",
    "    def __init__(self, \n",
    "                input_size, \n",
    "                hidden_size, \n",
    "                n_qubits=6, # number of Qubits\n",
    "                n_inp_size=18, # Decide the number of input to quantum model\n",
    "                n_qlayers=12, #  \n",
    "                n_vrotations=3,\n",
    "                batch_first=True,\n",
    "                return_sequences=False, \n",
    "                return_state=False,\n",
    "                backend=\"default.qubit\"):\n",
    "        super(QLSTM, self).__init__()\n",
    "        self.n_inputs = input_size \n",
    "        self.hidden_size = hidden_size\n",
    "        self.n_inp_size=n_inp_size\n",
    "        self.concat_size = self.n_inputs + self.hidden_size\n",
    "        self.n_qubits = n_qubits\n",
    "        self.n_qlayers = n_qlayers\n",
    "        self.n_vrotations = n_vrotations\n",
    "        self.backend = backend  # \"default.qubit\", \"qiskit.basicaer\", \"qiskit.ibm\"\n",
    "\n",
    "        self.batch_first = batch_first\n",
    "        self.return_sequences = return_sequences\n",
    "        self.return_state = return_state\n",
    "        \n",
    "        self.wires_forget = [f\"wire_forget_{i}\" for i in range(self.n_qubits)]\n",
    "        self.wires_input = [f\"wire_input_{i}\" for i in range(self.n_qubits)]\n",
    "        self.wires_update = [f\"wire_update_{i}\" for i in range(self.n_qubits)]\n",
    "        self.wires_output = [f\"wire_output_{i}\" for i in range(self.n_qubits)]\n",
    "\n",
    "        self.dev_forget = qml.device(self.backend, wires=self.wires_forget, shots=None)\n",
    "        self.dev_input = qml.device(self.backend, wires=self.wires_input, shots=None)\n",
    "        self.dev_update = qml.device(self.backend, wires=self.wires_update, shots=None)\n",
    "        self.dev_output = qml.device(self.backend, wires=self.wires_output, shots=None)\n",
    "        \n",
    "        # NO-DRC circuit\n",
    "        def VQC(inputs, weights, wires_type): # inputs, weights, self.wires_update  \n",
    "            qml.Rot(*inputs[:3], wires=wires_type[0])\n",
    "            qml.Rot(*inputs[3:6], wires=wires_type[1])\n",
    "            qml.Rot(*inputs[6:9], wires=wires_type[2])\n",
    "            qml.Rot(*inputs[9:12], wires=wires_type[3])\n",
    "            qml.Rot(*inputs[12:15], wires=wires_type[4])\n",
    "            qml.Rot(*inputs[15:18], wires=wires_type[5])\n",
    "            for p1,p2,p3,p4,p5,p6 in zip(weights[:2],weights[2:4],weights[4:6],weights[6:8],weights[8:10],weights[10:12]):\n",
    "                qml.CNOT(wires=[wires_type[0], wires_type[1]])\n",
    "                qml.CNOT(wires=[wires_type[1], wires_type[2]])\n",
    "                qml.CNOT(wires=[wires_type[2], wires_type[3]]) \n",
    "                qml.CNOT(wires=[wires_type[3], wires_type[4]])\n",
    "                qml.CNOT(wires=[wires_type[4], wires_type[5]])\n",
    "                qml.Rot(*p1, wires=wires_type[0])\n",
    "                qml.Rot(*p2, wires=wires_type[1])\n",
    "                qml.Rot(*p3, wires=wires_type[2])\n",
    "                qml.Rot(*p4, wires=wires_type[3])\n",
    "                qml.Rot(*p5, wires=wires_type[4])\n",
    "                qml.Rot(*p6, wires=wires_type[5])\n",
    "               \n",
    "        def _circuit_forget(inputs, weights):\n",
    "            VQC(inputs, weights, self.wires_forget)\n",
    "            return [qml.expval(qml.PauliZ(wires=i)) for i in self.wires_forget]\n",
    "        self.qlayer_forget = qml.QNode(_circuit_forget, self.dev_forget, interface=\"torch\", diff_method='backprop')\n",
    "\n",
    "        def _circuit_input(inputs, weights):\n",
    "            VQC(inputs, weights, self.wires_input)\n",
    "            return [qml.expval(qml.PauliZ(wires=i)) for i in self.wires_input]\n",
    "        self.qlayer_input = qml.QNode(_circuit_input, self.dev_input, interface=\"torch\", diff_method='backprop')\n",
    "\n",
    "        def _circuit_update(inputs, weights):\n",
    "            VQC(inputs, weights, self.wires_update)\n",
    "            return [qml.expval(qml.PauliZ(wires=i)) for i in self.wires_update]\n",
    "        self.qlayer_update = qml.QNode(_circuit_update, self.dev_update, interface=\"torch\", diff_method='backprop')\n",
    "\n",
    "        def _circuit_output(inputs, weights):\n",
    "            VQC(inputs, weights, self.wires_output)\n",
    "            return [qml.expval(qml.PauliZ(wires=i)) for i in self.wires_output]\n",
    "        self.qlayer_output = qml.QNode(_circuit_output, self.dev_output, interface=\"torch\", diff_method='backprop')\n",
    "\n",
    "        weight_shapes = {\"weights\": (self.n_qlayers, self.n_vrotations)}\n",
    "        print(f\"weight_shapes = (n_qlayers, n_vrotations) = ({self.n_qlayers}, {self.n_vrotations})\")\n",
    "\n",
    "        self.clayer_in = torch.nn.Linear(self.concat_size, self.n_inp_size)\n",
    "        self.VQC = {\n",
    "            'forget': qml.qnn.TorchLayer(self.qlayer_forget, weight_shapes),\n",
    "            'input': qml.qnn.TorchLayer(self.qlayer_input, weight_shapes),\n",
    "            'update': qml.qnn.TorchLayer(self.qlayer_update, weight_shapes),\n",
    "            'output': qml.qnn.TorchLayer(self.qlayer_output, weight_shapes)\n",
    "        }\n",
    "        self.clayer_out = torch.nn.Linear(self.n_qubits, self.hidden_size)\n",
    "\n",
    "    def forward(self, x, init_states=None):\n",
    "        '''\n",
    "        x.shape is (batch_size, seq_length, feature_size)\n",
    "        recurrent_activation -> sigmoid\n",
    "        activation -> tanh\n",
    "        '''\n",
    "        if self.batch_first is True:\n",
    "            batch_size, seq_length, features_size = x.size()\n",
    "        else:\n",
    "            seq_length, batch_size, features_size = x.size()\n",
    "\n",
    "        hidden_seq = []\n",
    "        if init_states is None:\n",
    "            h_t = torch.zeros(batch_size, self.hidden_size)  # hidden state (output)\n",
    "            c_t = torch.zeros(batch_size, self.hidden_size)  # cell state\n",
    "        else:\n",
    "            # for now we ignore the fact that in PyTorch you can stack multiple RNNs\n",
    "            # so we take only the first elements of the init_states tuple init_states[0][0], init_states[1][0]\n",
    "            h_t, c_t = init_states\n",
    "            h_t = h_t[0]\n",
    "            c_t = c_t[0]\n",
    "\n",
    "        for t in range(seq_length):\n",
    "            # get features from the t-th element in seq, for all entries in the batch\n",
    "            x_t = x[:, t, :]\n",
    "            \n",
    "            # Concatenate input and hidden state\n",
    "            v_t = torch.cat((h_t, x_t), dim=1)\n",
    "\n",
    "            # match qubit dimension\n",
    "            y_t = self.clayer_in(v_t)\n",
    "\n",
    "            f_t = torch.sigmoid(self.clayer_out(self.VQC['forget'](y_t)))  # forget block\n",
    "            i_t = torch.sigmoid(self.clayer_out(self.VQC['input'](y_t)))  # input block\n",
    "            g_t = torch.tanh(self.clayer_out(self.VQC['update'](y_t)))  # update block\n",
    "            o_t = torch.sigmoid(self.clayer_out(self.VQC['output'](y_t))) # output block\n",
    "\n",
    "            c_t = (f_t * c_t) + (i_t * g_t)\n",
    "            h_t = o_t * torch.tanh(c_t)\n",
    "\n",
    "            hidden_seq.append(h_t.unsqueeze(0))\n",
    "        hidden_seq = torch.cat(hidden_seq, dim=0)\n",
    "        hidden_seq = hidden_seq.transpose(0, 1).contiguous()\n",
    "        return hidden_seq, (h_t, c_t)"
   ]
  },
  {
   "cell_type": "code",
   "execution_count": 39,
   "id": "f4f27880",
   "metadata": {
    "tags": []
   },
   "outputs": [],
   "source": [
    "class QShallowRegressionLSTM(nn.Module):\n",
    "    def __init__(self, num_sensors, hidden_units, n_qubits=6, n_qlayers=12): # n_qlayers decide the weights\n",
    "        super().__init__()\n",
    "        self.num_sensors = num_sensors  # this is the number of features\n",
    "        self.hidden_units = hidden_units\n",
    "        self.num_layers = 2 # Number of QLSTM layer\n",
    "\n",
    "        self.lstm = QLSTM(\n",
    "            input_size=num_sensors,\n",
    "            hidden_size=hidden_units,\n",
    "            batch_first=True,\n",
    "            n_qubits = n_qubits,\n",
    "            n_qlayers= n_qlayers\n",
    "        )\n",
    "\n",
    "        self.linear_1 = nn.Linear(in_features=self.hidden_units, out_features=1)\n",
    "        self.linear_2 = nn.Linear(in_features=30, out_features=6)\n",
    "\n",
    "    def forward(self, x):\n",
    "        batch_size = x.shape[0]\n",
    "        h0 = torch.zeros(self.num_layers, batch_size, self.hidden_units).requires_grad_()\n",
    "        c0 = torch.zeros(self.num_layers, batch_size, self.hidden_units).requires_grad_()\n",
    "        \n",
    "        out_l1, (hn, _) = self.lstm(x, (h0, c0))\n",
    "        out_l2 = self.linear_1(out_l1)\n",
    "        out = self.linear_2(torch.squeeze(out_l2))\n",
    "        return out"
   ]
  },
  {
   "cell_type": "code",
   "execution_count": 40,
   "id": "5ccb5d61",
   "metadata": {
    "tags": []
   },
   "outputs": [
    {
     "name": "stdout",
     "output_type": "stream",
     "text": [
      "weight_shapes = (n_qlayers, n_vrotations) = (12, 3)\n"
     ]
    }
   ],
   "source": [
    "learning_rate = 0.05\n",
    "num_hidden_units = 16\n",
    " \n",
    "Qmodel = QShallowRegressionLSTM(num_sensors=len(features), hidden_units=num_hidden_units, n_qubits=6) # Number of Qubits\n",
    "loss_function = nn.MSELoss()\n",
    "optimizer = torch.optim.Adagrad(Qmodel.parameters(), lr=learning_rate)"
   ]
  },
  {
   "cell_type": "code",
   "execution_count": null,
   "id": "02505957",
   "metadata": {
    "tags": []
   },
   "outputs": [
    {
     "name": "stdout",
     "output_type": "stream",
     "text": [
      "Epoch 0\n",
      "---------\n"
     ]
    },
    {
     "name": "stderr",
     "output_type": "stream",
     "text": [
      "/home/ec2-user/anaconda3/envs/Braket/lib/python3.10/site-packages/torch/nn/modules/loss.py:529: UserWarning: Using a target size (torch.Size([1, 6])) that is different to the input size (torch.Size([6])). This will likely lead to incorrect results due to broadcasting. Please ensure they have the same size.\n",
      "  return F.mse_loss(input, target, reduction=self.reduction)\n"
     ]
    },
    {
     "name": "stdout",
     "output_type": "stream",
     "text": [
      "Train loss: 0.25058370104736905\n",
      "Test loss: 0.06684860835472743\n",
      "Execution time 4481.398415803909\n",
      "Epoch 1\n",
      "---------\n",
      "Train loss: 0.0718173435465856\n",
      "Test loss: 0.02435303044815858\n",
      "Execution time 4494.7178654670715\n",
      "Epoch 3\n",
      "---------\n",
      "Train loss: 0.06157595559488982\n",
      "Test loss: 0.05188494548201561\n",
      "Execution time 4478.396293401718\n",
      "Epoch 4\n",
      "---------\n",
      "Train loss: 0.054859120451675895\n",
      "Test loss: 0.02891042393942674\n",
      "Execution time 4566.678709745407\n",
      "Epoch 5\n",
      "---------\n",
      "Train loss: 0.051645751471038566\n",
      "Test loss: 0.027353941773374874\n",
      "Execution time 4559.287553071976\n",
      "Epoch 6\n",
      "---------\n",
      "Train loss: 0.05068334604782814\n",
      "Test loss: 0.03344278410077095\n",
      "Execution time 4711.864957809448\n",
      "Epoch 7\n",
      "---------\n",
      "Train loss: 0.04823115152645518\n",
      "Test loss: 0.021603199342886608\n",
      "Execution time 4707.419192314148\n",
      "Epoch 8\n",
      "---------\n",
      "Train loss: 0.04586728435771709\n",
      "Test loss: 0.0270366333425045\n",
      "Execution time 4573.284925699234\n",
      "Epoch 9\n",
      "---------\n"
     ]
    }
   ],
   "source": [
    "quantum_loss_train = []\n",
    "quantum_loss_test = []\n",
    "num_epoch=10\n",
    "for ix_epoch in range(num_epoch):\n",
    "    print(f\"Epoch {ix_epoch}\\n---------\")\n",
    "    start = time.time()\n",
    "    train_loss = train_model(train_loader, Qmodel, loss_function, optimizer=optimizer)\n",
    "    end = time.time()\n",
    "    test_loss = test_model(test_loader, Qmodel, loss_function)\n",
    "    print(\"Execution time\", end - start)\n",
    "    quantum_loss_train.append(train_loss)\n",
    "    quantum_loss_test.append(test_loss)"
   ]
  },
  {
   "cell_type": "code",
   "execution_count": 42,
   "id": "44a2bce0-34aa-4611-83cd-c3b5673a6e9a",
   "metadata": {
    "tags": []
   },
   "outputs": [
    {
     "data": {
      "text/plain": [
       "[0.06684860835472743,\n",
       " 0.03279369976371527,\n",
       " 0.02435303044815858,\n",
       " 0.05188494548201561,\n",
       " 0.02891042393942674,\n",
       " 0.027353941773374874,\n",
       " 0.03344278410077095,\n",
       " 0.021603199342886608,\n",
       " 0.0270366333425045,\n",
       " 0.024611884107192356]"
      ]
     },
     "execution_count": 42,
     "metadata": {},
     "output_type": "execute_result"
    }
   ],
   "source": [
    "quantum_loss_test"
   ]
  },
  {
   "cell_type": "code",
   "execution_count": 45,
   "id": "aa16f316-2b04-439a-b788-17a7d9bc45b3",
   "metadata": {
    "tags": []
   },
   "outputs": [
    {
     "data": {
      "text/plain": [
       "[0.25058370104736905,\n",
       " 0.09632511977741326,\n",
       " 0.0718173435465856,\n",
       " 0.06157595559488982,\n",
       " 0.054859120451675895,\n",
       " 0.051645751471038566,\n",
       " 0.05068334604782814,\n",
       " 0.04823115152645518,\n",
       " 0.04586728435771709,\n",
       " 0.045101567298512564]"
      ]
     },
     "execution_count": 45,
     "metadata": {},
     "output_type": "execute_result"
    }
   ],
   "source": [
    "quantum_loss_train"
   ]
  },
  {
   "cell_type": "code",
   "execution_count": 46,
   "id": "fbc1709f",
   "metadata": {
    "tags": []
   },
   "outputs": [
    {
     "data": {
      "image/png": "[encoded data removed]",
      "text/plain": [
       "<Figure size 800x600 with 1 Axes>"
      ]
     },
     "metadata": {},
     "output_type": "display_data"
    }
   ],
   "source": [
    "plt.figure(figsize=(8, 6))\n",
    "plt.plot(range(num_epoch), quantum_loss_train, label='train')\n",
    "plt.plot(range(num_epoch), quantum_loss_test, label='test')\n",
    "plt.ylabel('Loss')\n",
    "plt.xlabel('Epoch')\n",
    "plt.legend()\n",
    "plt.show()"
   ]
  },
  {
   "cell_type": "code",
   "execution_count": 47,
   "id": "478ffa72",
   "metadata": {
    "tags": []
   },
   "outputs": [],
   "source": [
    "def predict(data_loader, model):\n",
    "    \"\"\"Just like `test_loop` function but keep track of the outputs instead of the loss\n",
    "    function.\n",
    "    \"\"\"\n",
    "    output = []\n",
    "    model.eval()\n",
    "    with torch.no_grad():\n",
    "        for X, _ in data_loader:\n",
    "            y_star = model(X)\n",
    "            output.append(y_star.numpy())  \n",
    "    return output"
   ]
  },
  {
   "cell_type": "code",
   "execution_count": null,
   "id": "aec3abbe",
   "metadata": {
    "tags": []
   },
   "outputs": [],
   "source": [
    "# Prepare data to evaluate training accuracy of lstm\n",
    "train_eval_loader = DataLoader(data.TensorDataset(X_train, y_train), shuffle=False, batch_size=batch_size)\n",
    "y_train_pred_lstm=predict(train_eval_loader, Qmodel)\n",
    "y_train_lstm=[]\n",
    "for X, y in train_eval_loader:\n",
    "    y_train_lstm.append(y)\n",
    "    \n",
    "# Prepare data to evaluate test accuracy of lstm\n",
    "test_eval_loader = DataLoader(data.TensorDataset(X_test, y_test), shuffle=False, batch_size=batch_size)\n",
    "y_test_pred_lstm=predict(test_eval_loader, Qmodel)\n",
    "y_test_lstm=[]\n",
    "for X, y in test_eval_loader:\n",
    "    y_test_lstm.append(y)"
   ]
  },
  {
   "cell_type": "code",
   "execution_count": null,
   "id": "1d45f169",
   "metadata": {
    "tags": []
   },
   "outputs": [],
   "source": [
    "from sklearn.metrics import mean_squared_error\n",
    "from sklearn.metrics import mean_absolute_error\n",
    "def cal_metrics(y_true,y_pred):\n",
    "    mae=0\n",
    "    rmse=0\n",
    "    for i in range(len(y_true)):\n",
    "        y1=y_true[i].flatten().numpy()* target_stdev + target_mean\n",
    "        y2=y_pred[i].flatten()* target_stdev + target_mean\n",
    "        mae=mean_absolute_error(y1, y2)+mae\n",
    "        rmse=mean_squared_error(y1, y2, squared=False)+rmse  \n",
    "    return mae/len(y_true) , rmse/len(y_true)"
   ]
  },
  {
   "cell_type": "code",
   "execution_count": null,
   "id": "7e05d2ce-68a6-4135-9f38-208eaf0baffa",
   "metadata": {
    "tags": []
   },
   "outputs": [],
   "source": [
    "import warnings\n",
    "warnings.filterwarnings(\"ignore\")"
   ]
  },
  {
   "cell_type": "code",
   "execution_count": 58,
   "id": "32adb12f",
   "metadata": {
    "tags": []
   },
   "outputs": [
    {
     "name": "stdout",
     "output_type": "stream",
     "text": [
      "MAE train error is 91.46921595660123\n",
      "RMSE train error is 119.08889302340421\n",
      "MAE test error is 68.85015360514323\n",
      "RMSE test error is 83.37227121988933\n"
     ]
    }
   ],
   "source": [
    "mae_train_qlstm, rmse_train_qlstm= cal_metrics(y_train_lstm,y_train_pred_lstm)\n",
    "print('MAE train error is',mae_train_qlstm)\n",
    "print('RMSE train error is',rmse_train_qlstm)\n",
    "mae_test_qlstm, rmse_test_qlstm= cal_metrics(y_test_lstm,y_test_pred_lstm)\n",
    "print('MAE test error is',mae_test_qlstm)\n",
    "print('RMSE test error is',rmse_test_qlstm)"
   ]
  },
  {
   "cell_type": "code",
   "execution_count": 55,
   "id": "f6907ba3",
   "metadata": {
    "tags": []
   },
   "outputs": [
    {
     "name": "stdout",
     "output_type": "stream",
     "text": [
      "No. of parameters for QLSTM:  1143\n"
     ]
    }
   ],
   "source": [
    "total_params_Q = sum(p.numel() for p in Qmodel.parameters() if p.requires_grad)\n",
    "\n",
    "print(\"No. of parameters for QLSTM: \", total_params_Q)"
   ]
  },
  {
   "cell_type": "code",
   "execution_count": null,
   "id": "2014698a",
   "metadata": {},
   "outputs": [],
   "source": []
  },
  {
   "cell_type": "code",
   "execution_count": null,
   "id": "08b3d21b-4820-41d0-93ee-90f87a4d9ccd",
   "metadata": {},
   "outputs": [],
   "source": []
  }
 ],
 "metadata": {
  "kernelspec": {
   "display_name": "Python 3",
   "language": "python",
   "name": "python3"
  },
  "language_info": {
   "codemirror_mode": {
    "name": "ipython",
    "version": 3
   },
   "file_extension": ".py",
   "mimetype": "text/x-python",
   "name": "python",
   "nbconvert_exporter": "python",
   "pygments_lexer": "ipython3",
   "version": "3.8.8"
  }
 },
 "nbformat": 4,
 "nbformat_minor": 5
}
