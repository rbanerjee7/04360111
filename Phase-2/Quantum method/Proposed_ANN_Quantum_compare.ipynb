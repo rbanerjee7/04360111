{
 "cells": [
  {
   "cell_type": "code",
   "execution_count": 287,
   "id": "a33a1f56",
   "metadata": {},
   "outputs": [],
   "source": [
    "# import helper\n",
    "import pandas as pd\n",
    "from utils import *\n",
    "import time\n",
    "import numpy as np\n",
    "import math\n",
    "import matplotlib.pyplot as plt\n",
    "import torch\n",
    "from torch.utils.data import DataLoader\n",
    "from torch import nn\n",
    "from IPython.display import Image\n",
    "import torch\n",
    "from torch import nn\n",
    "from torch.utils.data import Dataset\n",
    "import pennylane as qml\n",
    "import torch.optim as optim\n",
    "import torch.utils.data as data\n",
    "import random\n",
    "import tensorflow as tf"
   ]
  },
  {
   "cell_type": "code",
   "execution_count": 288,
   "id": "589a4ff5",
   "metadata": {},
   "outputs": [],
   "source": [
    "tf.random.set_seed(15)\n",
    "torch.manual_seed(42)\n",
    "random.seed(42)\n",
    "plt.rcParams[\"font.weight\"] = \"bold\"\n",
    "plt.rcParams[\"axes.labelweight\"] = \"bold\"\n",
    "plt.rcParams.update({'font.size':20})\n",
    "legend_prop = {'weight':'bold'}\n",
    "from pylab import rcParams\n",
    "rcParams['axes.linewidth'] = 2"
   ]
  },
  {
   "cell_type": "markdown",
   "id": "8dcf2258",
   "metadata": {},
   "source": [
    "## Data : We use the same data as used on Classical solutions"
   ]
  },
  {
   "cell_type": "code",
   "execution_count": 289,
   "id": "31c36071",
   "metadata": {},
   "outputs": [],
   "source": [
    "df = pd.read_csv('Processed_data.csv')\n",
    "df = df.drop([ 'Unnamed: 0'], axis=1)\n",
    "# Used data from Aug 2013 till 1st March 2024 \n",
    "df=df[500:]\n",
    "# Remove few redundant data\n",
    "df=df.drop(columns=['Date'])\n",
    "df=df.drop(columns=['CUMLOGRET_1'])\n",
    "df=df.drop(columns=['Gold in USD volume'])\n",
    "df=df.drop(columns=['Open'])\n",
    "df=df.drop(columns=['High'])\n",
    "df=df.drop(columns=['Low'])"
   ]
  },
  {
   "cell_type": "code",
   "execution_count": 290,
   "id": "0c94a0b3",
   "metadata": {},
   "outputs": [
    {
     "name": "stdout",
     "output_type": "stream",
     "text": [
      "['3M', 'BBB_20_2.0', 'BBL_20_2.0', 'BBM_20_2.0', 'BBP_20_2.0', 'BBU_20_2.0', 'Close_copy', 'Crude Futures_close', 'Crude Futures_volume', 'Crude_H-L', 'Crude_O-C', 'EMA_14', 'EMA_21', 'EMA_7', 'FTSE_H-L', 'FTSE_O-C', 'GBP USD ', 'GBP_USD_H-L', 'GBP_USD_O-C', 'Gold in USD close', 'Gold_H-L', 'Gold_O-C', 'MACD_12_26_9', 'MACDh_12_26_9', 'MACDs_12_26_9', 'SMA_14', 'SMA_21', 'SMA_7', 'Volume']\n",
      "29\n"
     ]
    }
   ],
   "source": [
    "# Set target and features\n",
    "target = \"Close\"\n",
    "features = list(df.columns.difference([\"Close\"]))\n",
    "print(features)\n",
    "print(len(features))"
   ]
  },
  {
   "cell_type": "code",
   "execution_count": 291,
   "id": "a7e8c02c",
   "metadata": {},
   "outputs": [],
   "source": [
    "close_min=min(df['Close'].values)\n",
    "close_max=max(df['Close'].values)\n",
    "a=-1\n",
    "b=1\n",
    "normalized_df_2=(b-a)*((df-df.min())/(df.max()-df.min()))+a"
   ]
  },
  {
   "cell_type": "code",
   "execution_count": 292,
   "id": "224737ca",
   "metadata": {},
   "outputs": [],
   "source": [
    "target_mean = df[target].mean()\n",
    "target_stdev = df[target].std()\n",
    "\n",
    "for c in df.columns:\n",
    "    mean = df[c].mean()\n",
    "    stdev = df[c].std()\n",
    "\n",
    "    df[c] = (df[c] - mean) / stdev"
   ]
  },
  {
   "cell_type": "code",
   "execution_count": 293,
   "id": "42c6c93b",
   "metadata": {},
   "outputs": [],
   "source": [
    "df['Close']=normalized_df_2['Close']"
   ]
  },
  {
   "cell_type": "code",
   "execution_count": 294,
   "id": "039b0a65",
   "metadata": {},
   "outputs": [],
   "source": [
    "sequence_length = 30\n",
    "window =6\n",
    "\n",
    "def create_dataset(dataset,target,features, lookback, window):\n",
    "    X_store, y_store = [], []\n",
    "    for i in range(0,len(dataset)-lookback-window,3):\n",
    "        X = (dataset[features].values)[i:i+lookback]\n",
    "        y = (dataset[target].values)[i+lookback:i+lookback+window]\n",
    "        X_store.append(X)\n",
    "        y_store.append(y)\n",
    "    return np.array(X_store), np.array(y_store)"
   ]
  },
  {
   "cell_type": "code",
   "execution_count": 295,
   "id": "074226b1",
   "metadata": {},
   "outputs": [
    {
     "name": "stdout",
     "output_type": "stream",
     "text": [
      "Total sample 2758\n",
      "Train sample 2647\n",
      "Test sample 111\n"
     ]
    }
   ],
   "source": [
    "# Split train test data\n",
    "from sklearn.model_selection import train_test_split\n",
    "# df_train, df_test = train_test_split(df, test_size=0.05)\n",
    "size=int(len(df)*0.96)\n",
    "df_train=df[:size]\n",
    "df_test=df[size:]\n",
    "print('Total sample', len(df))\n",
    "print('Train sample', len(df_train))\n",
    "print('Test sample', len(df_test))"
   ]
  },
  {
   "cell_type": "code",
   "execution_count": 296,
   "id": "8f770680",
   "metadata": {},
   "outputs": [
    {
     "name": "stdout",
     "output_type": "stream",
     "text": [
      "(871, 30, 29) (871, 6)\n"
     ]
    }
   ],
   "source": [
    "# Train data\n",
    "X_train, y_train = create_dataset(\n",
    "    df_train,\n",
    "    target=target,\n",
    "    features=features,\n",
    "    lookback=sequence_length, window=window)\n",
    "\n",
    "indices = tf.range(start=0, limit=tf.shape(X_train)[0])\n",
    "shuffled_indices = tf.random.shuffle(indices)\n",
    "X_train = tf.gather(X_train, shuffled_indices)\n",
    "y_train = tf.gather(y_train, shuffled_indices)\n",
    "\n",
    "print(X_train.shape, y_train.shape)"
   ]
  },
  {
   "cell_type": "code",
   "execution_count": 297,
   "id": "18ebfb9c",
   "metadata": {},
   "outputs": [
    {
     "name": "stdout",
     "output_type": "stream",
     "text": [
      "(25, 30, 29) (25, 6)\n"
     ]
    }
   ],
   "source": [
    "# Test data\n",
    "X_test, y_test = create_dataset(\n",
    "    df_test,\n",
    "    target=target,\n",
    "    features=features,\n",
    "    lookback=sequence_length, window=window)\n",
    "\n",
    "print(X_test.shape, y_test.shape)"
   ]
  },
  {
   "cell_type": "markdown",
   "id": "8f8fea5d",
   "metadata": {},
   "source": [
    "# Proposed Approach"
   ]
  },
  {
   "cell_type": "code",
   "execution_count": 298,
   "id": "1d566a96",
   "metadata": {},
   "outputs": [],
   "source": [
    "from tensorflow.keras import regularizers, initializers\n",
    "from keras.layers import Input, Dense, Reshape, Embedding, concatenate, Dropout, Flatten\n",
    "from keras.layers.merge import Dot\n",
    "from keras.preprocessing import sequence\n",
    "from keras import Model\n",
    "from keras.layers.advanced_activations import PReLU\n",
    "import tensorflow as tf"
   ]
  },
  {
   "cell_type": "code",
   "execution_count": 299,
   "id": "db67f875",
   "metadata": {},
   "outputs": [
    {
     "name": "stdout",
     "output_type": "stream",
     "text": [
      "(None, 30, 29)\n",
      "(None, 30, 10)\n",
      "(None, 300)\n",
      "(None, 10)\n",
      "(None, 8)\n",
      "(None, 6)\n"
     ]
    }
   ],
   "source": [
    "input_ = Input((30,29)) # feature\n",
    "print(input_.shape)\n",
    "den1=Dense(10, use_bias=True,activation=PReLU() )(input_)\n",
    "print(den1.shape)\n",
    "den2=Flatten()(den1)\n",
    "print(den2.shape)\n",
    "den3=Dense(10, use_bias=True,activation=PReLU()  )(den2)\n",
    "print(den3.shape)\n",
    "den4=Dense(8, use_bias=True,activation=PReLU()  )(den3)\n",
    "print(den4.shape)\n",
    "den5=Dense(6, use_bias=True,activation=PReLU() )(den4)\n",
    "print(den5.shape)\n",
    "model = Model(inputs=[input_], outputs=den5)"
   ]
  },
  {
   "cell_type": "code",
   "execution_count": 300,
   "id": "4b9b963d",
   "metadata": {},
   "outputs": [
    {
     "name": "stdout",
     "output_type": "stream",
     "text": [
      "Model: \"model_13\"\n",
      "_________________________________________________________________\n",
      " Layer (type)                Output Shape              Param #   \n",
      "=================================================================\n",
      " input_14 (InputLayer)       [(None, 30, 29)]          0         \n",
      "                                                                 \n",
      " dense_52 (Dense)            (None, 30, 10)            600       \n",
      "                                                                 \n",
      " flatten_13 (Flatten)        (None, 300)               0         \n",
      "                                                                 \n",
      " dense_53 (Dense)            (None, 10)                3020      \n",
      "                                                                 \n",
      " dense_54 (Dense)            (None, 8)                 96        \n",
      "                                                                 \n",
      " dense_55 (Dense)            (None, 6)                 60        \n",
      "                                                                 \n",
      "=================================================================\n",
      "Total params: 3,776\n",
      "Trainable params: 3,776\n",
      "Non-trainable params: 0\n",
      "_________________________________________________________________\n"
     ]
    }
   ],
   "source": [
    "model.summary()"
   ]
  },
  {
   "cell_type": "code",
   "execution_count": 301,
   "id": "204569b1",
   "metadata": {},
   "outputs": [],
   "source": [
    "loss_fn = tf.keras.losses.MeanSquaredError()\n",
    "opt = tf.keras.optimizers.Adam(learning_rate=0.001)\n",
    "model.compile(opt, loss=loss_fn)"
   ]
  },
  {
   "cell_type": "code",
   "execution_count": 302,
   "id": "ef8e9ef8",
   "metadata": {},
   "outputs": [
    {
     "name": "stdout",
     "output_type": "stream",
     "text": [
      "Epoch 1/15\n",
      "871/871 [==============================] - 1s 921us/step - loss: 0.0671 - val_loss: 0.0065\n",
      "Epoch 2/15\n",
      "871/871 [==============================] - 1s 716us/step - loss: 0.0199 - val_loss: 0.0172\n",
      "Epoch 3/15\n",
      "871/871 [==============================] - 1s 724us/step - loss: 0.0142 - val_loss: 0.0097\n",
      "Epoch 4/15\n",
      "871/871 [==============================] - 1s 846us/step - loss: 0.0123 - val_loss: 0.0048\n",
      "Epoch 5/15\n",
      "871/871 [==============================] - 1s 740us/step - loss: 0.0105 - val_loss: 0.0035\n",
      "Epoch 6/15\n",
      "871/871 [==============================] - 1s 790us/step - loss: 0.0104 - val_loss: 0.0049\n",
      "Epoch 7/15\n",
      "871/871 [==============================] - 1s 874us/step - loss: 0.0096 - val_loss: 0.0047\n",
      "Epoch 8/15\n",
      "871/871 [==============================] - 1s 893us/step - loss: 0.0092 - val_loss: 0.0068\n",
      "Epoch 9/15\n",
      "871/871 [==============================] - 1s 758us/step - loss: 0.0095 - val_loss: 0.0059\n",
      "Epoch 10/15\n",
      "871/871 [==============================] - 1s 727us/step - loss: 0.0085 - val_loss: 0.0064\n",
      "Epoch 11/15\n",
      "871/871 [==============================] - 1s 724us/step - loss: 0.0088 - val_loss: 0.0043\n",
      "Epoch 12/15\n",
      "871/871 [==============================] - 1s 725us/step - loss: 0.0081 - val_loss: 0.0124\n",
      "Epoch 13/15\n",
      "871/871 [==============================] - 1s 728us/step - loss: 0.0078 - val_loss: 0.0062\n",
      "Epoch 14/15\n",
      "871/871 [==============================] - 1s 770us/step - loss: 0.0077 - val_loss: 0.0099\n",
      "Epoch 15/15\n",
      "871/871 [==============================] - 1s 826us/step - loss: 0.0077 - val_loss: 0.0054\n"
     ]
    }
   ],
   "source": [
    "model_history = model.fit(X_train, y_train,\n",
    "                    validation_data=(X_test, y_test),\n",
    "                   batch_size=1, \n",
    "                   epochs=15, shuffle=True\n",
    "                   )"
   ]
  },
  {
   "cell_type": "code",
   "execution_count": 303,
   "id": "c8b18407",
   "metadata": {},
   "outputs": [
    {
     "data": {
      "text/plain": [
       "[0.06708294153213501,\n",
       " 0.019941307604312897,\n",
       " 0.014155708253383636,\n",
       " 0.012348377145826817,\n",
       " 0.01051285769790411,\n",
       " 0.010377504862844944,\n",
       " 0.009591298177838326,\n",
       " 0.009211504831910133,\n",
       " 0.009527436457574368,\n",
       " 0.008504248224198818,\n",
       " 0.008782656863331795,\n",
       " 0.008089661598205566,\n",
       " 0.00783243216574192,\n",
       " 0.007729311008006334,\n",
       " 0.007659022696316242]"
      ]
     },
     "execution_count": 303,
     "metadata": {},
     "output_type": "execute_result"
    }
   ],
   "source": [
    "model_history.history['loss']"
   ]
  },
  {
   "cell_type": "code",
   "execution_count": 304,
   "id": "5e5c5f8e",
   "metadata": {},
   "outputs": [
    {
     "data": {
      "text/plain": [
       "[0.006516306195408106,\n",
       " 0.01721298135817051,\n",
       " 0.009740255773067474,\n",
       " 0.0048342738300561905,\n",
       " 0.0035276426933705807,\n",
       " 0.0048768226988613605,\n",
       " 0.004744355566799641,\n",
       " 0.006800520233809948,\n",
       " 0.0058693792670965195,\n",
       " 0.006434311158955097,\n",
       " 0.004349349066615105,\n",
       " 0.01235631387680769,\n",
       " 0.006167810410261154,\n",
       " 0.00987826194614172,\n",
       " 0.005404644645750523]"
      ]
     },
     "execution_count": 304,
     "metadata": {},
     "output_type": "execute_result"
    }
   ],
   "source": [
    "model_history.history['val_loss']"
   ]
  },
  {
   "cell_type": "code",
   "execution_count": 305,
   "id": "75041d72",
   "metadata": {},
   "outputs": [
    {
     "data": {
      "image/png": "[encoded data removed]",
      "text/plain": [
       "<Figure size 432x288 with 1 Axes>"
      ]
     },
     "metadata": {
      "needs_background": "light"
     },
     "output_type": "display_data"
    }
   ],
   "source": [
    "import keras\n",
    "from matplotlib import pyplot as plt\n",
    "plt.plot(model_history.history['loss'])\n",
    "plt.plot(model_history.history['val_loss'])\n",
    "plt.ylabel('Loss')\n",
    "plt.xlabel('Epoch')\n",
    "plt.legend(['train', 'test'], loc='upper left')\n",
    "plt.show()"
   ]
  },
  {
   "cell_type": "code",
   "execution_count": 306,
   "id": "2743fe26",
   "metadata": {},
   "outputs": [],
   "source": [
    "from sklearn.metrics import mean_squared_error\n",
    "from sklearn.metrics import mean_absolute_error\n",
    "from sklearn.metrics import mean_absolute_percentage_error\n",
    "def cal_metrics(y_true,y_pred):\n",
    "    mae=0\n",
    "    rmse=0\n",
    "    for i in range(len(y_true)):\n",
    "        y1=((((y_true[i]-a)/(b-a))*(close_max - close_min))+close_min)\n",
    "        y2=((((y_pred[i]-a)/(b-a))*(close_max - close_min))+close_min)\n",
    "        mae=mean_absolute_error(y1, y2)+mae\n",
    "        rmse=mean_squared_error(y1, y2, squared=False)+rmse  \n",
    "    return mae/len(y_true) , rmse/len(y_true)"
   ]
  },
  {
   "cell_type": "code",
   "execution_count": 307,
   "id": "9a894421",
   "metadata": {},
   "outputs": [],
   "source": [
    "def mae_metric(actual, predicted):\n",
    "    sum_error = 0.0\n",
    "    for i in range(len(actual)):\n",
    "        sum_error += abs(predicted[i] - actual[i])\n",
    "    return sum_error/len(actual)\n",
    "\n",
    "def rmse_metric(actual, predicted):\n",
    "    sum_error = 0.0\n",
    "    for i in range(len(actual)):\n",
    "        sum_error += (predicted[i] - actual[i])**2\n",
    "    return (sum_error/len(actual))**0.5"
   ]
  },
  {
   "cell_type": "code",
   "execution_count": 308,
   "id": "d77309b6",
   "metadata": {},
   "outputs": [
    {
     "name": "stdout",
     "output_type": "stream",
     "text": [
      "MAE train error is 88.03908557049499\n",
      "RMSE train error is 104.84157891759116\n",
      "MAE test error is 92.37298268229164\n",
      "RMSE test error is 100.28553724896582\n"
     ]
    }
   ],
   "source": [
    "mae_train_pros, rmse_train_pros= cal_metrics(y_train,model.predict(X_train))\n",
    "print('MAE train error is',mae_train_pros)\n",
    "print('RMSE train error is',rmse_train_pros)\n",
    "\n",
    "mae_test_pros, rmse_test_pros= cal_metrics(y_test,model.predict(X_test))\n",
    "print('MAE test error is',mae_test_pros)\n",
    "print('RMSE test error is',rmse_test_pros)"
   ]
  },
  {
   "cell_type": "code",
   "execution_count": null,
   "id": "5b583bcb",
   "metadata": {},
   "outputs": [],
   "source": []
  },
  {
   "cell_type": "code",
   "execution_count": null,
   "id": "59af50a4",
   "metadata": {},
   "outputs": [],
   "source": []
  }
 ],
 "metadata": {
  "kernelspec": {
   "display_name": "Python 3",
   "language": "python",
   "name": "python3"
  },
  "language_info": {
   "codemirror_mode": {
    "name": "ipython",
    "version": 3
   },
   "file_extension": ".py",
   "mimetype": "text/x-python",
   "name": "python",
   "nbconvert_exporter": "python",
   "pygments_lexer": "ipython3",
   "version": "3.8.8"
  }
 },
 "nbformat": 4,
 "nbformat_minor": 5
}
