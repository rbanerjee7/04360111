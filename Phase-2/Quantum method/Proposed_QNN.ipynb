{
 "cells": [
  {
   "cell_type": "code",
   "execution_count": 1,
   "id": "a33a1f56",
   "metadata": {
    "tags": []
   },
   "outputs": [
    {
     "name": "stderr",
     "output_type": "stream",
     "text": [
      "2024-03-15 15:43:04.434855: W tensorflow/compiler/tf2tensorrt/utils/py_utils.cc:38] TF-TRT Warning: Could not find TensorRT\n"
     ]
    }
   ],
   "source": [
    "import pandas as pd\n",
    "from pennylane import numpy as np\n",
    "import math\n",
    "import pennylane as qml\n",
    "import random\n",
    "import tensorflow as tf\n",
    "import time\n",
    "import matplotlib.pyplot as plt\n",
    "import itertools"
   ]
  },
  {
   "cell_type": "code",
   "execution_count": 2,
   "id": "31c36071",
   "metadata": {
    "tags": []
   },
   "outputs": [],
   "source": [
    "tf.random.set_seed(15)\n",
    "random.seed(42)\n",
    "plt.rcParams[\"font.weight\"] = \"bold\"\n",
    "plt.rcParams[\"axes.labelweight\"] = \"bold\"\n",
    "plt.rcParams.update({'font.size':20})\n",
    "legend_prop = {'weight':'bold'}\n",
    "from pylab import rcParams\n",
    "rcParams['axes.linewidth'] = 2"
   ]
  },
  {
   "cell_type": "markdown",
   "id": "e3dd4487",
   "metadata": {},
   "source": [
    "# Data"
   ]
  },
  {
   "cell_type": "code",
   "execution_count": 3,
   "id": "b38a0ac0",
   "metadata": {
    "tags": []
   },
   "outputs": [],
   "source": [
    "df = pd.read_csv('Processed_data.csv')\n",
    "df = df.drop([ 'Unnamed: 0'], axis=1)\n",
    "# Used data from Aug 2013 till 1st March 2024 \n",
    "df=df[500:]\n",
    "# Remove few redundant data\n",
    "df=df.drop(columns=['Date'])\n",
    "df=df.drop(columns=['CUMLOGRET_1'])\n",
    "df=df.drop(columns=['Gold in USD volume'])\n",
    "df=df.drop(columns=['Open'])\n",
    "df=df.drop(columns=['High'])\n",
    "df=df.drop(columns=['Low'])"
   ]
  },
  {
   "cell_type": "code",
   "execution_count": 4,
   "id": "e600bc49",
   "metadata": {
    "tags": []
   },
   "outputs": [],
   "source": [
    "close_min=min(df['Close'].values)\n",
    "close_max=max(df['Close'].values)\n",
    "a=-1\n",
    "b=1\n",
    "normalized_df_2=(b-a)*((df-df.min())/(df.max()-df.min()))+a"
   ]
  },
  {
   "cell_type": "code",
   "execution_count": 5,
   "id": "1e2ae38d",
   "metadata": {
    "tags": []
   },
   "outputs": [],
   "source": [
    "a=0\n",
    "b=np.pi\n",
    "normalized_df=(b-a)*((df-df.min())/(df.max()-df.min()))+a"
   ]
  },
  {
   "cell_type": "code",
   "execution_count": 6,
   "id": "418c27b6",
   "metadata": {
    "tags": []
   },
   "outputs": [],
   "source": [
    "normalized_df['Close']=normalized_df_2['Close']"
   ]
  },
  {
   "cell_type": "code",
   "execution_count": 7,
   "id": "f3c9d62c",
   "metadata": {
    "tags": []
   },
   "outputs": [],
   "source": [
    "df=normalized_df.copy()"
   ]
  },
  {
   "cell_type": "code",
   "execution_count": 8,
   "id": "0f430c97",
   "metadata": {
    "tags": []
   },
   "outputs": [],
   "source": [
    "df['add1']=0"
   ]
  },
  {
   "cell_type": "code",
   "execution_count": 9,
   "id": "b2d0c95f",
   "metadata": {
    "tags": []
   },
   "outputs": [
    {
     "name": "stdout",
     "output_type": "stream",
     "text": [
      "['3M', 'BBB_20_2.0', 'BBL_20_2.0', 'BBM_20_2.0', 'BBP_20_2.0', 'BBU_20_2.0', 'Close_copy', 'Crude Futures_close', 'Crude Futures_volume', 'Crude_H-L', 'Crude_O-C', 'EMA_14', 'EMA_21', 'EMA_7', 'FTSE_H-L', 'FTSE_O-C', 'GBP USD ', 'GBP_USD_H-L', 'GBP_USD_O-C', 'Gold in USD close', 'Gold_H-L', 'Gold_O-C', 'MACD_12_26_9', 'MACDh_12_26_9', 'MACDs_12_26_9', 'SMA_14', 'SMA_21', 'SMA_7', 'Volume', 'add1']\n",
      "30\n"
     ]
    }
   ],
   "source": [
    "# Set target and features\n",
    "target = \"Close\"\n",
    "features = list(df.columns.difference([\"Close\"]))\n",
    "print(features)\n",
    "print(len(features))"
   ]
  },
  {
   "cell_type": "code",
   "execution_count": 10,
   "id": "5f764066",
   "metadata": {
    "tags": []
   },
   "outputs": [
    {
     "data": {
      "text/html": [
       "<div>\n",
       "<style scoped>\n",
       "    .dataframe tbody tr th:only-of-type {\n",
       "        vertical-align: middle;\n",
       "    }\n",
       "\n",
       "    .dataframe tbody tr th {\n",
       "        vertical-align: top;\n",
       "    }\n",
       "\n",
       "    .dataframe thead th {\n",
       "        text-align: right;\n",
       "    }\n",
       "</style>\n",
       "<table border=\"1\" class=\"dataframe\">\n",
       "  <thead>\n",
       "    <tr style=\"text-align: right;\">\n",
       "      <th></th>\n",
       "      <th>Close</th>\n",
       "      <th>Volume</th>\n",
       "      <th>EMA_7</th>\n",
       "      <th>EMA_14</th>\n",
       "      <th>EMA_21</th>\n",
       "      <th>SMA_7</th>\n",
       "      <th>SMA_14</th>\n",
       "      <th>SMA_21</th>\n",
       "      <th>MACD_12_26_9</th>\n",
       "      <th>MACDh_12_26_9</th>\n",
       "      <th>...</th>\n",
       "      <th>FTSE_H-L</th>\n",
       "      <th>FTSE_O-C</th>\n",
       "      <th>GBP_USD_H-L</th>\n",
       "      <th>GBP_USD_O-C</th>\n",
       "      <th>Gold_H-L</th>\n",
       "      <th>Gold_O-C</th>\n",
       "      <th>Crude_H-L</th>\n",
       "      <th>Crude_O-C</th>\n",
       "      <th>Close_copy</th>\n",
       "      <th>add1</th>\n",
       "    </tr>\n",
       "  </thead>\n",
       "  <tbody>\n",
       "    <tr>\n",
       "      <th>500</th>\n",
       "      <td>0.117799</td>\n",
       "      <td>0.810869</td>\n",
       "      <td>1.570742</td>\n",
       "      <td>1.352452</td>\n",
       "      <td>1.214416</td>\n",
       "      <td>1.591382</td>\n",
       "      <td>1.498519</td>\n",
       "      <td>1.405322</td>\n",
       "      <td>2.772839</td>\n",
       "      <td>1.910741</td>\n",
       "      <td>...</td>\n",
       "      <td>0.293720</td>\n",
       "      <td>1.126378</td>\n",
       "      <td>0.238316</td>\n",
       "      <td>1.190780</td>\n",
       "      <td>0.920019</td>\n",
       "      <td>1.243063</td>\n",
       "      <td>0.127631</td>\n",
       "      <td>1.040208</td>\n",
       "      <td>1.755835</td>\n",
       "      <td>0</td>\n",
       "    </tr>\n",
       "    <tr>\n",
       "      <th>501</th>\n",
       "      <td>0.095219</td>\n",
       "      <td>0.545773</td>\n",
       "      <td>1.581258</td>\n",
       "      <td>1.364587</td>\n",
       "      <td>1.227323</td>\n",
       "      <td>1.595772</td>\n",
       "      <td>1.503892</td>\n",
       "      <td>1.418889</td>\n",
       "      <td>2.774454</td>\n",
       "      <td>1.906973</td>\n",
       "      <td>...</td>\n",
       "      <td>0.283627</td>\n",
       "      <td>1.399911</td>\n",
       "      <td>0.448918</td>\n",
       "      <td>1.102716</td>\n",
       "      <td>0.819899</td>\n",
       "      <td>1.454706</td>\n",
       "      <td>0.166851</td>\n",
       "      <td>1.051275</td>\n",
       "      <td>1.720366</td>\n",
       "      <td>0</td>\n",
       "    </tr>\n",
       "    <tr>\n",
       "      <th>502</th>\n",
       "      <td>0.076480</td>\n",
       "      <td>0.498673</td>\n",
       "      <td>1.581000</td>\n",
       "      <td>1.370115</td>\n",
       "      <td>1.235421</td>\n",
       "      <td>1.600817</td>\n",
       "      <td>1.509387</td>\n",
       "      <td>1.433529</td>\n",
       "      <td>2.762821</td>\n",
       "      <td>1.875403</td>\n",
       "      <td>...</td>\n",
       "      <td>0.395664</td>\n",
       "      <td>1.383211</td>\n",
       "      <td>0.249414</td>\n",
       "      <td>1.355422</td>\n",
       "      <td>0.719779</td>\n",
       "      <td>1.666348</td>\n",
       "      <td>0.206071</td>\n",
       "      <td>1.062341</td>\n",
       "      <td>1.690931</td>\n",
       "      <td>0</td>\n",
       "    </tr>\n",
       "    <tr>\n",
       "      <th>503</th>\n",
       "      <td>0.066283</td>\n",
       "      <td>0.577589</td>\n",
       "      <td>1.576375</td>\n",
       "      <td>1.372192</td>\n",
       "      <td>1.240805</td>\n",
       "      <td>1.608703</td>\n",
       "      <td>1.512196</td>\n",
       "      <td>1.442771</td>\n",
       "      <td>2.745473</td>\n",
       "      <td>1.837829</td>\n",
       "      <td>...</td>\n",
       "      <td>0.258898</td>\n",
       "      <td>1.346068</td>\n",
       "      <td>0.126425</td>\n",
       "      <td>1.086763</td>\n",
       "      <td>0.389655</td>\n",
       "      <td>1.248421</td>\n",
       "      <td>0.111677</td>\n",
       "      <td>1.023901</td>\n",
       "      <td>1.674913</td>\n",
       "      <td>0</td>\n",
       "    </tr>\n",
       "    <tr>\n",
       "      <th>504</th>\n",
       "      <td>0.004701</td>\n",
       "      <td>0.529924</td>\n",
       "      <td>1.546141</td>\n",
       "      <td>1.357600</td>\n",
       "      <td>1.233754</td>\n",
       "      <td>1.600864</td>\n",
       "      <td>1.501484</td>\n",
       "      <td>1.442658</td>\n",
       "      <td>2.696586</td>\n",
       "      <td>1.739792</td>\n",
       "      <td>...</td>\n",
       "      <td>0.491047</td>\n",
       "      <td>1.569501</td>\n",
       "      <td>0.671479</td>\n",
       "      <td>1.132071</td>\n",
       "      <td>0.787428</td>\n",
       "      <td>0.834067</td>\n",
       "      <td>0.154221</td>\n",
       "      <td>1.026230</td>\n",
       "      <td>1.578181</td>\n",
       "      <td>0</td>\n",
       "    </tr>\n",
       "  </tbody>\n",
       "</table>\n",
       "<p>5 rows × 31 columns</p>\n",
       "</div>"
      ],
      "text/plain": [
       "        Close    Volume     EMA_7    EMA_14    EMA_21     SMA_7    SMA_14  \\\n",
       "500  0.117799  0.810869  1.570742  1.352452  1.214416  1.591382  1.498519   \n",
       "501  0.095219  0.545773  1.581258  1.364587  1.227323  1.595772  1.503892   \n",
       "502  0.076480  0.498673  1.581000  1.370115  1.235421  1.600817  1.509387   \n",
       "503  0.066283  0.577589  1.576375  1.372192  1.240805  1.608703  1.512196   \n",
       "504  0.004701  0.529924  1.546141  1.357600  1.233754  1.600864  1.501484   \n",
       "\n",
       "       SMA_21  MACD_12_26_9  MACDh_12_26_9  ...  FTSE_H-L  FTSE_O-C  \\\n",
       "500  1.405322      2.772839       1.910741  ...  0.293720  1.126378   \n",
       "501  1.418889      2.774454       1.906973  ...  0.283627  1.399911   \n",
       "502  1.433529      2.762821       1.875403  ...  0.395664  1.383211   \n",
       "503  1.442771      2.745473       1.837829  ...  0.258898  1.346068   \n",
       "504  1.442658      2.696586       1.739792  ...  0.491047  1.569501   \n",
       "\n",
       "     GBP_USD_H-L  GBP_USD_O-C  Gold_H-L  Gold_O-C  Crude_H-L  Crude_O-C  \\\n",
       "500     0.238316     1.190780  0.920019  1.243063   0.127631   1.040208   \n",
       "501     0.448918     1.102716  0.819899  1.454706   0.166851   1.051275   \n",
       "502     0.249414     1.355422  0.719779  1.666348   0.206071   1.062341   \n",
       "503     0.126425     1.086763  0.389655  1.248421   0.111677   1.023901   \n",
       "504     0.671479     1.132071  0.787428  0.834067   0.154221   1.026230   \n",
       "\n",
       "     Close_copy  add1  \n",
       "500    1.755835     0  \n",
       "501    1.720366     0  \n",
       "502    1.690931     0  \n",
       "503    1.674913     0  \n",
       "504    1.578181     0  \n",
       "\n",
       "[5 rows x 31 columns]"
      ]
     },
     "execution_count": 10,
     "metadata": {},
     "output_type": "execute_result"
    }
   ],
   "source": [
    "df.head()"
   ]
  },
  {
   "cell_type": "code",
   "execution_count": 11,
   "id": "67e4ebd6",
   "metadata": {
    "tags": []
   },
   "outputs": [],
   "source": [
    "sequence_length = 30\n",
    "window =6\n",
    "\n",
    "def create_dataset(dataset,target,features, lookback, window):\n",
    "    X_store, y_store = [], []\n",
    "    for i in range(0,len(dataset)-lookback-window,3):\n",
    "        X = (dataset[features].values)[i:i+lookback]\n",
    "        y = (dataset[target].values)[i+lookback:i+lookback+window]\n",
    "        X_store.append(X)\n",
    "        y_store.append(y)\n",
    "    return np.array(X_store), np.array(y_store)"
   ]
  },
  {
   "cell_type": "code",
   "execution_count": 12,
   "id": "2ed3764b",
   "metadata": {
    "tags": []
   },
   "outputs": [
    {
     "name": "stdout",
     "output_type": "stream",
     "text": [
      "Total sample 2758\n",
      "Train sample 2647\n",
      "Test sample 111\n"
     ]
    }
   ],
   "source": [
    "# Split train test data\n",
    "from sklearn.model_selection import train_test_split\n",
    "# df_train, df_test = train_test_split(df, test_size=0.05)\n",
    "size=int(len(df)*0.96)\n",
    "df_train=df[:size]\n",
    "df_test=df[size:]\n",
    "print('Total sample', len(df))\n",
    "print('Train sample', len(df_train))\n",
    "print('Test sample', len(df_test))"
   ]
  },
  {
   "cell_type": "code",
   "execution_count": 13,
   "id": "73d2c8c8",
   "metadata": {
    "tags": []
   },
   "outputs": [
    {
     "name": "stdout",
     "output_type": "stream",
     "text": [
      "(871, 30, 30) (871, 6)\n"
     ]
    },
    {
     "name": "stderr",
     "output_type": "stream",
     "text": [
      "2024-03-15 15:43:06.179598: E external/local_xla/xla/stream_executor/cuda/cuda_driver.cc:282] failed call to cuInit: CUDA_ERROR_NO_DEVICE: no CUDA-capable device is detected\n"
     ]
    }
   ],
   "source": [
    "# Train data\n",
    "X_train, y_train = create_dataset(\n",
    "    df_train,\n",
    "    target=target,\n",
    "    features=features,\n",
    "    lookback=sequence_length, window=window)\n",
    "\n",
    "indices = tf.range(start=0, limit=tf.shape(X_train)[0])\n",
    "shuffled_indices = tf.random.shuffle(indices)\n",
    "X_train = tf.gather(X_train, shuffled_indices)\n",
    "y_train = tf.gather(y_train, shuffled_indices)\n",
    "\n",
    "print(X_train.shape, y_train.shape)"
   ]
  },
  {
   "cell_type": "code",
   "execution_count": 14,
   "id": "0bf330ee",
   "metadata": {
    "tags": []
   },
   "outputs": [
    {
     "name": "stdout",
     "output_type": "stream",
     "text": [
      "(25, 30, 30) (25, 6)\n"
     ]
    }
   ],
   "source": [
    "# Test data\n",
    "X_test, y_test = create_dataset(\n",
    "    df_test,\n",
    "    target=target,\n",
    "    features=features,\n",
    "    lookback=sequence_length, window=window)\n",
    "\n",
    "print(X_test.shape, y_test.shape)"
   ]
  },
  {
   "cell_type": "code",
   "execution_count": 15,
   "id": "5062e423",
   "metadata": {
    "tags": []
   },
   "outputs": [
    {
     "data": {
      "text/plain": [
       "array([0.49807091, 0.40893943, 1.95671783, 1.78139437, 1.09359525,\n",
       "       1.64147411, 1.75999501, 0.90040677, 0.68958889, 0.56636414,\n",
       "       1.35704688, 1.63383859, 1.62012948, 1.71959071, 0.22054233,\n",
       "       1.40307772, 0.93827426, 0.22520515, 1.20354332, 0.65706315,\n",
       "       0.22188682, 1.18412503, 2.14917488, 1.76476801, 2.14425442,\n",
       "       1.715655  , 1.78350133, 1.75220262, 0.1543872 , 0.        ])"
      ]
     },
     "execution_count": 15,
     "metadata": {},
     "output_type": "execute_result"
    }
   ],
   "source": [
    "X_train[0][0].numpy()"
   ]
  },
  {
   "cell_type": "code",
   "execution_count": null,
   "id": "9b22f73b",
   "metadata": {},
   "outputs": [],
   "source": []
  },
  {
   "cell_type": "markdown",
   "id": "a09ae8b6",
   "metadata": {},
   "source": [
    "# QNN"
   ]
  },
  {
   "cell_type": "code",
   "execution_count": 16,
   "id": "7df9e0d9",
   "metadata": {
    "tags": []
   },
   "outputs": [],
   "source": [
    "nqubits = 10\n",
    "device = qml.device('default.qubit', wires=nqubits)\n",
    "# Define Quantum layer(1)\n",
    "@qml.qnode(device)\n",
    "def quantum_circuit_1(inputs, params):\n",
    "    \n",
    "    m=3\n",
    "    k1=0 ; k2=k1+m ; k3=k2+m ; k4=k3+m ; k5=k4+m ; k6=k5+m ; k7=k6+m ; k8=k7+m ; k9=k8+m ; k10=k9+m ; k11=k10+m\n",
    "        \n",
    "    for p1,p2,p3,p4,p5,p6,p7,p8,p9,p10 in zip(params[k1:k2],params[k2:k3],params[k3:k4],\n",
    "                                                  params[k4:k5],params[k5:k6],params[k6:k7],params[k7:k8],\n",
    "                                                  params[k8:k9],params[k9:k10],params[k10:k11]):\n",
    "        \n",
    "        qml.Rot(*inputs[:3], wires=0)\n",
    "        qml.Rot(*inputs[3:6], wires=1)\n",
    "        qml.Rot(*inputs[6:9], wires=2)\n",
    "        qml.Rot(*inputs[9:12], wires=3)\n",
    "        qml.Rot(*inputs[12:15], wires=4)\n",
    "        qml.Rot(*inputs[15:18], wires=5)\n",
    "        qml.Rot(*inputs[18:21], wires=6)\n",
    "        qml.Rot(*inputs[21:24], wires=7)\n",
    "        qml.Rot(*inputs[24:27], wires=8)\n",
    "        qml.Rot(*inputs[27:30], wires=9)\n",
    "        \n",
    "        qml.Rot(*p1, wires=0)\n",
    "        qml.Rot(*p2, wires=1)\n",
    "        qml.Rot(*p3, wires=2)\n",
    "        qml.Rot(*p4, wires=3)\n",
    "        qml.Rot(*p5, wires=4)\n",
    "        qml.Rot(*p6, wires=5)\n",
    "        qml.Rot(*p7, wires=6)\n",
    "        qml.Rot(*p8, wires=7)\n",
    "        qml.Rot(*p9, wires=8)\n",
    "        qml.Rot(*p10, wires=9)\n",
    "        \n",
    "        qml.CNOT(wires=[0, 1])\n",
    "        qml.CNOT(wires=[1, 2])\n",
    "        qml.CNOT(wires=[2, 3])\n",
    "        qml.CNOT(wires=[3, 4]) \n",
    "        qml.CNOT(wires=[4, 5])\n",
    "        qml.CNOT(wires=[5, 6]) \n",
    "        qml.CNOT(wires=[6, 7])\n",
    "        qml.CNOT(wires=[7, 8])\n",
    "        qml.CNOT(wires=[8, 9])\n",
    "        \n",
    "    return [qml.expval(qml.PauliZ(k)) for k in range(nqubits)]"
   ]
  },
  {
   "cell_type": "code",
   "execution_count": 17,
   "id": "6b1aaaf5",
   "metadata": {
    "tags": []
   },
   "outputs": [],
   "source": [
    "device = qml.device('default.qubit', wires=12)\n",
    "# Define Quantum layer(2)\n",
    "@qml.qnode(device)\n",
    "def quantum_circuit_2(inputs, params):\n",
    "    \n",
    "    qml.RX(inputs[0], wires=0)\n",
    "    qml.RX(inputs[1], wires=1)\n",
    "    qml.RX(inputs[2], wires=2)\n",
    "    qml.RX(inputs[3], wires=3)\n",
    "    qml.RX(inputs[4], wires=4)\n",
    "    qml.RX(inputs[5], wires=5)\n",
    "    qml.RX(inputs[6], wires=6)\n",
    "    qml.RX(inputs[7], wires=7)\n",
    "    qml.RX(inputs[8], wires=8)\n",
    "    qml.RX(inputs[9], wires=9)\n",
    "    qml.RX(inputs[10], wires=10)\n",
    "    qml.RX(inputs[11], wires=11)\n",
    "    \n",
    "    m=2\n",
    "    k1=1234 ; k2=k1+m ; k3=k2+m ; k4=k3+m ; k5=k4+m ; k6=k5+m ; k7=k6+m ; k8=k7+m ; k9=k8+m ; k10=k9+m ; k11=k10+m\n",
    "    k12=k11+m ; k13=k12+m \n",
    "    \n",
    "#     print('Parameters in Second Qauntum circuit is till',k13)\n",
    "#     print('Total parameter in Circuit 2',k13-k1)\n",
    "        \n",
    "    for p1,p2,p3,p4,p5,p6,p7,p8,p9,p10,p11,p12 in zip(params[k1:k2],params[k2:k3],params[k3:k4],\n",
    "                                                  params[k4:k5],params[k5:k6],params[k6:k7],params[k7:k8],\n",
    "                                                  params[k8:k9],params[k9:k10],params[k10:k11],params[k11:k12]\n",
    "                                                      ,params[k12:k13]):\n",
    "        \n",
    "        qml.CNOT(wires=[0, 1])\n",
    "        qml.CNOT(wires=[1, 2])\n",
    "        qml.CNOT(wires=[2, 3])\n",
    "        qml.CNOT(wires=[3, 4]) \n",
    "        qml.CNOT(wires=[4, 5])\n",
    "        qml.CNOT(wires=[5, 6]) \n",
    "        qml.CNOT(wires=[6, 7])\n",
    "        qml.CNOT(wires=[7, 8])\n",
    "        qml.CNOT(wires=[8, 9])\n",
    "        qml.CNOT(wires=[9, 10])\n",
    "        qml.CNOT(wires=[10, 11])\n",
    "        \n",
    "        qml.Rot(*p1, wires=0)\n",
    "        qml.Rot(*p2, wires=1)\n",
    "        qml.Rot(*p3, wires=2)\n",
    "        qml.Rot(*p4, wires=3)\n",
    "        qml.Rot(*p5, wires=4)\n",
    "        qml.Rot(*p6, wires=5)\n",
    "        qml.Rot(*p7, wires=6)\n",
    "        qml.Rot(*p8, wires=7)\n",
    "        qml.Rot(*p9, wires=8)\n",
    "        qml.Rot(*p10, wires=9)\n",
    "        qml.Rot(*p10, wires=10)\n",
    "        qml.Rot(*p11, wires=11)\n",
    "        \n",
    "    return [qml.expval(qml.PauliZ(k)) for k in range(12)]"
   ]
  },
  {
   "cell_type": "code",
   "execution_count": 38,
   "id": "f2af5cef",
   "metadata": {
    "tags": []
   },
   "outputs": [],
   "source": [
    "# Define loss function\n",
    "def loss_func(params,X,y):\n",
    "    \n",
    "    cost=0\n",
    "    \n",
    "    for j in range(len(X)):\n",
    "        \n",
    "        v1=[quantum_circuit_1(X[j][i].numpy(), params) for i in range(X.shape[1])]  \n",
    "\n",
    "        # Flatten \n",
    "        flat_list = list(itertools.chain(*v1))\n",
    "        v1_=np.array(flat_list)\n",
    "    #     print('v1 shape is',v1_.shape)    \n",
    "    #     print('Total parameter in Circuit 1',60)\n",
    "\n",
    "        m1=300\n",
    "        l1=30 ; l2=l1+m1 ; l3=l2+m1  ; l4=l3+m1 ; l5=l4+m1 \n",
    "        l6=l5+1 ; l7=l6+1 ; l8=l7+1 \n",
    "    #     print('Parameters in NN layer 1 start at',l1)\n",
    "\n",
    "        v2= np.add(np.concatenate((params[l5],params[l6],params[l7],params[l8])),np.dot(np.transpose(\n",
    "                                                                    v1_),\n",
    "                                                                                       np.hstack((params[l1:l2],\n",
    "                                                                                                  params[l2:l3],params[l3:l4],params[l4:l5])) ))\n",
    "\n",
    "\n",
    "        v3=np.where(v2 > 0, v2, v2 * 0.05) \n",
    "    #     print('Parameters in NN layer 1 end at',l8)\n",
    "    #     print('Total parameter in NN 1',l8-l1+1)\n",
    "\n",
    "        l9=l8+1\n",
    "    #     print('Parameters in Next circuit start at',l9)\n",
    "        v4=quantum_circuit_2(np.array(v3),params)\n",
    "\n",
    "        l11=1258\n",
    "        m1=12\n",
    "        l12=l11 ; l13=l12+m1 ; l14=l13+m1 ; l15=l14+m1 ; l16=l15+m1 ; l17=l16+m1\n",
    "        l18=l17+1 ; l19=l18+1 ; l20=l19+1 ; l21=l20+1 \n",
    "    #     print('Parameters in last layers start at',l12)\n",
    "        v5= np.add(np.concatenate((params[l17],params[l18],params[l19],params[l20],params[l21])),np.dot(np.transpose(\n",
    "                                                                    v4),\n",
    "                                                                                       np.hstack((params[l12:l13],\n",
    "                                                                                                  params[l13:l14],params[l14:l15],params[l15:l16],params[l16:l17])) ))\n",
    "        v6=np.where(v5 > 0, v5, v5 * 0.05)\n",
    "\n",
    "        m1=15\n",
    "        l23=l21+1 ; l24=l23+m1 ; l25=l24+m1 \n",
    "        l27=l25 ; l28=l27+1 \n",
    "        v7 = np.add(np.concatenate((params[l27],params[l28])),np.dot(np.transpose(\n",
    "                                                                    v6),\n",
    "                                                                                       np.hstack((params[l23:l24],\n",
    "                                                                                       params[l24:l25])) ))\n",
    "    #     print('Last parameters is',l28)\n",
    "    #     print('Total number of parameters in last is',l28-l12+1)\n",
    "\n",
    "        cost=cost+np.mean((y[j] - v7) ** 2)\n",
    "\n",
    "    return cost/len(X)"
   ]
  },
  {
   "cell_type": "code",
   "execution_count": 19,
   "id": "c62c0972",
   "metadata": {
    "tags": []
   },
   "outputs": [],
   "source": [
    "# Define cost function\n",
    "def cost_fn(params,**kwargs):\n",
    "    z=kwargs['batch']\n",
    "    \n",
    "#     print('Batch is',z)\n",
    "    \n",
    "    v1=[quantum_circuit_1(X_train[z][i].numpy(), params) for i in range(X_train.shape[1])]    \n",
    "    \n",
    "    # Flatten \n",
    "    flat_list = list(itertools.chain(*v1))\n",
    "    v1_=np.array(flat_list)\n",
    "#     print('v1 shape is',v1_.shape)    \n",
    "#     print('Total parameter in Circuit 1',60)\n",
    "    \n",
    "    m1=300\n",
    "    l1=30 ; l2=l1+m1 ; l3=l2+m1  ; l4=l3+m1 ; l5=l4+m1 \n",
    "    l6=l5+1 ; l7=l6+1 ; l8=l7+1 \n",
    "#     print('Parameters in NN layer 1 start at',l1)\n",
    "    \n",
    "    v2= np.add(np.concatenate((params[l5],params[l6],params[l7],params[l8])),np.dot(np.transpose(\n",
    "                                                                v1_),\n",
    "                                                                                   np.hstack((params[l1:l2],\n",
    "                                                                                              params[l2:l3],params[l3:l4],params[l4:l5])) ))\n",
    "\n",
    "    \n",
    "    v3=np.where(v2 > 0, v2, v2 * 0.05) \n",
    "#     print('Parameters in NN layer 1 end at',l8)\n",
    "#     print('Total parameter in NN 1',l8-l1+1)\n",
    "    \n",
    "    l9=l8+1\n",
    "#     print('Parameters in Next circuit start at',l9)\n",
    "    v4=quantum_circuit_2(np.array(v3),params)\n",
    "    \n",
    "    l11=1258\n",
    "    m1=12\n",
    "    l12=l11 ; l13=l12+m1 ; l14=l13+m1 ; l15=l14+m1 ; l16=l15+m1 ; l17=l16+m1\n",
    "    l18=l17+1 ; l19=l18+1 ; l20=l19+1 ; l21=l20+1 \n",
    "#     print('Parameters in last layers start at',l12)\n",
    "    v5= np.add(np.concatenate((params[l17],params[l18],params[l19],params[l20],params[l21])),np.dot(np.transpose(\n",
    "                                                                v4),\n",
    "                                                                                   np.hstack((params[l12:l13],\n",
    "                                                                                              params[l13:l14],params[l14:l15],params[l15:l16],params[l16:l17])) ))\n",
    "    v6=np.where(v5 > 0, v5, v5 * 0.05)\n",
    "    \n",
    "    m1=15\n",
    "    l23=l21+1 ; l24=l23+m1 ; l25=l24+m1 \n",
    "    l27=l25 ; l28=l27+1 \n",
    "    v7 = np.add(np.concatenate((params[l27],params[l28])),np.dot(np.transpose(\n",
    "                                                                v6),\n",
    "                                                                                   np.hstack((params[l23:l24],\n",
    "                                                                                   params[l24:l25])) ))\n",
    "#     print('Last parameters is',l28)\n",
    "#     print('Total number of parameters in last is',l28-l12+1)\n",
    "\n",
    "    cost=np.mean((y_train[z] - v7) ** 2)\n",
    "    return cost"
   ]
  },
  {
   "cell_type": "code",
   "execution_count": 20,
   "id": "6757a642",
   "metadata": {
    "tags": []
   },
   "outputs": [],
   "source": [
    "params_1=np.random.uniform(0,np.pi, size=(30, 3),requires_grad = True)\n",
    "params_2=np.random.normal(-0.05,0.05, size=(1204, 3),requires_grad = True)\n",
    "params_3=np.random.normal(0,np.pi, size=(24, 3),requires_grad = True)\n",
    "params_4=np.random.normal(-0.05,0.05, size=(97, 3),requires_grad = True)\n",
    "\n",
    "params=np.vstack([params_1,params_2,params_3,params_4])"
   ]
  },
  {
   "cell_type": "code",
   "execution_count": 21,
   "id": "0e8b2b12-3c55-4ae6-8d82-dc36eb2c530a",
   "metadata": {
    "tags": []
   },
   "outputs": [],
   "source": [
    "opt = qml.AdamOptimizer(stepsize=0.005)"
   ]
  },
  {
   "cell_type": "code",
   "execution_count": 22,
   "id": "895003da",
   "metadata": {
    "tags": []
   },
   "outputs": [
    {
     "data": {
      "text/plain": [
       "1355"
      ]
     },
     "execution_count": 22,
     "metadata": {},
     "output_type": "execute_result"
    }
   ],
   "source": [
    "len(params)"
   ]
  },
  {
   "cell_type": "code",
   "execution_count": 23,
   "id": "c716dace",
   "metadata": {
    "tags": []
   },
   "outputs": [],
   "source": [
    "# batch_size=32 # Batch size\n",
    "batch_list=list(range(0,X_train.shape[0]))"
   ]
  },
  {
   "cell_type": "code",
   "execution_count": 24,
   "id": "be85612f",
   "metadata": {
    "tags": []
   },
   "outputs": [],
   "source": [
    "batch_=list(range(len(batch_list)))"
   ]
  },
  {
   "cell_type": "code",
   "execution_count": 25,
   "id": "aa3a1863-05c1-436b-9dd7-174cd2c26fbb",
   "metadata": {
    "tags": []
   },
   "outputs": [],
   "source": [
    "store_loss_test=[]\n",
    "store_val=[]\n",
    "store_params=[]"
   ]
  },
  {
   "cell_type": "code",
   "execution_count": 26,
   "id": "9927be8b",
   "metadata": {
    "tags": []
   },
   "outputs": [],
   "source": [
    "import time"
   ]
  },
  {
   "cell_type": "code",
   "execution_count": null,
   "id": "a909c995",
   "metadata": {
    "tags": []
   },
   "outputs": [
    {
     "name": "stdout",
     "output_type": "stream",
     "text": [
      "Epoch 0 running\n",
      "-------------------------------------------\n",
      "Epoch 1 running\n",
      "-------------------------------------------\n",
      "Epoch 2 running\n"
     ]
    }
   ],
   "source": [
    "for i in range (15):\n",
    "    print('Epoch',i,'running')\n",
    "    batch_=list(range(len(batch_list)))\n",
    "    while len(batch_)>0:\n",
    "        j= random.choice(batch_)\n",
    "        # start=time.time()\n",
    "        params, prev_cost = opt.step_and_cost(cost_fn,params,batch=j)\n",
    "        # end=time.time()\n",
    "        # print(start-end)\n",
    "        batch_.remove(j)\n",
    "    store_val.append(i)\n",
    "    store_params.append(params)\n",
    "    print('-------------------------------------------')"
   ]
  },
  {
   "cell_type": "code",
   "execution_count": null,
   "id": "43ed2c51-7784-43ae-a6f2-8513a253c8cc",
   "metadata": {},
   "outputs": [],
   "source": [
    "opt.stepsize"
   ]
  },
  {
   "cell_type": "code",
   "execution_count": null,
   "id": "e54aa50f",
   "metadata": {},
   "outputs": [],
   "source": [
    "# Make pred for check data\n",
    "def pred_(X,params):\n",
    "    v1=[quantum_circuit_1(X[i].numpy(), params) for i in range(X.shape[1])]    \n",
    "    \n",
    "    # Flatten \n",
    "    flat_list = list(itertools.chain(*v1))\n",
    "    v1_=np.array(flat_list)\n",
    "#     print('v1 shape is',v1_.shape)    \n",
    "#     print('Total parameter in Circuit 1',100)\n",
    "    \n",
    "    m1=300\n",
    "    l1=30 ; l2=l1+m1 ; l3=l2+m1  ; l4=l3+m1 ; l5=l4+m1 \n",
    "    l6=l5+1 ; l7=l6+1 ; l8=l7+1 \n",
    "#     print('Parameters in NN layer 1 start at',l1)\n",
    "    \n",
    "    v2= np.add(np.concatenate((params[l5],params[l6],params[l7],params[l8])),np.dot(np.transpose(\n",
    "                                                                v1_),\n",
    "                                                                                   np.hstack((params[l1:l2],\n",
    "                                                                                              params[l2:l3],params[l3:l4],params[l4:l5])) ))\n",
    "\n",
    "    \n",
    "    v3=np.where(v2 > 0, v2, v2 * 0.05) \n",
    "#     print('Parameters in NN layer 1 end at',l8)\n",
    "#     print('Total parameter in NN 1',l8-l1+1)\n",
    "    \n",
    "    l9=l8+1\n",
    "#     print('Parameters in Next circuit start at',l9)\n",
    "    v4=quantum_circuit_2(np.array(v3),params)\n",
    "    \n",
    "    l11=1258\n",
    "    m1=12\n",
    "    l12=l11 ; l13=l12+m1 ; l14=l13+m1 ; l15=l14+m1 ; l16=l15+m1 ; l17=l16+m1\n",
    "    l18=l17+1 ; l19=l18+1 ; l20=l19+1 ; l21=l20+1 \n",
    "#     print('Parameters in last layers start at',l12)\n",
    "    v5= np.add(np.concatenate((params[l17],params[l18],params[l19],params[l20],params[l21])),np.dot(np.transpose(\n",
    "                                                                v4),\n",
    "                                                                                   np.hstack((params[l12:l13],\n",
    "                                                                                              params[l13:l14],params[l14:l15],params[l15:l16],params[l16:l17])) ))\n",
    "    v6=np.where(v5 > 0, v5, v5 * 0.05)\n",
    "    \n",
    "    m1=15\n",
    "    l23=l21+1 ; l24=l23+m1 ; l25=l24+m1 \n",
    "    l27=l25 ; l28=l27+1 \n",
    "    v7 = np.add(np.concatenate((params[l27],params[l28])),np.dot(np.transpose(\n",
    "                                                                v6),\n",
    "                                                                                   np.hstack((params[l23:l24],\n",
    "                                                                                   params[l24:l25])) ))\n",
    "    return v7"
   ]
  },
  {
   "cell_type": "code",
   "execution_count": null,
   "id": "840c1baf",
   "metadata": {},
   "outputs": [],
   "source": [
    "def mae_metric(actual, predicted):\n",
    "    sum_error = 0.0\n",
    "    for i in range(len(actual)):\n",
    "        sum_error += abs(predicted[i] - actual[i])\n",
    "    return sum_error/len(actual)\n",
    "\n",
    "def rmse_metric(actual, predicted):\n",
    "    sum_error = 0.0\n",
    "    for i in range(len(actual)):\n",
    "        sum_error += (predicted[i] - actual[i])**2\n",
    "    return (sum_error/len(actual))**0.5"
   ]
  },
  {
   "cell_type": "code",
   "execution_count": 106,
   "id": "24896250-cf0d-4035-95ab-3da98d2228c8",
   "metadata": {
    "tags": []
   },
   "outputs": [],
   "source": [
    "store_test_loss=[]"
   ]
  },
  {
   "cell_type": "code",
   "execution_count": 107,
   "id": "3d488a59-cd22-4840-89eb-ee249281ca48",
   "metadata": {
    "tags": []
   },
   "outputs": [
    {
     "name": "stdout",
     "output_type": "stream",
     "text": [
      "[tensor(0.02449016, requires_grad=True)]\n",
      "[tensor(0.02449016, requires_grad=True), tensor(0.0064217, requires_grad=True)]\n",
      "[tensor(0.02449016, requires_grad=True), tensor(0.0064217, requires_grad=True), tensor(0.00509536, requires_grad=True)]\n",
      "[tensor(0.02449016, requires_grad=True), tensor(0.0064217, requires_grad=True), tensor(0.00509536, requires_grad=True), tensor(0.0057044, requires_grad=True)]\n",
      "[tensor(0.02449016, requires_grad=True), tensor(0.0064217, requires_grad=True), tensor(0.00509536, requires_grad=True), tensor(0.0057044, requires_grad=True), tensor(0.01290248, requires_grad=True)]\n",
      "[tensor(0.02449016, requires_grad=True), tensor(0.0064217, requires_grad=True), tensor(0.00509536, requires_grad=True), tensor(0.0057044, requires_grad=True), tensor(0.01290248, requires_grad=True), tensor(0.00993529, requires_grad=True)]\n",
      "[tensor(0.02449016, requires_grad=True), tensor(0.0064217, requires_grad=True), tensor(0.00509536, requires_grad=True), tensor(0.0057044, requires_grad=True), tensor(0.01290248, requires_grad=True), tensor(0.00993529, requires_grad=True), tensor(0.00577412, requires_grad=True)]\n",
      "[tensor(0.02449016, requires_grad=True), tensor(0.0064217, requires_grad=True), tensor(0.00509536, requires_grad=True), tensor(0.0057044, requires_grad=True), tensor(0.01290248, requires_grad=True), tensor(0.00993529, requires_grad=True), tensor(0.00577412, requires_grad=True), tensor(0.00334069, requires_grad=True)]\n",
      "[tensor(0.02449016, requires_grad=True), tensor(0.0064217, requires_grad=True), tensor(0.00509536, requires_grad=True), tensor(0.0057044, requires_grad=True), tensor(0.01290248, requires_grad=True), tensor(0.00993529, requires_grad=True), tensor(0.00577412, requires_grad=True), tensor(0.00334069, requires_grad=True), tensor(0.00886539, requires_grad=True)]\n",
      "[tensor(0.02449016, requires_grad=True), tensor(0.0064217, requires_grad=True), tensor(0.00509536, requires_grad=True), tensor(0.0057044, requires_grad=True), tensor(0.01290248, requires_grad=True), tensor(0.00993529, requires_grad=True), tensor(0.00577412, requires_grad=True), tensor(0.00334069, requires_grad=True), tensor(0.00886539, requires_grad=True), tensor(0.01837415, requires_grad=True)]\n",
      "[tensor(0.02449016, requires_grad=True), tensor(0.0064217, requires_grad=True), tensor(0.00509536, requires_grad=True), tensor(0.0057044, requires_grad=True), tensor(0.01290248, requires_grad=True), tensor(0.00993529, requires_grad=True), tensor(0.00577412, requires_grad=True), tensor(0.00334069, requires_grad=True), tensor(0.00886539, requires_grad=True), tensor(0.01837415, requires_grad=True), tensor(0.00923507, requires_grad=True)]\n",
      "[tensor(0.02449016, requires_grad=True), tensor(0.0064217, requires_grad=True), tensor(0.00509536, requires_grad=True), tensor(0.0057044, requires_grad=True), tensor(0.01290248, requires_grad=True), tensor(0.00993529, requires_grad=True), tensor(0.00577412, requires_grad=True), tensor(0.00334069, requires_grad=True), tensor(0.00886539, requires_grad=True), tensor(0.01837415, requires_grad=True), tensor(0.00923507, requires_grad=True), tensor(0.01734177, requires_grad=True)]\n",
      "[tensor(0.02449016, requires_grad=True), tensor(0.0064217, requires_grad=True), tensor(0.00509536, requires_grad=True), tensor(0.0057044, requires_grad=True), tensor(0.01290248, requires_grad=True), tensor(0.00993529, requires_grad=True), tensor(0.00577412, requires_grad=True), tensor(0.00334069, requires_grad=True), tensor(0.00886539, requires_grad=True), tensor(0.01837415, requires_grad=True), tensor(0.00923507, requires_grad=True), tensor(0.01734177, requires_grad=True), tensor(0.00726066, requires_grad=True)]\n",
      "[tensor(0.02449016, requires_grad=True), tensor(0.0064217, requires_grad=True), tensor(0.00509536, requires_grad=True), tensor(0.0057044, requires_grad=True), tensor(0.01290248, requires_grad=True), tensor(0.00993529, requires_grad=True), tensor(0.00577412, requires_grad=True), tensor(0.00334069, requires_grad=True), tensor(0.00886539, requires_grad=True), tensor(0.01837415, requires_grad=True), tensor(0.00923507, requires_grad=True), tensor(0.01734177, requires_grad=True), tensor(0.00726066, requires_grad=True), tensor(0.0082363, requires_grad=True)]\n",
      "[tensor(0.02449016, requires_grad=True), tensor(0.0064217, requires_grad=True), tensor(0.00509536, requires_grad=True), tensor(0.0057044, requires_grad=True), tensor(0.01290248, requires_grad=True), tensor(0.00993529, requires_grad=True), tensor(0.00577412, requires_grad=True), tensor(0.00334069, requires_grad=True), tensor(0.00886539, requires_grad=True), tensor(0.01837415, requires_grad=True), tensor(0.00923507, requires_grad=True), tensor(0.01734177, requires_grad=True), tensor(0.00726066, requires_grad=True), tensor(0.0082363, requires_grad=True), tensor(0.00663217, requires_grad=True)]\n"
     ]
    }
   ],
   "source": [
    "for i in store_params:\n",
    "    store_test_loss.append(loss_func(i,X_test,y_test))\n",
    "    print(store_test_loss)"
   ]
  },
  {
   "cell_type": "code",
   "execution_count": 108,
   "id": "051cd56b-888b-4cec-98fa-08320d95208d",
   "metadata": {
    "tags": []
   },
   "outputs": [
    {
     "data": {
      "text/plain": [
       "[tensor(0.02449016, requires_grad=True),\n",
       " tensor(0.0064217, requires_grad=True),\n",
       " tensor(0.00509536, requires_grad=True),\n",
       " tensor(0.0057044, requires_grad=True),\n",
       " tensor(0.01290248, requires_grad=True),\n",
       " tensor(0.00993529, requires_grad=True),\n",
       " tensor(0.00577412, requires_grad=True),\n",
       " tensor(0.00334069, requires_grad=True),\n",
       " tensor(0.00886539, requires_grad=True),\n",
       " tensor(0.01837415, requires_grad=True),\n",
       " tensor(0.00923507, requires_grad=True),\n",
       " tensor(0.01734177, requires_grad=True),\n",
       " tensor(0.00726066, requires_grad=True),\n",
       " tensor(0.0082363, requires_grad=True),\n",
       " tensor(0.00663217, requires_grad=True)]"
      ]
     },
     "execution_count": 108,
     "metadata": {},
     "output_type": "execute_result"
    }
   ],
   "source": [
    "store_test_loss"
   ]
  },
  {
   "cell_type": "code",
   "execution_count": 109,
   "id": "7795605d-7021-42e8-a117-9817394e3bc9",
   "metadata": {
    "tags": []
   },
   "outputs": [],
   "source": [
    "store_train_loss=[]"
   ]
  },
  {
   "cell_type": "code",
   "execution_count": null,
   "id": "b64e10f8-4202-453b-803e-3e8c70a41c36",
   "metadata": {
    "tags": []
   },
   "outputs": [
    {
     "name": "stdout",
     "output_type": "stream",
     "text": [
      "[0.023613082609789244]\n",
      "[0.023613082609789244, 0.01854311117123644]\n",
      "[0.023613082609789244, 0.01854311117123644, 0.012453520764812055]\n",
      "[0.023613082609789244, 0.01854311117123644, 0.012453520764812055, 0.011403825514160703]\n",
      "[0.023613082609789244, 0.01854311117123644, 0.012453520764812055, 0.011403825514160703, 0.013556711651261882]\n"
     ]
    }
   ],
   "source": [
    "for i in store_params:\n",
    "    store_train_loss.append(loss_func(i,X_train,y_train))\n",
    "    print(store_train_loss)"
   ]
  },
  {
   "cell_type": "code",
   "execution_count": 114,
   "id": "dd305377-9c95-4da6-8522-41712c1d3e64",
   "metadata": {},
   "outputs": [
    {
     "data": {
      "text/plain": [
       "[0.023613082609789244,\n",
       " 0.01854311117123644,\n",
       " 0.012453520764812055,\n",
       " 0.011403825514160703,\n",
       " 0.013556711651261882,\n",
       " 0.021247254999760927,\n",
       " 0.009597506202448482,\n",
       " 0.011372007761889036,\n",
       " 0.008032843816189104,\n",
       " 0.012890795674827217,\n",
       " 0.012634871133502552,\n",
       " 0.009603613692778139,\n",
       " 0.0095107931024976,\n",
       " 0.007118442013375939,\n",
       " 0.0072810770337642374]"
      ]
     },
     "execution_count": 114,
     "metadata": {},
     "output_type": "execute_result"
    }
   ],
   "source": [
    "store_train_loss"
   ]
  },
  {
   "cell_type": "code",
   "execution_count": 96,
   "id": "deb2efbb-21de-438d-b565-415af03485c7",
   "metadata": {
    "tags": []
   },
   "outputs": [],
   "source": [
    "b=1 ; a=-1"
   ]
  },
  {
   "cell_type": "code",
   "execution_count": 97,
   "id": "02554355-286c-4efb-8535-d140f15d6a09",
   "metadata": {},
   "outputs": [],
   "source": [
    "from sklearn.metrics import mean_squared_error\n",
    "from sklearn.metrics import mean_absolute_error\n",
    "from sklearn.metrics import mean_absolute_percentage_error\n",
    "def cal_metrics(y_true,y_pred):\n",
    "    mae=0\n",
    "    rmse=0\n",
    "    for i in range(len(y_true)):\n",
    "        y1=((((y_true[i]-a)/(b-a))*(close_max - close_min))+close_min)\n",
    "        y2=((((y_pred[i]-a)/(b-a))*(close_max - close_min))+close_min)\n",
    "        mae=mean_absolute_error(y1, y2)+mae\n",
    "        rmse=mean_squared_error(y1, y2, squared=False)+rmse  \n",
    "    return mae/len(y_true) , rmse/len(y_true)"
   ]
  },
  {
   "cell_type": "code",
   "execution_count": 98,
   "id": "54f527b6-f3cb-4423-bbbd-197e277fdefb",
   "metadata": {
    "tags": []
   },
   "outputs": [],
   "source": [
    "y_test_loss=[]\n",
    "\n",
    "for i in range(len(y_test)):\n",
    "    y_test_loss.append(pred_(X_test[i],store_params[-1]))"
   ]
  },
  {
   "cell_type": "code",
   "execution_count": 99,
   "id": "54ced547-0b80-461e-b2a4-1bc878726bd2",
   "metadata": {
    "tags": []
   },
   "outputs": [],
   "source": [
    "import warnings\n",
    "warnings.filterwarnings('ignore')"
   ]
  },
  {
   "cell_type": "code",
   "execution_count": 100,
   "id": "722fa0d2-0b78-4037-a2ab-93d2aa716ea7",
   "metadata": {
    "tags": []
   },
   "outputs": [
    {
     "name": "stdout",
     "output_type": "stream",
     "text": [
      "MAE test error is 104.39677636314363\n",
      "RMSE test error is 110.72698457359417\n"
     ]
    }
   ],
   "source": [
    "mae_test_pros, rmse_test_pros= cal_metrics(y_test,y_test_loss)\n",
    "print('MAE test error is',mae_test_pros)\n",
    "print('RMSE test error is',rmse_test_pros)"
   ]
  },
  {
   "cell_type": "code",
   "execution_count": 102,
   "id": "8490d0ce-6bdd-431d-8234-021803377140",
   "metadata": {
    "tags": []
   },
   "outputs": [],
   "source": [
    "y_train_loss=[]\n",
    "\n",
    "for i in range(len(y_train)):\n",
    "    y_train_loss.append(pred_(X_train[i],store_params[-1]))"
   ]
  },
  {
   "cell_type": "code",
   "execution_count": 103,
   "id": "69eb2633-6e72-42a0-9266-756f94173ea1",
   "metadata": {},
   "outputs": [
    {
     "name": "stdout",
     "output_type": "stream",
     "text": [
      "MAE train error is 97.63707057105405\n",
      "RMSE train error is 107.87771965385195\n"
     ]
    }
   ],
   "source": [
    "mae_train_pros, rmse_train_pros= cal_metrics(y_train,y_train_loss)\n",
    "print('MAE train error is',mae_train_pros)\n",
    "print('RMSE train error is',rmse_train_pros)"
   ]
  },
  {
   "cell_type": "code",
   "execution_count": null,
   "id": "104544cb-8555-4bd1-b51a-78f1cf4d1864",
   "metadata": {},
   "outputs": [],
   "source": []
  },
  {
   "cell_type": "code",
   "execution_count": null,
   "id": "d39ece95-272c-418a-9567-291449c3a671",
   "metadata": {},
   "outputs": [],
   "source": []
  }
 ],
 "metadata": {
  "kernelspec": {
   "display_name": "conda_braket",
   "language": "python",
   "name": "conda_braket"
  },
  "language_info": {
   "codemirror_mode": {
    "name": "ipython",
    "version": 3
   },
   "file_extension": ".py",
   "mimetype": "text/x-python",
   "name": "python",
   "nbconvert_exporter": "python",
   "pygments_lexer": "ipython3",
   "version": "3.10.13"
  }
 },
 "nbformat": 4,
 "nbformat_minor": 5
}
