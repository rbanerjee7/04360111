{
 "cells": [
  {
   "cell_type": "code",
   "execution_count": 61,
   "id": "a33a1f56",
   "metadata": {},
   "outputs": [],
   "source": [
    "import pandas as pd\n",
    "from utils import *\n",
    "import time\n",
    "import numpy as np\n",
    "import math\n",
    "import matplotlib.pyplot as plt\n",
    "# Torch package\n",
    "import torch\n",
    "from torch.utils.data import DataLoader\n",
    "from torch import nn\n",
    "import torch\n",
    "from torch import nn\n",
    "from torch.utils.data import Dataset\n",
    "import torch.optim as optim\n",
    "import torch.utils.data as data\n",
    "import random\n",
    "import tensorflow as tf"
   ]
  },
  {
   "cell_type": "code",
   "execution_count": 62,
   "id": "589a4ff5",
   "metadata": {},
   "outputs": [],
   "source": [
    "tf.random.set_seed(15)\n",
    "torch.manual_seed(42)\n",
    "random.seed(42)\n",
    "plt.rcParams[\"font.weight\"] = \"bold\"\n",
    "plt.rcParams[\"axes.labelweight\"] = \"bold\"\n",
    "plt.rcParams.update({'font.size':20})\n",
    "legend_prop = {'weight':'bold'}\n",
    "from pylab import rcParams\n",
    "rcParams['axes.linewidth'] = 2"
   ]
  },
  {
   "cell_type": "markdown",
   "id": "8dcf2258",
   "metadata": {},
   "source": [
    "## Read Data"
   ]
  },
  {
   "cell_type": "code",
   "execution_count": 63,
   "id": "31c36071",
   "metadata": {},
   "outputs": [
    {
     "data": {
      "text/html": [
       "<div>\n",
       "<style scoped>\n",
       "    .dataframe tbody tr th:only-of-type {\n",
       "        vertical-align: middle;\n",
       "    }\n",
       "\n",
       "    .dataframe tbody tr th {\n",
       "        vertical-align: top;\n",
       "    }\n",
       "\n",
       "    .dataframe thead th {\n",
       "        text-align: right;\n",
       "    }\n",
       "</style>\n",
       "<table border=\"1\" class=\"dataframe\">\n",
       "  <thead>\n",
       "    <tr style=\"text-align: right;\">\n",
       "      <th></th>\n",
       "      <th>Open</th>\n",
       "      <th>High</th>\n",
       "      <th>Low</th>\n",
       "      <th>Close</th>\n",
       "      <th>Volume</th>\n",
       "      <th>Date</th>\n",
       "      <th>EMA_7</th>\n",
       "      <th>EMA_14</th>\n",
       "      <th>EMA_21</th>\n",
       "      <th>SMA_7</th>\n",
       "      <th>...</th>\n",
       "      <th>3M</th>\n",
       "      <th>FTSE_H-L</th>\n",
       "      <th>FTSE_O-C</th>\n",
       "      <th>GBP_USD_H-L</th>\n",
       "      <th>GBP_USD_O-C</th>\n",
       "      <th>Gold_H-L</th>\n",
       "      <th>Gold_O-C</th>\n",
       "      <th>Crude_H-L</th>\n",
       "      <th>Crude_O-C</th>\n",
       "      <th>Close_copy</th>\n",
       "    </tr>\n",
       "  </thead>\n",
       "  <tbody>\n",
       "    <tr>\n",
       "      <th>3248</th>\n",
       "      <td>7711.71</td>\n",
       "      <td>7733.54</td>\n",
       "      <td>7692.48</td>\n",
       "      <td>7728.50</td>\n",
       "      <td>5.750400e+08</td>\n",
       "      <td>2024-02-19</td>\n",
       "      <td>7642.331920</td>\n",
       "      <td>7620.773180</td>\n",
       "      <td>7613.327011</td>\n",
       "      <td>7609.241429</td>\n",
       "      <td>...</td>\n",
       "      <td>5.3288</td>\n",
       "      <td>41.06</td>\n",
       "      <td>-16.79</td>\n",
       "      <td>0.004641</td>\n",
       "      <td>0.000000</td>\n",
       "      <td>0.0</td>\n",
       "      <td>0.0</td>\n",
       "      <td>1.04</td>\n",
       "      <td>-0.01</td>\n",
       "      <td>7728.50</td>\n",
       "    </tr>\n",
       "    <tr>\n",
       "      <th>3249</th>\n",
       "      <td>7728.50</td>\n",
       "      <td>7748.73</td>\n",
       "      <td>7705.98</td>\n",
       "      <td>7719.21</td>\n",
       "      <td>8.190300e+08</td>\n",
       "      <td>2024-02-20</td>\n",
       "      <td>7661.551440</td>\n",
       "      <td>7633.898090</td>\n",
       "      <td>7622.952737</td>\n",
       "      <td>7630.188571</td>\n",
       "      <td>...</td>\n",
       "      <td>5.3290</td>\n",
       "      <td>42.75</td>\n",
       "      <td>9.29</td>\n",
       "      <td>0.008685</td>\n",
       "      <td>0.000063</td>\n",
       "      <td>13.4</td>\n",
       "      <td>-11.9</td>\n",
       "      <td>1.58</td>\n",
       "      <td>0.96</td>\n",
       "      <td>7719.21</td>\n",
       "    </tr>\n",
       "    <tr>\n",
       "      <th>3250</th>\n",
       "      <td>7719.21</td>\n",
       "      <td>7719.21</td>\n",
       "      <td>7642.75</td>\n",
       "      <td>7662.51</td>\n",
       "      <td>1.190000e+09</td>\n",
       "      <td>2024-02-21</td>\n",
       "      <td>7661.791080</td>\n",
       "      <td>7637.713011</td>\n",
       "      <td>7626.548852</td>\n",
       "      <td>7642.877143</td>\n",
       "      <td>...</td>\n",
       "      <td>5.3270</td>\n",
       "      <td>76.46</td>\n",
       "      <td>56.70</td>\n",
       "      <td>0.003393</td>\n",
       "      <td>-0.000096</td>\n",
       "      <td>5.9</td>\n",
       "      <td>5.9</td>\n",
       "      <td>1.50</td>\n",
       "      <td>-0.47</td>\n",
       "      <td>7662.51</td>\n",
       "    </tr>\n",
       "    <tr>\n",
       "      <th>3251</th>\n",
       "      <td>7662.51</td>\n",
       "      <td>7702.86</td>\n",
       "      <td>7651.65</td>\n",
       "      <td>7684.49</td>\n",
       "      <td>1.320000e+09</td>\n",
       "      <td>2024-02-22</td>\n",
       "      <td>7667.465810</td>\n",
       "      <td>7643.949943</td>\n",
       "      <td>7631.816229</td>\n",
       "      <td>7667.478571</td>\n",
       "      <td>...</td>\n",
       "      <td>5.3285</td>\n",
       "      <td>51.21</td>\n",
       "      <td>-21.98</td>\n",
       "      <td>0.009714</td>\n",
       "      <td>0.000080</td>\n",
       "      <td>13.5</td>\n",
       "      <td>13.5</td>\n",
       "      <td>1.63</td>\n",
       "      <td>-0.51</td>\n",
       "      <td>7684.49</td>\n",
       "    </tr>\n",
       "    <tr>\n",
       "      <th>3252</th>\n",
       "      <td>7684.49</td>\n",
       "      <td>7713.39</td>\n",
       "      <td>7675.19</td>\n",
       "      <td>7706.28</td>\n",
       "      <td>9.929600e+08</td>\n",
       "      <td>2024-02-23</td>\n",
       "      <td>7677.169357</td>\n",
       "      <td>7652.260617</td>\n",
       "      <td>7638.585663</td>\n",
       "      <td>7687.175714</td>\n",
       "      <td>...</td>\n",
       "      <td>5.3307</td>\n",
       "      <td>38.20</td>\n",
       "      <td>-21.79</td>\n",
       "      <td>0.005206</td>\n",
       "      <td>-0.000225</td>\n",
       "      <td>23.7</td>\n",
       "      <td>-12.6</td>\n",
       "      <td>2.04</td>\n",
       "      <td>1.80</td>\n",
       "      <td>7706.28</td>\n",
       "    </tr>\n",
       "    <tr>\n",
       "      <th>3253</th>\n",
       "      <td>7706.28</td>\n",
       "      <td>7710.78</td>\n",
       "      <td>7676.75</td>\n",
       "      <td>7684.30</td>\n",
       "      <td>1.150000e+09</td>\n",
       "      <td>2024-02-26</td>\n",
       "      <td>7678.952018</td>\n",
       "      <td>7656.532535</td>\n",
       "      <td>7642.741512</td>\n",
       "      <td>7699.571429</td>\n",
       "      <td>...</td>\n",
       "      <td>5.3292</td>\n",
       "      <td>34.03</td>\n",
       "      <td>21.98</td>\n",
       "      <td>0.004227</td>\n",
       "      <td>-0.000161</td>\n",
       "      <td>10.6</td>\n",
       "      <td>5.6</td>\n",
       "      <td>2.04</td>\n",
       "      <td>-0.94</td>\n",
       "      <td>7684.30</td>\n",
       "    </tr>\n",
       "    <tr>\n",
       "      <th>3254</th>\n",
       "      <td>7684.30</td>\n",
       "      <td>7698.29</td>\n",
       "      <td>7669.71</td>\n",
       "      <td>7683.02</td>\n",
       "      <td>1.060000e+09</td>\n",
       "      <td>2024-02-27</td>\n",
       "      <td>7679.969014</td>\n",
       "      <td>7660.064197</td>\n",
       "      <td>7646.403193</td>\n",
       "      <td>7695.472857</td>\n",
       "      <td>...</td>\n",
       "      <td>5.3300</td>\n",
       "      <td>28.58</td>\n",
       "      <td>1.28</td>\n",
       "      <td>0.003499</td>\n",
       "      <td>0.000000</td>\n",
       "      <td>1.9</td>\n",
       "      <td>1.9</td>\n",
       "      <td>1.64</td>\n",
       "      <td>-1.10</td>\n",
       "      <td>7683.02</td>\n",
       "    </tr>\n",
       "    <tr>\n",
       "      <th>3255</th>\n",
       "      <td>7683.02</td>\n",
       "      <td>7693.18</td>\n",
       "      <td>7620.37</td>\n",
       "      <td>7624.98</td>\n",
       "      <td>1.150000e+09</td>\n",
       "      <td>2024-02-28</td>\n",
       "      <td>7666.221760</td>\n",
       "      <td>7655.386304</td>\n",
       "      <td>7644.455630</td>\n",
       "      <td>7680.684286</td>\n",
       "      <td>...</td>\n",
       "      <td>5.3291</td>\n",
       "      <td>72.81</td>\n",
       "      <td>58.04</td>\n",
       "      <td>0.005957</td>\n",
       "      <td>-0.000096</td>\n",
       "      <td>12.2</td>\n",
       "      <td>-3.5</td>\n",
       "      <td>1.68</td>\n",
       "      <td>-0.28</td>\n",
       "      <td>7624.98</td>\n",
       "    </tr>\n",
       "    <tr>\n",
       "      <th>3256</th>\n",
       "      <td>7624.98</td>\n",
       "      <td>7677.69</td>\n",
       "      <td>7622.87</td>\n",
       "      <td>7630.02</td>\n",
       "      <td>1.870000e+09</td>\n",
       "      <td>2024-02-29</td>\n",
       "      <td>7657.171320</td>\n",
       "      <td>7652.004130</td>\n",
       "      <td>7643.143300</td>\n",
       "      <td>7667.942857</td>\n",
       "      <td>...</td>\n",
       "      <td>5.3291</td>\n",
       "      <td>54.82</td>\n",
       "      <td>-5.04</td>\n",
       "      <td>0.005302</td>\n",
       "      <td>-0.000113</td>\n",
       "      <td>15.5</td>\n",
       "      <td>-11.4</td>\n",
       "      <td>0.70</td>\n",
       "      <td>0.03</td>\n",
       "      <td>7630.02</td>\n",
       "    </tr>\n",
       "    <tr>\n",
       "      <th>3257</th>\n",
       "      <td>7630.02</td>\n",
       "      <td>7695.61</td>\n",
       "      <td>7630.02</td>\n",
       "      <td>7688.38</td>\n",
       "      <td>1.220000e+09</td>\n",
       "      <td>2024-03-01</td>\n",
       "      <td>7664.973490</td>\n",
       "      <td>7656.854246</td>\n",
       "      <td>7647.255727</td>\n",
       "      <td>7671.638571</td>\n",
       "      <td>...</td>\n",
       "      <td>5.3278</td>\n",
       "      <td>65.59</td>\n",
       "      <td>-58.36</td>\n",
       "      <td>0.005503</td>\n",
       "      <td>0.000175</td>\n",
       "      <td>45.1</td>\n",
       "      <td>-43.8</td>\n",
       "      <td>2.54</td>\n",
       "      <td>-1.58</td>\n",
       "      <td>7688.38</td>\n",
       "    </tr>\n",
       "  </tbody>\n",
       "</table>\n",
       "<p>10 rows × 36 columns</p>\n",
       "</div>"
      ],
      "text/plain": [
       "         Open     High      Low    Close        Volume        Date  \\\n",
       "3248  7711.71  7733.54  7692.48  7728.50  5.750400e+08  2024-02-19   \n",
       "3249  7728.50  7748.73  7705.98  7719.21  8.190300e+08  2024-02-20   \n",
       "3250  7719.21  7719.21  7642.75  7662.51  1.190000e+09  2024-02-21   \n",
       "3251  7662.51  7702.86  7651.65  7684.49  1.320000e+09  2024-02-22   \n",
       "3252  7684.49  7713.39  7675.19  7706.28  9.929600e+08  2024-02-23   \n",
       "3253  7706.28  7710.78  7676.75  7684.30  1.150000e+09  2024-02-26   \n",
       "3254  7684.30  7698.29  7669.71  7683.02  1.060000e+09  2024-02-27   \n",
       "3255  7683.02  7693.18  7620.37  7624.98  1.150000e+09  2024-02-28   \n",
       "3256  7624.98  7677.69  7622.87  7630.02  1.870000e+09  2024-02-29   \n",
       "3257  7630.02  7695.61  7630.02  7688.38  1.220000e+09  2024-03-01   \n",
       "\n",
       "            EMA_7       EMA_14       EMA_21        SMA_7  ...      3M  \\\n",
       "3248  7642.331920  7620.773180  7613.327011  7609.241429  ...  5.3288   \n",
       "3249  7661.551440  7633.898090  7622.952737  7630.188571  ...  5.3290   \n",
       "3250  7661.791080  7637.713011  7626.548852  7642.877143  ...  5.3270   \n",
       "3251  7667.465810  7643.949943  7631.816229  7667.478571  ...  5.3285   \n",
       "3252  7677.169357  7652.260617  7638.585663  7687.175714  ...  5.3307   \n",
       "3253  7678.952018  7656.532535  7642.741512  7699.571429  ...  5.3292   \n",
       "3254  7679.969014  7660.064197  7646.403193  7695.472857  ...  5.3300   \n",
       "3255  7666.221760  7655.386304  7644.455630  7680.684286  ...  5.3291   \n",
       "3256  7657.171320  7652.004130  7643.143300  7667.942857  ...  5.3291   \n",
       "3257  7664.973490  7656.854246  7647.255727  7671.638571  ...  5.3278   \n",
       "\n",
       "      FTSE_H-L  FTSE_O-C  GBP_USD_H-L  GBP_USD_O-C  Gold_H-L  Gold_O-C  \\\n",
       "3248     41.06    -16.79     0.004641     0.000000       0.0       0.0   \n",
       "3249     42.75      9.29     0.008685     0.000063      13.4     -11.9   \n",
       "3250     76.46     56.70     0.003393    -0.000096       5.9       5.9   \n",
       "3251     51.21    -21.98     0.009714     0.000080      13.5      13.5   \n",
       "3252     38.20    -21.79     0.005206    -0.000225      23.7     -12.6   \n",
       "3253     34.03     21.98     0.004227    -0.000161      10.6       5.6   \n",
       "3254     28.58      1.28     0.003499     0.000000       1.9       1.9   \n",
       "3255     72.81     58.04     0.005957    -0.000096      12.2      -3.5   \n",
       "3256     54.82     -5.04     0.005302    -0.000113      15.5     -11.4   \n",
       "3257     65.59    -58.36     0.005503     0.000175      45.1     -43.8   \n",
       "\n",
       "      Crude_H-L  Crude_O-C  Close_copy  \n",
       "3248       1.04      -0.01     7728.50  \n",
       "3249       1.58       0.96     7719.21  \n",
       "3250       1.50      -0.47     7662.51  \n",
       "3251       1.63      -0.51     7684.49  \n",
       "3252       2.04       1.80     7706.28  \n",
       "3253       2.04      -0.94     7684.30  \n",
       "3254       1.64      -1.10     7683.02  \n",
       "3255       1.68      -0.28     7624.98  \n",
       "3256       0.70       0.03     7630.02  \n",
       "3257       2.54      -1.58     7688.38  \n",
       "\n",
       "[10 rows x 36 columns]"
      ]
     },
     "execution_count": 63,
     "metadata": {},
     "output_type": "execute_result"
    }
   ],
   "source": [
    "df = pd.read_csv('Processed_data.csv')\n",
    "df = df.drop([ 'Unnamed: 0'], axis=1)\n",
    "# Initial dataframe has few rows which has zeros for features like \"SMA_7\" etc and hence removing few top rows\n",
    "df=df[50:]\n",
    "df.tail(10)"
   ]
  },
  {
   "cell_type": "code",
   "execution_count": 64,
   "id": "8fef717b",
   "metadata": {},
   "outputs": [],
   "source": [
    "# Remove few redundant data\n",
    "df=df.drop(columns=['Date'])\n",
    "df=df.drop(columns=['CUMLOGRET_1'])\n",
    "df=df.drop(columns=['Gold in USD volume'])\n",
    "df=df.drop(columns=['Open'])\n",
    "df=df.drop(columns=['High'])\n",
    "df=df.drop(columns=['Low'])"
   ]
  },
  {
   "cell_type": "code",
   "execution_count": 65,
   "id": "d53abe07",
   "metadata": {},
   "outputs": [
    {
     "name": "stdout",
     "output_type": "stream",
     "text": [
      "['3M', 'BBB_20_2.0', 'BBL_20_2.0', 'BBM_20_2.0', 'BBP_20_2.0', 'BBU_20_2.0', 'Close_copy', 'Crude Futures_close', 'Crude Futures_volume', 'Crude_H-L', 'Crude_O-C', 'EMA_14', 'EMA_21', 'EMA_7', 'FTSE_H-L', 'FTSE_O-C', 'GBP USD ', 'GBP_USD_H-L', 'GBP_USD_O-C', 'Gold in USD close', 'Gold_H-L', 'Gold_O-C', 'MACD_12_26_9', 'MACDh_12_26_9', 'MACDs_12_26_9', 'SMA_14', 'SMA_21', 'SMA_7', 'Volume']\n",
      "29\n"
     ]
    }
   ],
   "source": [
    "# Set target and features\n",
    "target = \"Close\"\n",
    "features = list(df.columns.difference([\"Close\"]))\n",
    "print(features)\n",
    "print(len(features))"
   ]
  },
  {
   "cell_type": "markdown",
   "id": "a65613d0",
   "metadata": {},
   "source": [
    "## Normalize data"
   ]
  },
  {
   "cell_type": "code",
   "execution_count": 66,
   "id": "bff7d289",
   "metadata": {},
   "outputs": [],
   "source": [
    "target_mean = df[target].mean()\n",
    "target_stdev = df[target].std()\n",
    "\n",
    "for c in df.columns:\n",
    "    mean = df[c].mean()\n",
    "    stdev = df[c].std()\n",
    "\n",
    "    df[c] = (df[c] - mean) / stdev"
   ]
  },
  {
   "cell_type": "code",
   "execution_count": 67,
   "id": "943866a4",
   "metadata": {},
   "outputs": [
    {
     "data": {
      "text/html": [
       "<div>\n",
       "<style scoped>\n",
       "    .dataframe tbody tr th:only-of-type {\n",
       "        vertical-align: middle;\n",
       "    }\n",
       "\n",
       "    .dataframe tbody tr th {\n",
       "        vertical-align: top;\n",
       "    }\n",
       "\n",
       "    .dataframe thead th {\n",
       "        text-align: right;\n",
       "    }\n",
       "</style>\n",
       "<table border=\"1\" class=\"dataframe\">\n",
       "  <thead>\n",
       "    <tr style=\"text-align: right;\">\n",
       "      <th></th>\n",
       "      <th>Close</th>\n",
       "      <th>Volume</th>\n",
       "      <th>EMA_7</th>\n",
       "      <th>EMA_14</th>\n",
       "      <th>EMA_21</th>\n",
       "      <th>SMA_7</th>\n",
       "      <th>SMA_14</th>\n",
       "      <th>SMA_21</th>\n",
       "      <th>MACD_12_26_9</th>\n",
       "      <th>MACDh_12_26_9</th>\n",
       "      <th>...</th>\n",
       "      <th>3M</th>\n",
       "      <th>FTSE_H-L</th>\n",
       "      <th>FTSE_O-C</th>\n",
       "      <th>GBP_USD_H-L</th>\n",
       "      <th>GBP_USD_O-C</th>\n",
       "      <th>Gold_H-L</th>\n",
       "      <th>Gold_O-C</th>\n",
       "      <th>Crude_H-L</th>\n",
       "      <th>Crude_O-C</th>\n",
       "      <th>Close_copy</th>\n",
       "    </tr>\n",
       "  </thead>\n",
       "  <tbody>\n",
       "    <tr>\n",
       "      <th>50</th>\n",
       "      <td>-2.216035</td>\n",
       "      <td>0.076483</td>\n",
       "      <td>-2.142262</td>\n",
       "      <td>-2.152261</td>\n",
       "      <td>-2.194267</td>\n",
       "      <td>-2.125236</td>\n",
       "      <td>-2.076858</td>\n",
       "      <td>-2.136731</td>\n",
       "      <td>0.580627</td>\n",
       "      <td>-0.832570</td>\n",
       "      <td>...</td>\n",
       "      <td>-0.051602</td>\n",
       "      <td>1.239983</td>\n",
       "      <td>0.263215</td>\n",
       "      <td>0.069296</td>\n",
       "      <td>-0.504898</td>\n",
       "      <td>-0.245371</td>\n",
       "      <td>0.621244</td>\n",
       "      <td>0.493902</td>\n",
       "      <td>0.076677</td>\n",
       "      <td>-2.216035</td>\n",
       "    </tr>\n",
       "    <tr>\n",
       "      <th>51</th>\n",
       "      <td>-2.056965</td>\n",
       "      <td>-0.239245</td>\n",
       "      <td>-2.123602</td>\n",
       "      <td>-2.142163</td>\n",
       "      <td>-2.184183</td>\n",
       "      <td>-2.111332</td>\n",
       "      <td>-2.077166</td>\n",
       "      <td>-2.125910</td>\n",
       "      <td>0.587184</td>\n",
       "      <td>-0.650028</td>\n",
       "      <td>...</td>\n",
       "      <td>-0.049936</td>\n",
       "      <td>0.645604</td>\n",
       "      <td>-1.592823</td>\n",
       "      <td>0.546749</td>\n",
       "      <td>0.078090</td>\n",
       "      <td>-0.237026</td>\n",
       "      <td>-0.837124</td>\n",
       "      <td>-0.175958</td>\n",
       "      <td>0.061469</td>\n",
       "      <td>-2.056965</td>\n",
       "    </tr>\n",
       "    <tr>\n",
       "      <th>52</th>\n",
       "      <td>-2.098709</td>\n",
       "      <td>-0.344334</td>\n",
       "      <td>-2.120115</td>\n",
       "      <td>-2.139050</td>\n",
       "      <td>-2.178879</td>\n",
       "      <td>-2.117365</td>\n",
       "      <td>-2.077906</td>\n",
       "      <td>-2.121902</td>\n",
       "      <td>0.551176</td>\n",
       "      <td>-0.605426</td>\n",
       "      <td>...</td>\n",
       "      <td>-0.049715</td>\n",
       "      <td>0.155241</td>\n",
       "      <td>0.435721</td>\n",
       "      <td>0.581028</td>\n",
       "      <td>6.329870</td>\n",
       "      <td>-1.246710</td>\n",
       "      <td>0.090208</td>\n",
       "      <td>-0.326489</td>\n",
       "      <td>0.989154</td>\n",
       "      <td>-2.098709</td>\n",
       "    </tr>\n",
       "    <tr>\n",
       "      <th>53</th>\n",
       "      <td>-2.101239</td>\n",
       "      <td>0.232217</td>\n",
       "      <td>-2.118136</td>\n",
       "      <td>-2.136693</td>\n",
       "      <td>-2.174291</td>\n",
       "      <td>-2.119588</td>\n",
       "      <td>-2.081983</td>\n",
       "      <td>-2.115752</td>\n",
       "      <td>0.513769</td>\n",
       "      <td>-0.573078</td>\n",
       "      <td>...</td>\n",
       "      <td>-0.049288</td>\n",
       "      <td>0.938548</td>\n",
       "      <td>0.039596</td>\n",
       "      <td>0.103050</td>\n",
       "      <td>0.078090</td>\n",
       "      <td>0.572390</td>\n",
       "      <td>-0.203051</td>\n",
       "      <td>-1.432887</td>\n",
       "      <td>0.008242</td>\n",
       "      <td>-2.101239</td>\n",
       "    </tr>\n",
       "    <tr>\n",
       "      <th>54</th>\n",
       "      <td>-2.114521</td>\n",
       "      <td>0.606201</td>\n",
       "      <td>-2.119995</td>\n",
       "      <td>-2.136444</td>\n",
       "      <td>-2.171350</td>\n",
       "      <td>-2.119997</td>\n",
       "      <td>-2.105306</td>\n",
       "      <td>-2.108239</td>\n",
       "      <td>0.467045</td>\n",
       "      <td>-0.569404</td>\n",
       "      <td>...</td>\n",
       "      <td>-0.048312</td>\n",
       "      <td>0.724147</td>\n",
       "      <td>0.148211</td>\n",
       "      <td>-0.139122</td>\n",
       "      <td>1.708155</td>\n",
       "      <td>0.405500</td>\n",
       "      <td>0.288356</td>\n",
       "      <td>0.019731</td>\n",
       "      <td>0.152717</td>\n",
       "      <td>-2.114521</td>\n",
       "    </tr>\n",
       "  </tbody>\n",
       "</table>\n",
       "<p>5 rows × 30 columns</p>\n",
       "</div>"
      ],
      "text/plain": [
       "       Close    Volume     EMA_7    EMA_14    EMA_21     SMA_7    SMA_14  \\\n",
       "50 -2.216035  0.076483 -2.142262 -2.152261 -2.194267 -2.125236 -2.076858   \n",
       "51 -2.056965 -0.239245 -2.123602 -2.142163 -2.184183 -2.111332 -2.077166   \n",
       "52 -2.098709 -0.344334 -2.120115 -2.139050 -2.178879 -2.117365 -2.077906   \n",
       "53 -2.101239  0.232217 -2.118136 -2.136693 -2.174291 -2.119588 -2.081983   \n",
       "54 -2.114521  0.606201 -2.119995 -2.136444 -2.171350 -2.119997 -2.105306   \n",
       "\n",
       "      SMA_21  MACD_12_26_9  MACDh_12_26_9  ...        3M  FTSE_H-L  FTSE_O-C  \\\n",
       "50 -2.136731      0.580627      -0.832570  ... -0.051602  1.239983  0.263215   \n",
       "51 -2.125910      0.587184      -0.650028  ... -0.049936  0.645604 -1.592823   \n",
       "52 -2.121902      0.551176      -0.605426  ... -0.049715  0.155241  0.435721   \n",
       "53 -2.115752      0.513769      -0.573078  ... -0.049288  0.938548  0.039596   \n",
       "54 -2.108239      0.467045      -0.569404  ... -0.048312  0.724147  0.148211   \n",
       "\n",
       "    GBP_USD_H-L  GBP_USD_O-C  Gold_H-L  Gold_O-C  Crude_H-L  Crude_O-C  \\\n",
       "50     0.069296    -0.504898 -0.245371  0.621244   0.493902   0.076677   \n",
       "51     0.546749     0.078090 -0.237026 -0.837124  -0.175958   0.061469   \n",
       "52     0.581028     6.329870 -1.246710  0.090208  -0.326489   0.989154   \n",
       "53     0.103050     0.078090  0.572390 -0.203051  -1.432887   0.008242   \n",
       "54    -0.139122     1.708155  0.405500  0.288356   0.019731   0.152717   \n",
       "\n",
       "    Close_copy  \n",
       "50   -2.216035  \n",
       "51   -2.056965  \n",
       "52   -2.098709  \n",
       "53   -2.101239  \n",
       "54   -2.114521  \n",
       "\n",
       "[5 rows x 30 columns]"
      ]
     },
     "execution_count": 67,
     "metadata": {},
     "output_type": "execute_result"
    }
   ],
   "source": [
    "df.head()"
   ]
  },
  {
   "cell_type": "markdown",
   "id": "f6df5754",
   "metadata": {},
   "source": [
    "## Data processing for time series model"
   ]
  },
  {
   "cell_type": "markdown",
   "id": "c9d23113",
   "metadata": {},
   "source": [
    "The data processing is to prepare the data in a sequence of past observations. Preparation of the time series data means that it uses a certain number of past observations to predict the future. In this case, the sequence length decides how many days the LSTM considers in advance and window decides how many days we want to predict for. If the sequence length is $n$ and window is $w$, then the LSTM considers the last $n$ observations to predict the next $w$ day price."
   ]
  },
  {
   "cell_type": "code",
   "execution_count": 68,
   "id": "465d24a1",
   "metadata": {},
   "outputs": [],
   "source": [
    "sequence_length = 60\n",
    "window =10\n",
    "\n",
    "def create_dataset(dataset,target,features, lookback, window):\n",
    "    X_store, y_store = [], []\n",
    "    for i in range(0,len(dataset)-lookback-window,2):\n",
    "        X = (dataset[features].values)[i:i+lookback]\n",
    "        y = (dataset[target].values)[i+lookback:i+lookback+window]\n",
    "        X_store.append(X)\n",
    "        y_store.append(y)\n",
    "    return torch.FloatTensor(np.array(X_store)), torch.FloatTensor(np.array(y_store))"
   ]
  },
  {
   "cell_type": "code",
   "execution_count": 69,
   "id": "85abfafc",
   "metadata": {},
   "outputs": [
    {
     "name": "stdout",
     "output_type": "stream",
     "text": [
      "Total sample 3208\n",
      "Train sample 3198\n",
      "Test sample 10\n"
     ]
    }
   ],
   "source": [
    "# Split train test data\n",
    "from sklearn.model_selection import train_test_split\n",
    "# df_train, df_test = train_test_split(df, test_size=0.05)\n",
    "size=int(len(df))-10\n",
    "df_train=df[:size]\n",
    "df_test=df[size:]\n",
    "print('Total sample', len(df))\n",
    "print('Train sample', len(df_train))\n",
    "print('Test sample', len(df_test))"
   ]
  },
  {
   "cell_type": "code",
   "execution_count": 70,
   "id": "da089e65",
   "metadata": {},
   "outputs": [
    {
     "name": "stdout",
     "output_type": "stream",
     "text": [
      "torch.Size([1564, 60, 29]) torch.Size([1564, 10])\n"
     ]
    }
   ],
   "source": [
    "# Train data\n",
    "X_train, y_train = create_dataset(\n",
    "    df_train,\n",
    "    target=target,\n",
    "    features=features,\n",
    "    lookback=sequence_length, window=window)\n",
    "\n",
    "indices = tf.range(start=0, limit=tf.shape(X_train)[0])\n",
    "shuffled_indices = tf.random.shuffle(indices)\n",
    "X_train = tf.gather(X_train, shuffled_indices)\n",
    "y_train = tf.gather(y_train, shuffled_indices)\n",
    "\n",
    "X_train=torch.FloatTensor(np.array(X_train))\n",
    "y_train=torch.FloatTensor(np.array(y_train))\n",
    "\n",
    "print(X_train.shape, y_train.shape)"
   ]
  },
  {
   "cell_type": "code",
   "execution_count": 71,
   "id": "0c7f423c",
   "metadata": {},
   "outputs": [],
   "source": [
    "batch_size=10\n",
    "train_loader = DataLoader(data.TensorDataset(X_train, y_train), shuffle=True, batch_size=batch_size)"
   ]
  },
  {
   "cell_type": "code",
   "execution_count": 72,
   "id": "23995e43",
   "metadata": {},
   "outputs": [
    {
     "data": {
      "text/plain": [
       "torch.Size([1, 60, 29])"
      ]
     },
     "execution_count": 72,
     "metadata": {},
     "output_type": "execute_result"
    }
   ],
   "source": [
    "# The unknown data\n",
    "X_check=(df_train[features].values)[len(df_train)-sequence_length:len(df_train)]\n",
    "y_check=(df_test[target].values)[:window]\n",
    "torch.FloatTensor([X_check]).shape"
   ]
  },
  {
   "cell_type": "markdown",
   "id": "245af1d7",
   "metadata": {},
   "source": [
    "## Classical LSTM"
   ]
  },
  {
   "cell_type": "markdown",
   "id": "50a784bc",
   "metadata": {},
   "source": [
    "We first define train_model: function to train the model based on the batches of data\n",
    "We print the loss at the end to understand how the model is performing with regards to the data."
   ]
  },
  {
   "cell_type": "code",
   "execution_count": 73,
   "id": "dbe496cd",
   "metadata": {},
   "outputs": [],
   "source": [
    "def train_model(data_loader, model, loss_function, optimizer):\n",
    "    num_batches = len(data_loader)\n",
    "    total_loss = 0\n",
    "    model.train()\n",
    "    \n",
    "    for X, y in data_loader:\n",
    "        output = model(X)\n",
    "        loss = loss_function(output, y)\n",
    "\n",
    "        optimizer.zero_grad()\n",
    "        loss.backward()\n",
    "        optimizer.step()\n",
    "\n",
    "        total_loss += loss.item()\n",
    "\n",
    "    avg_loss = total_loss / num_batches\n",
    "    print(f\"Train loss: {avg_loss}\")\n",
    "    return avg_loss\n",
    "\n",
    "def test_model(data_loader, model, loss_function):\n",
    "    \n",
    "    num_batches = len(data_loader)\n",
    "    total_loss = 0\n",
    "\n",
    "    model.eval()\n",
    "    with torch.no_grad():\n",
    "        for X, y in data_loader:\n",
    "            output = model(X)\n",
    "            total_loss += loss_function(output, y).item()\n",
    "\n",
    "    avg_loss = total_loss / num_batches\n",
    "    print(f\"Test loss: {avg_loss}\")\n",
    "    return avg_loss"
   ]
  },
  {
   "cell_type": "markdown",
   "id": "8dd5d66a",
   "metadata": {},
   "source": [
    "## Classical LSTM"
   ]
  },
  {
   "cell_type": "code",
   "execution_count": 74,
   "id": "aa31393b",
   "metadata": {},
   "outputs": [],
   "source": [
    "class ShallowRegressionLSTM(nn.Module):\n",
    "    def __init__(self, num_sensors, hidden_units):\n",
    "        super().__init__()\n",
    "        self.num_sensors = num_sensors  # this is the number of features\n",
    "        self.hidden_units = hidden_units\n",
    "        self.num_layers = 2\n",
    "\n",
    "        self.lstm = nn.LSTM(\n",
    "            input_size=num_sensors,\n",
    "            hidden_size=hidden_units,\n",
    "            batch_first=True,\n",
    "            num_layers=self.num_layers\n",
    "        )\n",
    "\n",
    "        self.linear = nn.Linear(in_features=self.hidden_units, out_features=1) # The output dimesion is set as window\n",
    "        self.linear_2 = nn.Linear(in_features=60, out_features=10)\n",
    "\n",
    "    def forward(self, x):\n",
    "        batch_size = x.shape[0]\n",
    "        h0 = torch.zeros(self.num_layers, batch_size, self.hidden_units).requires_grad_()\n",
    "        c0 = torch.zeros(self.num_layers, batch_size, self.hidden_units).requires_grad_()\n",
    "        \n",
    "        out_l1, (hn, _) = self.lstm(x, (h0, c0))\n",
    "        out_l2 = self.linear(out_l1)\n",
    "        out = self.linear_2(torch.squeeze(out_l2))\n",
    "        return torch.squeeze(out)"
   ]
  },
  {
   "cell_type": "code",
   "execution_count": 75,
   "id": "2a758f02",
   "metadata": {},
   "outputs": [],
   "source": [
    "learning_rate = 0.001\n",
    "num_hidden_units = 16\n",
    "\n",
    "model_lstm = ShallowRegressionLSTM(num_sensors=len(features), hidden_units=num_hidden_units)\n",
    "loss_function = nn.MSELoss()\n",
    "optimizer = torch.optim.Adam(model_lstm.parameters(), lr=learning_rate)"
   ]
  },
  {
   "cell_type": "code",
   "execution_count": 76,
   "id": "5e2cdd9a",
   "metadata": {},
   "outputs": [
    {
     "name": "stdout",
     "output_type": "stream",
     "text": [
      "Epoch 0\n",
      "---------\n",
      "Train loss: 0.32461231178159167\n",
      "Epoch 1\n",
      "---------\n",
      "Train loss: 0.0911430029471399\n",
      "Epoch 2\n",
      "---------\n",
      "Train loss: 0.06523739194177139\n",
      "Epoch 3\n",
      "---------\n",
      "Train loss: 0.056724350638450334\n",
      "Epoch 4\n",
      "---------\n",
      "Train loss: 0.050649707258981505\n",
      "Epoch 5\n",
      "---------\n",
      "Train loss: 0.04464996370611487\n",
      "Epoch 6\n",
      "---------\n",
      "Train loss: 0.0403856991784303\n",
      "Epoch 7\n",
      "---------\n",
      "Train loss: 0.038430415384566326\n",
      "Epoch 8\n",
      "---------\n",
      "Train loss: 0.03553047048960142\n"
     ]
    }
   ],
   "source": [
    "lstm_loss_train = []\n",
    "num_epoch=9\n",
    "for ix_epoch in range(num_epoch):\n",
    "    print(f\"Epoch {ix_epoch}\\n---------\")\n",
    "    train_loss = train_model(train_loader, model_lstm, loss_function, optimizer=optimizer)\n",
    "#     y_test_pred_lstm = model_lstm(torch.FloatTensor([X_check]))\n",
    "#     y_test_pred_lstm = y_test_pred_lstm.detach().numpy()\n",
    "#     print(mean_absolute_error(y_check* target_stdev + target_mean,y_test_pred_lstm* target_stdev + target_mean))\n",
    "    lstm_loss_train.append(train_loss)"
   ]
  },
  {
   "cell_type": "code",
   "execution_count": 77,
   "id": "f8806195",
   "metadata": {},
   "outputs": [
    {
     "data": {
      "image/png": "[encoded data removed]",
      "text/plain": [
       "<Figure size 576x432 with 1 Axes>"
      ]
     },
     "metadata": {
      "needs_background": "light"
     },
     "output_type": "display_data"
    }
   ],
   "source": [
    "plt.figure(figsize=(8, 6))\n",
    "plt.plot(range(num_epoch), lstm_loss_train, label='train_LSTM')\n",
    "plt.ylabel('Loss')\n",
    "plt.xlabel('Epoch')\n",
    "plt.legend()\n",
    "plt.show()"
   ]
  },
  {
   "cell_type": "markdown",
   "id": "2f44945e",
   "metadata": {},
   "source": [
    "We then use the model to predict the test set, and then compare the results of the prediction to the real values."
   ]
  },
  {
   "cell_type": "code",
   "execution_count": 78,
   "id": "478ffa72",
   "metadata": {},
   "outputs": [],
   "source": [
    "def predict(data_loader, model):\n",
    "    \"\"\"Just like `test_loop` function but keep track of the outputs instead of the loss\n",
    "    function.\n",
    "    \"\"\"\n",
    "    output = []\n",
    "    model.eval()\n",
    "    with torch.no_grad():\n",
    "        for X, _ in data_loader:\n",
    "            y_star = model(X)\n",
    "            output.append(y_star.numpy())  \n",
    "    return output"
   ]
  },
  {
   "cell_type": "code",
   "execution_count": 79,
   "id": "aec3abbe",
   "metadata": {},
   "outputs": [],
   "source": [
    "# Prepare data to evaluate training accuracy of lstm\n",
    "train_eval_loader = DataLoader(data.TensorDataset(X_train, y_train), shuffle=False, batch_size=batch_size)\n",
    "y_train_pred_lstm=predict(train_eval_loader, model_lstm)\n",
    "y_train_lstm=[]\n",
    "for X, y in train_eval_loader:\n",
    "    y_train_lstm.append(y)\n",
    "    "
   ]
  },
  {
   "cell_type": "code",
   "execution_count": 80,
   "id": "1d45f169",
   "metadata": {},
   "outputs": [],
   "source": [
    "from sklearn.metrics import mean_squared_error\n",
    "from sklearn.metrics import mean_absolute_error\n",
    "from sklearn.metrics import mean_absolute_percentage_error\n",
    "def cal_metrics(y_true,y_pred):\n",
    "    mae=0\n",
    "    rmse=0\n",
    "    for i in range(len(y_true)):\n",
    "        y1=y_true[i].flatten().numpy()* target_stdev + target_mean\n",
    "        y2=y_pred[i].flatten()* target_stdev + target_mean\n",
    "        mae=mean_absolute_error(y1, y2)+mae\n",
    "        rmse=mean_squared_error(y1, y2, squared=False)+rmse  \n",
    "    return mae/len(y_true) , rmse/len(y_true)"
   ]
  },
  {
   "cell_type": "code",
   "execution_count": 81,
   "id": "ba63dddb",
   "metadata": {
    "scrolled": true
   },
   "outputs": [
    {
     "name": "stdout",
     "output_type": "stream",
     "text": [
      "MAE train error is 95.13513309940411\n",
      "RMSE train error is 123.17871263832043\n"
     ]
    }
   ],
   "source": [
    "mae_train_lstm, rmse_train_lstm= cal_metrics(y_train_lstm,y_train_pred_lstm)\n",
    "print('MAE train error is',mae_train_lstm)\n",
    "print('RMSE train error is',rmse_train_lstm)\n"
   ]
  },
  {
   "cell_type": "code",
   "execution_count": 82,
   "id": "f0dead4b",
   "metadata": {},
   "outputs": [
    {
     "name": "stdout",
     "output_type": "stream",
     "text": [
      "MAE check error  :  35.37421875\n",
      "RMSE check error :  38.91962945260964\n"
     ]
    }
   ],
   "source": [
    "y_check_pred_lstm = model_lstm(torch.FloatTensor([X_check]))\n",
    "y_check_pred_lstm = y_check_pred_lstm.detach().numpy()\n",
    "\n",
    "mae_check_lstm = mean_absolute_error(y_check* target_stdev + target_mean,y_check_pred_lstm* target_stdev + target_mean)\n",
    "print('MAE check error  : ',mae_check_lstm)\n",
    "rmse_check_lstm = mean_squared_error(y_check* target_stdev + target_mean,y_check_pred_lstm* target_stdev + target_mean, squared=False)\n",
    "print('RMSE check error : ',rmse_check_lstm)"
   ]
  },
  {
   "cell_type": "code",
   "execution_count": 83,
   "id": "6dd56d95",
   "metadata": {},
   "outputs": [
    {
     "data": {
      "text/plain": [
       "array([7676.625 , 7726.4346, 7686.6445, 7657.274 , 7640.7373, 7650.3975,\n",
       "       7644.205 , 7652.706 , 7655.029 , 7636.083 ], dtype=float32)"
      ]
     },
     "execution_count": 83,
     "metadata": {},
     "output_type": "execute_result"
    }
   ],
   "source": [
    "y_check_pred_lstm* target_stdev + target_mean"
   ]
  },
  {
   "cell_type": "code",
   "execution_count": 84,
   "id": "bf55140d",
   "metadata": {},
   "outputs": [
    {
     "data": {
      "text/plain": [
       "array([7728.5 , 7719.21, 7662.51, 7684.49, 7706.28, 7684.3 , 7683.02,\n",
       "       7624.98, 7630.02, 7688.38])"
      ]
     },
     "execution_count": 84,
     "metadata": {},
     "output_type": "execute_result"
    }
   ],
   "source": [
    "y_check* target_stdev + target_mean"
   ]
  },
  {
   "cell_type": "code",
   "execution_count": 85,
   "id": "b783fc5c",
   "metadata": {},
   "outputs": [],
   "source": [
    "from datetime import datetime, date, timedelta\n",
    "start='2024-02-19'\n",
    "start = datetime.strptime(start, '%Y-%m-%d')\n",
    "end= start + timedelta(days=13)\n",
    "# first create a DataFrame with all dates between specified start<-->end using pd.date_range()\n",
    "all_dates = pd.DataFrame(pd.date_range(start, end,freq='B').date, columns=['Date'])"
   ]
  },
  {
   "cell_type": "code",
   "execution_count": 86,
   "id": "b2acf9b4",
   "metadata": {},
   "outputs": [
    {
     "data": {
      "image/png": "[encoded data removed]",
      "text/plain": [
       "<Figure size 720x576 with 1 Axes>"
      ]
     },
     "metadata": {
      "needs_background": "light"
     },
     "output_type": "display_data"
    }
   ],
   "source": [
    "plt.figure(figsize=(10, 8))\n",
    "plt.plot( y_check_pred_lstm* target_stdev + target_mean, label = \"Prediction\",marker='^')\n",
    "plt.plot( y_check* target_stdev + target_mean, label = \"Real\",marker='^')\n",
    "plt.ylabel('Stock Price')\n",
    "plt.xlabel('Days')\n",
    "plt.xticks(list(range(10)), all_dates['Date'].values)\n",
    "plt.xticks(rotation=60)\n",
    "plt.ylim(7000, 8000) \n",
    "plt.legend()\n",
    "plt.show()"
   ]
  },
  {
   "cell_type": "code",
   "execution_count": 87,
   "id": "5b0c319d",
   "metadata": {},
   "outputs": [
    {
     "name": "stdout",
     "output_type": "stream",
     "text": [
      "No. of parameters for Classical LSTM:  5811\n"
     ]
    }
   ],
   "source": [
    "total_params = sum(p.numel() for p in model_lstm.parameters() if p.requires_grad)\n",
    "\n",
    "print(\"No. of parameters for Classical LSTM: \", total_params)"
   ]
  },
  {
   "cell_type": "markdown",
   "id": "de84f7ea",
   "metadata": {},
   "source": [
    "# From 1st to 15th march"
   ]
  },
  {
   "cell_type": "code",
   "execution_count": 88,
   "id": "6ea4e9cb",
   "metadata": {},
   "outputs": [
    {
     "data": {
      "text/plain": [
       "torch.Size([1, 60, 29])"
      ]
     },
     "execution_count": 88,
     "metadata": {},
     "output_type": "execute_result"
    }
   ],
   "source": [
    "X_1_15=(df[features].values)[len(df)-sequence_length:len(df)]\n",
    "torch.FloatTensor([X_1_15]).shape"
   ]
  },
  {
   "cell_type": "code",
   "execution_count": 89,
   "id": "000beebf",
   "metadata": {},
   "outputs": [],
   "source": [
    "y_pred_1_15 = model_lstm(torch.FloatTensor([X_1_15]))\n",
    "y_pred_1_15 = y_pred_1_15.detach().numpy()"
   ]
  },
  {
   "cell_type": "code",
   "execution_count": 90,
   "id": "a1c814df",
   "metadata": {},
   "outputs": [
    {
     "data": {
      "text/plain": [
       "array([7624.0225, 7624.9414, 7601.688 , 7616.088 , 7592.8345, 7567.1323,\n",
       "       7574.6562, 7605.6714, 7603.827 , 7583.411 ], dtype=float32)"
      ]
     },
     "execution_count": 90,
     "metadata": {},
     "output_type": "execute_result"
    }
   ],
   "source": [
    "y_pred_1_15* target_stdev + target_mean"
   ]
  },
  {
   "cell_type": "code",
   "execution_count": null,
   "id": "45054348",
   "metadata": {},
   "outputs": [],
   "source": []
  },
  {
   "cell_type": "code",
   "execution_count": null,
   "id": "03987368",
   "metadata": {},
   "outputs": [],
   "source": []
  },
  {
   "cell_type": "code",
   "execution_count": null,
   "id": "7644aea3",
   "metadata": {},
   "outputs": [],
   "source": []
  }
 ],
 "metadata": {
  "kernelspec": {
   "display_name": "Python 3",
   "language": "python",
   "name": "python3"
  },
  "language_info": {
   "codemirror_mode": {
    "name": "ipython",
    "version": 3
   },
   "file_extension": ".py",
   "mimetype": "text/x-python",
   "name": "python",
   "nbconvert_exporter": "python",
   "pygments_lexer": "ipython3",
   "version": "3.8.8"
  }
 },
 "nbformat": 4,
 "nbformat_minor": 5
}
