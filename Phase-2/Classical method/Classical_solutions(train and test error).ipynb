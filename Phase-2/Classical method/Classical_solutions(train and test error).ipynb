{
 "cells": [
  {
   "cell_type": "code",
   "execution_count": 58,
   "id": "a33a1f56",
   "metadata": {},
   "outputs": [],
   "source": [
    "import pandas as pd\n",
    "from utils import *\n",
    "import time\n",
    "import numpy as np\n",
    "import math\n",
    "import matplotlib.pyplot as plt\n",
    "# Torch package\n",
    "import torch\n",
    "from torch.utils.data import DataLoader\n",
    "from torch import nn\n",
    "import torch\n",
    "from torch import nn\n",
    "from torch.utils.data import Dataset\n",
    "import torch.optim as optim\n",
    "import torch.utils.data as data\n",
    "import random\n",
    "import tensorflow as tf"
   ]
  },
  {
   "cell_type": "code",
   "execution_count": 59,
   "id": "589a4ff5",
   "metadata": {},
   "outputs": [],
   "source": [
    "tf.random.set_seed(15)\n",
    "torch.manual_seed(42)\n",
    "random.seed(42)\n",
    "plt.rcParams[\"font.weight\"] = \"bold\"\n",
    "plt.rcParams[\"axes.labelweight\"] = \"bold\"\n",
    "plt.rcParams.update({'font.size':20})\n",
    "legend_prop = {'weight':'bold'}\n",
    "from pylab import rcParams\n",
    "rcParams['axes.linewidth'] = 2"
   ]
  },
  {
   "cell_type": "markdown",
   "id": "8dcf2258",
   "metadata": {},
   "source": [
    "## Read Data"
   ]
  },
  {
   "cell_type": "code",
   "execution_count": 60,
   "id": "31c36071",
   "metadata": {},
   "outputs": [],
   "source": [
    "df = pd.read_csv('Processed_data.csv')\n",
    "df = df.drop([ 'Unnamed: 0'], axis=1)\n",
    "# Initial dataframe has few rows which has zeros for features like \"SMA_7\" etc and hence removing few top rows\n",
    "df=df[50:]\n",
    "# Remove few redundant data\n",
    "df=df.drop(columns=['Date'])\n",
    "df=df.drop(columns=['CUMLOGRET_1'])\n",
    "df=df.drop(columns=['Gold in USD volume'])\n",
    "df=df.drop(columns=['Open'])\n",
    "df=df.drop(columns=['High'])\n",
    "df=df.drop(columns=['Low'])"
   ]
  },
  {
   "cell_type": "code",
   "execution_count": 61,
   "id": "d53abe07",
   "metadata": {},
   "outputs": [
    {
     "name": "stdout",
     "output_type": "stream",
     "text": [
      "['3M', 'BBB_20_2.0', 'BBL_20_2.0', 'BBM_20_2.0', 'BBP_20_2.0', 'BBU_20_2.0', 'Close_copy', 'Crude Futures_close', 'Crude Futures_volume', 'Crude_H-L', 'Crude_O-C', 'EMA_14', 'EMA_21', 'EMA_7', 'FTSE_H-L', 'FTSE_O-C', 'GBP USD ', 'GBP_USD_H-L', 'GBP_USD_O-C', 'Gold in USD close', 'Gold_H-L', 'Gold_O-C', 'MACD_12_26_9', 'MACDh_12_26_9', 'MACDs_12_26_9', 'SMA_14', 'SMA_21', 'SMA_7', 'Volume']\n",
      "29\n"
     ]
    }
   ],
   "source": [
    "# Set target and features\n",
    "target = \"Close\"\n",
    "features = list(df.columns.difference([\"Close\"]))\n",
    "print(features)\n",
    "print(len(features))"
   ]
  },
  {
   "cell_type": "markdown",
   "id": "a65613d0",
   "metadata": {},
   "source": [
    "## Normalize data"
   ]
  },
  {
   "cell_type": "code",
   "execution_count": 62,
   "id": "bff7d289",
   "metadata": {},
   "outputs": [],
   "source": [
    "target_mean = df[target].mean()\n",
    "target_stdev = df[target].std()\n",
    "\n",
    "for c in df.columns:\n",
    "    mean = df[c].mean()\n",
    "    stdev = df[c].std()\n",
    "\n",
    "    df[c] = (df[c] - mean) / stdev"
   ]
  },
  {
   "cell_type": "code",
   "execution_count": 63,
   "id": "943866a4",
   "metadata": {},
   "outputs": [
    {
     "data": {
      "text/html": [
       "<div>\n",
       "<style scoped>\n",
       "    .dataframe tbody tr th:only-of-type {\n",
       "        vertical-align: middle;\n",
       "    }\n",
       "\n",
       "    .dataframe tbody tr th {\n",
       "        vertical-align: top;\n",
       "    }\n",
       "\n",
       "    .dataframe thead th {\n",
       "        text-align: right;\n",
       "    }\n",
       "</style>\n",
       "<table border=\"1\" class=\"dataframe\">\n",
       "  <thead>\n",
       "    <tr style=\"text-align: right;\">\n",
       "      <th></th>\n",
       "      <th>Close</th>\n",
       "      <th>Volume</th>\n",
       "      <th>EMA_7</th>\n",
       "      <th>EMA_14</th>\n",
       "      <th>EMA_21</th>\n",
       "      <th>SMA_7</th>\n",
       "      <th>SMA_14</th>\n",
       "      <th>SMA_21</th>\n",
       "      <th>MACD_12_26_9</th>\n",
       "      <th>MACDh_12_26_9</th>\n",
       "      <th>...</th>\n",
       "      <th>3M</th>\n",
       "      <th>FTSE_H-L</th>\n",
       "      <th>FTSE_O-C</th>\n",
       "      <th>GBP_USD_H-L</th>\n",
       "      <th>GBP_USD_O-C</th>\n",
       "      <th>Gold_H-L</th>\n",
       "      <th>Gold_O-C</th>\n",
       "      <th>Crude_H-L</th>\n",
       "      <th>Crude_O-C</th>\n",
       "      <th>Close_copy</th>\n",
       "    </tr>\n",
       "  </thead>\n",
       "  <tbody>\n",
       "    <tr>\n",
       "      <th>50</th>\n",
       "      <td>-2.216035</td>\n",
       "      <td>0.076483</td>\n",
       "      <td>-2.142262</td>\n",
       "      <td>-2.152261</td>\n",
       "      <td>-2.194267</td>\n",
       "      <td>-2.125236</td>\n",
       "      <td>-2.076858</td>\n",
       "      <td>-2.136731</td>\n",
       "      <td>0.580627</td>\n",
       "      <td>-0.832570</td>\n",
       "      <td>...</td>\n",
       "      <td>-0.051602</td>\n",
       "      <td>1.239983</td>\n",
       "      <td>0.263215</td>\n",
       "      <td>0.069296</td>\n",
       "      <td>-0.504898</td>\n",
       "      <td>-0.245371</td>\n",
       "      <td>0.621244</td>\n",
       "      <td>0.493902</td>\n",
       "      <td>0.076677</td>\n",
       "      <td>-2.216035</td>\n",
       "    </tr>\n",
       "    <tr>\n",
       "      <th>51</th>\n",
       "      <td>-2.056965</td>\n",
       "      <td>-0.239245</td>\n",
       "      <td>-2.123602</td>\n",
       "      <td>-2.142163</td>\n",
       "      <td>-2.184183</td>\n",
       "      <td>-2.111332</td>\n",
       "      <td>-2.077166</td>\n",
       "      <td>-2.125910</td>\n",
       "      <td>0.587184</td>\n",
       "      <td>-0.650028</td>\n",
       "      <td>...</td>\n",
       "      <td>-0.049936</td>\n",
       "      <td>0.645604</td>\n",
       "      <td>-1.592823</td>\n",
       "      <td>0.546749</td>\n",
       "      <td>0.078090</td>\n",
       "      <td>-0.237026</td>\n",
       "      <td>-0.837124</td>\n",
       "      <td>-0.175958</td>\n",
       "      <td>0.061469</td>\n",
       "      <td>-2.056965</td>\n",
       "    </tr>\n",
       "    <tr>\n",
       "      <th>52</th>\n",
       "      <td>-2.098709</td>\n",
       "      <td>-0.344334</td>\n",
       "      <td>-2.120115</td>\n",
       "      <td>-2.139050</td>\n",
       "      <td>-2.178879</td>\n",
       "      <td>-2.117365</td>\n",
       "      <td>-2.077906</td>\n",
       "      <td>-2.121902</td>\n",
       "      <td>0.551176</td>\n",
       "      <td>-0.605426</td>\n",
       "      <td>...</td>\n",
       "      <td>-0.049715</td>\n",
       "      <td>0.155241</td>\n",
       "      <td>0.435721</td>\n",
       "      <td>0.581028</td>\n",
       "      <td>6.329870</td>\n",
       "      <td>-1.246710</td>\n",
       "      <td>0.090208</td>\n",
       "      <td>-0.326489</td>\n",
       "      <td>0.989154</td>\n",
       "      <td>-2.098709</td>\n",
       "    </tr>\n",
       "    <tr>\n",
       "      <th>53</th>\n",
       "      <td>-2.101239</td>\n",
       "      <td>0.232217</td>\n",
       "      <td>-2.118136</td>\n",
       "      <td>-2.136693</td>\n",
       "      <td>-2.174291</td>\n",
       "      <td>-2.119588</td>\n",
       "      <td>-2.081983</td>\n",
       "      <td>-2.115752</td>\n",
       "      <td>0.513769</td>\n",
       "      <td>-0.573078</td>\n",
       "      <td>...</td>\n",
       "      <td>-0.049288</td>\n",
       "      <td>0.938548</td>\n",
       "      <td>0.039596</td>\n",
       "      <td>0.103050</td>\n",
       "      <td>0.078090</td>\n",
       "      <td>0.572390</td>\n",
       "      <td>-0.203051</td>\n",
       "      <td>-1.432887</td>\n",
       "      <td>0.008242</td>\n",
       "      <td>-2.101239</td>\n",
       "    </tr>\n",
       "    <tr>\n",
       "      <th>54</th>\n",
       "      <td>-2.114521</td>\n",
       "      <td>0.606201</td>\n",
       "      <td>-2.119995</td>\n",
       "      <td>-2.136444</td>\n",
       "      <td>-2.171350</td>\n",
       "      <td>-2.119997</td>\n",
       "      <td>-2.105306</td>\n",
       "      <td>-2.108239</td>\n",
       "      <td>0.467045</td>\n",
       "      <td>-0.569404</td>\n",
       "      <td>...</td>\n",
       "      <td>-0.048312</td>\n",
       "      <td>0.724147</td>\n",
       "      <td>0.148211</td>\n",
       "      <td>-0.139122</td>\n",
       "      <td>1.708155</td>\n",
       "      <td>0.405500</td>\n",
       "      <td>0.288356</td>\n",
       "      <td>0.019731</td>\n",
       "      <td>0.152717</td>\n",
       "      <td>-2.114521</td>\n",
       "    </tr>\n",
       "  </tbody>\n",
       "</table>\n",
       "<p>5 rows × 30 columns</p>\n",
       "</div>"
      ],
      "text/plain": [
       "       Close    Volume     EMA_7    EMA_14    EMA_21     SMA_7    SMA_14  \\\n",
       "50 -2.216035  0.076483 -2.142262 -2.152261 -2.194267 -2.125236 -2.076858   \n",
       "51 -2.056965 -0.239245 -2.123602 -2.142163 -2.184183 -2.111332 -2.077166   \n",
       "52 -2.098709 -0.344334 -2.120115 -2.139050 -2.178879 -2.117365 -2.077906   \n",
       "53 -2.101239  0.232217 -2.118136 -2.136693 -2.174291 -2.119588 -2.081983   \n",
       "54 -2.114521  0.606201 -2.119995 -2.136444 -2.171350 -2.119997 -2.105306   \n",
       "\n",
       "      SMA_21  MACD_12_26_9  MACDh_12_26_9  ...        3M  FTSE_H-L  FTSE_O-C  \\\n",
       "50 -2.136731      0.580627      -0.832570  ... -0.051602  1.239983  0.263215   \n",
       "51 -2.125910      0.587184      -0.650028  ... -0.049936  0.645604 -1.592823   \n",
       "52 -2.121902      0.551176      -0.605426  ... -0.049715  0.155241  0.435721   \n",
       "53 -2.115752      0.513769      -0.573078  ... -0.049288  0.938548  0.039596   \n",
       "54 -2.108239      0.467045      -0.569404  ... -0.048312  0.724147  0.148211   \n",
       "\n",
       "    GBP_USD_H-L  GBP_USD_O-C  Gold_H-L  Gold_O-C  Crude_H-L  Crude_O-C  \\\n",
       "50     0.069296    -0.504898 -0.245371  0.621244   0.493902   0.076677   \n",
       "51     0.546749     0.078090 -0.237026 -0.837124  -0.175958   0.061469   \n",
       "52     0.581028     6.329870 -1.246710  0.090208  -0.326489   0.989154   \n",
       "53     0.103050     0.078090  0.572390 -0.203051  -1.432887   0.008242   \n",
       "54    -0.139122     1.708155  0.405500  0.288356   0.019731   0.152717   \n",
       "\n",
       "    Close_copy  \n",
       "50   -2.216035  \n",
       "51   -2.056965  \n",
       "52   -2.098709  \n",
       "53   -2.101239  \n",
       "54   -2.114521  \n",
       "\n",
       "[5 rows x 30 columns]"
      ]
     },
     "execution_count": 63,
     "metadata": {},
     "output_type": "execute_result"
    }
   ],
   "source": [
    "df.head()"
   ]
  },
  {
   "cell_type": "markdown",
   "id": "f6df5754",
   "metadata": {},
   "source": [
    "## Data processing for time series model"
   ]
  },
  {
   "cell_type": "markdown",
   "id": "c9d23113",
   "metadata": {},
   "source": [
    "The data processing is to prepare the data in a sequence of past observations. Preparation of the time series data means that it uses a certain number of past observations to predict the future. In this case, the sequence length decides how many days the LSTM considers in advance and window decides how many days we want to predict for. If the sequence length is $n$ and window is $w$, then the LSTM considers the last $n$ observations to predict the next $w$ day price."
   ]
  },
  {
   "cell_type": "code",
   "execution_count": 64,
   "id": "465d24a1",
   "metadata": {},
   "outputs": [],
   "source": [
    "sequence_length = 60\n",
    "window =10\n",
    "\n",
    "def create_dataset(dataset,target,features, lookback, window):\n",
    "    X_store, y_store = [], []\n",
    "    for i in range(0,len(dataset)-lookback-window,2):\n",
    "        X = (dataset[features].values)[i:i+lookback]\n",
    "        y = (dataset[target].values)[i+lookback:i+lookback+window]\n",
    "        X_store.append(X)\n",
    "        y_store.append(y)\n",
    "    return torch.FloatTensor(np.array(X_store)), torch.FloatTensor(np.array(y_store))"
   ]
  },
  {
   "cell_type": "code",
   "execution_count": 65,
   "id": "85abfafc",
   "metadata": {},
   "outputs": [
    {
     "name": "stdout",
     "output_type": "stream",
     "text": [
      "Total sample 3208\n",
      "Train sample 3079\n",
      "Test sample 129\n"
     ]
    }
   ],
   "source": [
    "# Split train test data\n",
    "from sklearn.model_selection import train_test_split\n",
    "# df_train, df_test = train_test_split(df, test_size=0.05)\n",
    "size=int(len(df)*0.96)\n",
    "df_train=df[:size]\n",
    "df_test=df[size:]\n",
    "print('Total sample', len(df))\n",
    "print('Train sample', len(df_train))\n",
    "print('Test sample', len(df_test))"
   ]
  },
  {
   "cell_type": "code",
   "execution_count": 66,
   "id": "da089e65",
   "metadata": {},
   "outputs": [
    {
     "name": "stdout",
     "output_type": "stream",
     "text": [
      "torch.Size([1505, 60, 29]) torch.Size([1505, 10])\n"
     ]
    }
   ],
   "source": [
    "# Train data\n",
    "X_train, y_train = create_dataset(\n",
    "    df_train,\n",
    "    target=target,\n",
    "    features=features,\n",
    "    lookback=sequence_length, window=window)\n",
    "\n",
    "indices = tf.range(start=0, limit=tf.shape(X_train)[0])\n",
    "shuffled_indices = tf.random.shuffle(indices)\n",
    "X_train = tf.gather(X_train, shuffled_indices)\n",
    "y_train = tf.gather(y_train, shuffled_indices)\n",
    "\n",
    "X_train=torch.FloatTensor(np.array(X_train))\n",
    "y_train=torch.FloatTensor(np.array(y_train))\n",
    "\n",
    "print(X_train.shape, y_train.shape)"
   ]
  },
  {
   "cell_type": "code",
   "execution_count": 67,
   "id": "17880330",
   "metadata": {},
   "outputs": [
    {
     "name": "stdout",
     "output_type": "stream",
     "text": [
      "torch.Size([30, 60, 29]) torch.Size([30, 10])\n"
     ]
    }
   ],
   "source": [
    "# Test data\n",
    "X_test, y_test = create_dataset(\n",
    "    df_test,\n",
    "    target=target,\n",
    "    features=features,\n",
    "    lookback=sequence_length, window=window)\n",
    "\n",
    "X_test=torch.FloatTensor(np.array(X_test))\n",
    "y_test=torch.FloatTensor(np.array(y_test))\n",
    "\n",
    "print(X_test.shape, y_test.shape)"
   ]
  },
  {
   "cell_type": "code",
   "execution_count": 68,
   "id": "0c7f423c",
   "metadata": {},
   "outputs": [],
   "source": [
    "batch_size=10\n",
    "train_loader = DataLoader(data.TensorDataset(X_train, y_train), shuffle=True, batch_size=batch_size)\n",
    "test_loader= DataLoader(data.TensorDataset(X_test, y_test), shuffle=True, batch_size=batch_size)"
   ]
  },
  {
   "cell_type": "code",
   "execution_count": 69,
   "id": "23995e43",
   "metadata": {},
   "outputs": [
    {
     "data": {
      "text/plain": [
       "torch.Size([1, 60, 29])"
      ]
     },
     "execution_count": 69,
     "metadata": {},
     "output_type": "execute_result"
    }
   ],
   "source": [
    "# The unknown data\n",
    "X_check=(df_train[features].values)[len(df_train)-sequence_length:len(df_train)]\n",
    "y_check=(df_test[target].values)[:window]\n",
    "torch.FloatTensor([X_check]).shape"
   ]
  },
  {
   "cell_type": "markdown",
   "id": "245af1d7",
   "metadata": {},
   "source": [
    "## Classical LSTM"
   ]
  },
  {
   "cell_type": "markdown",
   "id": "50a784bc",
   "metadata": {},
   "source": [
    "We first define train_model: function to train the model based on the batches of data\n",
    "We print the loss at the end to understand how the model is performing with regards to the data."
   ]
  },
  {
   "cell_type": "code",
   "execution_count": 70,
   "id": "dbe496cd",
   "metadata": {},
   "outputs": [],
   "source": [
    "def train_model(data_loader, model, loss_function, optimizer):\n",
    "    num_batches = len(data_loader)\n",
    "    total_loss = 0\n",
    "    model.train()\n",
    "    \n",
    "    for X, y in data_loader:\n",
    "        output = model(X)\n",
    "        loss = loss_function(output, y)\n",
    "\n",
    "        optimizer.zero_grad()\n",
    "        loss.backward()\n",
    "        optimizer.step()\n",
    "\n",
    "        total_loss += loss.item()\n",
    "\n",
    "    avg_loss = total_loss / num_batches\n",
    "    print(f\"Train loss: {avg_loss}\")\n",
    "    return avg_loss\n",
    "\n",
    "def test_model(data_loader, model, loss_function):\n",
    "    \n",
    "    num_batches = len(data_loader)\n",
    "    total_loss = 0\n",
    "\n",
    "    model.eval()\n",
    "    with torch.no_grad():\n",
    "        for X, y in data_loader:\n",
    "            output = model(X)\n",
    "            total_loss += loss_function(output, y).item()\n",
    "\n",
    "    avg_loss = total_loss / num_batches\n",
    "    print(f\"Test loss: {avg_loss}\")\n",
    "    return avg_loss"
   ]
  },
  {
   "cell_type": "markdown",
   "id": "8dd5d66a",
   "metadata": {},
   "source": [
    "## Classical LSTM"
   ]
  },
  {
   "cell_type": "code",
   "execution_count": 71,
   "id": "aa31393b",
   "metadata": {},
   "outputs": [],
   "source": [
    "class ShallowRegressionLSTM(nn.Module):\n",
    "    def __init__(self, num_sensors, hidden_units):\n",
    "        super().__init__()\n",
    "        self.num_sensors = num_sensors  # this is the number of features\n",
    "        self.hidden_units = hidden_units\n",
    "        self.num_layers = 2\n",
    "\n",
    "        self.lstm = nn.LSTM(\n",
    "            input_size=num_sensors,\n",
    "            hidden_size=hidden_units,\n",
    "            batch_first=True,\n",
    "            num_layers=self.num_layers\n",
    "        )\n",
    "\n",
    "        self.linear = nn.Linear(in_features=self.hidden_units, out_features=1) # The output dimesion is set as window\n",
    "        self.linear_2 = nn.Linear(in_features=60, out_features=10)\n",
    "\n",
    "    def forward(self, x):\n",
    "        batch_size = x.shape[0]\n",
    "        h0 = torch.zeros(self.num_layers, batch_size, self.hidden_units).requires_grad_()\n",
    "        c0 = torch.zeros(self.num_layers, batch_size, self.hidden_units).requires_grad_()\n",
    "        \n",
    "        out_l1, (hn, _) = self.lstm(x, (h0, c0))\n",
    "        out_l2 = self.linear(out_l1)\n",
    "        out = self.linear_2(torch.squeeze(out_l2))\n",
    "        return torch.squeeze(out)"
   ]
  },
  {
   "cell_type": "code",
   "execution_count": 72,
   "id": "2a758f02",
   "metadata": {},
   "outputs": [],
   "source": [
    "learning_rate = 0.001\n",
    "num_hidden_units = 16\n",
    "\n",
    "model_lstm = ShallowRegressionLSTM(num_sensors=len(features), hidden_units=num_hidden_units)\n",
    "loss_function = nn.MSELoss()\n",
    "optimizer = torch.optim.Adam(model_lstm.parameters(), lr=learning_rate)"
   ]
  },
  {
   "cell_type": "code",
   "execution_count": 73,
   "id": "5e2cdd9a",
   "metadata": {},
   "outputs": [
    {
     "name": "stdout",
     "output_type": "stream",
     "text": [
      "Epoch 0\n",
      "---------\n",
      "Train loss: 0.3578976307631723\n",
      "Test loss: 0.023320284361640613\n",
      "Epoch 1\n",
      "---------\n",
      "Train loss: 0.0964452400556858\n",
      "Test loss: 0.020240865647792816\n",
      "Epoch 2\n",
      "---------\n",
      "Train loss: 0.06925558752768876\n",
      "Test loss: 0.01897266134619713\n",
      "Epoch 3\n",
      "---------\n",
      "Train loss: 0.05903856806605067\n",
      "Test loss: 0.01843634309868018\n",
      "Epoch 4\n",
      "---------\n",
      "Train loss: 0.05094065175496584\n",
      "Test loss: 0.026794563978910446\n",
      "Epoch 5\n",
      "---------\n",
      "Train loss: 0.04546163956455837\n",
      "Test loss: 0.06199351573983828\n",
      "Epoch 6\n",
      "---------\n",
      "Train loss: 0.04427043376305443\n",
      "Test loss: 0.030182429899772007\n",
      "Epoch 7\n",
      "---------\n",
      "Train loss: 0.03866795722444523\n",
      "Test loss: 0.04428071901202202\n",
      "Epoch 8\n",
      "---------\n",
      "Train loss: 0.03684275446842048\n",
      "Test loss: 0.02470926692088445\n",
      "Epoch 9\n",
      "---------\n",
      "Train loss: 0.03439883298752521\n",
      "Test loss: 0.026324304441610973\n",
      "Epoch 10\n",
      "---------\n",
      "Train loss: 0.032820831583381095\n",
      "Test loss: 0.027206328387061756\n",
      "Epoch 11\n",
      "---------\n",
      "Train loss: 0.031207971028144786\n",
      "Test loss: 0.02344446008404096\n"
     ]
    }
   ],
   "source": [
    "lstm_loss_train = []\n",
    "lstm_loss_test=[]\n",
    "num_epoch=12\n",
    "for ix_epoch in range(num_epoch):\n",
    "    print(f\"Epoch {ix_epoch}\\n---------\")\n",
    "    train_loss = train_model(train_loader, model_lstm, loss_function, optimizer=optimizer)\n",
    "    test_loss = test_model(test_loader, model_lstm, loss_function)\n",
    "    lstm_loss_train.append(train_loss)\n",
    "    lstm_loss_test.append(test_loss)"
   ]
  },
  {
   "cell_type": "code",
   "execution_count": 74,
   "id": "f8806195",
   "metadata": {},
   "outputs": [
    {
     "data": {
      "image/png": "[encoded data removed]",
      "text/plain": [
       "<Figure size 576x432 with 1 Axes>"
      ]
     },
     "metadata": {
      "needs_background": "light"
     },
     "output_type": "display_data"
    }
   ],
   "source": [
    "plt.figure(figsize=(8, 6))\n",
    "plt.plot(range(num_epoch), lstm_loss_train, label='train')\n",
    "plt.plot(range(num_epoch), lstm_loss_test, label='test')\n",
    "plt.ylabel('Loss')\n",
    "plt.xlabel('Epoch')\n",
    "plt.legend()\n",
    "plt.show()"
   ]
  },
  {
   "cell_type": "markdown",
   "id": "2f44945e",
   "metadata": {},
   "source": [
    "We then use the model to predict the test set, and then compare the results of the prediction to the real values."
   ]
  },
  {
   "cell_type": "code",
   "execution_count": 75,
   "id": "478ffa72",
   "metadata": {},
   "outputs": [],
   "source": [
    "def predict(data_loader, model):\n",
    "    \"\"\"Just like `test_loop` function but keep track of the outputs instead of the loss\n",
    "    function.\n",
    "    \"\"\"\n",
    "    output = []\n",
    "    model.eval()\n",
    "    with torch.no_grad():\n",
    "        for X, _ in data_loader:\n",
    "            y_star = model(X)\n",
    "            output.append(y_star.numpy())  \n",
    "    return output"
   ]
  },
  {
   "cell_type": "code",
   "execution_count": 76,
   "id": "aec3abbe",
   "metadata": {},
   "outputs": [],
   "source": [
    "# Prepare data to evaluate training accuracy of lstm\n",
    "train_eval_loader = DataLoader(data.TensorDataset(X_train, y_train), shuffle=False, batch_size=batch_size)\n",
    "y_train_pred_lstm=predict(train_eval_loader, model_lstm)\n",
    "y_train_lstm=[]\n",
    "for X, y in train_eval_loader:\n",
    "    y_train_lstm.append(y)\n",
    "    \n",
    "# Prepare data to evaluate test accuracy of lstm\n",
    "test_eval_loader = DataLoader(data.TensorDataset(X_test, y_test), shuffle=False, batch_size=batch_size)\n",
    "y_test_pred_lstm=predict(test_eval_loader, model_lstm)\n",
    "y_test_lstm=[]\n",
    "for X, y in test_eval_loader:\n",
    "    y_test_lstm.append(y)"
   ]
  },
  {
   "cell_type": "code",
   "execution_count": 77,
   "id": "1d45f169",
   "metadata": {},
   "outputs": [],
   "source": [
    "from sklearn.metrics import mean_squared_error\n",
    "from sklearn.metrics import mean_absolute_error\n",
    "from sklearn.metrics import mean_absolute_percentage_error\n",
    "def cal_metrics(y_true,y_pred):\n",
    "    mae=0\n",
    "    rmse=0\n",
    "    for i in range(len(y_true)):\n",
    "        y1=y_true[i].flatten().numpy()* target_stdev + target_mean\n",
    "        y2=y_pred[i].flatten()* target_stdev + target_mean\n",
    "        mae=mean_absolute_error(y1, y2)+mae\n",
    "        rmse=mean_squared_error(y1, y2, squared=False)+rmse  \n",
    "    return mae/len(y_true) , rmse/len(y_true)"
   ]
  },
  {
   "cell_type": "code",
   "execution_count": 78,
   "id": "ba63dddb",
   "metadata": {
    "scrolled": true
   },
   "outputs": [
    {
     "name": "stdout",
     "output_type": "stream",
     "text": [
      "MAE train error is 83.40465421866108\n",
      "RMSE train error is 106.97026905792438\n",
      "MAE test error is 79.15838114420573\n",
      "RMSE test error is 95.78101857503255\n"
     ]
    }
   ],
   "source": [
    "mae_train_lstm, rmse_train_lstm= cal_metrics(y_train_lstm,y_train_pred_lstm)\n",
    "print('MAE train error is',mae_train_lstm)\n",
    "print('RMSE train error is',rmse_train_lstm)\n",
    "\n",
    "mae_test_lstm, rmse_test_lstm= cal_metrics(y_test_lstm,y_test_pred_lstm)\n",
    "print('MAE test error is',mae_test_lstm)\n",
    "print('RMSE test error is',rmse_test_lstm)"
   ]
  },
  {
   "cell_type": "code",
   "execution_count": 79,
   "id": "f0dead4b",
   "metadata": {},
   "outputs": [
    {
     "name": "stdout",
     "output_type": "stream",
     "text": [
      "MAE check error  :  93.22048046874997\n",
      "RMSE check error :  99.54305347355756\n"
     ]
    }
   ],
   "source": [
    "y_check_pred_lstm = model_lstm(torch.FloatTensor([X_check]))\n",
    "y_check_pred_lstm = y_check_pred_lstm.detach().numpy()\n",
    "\n",
    "mae_check_lstm = mean_absolute_error(y_check* target_stdev + target_mean,y_check_pred_lstm* target_stdev + target_mean)\n",
    "print('MAE check error  : ',mae_check_lstm)\n",
    "rmse_check_lstm = mean_squared_error(y_check* target_stdev + target_mean,y_check_pred_lstm* target_stdev + target_mean, squared=False)\n",
    "print('RMSE check error : ',rmse_check_lstm)"
   ]
  },
  {
   "cell_type": "code",
   "execution_count": 80,
   "id": "b783fc5c",
   "metadata": {},
   "outputs": [
    {
     "name": "stdout",
     "output_type": "stream",
     "text": [
      "MAE Error 115.747604\n",
      "MAE Error 69.14126\n",
      "MAE Error 71.907326\n",
      "MAE Error 80.10435\n",
      "MAE Error 70.08413\n",
      "MAE Error 59.75376\n",
      "MAE Error 62.339745\n",
      "MAE Error 39.166748\n",
      "MAE Error 18.72041\n",
      "MAE Error 34.72827\n",
      "MAE Error 51.058006\n",
      "MAE Error 50.438232\n",
      "MAE Error 49.11382\n",
      "MAE Error 59.125195\n",
      "MAE Error 81.34737\n",
      "MAE Error 101.77158\n",
      "MAE Error 104.67822\n",
      "MAE Error 82.968605\n",
      "MAE Error 96.19448\n",
      "MAE Error 126.45557\n",
      "MAE Error 128.54443\n",
      "MAE Error 129.469\n",
      "MAE Error 100.66709\n",
      "MAE Error 47.291893\n",
      "MAE Error 43.46636\n",
      "MAE Error 56.850586\n",
      "MAE Error 59.572998\n",
      "MAE Error 85.25352\n",
      "MAE Error 139.14908\n",
      "MAE Error 159.6416\n"
     ]
    }
   ],
   "source": [
    "for k in range(len(X_test)):\n",
    "    y_k = model_lstm(torch.FloatTensor([X_test[k].numpy()]))\n",
    "    y_k=y_k.detach().numpy()\n",
    "    x1_k=y_k*target_stdev + target_mean\n",
    "    x2_k=y_test[k]*target_stdev + target_mean\n",
    "    print('MAE Error',mean_absolute_error(x1_k, x2_k ) )"
   ]
  },
  {
   "cell_type": "code",
   "execution_count": null,
   "id": "3cec8d55",
   "metadata": {},
   "outputs": [],
   "source": []
  },
  {
   "cell_type": "markdown",
   "id": "5f530116",
   "metadata": {},
   "source": [
    "## Running the ARIMA "
   ]
  },
  {
   "cell_type": "code",
   "execution_count": 81,
   "id": "a3e88a61",
   "metadata": {},
   "outputs": [
    {
     "name": "stderr",
     "output_type": "stream",
     "text": [
      "<ipython-input-81-82fdbb8aee4b>:3: FutureWarning: The pandas.datetime class is deprecated and will be removed from pandas in a future version. Import from datetime module instead.\n",
      "  from pandas import datetime\n",
      "<ipython-input-81-82fdbb8aee4b>:5: FutureWarning: The pandas.datetime class is deprecated and will be removed from pandas in a future version. Import from datetime module instead.\n",
      "  from pandas import datetime\n"
     ]
    }
   ],
   "source": [
    "from statsmodels.tsa.arima.model import ARIMA\n",
    "from pandas import DataFrame\n",
    "from pandas import datetime\n",
    "from pandas import read_csv\n",
    "from pandas import datetime\n",
    "from statsmodels.tsa.arima.model import ARIMA\n",
    "from sklearn.metrics import mean_squared_error\n",
    "from pmdarima.arima import auto_arima"
   ]
  },
  {
   "cell_type": "code",
   "execution_count": 82,
   "id": "17dab4d7",
   "metadata": {},
   "outputs": [],
   "source": [
    "train_data_arima=df_train[target].values # train on full data\n",
    "check_data_arima=df_test[target].values[:window]"
   ]
  },
  {
   "cell_type": "code",
   "execution_count": 83,
   "id": "89be58bd",
   "metadata": {},
   "outputs": [
    {
     "name": "stdout",
     "output_type": "stream",
     "text": [
      "Performing stepwise search to minimize aic\n",
      " ARIMA(0,1,0)(0,0,0)[0] intercept   : AIC=-5498.728, Time=0.38 sec\n",
      " ARIMA(1,1,0)(0,0,0)[0] intercept   : AIC=-5496.823, Time=0.20 sec\n",
      " ARIMA(0,1,1)(0,0,0)[0] intercept   : AIC=-5496.824, Time=0.25 sec\n",
      " ARIMA(0,1,0)(0,0,0)[0]             : AIC=-5500.393, Time=0.14 sec\n",
      " ARIMA(1,1,1)(0,0,0)[0] intercept   : AIC=-5495.682, Time=0.80 sec\n",
      "\n",
      "Best model:  ARIMA(0,1,0)(0,0,0)[0]          \n",
      "Total fit time: 1.769 seconds\n",
      "                               SARIMAX Results                                \n",
      "==============================================================================\n",
      "Dep. Variable:                      y   No. Observations:                 3079\n",
      "Model:               SARIMAX(0, 1, 0)   Log Likelihood                2751.197\n",
      "Date:                Fri, 08 Mar 2024   AIC                          -5500.393\n",
      "Time:                        08:50:20   BIC                          -5494.361\n",
      "Sample:                             0   HQIC                         -5498.227\n",
      "                               - 3079                                         \n",
      "Covariance Type:                  opg                                         \n",
      "==============================================================================\n",
      "                 coef    std err          z      P>|z|      [0.025      0.975]\n",
      "------------------------------------------------------------------------------\n",
      "sigma2         0.0098      0.000     85.710      0.000       0.010       0.010\n",
      "===================================================================================\n",
      "Ljung-Box (L1) (Q):                   0.10   Jarque-Bera (JB):              7626.38\n",
      "Prob(Q):                              0.76   Prob(JB):                         0.00\n",
      "Heteroskedasticity (H):               2.03   Skew:                            -0.72\n",
      "Prob(H) (two-sided):                  0.00   Kurtosis:                        10.58\n",
      "===================================================================================\n",
      "\n",
      "Warnings:\n",
      "[1] Covariance matrix calculated using the outer product of gradients (complex-step).\n"
     ]
    },
    {
     "data": {
      "image/png": "[encoded data removed]",
      "text/plain": [
       "<Figure size 1080x576 with 4 Axes>"
      ]
     },
     "metadata": {
      "needs_background": "light"
     },
     "output_type": "display_data"
    }
   ],
   "source": [
    "model_autoARIMA = auto_arima(train_data_arima, start_p=0, start_q=0,\n",
    "                      test='adf',       # use adftest to find optimal 'd'\n",
    "                      max_p=3, max_q=3, # maximum p and q\n",
    "                      m=1,              # frequency of series\n",
    "                      d=None,           # let model determine 'd'\n",
    "                      seasonal=False,   # No Seasonality\n",
    "                      start_P=0, \n",
    "                      D=0, \n",
    "                      trace=True,\n",
    "                      error_action='ignore',  \n",
    "                      suppress_warnings=True, \n",
    "                      stepwise=True)\n",
    "print(model_autoARIMA.summary())\n",
    "model_autoARIMA.plot_diagnostics(figsize=(15,8))\n",
    "plt.show()"
   ]
  },
  {
   "cell_type": "code",
   "execution_count": 84,
   "id": "83c2e727",
   "metadata": {},
   "outputs": [
    {
     "name": "stdout",
     "output_type": "stream",
     "text": [
      "                               SARIMAX Results                                \n",
      "==============================================================================\n",
      "Dep. Variable:                      y   No. Observations:                 3079\n",
      "Model:                 ARIMA(0, 1, 0)   Log Likelihood                2751.197\n",
      "Date:                Fri, 08 Mar 2024   AIC                          -5500.393\n",
      "Time:                        08:50:20   BIC                          -5494.361\n",
      "Sample:                             0   HQIC                         -5498.227\n",
      "                               - 3079                                         \n",
      "Covariance Type:                  opg                                         \n",
      "==============================================================================\n",
      "                 coef    std err          z      P>|z|      [0.025      0.975]\n",
      "------------------------------------------------------------------------------\n",
      "sigma2         0.0098      0.000     85.710      0.000       0.010       0.010\n",
      "===================================================================================\n",
      "Ljung-Box (L1) (Q):                   0.10   Jarque-Bera (JB):              7626.38\n",
      "Prob(Q):                              0.76   Prob(JB):                         0.00\n",
      "Heteroskedasticity (H):               2.03   Skew:                            -0.72\n",
      "Prob(H) (two-sided):                  0.00   Kurtosis:                        10.58\n",
      "===================================================================================\n",
      "\n",
      "Warnings:\n",
      "[1] Covariance matrix calculated using the outer product of gradients (complex-step).\n"
     ]
    }
   ],
   "source": [
    "import statsmodels.api as sm\n",
    "model_arima = ARIMA(train_data_arima, order=(0,1,0))  \n",
    "fitted = model_arima.fit()  \n",
    "print(fitted.summary())"
   ]
  },
  {
   "cell_type": "code",
   "execution_count": 85,
   "id": "cef8c68d",
   "metadata": {},
   "outputs": [
    {
     "name": "stderr",
     "output_type": "stream",
     "text": [
      "C:\\anaconda_installed\\lib\\site-packages\\statsmodels\\tsa\\statespace\\representation.py:374: FutureWarning: Unknown keyword arguments: dict_keys(['alpha']).Passing unknown keyword arguments will raise a TypeError beginning in version 0.15.\n",
      "  warnings.warn(msg, FutureWarning)\n"
     ]
    }
   ],
   "source": [
    "# Forecast\n",
    "y_check_pred_arima = fitted.forecast(window, alpha=0.05)  # 95% conf"
   ]
  },
  {
   "cell_type": "code",
   "execution_count": 86,
   "id": "dc6af13c",
   "metadata": {},
   "outputs": [
    {
     "name": "stdout",
     "output_type": "stream",
     "text": [
      "Mean absolute error(check) :  94.9149999999997\n",
      "Root Mean Squared error(check) :  130.41979792194104\n"
     ]
    }
   ],
   "source": [
    "mae_check_arima = mean_absolute_error(y_check* target_stdev + target_mean,y_check_pred_arima* target_stdev + target_mean)\n",
    "print('Mean absolute error(check) : ',mae_check_arima)\n",
    "rmse_check_arima = mean_squared_error(y_check* target_stdev + target_mean,y_check_pred_arima* target_stdev + target_mean, squared=False)\n",
    "print('Root Mean Squared error(check) : ',rmse_check_arima)"
   ]
  },
  {
   "cell_type": "code",
   "execution_count": null,
   "id": "5c82f5bc",
   "metadata": {},
   "outputs": [],
   "source": []
  },
  {
   "cell_type": "markdown",
   "id": "aa29c82e",
   "metadata": {},
   "source": [
    "## Data processing for regression model"
   ]
  },
  {
   "cell_type": "code",
   "execution_count": 87,
   "id": "85d9631e",
   "metadata": {},
   "outputs": [],
   "source": [
    "df_all=df.copy()\n",
    "\n",
    "tf.random.set_seed(15)\n",
    "target_sensor = \"Close\"\n",
    "forecast_lead = 10 # Sequence length\n",
    "target_reg = f\"{target_sensor}_lead{forecast_lead}\"\n",
    "\n",
    "df_all[target_reg ] = df_all[target_sensor].shift(-forecast_lead)\n",
    "df_all= df_all.iloc[:-forecast_lead]"
   ]
  },
  {
   "cell_type": "code",
   "execution_count": 88,
   "id": "6356154b",
   "metadata": {},
   "outputs": [
    {
     "name": "stdout",
     "output_type": "stream",
     "text": [
      "Total sample 3198\n",
      "Train sample 3070\n",
      "Test sample 128\n"
     ]
    }
   ],
   "source": [
    "# Split train test data\n",
    "from sklearn.model_selection import train_test_split\n",
    "# df_train, df_test = train_test_split(df, test_size=0.05)\n",
    "size=int(len(df_all)*0.96)\n",
    "df_train_reg=df_all[:size]\n",
    "df_test_reg=df_all[size:]\n",
    "print('Total sample', len(df_all))\n",
    "print('Train sample', len(df_train_reg))\n",
    "print('Test sample', len(df_test_reg))"
   ]
  },
  {
   "cell_type": "code",
   "execution_count": 89,
   "id": "db6ddc4e",
   "metadata": {},
   "outputs": [
    {
     "data": {
      "text/plain": [
       "Index(['Close', 'Volume', 'EMA_7', 'EMA_14', 'EMA_21', 'SMA_7', 'SMA_14',\n",
       "       'SMA_21', 'MACD_12_26_9', 'MACDh_12_26_9', 'MACDs_12_26_9',\n",
       "       'BBL_20_2.0', 'BBM_20_2.0', 'BBU_20_2.0', 'BBB_20_2.0', 'BBP_20_2.0',\n",
       "       'GBP USD ', 'Gold in USD close', 'Crude Futures_close',\n",
       "       'Crude Futures_volume', '3M', 'FTSE_H-L', 'FTSE_O-C', 'GBP_USD_H-L',\n",
       "       'GBP_USD_O-C', 'Gold_H-L', 'Gold_O-C', 'Crude_H-L', 'Crude_O-C',\n",
       "       'Close_copy', 'Close_lead10'],\n",
       "      dtype='object')"
      ]
     },
     "execution_count": 89,
     "metadata": {},
     "output_type": "execute_result"
    }
   ],
   "source": [
    "df_train_reg.columns"
   ]
  },
  {
   "cell_type": "code",
   "execution_count": 90,
   "id": "7085efce",
   "metadata": {},
   "outputs": [
    {
     "name": "stdout",
     "output_type": "stream",
     "text": [
      "Close_lead10\n",
      "29\n"
     ]
    }
   ],
   "source": [
    "print(target_reg)\n",
    "features_reg = list(df_all.columns.difference([target_sensor,target_reg]))\n",
    "print( len(features_reg) )"
   ]
  },
  {
   "cell_type": "code",
   "execution_count": 91,
   "id": "3b64fca9",
   "metadata": {},
   "outputs": [
    {
     "name": "stdout",
     "output_type": "stream",
     "text": [
      "(3070, 29)\n",
      "(3070,)\n"
     ]
    }
   ],
   "source": [
    "X_train_reg_=df_train_reg[features_reg]\n",
    "print(X_train_reg_.shape)\n",
    "y_train_reg_=df_train_reg[target_reg]\n",
    "print(y_train_reg_.shape)"
   ]
  },
  {
   "cell_type": "code",
   "execution_count": 92,
   "id": "3d5beda1",
   "metadata": {},
   "outputs": [
    {
     "name": "stdout",
     "output_type": "stream",
     "text": [
      "(128, 29)\n",
      "(128,)\n"
     ]
    }
   ],
   "source": [
    "X_test_reg_=df_test_reg[features_reg]\n",
    "print(X_test_reg_.shape)\n",
    "y_test_reg_=df_test_reg[target_reg]\n",
    "print(y_test_reg_.shape)"
   ]
  },
  {
   "cell_type": "code",
   "execution_count": null,
   "id": "beeb0c58",
   "metadata": {},
   "outputs": [],
   "source": []
  },
  {
   "cell_type": "markdown",
   "id": "afbd8682",
   "metadata": {},
   "source": [
    "## Linear regression model"
   ]
  },
  {
   "cell_type": "code",
   "execution_count": 93,
   "id": "13632897",
   "metadata": {},
   "outputs": [
    {
     "data": {
      "text/html": [
       "<style>#sk-container-id-3 {color: black;background-color: white;}#sk-container-id-3 pre{padding: 0;}#sk-container-id-3 div.sk-toggleable {background-color: white;}#sk-container-id-3 label.sk-toggleable__label {cursor: pointer;display: block;width: 100%;margin-bottom: 0;padding: 0.3em;box-sizing: border-box;text-align: center;}#sk-container-id-3 label.sk-toggleable__label-arrow:before {content: \"▸\";float: left;margin-right: 0.25em;color: #696969;}#sk-container-id-3 label.sk-toggleable__label-arrow:hover:before {color: black;}#sk-container-id-3 div.sk-estimator:hover label.sk-toggleable__label-arrow:before {color: black;}#sk-container-id-3 div.sk-toggleable__content {max-height: 0;max-width: 0;overflow: hidden;text-align: left;background-color: #f0f8ff;}#sk-container-id-3 div.sk-toggleable__content pre {margin: 0.2em;color: black;border-radius: 0.25em;background-color: #f0f8ff;}#sk-container-id-3 input.sk-toggleable__control:checked~div.sk-toggleable__content {max-height: 200px;max-width: 100%;overflow: auto;}#sk-container-id-3 input.sk-toggleable__control:checked~label.sk-toggleable__label-arrow:before {content: \"▾\";}#sk-container-id-3 div.sk-estimator input.sk-toggleable__control:checked~label.sk-toggleable__label {background-color: #d4ebff;}#sk-container-id-3 div.sk-label input.sk-toggleable__control:checked~label.sk-toggleable__label {background-color: #d4ebff;}#sk-container-id-3 input.sk-hidden--visually {border: 0;clip: rect(1px 1px 1px 1px);clip: rect(1px, 1px, 1px, 1px);height: 1px;margin: -1px;overflow: hidden;padding: 0;position: absolute;width: 1px;}#sk-container-id-3 div.sk-estimator {font-family: monospace;background-color: #f0f8ff;border: 1px dotted black;border-radius: 0.25em;box-sizing: border-box;margin-bottom: 0.5em;}#sk-container-id-3 div.sk-estimator:hover {background-color: #d4ebff;}#sk-container-id-3 div.sk-parallel-item::after {content: \"\";width: 100%;border-bottom: 1px solid gray;flex-grow: 1;}#sk-container-id-3 div.sk-label:hover label.sk-toggleable__label {background-color: #d4ebff;}#sk-container-id-3 div.sk-serial::before {content: \"\";position: absolute;border-left: 1px solid gray;box-sizing: border-box;top: 0;bottom: 0;left: 50%;z-index: 0;}#sk-container-id-3 div.sk-serial {display: flex;flex-direction: column;align-items: center;background-color: white;padding-right: 0.2em;padding-left: 0.2em;position: relative;}#sk-container-id-3 div.sk-item {position: relative;z-index: 1;}#sk-container-id-3 div.sk-parallel {display: flex;align-items: stretch;justify-content: center;background-color: white;position: relative;}#sk-container-id-3 div.sk-item::before, #sk-container-id-3 div.sk-parallel-item::before {content: \"\";position: absolute;border-left: 1px solid gray;box-sizing: border-box;top: 0;bottom: 0;left: 50%;z-index: -1;}#sk-container-id-3 div.sk-parallel-item {display: flex;flex-direction: column;z-index: 1;position: relative;background-color: white;}#sk-container-id-3 div.sk-parallel-item:first-child::after {align-self: flex-end;width: 50%;}#sk-container-id-3 div.sk-parallel-item:last-child::after {align-self: flex-start;width: 50%;}#sk-container-id-3 div.sk-parallel-item:only-child::after {width: 0;}#sk-container-id-3 div.sk-dashed-wrapped {border: 1px dashed gray;margin: 0 0.4em 0.5em 0.4em;box-sizing: border-box;padding-bottom: 0.4em;background-color: white;}#sk-container-id-3 div.sk-label label {font-family: monospace;font-weight: bold;display: inline-block;line-height: 1.2em;}#sk-container-id-3 div.sk-label-container {text-align: center;}#sk-container-id-3 div.sk-container {/* jupyter's `normalize.less` sets `[hidden] { display: none; }` but bootstrap.min.css set `[hidden] { display: none !important; }` so we also need the `!important` here to be able to override the default hidden behavior on the sphinx rendered scikit-learn.org. See: https://github.com/scikit-learn/scikit-learn/issues/21755 */display: inline-block !important;position: relative;}#sk-container-id-3 div.sk-text-repr-fallback {display: none;}</style><div id=\"sk-container-id-3\" class=\"sk-top-container\"><div class=\"sk-text-repr-fallback\"><pre>LinearRegression()</pre><b>In a Jupyter environment, please rerun this cell to show the HTML representation or trust the notebook. <br />On GitHub, the HTML representation is unable to render, please try loading this page with nbviewer.org.</b></div><div class=\"sk-container\" hidden><div class=\"sk-item\"><div class=\"sk-estimator sk-toggleable\"><input class=\"sk-toggleable__control sk-hidden--visually\" id=\"sk-estimator-id-3\" type=\"checkbox\" checked><label for=\"sk-estimator-id-3\" class=\"sk-toggleable__label sk-toggleable__label-arrow\">LinearRegression</label><div class=\"sk-toggleable__content\"><pre>LinearRegression()</pre></div></div></div></div></div>"
      ],
      "text/plain": [
       "LinearRegression()"
      ]
     },
     "execution_count": 93,
     "metadata": {},
     "output_type": "execute_result"
    }
   ],
   "source": [
    "from sklearn.linear_model import LinearRegression\n",
    "#Creating the Regressor\n",
    "regressor = LinearRegression()\n",
    "regressor.fit(X_train_reg_, y_train_reg_)"
   ]
  },
  {
   "cell_type": "code",
   "execution_count": 94,
   "id": "9cc5d7a0",
   "metadata": {},
   "outputs": [
    {
     "name": "stdout",
     "output_type": "stream",
     "text": [
      "MAE train Error :  133.94559540357977\n",
      "RMSE train Error :  186.69294010825192\n"
     ]
    }
   ],
   "source": [
    "y_train_pred_mlr=regressor.predict(X_train_reg_)\n",
    "mae_train_mlr = mean_absolute_error(y_train_reg_* target_stdev + target_mean,y_train_pred_mlr* target_stdev + target_mean)\n",
    "print('MAE train Error : ',mae_train_mlr)\n",
    "rmse_train_mlr = mean_squared_error(y_train_reg_* target_stdev + target_mean,y_train_pred_mlr* target_stdev + target_mean, squared=False)\n",
    "print('RMSE train Error : ',rmse_train_mlr)"
   ]
  },
  {
   "cell_type": "code",
   "execution_count": 95,
   "id": "8f3520ad",
   "metadata": {},
   "outputs": [
    {
     "name": "stdout",
     "output_type": "stream",
     "text": [
      "MAE test Error :  121.88523755171843\n",
      "RMSE test Error :  145.01093864353663\n"
     ]
    }
   ],
   "source": [
    "y_test_pred_mlr=regressor.predict(X_test_reg_)\n",
    "mae_test_mlr = mean_absolute_error(y_test_reg_* target_stdev + target_mean,y_test_pred_mlr* target_stdev + target_mean)\n",
    "print('MAE test Error : ',mae_test_mlr)\n",
    "rmse_test_mlr = mean_squared_error(y_test_reg_* target_stdev + target_mean,y_test_pred_mlr* target_stdev + target_mean, squared=False)\n",
    "print('RMSE test Error : ',rmse_test_mlr)"
   ]
  },
  {
   "cell_type": "code",
   "execution_count": null,
   "id": "c814f50e",
   "metadata": {},
   "outputs": [],
   "source": []
  },
  {
   "cell_type": "markdown",
   "id": "eaa44a54",
   "metadata": {},
   "source": [
    "## XGboost"
   ]
  },
  {
   "cell_type": "code",
   "execution_count": 96,
   "id": "b0726d75",
   "metadata": {},
   "outputs": [],
   "source": [
    "import xgboost as xg"
   ]
  },
  {
   "cell_type": "code",
   "execution_count": 97,
   "id": "a95c77d5",
   "metadata": {},
   "outputs": [
    {
     "data": {
      "text/html": [
       "<style>#sk-container-id-4 {color: black;background-color: white;}#sk-container-id-4 pre{padding: 0;}#sk-container-id-4 div.sk-toggleable {background-color: white;}#sk-container-id-4 label.sk-toggleable__label {cursor: pointer;display: block;width: 100%;margin-bottom: 0;padding: 0.3em;box-sizing: border-box;text-align: center;}#sk-container-id-4 label.sk-toggleable__label-arrow:before {content: \"▸\";float: left;margin-right: 0.25em;color: #696969;}#sk-container-id-4 label.sk-toggleable__label-arrow:hover:before {color: black;}#sk-container-id-4 div.sk-estimator:hover label.sk-toggleable__label-arrow:before {color: black;}#sk-container-id-4 div.sk-toggleable__content {max-height: 0;max-width: 0;overflow: hidden;text-align: left;background-color: #f0f8ff;}#sk-container-id-4 div.sk-toggleable__content pre {margin: 0.2em;color: black;border-radius: 0.25em;background-color: #f0f8ff;}#sk-container-id-4 input.sk-toggleable__control:checked~div.sk-toggleable__content {max-height: 200px;max-width: 100%;overflow: auto;}#sk-container-id-4 input.sk-toggleable__control:checked~label.sk-toggleable__label-arrow:before {content: \"▾\";}#sk-container-id-4 div.sk-estimator input.sk-toggleable__control:checked~label.sk-toggleable__label {background-color: #d4ebff;}#sk-container-id-4 div.sk-label input.sk-toggleable__control:checked~label.sk-toggleable__label {background-color: #d4ebff;}#sk-container-id-4 input.sk-hidden--visually {border: 0;clip: rect(1px 1px 1px 1px);clip: rect(1px, 1px, 1px, 1px);height: 1px;margin: -1px;overflow: hidden;padding: 0;position: absolute;width: 1px;}#sk-container-id-4 div.sk-estimator {font-family: monospace;background-color: #f0f8ff;border: 1px dotted black;border-radius: 0.25em;box-sizing: border-box;margin-bottom: 0.5em;}#sk-container-id-4 div.sk-estimator:hover {background-color: #d4ebff;}#sk-container-id-4 div.sk-parallel-item::after {content: \"\";width: 100%;border-bottom: 1px solid gray;flex-grow: 1;}#sk-container-id-4 div.sk-label:hover label.sk-toggleable__label {background-color: #d4ebff;}#sk-container-id-4 div.sk-serial::before {content: \"\";position: absolute;border-left: 1px solid gray;box-sizing: border-box;top: 0;bottom: 0;left: 50%;z-index: 0;}#sk-container-id-4 div.sk-serial {display: flex;flex-direction: column;align-items: center;background-color: white;padding-right: 0.2em;padding-left: 0.2em;position: relative;}#sk-container-id-4 div.sk-item {position: relative;z-index: 1;}#sk-container-id-4 div.sk-parallel {display: flex;align-items: stretch;justify-content: center;background-color: white;position: relative;}#sk-container-id-4 div.sk-item::before, #sk-container-id-4 div.sk-parallel-item::before {content: \"\";position: absolute;border-left: 1px solid gray;box-sizing: border-box;top: 0;bottom: 0;left: 50%;z-index: -1;}#sk-container-id-4 div.sk-parallel-item {display: flex;flex-direction: column;z-index: 1;position: relative;background-color: white;}#sk-container-id-4 div.sk-parallel-item:first-child::after {align-self: flex-end;width: 50%;}#sk-container-id-4 div.sk-parallel-item:last-child::after {align-self: flex-start;width: 50%;}#sk-container-id-4 div.sk-parallel-item:only-child::after {width: 0;}#sk-container-id-4 div.sk-dashed-wrapped {border: 1px dashed gray;margin: 0 0.4em 0.5em 0.4em;box-sizing: border-box;padding-bottom: 0.4em;background-color: white;}#sk-container-id-4 div.sk-label label {font-family: monospace;font-weight: bold;display: inline-block;line-height: 1.2em;}#sk-container-id-4 div.sk-label-container {text-align: center;}#sk-container-id-4 div.sk-container {/* jupyter's `normalize.less` sets `[hidden] { display: none; }` but bootstrap.min.css set `[hidden] { display: none !important; }` so we also need the `!important` here to be able to override the default hidden behavior on the sphinx rendered scikit-learn.org. See: https://github.com/scikit-learn/scikit-learn/issues/21755 */display: inline-block !important;position: relative;}#sk-container-id-4 div.sk-text-repr-fallback {display: none;}</style><div id=\"sk-container-id-4\" class=\"sk-top-container\"><div class=\"sk-text-repr-fallback\"><pre>XGBRegressor(base_score=0.5, booster=&#x27;gbtree&#x27;, colsample_bylevel=1,\n",
       "             colsample_bynode=1, colsample_bytree=1, enable_categorical=False,\n",
       "             gamma=0, gpu_id=-1, importance_type=None,\n",
       "             interaction_constraints=&#x27;&#x27;, learning_rate=0.300000012,\n",
       "             max_delta_step=0, max_depth=6, min_child_weight=1, missing=nan,\n",
       "             monotone_constraints=&#x27;()&#x27;, n_estimators=100, n_jobs=8,\n",
       "             num_parallel_tree=1, predictor=&#x27;auto&#x27;, random_state=123,\n",
       "             reg_alpha=0, reg_lambda=1, scale_pos_weight=1, seed=123,\n",
       "             subsample=1, tree_method=&#x27;exact&#x27;, validate_parameters=1,\n",
       "             verbosity=None)</pre><b>In a Jupyter environment, please rerun this cell to show the HTML representation or trust the notebook. <br />On GitHub, the HTML representation is unable to render, please try loading this page with nbviewer.org.</b></div><div class=\"sk-container\" hidden><div class=\"sk-item\"><div class=\"sk-estimator sk-toggleable\"><input class=\"sk-toggleable__control sk-hidden--visually\" id=\"sk-estimator-id-4\" type=\"checkbox\" checked><label for=\"sk-estimator-id-4\" class=\"sk-toggleable__label sk-toggleable__label-arrow\">XGBRegressor</label><div class=\"sk-toggleable__content\"><pre>XGBRegressor(base_score=0.5, booster=&#x27;gbtree&#x27;, colsample_bylevel=1,\n",
       "             colsample_bynode=1, colsample_bytree=1, enable_categorical=False,\n",
       "             gamma=0, gpu_id=-1, importance_type=None,\n",
       "             interaction_constraints=&#x27;&#x27;, learning_rate=0.300000012,\n",
       "             max_delta_step=0, max_depth=6, min_child_weight=1, missing=nan,\n",
       "             monotone_constraints=&#x27;()&#x27;, n_estimators=100, n_jobs=8,\n",
       "             num_parallel_tree=1, predictor=&#x27;auto&#x27;, random_state=123,\n",
       "             reg_alpha=0, reg_lambda=1, scale_pos_weight=1, seed=123,\n",
       "             subsample=1, tree_method=&#x27;exact&#x27;, validate_parameters=1,\n",
       "             verbosity=None)</pre></div></div></div></div></div>"
      ],
      "text/plain": [
       "XGBRegressor(base_score=0.5, booster='gbtree', colsample_bylevel=1,\n",
       "             colsample_bynode=1, colsample_bytree=1, enable_categorical=False,\n",
       "             gamma=0, gpu_id=-1, importance_type=None,\n",
       "             interaction_constraints='', learning_rate=0.300000012,\n",
       "             max_delta_step=0, max_depth=6, min_child_weight=1, missing=nan,\n",
       "             monotone_constraints='()', n_estimators=100, n_jobs=8,\n",
       "             num_parallel_tree=1, predictor='auto', random_state=123,\n",
       "             reg_alpha=0, reg_lambda=1, scale_pos_weight=1, seed=123,\n",
       "             subsample=1, tree_method='exact', validate_parameters=1,\n",
       "             verbosity=None)"
      ]
     },
     "execution_count": 97,
     "metadata": {},
     "output_type": "execute_result"
    }
   ],
   "source": [
    "# Instantiation \n",
    "xgb_r = xg.XGBRegressor(objective ='reg:squarederror', \n",
    "                   seed = 123) \n",
    "# Fitting the model \n",
    "xgb_r.fit(X_train_reg_, y_train_reg_) "
   ]
  },
  {
   "cell_type": "code",
   "execution_count": 98,
   "id": "2a12e02f",
   "metadata": {},
   "outputs": [
    {
     "name": "stdout",
     "output_type": "stream",
     "text": [
      "MAE train:  10.95209868052728\n",
      "RMSE train:  14.957343780914519\n"
     ]
    }
   ],
   "source": [
    "# Predict the model \n",
    "y_train_pred_xg = xgb_r.predict(X_train_reg_) \n",
    "mae_train_xg = mean_absolute_error(y_train_reg_* target_stdev + target_mean, y_train_pred_xg* target_stdev + target_mean)\n",
    "print('MAE train: ',mae_train_xg)\n",
    "rmse_train_xg = mean_squared_error(y_train_reg_* target_stdev + target_mean, y_train_pred_xg* target_stdev + target_mean, squared=False)\n",
    "print('RMSE train: ',rmse_train_xg)"
   ]
  },
  {
   "cell_type": "code",
   "execution_count": 99,
   "id": "f5e66624",
   "metadata": {},
   "outputs": [
    {
     "name": "stdout",
     "output_type": "stream",
     "text": [
      "MAE test:  130.23293457031247\n",
      "RMSE test:  157.36241618278117\n"
     ]
    }
   ],
   "source": [
    "# Predict the model \n",
    "y_test_pred_xg = xgb_r.predict(X_test_reg_) \n",
    "mae_test_xg = mean_absolute_error(y_test_reg_* target_stdev + target_mean, y_test_pred_xg* target_stdev + target_mean)\n",
    "print('MAE test: ',mae_test_xg)\n",
    "rmse_test_xg = mean_squared_error(y_test_reg_* target_stdev + target_mean, y_test_pred_xg* target_stdev + target_mean, squared=False)\n",
    "print('RMSE test: ',rmse_test_xg)"
   ]
  },
  {
   "cell_type": "code",
   "execution_count": null,
   "id": "5ed77741",
   "metadata": {},
   "outputs": [],
   "source": []
  },
  {
   "cell_type": "code",
   "execution_count": null,
   "id": "6e57fb2d",
   "metadata": {},
   "outputs": [],
   "source": []
  },
  {
   "cell_type": "markdown",
   "id": "8127e08b",
   "metadata": {},
   "source": [
    "## ANN"
   ]
  },
  {
   "cell_type": "code",
   "execution_count": 100,
   "id": "821b24bc",
   "metadata": {},
   "outputs": [],
   "source": [
    "from tensorflow.keras import regularizers, initializers\n",
    "from keras.layers import Input, Dense, Reshape, Embedding, concatenate, Dropout, Flatten\n",
    "from keras.layers.merge import Dot\n",
    "from keras.preprocessing import sequence\n",
    "from keras import Model\n",
    "from keras.layers.advanced_activations import PReLU"
   ]
  },
  {
   "cell_type": "code",
   "execution_count": 101,
   "id": "06b1a913",
   "metadata": {},
   "outputs": [],
   "source": [
    "input_ = Input((len(features),)) # feature\n",
    "\n",
    "den1=Dense(128, use_bias=True,activation=PReLU())(input_)\n",
    "\n",
    "den2=Dense(64, use_bias=True,activation=PReLU())(den1)\n",
    "\n",
    "den3=Dense(32, use_bias=True,activation=PReLU())(den2)\n",
    "\n",
    "den4=Dense(8, use_bias=True,activation=PReLU())(den3)\n",
    "\n",
    "den5=Dense(1, use_bias=True,activation='linear')(den4)\n",
    "\n",
    "model_ann = Model(inputs=[input_], outputs=den5)"
   ]
  },
  {
   "cell_type": "code",
   "execution_count": 102,
   "id": "be2a8978",
   "metadata": {},
   "outputs": [],
   "source": [
    "import tensorflow as tf"
   ]
  },
  {
   "cell_type": "code",
   "execution_count": 103,
   "id": "3b81301b",
   "metadata": {},
   "outputs": [],
   "source": [
    "loss_fn = tf.keras.losses.MeanSquaredError()\n",
    "opt = tf.keras.optimizers.Adam(learning_rate=0.001)\n",
    "model_ann.compile(opt, loss=loss_fn)"
   ]
  },
  {
   "cell_type": "code",
   "execution_count": 104,
   "id": "9c48c57e",
   "metadata": {},
   "outputs": [
    {
     "name": "stdout",
     "output_type": "stream",
     "text": [
      "Epoch 1/200\n",
      "307/307 [==============================] - 1s 2ms/step - loss: 0.1269 - val_loss: 0.0397\n",
      "Epoch 2/200\n",
      "307/307 [==============================] - 0s 1ms/step - loss: 0.0804 - val_loss: 0.0366\n",
      "Epoch 3/200\n",
      "307/307 [==============================] - 0s 1ms/step - loss: 0.0897 - val_loss: 0.0405\n",
      "Epoch 4/200\n",
      "307/307 [==============================] - 0s 1ms/step - loss: 0.0641 - val_loss: 0.0653\n",
      "Epoch 5/200\n",
      "307/307 [==============================] - 0s 1ms/step - loss: 0.0612 - val_loss: 0.0431\n",
      "Epoch 6/200\n",
      "307/307 [==============================] - 0s 1ms/step - loss: 0.0545 - val_loss: 0.0455\n",
      "Epoch 7/200\n",
      "307/307 [==============================] - 0s 1ms/step - loss: 0.0522 - val_loss: 0.0533\n",
      "Epoch 8/200\n",
      "307/307 [==============================] - 0s 1ms/step - loss: 0.0502 - val_loss: 0.1006\n",
      "Epoch 9/200\n",
      "307/307 [==============================] - 0s 1ms/step - loss: 0.0489 - val_loss: 0.0541\n",
      "Epoch 10/200\n",
      "307/307 [==============================] - 0s 1ms/step - loss: 0.0452 - val_loss: 0.0614\n",
      "Epoch 11/200\n",
      "307/307 [==============================] - 0s 1ms/step - loss: 0.0466 - val_loss: 0.0629\n",
      "Epoch 12/200\n",
      "307/307 [==============================] - 0s 1ms/step - loss: 0.0402 - val_loss: 0.0493\n",
      "Epoch 13/200\n",
      "307/307 [==============================] - 1s 2ms/step - loss: 0.0379 - val_loss: 0.0628\n",
      "Epoch 14/200\n",
      "307/307 [==============================] - 0s 1ms/step - loss: 0.0370 - val_loss: 0.0707\n",
      "Epoch 15/200\n",
      "307/307 [==============================] - 0s 1ms/step - loss: 0.0342 - val_loss: 0.1306\n",
      "Epoch 16/200\n",
      "307/307 [==============================] - 0s 1ms/step - loss: 0.0348 - val_loss: 0.0770\n",
      "Epoch 17/200\n",
      "307/307 [==============================] - 0s 2ms/step - loss: 0.0309 - val_loss: 0.0511\n",
      "Epoch 18/200\n",
      "307/307 [==============================] - 0s 1ms/step - loss: 0.0301 - val_loss: 0.0977\n",
      "Epoch 19/200\n",
      "307/307 [==============================] - 0s 2ms/step - loss: 0.0299 - val_loss: 0.0569\n",
      "Epoch 20/200\n",
      "307/307 [==============================] - 0s 1ms/step - loss: 0.0298 - val_loss: 0.0688\n",
      "Epoch 21/200\n",
      "307/307 [==============================] - 0s 2ms/step - loss: 0.0305 - val_loss: 0.1055\n",
      "Epoch 22/200\n",
      "307/307 [==============================] - 0s 1ms/step - loss: 0.0317 - val_loss: 0.0770\n",
      "Epoch 23/200\n",
      "307/307 [==============================] - 0s 1ms/step - loss: 0.0254 - val_loss: 0.0771\n",
      "Epoch 24/200\n",
      "307/307 [==============================] - 0s 1ms/step - loss: 0.0232 - val_loss: 0.1293\n",
      "Epoch 25/200\n",
      "307/307 [==============================] - 0s 1ms/step - loss: 0.0210 - val_loss: 0.0592\n",
      "Epoch 26/200\n",
      "307/307 [==============================] - 0s 2ms/step - loss: 0.0201 - val_loss: 0.0593\n",
      "Epoch 27/200\n",
      "307/307 [==============================] - 0s 1ms/step - loss: 0.0188 - val_loss: 0.1353\n",
      "Epoch 28/200\n",
      "307/307 [==============================] - 0s 1ms/step - loss: 0.0186 - val_loss: 0.0693\n",
      "Epoch 29/200\n",
      "307/307 [==============================] - 0s 1ms/step - loss: 0.0215 - val_loss: 0.1257\n",
      "Epoch 30/200\n",
      "307/307 [==============================] - 0s 1ms/step - loss: 0.0181 - val_loss: 0.0734\n",
      "Epoch 31/200\n",
      "307/307 [==============================] - 0s 2ms/step - loss: 0.0197 - val_loss: 0.0824\n",
      "Epoch 32/200\n",
      "307/307 [==============================] - 0s 1ms/step - loss: 0.0175 - val_loss: 0.0593\n",
      "Epoch 33/200\n",
      "307/307 [==============================] - 0s 1ms/step - loss: 0.0186 - val_loss: 0.0943\n",
      "Epoch 34/200\n",
      "307/307 [==============================] - 0s 1ms/step - loss: 0.0205 - val_loss: 0.1369\n",
      "Epoch 35/200\n",
      "307/307 [==============================] - 0s 1ms/step - loss: 0.0179 - val_loss: 0.0657\n",
      "Epoch 36/200\n",
      "307/307 [==============================] - 0s 2ms/step - loss: 0.0161 - val_loss: 0.0664\n",
      "Epoch 37/200\n",
      "307/307 [==============================] - 0s 2ms/step - loss: 0.0153 - val_loss: 0.0546\n",
      "Epoch 38/200\n",
      "307/307 [==============================] - 0s 1ms/step - loss: 0.0158 - val_loss: 0.0723\n",
      "Epoch 39/200\n",
      "307/307 [==============================] - 0s 2ms/step - loss: 0.0159 - val_loss: 0.0620\n",
      "Epoch 40/200\n",
      "307/307 [==============================] - 0s 1ms/step - loss: 0.0162 - val_loss: 0.0599\n",
      "Epoch 41/200\n",
      "307/307 [==============================] - 0s 1ms/step - loss: 0.0152 - val_loss: 0.0625\n",
      "Epoch 42/200\n",
      "307/307 [==============================] - 0s 1ms/step - loss: 0.0130 - val_loss: 0.0662\n",
      "Epoch 43/200\n",
      "307/307 [==============================] - 0s 1ms/step - loss: 0.0129 - val_loss: 0.0646\n",
      "Epoch 44/200\n",
      "307/307 [==============================] - 0s 1ms/step - loss: 0.0198 - val_loss: 0.0706\n",
      "Epoch 45/200\n",
      "307/307 [==============================] - 0s 1ms/step - loss: 0.0156 - val_loss: 0.0654\n",
      "Epoch 46/200\n",
      "307/307 [==============================] - 0s 1ms/step - loss: 0.0127 - val_loss: 0.0987\n",
      "Epoch 47/200\n",
      "307/307 [==============================] - 0s 2ms/step - loss: 0.0134 - val_loss: 0.0973\n",
      "Epoch 48/200\n",
      "307/307 [==============================] - 0s 2ms/step - loss: 0.0113 - val_loss: 0.0629\n",
      "Epoch 49/200\n",
      "307/307 [==============================] - 0s 1ms/step - loss: 0.0114 - val_loss: 0.0548\n",
      "Epoch 50/200\n",
      "307/307 [==============================] - 0s 1ms/step - loss: 0.0124 - val_loss: 0.0693\n",
      "Epoch 51/200\n",
      "307/307 [==============================] - 0s 1ms/step - loss: 0.0117 - val_loss: 0.0568\n",
      "Epoch 52/200\n",
      "307/307 [==============================] - 1s 2ms/step - loss: 0.0109 - val_loss: 0.0609\n",
      "Epoch 53/200\n",
      "307/307 [==============================] - 1s 2ms/step - loss: 0.0105 - val_loss: 0.0507\n",
      "Epoch 54/200\n",
      "307/307 [==============================] - 0s 1ms/step - loss: 0.0108 - val_loss: 0.0821\n",
      "Epoch 55/200\n",
      "307/307 [==============================] - 0s 1ms/step - loss: 0.0124 - val_loss: 0.0630\n",
      "Epoch 56/200\n",
      "307/307 [==============================] - 0s 1ms/step - loss: 0.0106 - val_loss: 0.0466\n",
      "Epoch 57/200\n",
      "307/307 [==============================] - 0s 1ms/step - loss: 0.0091 - val_loss: 0.0544\n",
      "Epoch 58/200\n",
      "307/307 [==============================] - 0s 1ms/step - loss: 0.0096 - val_loss: 0.0527\n",
      "Epoch 59/200\n",
      "307/307 [==============================] - 0s 1ms/step - loss: 0.0087 - val_loss: 0.0529\n",
      "Epoch 60/200\n",
      "307/307 [==============================] - 0s 1ms/step - loss: 0.0093 - val_loss: 0.0878\n",
      "Epoch 61/200\n",
      "307/307 [==============================] - 0s 1ms/step - loss: 0.0108 - val_loss: 0.0766\n",
      "Epoch 62/200\n",
      "307/307 [==============================] - 0s 2ms/step - loss: 0.0129 - val_loss: 0.0573\n",
      "Epoch 63/200\n",
      "307/307 [==============================] - 0s 1ms/step - loss: 0.0109 - val_loss: 0.0493\n",
      "Epoch 64/200\n",
      "307/307 [==============================] - 0s 1ms/step - loss: 0.0089 - val_loss: 0.0519\n",
      "Epoch 65/200\n",
      "307/307 [==============================] - 0s 1ms/step - loss: 0.0090 - val_loss: 0.0530\n",
      "Epoch 66/200\n",
      "307/307 [==============================] - 0s 1ms/step - loss: 0.0089 - val_loss: 0.0766\n",
      "Epoch 67/200\n",
      "307/307 [==============================] - 0s 1ms/step - loss: 0.0095 - val_loss: 0.0467\n",
      "Epoch 68/200\n",
      "307/307 [==============================] - 0s 1ms/step - loss: 0.0083 - val_loss: 0.0491\n",
      "Epoch 69/200\n",
      "307/307 [==============================] - 0s 2ms/step - loss: 0.0088 - val_loss: 0.0615\n",
      "Epoch 70/200\n",
      "307/307 [==============================] - 0s 1ms/step - loss: 0.0107 - val_loss: 0.0611\n",
      "Epoch 71/200\n",
      "307/307 [==============================] - 0s 1ms/step - loss: 0.0076 - val_loss: 0.0584\n",
      "Epoch 72/200\n",
      "307/307 [==============================] - 0s 2ms/step - loss: 0.0062 - val_loss: 0.0603\n",
      "Epoch 73/200\n",
      "307/307 [==============================] - 0s 1ms/step - loss: 0.0069 - val_loss: 0.0480\n",
      "Epoch 74/200\n",
      "307/307 [==============================] - 0s 1ms/step - loss: 0.0071 - val_loss: 0.0639\n",
      "Epoch 75/200\n",
      "307/307 [==============================] - 0s 1ms/step - loss: 0.0077 - val_loss: 0.0542\n",
      "Epoch 76/200\n",
      "307/307 [==============================] - 0s 1ms/step - loss: 0.0094 - val_loss: 0.0515\n",
      "Epoch 77/200\n",
      "307/307 [==============================] - 0s 1ms/step - loss: 0.0074 - val_loss: 0.0569\n",
      "Epoch 78/200\n",
      "307/307 [==============================] - 0s 1ms/step - loss: 0.0092 - val_loss: 0.0621\n",
      "Epoch 79/200\n",
      "307/307 [==============================] - 0s 1ms/step - loss: 0.0080 - val_loss: 0.0587\n",
      "Epoch 80/200\n",
      "307/307 [==============================] - 0s 1ms/step - loss: 0.0063 - val_loss: 0.0526\n",
      "Epoch 81/200\n"
     ]
    },
    {
     "name": "stdout",
     "output_type": "stream",
     "text": [
      "307/307 [==============================] - 0s 1ms/step - loss: 0.0059 - val_loss: 0.0494\n",
      "Epoch 82/200\n",
      "307/307 [==============================] - 0s 1ms/step - loss: 0.0073 - val_loss: 0.0531\n",
      "Epoch 83/200\n",
      "307/307 [==============================] - 0s 1ms/step - loss: 0.0071 - val_loss: 0.0725\n",
      "Epoch 84/200\n",
      "307/307 [==============================] - 0s 2ms/step - loss: 0.0068 - val_loss: 0.0651\n",
      "Epoch 85/200\n",
      "307/307 [==============================] - 0s 1ms/step - loss: 0.0063 - val_loss: 0.0648\n",
      "Epoch 86/200\n",
      "307/307 [==============================] - 0s 2ms/step - loss: 0.0074 - val_loss: 0.0533\n",
      "Epoch 87/200\n",
      "307/307 [==============================] - 0s 1ms/step - loss: 0.0059 - val_loss: 0.0689\n",
      "Epoch 88/200\n",
      "307/307 [==============================] - 0s 1ms/step - loss: 0.0083 - val_loss: 0.0510\n",
      "Epoch 89/200\n",
      "307/307 [==============================] - 0s 2ms/step - loss: 0.0074 - val_loss: 0.0475\n",
      "Epoch 90/200\n",
      "307/307 [==============================] - 0s 1ms/step - loss: 0.0069 - val_loss: 0.0489\n",
      "Epoch 91/200\n",
      "307/307 [==============================] - 0s 1ms/step - loss: 0.0064 - val_loss: 0.0506\n",
      "Epoch 92/200\n",
      "307/307 [==============================] - 0s 1ms/step - loss: 0.0066 - val_loss: 0.0595\n",
      "Epoch 93/200\n",
      "307/307 [==============================] - 0s 2ms/step - loss: 0.0062 - val_loss: 0.0587\n",
      "Epoch 94/200\n",
      "307/307 [==============================] - 0s 2ms/step - loss: 0.0057 - val_loss: 0.0534\n",
      "Epoch 95/200\n",
      "307/307 [==============================] - 0s 2ms/step - loss: 0.0057 - val_loss: 0.0506\n",
      "Epoch 96/200\n",
      "307/307 [==============================] - 0s 2ms/step - loss: 0.0057 - val_loss: 0.0546\n",
      "Epoch 97/200\n",
      "307/307 [==============================] - 0s 2ms/step - loss: 0.0058 - val_loss: 0.0590\n",
      "Epoch 98/200\n",
      "307/307 [==============================] - 0s 2ms/step - loss: 0.0062 - val_loss: 0.0607\n",
      "Epoch 99/200\n",
      "307/307 [==============================] - 0s 1ms/step - loss: 0.0063 - val_loss: 0.0557\n",
      "Epoch 100/200\n",
      "307/307 [==============================] - 0s 1ms/step - loss: 0.0059 - val_loss: 0.0546\n",
      "Epoch 101/200\n",
      "307/307 [==============================] - 0s 1ms/step - loss: 0.0052 - val_loss: 0.0726\n",
      "Epoch 102/200\n",
      "307/307 [==============================] - 0s 2ms/step - loss: 0.0051 - val_loss: 0.0495\n",
      "Epoch 103/200\n",
      "307/307 [==============================] - 0s 1ms/step - loss: 0.0056 - val_loss: 0.0677\n",
      "Epoch 104/200\n",
      "307/307 [==============================] - 0s 1ms/step - loss: 0.0063 - val_loss: 0.0620\n",
      "Epoch 105/200\n",
      "307/307 [==============================] - 0s 1ms/step - loss: 0.0051 - val_loss: 0.0633\n",
      "Epoch 106/200\n",
      "307/307 [==============================] - 0s 2ms/step - loss: 0.0065 - val_loss: 0.0709\n",
      "Epoch 107/200\n",
      "307/307 [==============================] - 0s 1ms/step - loss: 0.0051 - val_loss: 0.0589\n",
      "Epoch 108/200\n",
      "307/307 [==============================] - 0s 2ms/step - loss: 0.0059 - val_loss: 0.0551\n",
      "Epoch 109/200\n",
      "307/307 [==============================] - 0s 1ms/step - loss: 0.0068 - val_loss: 0.0661\n",
      "Epoch 110/200\n",
      "307/307 [==============================] - 1s 2ms/step - loss: 0.0051 - val_loss: 0.0533\n",
      "Epoch 111/200\n",
      "307/307 [==============================] - 0s 2ms/step - loss: 0.0050 - val_loss: 0.0550\n",
      "Epoch 112/200\n",
      "307/307 [==============================] - 0s 1ms/step - loss: 0.0052 - val_loss: 0.0516\n",
      "Epoch 113/200\n",
      "307/307 [==============================] - 0s 1ms/step - loss: 0.0075 - val_loss: 0.0583\n",
      "Epoch 114/200\n",
      "307/307 [==============================] - 0s 1ms/step - loss: 0.0067 - val_loss: 0.0570\n",
      "Epoch 115/200\n",
      "307/307 [==============================] - 0s 1ms/step - loss: 0.0051 - val_loss: 0.0522\n",
      "Epoch 116/200\n",
      "307/307 [==============================] - 0s 1ms/step - loss: 0.0055 - val_loss: 0.0533\n",
      "Epoch 117/200\n",
      "307/307 [==============================] - 0s 1ms/step - loss: 0.0044 - val_loss: 0.0481\n",
      "Epoch 118/200\n",
      "307/307 [==============================] - 0s 2ms/step - loss: 0.0036 - val_loss: 0.0603\n",
      "Epoch 119/200\n",
      "307/307 [==============================] - 0s 1ms/step - loss: 0.0046 - val_loss: 0.0677\n",
      "Epoch 120/200\n",
      "307/307 [==============================] - 0s 1ms/step - loss: 0.0053 - val_loss: 0.0506\n",
      "Epoch 121/200\n",
      "307/307 [==============================] - 0s 1ms/step - loss: 0.0046 - val_loss: 0.0519\n",
      "Epoch 122/200\n",
      "307/307 [==============================] - 0s 1ms/step - loss: 0.0072 - val_loss: 0.0580\n",
      "Epoch 123/200\n",
      "307/307 [==============================] - 0s 2ms/step - loss: 0.0060 - val_loss: 0.0563\n",
      "Epoch 124/200\n",
      "307/307 [==============================] - 0s 1ms/step - loss: 0.0045 - val_loss: 0.0469\n",
      "Epoch 125/200\n",
      "307/307 [==============================] - 0s 1ms/step - loss: 0.0032 - val_loss: 0.0625\n",
      "Epoch 126/200\n",
      "307/307 [==============================] - 0s 2ms/step - loss: 0.0035 - val_loss: 0.0616\n",
      "Epoch 127/200\n",
      "307/307 [==============================] - 0s 1ms/step - loss: 0.0045 - val_loss: 0.0571\n",
      "Epoch 128/200\n",
      "307/307 [==============================] - 0s 1ms/step - loss: 0.0043 - val_loss: 0.0479\n",
      "Epoch 129/200\n",
      "307/307 [==============================] - 0s 1ms/step - loss: 0.0055 - val_loss: 0.0537\n",
      "Epoch 130/200\n",
      "307/307 [==============================] - 0s 1ms/step - loss: 0.0053 - val_loss: 0.0549\n",
      "Epoch 131/200\n",
      "307/307 [==============================] - 0s 1ms/step - loss: 0.0045 - val_loss: 0.0542\n",
      "Epoch 132/200\n",
      "307/307 [==============================] - 0s 1ms/step - loss: 0.0043 - val_loss: 0.0518\n",
      "Epoch 133/200\n",
      "307/307 [==============================] - 0s 1ms/step - loss: 0.0035 - val_loss: 0.0489\n",
      "Epoch 134/200\n",
      "307/307 [==============================] - 0s 1ms/step - loss: 0.0042 - val_loss: 0.0536\n",
      "Epoch 135/200\n",
      "307/307 [==============================] - 0s 1ms/step - loss: 0.0048 - val_loss: 0.0505\n",
      "Epoch 136/200\n",
      "307/307 [==============================] - 0s 1ms/step - loss: 0.0049 - val_loss: 0.0567\n",
      "Epoch 137/200\n",
      "307/307 [==============================] - 0s 1ms/step - loss: 0.0041 - val_loss: 0.0602\n",
      "Epoch 138/200\n",
      "307/307 [==============================] - 0s 1ms/step - loss: 0.0035 - val_loss: 0.0461\n",
      "Epoch 139/200\n",
      "307/307 [==============================] - 0s 1ms/step - loss: 0.0046 - val_loss: 0.0539\n",
      "Epoch 140/200\n",
      "307/307 [==============================] - 0s 1ms/step - loss: 0.0032 - val_loss: 0.0598\n",
      "Epoch 141/200\n",
      "307/307 [==============================] - 0s 1ms/step - loss: 0.0054 - val_loss: 0.0541\n",
      "Epoch 142/200\n",
      "307/307 [==============================] - 0s 1ms/step - loss: 0.0051 - val_loss: 0.0542\n",
      "Epoch 143/200\n",
      "307/307 [==============================] - 0s 1ms/step - loss: 0.0045 - val_loss: 0.0540\n",
      "Epoch 144/200\n",
      "307/307 [==============================] - 0s 1ms/step - loss: 0.0038 - val_loss: 0.0591\n",
      "Epoch 145/200\n",
      "307/307 [==============================] - 0s 1ms/step - loss: 0.0038 - val_loss: 0.0497\n",
      "Epoch 146/200\n",
      "307/307 [==============================] - 0s 1ms/step - loss: 0.0037 - val_loss: 0.0473\n",
      "Epoch 147/200\n",
      "307/307 [==============================] - 0s 1ms/step - loss: 0.0033 - val_loss: 0.0585\n",
      "Epoch 148/200\n",
      "307/307 [==============================] - 0s 1ms/step - loss: 0.0039 - val_loss: 0.0666\n",
      "Epoch 149/200\n",
      "307/307 [==============================] - 0s 2ms/step - loss: 0.0041 - val_loss: 0.0569\n",
      "Epoch 150/200\n",
      "307/307 [==============================] - 0s 1ms/step - loss: 0.0040 - val_loss: 0.0645\n",
      "Epoch 151/200\n",
      "307/307 [==============================] - 0s 2ms/step - loss: 0.0046 - val_loss: 0.0615\n",
      "Epoch 152/200\n",
      "307/307 [==============================] - 0s 1ms/step - loss: 0.0047 - val_loss: 0.0549\n",
      "Epoch 153/200\n",
      "307/307 [==============================] - 0s 1ms/step - loss: 0.0035 - val_loss: 0.0495\n",
      "Epoch 154/200\n",
      "307/307 [==============================] - 0s 1ms/step - loss: 0.0033 - val_loss: 0.0583\n",
      "Epoch 155/200\n",
      "307/307 [==============================] - 0s 1ms/step - loss: 0.0029 - val_loss: 0.0597\n",
      "Epoch 156/200\n",
      "307/307 [==============================] - 0s 1ms/step - loss: 0.0039 - val_loss: 0.0499\n",
      "Epoch 157/200\n",
      "307/307 [==============================] - 0s 1ms/step - loss: 0.0047 - val_loss: 0.0519\n",
      "Epoch 158/200\n",
      "307/307 [==============================] - 0s 2ms/step - loss: 0.0050 - val_loss: 0.0435\n",
      "Epoch 159/200\n",
      "307/307 [==============================] - 0s 1ms/step - loss: 0.0056 - val_loss: 0.0532\n",
      "Epoch 160/200\n",
      "307/307 [==============================] - 0s 1ms/step - loss: 0.0035 - val_loss: 0.0454\n"
     ]
    },
    {
     "name": "stdout",
     "output_type": "stream",
     "text": [
      "Epoch 161/200\n",
      "307/307 [==============================] - 0s 1ms/step - loss: 0.0033 - val_loss: 0.0488\n",
      "Epoch 162/200\n",
      "307/307 [==============================] - 0s 1ms/step - loss: 0.0029 - val_loss: 0.0545\n",
      "Epoch 163/200\n",
      "307/307 [==============================] - 0s 1ms/step - loss: 0.0033 - val_loss: 0.0531\n",
      "Epoch 164/200\n",
      "307/307 [==============================] - 0s 1ms/step - loss: 0.0036 - val_loss: 0.0505\n",
      "Epoch 165/200\n",
      "307/307 [==============================] - 0s 1ms/step - loss: 0.0037 - val_loss: 0.0472\n",
      "Epoch 166/200\n",
      "307/307 [==============================] - 0s 1ms/step - loss: 0.0032 - val_loss: 0.0540\n",
      "Epoch 167/200\n",
      "307/307 [==============================] - 0s 1ms/step - loss: 0.0038 - val_loss: 0.0428\n",
      "Epoch 168/200\n",
      "307/307 [==============================] - 0s 1ms/step - loss: 0.0073 - val_loss: 0.0481\n",
      "Epoch 169/200\n",
      "307/307 [==============================] - 0s 1ms/step - loss: 0.0031 - val_loss: 0.0554\n",
      "Epoch 170/200\n",
      "307/307 [==============================] - 0s 1ms/step - loss: 0.0026 - val_loss: 0.0519\n",
      "Epoch 171/200\n",
      "307/307 [==============================] - 0s 1ms/step - loss: 0.0023 - val_loss: 0.0482\n",
      "Epoch 172/200\n",
      "307/307 [==============================] - 0s 1ms/step - loss: 0.0046 - val_loss: 0.0576\n",
      "Epoch 173/200\n",
      "307/307 [==============================] - 0s 1ms/step - loss: 0.0042 - val_loss: 0.0450\n",
      "Epoch 174/200\n",
      "307/307 [==============================] - 0s 1ms/step - loss: 0.0042 - val_loss: 0.0461\n",
      "Epoch 175/200\n",
      "307/307 [==============================] - 0s 1ms/step - loss: 0.0036 - val_loss: 0.0584\n",
      "Epoch 176/200\n",
      "307/307 [==============================] - 0s 1ms/step - loss: 0.0032 - val_loss: 0.0572\n",
      "Epoch 177/200\n",
      "307/307 [==============================] - 0s 1ms/step - loss: 0.0037 - val_loss: 0.0471\n",
      "Epoch 178/200\n",
      "307/307 [==============================] - 0s 1ms/step - loss: 0.0033 - val_loss: 0.0477\n",
      "Epoch 179/200\n",
      "307/307 [==============================] - 0s 1ms/step - loss: 0.0026 - val_loss: 0.0575\n",
      "Epoch 180/200\n",
      "307/307 [==============================] - 0s 1ms/step - loss: 0.0026 - val_loss: 0.0483\n",
      "Epoch 181/200\n",
      "307/307 [==============================] - 0s 1ms/step - loss: 0.0035 - val_loss: 0.0460\n",
      "Epoch 182/200\n",
      "307/307 [==============================] - 0s 1ms/step - loss: 0.0033 - val_loss: 0.0486\n",
      "Epoch 183/200\n",
      "307/307 [==============================] - 0s 1ms/step - loss: 0.0037 - val_loss: 0.0489\n",
      "Epoch 184/200\n",
      "307/307 [==============================] - 0s 2ms/step - loss: 0.0029 - val_loss: 0.0541\n",
      "Epoch 185/200\n",
      "307/307 [==============================] - 1s 2ms/step - loss: 0.0027 - val_loss: 0.0555\n",
      "Epoch 186/200\n",
      "307/307 [==============================] - 0s 1ms/step - loss: 0.0027 - val_loss: 0.0534\n",
      "Epoch 187/200\n",
      "307/307 [==============================] - 0s 1ms/step - loss: 0.0026 - val_loss: 0.0544\n",
      "Epoch 188/200\n",
      "307/307 [==============================] - 0s 1ms/step - loss: 0.0055 - val_loss: 0.0502\n",
      "Epoch 189/200\n",
      "307/307 [==============================] - 0s 1ms/step - loss: 0.0045 - val_loss: 0.0479\n",
      "Epoch 190/200\n",
      "307/307 [==============================] - 1s 2ms/step - loss: 0.0025 - val_loss: 0.0510\n",
      "Epoch 191/200\n",
      "307/307 [==============================] - 0s 1ms/step - loss: 0.0025 - val_loss: 0.0461\n",
      "Epoch 192/200\n",
      "307/307 [==============================] - 0s 1ms/step - loss: 0.0027 - val_loss: 0.0584\n",
      "Epoch 193/200\n",
      "307/307 [==============================] - 0s 1ms/step - loss: 0.0026 - val_loss: 0.0494\n",
      "Epoch 194/200\n",
      "307/307 [==============================] - 0s 1ms/step - loss: 0.0030 - val_loss: 0.0601\n",
      "Epoch 195/200\n",
      "307/307 [==============================] - 0s 1ms/step - loss: 0.0032 - val_loss: 0.0493\n",
      "Epoch 196/200\n",
      "307/307 [==============================] - 0s 1ms/step - loss: 0.0044 - val_loss: 0.0587\n",
      "Epoch 197/200\n",
      "307/307 [==============================] - 0s 1ms/step - loss: 0.0035 - val_loss: 0.0558\n",
      "Epoch 198/200\n",
      "307/307 [==============================] - 0s 1ms/step - loss: 0.0030 - val_loss: 0.0514\n",
      "Epoch 199/200\n",
      "307/307 [==============================] - 0s 1ms/step - loss: 0.0037 - val_loss: 0.0522\n",
      "Epoch 200/200\n",
      "307/307 [==============================] - 0s 1ms/step - loss: 0.0033 - val_loss: 0.0503\n"
     ]
    }
   ],
   "source": [
    "model_history = model_ann.fit(X_train_reg_, y_train_reg_,\n",
    "                    validation_data=(X_test_reg_, y_test_reg_),\n",
    "                   batch_size=10, \n",
    "                   epochs=200,  # total epoch\n",
    "                   )"
   ]
  },
  {
   "cell_type": "code",
   "execution_count": 105,
   "id": "93f52c49",
   "metadata": {},
   "outputs": [
    {
     "data": {
      "image/png": "[encoded data removed]",
      "text/plain": [
       "<Figure size 432x288 with 1 Axes>"
      ]
     },
     "metadata": {
      "needs_background": "light"
     },
     "output_type": "display_data"
    }
   ],
   "source": [
    "import keras\n",
    "from matplotlib import pyplot as plt\n",
    "plt.plot(model_history.history['loss'])\n",
    "plt.plot(model_history.history['val_loss'])\n",
    "plt.title('model loss')\n",
    "plt.ylabel('loss')\n",
    "plt.xlabel('epoch')\n",
    "plt.legend(['train', 'val'], loc='upper left')\n",
    "plt.show()"
   ]
  },
  {
   "cell_type": "code",
   "execution_count": 106,
   "id": "218497ae",
   "metadata": {},
   "outputs": [
    {
     "name": "stdout",
     "output_type": "stream",
     "text": [
      "MAE train:  27.647439313161637\n",
      "RMSE train:  37.38956373245263\n"
     ]
    }
   ],
   "source": [
    "# Predict the model \n",
    "y_train_pred_ann = model_ann.predict(X_train_reg_) \n",
    "mae_train_ann = mean_absolute_error(y_train_reg_* target_stdev + target_mean, y_train_pred_ann* target_stdev + target_mean)\n",
    "print('MAE train: ',mae_train_ann)\n",
    "rmse_train_ann = mean_squared_error(y_train_reg_* target_stdev + target_mean, y_train_pred_ann* target_stdev + target_mean, squared=False)\n",
    "print('RMSE train: ',rmse_train_ann)"
   ]
  },
  {
   "cell_type": "code",
   "execution_count": 107,
   "id": "1cb197bf",
   "metadata": {},
   "outputs": [
    {
     "name": "stdout",
     "output_type": "stream",
     "text": [
      "MAE test:  116.37229431152343\n",
      "RMSE test :  141.78880394239604\n"
     ]
    }
   ],
   "source": [
    "# Predict the model \n",
    "y_test_pred_ann = model_ann.predict(X_test_reg_) \n",
    "mae_test_ann = mean_absolute_error(y_test_reg_* target_stdev + target_mean, y_test_pred_ann* target_stdev + target_mean)\n",
    "print('MAE test: ',mae_test_ann)\n",
    "rmse_test_ann = mean_squared_error(y_test_reg_* target_stdev + target_mean, y_test_pred_ann* target_stdev + target_mean, squared=False)\n",
    "print('RMSE test : ',rmse_test_ann)"
   ]
  },
  {
   "cell_type": "code",
   "execution_count": 108,
   "id": "5e0d8c50",
   "metadata": {},
   "outputs": [
    {
     "name": "stdout",
     "output_type": "stream",
     "text": [
      "Model: \"model_1\"\n",
      "_________________________________________________________________\n",
      " Layer (type)                Output Shape              Param #   \n",
      "=================================================================\n",
      " input_2 (InputLayer)        [(None, 29)]              0         \n",
      "                                                                 \n",
      " dense_5 (Dense)             (None, 128)               3968      \n",
      "                                                                 \n",
      " dense_6 (Dense)             (None, 64)                8320      \n",
      "                                                                 \n",
      " dense_7 (Dense)             (None, 32)                2112      \n",
      "                                                                 \n",
      " dense_8 (Dense)             (None, 8)                 272       \n",
      "                                                                 \n",
      " dense_9 (Dense)             (None, 1)                 9         \n",
      "                                                                 \n",
      "=================================================================\n",
      "Total params: 14,681\n",
      "Trainable params: 14,681\n",
      "Non-trainable params: 0\n",
      "_________________________________________________________________\n"
     ]
    }
   ],
   "source": [
    "model_ann.summary()"
   ]
  },
  {
   "cell_type": "markdown",
   "id": "eef04574",
   "metadata": {},
   "source": [
    "# Output"
   ]
  },
  {
   "cell_type": "code",
   "execution_count": 109,
   "id": "f89a0d65",
   "metadata": {},
   "outputs": [
    {
     "name": "stdout",
     "output_type": "stream",
     "text": [
      "+----------------------------+-------------+------------+--------------+-------------+\n",
      "| Model                      |   Train MAE |   Test MAE |   Train RMSE |   Test RMSE |\n",
      "+============================+=============+============+==============+=============+\n",
      "| LSTM                       |     83.4047 |    79.1584 |     106.97   |      95.781 |\n",
      "+----------------------------+-------------+------------+--------------+-------------+\n",
      "| Multiple linear regression |    133.946  |   121.885  |     186.693  |     145.011 |\n",
      "+----------------------------+-------------+------------+--------------+-------------+\n",
      "| XGboost                    |     10.9521 |   130.233  |      14.9573 |     157.362 |\n",
      "+----------------------------+-------------+------------+--------------+-------------+\n",
      "| ANN                        |     27.6474 |   116.372  |      37.3896 |     141.789 |\n",
      "+----------------------------+-------------+------------+--------------+-------------+\n"
     ]
    }
   ],
   "source": [
    "# import module\n",
    "from tabulate import tabulate\n",
    " \n",
    "# assign data\n",
    "mydata = [\n",
    "    [\"LSTM\", mae_train_lstm,mae_test_lstm, rmse_train_lstm,rmse_test_lstm], \n",
    "    [\"Multiple linear regression\",mae_train_mlr,mae_test_mlr, rmse_train_mlr,rmse_test_mlr], \n",
    "      [\"XGboost\", mae_train_xg, mae_test_xg, rmse_train_xg,rmse_test_xg],\n",
    "    [\"ANN\", mae_train_ann, mae_test_ann,  rmse_train_ann ,rmse_test_ann]\n",
    "]\n",
    " \n",
    "# create header\n",
    "head = [\"Model\",\"Train MAE\" ,\"Test MAE\", \"Train RMSE\",\"Test RMSE\"]\n",
    "# display table\n",
    "print(tabulate(mydata, headers=head, tablefmt=\"grid\"))"
   ]
  },
  {
   "cell_type": "code",
   "execution_count": 110,
   "id": "d4e4205d",
   "metadata": {},
   "outputs": [
    {
     "data": {
      "image/png": "[encoded data removed]",
      "text/plain": [
       "<Figure size 720x576 with 1 Axes>"
      ]
     },
     "metadata": {
      "needs_background": "light"
     },
     "output_type": "display_data"
    }
   ],
   "source": [
    "plt.figure(figsize=(10, 8))\n",
    "plt.plot(y_check* target_stdev + target_mean, label = \"Real\",marker='o')\n",
    "plt.plot(y_check_pred_lstm* target_stdev + target_mean, label = \"LSTM Prediction\",marker='^')\n",
    "plt.plot(y_check_pred_arima* target_stdev + target_mean, label = \"ARIMA Prediction\",marker='^')\n",
    "plt.ylabel('FTSE Index Price')\n",
    "plt.xlabel('Days')\n",
    "plt.ylim(7000, 8000) \n",
    "plt.legend()\n",
    "plt.show()"
   ]
  },
  {
   "cell_type": "code",
   "execution_count": 111,
   "id": "5b0c319d",
   "metadata": {},
   "outputs": [
    {
     "name": "stdout",
     "output_type": "stream",
     "text": [
      "No. of parameters for Classical LSTM:  5811\n"
     ]
    }
   ],
   "source": [
    "total_params = sum(p.numel() for p in model_lstm.parameters() if p.requires_grad)\n",
    "\n",
    "print(\"No. of parameters for Classical LSTM: \", total_params)"
   ]
  },
  {
   "cell_type": "code",
   "execution_count": null,
   "id": "e53ecb3c",
   "metadata": {},
   "outputs": [],
   "source": []
  },
  {
   "cell_type": "code",
   "execution_count": null,
   "id": "b004ea79",
   "metadata": {},
   "outputs": [],
   "source": []
  }
 ],
 "metadata": {
  "kernelspec": {
   "display_name": "Python 3",
   "language": "python",
   "name": "python3"
  },
  "language_info": {
   "codemirror_mode": {
    "name": "ipython",
    "version": 3
   },
   "file_extension": ".py",
   "mimetype": "text/x-python",
   "name": "python",
   "nbconvert_exporter": "python",
   "pygments_lexer": "ipython3",
   "version": "3.8.8"
  }
 },
 "nbformat": 4,
 "nbformat_minor": 5
}
