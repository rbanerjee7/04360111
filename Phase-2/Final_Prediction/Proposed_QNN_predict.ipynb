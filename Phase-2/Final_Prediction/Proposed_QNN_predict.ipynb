{
 "cells": [
  {
   "cell_type": "code",
   "execution_count": 1,
   "id": "128064b9-c0a2-4ba7-8a5d-0c9e0ced7b74",
   "metadata": {
    "tags": []
   },
   "outputs": [
    {
     "name": "stdout",
     "output_type": "stream",
     "text": [
      "Requirement already satisfied: pennylane==0.29.1 in /home/ec2-user/anaconda3/envs/Braket/lib/python3.10/site-packages (0.29.1)\n",
      "Requirement already satisfied: numpy<1.24 in /home/ec2-user/anaconda3/envs/Braket/lib/python3.10/site-packages (from pennylane==0.29.1) (1.23.5)\n",
      "Requirement already satisfied: scipy in /home/ec2-user/anaconda3/envs/Braket/lib/python3.10/site-packages (from pennylane==0.29.1) (1.12.0)\n",
      "Requirement already satisfied: networkx in /home/ec2-user/anaconda3/envs/Braket/lib/python3.10/site-packages (from pennylane==0.29.1) (3.2.1)\n",
      "Requirement already satisfied: retworkx in /home/ec2-user/anaconda3/envs/Braket/lib/python3.10/site-packages (from pennylane==0.29.1) (0.14.2)\n",
      "Requirement already satisfied: autograd in /home/ec2-user/anaconda3/envs/Braket/lib/python3.10/site-packages (from pennylane==0.29.1) (1.6.2)\n",
      "Requirement already satisfied: toml in /home/ec2-user/anaconda3/envs/Braket/lib/python3.10/site-packages (from pennylane==0.29.1) (0.10.2)\n",
      "Requirement already satisfied: appdirs in /home/ec2-user/anaconda3/envs/Braket/lib/python3.10/site-packages (from pennylane==0.29.1) (1.4.4)\n",
      "Requirement already satisfied: semantic-version>=2.7 in /home/ec2-user/anaconda3/envs/Braket/lib/python3.10/site-packages (from pennylane==0.29.1) (2.10.0)\n",
      "Requirement already satisfied: autoray>=0.3.1 in /home/ec2-user/anaconda3/envs/Braket/lib/python3.10/site-packages (from pennylane==0.29.1) (0.6.9)\n",
      "Requirement already satisfied: cachetools in /home/ec2-user/anaconda3/envs/Braket/lib/python3.10/site-packages (from pennylane==0.29.1) (5.3.3)\n",
      "Requirement already satisfied: pennylane-lightning>=0.28 in /home/ec2-user/anaconda3/envs/Braket/lib/python3.10/site-packages (from pennylane==0.29.1) (0.30.0)\n",
      "Requirement already satisfied: requests in /home/ec2-user/anaconda3/envs/Braket/lib/python3.10/site-packages (from pennylane==0.29.1) (2.31.0)\n",
      "Requirement already satisfied: future>=0.15.2 in /home/ec2-user/anaconda3/envs/Braket/lib/python3.10/site-packages (from autograd->pennylane==0.29.1) (1.0.0)\n",
      "Requirement already satisfied: charset-normalizer<4,>=2 in /home/ec2-user/anaconda3/envs/Braket/lib/python3.10/site-packages (from requests->pennylane==0.29.1) (3.3.2)\n",
      "Requirement already satisfied: idna<4,>=2.5 in /home/ec2-user/anaconda3/envs/Braket/lib/python3.10/site-packages (from requests->pennylane==0.29.1) (3.6)\n",
      "Requirement already satisfied: urllib3<3,>=1.21.1 in /home/ec2-user/anaconda3/envs/Braket/lib/python3.10/site-packages (from requests->pennylane==0.29.1) (2.0.7)\n",
      "Requirement already satisfied: certifi>=2017.4.17 in /home/ec2-user/anaconda3/envs/Braket/lib/python3.10/site-packages (from requests->pennylane==0.29.1) (2024.2.2)\n",
      "Requirement already satisfied: rustworkx==0.14.2 in /home/ec2-user/anaconda3/envs/Braket/lib/python3.10/site-packages (from retworkx->pennylane==0.29.1) (0.14.2)\n",
      "Note: you may need to restart the kernel to use updated packages.\n"
     ]
    }
   ],
   "source": [
    "pip install pennylane==0.29.1"
   ]
  },
  {
   "cell_type": "code",
   "execution_count": 2,
   "id": "1766318b-0775-4089-88ef-3eec44d15160",
   "metadata": {
    "tags": []
   },
   "outputs": [
    {
     "name": "stdout",
     "output_type": "stream",
     "text": [
      "Requirement already satisfied: tensorflow in /home/ec2-user/anaconda3/envs/Braket/lib/python3.10/site-packages (2.16.1)\n",
      "Requirement already satisfied: absl-py>=1.0.0 in /home/ec2-user/anaconda3/envs/Braket/lib/python3.10/site-packages (from tensorflow) (2.1.0)\n",
      "Requirement already satisfied: astunparse>=1.6.0 in /home/ec2-user/anaconda3/envs/Braket/lib/python3.10/site-packages (from tensorflow) (1.6.3)\n",
      "Requirement already satisfied: flatbuffers>=23.5.26 in /home/ec2-user/anaconda3/envs/Braket/lib/python3.10/site-packages (from tensorflow) (24.3.7)\n",
      "Requirement already satisfied: gast!=0.5.0,!=0.5.1,!=0.5.2,>=0.2.1 in /home/ec2-user/anaconda3/envs/Braket/lib/python3.10/site-packages (from tensorflow) (0.5.4)\n",
      "Requirement already satisfied: google-pasta>=0.1.1 in /home/ec2-user/anaconda3/envs/Braket/lib/python3.10/site-packages (from tensorflow) (0.2.0)\n",
      "Requirement already satisfied: h5py>=3.10.0 in /home/ec2-user/anaconda3/envs/Braket/lib/python3.10/site-packages (from tensorflow) (3.10.0)\n",
      "Requirement already satisfied: libclang>=13.0.0 in /home/ec2-user/anaconda3/envs/Braket/lib/python3.10/site-packages (from tensorflow) (16.0.6)\n",
      "Requirement already satisfied: ml-dtypes~=0.3.1 in /home/ec2-user/anaconda3/envs/Braket/lib/python3.10/site-packages (from tensorflow) (0.3.2)\n",
      "Requirement already satisfied: opt-einsum>=2.3.2 in /home/ec2-user/anaconda3/envs/Braket/lib/python3.10/site-packages (from tensorflow) (3.3.0)\n",
      "Requirement already satisfied: packaging in /home/ec2-user/anaconda3/envs/Braket/lib/python3.10/site-packages (from tensorflow) (24.0)\n",
      "Requirement already satisfied: protobuf!=4.21.0,!=4.21.1,!=4.21.2,!=4.21.3,!=4.21.4,!=4.21.5,<5.0.0dev,>=3.20.3 in /home/ec2-user/anaconda3/envs/Braket/lib/python3.10/site-packages (from tensorflow) (4.25.3)\n",
      "Requirement already satisfied: requests<3,>=2.21.0 in /home/ec2-user/anaconda3/envs/Braket/lib/python3.10/site-packages (from tensorflow) (2.31.0)\n",
      "Requirement already satisfied: setuptools in /home/ec2-user/anaconda3/envs/Braket/lib/python3.10/site-packages (from tensorflow) (69.2.0)\n",
      "Requirement already satisfied: six>=1.12.0 in /home/ec2-user/anaconda3/envs/Braket/lib/python3.10/site-packages (from tensorflow) (1.16.0)\n",
      "Requirement already satisfied: termcolor>=1.1.0 in /home/ec2-user/anaconda3/envs/Braket/lib/python3.10/site-packages (from tensorflow) (2.4.0)\n",
      "Requirement already satisfied: typing-extensions>=3.6.6 in /home/ec2-user/anaconda3/envs/Braket/lib/python3.10/site-packages (from tensorflow) (4.10.0)\n",
      "Requirement already satisfied: wrapt>=1.11.0 in /home/ec2-user/anaconda3/envs/Braket/lib/python3.10/site-packages (from tensorflow) (1.16.0)\n",
      "Requirement already satisfied: grpcio<2.0,>=1.24.3 in /home/ec2-user/anaconda3/envs/Braket/lib/python3.10/site-packages (from tensorflow) (1.62.1)\n",
      "Requirement already satisfied: tensorboard<2.17,>=2.16 in /home/ec2-user/anaconda3/envs/Braket/lib/python3.10/site-packages (from tensorflow) (2.16.2)\n",
      "Requirement already satisfied: keras>=3.0.0 in /home/ec2-user/anaconda3/envs/Braket/lib/python3.10/site-packages (from tensorflow) (3.0.5)\n",
      "Requirement already satisfied: tensorflow-io-gcs-filesystem>=0.23.1 in /home/ec2-user/anaconda3/envs/Braket/lib/python3.10/site-packages (from tensorflow) (0.36.0)\n",
      "Requirement already satisfied: numpy<2.0.0,>=1.23.5 in /home/ec2-user/anaconda3/envs/Braket/lib/python3.10/site-packages (from tensorflow) (1.23.5)\n",
      "Requirement already satisfied: wheel<1.0,>=0.23.0 in /home/ec2-user/anaconda3/envs/Braket/lib/python3.10/site-packages (from astunparse>=1.6.0->tensorflow) (0.42.0)\n",
      "Requirement already satisfied: rich in /home/ec2-user/anaconda3/envs/Braket/lib/python3.10/site-packages (from keras>=3.0.0->tensorflow) (13.7.1)\n",
      "Requirement already satisfied: namex in /home/ec2-user/anaconda3/envs/Braket/lib/python3.10/site-packages (from keras>=3.0.0->tensorflow) (0.0.7)\n",
      "Requirement already satisfied: dm-tree in /home/ec2-user/anaconda3/envs/Braket/lib/python3.10/site-packages (from keras>=3.0.0->tensorflow) (0.1.8)\n",
      "Requirement already satisfied: charset-normalizer<4,>=2 in /home/ec2-user/anaconda3/envs/Braket/lib/python3.10/site-packages (from requests<3,>=2.21.0->tensorflow) (3.3.2)\n",
      "Requirement already satisfied: idna<4,>=2.5 in /home/ec2-user/anaconda3/envs/Braket/lib/python3.10/site-packages (from requests<3,>=2.21.0->tensorflow) (3.6)\n",
      "Requirement already satisfied: urllib3<3,>=1.21.1 in /home/ec2-user/anaconda3/envs/Braket/lib/python3.10/site-packages (from requests<3,>=2.21.0->tensorflow) (2.0.7)\n",
      "Requirement already satisfied: certifi>=2017.4.17 in /home/ec2-user/anaconda3/envs/Braket/lib/python3.10/site-packages (from requests<3,>=2.21.0->tensorflow) (2024.2.2)\n",
      "Requirement already satisfied: markdown>=2.6.8 in /home/ec2-user/anaconda3/envs/Braket/lib/python3.10/site-packages (from tensorboard<2.17,>=2.16->tensorflow) (3.5.2)\n",
      "Requirement already satisfied: tensorboard-data-server<0.8.0,>=0.7.0 in /home/ec2-user/anaconda3/envs/Braket/lib/python3.10/site-packages (from tensorboard<2.17,>=2.16->tensorflow) (0.7.2)\n",
      "Requirement already satisfied: werkzeug>=1.0.1 in /home/ec2-user/anaconda3/envs/Braket/lib/python3.10/site-packages (from tensorboard<2.17,>=2.16->tensorflow) (3.0.1)\n",
      "Requirement already satisfied: MarkupSafe>=2.1.1 in /home/ec2-user/anaconda3/envs/Braket/lib/python3.10/site-packages (from werkzeug>=1.0.1->tensorboard<2.17,>=2.16->tensorflow) (2.1.5)\n",
      "Requirement already satisfied: markdown-it-py>=2.2.0 in /home/ec2-user/anaconda3/envs/Braket/lib/python3.10/site-packages (from rich->keras>=3.0.0->tensorflow) (3.0.0)\n",
      "Requirement already satisfied: pygments<3.0.0,>=2.13.0 in /home/ec2-user/anaconda3/envs/Braket/lib/python3.10/site-packages (from rich->keras>=3.0.0->tensorflow) (2.17.2)\n",
      "Requirement already satisfied: mdurl~=0.1 in /home/ec2-user/anaconda3/envs/Braket/lib/python3.10/site-packages (from markdown-it-py>=2.2.0->rich->keras>=3.0.0->tensorflow) (0.1.2)\n",
      "Note: you may need to restart the kernel to use updated packages.\n"
     ]
    }
   ],
   "source": [
    "pip install tensorflow"
   ]
  },
  {
   "cell_type": "code",
   "execution_count": 3,
   "id": "325dbbb3-eb1d-4354-8f60-095913bab803",
   "metadata": {
    "tags": []
   },
   "outputs": [
    {
     "name": "stdout",
     "output_type": "stream",
     "text": [
      "Requirement already satisfied: scikit-learn in /home/ec2-user/anaconda3/envs/Braket/lib/python3.10/site-packages (1.4.1.post1)\n",
      "Requirement already satisfied: numpy<2.0,>=1.19.5 in /home/ec2-user/anaconda3/envs/Braket/lib/python3.10/site-packages (from scikit-learn) (1.23.5)\n",
      "Requirement already satisfied: scipy>=1.6.0 in /home/ec2-user/anaconda3/envs/Braket/lib/python3.10/site-packages (from scikit-learn) (1.12.0)\n",
      "Requirement already satisfied: joblib>=1.2.0 in /home/ec2-user/anaconda3/envs/Braket/lib/python3.10/site-packages (from scikit-learn) (1.3.2)\n",
      "Requirement already satisfied: threadpoolctl>=2.0.0 in /home/ec2-user/anaconda3/envs/Braket/lib/python3.10/site-packages (from scikit-learn) (3.3.0)\n",
      "Note: you may need to restart the kernel to use updated packages.\n"
     ]
    }
   ],
   "source": [
    "pip install scikit-learn"
   ]
  },
  {
   "cell_type": "code",
   "execution_count": null,
   "id": "bcc7b03d-5915-4f77-bd3a-0988073dfbf8",
   "metadata": {},
   "outputs": [],
   "source": []
  },
  {
   "cell_type": "code",
   "execution_count": null,
   "id": "1ce21606-1413-47a4-8d8e-7c779f303063",
   "metadata": {},
   "outputs": [],
   "source": []
  },
  {
   "cell_type": "code",
   "execution_count": 4,
   "id": "a33a1f56",
   "metadata": {
    "tags": []
   },
   "outputs": [
    {
     "name": "stderr",
     "output_type": "stream",
     "text": [
      "2024-03-15 16:03:14.328026: W tensorflow/compiler/tf2tensorrt/utils/py_utils.cc:38] TF-TRT Warning: Could not find TensorRT\n"
     ]
    }
   ],
   "source": [
    "import pandas as pd\n",
    "from pennylane import numpy as np\n",
    "import math\n",
    "import pennylane as qml\n",
    "import random\n",
    "import tensorflow as tf\n",
    "import time\n",
    "import matplotlib.pyplot as plt\n",
    "import itertools"
   ]
  },
  {
   "cell_type": "code",
   "execution_count": 5,
   "id": "31c36071",
   "metadata": {
    "tags": []
   },
   "outputs": [],
   "source": [
    "tf.random.set_seed(15)\n",
    "random.seed(42)\n",
    "plt.rcParams[\"font.weight\"] = \"bold\"\n",
    "plt.rcParams[\"axes.labelweight\"] = \"bold\"\n",
    "plt.rcParams.update({'font.size':20})\n",
    "legend_prop = {'weight':'bold'}\n",
    "from pylab import rcParams\n",
    "rcParams['axes.linewidth'] = 2"
   ]
  },
  {
   "cell_type": "markdown",
   "id": "e3dd4487",
   "metadata": {},
   "source": [
    "# Data"
   ]
  },
  {
   "cell_type": "code",
   "execution_count": 6,
   "id": "b38a0ac0",
   "metadata": {
    "tags": []
   },
   "outputs": [],
   "source": [
    "df = pd.read_csv('Processed_data_till_7_march.csv')\n",
    "df = df.drop([ 'Unnamed: 0'], axis=1)\n",
    "# Used data from Aug 2013 till 1st March 2024 \n",
    "df=df[50:]\n",
    "# Remove few redundant data\n",
    "df=df.drop(columns=['Date'])\n",
    "df=df.drop(columns=['CUMLOGRET_1'])\n",
    "df=df.drop(columns=['Gold in USD volume'])\n",
    "df=df.drop(columns=['Open'])\n",
    "df=df.drop(columns=['High'])\n",
    "df=df.drop(columns=['Low'])"
   ]
  },
  {
   "cell_type": "code",
   "execution_count": 7,
   "id": "e600bc49",
   "metadata": {
    "tags": []
   },
   "outputs": [],
   "source": [
    "close_min=min(df['Close'].values)\n",
    "close_max=max(df['Close'].values)\n",
    "a=-1\n",
    "b=1\n",
    "normalized_df_2=(b-a)*((df-df.min())/(df.max()-df.min()))+a"
   ]
  },
  {
   "cell_type": "code",
   "execution_count": 8,
   "id": "1e2ae38d",
   "metadata": {
    "tags": []
   },
   "outputs": [],
   "source": [
    "a=0\n",
    "b=np.pi\n",
    "normalized_df=(b-a)*((df-df.min())/(df.max()-df.min()))+a"
   ]
  },
  {
   "cell_type": "code",
   "execution_count": 9,
   "id": "418c27b6",
   "metadata": {
    "tags": []
   },
   "outputs": [],
   "source": [
    "normalized_df['Close']=normalized_df_2['Close']"
   ]
  },
  {
   "cell_type": "code",
   "execution_count": 10,
   "id": "f3c9d62c",
   "metadata": {
    "tags": []
   },
   "outputs": [],
   "source": [
    "df=normalized_df.copy()"
   ]
  },
  {
   "cell_type": "code",
   "execution_count": 11,
   "id": "0f430c97",
   "metadata": {
    "tags": []
   },
   "outputs": [],
   "source": [
    "df['add1']=0"
   ]
  },
  {
   "cell_type": "code",
   "execution_count": 12,
   "id": "b2d0c95f",
   "metadata": {
    "tags": []
   },
   "outputs": [
    {
     "name": "stdout",
     "output_type": "stream",
     "text": [
      "['3M', 'BBB_20_2.0', 'BBL_20_2.0', 'BBM_20_2.0', 'BBP_20_2.0', 'BBU_20_2.0', 'Close_copy', 'Crude Futures_close', 'Crude Futures_volume', 'Crude_H-L', 'Crude_O-C', 'EMA_14', 'EMA_21', 'EMA_7', 'FTSE_H-L', 'FTSE_O-C', 'GBP USD ', 'GBP_USD_H-L', 'GBP_USD_O-C', 'Gold in USD close', 'Gold_H-L', 'Gold_O-C', 'MACD_12_26_9', 'MACDh_12_26_9', 'MACDs_12_26_9', 'SMA_14', 'SMA_21', 'SMA_7', 'Volume', 'add1']\n",
      "30\n"
     ]
    }
   ],
   "source": [
    "# Set target and features\n",
    "target = \"Close\"\n",
    "features = list(df.columns.difference([\"Close\"]))\n",
    "print(features)\n",
    "print(len(features))"
   ]
  },
  {
   "cell_type": "code",
   "execution_count": 13,
   "id": "5f764066",
   "metadata": {
    "tags": []
   },
   "outputs": [
    {
     "data": {
      "text/html": [
       "<div>\n",
       "<style scoped>\n",
       "    .dataframe tbody tr th:only-of-type {\n",
       "        vertical-align: middle;\n",
       "    }\n",
       "\n",
       "    .dataframe tbody tr th {\n",
       "        vertical-align: top;\n",
       "    }\n",
       "\n",
       "    .dataframe thead th {\n",
       "        text-align: right;\n",
       "    }\n",
       "</style>\n",
       "<table border=\"1\" class=\"dataframe\">\n",
       "  <thead>\n",
       "    <tr style=\"text-align: right;\">\n",
       "      <th></th>\n",
       "      <th>Close</th>\n",
       "      <th>Volume</th>\n",
       "      <th>EMA_7</th>\n",
       "      <th>EMA_14</th>\n",
       "      <th>EMA_21</th>\n",
       "      <th>SMA_7</th>\n",
       "      <th>SMA_14</th>\n",
       "      <th>SMA_21</th>\n",
       "      <th>MACD_12_26_9</th>\n",
       "      <th>MACDh_12_26_9</th>\n",
       "      <th>...</th>\n",
       "      <th>FTSE_H-L</th>\n",
       "      <th>FTSE_O-C</th>\n",
       "      <th>GBP_USD_H-L</th>\n",
       "      <th>GBP_USD_O-C</th>\n",
       "      <th>Gold_H-L</th>\n",
       "      <th>Gold_O-C</th>\n",
       "      <th>Crude_H-L</th>\n",
       "      <th>Crude_O-C</th>\n",
       "      <th>Close_copy</th>\n",
       "      <th>add1</th>\n",
       "    </tr>\n",
       "  </thead>\n",
       "  <tbody>\n",
       "    <tr>\n",
       "      <th>50</th>\n",
       "      <td>-0.701430</td>\n",
       "      <td>0.662644</td>\n",
       "      <td>0.304164</td>\n",
       "      <td>0.215734</td>\n",
       "      <td>0.152416</td>\n",
       "      <td>0.368959</td>\n",
       "      <td>0.266307</td>\n",
       "      <td>0.182846</td>\n",
       "      <td>2.696624</td>\n",
       "      <td>1.665995</td>\n",
       "      <td>...</td>\n",
       "      <td>0.608132</td>\n",
       "      <td>1.346644</td>\n",
       "      <td>0.037320</td>\n",
       "      <td>1.899331</td>\n",
       "      <td>0.310536</td>\n",
       "      <td>1.453813</td>\n",
       "      <td>0.340350</td>\n",
       "      <td>1.005263</td>\n",
       "      <td>0.468992</td>\n",
       "      <td>0</td>\n",
       "    </tr>\n",
       "    <tr>\n",
       "      <th>51</th>\n",
       "      <td>-0.634817</td>\n",
       "      <td>0.592118</td>\n",
       "      <td>0.317588</td>\n",
       "      <td>0.223312</td>\n",
       "      <td>0.160106</td>\n",
       "      <td>0.378745</td>\n",
       "      <td>0.266077</td>\n",
       "      <td>0.191066</td>\n",
       "      <td>2.698435</td>\n",
       "      <td>1.711599</td>\n",
       "      <td>...</td>\n",
       "      <td>0.466823</td>\n",
       "      <td>1.012070</td>\n",
       "      <td>0.064779</td>\n",
       "      <td>1.956533</td>\n",
       "      <td>0.313124</td>\n",
       "      <td>1.125187</td>\n",
       "      <td>0.222025</td>\n",
       "      <td>1.002933</td>\n",
       "      <td>0.573629</td>\n",
       "      <td>0</td>\n",
       "    </tr>\n",
       "    <tr>\n",
       "      <th>52</th>\n",
       "      <td>-0.652298</td>\n",
       "      <td>0.568643</td>\n",
       "      <td>0.320097</td>\n",
       "      <td>0.225648</td>\n",
       "      <td>0.164150</td>\n",
       "      <td>0.374498</td>\n",
       "      <td>0.265523</td>\n",
       "      <td>0.194111</td>\n",
       "      <td>2.688490</td>\n",
       "      <td>1.722741</td>\n",
       "      <td>...</td>\n",
       "      <td>0.350243</td>\n",
       "      <td>1.377740</td>\n",
       "      <td>0.066751</td>\n",
       "      <td>2.569949</td>\n",
       "      <td>0.000000</td>\n",
       "      <td>1.334150</td>\n",
       "      <td>0.195436</td>\n",
       "      <td>1.145045</td>\n",
       "      <td>0.546169</td>\n",
       "      <td>0</td>\n",
       "    </tr>\n",
       "    <tr>\n",
       "      <th>53</th>\n",
       "      <td>-0.653357</td>\n",
       "      <td>0.697431</td>\n",
       "      <td>0.321521</td>\n",
       "      <td>0.227416</td>\n",
       "      <td>0.167648</td>\n",
       "      <td>0.372934</td>\n",
       "      <td>0.262472</td>\n",
       "      <td>0.198783</td>\n",
       "      <td>2.678158</td>\n",
       "      <td>1.730823</td>\n",
       "      <td>...</td>\n",
       "      <td>0.536468</td>\n",
       "      <td>1.306334</td>\n",
       "      <td>0.039261</td>\n",
       "      <td>1.956533</td>\n",
       "      <td>0.564141</td>\n",
       "      <td>1.268068</td>\n",
       "      <td>0.000000</td>\n",
       "      <td>0.994779</td>\n",
       "      <td>0.544505</td>\n",
       "      <td>0</td>\n",
       "    </tr>\n",
       "    <tr>\n",
       "      <th>54</th>\n",
       "      <td>-0.658919</td>\n",
       "      <td>0.780971</td>\n",
       "      <td>0.320184</td>\n",
       "      <td>0.227603</td>\n",
       "      <td>0.169891</td>\n",
       "      <td>0.372646</td>\n",
       "      <td>0.245023</td>\n",
       "      <td>0.204491</td>\n",
       "      <td>2.665253</td>\n",
       "      <td>1.731741</td>\n",
       "      <td>...</td>\n",
       "      <td>0.485496</td>\n",
       "      <td>1.325913</td>\n",
       "      <td>0.025333</td>\n",
       "      <td>2.116473</td>\n",
       "      <td>0.512385</td>\n",
       "      <td>1.378800</td>\n",
       "      <td>0.256592</td>\n",
       "      <td>1.016912</td>\n",
       "      <td>0.535768</td>\n",
       "      <td>0</td>\n",
       "    </tr>\n",
       "  </tbody>\n",
       "</table>\n",
       "<p>5 rows × 31 columns</p>\n",
       "</div>"
      ],
      "text/plain": [
       "       Close    Volume     EMA_7    EMA_14    EMA_21     SMA_7    SMA_14  \\\n",
       "50 -0.701430  0.662644  0.304164  0.215734  0.152416  0.368959  0.266307   \n",
       "51 -0.634817  0.592118  0.317588  0.223312  0.160106  0.378745  0.266077   \n",
       "52 -0.652298  0.568643  0.320097  0.225648  0.164150  0.374498  0.265523   \n",
       "53 -0.653357  0.697431  0.321521  0.227416  0.167648  0.372934  0.262472   \n",
       "54 -0.658919  0.780971  0.320184  0.227603  0.169891  0.372646  0.245023   \n",
       "\n",
       "      SMA_21  MACD_12_26_9  MACDh_12_26_9  ...  FTSE_H-L  FTSE_O-C  \\\n",
       "50  0.182846      2.696624       1.665995  ...  0.608132  1.346644   \n",
       "51  0.191066      2.698435       1.711599  ...  0.466823  1.012070   \n",
       "52  0.194111      2.688490       1.722741  ...  0.350243  1.377740   \n",
       "53  0.198783      2.678158       1.730823  ...  0.536468  1.306334   \n",
       "54  0.204491      2.665253       1.731741  ...  0.485496  1.325913   \n",
       "\n",
       "    GBP_USD_H-L  GBP_USD_O-C  Gold_H-L  Gold_O-C  Crude_H-L  Crude_O-C  \\\n",
       "50     0.037320     1.899331  0.310536  1.453813   0.340350   1.005263   \n",
       "51     0.064779     1.956533  0.313124  1.125187   0.222025   1.002933   \n",
       "52     0.066751     2.569949  0.000000  1.334150   0.195436   1.145045   \n",
       "53     0.039261     1.956533  0.564141  1.268068   0.000000   0.994779   \n",
       "54     0.025333     2.116473  0.512385  1.378800   0.256592   1.016912   \n",
       "\n",
       "    Close_copy  add1  \n",
       "50    0.468992     0  \n",
       "51    0.573629     0  \n",
       "52    0.546169     0  \n",
       "53    0.544505     0  \n",
       "54    0.535768     0  \n",
       "\n",
       "[5 rows x 31 columns]"
      ]
     },
     "execution_count": 13,
     "metadata": {},
     "output_type": "execute_result"
    }
   ],
   "source": [
    "df.head()"
   ]
  },
  {
   "cell_type": "code",
   "execution_count": 14,
   "id": "67e4ebd6",
   "metadata": {
    "tags": []
   },
   "outputs": [],
   "source": [
    "sequence_length = 30\n",
    "window =6\n",
    "\n",
    "def create_dataset(dataset,target,features, lookback, window):\n",
    "    X_store, y_store = [], []\n",
    "    for i in range(0,len(dataset)-lookback-window,3):\n",
    "        X = (dataset[features].values)[i:i+lookback]\n",
    "        y = (dataset[target].values)[i+lookback:i+lookback+window]\n",
    "        X_store.append(X)\n",
    "        y_store.append(y)\n",
    "    return np.array(X_store), np.array(y_store)"
   ]
  },
  {
   "cell_type": "code",
   "execution_count": 15,
   "id": "2ed3764b",
   "metadata": {
    "tags": []
   },
   "outputs": [
    {
     "name": "stdout",
     "output_type": "stream",
     "text": [
      "Total sample 3212\n",
      "Train sample 3202\n",
      "Test sample 10\n"
     ]
    }
   ],
   "source": [
    "# Split train test data\n",
    "from sklearn.model_selection import train_test_split\n",
    "# df_train, df_test = train_test_split(df, test_size=0.05)\n",
    "size=int(len(df))-10\n",
    "df_train=df[:size]\n",
    "df_test=df[size:]\n",
    "print('Total sample', len(df))\n",
    "print('Train sample', len(df_train))\n",
    "print('Test sample', len(df_test))"
   ]
  },
  {
   "cell_type": "code",
   "execution_count": 16,
   "id": "73d2c8c8",
   "metadata": {
    "tags": []
   },
   "outputs": [
    {
     "name": "stdout",
     "output_type": "stream",
     "text": [
      "(1056, 30, 30) (1056, 6)\n"
     ]
    },
    {
     "name": "stderr",
     "output_type": "stream",
     "text": [
      "2024-03-15 16:03:16.441378: E external/local_xla/xla/stream_executor/cuda/cuda_driver.cc:282] failed call to cuInit: CUDA_ERROR_NO_DEVICE: no CUDA-capable device is detected\n"
     ]
    }
   ],
   "source": [
    "# Train data\n",
    "X_train, y_train = create_dataset(\n",
    "    df_train,\n",
    "    target=target,\n",
    "    features=features,\n",
    "    lookback=sequence_length, window=window)\n",
    "\n",
    "indices = tf.range(start=0, limit=tf.shape(X_train)[0])\n",
    "shuffled_indices = tf.random.shuffle(indices)\n",
    "X_train = tf.gather(X_train, shuffled_indices)\n",
    "y_train = tf.gather(y_train, shuffled_indices)\n",
    "\n",
    "print(X_train.shape, y_train.shape)"
   ]
  },
  {
   "cell_type": "code",
   "execution_count": null,
   "id": "7d730e5b-9966-4f56-b9dd-3d27001372a1",
   "metadata": {},
   "outputs": [],
   "source": []
  },
  {
   "cell_type": "markdown",
   "id": "a09ae8b6",
   "metadata": {},
   "source": [
    "# QNN"
   ]
  },
  {
   "cell_type": "code",
   "execution_count": 17,
   "id": "7df9e0d9",
   "metadata": {
    "tags": []
   },
   "outputs": [],
   "source": [
    "nqubits = 10\n",
    "device = qml.device('default.qubit', wires=nqubits)\n",
    "# Define Quantum layer(1)\n",
    "@qml.qnode(device)\n",
    "def quantum_circuit_1(inputs, params):\n",
    "    \n",
    "    m=3\n",
    "    k1=0 ; k2=k1+m ; k3=k2+m ; k4=k3+m ; k5=k4+m ; k6=k5+m ; k7=k6+m ; k8=k7+m ; k9=k8+m ; k10=k9+m ; k11=k10+m\n",
    "        \n",
    "    for p1,p2,p3,p4,p5,p6,p7,p8,p9,p10 in zip(params[k1:k2],params[k2:k3],params[k3:k4],\n",
    "                                                  params[k4:k5],params[k5:k6],params[k6:k7],params[k7:k8],\n",
    "                                                  params[k8:k9],params[k9:k10],params[k10:k11]):\n",
    "        \n",
    "        qml.Rot(*inputs[:3], wires=0)\n",
    "        qml.Rot(*inputs[3:6], wires=1)\n",
    "        qml.Rot(*inputs[6:9], wires=2)\n",
    "        qml.Rot(*inputs[9:12], wires=3)\n",
    "        qml.Rot(*inputs[12:15], wires=4)\n",
    "        qml.Rot(*inputs[15:18], wires=5)\n",
    "        qml.Rot(*inputs[18:21], wires=6)\n",
    "        qml.Rot(*inputs[21:24], wires=7)\n",
    "        qml.Rot(*inputs[24:27], wires=8)\n",
    "        qml.Rot(*inputs[27:30], wires=9)\n",
    "        \n",
    "        qml.Rot(*p1, wires=0)\n",
    "        qml.Rot(*p2, wires=1)\n",
    "        qml.Rot(*p3, wires=2)\n",
    "        qml.Rot(*p4, wires=3)\n",
    "        qml.Rot(*p5, wires=4)\n",
    "        qml.Rot(*p6, wires=5)\n",
    "        qml.Rot(*p7, wires=6)\n",
    "        qml.Rot(*p8, wires=7)\n",
    "        qml.Rot(*p9, wires=8)\n",
    "        qml.Rot(*p10, wires=9)\n",
    "        \n",
    "        qml.CNOT(wires=[0, 1])\n",
    "        qml.CNOT(wires=[1, 2])\n",
    "        qml.CNOT(wires=[2, 3])\n",
    "        qml.CNOT(wires=[3, 4]) \n",
    "        qml.CNOT(wires=[4, 5])\n",
    "        qml.CNOT(wires=[5, 6]) \n",
    "        qml.CNOT(wires=[6, 7])\n",
    "        qml.CNOT(wires=[7, 8])\n",
    "        qml.CNOT(wires=[8, 9])\n",
    "        \n",
    "    return [qml.expval(qml.PauliZ(k)) for k in range(nqubits)]"
   ]
  },
  {
   "cell_type": "code",
   "execution_count": 18,
   "id": "6b1aaaf5",
   "metadata": {
    "tags": []
   },
   "outputs": [],
   "source": [
    "device = qml.device('default.qubit', wires=12)\n",
    "# Define QNode\n",
    "@qml.qnode(device)\n",
    "def quantum_circuit_2(inputs, params):\n",
    "    \n",
    "    qml.RX(inputs[0], wires=0)\n",
    "    qml.RX(inputs[1], wires=1)\n",
    "    qml.RX(inputs[2], wires=2)\n",
    "    qml.RX(inputs[3], wires=3)\n",
    "    qml.RX(inputs[4], wires=4)\n",
    "    qml.RX(inputs[5], wires=5)\n",
    "    qml.RX(inputs[6], wires=6)\n",
    "    qml.RX(inputs[7], wires=7)\n",
    "    qml.RX(inputs[8], wires=8)\n",
    "    qml.RX(inputs[9], wires=9)\n",
    "    qml.RX(inputs[10], wires=10)\n",
    "    qml.RX(inputs[11], wires=11)\n",
    "    \n",
    "    m=4\n",
    "    k1=1234 ; k2=k1+m ; k3=k2+m ; k4=k3+m ; k5=k4+m ; k6=k5+m ; k7=k6+m ; k8=k7+m ; k9=k8+m ; k10=k9+m ; k11=k10+m\n",
    "    k12=k11+m ; k13=k12+m \n",
    "    \n",
    "#     print('Parameters in Second Qauntum circuit is till',k13)\n",
    "#     print('Total parameter in Circuit 2',k13-k1)\n",
    "        \n",
    "    for p1,p2,p3,p4,p5,p6,p7,p8,p9,p10,p11,p12 in zip(params[k1:k2],params[k2:k3],params[k3:k4],\n",
    "                                                  params[k4:k5],params[k5:k6],params[k6:k7],params[k7:k8],\n",
    "                                                  params[k8:k9],params[k9:k10],params[k10:k11],params[k11:k12]\n",
    "                                                      ,params[k12:k13]):\n",
    "        \n",
    "        qml.CNOT(wires=[0, 1])\n",
    "        qml.CNOT(wires=[1, 2])\n",
    "        qml.CNOT(wires=[2, 3])\n",
    "        qml.CNOT(wires=[3, 4]) \n",
    "        qml.CNOT(wires=[4, 5])\n",
    "        qml.CNOT(wires=[5, 6]) \n",
    "        qml.CNOT(wires=[6, 7])\n",
    "        qml.CNOT(wires=[7, 8])\n",
    "        qml.CNOT(wires=[8, 9])\n",
    "        qml.CNOT(wires=[9, 10])\n",
    "        qml.CNOT(wires=[10, 11])\n",
    "        \n",
    "        qml.Rot(*p1, wires=0)\n",
    "        qml.Rot(*p2, wires=1)\n",
    "        qml.Rot(*p3, wires=2)\n",
    "        qml.Rot(*p4, wires=3)\n",
    "        qml.Rot(*p5, wires=4)\n",
    "        qml.Rot(*p6, wires=5)\n",
    "        qml.Rot(*p7, wires=6)\n",
    "        qml.Rot(*p8, wires=7)\n",
    "        qml.Rot(*p9, wires=8)\n",
    "        qml.Rot(*p10, wires=9)\n",
    "        qml.Rot(*p10, wires=10)\n",
    "        qml.Rot(*p11, wires=11)\n",
    "        \n",
    "    return [qml.expval(qml.PauliZ(k)) for k in range(12)]"
   ]
  },
  {
   "cell_type": "code",
   "execution_count": 36,
   "id": "f2af5cef",
   "metadata": {
    "tags": []
   },
   "outputs": [],
   "source": [
    "def loss_func(params,X,y):\n",
    "    \n",
    "    cost=0\n",
    "    \n",
    "    for j in range(len(X)):\n",
    "        \n",
    "        v1=[quantum_circuit_1(X[j][i].numpy(), params) for i in range(X.shape[1])]    \n",
    "\n",
    "        # Flatten \n",
    "        flat_list = list(itertools.chain(*v1))\n",
    "        v1_=np.array(flat_list)\n",
    "    #     print('v1 shape is',v1_.shape)    \n",
    "    #     print('Total parameter in Circuit 1',60)\n",
    "\n",
    "        m1=300\n",
    "        l1=30 ; l2=l1+m1 ; l3=l2+m1  ; l4=l3+m1 ; l5=l4+m1 \n",
    "        l6=l5+1 ; l7=l6+1 ; l8=l7+1 \n",
    "    #     print('Parameters in NN layer 1 start at',l1)\n",
    "\n",
    "        v2= np.add(np.concatenate((params[l5],params[l6],params[l7],params[l8])),np.dot(np.transpose(\n",
    "                                                                    v1_),\n",
    "                                                                                       np.hstack((params[l1:l2],\n",
    "                                                                                                  params[l2:l3],params[l3:l4],params[l4:l5])) ))\n",
    "\n",
    "\n",
    "        v3=np.where(v2 > 0, v2, v2 * 0.05) \n",
    "    #     print('Parameters in NN layer 1 end at',l8)\n",
    "    #     print('Total parameter in NN 1',l8-l1+1)\n",
    "\n",
    "        l9=l8+1\n",
    "    #     print('Parameters in Next circuit start at',l9)\n",
    "        v4=quantum_circuit_2(np.array(v3),params)\n",
    "\n",
    "        l11=1282\n",
    "        m1=12\n",
    "        l12=l11 ; l13=l12+m1 ; l14=l13+m1 ; l15=l14+m1 ; l16=l15+m1 ; l17=l16+m1\n",
    "        l18=l17+1 ; l19=l18+1 ; l20=l19+1 ; l21=l20+1 \n",
    "    #     print('Parameters in last layers start at',l12)\n",
    "        v5= np.add(np.concatenate((params[l17],params[l18],params[l19],params[l20],params[l21])),np.dot(np.transpose(\n",
    "                                                                    v4),\n",
    "                                                                                       np.hstack((params[l12:l13],\n",
    "                                                                                                  params[l13:l14],params[l14:l15],params[l15:l16],params[l16:l17])) ))\n",
    "        v6=np.where(v5 > 0, v5, v5 * 0.05)\n",
    "\n",
    "        m1=15\n",
    "        l23=l21+1 ; l24=l23+m1 ; l25=l24+m1 \n",
    "        l27=l25 ; l28=l27+1 \n",
    "        v7 = np.add(np.concatenate((params[l27],params[l28])),np.dot(np.transpose(\n",
    "                                                                    v6),\n",
    "                                                                                       np.hstack((params[l23:l24],\n",
    "                                                                                       params[l24:l25])) ))\n",
    "    #     print('Last parameters is',l28)\n",
    "    #     print('Total number of parameters in last is',l28-l12+1)\n",
    "\n",
    "        cost=cost+np.mean((y[j] - v7) ** 2)\n",
    "\n",
    "    return cost/len(X)"
   ]
  },
  {
   "cell_type": "code",
   "execution_count": 20,
   "id": "c62c0972",
   "metadata": {
    "tags": []
   },
   "outputs": [],
   "source": [
    "def cost_fn(params,**kwargs):\n",
    "    z=kwargs['batch']\n",
    "    \n",
    "#     print('Batch is',z)\n",
    "    \n",
    "    v1=[quantum_circuit_1(X_train[z][i].numpy(), params) for i in range(X_train.shape[1])]    \n",
    "    \n",
    "    # Flatten \n",
    "    flat_list = list(itertools.chain(*v1))\n",
    "    v1_=np.array(flat_list)\n",
    "#     print('v1 shape is',v1_.shape)    \n",
    "#     print('Total parameter in Circuit 1',60)\n",
    "    \n",
    "    m1=300\n",
    "    l1=30 ; l2=l1+m1 ; l3=l2+m1  ; l4=l3+m1 ; l5=l4+m1 \n",
    "    l6=l5+1 ; l7=l6+1 ; l8=l7+1 \n",
    "#     print('Parameters in NN layer 1 start at',l1)\n",
    "    \n",
    "    v2= np.add(np.concatenate((params[l5],params[l6],params[l7],params[l8])),np.dot(np.transpose(\n",
    "                                                                v1_),\n",
    "                                                                                   np.hstack((params[l1:l2],\n",
    "                                                                                              params[l2:l3],params[l3:l4],params[l4:l5])) ))\n",
    "\n",
    "    \n",
    "    v3=np.where(v2 > 0, v2, v2 * 0.05) \n",
    "#     print('Parameters in NN layer 1 end at',l8)\n",
    "#     print('Total parameter in NN 1',l8-l1+1)\n",
    "    \n",
    "    l9=l8+1\n",
    "#     print('Parameters in Next circuit start at',l9)\n",
    "    v4=quantum_circuit_2(np.array(v3),params)\n",
    "    \n",
    "    l11=1282\n",
    "    m1=12\n",
    "    l12=l11 ; l13=l12+m1 ; l14=l13+m1 ; l15=l14+m1 ; l16=l15+m1 ; l17=l16+m1\n",
    "    l18=l17+1 ; l19=l18+1 ; l20=l19+1 ; l21=l20+1 \n",
    "#     print('Parameters in last layers start at',l12)\n",
    "    v5= np.add(np.concatenate((params[l17],params[l18],params[l19],params[l20],params[l21])),np.dot(np.transpose(\n",
    "                                                                v4),\n",
    "                                                                                   np.hstack((params[l12:l13],\n",
    "                                                                                              params[l13:l14],params[l14:l15],params[l15:l16],params[l16:l17])) ))\n",
    "    v6=np.where(v5 > 0, v5, v5 * 0.05)\n",
    "    \n",
    "    m1=15\n",
    "    l23=l21+1 ; l24=l23+m1 ; l25=l24+m1 \n",
    "    l27=l25 ; l28=l27+1 \n",
    "    v7 = np.add(np.concatenate((params[l27],params[l28])),np.dot(np.transpose(\n",
    "                                                                v6),\n",
    "                                                                                   np.hstack((params[l23:l24],\n",
    "                                                                                   params[l24:l25])) ))\n",
    "#     print('Last parameters is',l28)\n",
    "#     print('Total number of parameters in last is',l28-l12+1)\n",
    "\n",
    "    cost=np.mean((y_train[z] - v7) ** 2)\n",
    "    return cost"
   ]
  },
  {
   "cell_type": "code",
   "execution_count": 21,
   "id": "6757a642",
   "metadata": {
    "tags": []
   },
   "outputs": [],
   "source": [
    "params_1=np.random.uniform(0,np.pi, size=(30, 3),requires_grad = True)\n",
    "params_2=np.random.normal(-0.05,0.05, size=(1204, 3),requires_grad = True)\n",
    "params_3=np.random.normal(0,np.pi, size=(48, 3),requires_grad = True)\n",
    "params_4=np.random.normal(-0.05,0.05, size=(97, 3),requires_grad = True)\n",
    "\n",
    "params=np.vstack([params_1,params_2,params_3,params_4])"
   ]
  },
  {
   "cell_type": "code",
   "execution_count": 22,
   "id": "0e8b2b12-3c55-4ae6-8d82-dc36eb2c530a",
   "metadata": {
    "tags": []
   },
   "outputs": [],
   "source": [
    "opt = qml.AdamOptimizer(stepsize=0.005)"
   ]
  },
  {
   "cell_type": "code",
   "execution_count": 23,
   "id": "895003da",
   "metadata": {
    "tags": []
   },
   "outputs": [
    {
     "data": {
      "text/plain": [
       "1379"
      ]
     },
     "execution_count": 23,
     "metadata": {},
     "output_type": "execute_result"
    }
   ],
   "source": [
    "len(params)"
   ]
  },
  {
   "cell_type": "code",
   "execution_count": 24,
   "id": "c716dace",
   "metadata": {
    "tags": []
   },
   "outputs": [],
   "source": [
    "# batch_size=32 # Batch size\n",
    "batch_list=list(range(0,X_train.shape[0]))"
   ]
  },
  {
   "cell_type": "code",
   "execution_count": 25,
   "id": "be85612f",
   "metadata": {
    "tags": []
   },
   "outputs": [],
   "source": [
    "batch_=list(range(len(batch_list)))"
   ]
  },
  {
   "cell_type": "code",
   "execution_count": 26,
   "id": "aa3a1863-05c1-436b-9dd7-174cd2c26fbb",
   "metadata": {
    "tags": []
   },
   "outputs": [],
   "source": [
    "\n",
    "store_val=[]\n",
    "store_params=[]"
   ]
  },
  {
   "cell_type": "code",
   "execution_count": 27,
   "id": "9927be8b",
   "metadata": {
    "tags": []
   },
   "outputs": [],
   "source": [
    "import time"
   ]
  },
  {
   "cell_type": "code",
   "execution_count": null,
   "id": "a909c995",
   "metadata": {
    "tags": []
   },
   "outputs": [
    {
     "name": "stdout",
     "output_type": "stream",
     "text": [
      "Epoch 0 running\n",
      "-------------------------------------------\n",
      "Epoch 1 running\n",
      "-------------------------------------------\n",
      "Epoch 2 running\n"
     ]
    }
   ],
   "source": [
    "for i in range (5):\n",
    "    print('Epoch',i,'running')\n",
    "    batch_=list(range(len(batch_list)))\n",
    "    while len(batch_)>0:\n",
    "        j= random.choice(batch_)\n",
    "        # start=time.time()\n",
    "        params, prev_cost = opt.step_and_cost(cost_fn,params,batch=j)\n",
    "        # end=time.time()\n",
    "        # print(start-end)\n",
    "        batch_.remove(j)\n",
    "    store_val.append(i)\n",
    "    store_params.append(params)\n",
    "    print('-------------------------------------------')"
   ]
  },
  {
   "cell_type": "code",
   "execution_count": 151,
   "id": "43ed2c51-7784-43ae-a6f2-8513a253c8cc",
   "metadata": {
    "tags": []
   },
   "outputs": [
    {
     "data": {
      "text/plain": [
       "0.005"
      ]
     },
     "execution_count": 151,
     "metadata": {},
     "output_type": "execute_result"
    }
   ],
   "source": [
    "opt.stepsize"
   ]
  },
  {
   "cell_type": "code",
   "execution_count": 49,
   "id": "e54aa50f",
   "metadata": {
    "tags": []
   },
   "outputs": [],
   "source": [
    "# Make pred for check data\n",
    "def pred_(X,params):\n",
    "    v1=[quantum_circuit_1(X[i], params) for i in range(X.shape[1])]    \n",
    "    \n",
    "    # Flatten \n",
    "    flat_list = list(itertools.chain(*v1))\n",
    "    v1_=np.array(flat_list)\n",
    "#     print('v1 shape is',v1_.shape)    \n",
    "#     print('Total parameter in Circuit 1',60)\n",
    "    \n",
    "    m1=300\n",
    "    l1=30 ; l2=l1+m1 ; l3=l2+m1  ; l4=l3+m1 ; l5=l4+m1 \n",
    "    l6=l5+1 ; l7=l6+1 ; l8=l7+1 \n",
    "#     print('Parameters in NN layer 1 start at',l1)\n",
    "    \n",
    "    v2= np.add(np.concatenate((params[l5],params[l6],params[l7],params[l8])),np.dot(np.transpose(\n",
    "                                                                v1_),\n",
    "                                                                                   np.hstack((params[l1:l2],\n",
    "                                                                                              params[l2:l3],params[l3:l4],params[l4:l5])) ))\n",
    "\n",
    "    \n",
    "    v3=np.where(v2 > 0, v2, v2 * 0.05) \n",
    "#     print('Parameters in NN layer 1 end at',l8)\n",
    "#     print('Total parameter in NN 1',l8-l1+1)\n",
    "    \n",
    "    l9=l8+1\n",
    "#     print('Parameters in Next circuit start at',l9)\n",
    "    v4=quantum_circuit_2(np.array(v3),params)\n",
    "    \n",
    "    l11=1282\n",
    "    m1=12\n",
    "    l12=l11 ; l13=l12+m1 ; l14=l13+m1 ; l15=l14+m1 ; l16=l15+m1 ; l17=l16+m1\n",
    "    l18=l17+1 ; l19=l18+1 ; l20=l19+1 ; l21=l20+1 \n",
    "#     print('Parameters in last layers start at',l12)\n",
    "    v5= np.add(np.concatenate((params[l17],params[l18],params[l19],params[l20],params[l21])),np.dot(np.transpose(\n",
    "                                                                v4),\n",
    "                                                                                   np.hstack((params[l12:l13],\n",
    "                                                                                              params[l13:l14],params[l14:l15],params[l15:l16],params[l16:l17])) ))\n",
    "    v6=np.where(v5 > 0, v5, v5 * 0.05)\n",
    "    \n",
    "    m1=15\n",
    "    l23=l21+1 ; l24=l23+m1 ; l25=l24+m1 \n",
    "    l27=l25 ; l28=l27+1 \n",
    "    v7 = np.add(np.concatenate((params[l27],params[l28])),np.dot(np.transpose(\n",
    "                                                                v6),\n",
    "                                                                                   np.hstack((params[l23:l24],\n",
    "                                                                                   params[l24:l25])) ))\n",
    "    return v7"
   ]
  },
  {
   "cell_type": "code",
   "execution_count": 38,
   "id": "840c1baf",
   "metadata": {
    "tags": []
   },
   "outputs": [],
   "source": [
    "def mae_metric(actual, predicted):\n",
    "    sum_error = 0.0\n",
    "    for i in range(len(actual)):\n",
    "        sum_error += abs(predicted[i] - actual[i])\n",
    "    return sum_error/len(actual)\n",
    "\n",
    "def rmse_metric(actual, predicted):\n",
    "    sum_error = 0.0\n",
    "    for i in range(len(actual)):\n",
    "        sum_error += (predicted[i] - actual[i])**2\n",
    "    return (sum_error/len(actual))**0.5"
   ]
  },
  {
   "cell_type": "code",
   "execution_count": 140,
   "id": "9a9daab9-0e92-4aa9-a0ce-d6fd15bc011b",
   "metadata": {
    "tags": []
   },
   "outputs": [],
   "source": [
    "store_train_loss=[]"
   ]
  },
  {
   "cell_type": "code",
   "execution_count": null,
   "id": "3d488a59-cd22-4840-89eb-ee249281ca48",
   "metadata": {
    "tags": []
   },
   "outputs": [
    {
     "name": "stdout",
     "output_type": "stream",
     "text": [
      "[0.014296596973371201]\n",
      "[0.014296596973371201, 0.010890972032169967]\n",
      "[0.014296596973371201, 0.010890972032169967, 0.012866807272178562]\n",
      "[0.014296596973371201, 0.010890972032169967, 0.012866807272178562, 0.013608985374093182]\n"
     ]
    }
   ],
   "source": [
    "for i in store_params:\n",
    "    store_train_loss.append(loss_func(i,X_train,y_train))\n",
    "    print(store_train_loss)"
   ]
  },
  {
   "cell_type": "code",
   "execution_count": 148,
   "id": "8a59761a-1ade-494c-9c15-696137f54b61",
   "metadata": {
    "tags": []
   },
   "outputs": [
    {
     "data": {
      "text/plain": [
       "[0.014296596973371201,\n",
       " 0.010890972032169967,\n",
       " 0.012866807272178562,\n",
       " 0.013608985374093182,\n",
       " 0.0140381687865124,\n",
       " 0.00828122886020336,\n",
       " 0.01660546928857549,\n",
       " 0.007774903841803071,\n",
       " 0.008424538907633805,\n",
       " 0.008212622536320663,\n",
       " 0.007699476254248118,\n",
       " 0.007947194659143557,\n",
       " 0.007787412414495354,\n",
       " 0.00809867896191379,\n",
       " 0.006418542528801139,\n",
       " 0.005155190959455616,\n",
       " 0.006798697711814243,\n",
       " 0.011251551572487096,\n",
       " 0.005868983060078206,\n",
       " 0.00533633123773935]"
      ]
     },
     "execution_count": 148,
     "metadata": {},
     "output_type": "execute_result"
    }
   ],
   "source": [
    "store_train_loss"
   ]
  },
  {
   "cell_type": "code",
   "execution_count": 149,
   "id": "d3dc71fd",
   "metadata": {},
   "outputs": [
    {
     "data": {
      "text/plain": [
       "[tensor([[ 2.30117846,  1.90200881,  2.16095629],\n",
       "         [ 2.5601229 ,  0.12682885,  0.64811646],\n",
       "         [ 0.35951692,  0.33589513,  1.97630631],\n",
       "         ...,\n",
       "         [-0.39883682, -0.34690981, -0.3722236 ],\n",
       "         [ 0.1779886 ,  0.14512569,  0.1838868 ],\n",
       "         [ 0.20251113,  0.19246362,  0.20966704]], requires_grad=True),\n",
       " tensor([[ 2.38815541,  1.91053491,  2.21454596],\n",
       "         [ 2.5865741 ,  0.07090199,  0.6682875 ],\n",
       "         [ 0.44300585,  0.27602166,  1.97630631],\n",
       "         ...,\n",
       "         [-0.28261206, -0.22102253, -0.21152323],\n",
       "         [ 0.14945   ,  0.14583862,  0.16081868],\n",
       "         [ 0.16889412,  0.16836558,  0.17650243]], requires_grad=True),\n",
       " tensor([[ 2.35104176,  1.87951724,  2.21223942],\n",
       "         [ 2.59403785,  0.0227235 ,  0.67719112],\n",
       "         [ 0.50925046,  0.18545821,  1.97630631],\n",
       "         ...,\n",
       "         [-0.23998414, -0.16405494, -0.14752233],\n",
       "         [ 0.16732613,  0.16382788,  0.17573264],\n",
       "         [ 0.18179346,  0.17333326,  0.19028023]], requires_grad=True),\n",
       " tensor([[ 2.455849  ,  1.87888197,  2.2277076 ],\n",
       "         [ 2.51165209, -0.01565628,  0.57019707],\n",
       "         [ 0.55590095,  0.2623358 ,  1.97630631],\n",
       "         ...,\n",
       "         [-0.23029237, -0.15490625, -0.12978753],\n",
       "         [ 0.17851592,  0.18621232,  0.19514801],\n",
       "         [ 0.19872951,  0.18745319,  0.21432565]], requires_grad=True),\n",
       " tensor([[ 2.40478721,  1.84936104,  2.32382502],\n",
       "         [ 2.61091734, -0.01439327,  0.65135222],\n",
       "         [ 0.6397425 ,  0.26993764,  1.97630631],\n",
       "         ...,\n",
       "         [-0.1601418 , -0.09641783, -0.0542179 ],\n",
       "         [ 0.16266666,  0.16967281,  0.16730223],\n",
       "         [ 0.17611914,  0.16915513,  0.18063213]], requires_grad=True),\n",
       " tensor([[ 2.50591103e+00,  1.85062875e+00,  2.24264881e+00],\n",
       "         [ 2.51012330e+00, -1.83691516e-03,  5.47312619e-01],\n",
       "         [ 6.46676757e-01,  2.77347220e-01,  1.97630631e+00],\n",
       "         ...,\n",
       "         [-1.23181043e-01, -5.95286714e-02, -2.67727800e-02],\n",
       "         [ 1.46085955e-01,  1.44133437e-01,  1.52382546e-01],\n",
       "         [ 1.60663968e-01,  1.45565979e-01,  1.71131201e-01]], requires_grad=True),\n",
       " tensor([[ 2.47820663,  1.80389064,  2.26801864],\n",
       "         [ 2.49340146, -0.0919328 ,  0.55764841],\n",
       "         [ 0.71339324,  0.28472833,  1.97630631],\n",
       "         ...,\n",
       "         [-0.10139693, -0.05488186, -0.03965548],\n",
       "         [ 0.13861298,  0.1588569 ,  0.17270739],\n",
       "         [ 0.18004806,  0.1763353 ,  0.20422996]], requires_grad=True),\n",
       " tensor([[ 2.46848575,  1.8328153 ,  2.3029407 ],\n",
       "         [ 2.44848782, -0.08427067,  0.5137483 ],\n",
       "         [ 0.64111821,  0.2368026 ,  1.97630631],\n",
       "         ...,\n",
       "         [ 0.00723702,  0.01549252,  0.05490379],\n",
       "         [ 0.12471442,  0.12583186,  0.14138131],\n",
       "         [ 0.14791943,  0.14177692,  0.15419381]], requires_grad=True),\n",
       " tensor([[ 2.51045115,  1.8509544 ,  2.26115847],\n",
       "         [ 2.43819721, -0.05313518,  0.48280499],\n",
       "         [ 0.6538005 ,  0.30022136,  1.97630631],\n",
       "         ...,\n",
       "         [-0.03112315, -0.0657393 , -0.01109783],\n",
       "         [ 0.14303572,  0.15533474,  0.15395552],\n",
       "         [ 0.15688688,  0.1647667 ,  0.17448095]], requires_grad=True),\n",
       " tensor([[ 2.5539623 ,  1.8310878 ,  2.26410294],\n",
       "         [ 2.51593432, -0.03151683,  0.55399567],\n",
       "         [ 0.69390445,  0.29602841,  1.97630631],\n",
       "         ...,\n",
       "         [ 0.01900326, -0.05452424,  0.01524269],\n",
       "         [ 0.13427146,  0.14033349,  0.14671899],\n",
       "         [ 0.14241406,  0.15738827,  0.1579068 ]], requires_grad=True),\n",
       " tensor([[ 2.50577261,  1.8250571 ,  2.2142153 ],\n",
       "         [ 2.48324386, -0.05255674,  0.49273659],\n",
       "         [ 0.73397331,  0.28158505,  1.97630631],\n",
       "         ...,\n",
       "         [ 0.10149517,  0.0098431 ,  0.05524385],\n",
       "         [ 0.14932735,  0.15975382,  0.16013206],\n",
       "         [ 0.1591631 ,  0.16704773,  0.17767473]], requires_grad=True),\n",
       " tensor([[ 2.45152639,  1.84455218,  2.24310305],\n",
       "         [ 2.50903781, -0.05847091,  0.44407177],\n",
       "         [ 0.7628282 ,  0.22867198,  1.97630631],\n",
       "         ...,\n",
       "         [ 0.05954046, -0.0083078 ,  0.04537803],\n",
       "         [ 0.1439903 ,  0.15617678,  0.16498793],\n",
       "         [ 0.17189295,  0.17131637,  0.17544296]], requires_grad=True),\n",
       " tensor([[ 2.46296646,  1.8143793 ,  2.27414754],\n",
       "         [ 2.60342813, -0.06981113,  0.54674606],\n",
       "         [ 0.7643381 ,  0.33741678,  1.97630631],\n",
       "         ...,\n",
       "         [ 0.00982229,  0.00667519,  0.07966269],\n",
       "         [ 0.15817709,  0.17363348,  0.1870469 ],\n",
       "         [ 0.18401509,  0.17779128,  0.17868313]], requires_grad=True),\n",
       " tensor([[ 2.45810809,  1.78113452,  2.30257701],\n",
       "         [ 2.59518431, -0.01184796,  0.49776658],\n",
       "         [ 0.79691333,  0.27402235,  1.97630631],\n",
       "         ...,\n",
       "         [ 0.13211026, -0.0069168 ,  0.04861457],\n",
       "         [ 0.14258234,  0.14429287,  0.15180379],\n",
       "         [ 0.15005588,  0.14467299,  0.15397107]], requires_grad=True),\n",
       " tensor([[ 2.4443025 ,  1.77967445,  2.28439825],\n",
       "         [ 2.5037221 , -0.05758109,  0.39156908],\n",
       "         [ 0.81520901,  0.29748972,  1.97630631],\n",
       "         ...,\n",
       "         [ 0.06196012, -0.06098862, -0.01535356],\n",
       "         [ 0.15667163,  0.17379007,  0.17544804],\n",
       "         [ 0.17185555,  0.17707533,  0.18723044]], requires_grad=True),\n",
       " tensor([[ 2.50154731,  1.81782089,  2.28353218],\n",
       "         [ 2.52720577, -0.03062887,  0.39088243],\n",
       "         [ 0.81581882,  0.27902728,  1.97630631],\n",
       "         ...,\n",
       "         [ 0.08067567, -0.05454678,  0.00330583],\n",
       "         [ 0.14741813,  0.14582121,  0.15659559],\n",
       "         [ 0.16634475,  0.17577945,  0.17676274]], requires_grad=True),\n",
       " tensor([[ 2.5162735 ,  1.78710783,  2.28553964],\n",
       "         [ 2.64611906, -0.07442627,  0.47237546],\n",
       "         [ 0.78768622,  0.28392239,  1.97630631],\n",
       "         ...,\n",
       "         [ 0.02580321, -0.03226913,  0.01666859],\n",
       "         [ 0.1568639 ,  0.16734465,  0.17011355],\n",
       "         [ 0.15677473,  0.16148824,  0.18119709]], requires_grad=True),\n",
       " tensor([[ 2.55172109,  1.78326588,  2.27296312],\n",
       "         [ 2.57370089, -0.08937424,  0.37333623],\n",
       "         [ 0.82913799,  0.26071577,  1.97630631],\n",
       "         ...,\n",
       "         [ 0.01582835, -0.04271755,  0.02279519],\n",
       "         [ 0.16156022,  0.17046536,  0.16621409],\n",
       "         [ 0.16054719,  0.16829837,  0.18183271]], requires_grad=True),\n",
       " tensor([[ 2.50564364,  1.7699509 ,  2.31083816],\n",
       "         [ 2.63093873, -0.08161605,  0.42509356],\n",
       "         [ 0.73556264,  0.28288064,  1.97630631],\n",
       "         ...,\n",
       "         [ 0.00609365,  0.00387919, -0.00485159],\n",
       "         [ 0.17466316,  0.17435491,  0.18006131],\n",
       "         [ 0.17936676,  0.18423778,  0.18818144]], requires_grad=True),\n",
       " tensor([[ 2.50539667,  1.789174  ,  2.3478578 ],\n",
       "         [ 2.67460984, -0.04884651,  0.39109681],\n",
       "         [ 0.77655875,  0.28014386,  1.97630631],\n",
       "         ...,\n",
       "         [ 0.01220465, -0.00560611,  0.0144645 ],\n",
       "         [ 0.1609896 ,  0.16346478,  0.1761056 ],\n",
       "         [ 0.1732639 ,  0.17417497,  0.18066779]], requires_grad=True)]"
      ]
     },
     "execution_count": 149,
     "metadata": {},
     "output_type": "execute_result"
    }
   ],
   "source": [
    "store_params"
   ]
  },
  {
   "cell_type": "code",
   "execution_count": 150,
   "id": "154ce227-1bb7-4769-a9f7-29d956bcc258",
   "metadata": {
    "tags": []
   },
   "outputs": [
    {
     "name": "stdout",
     "output_type": "stream",
     "text": [
      "[[ 2.50539667  1.789174    2.3478578 ]\n",
      " [ 2.67460984 -0.04884651  0.39109681]\n",
      " [ 0.77655875  0.28014386  1.97630631]\n",
      " ...\n",
      " [ 0.01220465 -0.00560611  0.0144645 ]\n",
      " [ 0.1609896   0.16346478  0.1761056 ]\n",
      " [ 0.1732639   0.17417497  0.18066779]]\n"
     ]
    }
   ],
   "source": [
    "print(store_params[-1])"
   ]
  },
  {
   "cell_type": "code",
   "execution_count": null,
   "id": "4d105af8-e8a1-48a3-aac4-039c767512fa",
   "metadata": {},
   "outputs": [],
   "source": []
  },
  {
   "cell_type": "markdown",
   "id": "1d6f8195-7cbc-4be0-a298-aa48247df34a",
   "metadata": {},
   "source": [
    "# From 8th to 15th march"
   ]
  },
  {
   "cell_type": "code",
   "execution_count": 66,
   "id": "fffbc75f-8fd5-4a64-bb91-130a93c1fe00",
   "metadata": {
    "tags": []
   },
   "outputs": [
    {
     "data": {
      "text/html": [
       "<div>\n",
       "<style scoped>\n",
       "    .dataframe tbody tr th:only-of-type {\n",
       "        vertical-align: middle;\n",
       "    }\n",
       "\n",
       "    .dataframe tbody tr th {\n",
       "        vertical-align: top;\n",
       "    }\n",
       "\n",
       "    .dataframe thead th {\n",
       "        text-align: right;\n",
       "    }\n",
       "</style>\n",
       "<table border=\"1\" class=\"dataframe\">\n",
       "  <thead>\n",
       "    <tr style=\"text-align: right;\">\n",
       "      <th></th>\n",
       "      <th>Close</th>\n",
       "      <th>Volume</th>\n",
       "      <th>EMA_7</th>\n",
       "      <th>EMA_14</th>\n",
       "      <th>EMA_21</th>\n",
       "      <th>SMA_7</th>\n",
       "      <th>SMA_14</th>\n",
       "      <th>SMA_21</th>\n",
       "      <th>MACD_12_26_9</th>\n",
       "      <th>MACDh_12_26_9</th>\n",
       "      <th>...</th>\n",
       "      <th>FTSE_H-L</th>\n",
       "      <th>FTSE_O-C</th>\n",
       "      <th>GBP_USD_H-L</th>\n",
       "      <th>GBP_USD_O-C</th>\n",
       "      <th>Gold_H-L</th>\n",
       "      <th>Gold_O-C</th>\n",
       "      <th>Crude_H-L</th>\n",
       "      <th>Crude_O-C</th>\n",
       "      <th>Close_copy</th>\n",
       "      <th>add1</th>\n",
       "    </tr>\n",
       "  </thead>\n",
       "  <tbody>\n",
       "    <tr>\n",
       "      <th>3257</th>\n",
       "      <td>0.780294</td>\n",
       "      <td>1.014255</td>\n",
       "      <td>2.783765</td>\n",
       "      <td>2.809452</td>\n",
       "      <td>2.816693</td>\n",
       "      <td>2.788357</td>\n",
       "      <td>2.792277</td>\n",
       "      <td>2.781228</td>\n",
       "      <td>2.593007</td>\n",
       "      <td>1.866774</td>\n",
       "      <td>...</td>\n",
       "      <td>0.247744</td>\n",
       "      <td>1.150622</td>\n",
       "      <td>0.018482</td>\n",
       "      <td>2.022391</td>\n",
       "      <td>1.167099</td>\n",
       "      <td>0.530445</td>\n",
       "      <td>0.337691</td>\n",
       "      <td>0.810734</td>\n",
       "      <td>2.796479</td>\n",
       "      <td>0</td>\n",
       "    </tr>\n",
       "    <tr>\n",
       "      <th>3258</th>\n",
       "      <td>0.778182</td>\n",
       "      <td>0.813024</td>\n",
       "      <td>2.788291</td>\n",
       "      <td>2.813176</td>\n",
       "      <td>2.820330</td>\n",
       "      <td>2.787530</td>\n",
       "      <td>2.806508</td>\n",
       "      <td>2.784920</td>\n",
       "      <td>2.594404</td>\n",
       "      <td>1.871329</td>\n",
       "      <td>...</td>\n",
       "      <td>0.216606</td>\n",
       "      <td>1.310912</td>\n",
       "      <td>0.016793</td>\n",
       "      <td>1.994166</td>\n",
       "      <td>1.011831</td>\n",
       "      <td>0.703688</td>\n",
       "      <td>0.198095</td>\n",
       "      <td>1.086802</td>\n",
       "      <td>2.793161</td>\n",
       "      <td>0</td>\n",
       "    </tr>\n",
       "    <tr>\n",
       "      <th>3259</th>\n",
       "      <td>0.756231</td>\n",
       "      <td>1.223532</td>\n",
       "      <td>2.782193</td>\n",
       "      <td>2.811092</td>\n",
       "      <td>2.819937</td>\n",
       "      <td>2.777932</td>\n",
       "      <td>2.813133</td>\n",
       "      <td>2.786847</td>\n",
       "      <td>2.582949</td>\n",
       "      <td>1.847272</td>\n",
       "      <td>...</td>\n",
       "      <td>0.391072</td>\n",
       "      <td>1.397175</td>\n",
       "      <td>0.020487</td>\n",
       "      <td>1.881268</td>\n",
       "      <td>0.571904</td>\n",
       "      <td>0.980520</td>\n",
       "      <td>0.187459</td>\n",
       "      <td>1.103110</td>\n",
       "      <td>2.758681</td>\n",
       "      <td>0</td>\n",
       "    </tr>\n",
       "    <tr>\n",
       "      <th>3260</th>\n",
       "      <td>0.778182</td>\n",
       "      <td>1.072853</td>\n",
       "      <td>2.787112</td>\n",
       "      <td>2.814597</td>\n",
       "      <td>2.823279</td>\n",
       "      <td>2.777136</td>\n",
       "      <td>2.820101</td>\n",
       "      <td>2.786749</td>\n",
       "      <td>2.584843</td>\n",
       "      <td>1.856800</td>\n",
       "      <td>...</td>\n",
       "      <td>0.230737</td>\n",
       "      <td>1.206278</td>\n",
       "      <td>0.023846</td>\n",
       "      <td>1.956533</td>\n",
       "      <td>0.641775</td>\n",
       "      <td>0.869787</td>\n",
       "      <td>0.288500</td>\n",
       "      <td>0.892273</td>\n",
       "      <td>2.793161</td>\n",
       "      <td>0</td>\n",
       "    </tr>\n",
       "    <tr>\n",
       "      <th>3261</th>\n",
       "      <td>0.786889</td>\n",
       "      <td>1.123079</td>\n",
       "      <td>2.794566</td>\n",
       "      <td>2.819743</td>\n",
       "      <td>2.827785</td>\n",
       "      <td>2.778643</td>\n",
       "      <td>2.818461</td>\n",
       "      <td>2.790437</td>\n",
       "      <td>2.590150</td>\n",
       "      <td>1.871777</td>\n",
       "      <td>...</td>\n",
       "      <td>0.253447</td>\n",
       "      <td>1.263864</td>\n",
       "      <td>0.025189</td>\n",
       "      <td>1.994166</td>\n",
       "      <td>0.414048</td>\n",
       "      <td>1.116257</td>\n",
       "      <td>0.186129</td>\n",
       "      <td>0.980801</td>\n",
       "      <td>2.806839</td>\n",
       "      <td>0</td>\n",
       "    </tr>\n",
       "  </tbody>\n",
       "</table>\n",
       "<p>5 rows × 31 columns</p>\n",
       "</div>"
      ],
      "text/plain": [
       "         Close    Volume     EMA_7    EMA_14    EMA_21     SMA_7    SMA_14  \\\n",
       "3257  0.780294  1.014255  2.783765  2.809452  2.816693  2.788357  2.792277   \n",
       "3258  0.778182  0.813024  2.788291  2.813176  2.820330  2.787530  2.806508   \n",
       "3259  0.756231  1.223532  2.782193  2.811092  2.819937  2.777932  2.813133   \n",
       "3260  0.778182  1.072853  2.787112  2.814597  2.823279  2.777136  2.820101   \n",
       "3261  0.786889  1.123079  2.794566  2.819743  2.827785  2.778643  2.818461   \n",
       "\n",
       "        SMA_21  MACD_12_26_9  MACDh_12_26_9  ...  FTSE_H-L  FTSE_O-C  \\\n",
       "3257  2.781228      2.593007       1.866774  ...  0.247744  1.150622   \n",
       "3258  2.784920      2.594404       1.871329  ...  0.216606  1.310912   \n",
       "3259  2.786847      2.582949       1.847272  ...  0.391072  1.397175   \n",
       "3260  2.786749      2.584843       1.856800  ...  0.230737  1.206278   \n",
       "3261  2.790437      2.590150       1.871777  ...  0.253447  1.263864   \n",
       "\n",
       "      GBP_USD_H-L  GBP_USD_O-C  Gold_H-L  Gold_O-C  Crude_H-L  Crude_O-C  \\\n",
       "3257     0.018482     2.022391  1.167099  0.530445   0.337691   0.810734   \n",
       "3258     0.016793     1.994166  1.011831  0.703688   0.198095   1.086802   \n",
       "3259     0.020487     1.881268  0.571904  0.980520   0.187459   1.103110   \n",
       "3260     0.023846     1.956533  0.641775  0.869787   0.288500   0.892273   \n",
       "3261     0.025189     1.994166  0.414048  1.116257   0.186129   0.980801   \n",
       "\n",
       "      Close_copy  add1  \n",
       "3257    2.796479     0  \n",
       "3258    2.793161     0  \n",
       "3259    2.758681     0  \n",
       "3260    2.793161     0  \n",
       "3261    2.806839     0  \n",
       "\n",
       "[5 rows x 31 columns]"
      ]
     },
     "execution_count": 66,
     "metadata": {},
     "output_type": "execute_result"
    }
   ],
   "source": [
    "df.tail()"
   ]
  },
  {
   "cell_type": "code",
   "execution_count": 134,
   "id": "29c96315-77ba-4c70-bda2-7f849970a1b8",
   "metadata": {
    "tags": []
   },
   "outputs": [],
   "source": [
    "X_8_15=(df[features].values)[len(df)-sequence_length:len(df)]"
   ]
  },
  {
   "cell_type": "code",
   "execution_count": 135,
   "id": "9b7b306d-735d-4842-b5c0-472ee1df3500",
   "metadata": {},
   "outputs": [],
   "source": [
    "y_8_15=pred_(X_8_15,store_params[-1])"
   ]
  },
  {
   "cell_type": "code",
   "execution_count": 136,
   "id": "705c7efd-123b-46a5-9d7f-b98c94cff3fb",
   "metadata": {
    "tags": []
   },
   "outputs": [
    {
     "data": {
      "text/plain": [
       "tensor([0.79303773, 0.79195144, 0.79769266, 0.80042047, 0.78445317,\n",
       "        0.78092519], requires_grad=True)"
      ]
     },
     "execution_count": 136,
     "metadata": {},
     "output_type": "execute_result"
    }
   ],
   "source": [
    "y_8_15"
   ]
  },
  {
   "cell_type": "code",
   "execution_count": 137,
   "id": "5adc8d40-d5c7-4fd7-8590-3528e240d9f0",
   "metadata": {
    "tags": []
   },
   "outputs": [],
   "source": [
    "b=1 ; a=-1"
   ]
  },
  {
   "cell_type": "code",
   "execution_count": 138,
   "id": "9815e1a3-ef5b-4c4d-80c3-7b2c1d93316f",
   "metadata": {
    "tags": []
   },
   "outputs": [],
   "source": [
    "y_8_15=((((y_8_15-a)/(b-a))*(close_max - close_min))+close_min)"
   ]
  },
  {
   "cell_type": "code",
   "execution_count": 139,
   "id": "30db15b1-c1c4-40a9-adf4-a5aa3ecb2644",
   "metadata": {
    "tags": []
   },
   "outputs": [
    {
     "data": {
      "text/plain": [
       "tensor([7701.7455762 , 7700.10507082, 7708.77544876, 7712.89499155,\n",
       "        7688.78117726, 7683.45322574], requires_grad=True)"
      ]
     },
     "execution_count": 139,
     "metadata": {},
     "output_type": "execute_result"
    }
   ],
   "source": [
    "y_8_15"
   ]
  },
  {
   "cell_type": "code",
   "execution_count": null,
   "id": "472d9724-036a-4657-9801-d5ecd1a14982",
   "metadata": {},
   "outputs": [],
   "source": []
  },
  {
   "cell_type": "code",
   "execution_count": null,
   "id": "16a2e5b4-db33-465b-b9af-a897d8216b93",
   "metadata": {},
   "outputs": [],
   "source": []
  }
 ],
 "metadata": {
  "kernelspec": {
   "display_name": "conda_braket",
   "language": "python",
   "name": "conda_braket"
  },
  "language_info": {
   "codemirror_mode": {
    "name": "ipython",
    "version": 3
   },
   "file_extension": ".py",
   "mimetype": "text/x-python",
   "name": "python",
   "nbconvert_exporter": "python",
   "pygments_lexer": "ipython3",
   "version": "3.10.13"
  }
 },
 "nbformat": 4,
 "nbformat_minor": 5
}
