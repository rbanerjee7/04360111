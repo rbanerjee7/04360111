{
 "cells": [
  {
   "cell_type": "code",
   "execution_count": 3,
   "id": "a33a1f56",
   "metadata": {},
   "outputs": [],
   "source": [
    "import pandas as pd\n",
    "from utils import *\n",
    "import time\n",
    "import numpy as np\n",
    "import math\n",
    "import matplotlib.pyplot as plt\n",
    "# Torch package\n",
    "import torch\n",
    "from torch.utils.data import DataLoader\n",
    "from torch import nn\n",
    "import torch\n",
    "from torch import nn\n",
    "from torch.utils.data import Dataset\n",
    "import torch.optim as optim\n",
    "import torch.utils.data as data\n",
    "import random\n",
    "import tensorflow as tf"
   ]
  },
  {
   "cell_type": "code",
   "execution_count": 4,
   "id": "589a4ff5",
   "metadata": {},
   "outputs": [],
   "source": [
    "tf.random.set_seed(15)\n",
    "torch.manual_seed(42)\n",
    "random.seed(42)\n",
    "plt.rcParams[\"font.weight\"] = \"bold\"\n",
    "plt.rcParams[\"axes.labelweight\"] = \"bold\"\n",
    "plt.rcParams.update({'font.size':20})\n",
    "legend_prop = {'weight':'bold'}\n",
    "from pylab import rcParams\n",
    "rcParams['axes.linewidth'] = 2"
   ]
  },
  {
   "cell_type": "markdown",
   "id": "8dcf2258",
   "metadata": {},
   "source": [
    "## Read Data"
   ]
  },
  {
   "cell_type": "code",
   "execution_count": 5,
   "id": "31c36071",
   "metadata": {},
   "outputs": [],
   "source": [
    "df = pd.read_csv('Processed_data_till_1_march.csv')\n",
    "df = df.drop([ 'Unnamed: 0'], axis=1)\n",
    "# Initial dataframe has few rows which has zeros for features like \"SMA_7\" etc and hence removing few top rows\n",
    "df=df[50:]\n",
    "# Remove few redundant data\n",
    "df=df.drop(columns=['Date'])\n",
    "df=df.drop(columns=['CUMLOGRET_1'])\n",
    "df=df.drop(columns=['Gold in USD volume'])\n",
    "df=df.drop(columns=['Open'])\n",
    "df=df.drop(columns=['High'])\n",
    "df=df.drop(columns=['Low'])"
   ]
  },
  {
   "cell_type": "code",
   "execution_count": 6,
   "id": "d53abe07",
   "metadata": {},
   "outputs": [
    {
     "name": "stdout",
     "output_type": "stream",
     "text": [
      "['3M', 'BBB_20_2.0', 'BBL_20_2.0', 'BBM_20_2.0', 'BBP_20_2.0', 'BBU_20_2.0', 'Close_copy', 'Crude Futures_close', 'Crude Futures_volume', 'Crude_H-L', 'Crude_O-C', 'EMA_14', 'EMA_21', 'EMA_7', 'FTSE_H-L', 'FTSE_O-C', 'GBP USD ', 'GBP_USD_H-L', 'GBP_USD_O-C', 'Gold in USD close', 'Gold_H-L', 'Gold_O-C', 'MACD_12_26_9', 'MACDh_12_26_9', 'MACDs_12_26_9', 'SMA_14', 'SMA_21', 'SMA_7', 'Volume']\n",
      "29\n"
     ]
    }
   ],
   "source": [
    "# Set target and features\n",
    "target = \"Close\"\n",
    "features = list(df.columns.difference([\"Close\"]))\n",
    "print(features)\n",
    "print(len(features))"
   ]
  },
  {
   "cell_type": "markdown",
   "id": "a65613d0",
   "metadata": {},
   "source": [
    "## Normalize data"
   ]
  },
  {
   "cell_type": "code",
   "execution_count": 7,
   "id": "bff7d289",
   "metadata": {},
   "outputs": [],
   "source": [
    "target_mean = df[target].mean()\n",
    "target_stdev = df[target].std()\n",
    "\n",
    "mean=dict()\n",
    "stdev=dict()\n",
    "for c in df.columns:\n",
    "    mean[c] = df[c].mean()\n",
    "    stdev[c] = df[c].std()\n",
    "\n",
    "    df[c] = (df[c] - mean[c]) / stdev[c]"
   ]
  },
  {
   "cell_type": "code",
   "execution_count": 8,
   "id": "943866a4",
   "metadata": {},
   "outputs": [
    {
     "data": {
      "text/html": [
       "<div>\n",
       "<style scoped>\n",
       "    .dataframe tbody tr th:only-of-type {\n",
       "        vertical-align: middle;\n",
       "    }\n",
       "\n",
       "    .dataframe tbody tr th {\n",
       "        vertical-align: top;\n",
       "    }\n",
       "\n",
       "    .dataframe thead th {\n",
       "        text-align: right;\n",
       "    }\n",
       "</style>\n",
       "<table border=\"1\" class=\"dataframe\">\n",
       "  <thead>\n",
       "    <tr style=\"text-align: right;\">\n",
       "      <th></th>\n",
       "      <th>Close</th>\n",
       "      <th>Volume</th>\n",
       "      <th>EMA_7</th>\n",
       "      <th>EMA_14</th>\n",
       "      <th>EMA_21</th>\n",
       "      <th>SMA_7</th>\n",
       "      <th>SMA_14</th>\n",
       "      <th>SMA_21</th>\n",
       "      <th>MACD_12_26_9</th>\n",
       "      <th>MACDh_12_26_9</th>\n",
       "      <th>...</th>\n",
       "      <th>3M</th>\n",
       "      <th>FTSE_H-L</th>\n",
       "      <th>FTSE_O-C</th>\n",
       "      <th>GBP_USD_H-L</th>\n",
       "      <th>GBP_USD_O-C</th>\n",
       "      <th>Gold_H-L</th>\n",
       "      <th>Gold_O-C</th>\n",
       "      <th>Crude_H-L</th>\n",
       "      <th>Crude_O-C</th>\n",
       "      <th>Close_copy</th>\n",
       "    </tr>\n",
       "  </thead>\n",
       "  <tbody>\n",
       "    <tr>\n",
       "      <th>50</th>\n",
       "      <td>-2.216035</td>\n",
       "      <td>0.076483</td>\n",
       "      <td>-2.142262</td>\n",
       "      <td>-2.152261</td>\n",
       "      <td>-2.194267</td>\n",
       "      <td>-2.125236</td>\n",
       "      <td>-2.076858</td>\n",
       "      <td>-2.136731</td>\n",
       "      <td>0.580627</td>\n",
       "      <td>-0.832570</td>\n",
       "      <td>...</td>\n",
       "      <td>-0.051602</td>\n",
       "      <td>1.239983</td>\n",
       "      <td>0.263215</td>\n",
       "      <td>0.069296</td>\n",
       "      <td>-0.504898</td>\n",
       "      <td>-0.245371</td>\n",
       "      <td>0.621244</td>\n",
       "      <td>0.493902</td>\n",
       "      <td>0.076677</td>\n",
       "      <td>-2.216035</td>\n",
       "    </tr>\n",
       "    <tr>\n",
       "      <th>51</th>\n",
       "      <td>-2.056965</td>\n",
       "      <td>-0.239245</td>\n",
       "      <td>-2.123602</td>\n",
       "      <td>-2.142163</td>\n",
       "      <td>-2.184183</td>\n",
       "      <td>-2.111332</td>\n",
       "      <td>-2.077166</td>\n",
       "      <td>-2.125910</td>\n",
       "      <td>0.587184</td>\n",
       "      <td>-0.650028</td>\n",
       "      <td>...</td>\n",
       "      <td>-0.049936</td>\n",
       "      <td>0.645604</td>\n",
       "      <td>-1.592823</td>\n",
       "      <td>0.546749</td>\n",
       "      <td>0.078090</td>\n",
       "      <td>-0.237026</td>\n",
       "      <td>-0.837124</td>\n",
       "      <td>-0.175958</td>\n",
       "      <td>0.061469</td>\n",
       "      <td>-2.056965</td>\n",
       "    </tr>\n",
       "    <tr>\n",
       "      <th>52</th>\n",
       "      <td>-2.098709</td>\n",
       "      <td>-0.344334</td>\n",
       "      <td>-2.120115</td>\n",
       "      <td>-2.139050</td>\n",
       "      <td>-2.178879</td>\n",
       "      <td>-2.117365</td>\n",
       "      <td>-2.077906</td>\n",
       "      <td>-2.121902</td>\n",
       "      <td>0.551176</td>\n",
       "      <td>-0.605426</td>\n",
       "      <td>...</td>\n",
       "      <td>-0.049715</td>\n",
       "      <td>0.155241</td>\n",
       "      <td>0.435721</td>\n",
       "      <td>0.581028</td>\n",
       "      <td>6.329870</td>\n",
       "      <td>-1.246710</td>\n",
       "      <td>0.090208</td>\n",
       "      <td>-0.326489</td>\n",
       "      <td>0.989154</td>\n",
       "      <td>-2.098709</td>\n",
       "    </tr>\n",
       "    <tr>\n",
       "      <th>53</th>\n",
       "      <td>-2.101239</td>\n",
       "      <td>0.232217</td>\n",
       "      <td>-2.118136</td>\n",
       "      <td>-2.136693</td>\n",
       "      <td>-2.174291</td>\n",
       "      <td>-2.119588</td>\n",
       "      <td>-2.081983</td>\n",
       "      <td>-2.115752</td>\n",
       "      <td>0.513769</td>\n",
       "      <td>-0.573078</td>\n",
       "      <td>...</td>\n",
       "      <td>-0.049288</td>\n",
       "      <td>0.938548</td>\n",
       "      <td>0.039596</td>\n",
       "      <td>0.103050</td>\n",
       "      <td>0.078090</td>\n",
       "      <td>0.572390</td>\n",
       "      <td>-0.203051</td>\n",
       "      <td>-1.432887</td>\n",
       "      <td>0.008242</td>\n",
       "      <td>-2.101239</td>\n",
       "    </tr>\n",
       "    <tr>\n",
       "      <th>54</th>\n",
       "      <td>-2.114521</td>\n",
       "      <td>0.606201</td>\n",
       "      <td>-2.119995</td>\n",
       "      <td>-2.136444</td>\n",
       "      <td>-2.171350</td>\n",
       "      <td>-2.119997</td>\n",
       "      <td>-2.105306</td>\n",
       "      <td>-2.108239</td>\n",
       "      <td>0.467045</td>\n",
       "      <td>-0.569404</td>\n",
       "      <td>...</td>\n",
       "      <td>-0.048312</td>\n",
       "      <td>0.724147</td>\n",
       "      <td>0.148211</td>\n",
       "      <td>-0.139122</td>\n",
       "      <td>1.708155</td>\n",
       "      <td>0.405500</td>\n",
       "      <td>0.288356</td>\n",
       "      <td>0.019731</td>\n",
       "      <td>0.152717</td>\n",
       "      <td>-2.114521</td>\n",
       "    </tr>\n",
       "  </tbody>\n",
       "</table>\n",
       "<p>5 rows × 30 columns</p>\n",
       "</div>"
      ],
      "text/plain": [
       "       Close    Volume     EMA_7    EMA_14    EMA_21     SMA_7    SMA_14  \\\n",
       "50 -2.216035  0.076483 -2.142262 -2.152261 -2.194267 -2.125236 -2.076858   \n",
       "51 -2.056965 -0.239245 -2.123602 -2.142163 -2.184183 -2.111332 -2.077166   \n",
       "52 -2.098709 -0.344334 -2.120115 -2.139050 -2.178879 -2.117365 -2.077906   \n",
       "53 -2.101239  0.232217 -2.118136 -2.136693 -2.174291 -2.119588 -2.081983   \n",
       "54 -2.114521  0.606201 -2.119995 -2.136444 -2.171350 -2.119997 -2.105306   \n",
       "\n",
       "      SMA_21  MACD_12_26_9  MACDh_12_26_9  ...        3M  FTSE_H-L  FTSE_O-C  \\\n",
       "50 -2.136731      0.580627      -0.832570  ... -0.051602  1.239983  0.263215   \n",
       "51 -2.125910      0.587184      -0.650028  ... -0.049936  0.645604 -1.592823   \n",
       "52 -2.121902      0.551176      -0.605426  ... -0.049715  0.155241  0.435721   \n",
       "53 -2.115752      0.513769      -0.573078  ... -0.049288  0.938548  0.039596   \n",
       "54 -2.108239      0.467045      -0.569404  ... -0.048312  0.724147  0.148211   \n",
       "\n",
       "    GBP_USD_H-L  GBP_USD_O-C  Gold_H-L  Gold_O-C  Crude_H-L  Crude_O-C  \\\n",
       "50     0.069296    -0.504898 -0.245371  0.621244   0.493902   0.076677   \n",
       "51     0.546749     0.078090 -0.237026 -0.837124  -0.175958   0.061469   \n",
       "52     0.581028     6.329870 -1.246710  0.090208  -0.326489   0.989154   \n",
       "53     0.103050     0.078090  0.572390 -0.203051  -1.432887   0.008242   \n",
       "54    -0.139122     1.708155  0.405500  0.288356   0.019731   0.152717   \n",
       "\n",
       "    Close_copy  \n",
       "50   -2.216035  \n",
       "51   -2.056965  \n",
       "52   -2.098709  \n",
       "53   -2.101239  \n",
       "54   -2.114521  \n",
       "\n",
       "[5 rows x 30 columns]"
      ]
     },
     "execution_count": 8,
     "metadata": {},
     "output_type": "execute_result"
    }
   ],
   "source": [
    "df.head()"
   ]
  },
  {
   "cell_type": "markdown",
   "id": "f6df5754",
   "metadata": {},
   "source": [
    "## Data processing for time series model"
   ]
  },
  {
   "cell_type": "markdown",
   "id": "c9d23113",
   "metadata": {},
   "source": [
    "The data processing is to prepare the data in a sequence of past observations. Preparation of the time series data means that it uses a certain number of past observations to predict the future. In this case, the sequence length decides how many days the LSTM considers in advance and window decides how many days we want to predict for. If the sequence length is $n$ and window is $w$, then the LSTM considers the last $n$ observations to predict the next $w$ day price."
   ]
  },
  {
   "cell_type": "code",
   "execution_count": 9,
   "id": "465d24a1",
   "metadata": {},
   "outputs": [],
   "source": [
    "sequence_length = 60\n",
    "window =6\n",
    "\n",
    "def create_dataset(dataset,target,features, lookback, window):\n",
    "    X_store, y_store = [], []\n",
    "    for i in range(0,len(dataset)-lookback-window,2):\n",
    "        X = (dataset[features].values)[i:i+lookback]\n",
    "        y = (dataset[target].values)[i+lookback:i+lookback+window]\n",
    "        X_store.append(X)\n",
    "        y_store.append(y)\n",
    "    return torch.FloatTensor(np.array(X_store)), torch.FloatTensor(np.array(y_store))"
   ]
  },
  {
   "cell_type": "code",
   "execution_count": 10,
   "id": "85abfafc",
   "metadata": {},
   "outputs": [
    {
     "name": "stdout",
     "output_type": "stream",
     "text": [
      "Total sample 3208\n",
      "Train sample 3202\n",
      "Test sample 6\n"
     ]
    }
   ],
   "source": [
    "# Split train test data\n",
    "from sklearn.model_selection import train_test_split\n",
    "# df_train, df_test = train_test_split(df, test_size=0.05)\n",
    "size=int(len(df))-6\n",
    "df_train=df[:size]\n",
    "df_test=df[size:]\n",
    "print('Total sample', len(df))\n",
    "print('Train sample', len(df_train))\n",
    "print('Test sample', len(df_test))"
   ]
  },
  {
   "cell_type": "code",
   "execution_count": 11,
   "id": "da089e65",
   "metadata": {},
   "outputs": [
    {
     "name": "stdout",
     "output_type": "stream",
     "text": [
      "torch.Size([1568, 60, 29]) torch.Size([1568, 6])\n"
     ]
    }
   ],
   "source": [
    "# Train data\n",
    "X_train, y_train = create_dataset(\n",
    "    df_train,\n",
    "    target=target,\n",
    "    features=features,\n",
    "    lookback=sequence_length, window=window)\n",
    "\n",
    "indices = tf.range(start=0, limit=tf.shape(X_train)[0])\n",
    "shuffled_indices = tf.random.shuffle(indices)\n",
    "X_train = tf.gather(X_train, shuffled_indices)\n",
    "y_train = tf.gather(y_train, shuffled_indices)\n",
    "\n",
    "X_train=torch.FloatTensor(np.array(X_train))\n",
    "y_train=torch.FloatTensor(np.array(y_train))\n",
    "\n",
    "print(X_train.shape, y_train.shape)"
   ]
  },
  {
   "cell_type": "code",
   "execution_count": 12,
   "id": "0c7f423c",
   "metadata": {},
   "outputs": [
    {
     "ename": "NameError",
     "evalue": "name 'X_test' is not defined",
     "output_type": "error",
     "traceback": [
      "\u001b[1;31m---------------------------------------------------------------------------\u001b[0m",
      "\u001b[1;31mNameError\u001b[0m                                 Traceback (most recent call last)",
      "\u001b[1;32m<ipython-input-12-9fce194c9b21>\u001b[0m in \u001b[0;36m<module>\u001b[1;34m\u001b[0m\n\u001b[0;32m      1\u001b[0m \u001b[0mbatch_size\u001b[0m\u001b[1;33m=\u001b[0m\u001b[1;36m10\u001b[0m\u001b[1;33m\u001b[0m\u001b[1;33m\u001b[0m\u001b[0m\n\u001b[0;32m      2\u001b[0m \u001b[0mtrain_loader\u001b[0m \u001b[1;33m=\u001b[0m \u001b[0mDataLoader\u001b[0m\u001b[1;33m(\u001b[0m\u001b[0mdata\u001b[0m\u001b[1;33m.\u001b[0m\u001b[0mTensorDataset\u001b[0m\u001b[1;33m(\u001b[0m\u001b[0mX_train\u001b[0m\u001b[1;33m,\u001b[0m \u001b[0my_train\u001b[0m\u001b[1;33m)\u001b[0m\u001b[1;33m,\u001b[0m \u001b[0mshuffle\u001b[0m\u001b[1;33m=\u001b[0m\u001b[1;32mTrue\u001b[0m\u001b[1;33m,\u001b[0m \u001b[0mbatch_size\u001b[0m\u001b[1;33m=\u001b[0m\u001b[0mbatch_size\u001b[0m\u001b[1;33m)\u001b[0m\u001b[1;33m\u001b[0m\u001b[1;33m\u001b[0m\u001b[0m\n\u001b[1;32m----> 3\u001b[1;33m \u001b[0mtest_loader\u001b[0m\u001b[1;33m=\u001b[0m \u001b[0mDataLoader\u001b[0m\u001b[1;33m(\u001b[0m\u001b[0mdata\u001b[0m\u001b[1;33m.\u001b[0m\u001b[0mTensorDataset\u001b[0m\u001b[1;33m(\u001b[0m\u001b[0mX_test\u001b[0m\u001b[1;33m,\u001b[0m \u001b[0my_test\u001b[0m\u001b[1;33m)\u001b[0m\u001b[1;33m,\u001b[0m \u001b[0mshuffle\u001b[0m\u001b[1;33m=\u001b[0m\u001b[1;32mTrue\u001b[0m\u001b[1;33m,\u001b[0m \u001b[0mbatch_size\u001b[0m\u001b[1;33m=\u001b[0m\u001b[0mbatch_size\u001b[0m\u001b[1;33m)\u001b[0m\u001b[1;33m\u001b[0m\u001b[1;33m\u001b[0m\u001b[0m\n\u001b[0m",
      "\u001b[1;31mNameError\u001b[0m: name 'X_test' is not defined"
     ]
    }
   ],
   "source": [
    "batch_size=10\n",
    "train_loader = DataLoader(data.TensorDataset(X_train, y_train), shuffle=True, batch_size=batch_size)\n",
    "test_loader= DataLoader(data.TensorDataset(X_test, y_test), shuffle=True, batch_size=batch_size)"
   ]
  },
  {
   "cell_type": "code",
   "execution_count": null,
   "id": "23995e43",
   "metadata": {},
   "outputs": [],
   "source": [
    "# The unknown data\n",
    "X_check=(df_train[features].values)[len(df_train)-sequence_length:len(df_train)]\n",
    "y_check=(df_test[target].values)[:window]\n",
    "torch.FloatTensor([X_check]).shape"
   ]
  },
  {
   "cell_type": "markdown",
   "id": "245af1d7",
   "metadata": {},
   "source": [
    "## Classical LSTM"
   ]
  },
  {
   "cell_type": "markdown",
   "id": "50a784bc",
   "metadata": {},
   "source": [
    "We first define train_model: function to train the model based on the batches of data\n",
    "We print the loss at the end to understand how the model is performing with regards to the data."
   ]
  },
  {
   "cell_type": "code",
   "execution_count": 13,
   "id": "dbe496cd",
   "metadata": {},
   "outputs": [],
   "source": [
    "def train_model(data_loader, model, loss_function, optimizer):\n",
    "    num_batches = len(data_loader)\n",
    "    total_loss = 0\n",
    "    model.train()\n",
    "    \n",
    "    for X, y in data_loader:\n",
    "        output = model(X)\n",
    "        loss = loss_function(output, y)\n",
    "\n",
    "        optimizer.zero_grad()\n",
    "        loss.backward()\n",
    "        optimizer.step()\n",
    "\n",
    "        total_loss += loss.item()\n",
    "\n",
    "    avg_loss = total_loss / num_batches\n",
    "    print(f\"Train loss: {avg_loss}\")\n",
    "    return avg_loss\n",
    "\n",
    "def test_model(data_loader, model, loss_function):\n",
    "    \n",
    "    num_batches = len(data_loader)\n",
    "    total_loss = 0\n",
    "\n",
    "    model.eval()\n",
    "    with torch.no_grad():\n",
    "        for X, y in data_loader:\n",
    "            output = model(X)\n",
    "            total_loss += loss_function(output, y).item()\n",
    "\n",
    "    avg_loss = total_loss / num_batches\n",
    "    print(f\"Test loss: {avg_loss}\")\n",
    "    return avg_loss"
   ]
  },
  {
   "cell_type": "markdown",
   "id": "8dd5d66a",
   "metadata": {},
   "source": [
    "## Classical LSTM"
   ]
  },
  {
   "cell_type": "code",
   "execution_count": 14,
   "id": "aa31393b",
   "metadata": {},
   "outputs": [],
   "source": [
    "class ShallowRegressionLSTM(nn.Module):\n",
    "    def __init__(self, num_sensors, hidden_units):\n",
    "        super().__init__()\n",
    "        self.num_sensors = num_sensors  # this is the number of features\n",
    "        self.hidden_units = hidden_units\n",
    "        self.num_layers = 2\n",
    "\n",
    "        self.lstm = nn.LSTM(\n",
    "            input_size=num_sensors,\n",
    "            hidden_size=hidden_units,\n",
    "            batch_first=True,\n",
    "            num_layers=self.num_layers\n",
    "        )\n",
    "\n",
    "        self.linear = nn.Linear(in_features=self.hidden_units, out_features=1) # The output dimesion is set as window\n",
    "        self.linear_2 = nn.Linear(in_features=60, out_features=6)\n",
    "\n",
    "    def forward(self, x):\n",
    "        batch_size = x.shape[0]\n",
    "        h0 = torch.zeros(self.num_layers, batch_size, self.hidden_units).requires_grad_()\n",
    "        c0 = torch.zeros(self.num_layers, batch_size, self.hidden_units).requires_grad_()\n",
    "        \n",
    "        out_l1, (hn, _) = self.lstm(x, (h0, c0))\n",
    "        out_l2 = self.linear(out_l1)\n",
    "        out = self.linear_2(torch.squeeze(out_l2))\n",
    "        return torch.squeeze(out)"
   ]
  },
  {
   "cell_type": "code",
   "execution_count": 15,
   "id": "2a758f02",
   "metadata": {},
   "outputs": [],
   "source": [
    "learning_rate = 0.001\n",
    "num_hidden_units = 16\n",
    "\n",
    "model_lstm = ShallowRegressionLSTM(num_sensors=len(features), hidden_units=num_hidden_units)\n",
    "loss_function = nn.MSELoss()\n",
    "optimizer = torch.optim.Adam(model_lstm.parameters(), lr=learning_rate)"
   ]
  },
  {
   "cell_type": "code",
   "execution_count": 174,
   "id": "5e2cdd9a",
   "metadata": {},
   "outputs": [
    {
     "name": "stdout",
     "output_type": "stream",
     "text": [
      "Epoch 0\n",
      "---------\n",
      "Train loss: 0.3199307121763563\n",
      "48.09751953124987\n",
      "Epoch 1\n",
      "---------\n",
      "Train loss: 0.0817431479716187\n",
      "30.25027018229154\n",
      "Epoch 2\n",
      "---------\n",
      "Train loss: 0.05503996690604717\n",
      "82.88826171874992\n",
      "Epoch 3\n",
      "---------\n",
      "Train loss: 0.04411906815448385\n",
      "78.53548502604174\n",
      "Epoch 4\n",
      "---------\n",
      "Train loss: 0.039064267685838566\n",
      "25.533287760416744\n",
      "Epoch 5\n",
      "---------\n",
      "Train loss: 0.03355290644036926\n",
      "51.8158463541666\n",
      "Epoch 6\n",
      "---------\n",
      "Train loss: 0.032059798791269016\n",
      "62.77596354166675\n",
      "Epoch 7\n",
      "---------\n",
      "Train loss: 0.030445779347495667\n",
      "74.62915364583341\n",
      "Epoch 8\n",
      "---------\n",
      "Train loss: 0.02923964625402431\n",
      "108.18302734375008\n",
      "Epoch 9\n",
      "---------\n",
      "Train loss: 0.027694472443953063\n",
      "95.58439453125008\n"
     ]
    }
   ],
   "source": [
    "lstm_loss_train = []\n",
    "num_epoch=10\n",
    "for ix_epoch in range(num_epoch):\n",
    "    print(f\"Epoch {ix_epoch}\\n---------\")\n",
    "    train_loss = train_model(train_loader, model_lstm, loss_function, optimizer=optimizer)\n",
    "    y_test_pred_lstm = model_lstm(torch.FloatTensor([X_check]))\n",
    "    y_test_pred_lstm = y_test_pred_lstm.detach().numpy()\n",
    "    print(mean_absolute_error(y_check* target_stdev + target_mean,y_test_pred_lstm* target_stdev + target_mean))\n",
    "    lstm_loss_train.append(train_loss)"
   ]
  },
  {
   "cell_type": "code",
   "execution_count": 175,
   "id": "7b0b2d07",
   "metadata": {},
   "outputs": [
    {
     "data": {
      "text/plain": [
       "[0.3199307121763563,\n",
       " 0.0817431479716187,\n",
       " 0.05503996690604717,\n",
       " 0.04411906815448385,\n",
       " 0.039064267685838566,\n",
       " 0.03355290644036926,\n",
       " 0.032059798791269016,\n",
       " 0.030445779347495667,\n",
       " 0.02923964625402431,\n",
       " 0.027694472443953063]"
      ]
     },
     "execution_count": 175,
     "metadata": {},
     "output_type": "execute_result"
    }
   ],
   "source": [
    "lstm_loss_train"
   ]
  },
  {
   "cell_type": "code",
   "execution_count": 176,
   "id": "fc2be6b2",
   "metadata": {},
   "outputs": [
    {
     "data": {
      "text/plain": [
       "[0.03372592618688941,\n",
       " 0.03008799348026514,\n",
       " 0.045939779840409756,\n",
       " 0.06955239363014698,\n",
       " 0.034197764936834574,\n",
       " 0.05283508263528347,\n",
       " 0.03963572718203068,\n",
       " 0.03592234058305621,\n",
       " 0.03374815289862454,\n",
       " 0.06457534618675709]"
      ]
     },
     "execution_count": 176,
     "metadata": {},
     "output_type": "execute_result"
    }
   ],
   "source": [
    "lstm_loss_test"
   ]
  },
  {
   "cell_type": "code",
   "execution_count": 177,
   "id": "f8806195",
   "metadata": {},
   "outputs": [
    {
     "data": {
      "image/png": "[encoded data removed]",
      "text/plain": [
       "<Figure size 576x432 with 1 Axes>"
      ]
     },
     "metadata": {
      "needs_background": "light"
     },
     "output_type": "display_data"
    }
   ],
   "source": [
    "plt.figure(figsize=(8, 6))\n",
    "plt.plot(range(num_epoch), lstm_loss_train, label='train')\n",
    "plt.plot(range(num_epoch), lstm_loss_test, label='test')\n",
    "plt.ylabel('Loss')\n",
    "plt.xlabel('Epoch')\n",
    "plt.legend()\n",
    "plt.show()"
   ]
  },
  {
   "cell_type": "markdown",
   "id": "2f44945e",
   "metadata": {},
   "source": [
    "We then use the model to predict the test set, and then compare the results of the prediction to the real values."
   ]
  },
  {
   "cell_type": "code",
   "execution_count": 178,
   "id": "478ffa72",
   "metadata": {},
   "outputs": [],
   "source": [
    "def predict(data_loader, model):\n",
    "    \"\"\"Just like `test_loop` function but keep track of the outputs instead of the loss\n",
    "    function.\n",
    "    \"\"\"\n",
    "    output = []\n",
    "    model.eval()\n",
    "    with torch.no_grad():\n",
    "        for X, _ in data_loader:\n",
    "            y_star = model(X)\n",
    "            output.append(y_star.numpy())  \n",
    "    return output"
   ]
  },
  {
   "cell_type": "code",
   "execution_count": 179,
   "id": "aec3abbe",
   "metadata": {},
   "outputs": [],
   "source": [
    "# Prepare data to evaluate training accuracy of lstm\n",
    "train_eval_loader = DataLoader(data.TensorDataset(X_train, y_train), shuffle=False, batch_size=batch_size)\n",
    "y_train_pred_lstm=predict(train_eval_loader, model_lstm)\n",
    "y_train_lstm=[]\n",
    "for X, y in train_eval_loader:\n",
    "    y_train_lstm.append(y)\n",
    "    "
   ]
  },
  {
   "cell_type": "code",
   "execution_count": 180,
   "id": "1d45f169",
   "metadata": {},
   "outputs": [],
   "source": [
    "from sklearn.metrics import mean_squared_error\n",
    "from sklearn.metrics import mean_absolute_error\n",
    "from sklearn.metrics import mean_absolute_percentage_error\n",
    "def cal_metrics(y_true,y_pred):\n",
    "    mae=0\n",
    "    rmse=0\n",
    "    for i in range(len(y_true)):\n",
    "        y1=y_true[i].flatten().numpy()* target_stdev + target_mean\n",
    "        y2=y_pred[i].flatten()* target_stdev + target_mean\n",
    "        mae=mean_absolute_error(y1, y2)+mae\n",
    "        rmse=mean_squared_error(y1, y2, squared=False)+rmse  \n",
    "    return mae/len(y_true) , rmse/len(y_true)"
   ]
  },
  {
   "cell_type": "code",
   "execution_count": 181,
   "id": "ba63dddb",
   "metadata": {
    "scrolled": true
   },
   "outputs": [
    {
     "name": "stdout",
     "output_type": "stream",
     "text": [
      "MAE train error is 75.61781765397187\n",
      "RMSE train error is 98.94566566321501\n"
     ]
    }
   ],
   "source": [
    "mae_train_lstm, rmse_train_lstm= cal_metrics(y_train_lstm,y_train_pred_lstm)\n",
    "print('MAE train error is',mae_train_lstm)\n",
    "print('RMSE train error is',rmse_train_lstm)\n"
   ]
  },
  {
   "cell_type": "code",
   "execution_count": 182,
   "id": "5bf25ff3",
   "metadata": {},
   "outputs": [
    {
     "name": "stdout",
     "output_type": "stream",
     "text": [
      "MAE check error  :  95.58439453125008\n",
      "RMSE check error :  104.40334217618988\n"
     ]
    }
   ],
   "source": [
    "y_check_pred_lstm = model_lstm(torch.FloatTensor([X_check]))\n",
    "y_check_pred_lstm = y_check_pred_lstm.detach().numpy()\n",
    "\n",
    "mae_check_lstm = mean_absolute_error(y_check* target_stdev + target_mean,y_check_pred_lstm* target_stdev + target_mean)\n",
    "print('MAE check error  : ',mae_check_lstm)\n",
    "rmse_check_lstm = mean_squared_error(y_check* target_stdev + target_mean,y_check_pred_lstm* target_stdev + target_mean, squared=False)\n",
    "print('RMSE check error : ',rmse_check_lstm)"
   ]
  },
  {
   "cell_type": "code",
   "execution_count": 183,
   "id": "3cec8d55",
   "metadata": {},
   "outputs": [
    {
     "name": "stdout",
     "output_type": "stream",
     "text": [
      "No. of parameters for QLSTM:  5567\n"
     ]
    }
   ],
   "source": [
    "total_params_Q = sum(p.numel() for p in model_lstm.parameters() if p.requires_grad)\n",
    "\n",
    "print(\"No. of parameters for QLSTM: \", total_params_Q)"
   ]
  },
  {
   "cell_type": "markdown",
   "id": "efd62f52",
   "metadata": {},
   "source": [
    "# Predict for 8th to 15 march"
   ]
  },
  {
   "cell_type": "code",
   "execution_count": 184,
   "id": "90838fd1",
   "metadata": {},
   "outputs": [],
   "source": [
    "last_60 = pd.read_csv('last_60_days_input.csv')\n",
    "last_60 = last_60.drop([ 'Unnamed: 0'], axis=1)\n",
    "# Remove few redundant data\n",
    "last_60=last_60.drop(columns=['Date'])\n",
    "last_60=last_60.drop(columns=['CUMLOGRET_1'])\n",
    "last_60=last_60.drop(columns=['Gold in USD volume'])\n",
    "last_60=last_60.drop(columns=['Open'])\n",
    "last_60=last_60.drop(columns=['High'])\n",
    "last_60=last_60.drop(columns=['Low'])"
   ]
  },
  {
   "cell_type": "code",
   "execution_count": 185,
   "id": "5d433c97",
   "metadata": {},
   "outputs": [],
   "source": [
    "for i in features:\n",
    "    last_60[i]=(last_60[i]-mean[i])/stdev[i]"
   ]
  },
  {
   "cell_type": "code",
   "execution_count": 186,
   "id": "cd39efdd",
   "metadata": {},
   "outputs": [],
   "source": [
    "X_last_60=np.array(last_60[features])"
   ]
  },
  {
   "cell_type": "code",
   "execution_count": 190,
   "id": "64d5c2db",
   "metadata": {},
   "outputs": [],
   "source": [
    "y_8_to_15 = model_lstm(torch.FloatTensor([X_last_60]))\n",
    "y_8_to_15 = y_8_to_15.detach().numpy()* target_stdev + target_mean"
   ]
  },
  {
   "cell_type": "code",
   "execution_count": 191,
   "id": "b0392e9b",
   "metadata": {},
   "outputs": [
    {
     "data": {
      "text/plain": [
       "array([7613.735 , 7622.447 , 7597.5366, 7610.9326, 7623.293 , 7636.1094],\n",
       "      dtype=float32)"
      ]
     },
     "execution_count": 191,
     "metadata": {},
     "output_type": "execute_result"
    }
   ],
   "source": [
    "# Below is prediction for 8th, 11th,12th,13th,14th and 15 march\n",
    "y_8_to_15"
   ]
  },
  {
   "cell_type": "code",
   "execution_count": 16,
   "id": "fc95296c",
   "metadata": {},
   "outputs": [
    {
     "name": "stdout",
     "output_type": "stream",
     "text": [
      "No. of parameters for LSTM:  5567\n"
     ]
    }
   ],
   "source": [
    "total_params = sum(p.numel() for p in model_lstm.parameters() if p.requires_grad)\n",
    "print(\"No. of parameters for LSTM: \", total_params)"
   ]
  },
  {
   "cell_type": "code",
   "execution_count": null,
   "id": "5a1c6fc2",
   "metadata": {},
   "outputs": [],
   "source": []
  },
  {
   "cell_type": "code",
   "execution_count": null,
   "id": "d136be46",
   "metadata": {},
   "outputs": [],
   "source": []
  }
 ],
 "metadata": {
  "kernelspec": {
   "display_name": "Python 3",
   "language": "python",
   "name": "python3"
  },
  "language_info": {
   "codemirror_mode": {
    "name": "ipython",
    "version": 3
   },
   "file_extension": ".py",
   "mimetype": "text/x-python",
   "name": "python",
   "nbconvert_exporter": "python",
   "pygments_lexer": "ipython3",
   "version": "3.8.8"
  }
 },
 "nbformat": 4,
 "nbformat_minor": 5
}
