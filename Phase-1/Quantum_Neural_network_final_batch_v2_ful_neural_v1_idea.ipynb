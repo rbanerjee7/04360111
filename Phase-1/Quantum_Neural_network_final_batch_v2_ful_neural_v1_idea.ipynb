{
 "cells": [
  {
   "cell_type": "code",
   "execution_count": 1,
   "id": "a33a1f56",
   "metadata": {},
   "outputs": [],
   "source": [
    "import pandas as pd\n",
    "from pennylane import numpy as np\n",
    "import math\n",
    "import pennylane as qml\n",
    "import random\n",
    "import tensorflow as tf\n",
    "import time"
   ]
  },
  {
   "cell_type": "code",
   "execution_count": 2,
   "id": "31c36071",
   "metadata": {},
   "outputs": [],
   "source": [
    "# Read data\n",
    "df = pd.read_csv('dataset_FTSE_prediction_v1.csv')\n",
    "df = df.drop(['Unnamed: 0'], axis=1)\n",
    "# df=df[:100]\n",
    "# df=df.drop(columns=['ARIMA'])"
   ]
  },
  {
   "cell_type": "code",
   "execution_count": 3,
   "id": "d53abe07",
   "metadata": {},
   "outputs": [
    {
     "data": {
      "text/plain": [
       "['Adj Close',\n",
       " 'BBB_20_2.0',\n",
       " 'BBL_20_2.0',\n",
       " 'BBM_20_2.0',\n",
       " 'BBP_20_2.0',\n",
       " 'BBU_20_2.0',\n",
       " 'CUMLOGRET_1',\n",
       " 'Close_copy',\n",
       " 'Crude Futures',\n",
       " 'EMA_10',\n",
       " 'EMA_20',\n",
       " 'EMA_50',\n",
       " 'FT3',\n",
       " 'FT6',\n",
       " 'FT9',\n",
       " 'GBP USD ',\n",
       " 'Gold in USD',\n",
       " 'MACD_12_26_9',\n",
       " 'MACDh_12_26_9',\n",
       " 'MACDs_12_26_9',\n",
       " 'SMA_10',\n",
       " 'SMA_20',\n",
       " 'SMA_50',\n",
       " 'Volume']"
      ]
     },
     "execution_count": 3,
     "metadata": {},
     "output_type": "execute_result"
    }
   ],
   "source": [
    "target = \"Close\"\n",
    "features = list(df.columns.difference([\"Close\",\"ARIMA\"]))\n",
    "features"
   ]
  },
  {
   "cell_type": "code",
   "execution_count": 4,
   "id": "c0e70f03",
   "metadata": {},
   "outputs": [
    {
     "data": {
      "text/plain": [
       "24"
      ]
     },
     "execution_count": 4,
     "metadata": {},
     "output_type": "execute_result"
    }
   ],
   "source": [
    "len(features)"
   ]
  },
  {
   "cell_type": "markdown",
   "id": "a65613d0",
   "metadata": {},
   "source": [
    "## Data Processing"
   ]
  },
  {
   "cell_type": "code",
   "execution_count": 5,
   "id": "465d24a1",
   "metadata": {},
   "outputs": [],
   "source": [
    "random.seed(42)\n",
    "# close_min=min(df['Close'].values)\n",
    "# close_max=max(df['Close'].values)\n",
    "# normalized_df=(df-df.min())/(df.max()-df.min())"
   ]
  },
  {
   "cell_type": "code",
   "execution_count": 6,
   "id": "ef4088a3",
   "metadata": {},
   "outputs": [],
   "source": [
    "target_mean = df[target].mean()\n",
    "target_stdev = df[target].std()\n",
    "\n",
    "for c in df.columns:\n",
    "    mean = df[c].mean()\n",
    "    stdev = df[c].std()\n",
    "\n",
    "    df[c] = (df[c] - mean) / stdev"
   ]
  },
  {
   "cell_type": "code",
   "execution_count": 7,
   "id": "683cc969",
   "metadata": {},
   "outputs": [],
   "source": [
    "normalized_df=df"
   ]
  },
  {
   "cell_type": "code",
   "execution_count": 8,
   "id": "ac53f062",
   "metadata": {},
   "outputs": [
    {
     "data": {
      "text/html": [
       "<div>\n",
       "<style scoped>\n",
       "    .dataframe tbody tr th:only-of-type {\n",
       "        vertical-align: middle;\n",
       "    }\n",
       "\n",
       "    .dataframe tbody tr th {\n",
       "        vertical-align: top;\n",
       "    }\n",
       "\n",
       "    .dataframe thead th {\n",
       "        text-align: right;\n",
       "    }\n",
       "</style>\n",
       "<table border=\"1\" class=\"dataframe\">\n",
       "  <thead>\n",
       "    <tr style=\"text-align: right;\">\n",
       "      <th></th>\n",
       "      <th>Adj Close</th>\n",
       "      <th>BBB_20_2.0</th>\n",
       "      <th>BBL_20_2.0</th>\n",
       "      <th>BBM_20_2.0</th>\n",
       "      <th>BBP_20_2.0</th>\n",
       "      <th>BBU_20_2.0</th>\n",
       "      <th>CUMLOGRET_1</th>\n",
       "      <th>Close</th>\n",
       "      <th>Crude Futures</th>\n",
       "      <th>EMA_10</th>\n",
       "      <th>...</th>\n",
       "      <th>GBP USD</th>\n",
       "      <th>Gold in USD</th>\n",
       "      <th>MACD_12_26_9</th>\n",
       "      <th>MACDh_12_26_9</th>\n",
       "      <th>MACDs_12_26_9</th>\n",
       "      <th>SMA_10</th>\n",
       "      <th>SMA_20</th>\n",
       "      <th>SMA_50</th>\n",
       "      <th>Volume</th>\n",
       "      <th>Close_copy</th>\n",
       "    </tr>\n",
       "  </thead>\n",
       "  <tbody>\n",
       "    <tr>\n",
       "      <th>0</th>\n",
       "      <td>-2.117565</td>\n",
       "      <td>-1.416161</td>\n",
       "      <td>-7.846089</td>\n",
       "      <td>-8.197548</td>\n",
       "      <td>-1.587882</td>\n",
       "      <td>-8.374291</td>\n",
       "      <td>-2.243124</td>\n",
       "      <td>-2.117565</td>\n",
       "      <td>1.500541</td>\n",
       "      <td>-9.214615</td>\n",
       "      <td>...</td>\n",
       "      <td>1.529613</td>\n",
       "      <td>1.234563</td>\n",
       "      <td>-0.077292</td>\n",
       "      <td>0.000882</td>\n",
       "      <td>-0.083523</td>\n",
       "      <td>-9.189175</td>\n",
       "      <td>-8.197548</td>\n",
       "      <td>-6.432481</td>\n",
       "      <td>0.730166</td>\n",
       "      <td>-2.117565</td>\n",
       "    </tr>\n",
       "    <tr>\n",
       "      <th>1</th>\n",
       "      <td>-2.312586</td>\n",
       "      <td>-1.416161</td>\n",
       "      <td>-7.846089</td>\n",
       "      <td>-8.197548</td>\n",
       "      <td>-1.587882</td>\n",
       "      <td>-8.374291</td>\n",
       "      <td>-2.482745</td>\n",
       "      <td>-2.312586</td>\n",
       "      <td>1.423609</td>\n",
       "      <td>-9.214615</td>\n",
       "      <td>...</td>\n",
       "      <td>1.462366</td>\n",
       "      <td>1.411190</td>\n",
       "      <td>-0.077292</td>\n",
       "      <td>0.000882</td>\n",
       "      <td>-0.083523</td>\n",
       "      <td>-9.189175</td>\n",
       "      <td>-8.197548</td>\n",
       "      <td>-6.432481</td>\n",
       "      <td>0.160281</td>\n",
       "      <td>-2.312586</td>\n",
       "    </tr>\n",
       "    <tr>\n",
       "      <th>2</th>\n",
       "      <td>-2.604116</td>\n",
       "      <td>-1.416161</td>\n",
       "      <td>-7.846089</td>\n",
       "      <td>-8.197548</td>\n",
       "      <td>-1.587882</td>\n",
       "      <td>-8.374291</td>\n",
       "      <td>-2.851864</td>\n",
       "      <td>-2.604116</td>\n",
       "      <td>1.423609</td>\n",
       "      <td>-9.214615</td>\n",
       "      <td>...</td>\n",
       "      <td>1.462366</td>\n",
       "      <td>1.411190</td>\n",
       "      <td>-0.077292</td>\n",
       "      <td>0.000882</td>\n",
       "      <td>-0.083523</td>\n",
       "      <td>-9.189175</td>\n",
       "      <td>-8.197548</td>\n",
       "      <td>-6.432481</td>\n",
       "      <td>0.028158</td>\n",
       "      <td>-2.604116</td>\n",
       "    </tr>\n",
       "    <tr>\n",
       "      <th>3</th>\n",
       "      <td>-2.520689</td>\n",
       "      <td>-1.416161</td>\n",
       "      <td>-7.846089</td>\n",
       "      <td>-8.197548</td>\n",
       "      <td>-1.587882</td>\n",
       "      <td>-8.374291</td>\n",
       "      <td>-2.744853</td>\n",
       "      <td>-2.520689</td>\n",
       "      <td>1.445590</td>\n",
       "      <td>-9.214615</td>\n",
       "      <td>...</td>\n",
       "      <td>1.395119</td>\n",
       "      <td>1.397119</td>\n",
       "      <td>-0.077292</td>\n",
       "      <td>0.000882</td>\n",
       "      <td>-0.083523</td>\n",
       "      <td>-9.189175</td>\n",
       "      <td>-8.197548</td>\n",
       "      <td>-6.432481</td>\n",
       "      <td>0.619960</td>\n",
       "      <td>-2.520689</td>\n",
       "    </tr>\n",
       "    <tr>\n",
       "      <th>4</th>\n",
       "      <td>-2.271642</td>\n",
       "      <td>-1.416161</td>\n",
       "      <td>-7.846089</td>\n",
       "      <td>-8.197548</td>\n",
       "      <td>-1.587882</td>\n",
       "      <td>-8.374291</td>\n",
       "      <td>-2.431965</td>\n",
       "      <td>-2.271642</td>\n",
       "      <td>1.559810</td>\n",
       "      <td>-9.214615</td>\n",
       "      <td>...</td>\n",
       "      <td>1.260624</td>\n",
       "      <td>1.190869</td>\n",
       "      <td>-0.077292</td>\n",
       "      <td>0.000882</td>\n",
       "      <td>-0.083523</td>\n",
       "      <td>-9.189175</td>\n",
       "      <td>-8.197548</td>\n",
       "      <td>-6.432481</td>\n",
       "      <td>0.212893</td>\n",
       "      <td>-2.271642</td>\n",
       "    </tr>\n",
       "  </tbody>\n",
       "</table>\n",
       "<p>5 rows × 25 columns</p>\n",
       "</div>"
      ],
      "text/plain": [
       "   Adj Close  BBB_20_2.0  BBL_20_2.0  BBM_20_2.0  BBP_20_2.0  BBU_20_2.0  \\\n",
       "0  -2.117565   -1.416161   -7.846089   -8.197548   -1.587882   -8.374291   \n",
       "1  -2.312586   -1.416161   -7.846089   -8.197548   -1.587882   -8.374291   \n",
       "2  -2.604116   -1.416161   -7.846089   -8.197548   -1.587882   -8.374291   \n",
       "3  -2.520689   -1.416161   -7.846089   -8.197548   -1.587882   -8.374291   \n",
       "4  -2.271642   -1.416161   -7.846089   -8.197548   -1.587882   -8.374291   \n",
       "\n",
       "   CUMLOGRET_1     Close  Crude Futures    EMA_10  ...  GBP USD   Gold in USD  \\\n",
       "0    -2.243124 -2.117565       1.500541 -9.214615  ...  1.529613     1.234563   \n",
       "1    -2.482745 -2.312586       1.423609 -9.214615  ...  1.462366     1.411190   \n",
       "2    -2.851864 -2.604116       1.423609 -9.214615  ...  1.462366     1.411190   \n",
       "3    -2.744853 -2.520689       1.445590 -9.214615  ...  1.395119     1.397119   \n",
       "4    -2.431965 -2.271642       1.559810 -9.214615  ...  1.260624     1.190869   \n",
       "\n",
       "   MACD_12_26_9  MACDh_12_26_9  MACDs_12_26_9    SMA_10    SMA_20    SMA_50  \\\n",
       "0     -0.077292       0.000882      -0.083523 -9.189175 -8.197548 -6.432481   \n",
       "1     -0.077292       0.000882      -0.083523 -9.189175 -8.197548 -6.432481   \n",
       "2     -0.077292       0.000882      -0.083523 -9.189175 -8.197548 -6.432481   \n",
       "3     -0.077292       0.000882      -0.083523 -9.189175 -8.197548 -6.432481   \n",
       "4     -0.077292       0.000882      -0.083523 -9.189175 -8.197548 -6.432481   \n",
       "\n",
       "     Volume  Close_copy  \n",
       "0  0.730166   -2.117565  \n",
       "1  0.160281   -2.312586  \n",
       "2  0.028158   -2.604116  \n",
       "3  0.619960   -2.520689  \n",
       "4  0.212893   -2.271642  \n",
       "\n",
       "[5 rows x 25 columns]"
      ]
     },
     "execution_count": 8,
     "metadata": {},
     "output_type": "execute_result"
    }
   ],
   "source": [
    "normalized_df.head()"
   ]
  },
  {
   "cell_type": "code",
   "execution_count": 9,
   "id": "943866a4",
   "metadata": {},
   "outputs": [],
   "source": [
    "df=normalized_df.copy()"
   ]
  },
  {
   "cell_type": "code",
   "execution_count": 10,
   "id": "d001b000",
   "metadata": {},
   "outputs": [
    {
     "name": "stdout",
     "output_type": "stream",
     "text": [
      "(616, 30, 24) (616, 30)\n"
     ]
    }
   ],
   "source": [
    "# Data for regression model\n",
    "sequence_length_reg = window_reg =30 # Number of time steps that will be inputted into LSTM network\n",
    "\n",
    "def create_dataset_reg(dataset,target,features, lookback, window):\n",
    "    X_store, y_store = [], []\n",
    "    for i in range(0,len(dataset)-lookback-window,5):\n",
    "        X = (dataset[features].values)[i:i+lookback]\n",
    "        y = (dataset[target].values)[i+lookback-1:i+lookback+window-1]\n",
    "        X_store.append(X)\n",
    "        y_store.append(y)\n",
    "    return X_store,y_store\n",
    "\n",
    "X_reg,y_reg = create_dataset_reg(\n",
    "    df,\n",
    "    target=target,\n",
    "    features=features,\n",
    "    lookback=sequence_length_reg, window=window_reg)\n",
    "\n",
    "print(np.array(X_reg).shape, np.array(y_reg).shape)"
   ]
  },
  {
   "cell_type": "code",
   "execution_count": 11,
   "id": "92c76f7c",
   "metadata": {},
   "outputs": [],
   "source": [
    "indices = tf.range(start=0, limit=tf.shape(X_reg)[0])\n",
    "shuffled_indices = tf.random.shuffle(indices)\n",
    "X_reg = tf.gather(X_reg, shuffled_indices)\n",
    "y_reg = tf.gather(y_reg, shuffled_indices)"
   ]
  },
  {
   "cell_type": "code",
   "execution_count": 12,
   "id": "e72f466f",
   "metadata": {},
   "outputs": [
    {
     "name": "stdout",
     "output_type": "stream",
     "text": [
      "Shape of train is (554, 30, 24) and (554, 30)\n",
      "Shape os test is (62, 30, 24) and (62, 30)\n"
     ]
    }
   ],
   "source": [
    "# Train test split\n",
    "m=np.array(X_reg).shape[0] # get first dimension\n",
    "size=int(m*0.9)\n",
    "X_train_reg=X_reg[:size]\n",
    "y_train_reg=y_reg[:size]\n",
    "X_test_reg=X_reg[size:]\n",
    "y_test_reg=y_reg[size:]\n",
    "print('Shape of train is',np.array(X_train_reg).shape,'and',np.array(y_train_reg).shape)\n",
    "print('Shape os test is',np.array(X_test_reg).shape,'and',np.array(y_test_reg).shape)"
   ]
  },
  {
   "cell_type": "code",
   "execution_count": 13,
   "id": "73e6fcf1",
   "metadata": {},
   "outputs": [
    {
     "name": "stdout",
     "output_type": "stream",
     "text": [
      "(16620, 24)\n",
      "(16620,)\n"
     ]
    }
   ],
   "source": [
    "X_train_reg_=np.array([inner for outer in X_train_reg for inner in outer])\n",
    "print(X_train_reg_.shape)\n",
    "y_train_reg_=np.array([inner for outer in y_train_reg for inner in outer])\n",
    "print(y_train_reg_.shape)"
   ]
  },
  {
   "cell_type": "code",
   "execution_count": 14,
   "id": "9fde5607",
   "metadata": {},
   "outputs": [
    {
     "name": "stdout",
     "output_type": "stream",
     "text": [
      "(1860, 24)\n",
      "(1860,)\n"
     ]
    }
   ],
   "source": [
    "X_test_reg_=np.array([inner for outer in X_test_reg for inner in outer])\n",
    "print(X_test_reg_.shape)\n",
    "y_test_reg_=np.array([inner for outer in y_test_reg for inner in outer])\n",
    "print(y_test_reg_.shape)"
   ]
  },
  {
   "cell_type": "code",
   "execution_count": 15,
   "id": "13bbfc00",
   "metadata": {},
   "outputs": [],
   "source": [
    "# Prepare check data\n",
    "X_check_reg=(df[features].values)[len(df)-window_reg-sequence_length_reg+1:len(df)- window_reg+1]\n",
    "y_check_reg=(df[target].values)[len(df)-window_reg:len(df)]"
   ]
  },
  {
   "cell_type": "code",
   "execution_count": 16,
   "id": "0cee0167",
   "metadata": {},
   "outputs": [
    {
     "name": "stdout",
     "output_type": "stream",
     "text": [
      "The factors of 16620 are:\n",
      "1\n",
      "2\n",
      "3\n",
      "4\n",
      "5\n",
      "6\n",
      "10\n",
      "12\n",
      "15\n",
      "20\n",
      "30\n",
      "60\n",
      "277\n",
      "554\n",
      "831\n",
      "1108\n",
      "1385\n",
      "1662\n",
      "2770\n",
      "3324\n",
      "4155\n",
      "5540\n",
      "8310\n",
      "16620\n"
     ]
    }
   ],
   "source": [
    "# Python Program to find the factors of a number\n",
    "\n",
    "# This function computes the factor of the argument passed\n",
    "def print_factors(x):\n",
    "    print(\"The factors of\",x,\"are:\")\n",
    "    for i in range(1, x + 1):\n",
    "        if x % i == 0:\n",
    "            print(i)\n",
    "\n",
    "num = 16620\n",
    "\n",
    "print_factors(num)"
   ]
  },
  {
   "cell_type": "markdown",
   "id": "a09ae8b6",
   "metadata": {},
   "source": [
    "# QNN"
   ]
  },
  {
   "cell_type": "code",
   "execution_count": 31,
   "id": "7df9e0d9",
   "metadata": {},
   "outputs": [],
   "source": [
    "nqubits = 8\n",
    "device = qml.device('default.qubit', wires=nqubits)\n",
    "# Define QNode\n",
    "@qml.qnode(device)\n",
    "def quantum_circuit(inputs, params):\n",
    "    for p1,p2,p3,p4,p5,p6,p7,p8 in zip(params[:4],params[4:8],params[8:12],params[12:16],params[16:20],params[20:24]\n",
    "                                ,params[24:28],params[28:32]):\n",
    "        qml.Rot(*inputs[:3], wires=0)\n",
    "        qml.Rot(*inputs[3:6], wires=1)\n",
    "        qml.Rot(*inputs[6:9], wires=2)\n",
    "        qml.Rot(*inputs[9:12], wires=3)\n",
    "        qml.Rot(*inputs[12:15], wires=4)\n",
    "        qml.Rot(*inputs[15:18], wires=5)\n",
    "        qml.Rot(*inputs[18:21], wires=6)\n",
    "        qml.Rot(*inputs[21:24], wires=7)\n",
    "        qml.Rot(*p1, wires=0)\n",
    "        qml.Rot(*p2, wires=1)\n",
    "        qml.Rot(*p3, wires=2)\n",
    "        qml.Rot(*p4, wires=3)\n",
    "        qml.Rot(*p5, wires=4)\n",
    "        qml.Rot(*p6, wires=5)\n",
    "        qml.Rot(*p7, wires=6)\n",
    "        qml.Rot(*p8, wires=7)\n",
    "        qml.CNOT(wires=[0, 1])\n",
    "        qml.CNOT(wires=[1, 2])\n",
    "        qml.CNOT(wires=[2, 3])\n",
    "        qml.CNOT(wires=[3, 4]) \n",
    "        qml.CNOT(wires=[4, 5])\n",
    "        qml.CNOT(wires=[5, 6]) \n",
    "        qml.CNOT(wires=[6, 7])\n",
    "        qml.CNOT(wires=[7, 0]) \n",
    "    return [qml.expval(qml.PauliZ(0))]"
   ]
  },
  {
   "cell_type": "code",
   "execution_count": 32,
   "id": "6934ef2b",
   "metadata": {},
   "outputs": [],
   "source": [
    "def loss_func(params):\n",
    "    predictions = [np.add(params[32][2],np.multiply(params[32][1],np.add(params[32][0],quantum_circuit(x, params)))) for x in X_train_reg_]\n",
    "    predictions=np.array([i for i in predictions])\n",
    "    total_losses=np.mean((y_train_reg_ - predictions) ** 2)\n",
    "    return total_losses"
   ]
  },
  {
   "cell_type": "code",
   "execution_count": 33,
   "id": "c35d15df",
   "metadata": {},
   "outputs": [],
   "source": [
    "def cost_fn(params,**kwargs):\n",
    "    z=kwargs['batch']\n",
    "    predictions = [np.add(params[32][2],np.multiply(params[32][1],np.add(params[32][0],quantum_circuit(x, params)))) for x in X_train_reg_[z*batch_size: (z+1)*batch_size]]\n",
    "    predictions=np.array([i for i in predictions])\n",
    "    cost=np.mean((y_train_reg_[z*batch_size: (z+1)*batch_size] - predictions) ** 2)\n",
    "    return cost"
   ]
  },
  {
   "cell_type": "code",
   "execution_count": 34,
   "id": "fef5b12d",
   "metadata": {},
   "outputs": [],
   "source": [
    "opt = qml.AdamOptimizer(stepsize=0.01)\n",
    "\n",
    "params=np.random.normal(-0.05, 0.05, size=(33, 3),requires_grad = True)"
   ]
  },
  {
   "cell_type": "code",
   "execution_count": 35,
   "id": "6677ca18",
   "metadata": {},
   "outputs": [
    {
     "data": {
      "text/plain": [
       "33"
      ]
     },
     "execution_count": 35,
     "metadata": {},
     "output_type": "execute_result"
    }
   ],
   "source": [
    "len(params)"
   ]
  },
  {
   "cell_type": "code",
   "execution_count": 36,
   "id": "c716dace",
   "metadata": {},
   "outputs": [],
   "source": [
    "batch_size=32 # Batch size\n",
    "batch_list=list(range(0,int(len(X_train_reg_)/batch_size)))"
   ]
  },
  {
   "cell_type": "code",
   "execution_count": null,
   "id": "a909c995",
   "metadata": {},
   "outputs": [
    {
     "name": "stdout",
     "output_type": "stream",
     "text": [
      "Step = 0 Cost = 0.42191312088456356\n",
      "Step = 0 Cost = 1.8011905455179458\n",
      "Step = 0 Cost = 1.2039664517858069\n",
      "Step = 0 Cost = 0.18718992801020895\n",
      "Step = 0 Cost = 0.7820842228374244\n",
      "Step = 0 Cost = 0.8643993783020931\n",
      "Step = 0 Cost = 0.6040517515003556\n",
      "Step = 0 Cost = 0.461417949426328\n",
      "Step = 0 Cost = 0.5922629478048542\n",
      "Step = 0 Cost = 0.4382242971687892\n",
      "Step = 0 Cost = 0.4900256326399261\n",
      "Step = 0 Cost = 2.3341351698393025\n",
      "Step = 0 Cost = 0.45000937010035297\n",
      "Step = 0 Cost = 0.3139636363296334\n",
      "Step = 0 Cost = 2.7826234997788397\n",
      "Step = 0 Cost = 1.0345769836593561\n",
      "Step = 0 Cost = 0.3095640672814949\n",
      "Step = 0 Cost = 0.9983373223042599\n",
      "Step = 0 Cost = 1.7904786747226127\n",
      "Step = 0 Cost = 1.1434404948558743\n",
      "Step = 0 Cost = 3.581534937532002\n",
      "Step = 0 Cost = 1.9399398006112158\n",
      "Step = 0 Cost = 1.1995001994779866\n",
      "Step = 0 Cost = 0.9299503256473364\n",
      "Step = 0 Cost = 0.8731567282695141\n",
      "Step = 0 Cost = 0.7375738160052288\n",
      "Step = 0 Cost = 1.5173124283775787\n",
      "Step = 0 Cost = 1.1724606212499937\n",
      "Step = 0 Cost = 0.2227010990200673\n",
      "Step = 0 Cost = 0.035599972509145934\n",
      "Step = 0 Cost = 0.11742092147328065\n",
      "Step = 0 Cost = 0.8749144391286452\n",
      "Step = 0 Cost = 1.1900727727577434\n",
      "Step = 0 Cost = 1.2527672228763596\n",
      "Step = 0 Cost = 0.23738162962145926\n",
      "Step = 0 Cost = 0.6506231261696329\n",
      "Step = 0 Cost = 0.6842440163785664\n",
      "Step = 0 Cost = 1.1626772928399347\n",
      "Step = 0 Cost = 1.4657775919904048\n",
      "Step = 0 Cost = 2.6485365790384003\n",
      "Step = 0 Cost = 0.7987907112315684\n",
      "Step = 0 Cost = 3.8207403918306526\n",
      "Step = 0 Cost = 0.9375740387774885\n",
      "Step = 0 Cost = 1.0707782073222938\n",
      "Step = 0 Cost = 0.1744257841108231\n",
      "Step = 0 Cost = 0.047070889128650616\n",
      "Step = 0 Cost = 0.1407715753988839\n",
      "Step = 0 Cost = 0.5732581836276076\n",
      "Step = 0 Cost = 0.5292777687423493\n",
      "Step = 0 Cost = 1.5617159183354967\n",
      "Step = 0 Cost = 1.1231420365451954\n",
      "Step = 0 Cost = 0.42487126543525566\n",
      "Step = 0 Cost = 0.4396229050634996\n",
      "Step = 0 Cost = 0.3747671240290706\n",
      "Step = 0 Cost = 1.487624516758847\n",
      "Step = 0 Cost = 1.3530411784580165\n",
      "Step = 0 Cost = 1.6632831636085879\n",
      "Step = 0 Cost = 1.1878370759148122\n",
      "Step = 0 Cost = 0.1623462164392691\n",
      "Step = 0 Cost = 2.7736574334560036\n",
      "Step = 0 Cost = 1.2664007482436186\n",
      "Step = 0 Cost = 0.03401555270263674\n",
      "Step = 0 Cost = 0.6128117104037721\n",
      "Step = 0 Cost = 1.7061257501192688\n",
      "Step = 0 Cost = 0.15816167267983272\n",
      "Step = 0 Cost = 0.15365383241552016\n",
      "Step = 0 Cost = 0.15367113775772578\n",
      "Step = 0 Cost = 1.2059414914193465\n",
      "Step = 0 Cost = 1.1127086347116948\n",
      "Step = 0 Cost = 0.17517839914113764\n",
      "Step = 0 Cost = 0.1917717302654528\n",
      "Step = 0 Cost = 0.01893265470132858\n",
      "Step = 0 Cost = 0.03135444168473349\n",
      "Step = 0 Cost = 1.5329610429401272\n",
      "Step = 0 Cost = 0.9804016233428445\n",
      "Step = 0 Cost = 1.1184302535560267\n",
      "Step = 0 Cost = 0.29502054991451254\n",
      "Step = 0 Cost = 0.11044225299699835\n",
      "Step = 0 Cost = 0.6018042196308258\n",
      "Step = 0 Cost = 1.259699369461372\n",
      "Step = 0 Cost = 2.4177192303554156\n",
      "Step = 0 Cost = 2.4006863985954903\n",
      "Step = 0 Cost = 0.8708537351114887\n",
      "Step = 0 Cost = 0.5540315636114144\n",
      "Step = 0 Cost = 1.3637320374762167\n",
      "Step = 0 Cost = 1.7338259601840198\n",
      "Step = 0 Cost = 2.4322360128261953\n",
      "Step = 0 Cost = 0.6650971792783067\n",
      "Step = 0 Cost = 0.11423776349361635\n",
      "Step = 0 Cost = 2.5685380446983803\n",
      "Step = 0 Cost = 0.3586101107900147\n",
      "Step = 0 Cost = 0.15915882161251202\n",
      "Step = 0 Cost = 0.8199846972685809\n",
      "Step = 0 Cost = 0.539090521521645\n",
      "Step = 0 Cost = 1.0089237135761857\n",
      "Step = 0 Cost = 0.6063338448818888\n",
      "Step = 0 Cost = 0.29982852796786497\n",
      "Step = 0 Cost = 0.35894727233173107\n",
      "Step = 0 Cost = 0.1564159424068343\n",
      "Step = 0 Cost = 0.9331354913115628\n",
      "Step = 0 Cost = 0.31065847789253764\n",
      "Step = 0 Cost = 3.2202469968190517\n",
      "Step = 0 Cost = 1.3218491558640801\n",
      "Step = 0 Cost = 0.1767981261856815\n",
      "Step = 0 Cost = 0.12014806954456735\n",
      "Step = 0 Cost = 0.1969392075166555\n",
      "Step = 0 Cost = 0.5174564348029673\n",
      "Step = 0 Cost = 0.33082008512467864\n",
      "Step = 0 Cost = 0.39245063183469586\n",
      "Step = 0 Cost = 0.7943073864776145\n",
      "Step = 0 Cost = 1.4918107324172534\n",
      "Step = 0 Cost = 1.400828383823281\n",
      "Step = 0 Cost = 0.7330440958277016\n",
      "Step = 0 Cost = 0.41010359537248275\n",
      "Step = 0 Cost = 0.24023614131615306\n",
      "Step = 0 Cost = 0.08876963942244993\n",
      "Step = 0 Cost = 0.4870534268825372\n",
      "Step = 0 Cost = 3.235367662386512\n",
      "Step = 0 Cost = 0.3516097598394088\n",
      "Step = 0 Cost = 0.7209083455812088\n",
      "Step = 0 Cost = 0.6578986390722077\n",
      "Step = 0 Cost = 2.044496545026079\n",
      "Step = 0 Cost = 0.1365056727080444\n",
      "Step = 0 Cost = 0.17850328580387548\n",
      "Step = 0 Cost = 0.8083294254762579\n",
      "Step = 0 Cost = 1.7235310805510522\n",
      "Step = 0 Cost = 0.20460255237941968\n",
      "Step = 0 Cost = 0.2730012908825261\n",
      "Step = 0 Cost = 0.49727265362343087\n",
      "Step = 0 Cost = 1.0277462271686322\n",
      "Step = 0 Cost = 0.33915303769173294\n",
      "Step = 0 Cost = 0.7249948381466234\n",
      "Step = 0 Cost = 0.27744347156347104\n",
      "Step = 0 Cost = 0.2186189423270446\n",
      "Step = 0 Cost = 1.623350960891706\n",
      "Step = 0 Cost = 1.3575794683833613\n",
      "Step = 0 Cost = 0.9241901438999798\n",
      "Step = 0 Cost = 0.6639507135056146\n",
      "Step = 0 Cost = 0.33647758547012296\n",
      "Step = 0 Cost = 1.0452072731918953\n",
      "Step = 0 Cost = 1.133519824317168\n",
      "Step = 0 Cost = 0.44046837608513284\n",
      "Step = 0 Cost = 0.2577287015604711\n",
      "Step = 0 Cost = 0.35698015929954957\n",
      "Step = 0 Cost = 0.3859738036511632\n",
      "Step = 0 Cost = 0.43829346662098456\n",
      "Step = 0 Cost = 1.7191268749179072\n",
      "Step = 0 Cost = 1.8009840328249591\n",
      "Step = 0 Cost = 0.2798773569434089\n",
      "Step = 0 Cost = 0.015414416508766427\n",
      "Step = 0 Cost = 0.8077479510427396\n",
      "Step = 0 Cost = 0.7770445333464763\n",
      "Step = 0 Cost = 1.0656385540736637\n",
      "Step = 0 Cost = 0.5652193591677223\n",
      "Step = 0 Cost = 1.780291841948472\n",
      "Step = 0 Cost = 1.1248730877579545\n",
      "Step = 0 Cost = 0.410883685107314\n",
      "Step = 0 Cost = 0.7839412575386817\n",
      "Step = 0 Cost = 0.7617555052366534\n",
      "Step = 0 Cost = 0.22372367260054013\n",
      "Step = 0 Cost = 0.546092783580004\n",
      "Step = 0 Cost = 0.4772576061314559\n"
     ]
    }
   ],
   "source": [
    "for i in range (10):\n",
    "    for j in batch_list:\n",
    "        # Run for batch\n",
    "#         start=time.time()\n",
    "        params, prev_cost = opt.step_and_cost(cost_fn,params,batch=j)\n",
    "        print(f'Step = {i} Cost = {prev_cost}')\n",
    "#         end=time.time()\n",
    "#         print('Execution time for optimizer',end-start)\n",
    "    # Loss for whole data\n",
    "#     start=time.time()\n",
    "    if i%5==0:\n",
    "        print(f'Step = {i} Cost = {loss_func(params)}')\n",
    "#     end=time.time()\n",
    "#     print('Execution time for loss check',end-start)"
   ]
  },
  {
   "cell_type": "code",
   "execution_count": null,
   "id": "10e76cbd",
   "metadata": {},
   "outputs": [],
   "source": [
    "loss_func(params)"
   ]
  },
  {
   "cell_type": "code",
   "execution_count": 24,
   "id": "b0475dcd",
   "metadata": {},
   "outputs": [
    {
     "data": {
      "text/plain": [
       "tensor([[ 1.89267835e-02,  1.74220058e-02, -3.21492846e-01],\n",
       "        [-2.43818090e-01, -1.97422024e-01,  1.06006553e-01],\n",
       "        [-8.12128039e-01,  2.56839005e-01,  1.67327957e-01],\n",
       "        [-8.72185332e-01, -3.16499590e-01, -7.74463587e-02],\n",
       "        [-2.89188047e-02, -1.04996623e+00,  6.22712517e-01],\n",
       "        [-4.17361332e-01, -4.27425495e-01,  4.16953613e-01],\n",
       "        [-2.81930343e-01, -1.18152397e+00,  1.32430538e-01],\n",
       "        [-5.96761712e-01, -6.97219345e-01, -1.02922375e-01],\n",
       "        [-5.28877380e-01, -5.70161280e-01, -4.11007194e-01],\n",
       "        [-3.91913482e-01, -8.61740058e-02, -7.51289247e-01],\n",
       "        [-2.39615047e-01,  7.06476912e-01, -5.71392888e-01],\n",
       "        [ 1.58993226e+00,  3.64343965e-01,  1.74912081e-02],\n",
       "        [ 2.71130059e-01,  3.47109050e-01, -6.88070090e-01],\n",
       "        [-1.62755786e-01, -2.79880968e-01, -8.03087820e-02],\n",
       "        [ 5.86358725e-01,  6.06746875e-01,  8.13239917e-01],\n",
       "        [-1.69835482e-01,  9.31339843e-01, -6.01874625e-02],\n",
       "        [ 5.71342207e-01,  9.98290671e-01, -5.99761174e-01],\n",
       "        [ 1.11050700e+00,  7.23002934e-01, -5.10518142e-01],\n",
       "        [-3.78805516e-02, -9.81861694e-01,  2.31748648e-01],\n",
       "        [-8.08098468e-01, -1.26473985e-01, -7.48381966e-02],\n",
       "        [-2.15635430e-01,  3.10124322e-01, -8.62021033e-02],\n",
       "        [-2.75786346e-01, -2.20328346e-01,  6.39310850e-01],\n",
       "        [ 2.86308423e-01, -7.73609558e-02,  9.14320249e-02],\n",
       "        [-7.88047624e-01, -6.25315390e-01, -1.02612822e-01],\n",
       "        [ 1.06848036e+00,  3.17502847e-01, -6.78907644e-02],\n",
       "        [-1.70556813e-01,  9.69960216e-01,  5.28667976e-01],\n",
       "        [-8.83107538e-01, -3.93646584e-01,  6.80069859e-02],\n",
       "        [-5.52383459e-01, -8.14293426e-02, -3.04515659e-03],\n",
       "        [-8.34854472e-01, -4.79217266e-01,  2.15787742e-01],\n",
       "        [ 1.60703241e-02, -2.84347639e-02, -1.83787548e-01],\n",
       "        [-7.86076305e-01, -4.19163292e-01, -7.08813153e-01],\n",
       "        [-2.85661700e-01,  9.08274176e-02, -2.88352326e-02],\n",
       "        [-1.36402807e+00, -4.79230368e+00,  1.27548022e+00],\n",
       "        [ 5.87546786e+00, -2.35657930e+00,  2.00686096e+00],\n",
       "        [-6.26781963e-01, -2.13667122e+00, -5.95698043e-02]], requires_grad=True)"
      ]
     },
     "execution_count": 24,
     "metadata": {},
     "output_type": "execute_result"
    }
   ],
   "source": [
    "params"
   ]
  },
  {
   "cell_type": "code",
   "execution_count": 27,
   "id": "e54aa50f",
   "metadata": {},
   "outputs": [],
   "source": [
    "# Make pred for check data\n",
    "def pred_(X,params):\n",
    "    predict_ = [np.add(np.sum(np.multiply(np.hstack((params[32],params[33],params[34][:-1])), \n",
    "                                             quantum_circuit(x, params))),params[34][-1]) for x in X]\n",
    "    return predict_"
   ]
  },
  {
   "cell_type": "code",
   "execution_count": 29,
   "id": "840c1baf",
   "metadata": {},
   "outputs": [],
   "source": [
    "def mae_metric(actual, predicted):\n",
    "    sum_error = 0.0\n",
    "    for i in range(len(actual)):\n",
    "        sum_error += abs(predicted[i] - actual[i])\n",
    "    return sum_error/len(actual)\n",
    "\n",
    "def rmse_metric(actual, predicted):\n",
    "    sum_error = 0.0\n",
    "    for i in range(len(actual)):\n",
    "        sum_error += (predicted[i] - actual[i])**2\n",
    "    return (sum_error/len(actual))**0.5"
   ]
  },
  {
   "cell_type": "code",
   "execution_count": 30,
   "id": "4c06696f",
   "metadata": {},
   "outputs": [],
   "source": [
    "# Predict the price\n",
    "y_test_pred_ann = pred_(X_test_reg_,params) "
   ]
  },
  {
   "cell_type": "code",
   "execution_count": 32,
   "id": "8bc0e45c",
   "metadata": {},
   "outputs": [],
   "source": [
    "y_test_pred_ann_=[]\n",
    "for i in y_test_pred_ann:\n",
    "    y_test_pred_ann_.append(i.numpy())"
   ]
  },
  {
   "cell_type": "code",
   "execution_count": 34,
   "id": "acab21f4",
   "metadata": {},
   "outputs": [
    {
     "name": "stdout",
     "output_type": "stream",
     "text": [
      "MAE test:  332.10719631113346\n",
      "RMSE test:  440.3904255684498\n"
     ]
    }
   ],
   "source": [
    "mae_test_ann = mae_metric(y_test_reg_* target_stdev + target_mean, np.array(y_test_pred_ann_)* target_stdev + target_mean)\n",
    "print('MAE test: ',mae_test_ann)\n",
    "rmse_test_ann = rmse_metric(y_test_reg_* target_stdev + target_mean, np.array(y_test_pred_ann_)* target_stdev + target_mean)\n",
    "print('RMSE test: ',rmse_test_ann)"
   ]
  },
  {
   "cell_type": "code",
   "execution_count": 26,
   "id": "bb59da90",
   "metadata": {},
   "outputs": [],
   "source": [
    "# Predict the model \n",
    "y_check_pred_ann = pred_(X_check_reg,params) "
   ]
  },
  {
   "cell_type": "code",
   "execution_count": 27,
   "id": "93a62b0b",
   "metadata": {},
   "outputs": [],
   "source": [
    "y_check_pred_ann_=[]\n",
    "for i in y_check_pred_ann:\n",
    "    y_check_pred_ann_.append(i[0].numpy())"
   ]
  },
  {
   "cell_type": "code",
   "execution_count": 28,
   "id": "9677f60e",
   "metadata": {},
   "outputs": [
    {
     "name": "stdout",
     "output_type": "stream",
     "text": [
      "MAE test:  327.87327345183695\n",
      "RMSE test:  335.44317287353965\n"
     ]
    }
   ],
   "source": [
    "mae_check_ann = mae_metric((y_check_reg*(close_max - close_min)) + close_min, np.array(y_check_pred_ann_)*(close_max - close_min)+ close_min)\n",
    "print('MAE test: ',mae_check_ann)\n",
    "rmse_check_ann = rmse_metric((y_check_reg*(close_max - close_min)) + close_min, np.array(y_check_pred_ann_)*(close_max - close_min)+ close_min)\n",
    "print('RMSE test: ',rmse_check_ann)"
   ]
  },
  {
   "cell_type": "code",
   "execution_count": 29,
   "id": "d47d0d29",
   "metadata": {},
   "outputs": [],
   "source": [
    "import matplotlib.pyplot as plt"
   ]
  },
  {
   "cell_type": "code",
   "execution_count": 30,
   "id": "5da4b25a",
   "metadata": {},
   "outputs": [
    {
     "data": {
      "image/png": "[encoded data removed]",
      "text/plain": [
       "<Figure size 864x504 with 1 Axes>"
      ]
     },
     "metadata": {
      "needs_background": "light"
     },
     "output_type": "display_data"
    }
   ],
   "source": [
    "plt.figure(figsize=(12, 7))\n",
    "# plt.plot(y_test_reg* target_stdev + target_mean, label = \"Real\",marker='o')\n",
    "plt.plot(y_check_reg *(close_max - close_min) + close_min, label = \"Real\",marker='o')\n",
    "plt.plot(np.array(y_check_pred_ann_)*(close_max - close_min)+ close_min, label = \"ANN\",marker='^')\n",
    "plt.ylabel('Stock Price')\n",
    "plt.xlabel('Days')\n",
    "plt.title('Next '+str(window_reg)+' days prediction')\n",
    "plt.legend()\n",
    "plt.show()"
   ]
  },
  {
   "cell_type": "code",
   "execution_count": null,
   "id": "d3dc71fd",
   "metadata": {},
   "outputs": [],
   "source": []
  }
 ],
 "metadata": {
  "kernelspec": {
   "display_name": "Python 3",
   "language": "python",
   "name": "python3"
  },
  "language_info": {
   "codemirror_mode": {
    "name": "ipython",
    "version": 3
   },
   "file_extension": ".py",
   "mimetype": "text/x-python",
   "name": "python",
   "nbconvert_exporter": "python",
   "pygments_lexer": "ipython3",
   "version": "3.8.8"
  }
 },
 "nbformat": 4,
 "nbformat_minor": 5
}
