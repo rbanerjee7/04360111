{
 "cells": [
  {
   "cell_type": "code",
   "execution_count": 23,
   "id": "a33a1f56",
   "metadata": {},
   "outputs": [],
   "source": [
    "import pandas as pd\n",
    "from pennylane import numpy as np\n",
    "import math\n",
    "import pennylane as qml\n",
    "import random\n",
    "import tensorflow as tf\n",
    "import time"
   ]
  },
  {
   "cell_type": "code",
   "execution_count": 24,
   "id": "31c36071",
   "metadata": {},
   "outputs": [],
   "source": [
    "# Read data\n",
    "df = pd.read_csv('dataset_FTSE_prediction_v1.csv')\n",
    "df = df.drop(['Unnamed: 0'], axis=1)\n",
    "df=df.drop(columns=['ARIMA'])\n",
    "df=df[800:]"
   ]
  },
  {
   "cell_type": "code",
   "execution_count": 25,
   "id": "d53abe07",
   "metadata": {},
   "outputs": [
    {
     "data": {
      "text/plain": [
       "['Adj Close',\n",
       " 'BBB_20_2.0',\n",
       " 'BBL_20_2.0',\n",
       " 'BBM_20_2.0',\n",
       " 'BBP_20_2.0',\n",
       " 'BBU_20_2.0',\n",
       " 'CUMLOGRET_1',\n",
       " 'Close_copy',\n",
       " 'Crude Futures',\n",
       " 'EMA_10',\n",
       " 'EMA_20',\n",
       " 'EMA_50',\n",
       " 'FT3',\n",
       " 'FT6',\n",
       " 'FT9',\n",
       " 'GBP USD ',\n",
       " 'Gold in USD',\n",
       " 'MACD_12_26_9',\n",
       " 'MACDh_12_26_9',\n",
       " 'MACDs_12_26_9',\n",
       " 'SMA_10',\n",
       " 'SMA_20',\n",
       " 'SMA_50',\n",
       " 'Volume']"
      ]
     },
     "execution_count": 25,
     "metadata": {},
     "output_type": "execute_result"
    }
   ],
   "source": [
    "target = \"Close\"\n",
    "features = list(df.columns.difference([\"Close\"]))\n",
    "features"
   ]
  },
  {
   "cell_type": "code",
   "execution_count": 26,
   "id": "c0e70f03",
   "metadata": {},
   "outputs": [
    {
     "data": {
      "text/plain": [
       "24"
      ]
     },
     "execution_count": 26,
     "metadata": {},
     "output_type": "execute_result"
    }
   ],
   "source": [
    "len(features)"
   ]
  },
  {
   "cell_type": "markdown",
   "id": "a65613d0",
   "metadata": {},
   "source": [
    "## Data Processing"
   ]
  },
  {
   "cell_type": "code",
   "execution_count": 27,
   "id": "465d24a1",
   "metadata": {},
   "outputs": [],
   "source": [
    "random.seed(42)\n",
    "# close_min=min(df['Close'].values)\n",
    "# close_max=max(df['Close'].values)\n",
    "# normalized_df=(df-df.min())/(df.max()-df.min())"
   ]
  },
  {
   "cell_type": "code",
   "execution_count": 28,
   "id": "ef4088a3",
   "metadata": {},
   "outputs": [],
   "source": [
    "target_mean = df[target].mean()\n",
    "target_stdev = df[target].std()\n",
    "\n",
    "for c in df.columns:\n",
    "    mean = df[c].mean()\n",
    "    stdev = df[c].std()\n",
    "\n",
    "    df[c] = (df[c] - mean) / stdev"
   ]
  },
  {
   "cell_type": "code",
   "execution_count": 29,
   "id": "4737e250",
   "metadata": {},
   "outputs": [
    {
     "data": {
      "text/html": [
       "<div>\n",
       "<style scoped>\n",
       "    .dataframe tbody tr th:only-of-type {\n",
       "        vertical-align: middle;\n",
       "    }\n",
       "\n",
       "    .dataframe tbody tr th {\n",
       "        vertical-align: top;\n",
       "    }\n",
       "\n",
       "    .dataframe thead th {\n",
       "        text-align: right;\n",
       "    }\n",
       "</style>\n",
       "<table border=\"1\" class=\"dataframe\">\n",
       "  <thead>\n",
       "    <tr style=\"text-align: right;\">\n",
       "      <th></th>\n",
       "      <th>Adj Close</th>\n",
       "      <th>BBB_20_2.0</th>\n",
       "      <th>BBL_20_2.0</th>\n",
       "      <th>BBM_20_2.0</th>\n",
       "      <th>BBP_20_2.0</th>\n",
       "      <th>BBU_20_2.0</th>\n",
       "      <th>CUMLOGRET_1</th>\n",
       "      <th>Close</th>\n",
       "      <th>Crude Futures</th>\n",
       "      <th>EMA_10</th>\n",
       "      <th>...</th>\n",
       "      <th>GBP USD</th>\n",
       "      <th>Gold in USD</th>\n",
       "      <th>MACD_12_26_9</th>\n",
       "      <th>MACDh_12_26_9</th>\n",
       "      <th>MACDs_12_26_9</th>\n",
       "      <th>SMA_10</th>\n",
       "      <th>SMA_20</th>\n",
       "      <th>SMA_50</th>\n",
       "      <th>Volume</th>\n",
       "      <th>Close_copy</th>\n",
       "    </tr>\n",
       "  </thead>\n",
       "  <tbody>\n",
       "    <tr>\n",
       "      <th>800</th>\n",
       "      <td>-0.664382</td>\n",
       "      <td>-0.518756</td>\n",
       "      <td>-0.212867</td>\n",
       "      <td>-0.376660</td>\n",
       "      <td>-2.096023</td>\n",
       "      <td>-0.541526</td>\n",
       "      <td>-0.618721</td>\n",
       "      <td>-0.664382</td>\n",
       "      <td>1.732245</td>\n",
       "      <td>-0.477768</td>\n",
       "      <td>...</td>\n",
       "      <td>2.765372</td>\n",
       "      <td>-0.923083</td>\n",
       "      <td>-0.285174</td>\n",
       "      <td>-0.957418</td>\n",
       "      <td>0.029832</td>\n",
       "      <td>-0.442130</td>\n",
       "      <td>-0.376660</td>\n",
       "      <td>-0.460099</td>\n",
       "      <td>0.479939</td>\n",
       "      <td>-0.664382</td>\n",
       "    </tr>\n",
       "    <tr>\n",
       "      <th>801</th>\n",
       "      <td>-0.646763</td>\n",
       "      <td>-0.405198</td>\n",
       "      <td>-0.255201</td>\n",
       "      <td>-0.392525</td>\n",
       "      <td>-1.648446</td>\n",
       "      <td>-0.526270</td>\n",
       "      <td>-0.600796</td>\n",
       "      <td>-0.646763</td>\n",
       "      <td>1.732245</td>\n",
       "      <td>-0.510207</td>\n",
       "      <td>...</td>\n",
       "      <td>2.765372</td>\n",
       "      <td>-0.947383</td>\n",
       "      <td>-0.387140</td>\n",
       "      <td>-1.015113</td>\n",
       "      <td>-0.059456</td>\n",
       "      <td>-0.471115</td>\n",
       "      <td>-0.392525</td>\n",
       "      <td>-0.463963</td>\n",
       "      <td>-0.746811</td>\n",
       "      <td>-0.646763</td>\n",
       "    </tr>\n",
       "    <tr>\n",
       "      <th>802</th>\n",
       "      <td>-0.651849</td>\n",
       "      <td>-0.315221</td>\n",
       "      <td>-0.292326</td>\n",
       "      <td>-0.409164</td>\n",
       "      <td>-1.448674</td>\n",
       "      <td>-0.518568</td>\n",
       "      <td>-0.605967</td>\n",
       "      <td>-0.651849</td>\n",
       "      <td>1.742954</td>\n",
       "      <td>-0.537690</td>\n",
       "      <td>...</td>\n",
       "      <td>2.671345</td>\n",
       "      <td>-0.935746</td>\n",
       "      <td>-0.466173</td>\n",
       "      <td>-1.005142</td>\n",
       "      <td>-0.147868</td>\n",
       "      <td>-0.500101</td>\n",
       "      <td>-0.409164</td>\n",
       "      <td>-0.467120</td>\n",
       "      <td>-0.835320</td>\n",
       "      <td>-0.651849</td>\n",
       "    </tr>\n",
       "    <tr>\n",
       "      <th>803</th>\n",
       "      <td>-0.695260</td>\n",
       "      <td>-0.219031</td>\n",
       "      <td>-0.333231</td>\n",
       "      <td>-0.428391</td>\n",
       "      <td>-1.458203</td>\n",
       "      <td>-0.511942</td>\n",
       "      <td>-0.650199</td>\n",
       "      <td>-0.695260</td>\n",
       "      <td>1.607479</td>\n",
       "      <td>-0.568214</td>\n",
       "      <td>...</td>\n",
       "      <td>2.671345</td>\n",
       "      <td>-0.959704</td>\n",
       "      <td>-0.550693</td>\n",
       "      <td>-1.010594</td>\n",
       "      <td>-0.236759</td>\n",
       "      <td>-0.531275</td>\n",
       "      <td>-0.428391</td>\n",
       "      <td>-0.473782</td>\n",
       "      <td>0.314693</td>\n",
       "      <td>-0.695260</td>\n",
       "    </tr>\n",
       "    <tr>\n",
       "      <th>804</th>\n",
       "      <td>-0.813687</td>\n",
       "      <td>-0.091393</td>\n",
       "      <td>-0.390878</td>\n",
       "      <td>-0.457822</td>\n",
       "      <td>-1.732959</td>\n",
       "      <td>-0.507468</td>\n",
       "      <td>-0.771680</td>\n",
       "      <td>-0.813687</td>\n",
       "      <td>1.580170</td>\n",
       "      <td>-0.615116</td>\n",
       "      <td>...</td>\n",
       "      <td>2.671345</td>\n",
       "      <td>-0.945671</td>\n",
       "      <td>-0.686218</td>\n",
       "      <td>-1.139791</td>\n",
       "      <td>-0.336992</td>\n",
       "      <td>-0.572362</td>\n",
       "      <td>-0.457822</td>\n",
       "      <td>-0.483073</td>\n",
       "      <td>-0.020605</td>\n",
       "      <td>-0.813687</td>\n",
       "    </tr>\n",
       "  </tbody>\n",
       "</table>\n",
       "<p>5 rows × 25 columns</p>\n",
       "</div>"
      ],
      "text/plain": [
       "     Adj Close  BBB_20_2.0  BBL_20_2.0  BBM_20_2.0  BBP_20_2.0  BBU_20_2.0  \\\n",
       "800  -0.664382   -0.518756   -0.212867   -0.376660   -2.096023   -0.541526   \n",
       "801  -0.646763   -0.405198   -0.255201   -0.392525   -1.648446   -0.526270   \n",
       "802  -0.651849   -0.315221   -0.292326   -0.409164   -1.448674   -0.518568   \n",
       "803  -0.695260   -0.219031   -0.333231   -0.428391   -1.458203   -0.511942   \n",
       "804  -0.813687   -0.091393   -0.390878   -0.457822   -1.732959   -0.507468   \n",
       "\n",
       "     CUMLOGRET_1     Close  Crude Futures    EMA_10  ...  GBP USD   \\\n",
       "800    -0.618721 -0.664382       1.732245 -0.477768  ...  2.765372   \n",
       "801    -0.600796 -0.646763       1.732245 -0.510207  ...  2.765372   \n",
       "802    -0.605967 -0.651849       1.742954 -0.537690  ...  2.671345   \n",
       "803    -0.650199 -0.695260       1.607479 -0.568214  ...  2.671345   \n",
       "804    -0.771680 -0.813687       1.580170 -0.615116  ...  2.671345   \n",
       "\n",
       "     Gold in USD  MACD_12_26_9  MACDh_12_26_9  MACDs_12_26_9    SMA_10  \\\n",
       "800    -0.923083     -0.285174      -0.957418       0.029832 -0.442130   \n",
       "801    -0.947383     -0.387140      -1.015113      -0.059456 -0.471115   \n",
       "802    -0.935746     -0.466173      -1.005142      -0.147868 -0.500101   \n",
       "803    -0.959704     -0.550693      -1.010594      -0.236759 -0.531275   \n",
       "804    -0.945671     -0.686218      -1.139791      -0.336992 -0.572362   \n",
       "\n",
       "       SMA_20    SMA_50    Volume  Close_copy  \n",
       "800 -0.376660 -0.460099  0.479939   -0.664382  \n",
       "801 -0.392525 -0.463963 -0.746811   -0.646763  \n",
       "802 -0.409164 -0.467120 -0.835320   -0.651849  \n",
       "803 -0.428391 -0.473782  0.314693   -0.695260  \n",
       "804 -0.457822 -0.483073 -0.020605   -0.813687  \n",
       "\n",
       "[5 rows x 25 columns]"
      ]
     },
     "execution_count": 29,
     "metadata": {},
     "output_type": "execute_result"
    }
   ],
   "source": [
    "df.head()"
   ]
  },
  {
   "cell_type": "code",
   "execution_count": 30,
   "id": "d001b000",
   "metadata": {},
   "outputs": [
    {
     "name": "stdout",
     "output_type": "stream",
     "text": [
      "(460, 20, 24) (460, 20)\n"
     ]
    }
   ],
   "source": [
    "# Data for regression model\n",
    "sequence_length_reg = window_reg =20 # Number of time steps that will be inputted into LSTM network\n",
    "\n",
    "def create_dataset_reg(dataset,target,features, lookback, window):\n",
    "    X_store, y_store = [], []\n",
    "    for i in range(0,len(dataset)-lookback-window,5):\n",
    "        X = (dataset[features].values)[i:i+lookback]\n",
    "        y = (dataset[target].values)[i+lookback-1:i+lookback+window-1]\n",
    "        X_store.append(X)\n",
    "        y_store.append(y)\n",
    "    return X_store,y_store\n",
    "\n",
    "X_reg,y_reg = create_dataset_reg(\n",
    "    df,\n",
    "    target=target,\n",
    "    features=features,\n",
    "    lookback=sequence_length_reg, window=window_reg)\n",
    "\n",
    "print(np.array(X_reg).shape, np.array(y_reg).shape)"
   ]
  },
  {
   "cell_type": "code",
   "execution_count": 31,
   "id": "92c76f7c",
   "metadata": {},
   "outputs": [],
   "source": [
    "indices = tf.range(start=0, limit=tf.shape(X_reg)[0])\n",
    "shuffled_indices = tf.random.shuffle(indices)\n",
    "X_reg = tf.gather(X_reg, shuffled_indices)\n",
    "y_reg = tf.gather(y_reg, shuffled_indices)"
   ]
  },
  {
   "cell_type": "code",
   "execution_count": 32,
   "id": "e72f466f",
   "metadata": {},
   "outputs": [
    {
     "name": "stdout",
     "output_type": "stream",
     "text": [
      "Shape of train is (414, 20, 24) and (414, 20)\n",
      "Shape os test is (46, 20, 24) and (46, 20)\n"
     ]
    }
   ],
   "source": [
    "# Train test split\n",
    "m=np.array(X_reg).shape[0] # get first dimension\n",
    "size=int(m*0.9)\n",
    "X_train_reg=X_reg[:size]\n",
    "y_train_reg=y_reg[:size]\n",
    "X_test_reg=X_reg[size:]\n",
    "y_test_reg=y_reg[size:]\n",
    "print('Shape of train is',np.array(X_train_reg).shape,'and',np.array(y_train_reg).shape)\n",
    "print('Shape os test is',np.array(X_test_reg).shape,'and',np.array(y_test_reg).shape)"
   ]
  },
  {
   "cell_type": "code",
   "execution_count": 33,
   "id": "73e6fcf1",
   "metadata": {},
   "outputs": [
    {
     "name": "stdout",
     "output_type": "stream",
     "text": [
      "(8280, 24)\n",
      "(8280,)\n"
     ]
    }
   ],
   "source": [
    "X_train_reg_=np.array([inner for outer in X_train_reg for inner in outer])\n",
    "print(X_train_reg_.shape)\n",
    "y_train_reg_=np.array([inner for outer in y_train_reg for inner in outer])\n",
    "print(y_train_reg_.shape)"
   ]
  },
  {
   "cell_type": "code",
   "execution_count": 34,
   "id": "9fde5607",
   "metadata": {},
   "outputs": [
    {
     "name": "stdout",
     "output_type": "stream",
     "text": [
      "(920, 24)\n",
      "(920,)\n"
     ]
    }
   ],
   "source": [
    "X_test_reg_=np.array([inner for outer in X_test_reg for inner in outer])\n",
    "print(X_test_reg_.shape)\n",
    "y_test_reg_=np.array([inner for outer in y_test_reg for inner in outer])\n",
    "print(y_test_reg_.shape)"
   ]
  },
  {
   "cell_type": "code",
   "execution_count": 35,
   "id": "13bbfc00",
   "metadata": {},
   "outputs": [],
   "source": [
    "# Prepare check data\n",
    "X_check_reg=(df[features].values)[len(df)-window_reg-sequence_length_reg+1:len(df)- window_reg+1]\n",
    "y_check_reg=(df[target].values)[len(df)-window_reg:len(df)]"
   ]
  },
  {
   "cell_type": "code",
   "execution_count": 36,
   "id": "0cee0167",
   "metadata": {},
   "outputs": [
    {
     "name": "stdout",
     "output_type": "stream",
     "text": [
      "The factors of 8280 are:\n",
      "1\n",
      "2\n",
      "3\n",
      "4\n",
      "5\n",
      "6\n",
      "8\n",
      "9\n",
      "10\n",
      "12\n",
      "15\n",
      "18\n",
      "20\n",
      "23\n",
      "24\n",
      "30\n",
      "36\n",
      "40\n",
      "45\n",
      "46\n",
      "60\n",
      "69\n",
      "72\n",
      "90\n",
      "92\n",
      "115\n",
      "120\n",
      "138\n",
      "180\n",
      "184\n",
      "207\n",
      "230\n",
      "276\n",
      "345\n",
      "360\n",
      "414\n",
      "460\n",
      "552\n",
      "690\n",
      "828\n",
      "920\n",
      "1035\n",
      "1380\n",
      "1656\n",
      "2070\n",
      "2760\n",
      "4140\n",
      "8280\n"
     ]
    }
   ],
   "source": [
    "# Python Program to find the factors of a number\n",
    "\n",
    "# This function computes the factor of the argument passed\n",
    "def print_factors(x):\n",
    "    print(\"The factors of\",x,\"are:\")\n",
    "    for i in range(1, x + 1):\n",
    "        if x % i == 0:\n",
    "            print(i)\n",
    "num = 8280\n",
    "print_factors(num)"
   ]
  },
  {
   "cell_type": "markdown",
   "id": "a09ae8b6",
   "metadata": {},
   "source": [
    "# QNN"
   ]
  },
  {
   "cell_type": "code",
   "execution_count": 44,
   "id": "7df9e0d9",
   "metadata": {},
   "outputs": [],
   "source": [
    "nqubits = 8\n",
    "device = qml.device('default.qubit', wires=nqubits)\n",
    "# Define QNode\n",
    "@qml.qnode(device)\n",
    "def quantum_circuit(inputs, params):\n",
    "    for p1,p2,p3,p4,p5,p6,p7,p8 in zip(params[:4],params[4:8],params[8:12],params[12:16],params[16:20],params[20:24]\n",
    "                                ,params[24:28],params[28:32]):\n",
    "        qml.Rot(*inputs[:3], wires=0)\n",
    "        qml.Rot(*inputs[3:6], wires=1)\n",
    "        qml.Rot(*inputs[6:9], wires=2)\n",
    "        qml.Rot(*inputs[9:12], wires=3)\n",
    "        qml.Rot(*inputs[12:15], wires=4)\n",
    "        qml.Rot(*inputs[15:18], wires=5)\n",
    "        qml.Rot(*inputs[18:21], wires=6)\n",
    "        qml.Rot(*inputs[21:24], wires=7)\n",
    "        qml.Rot(*p1, wires=0)\n",
    "        qml.Rot(*p2, wires=1)\n",
    "        qml.Rot(*p3, wires=2)\n",
    "        qml.Rot(*p4, wires=3)\n",
    "        qml.Rot(*p5, wires=4)\n",
    "        qml.Rot(*p6, wires=5)\n",
    "        qml.Rot(*p7, wires=6)\n",
    "        qml.Rot(*p8, wires=7)\n",
    "        qml.CNOT(wires=[0, 1])\n",
    "        qml.CNOT(wires=[1, 2])\n",
    "        qml.CNOT(wires=[2, 3])\n",
    "        qml.CNOT(wires=[3, 4]) \n",
    "        qml.CNOT(wires=[4, 5])\n",
    "        qml.CNOT(wires=[5, 6]) \n",
    "        qml.CNOT(wires=[6, 7])\n",
    "        qml.CNOT(wires=[7, 0]) \n",
    "    return [qml.expval(qml.PauliZ(0))]"
   ]
  },
  {
   "cell_type": "code",
   "execution_count": 45,
   "id": "6934ef2b",
   "metadata": {},
   "outputs": [],
   "source": [
    "def loss_func(params):\n",
    "    predictions = [np.add(params[32][2],np.multiply(params[32][1],np.add(params[32][0],quantum_circuit(x, params)))) \n",
    "                   for x in X_train_reg_]\n",
    "    predictions=np.array([i for i in predictions])\n",
    "    total_losses=np.mean((y_train_reg_ - predictions) ** 2)\n",
    "    return total_losses"
   ]
  },
  {
   "cell_type": "code",
   "execution_count": 46,
   "id": "c35d15df",
   "metadata": {},
   "outputs": [],
   "source": [
    "def cost_fn(params,**kwargs):\n",
    "    z=kwargs['batch']\n",
    "    predictions = [np.add(params[32][2],np.multiply(params[32][1],np.add(params[32][0],quantum_circuit(x, params)))) \n",
    "                   for x in X_train_reg_[z*batch_size: (z+1)*batch_size]]\n",
    "    predictions=np.array([i for i in predictions])\n",
    "    cost=np.mean((y_train_reg_[z*batch_size: (z+1)*batch_size] - predictions) ** 2)\n",
    "    return cost"
   ]
  },
  {
   "cell_type": "code",
   "execution_count": 47,
   "id": "fef5b12d",
   "metadata": {},
   "outputs": [],
   "source": [
    "opt = qml.AdamOptimizer(stepsize=0.005)\n",
    "\n",
    "params=np.random.normal(-0.05, 0.05, size=(33, 3),requires_grad = True)"
   ]
  },
  {
   "cell_type": "code",
   "execution_count": 48,
   "id": "895003da",
   "metadata": {},
   "outputs": [
    {
     "data": {
      "text/plain": [
       "33"
      ]
     },
     "execution_count": 48,
     "metadata": {},
     "output_type": "execute_result"
    }
   ],
   "source": [
    "len(params)"
   ]
  },
  {
   "cell_type": "code",
   "execution_count": 57,
   "id": "c716dace",
   "metadata": {},
   "outputs": [],
   "source": [
    "batch_size=36 # Batch size\n",
    "batch_list=list(range(0,int(len(X_train_reg_)/batch_size)))"
   ]
  },
  {
   "cell_type": "code",
   "execution_count": 55,
   "id": "3cae9e4e",
   "metadata": {},
   "outputs": [],
   "source": [
    "batch_=list(range(len(batch_list)))"
   ]
  },
  {
   "cell_type": "code",
   "execution_count": null,
   "id": "a909c995",
   "metadata": {},
   "outputs": [
    {
     "name": "stdout",
     "output_type": "stream",
     "text": [
      "Step = 0 Cost = 1.0173695711798056\n",
      "Step = 5 Cost = 1.0360320105252057\n",
      "Step = 10 Cost = 1.0817518623039213\n"
     ]
    }
   ],
   "source": [
    "for i in range (100):\n",
    "    batch_=list(range(len(batch_list)))\n",
    "    while len(batch_)>0:\n",
    "        j= random.choice(batch_)\n",
    "        batch_.remove(j)\n",
    "        params, prev_cost = opt.step_and_cost(cost_fn,params,batch=j)\n",
    "    if i%5==0:\n",
    "        print(f'Step = {i} Cost = {loss_func(params)}')"
   ]
  },
  {
   "cell_type": "code",
   "execution_count": null,
   "id": "b0475dcd",
   "metadata": {},
   "outputs": [],
   "source": [
    "params"
   ]
  },
  {
   "cell_type": "code",
   "execution_count": null,
   "id": "3df32269",
   "metadata": {},
   "outputs": [],
   "source": []
  },
  {
   "cell_type": "code",
   "execution_count": null,
   "id": "e54aa50f",
   "metadata": {},
   "outputs": [],
   "source": [
    "# Make pred for check data\n",
    "def pred_(X,params):\n",
    "    predict_ = [np.add(params[32][2],np.multiply(params[32][1],np.add(params[32][0],quantum_circuit(x, params)))) \n",
    "                for x in X]\n",
    "    return predict_"
   ]
  },
  {
   "cell_type": "code",
   "execution_count": null,
   "id": "840c1baf",
   "metadata": {},
   "outputs": [],
   "source": [
    "def mae_metric(actual, predicted):\n",
    "    sum_error = 0.0\n",
    "    for i in range(len(actual)):\n",
    "        sum_error += abs(predicted[i] - actual[i])\n",
    "    return sum_error/len(actual)\n",
    "\n",
    "def rmse_metric(actual, predicted):\n",
    "    sum_error = 0.0\n",
    "    for i in range(len(actual)):\n",
    "        sum_error += (predicted[i] - actual[i])**2\n",
    "    return (sum_error/len(actual))**0.5"
   ]
  },
  {
   "cell_type": "code",
   "execution_count": null,
   "id": "4c06696f",
   "metadata": {},
   "outputs": [],
   "source": [
    "# Predict the price\n",
    "y_test_pred_ann = pred_(X_test_reg_,params) "
   ]
  },
  {
   "cell_type": "code",
   "execution_count": null,
   "id": "8bc0e45c",
   "metadata": {},
   "outputs": [],
   "source": [
    "y_test_pred_ann_=[]\n",
    "for i in y_test_pred_ann:\n",
    "    y_test_pred_ann_.append(i.numpy())"
   ]
  },
  {
   "cell_type": "code",
   "execution_count": null,
   "id": "acab21f4",
   "metadata": {},
   "outputs": [],
   "source": [
    "mae_test_ann = mae_metric(y_test_reg_* target_stdev + target_mean, np.array(y_test_pred_ann_)* target_stdev + target_mean)\n",
    "print('MAE test: ',mae_test_ann)\n",
    "rmse_test_ann = rmse_metric(y_test_reg_* target_stdev + target_mean, np.array(y_test_pred_ann_)* target_stdev + target_mean)\n",
    "print('RMSE test: ',rmse_test_ann)"
   ]
  },
  {
   "cell_type": "code",
   "execution_count": null,
   "id": "bb59da90",
   "metadata": {},
   "outputs": [],
   "source": [
    "# Predict the model \n",
    "y_check_pred_ann = pred_(X_check_reg,params) "
   ]
  },
  {
   "cell_type": "code",
   "execution_count": null,
   "id": "93a62b0b",
   "metadata": {},
   "outputs": [],
   "source": [
    "y_check_pred_ann_=[]\n",
    "for i in y_check_pred_ann:\n",
    "    y_check_pred_ann_.append(i[0].numpy())"
   ]
  },
  {
   "cell_type": "code",
   "execution_count": null,
   "id": "9677f60e",
   "metadata": {},
   "outputs": [],
   "source": [
    "mae_check_ann = mae_metric(y_check_reg* target_stdev + target_mean , np.array(y_check_pred_ann_)*target_stdev + target_mean)\n",
    "print('MAE test: ',mae_check_ann)\n",
    "rmse_check_ann = rmse_metric(y_check_reg* target_stdev + target_mean, np.array(y_check_pred_ann_)*target_stdev + target_mean)\n",
    "print('RMSE test: ',rmse_check_ann)"
   ]
  },
  {
   "cell_type": "code",
   "execution_count": null,
   "id": "d47d0d29",
   "metadata": {},
   "outputs": [],
   "source": [
    "import matplotlib.pyplot as plt"
   ]
  },
  {
   "cell_type": "code",
   "execution_count": null,
   "id": "283eb32f",
   "metadata": {},
   "outputs": [],
   "source": [
    "plt.figure(figsize=(12, 7))\n",
    "plt.plot(y_check_reg* target_stdev + target_mean, label = \"Real\",marker='o')\n",
    "plt.plot(np.array(y_check_pred_ann_)* target_stdev + target_mean, label = \"Quantum ANN\",marker='^')\n",
    "plt.ylabel('Stock Price')\n",
    "plt.xlabel('Days')\n",
    "plt.legend()\n",
    "plt.show()"
   ]
  },
  {
   "cell_type": "code",
   "execution_count": null,
   "id": "d3dc71fd",
   "metadata": {},
   "outputs": [],
   "source": []
  }
 ],
 "metadata": {
  "kernelspec": {
   "display_name": "Python 3",
   "language": "python",
   "name": "python3"
  },
  "language_info": {
   "codemirror_mode": {
    "name": "ipython",
    "version": 3
   },
   "file_extension": ".py",
   "mimetype": "text/x-python",
   "name": "python",
   "nbconvert_exporter": "python",
   "pygments_lexer": "ipython3",
   "version": "3.8.8"
  }
 },
 "nbformat": 4,
 "nbformat_minor": 5
}
