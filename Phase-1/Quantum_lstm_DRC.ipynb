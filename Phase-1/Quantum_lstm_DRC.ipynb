{
 "cells": [
  {
   "cell_type": "code",
   "execution_count": 68,
   "id": "a33a1f56",
   "metadata": {},
   "outputs": [],
   "source": [
    "import pandas as pd\n",
    "import time\n",
    "import numpy as np\n",
    "import math\n",
    "import matplotlib.pyplot as plt\n",
    "import torch\n",
    "from torch.utils.data import DataLoader\n",
    "from torch import nn\n",
    "import torch\n",
    "from torch import nn\n",
    "from torch.utils.data import Dataset\n",
    "import pennylane as qml\n",
    "import torch.optim as optim\n",
    "import torch.utils.data as data\n",
    "import random"
   ]
  },
  {
   "cell_type": "markdown",
   "id": "696bb7d7",
   "metadata": {},
   "source": [
    "## Brief Outline"
   ]
  },
  {
   "cell_type": "markdown",
   "id": "4e301a55",
   "metadata": {},
   "source": [
    "The notebook will proceed in the following manner:\n",
    "\n",
    "1. Brief description of Data\n",
    "2. Defining QLSTM with DRC and using it to perform stock price prediction\n"
   ]
  },
  {
   "cell_type": "markdown",
   "id": "8dcf2258",
   "metadata": {},
   "source": [
    "## 1. Data"
   ]
  },
  {
   "cell_type": "markdown",
   "id": "3b37e1ea",
   "metadata": {},
   "source": [
    "First, we read in the data, dropping the index and the date."
   ]
  },
  {
   "cell_type": "code",
   "execution_count": 69,
   "id": "31c36071",
   "metadata": {},
   "outputs": [],
   "source": [
    "df = pd.read_csv('dataset_FTSE_prediction_v1.csv')\n",
    "df = df.drop(['Unnamed: 0'], axis=1)\n",
    "df=df.drop(columns=['ARIMA'])\n",
    "df=df[:100]"
   ]
  },
  {
   "cell_type": "markdown",
   "id": "4aaa9b52",
   "metadata": {},
   "source": [
    "We identify the dependent and independent variables:"
   ]
  },
  {
   "cell_type": "code",
   "execution_count": 70,
   "id": "d53abe07",
   "metadata": {},
   "outputs": [],
   "source": [
    "target = \"Close\""
   ]
  },
  {
   "cell_type": "code",
   "execution_count": 71,
   "id": "a8cedb86",
   "metadata": {},
   "outputs": [
    {
     "data": {
      "text/plain": [
       "['Adj Close',\n",
       " 'BBB_20_2.0',\n",
       " 'BBL_20_2.0',\n",
       " 'BBM_20_2.0',\n",
       " 'BBP_20_2.0',\n",
       " 'BBU_20_2.0',\n",
       " 'CUMLOGRET_1',\n",
       " 'Crude Futures',\n",
       " 'EMA_10',\n",
       " 'EMA_20',\n",
       " 'EMA_50',\n",
       " 'FT3',\n",
       " 'FT6',\n",
       " 'FT9',\n",
       " 'GBP USD ',\n",
       " 'Gold in USD',\n",
       " 'MACD_12_26_9',\n",
       " 'MACDh_12_26_9',\n",
       " 'MACDs_12_26_9',\n",
       " 'SMA_10',\n",
       " 'SMA_20',\n",
       " 'SMA_50',\n",
       " 'Volume']"
      ]
     },
     "execution_count": 71,
     "metadata": {},
     "output_type": "execute_result"
    }
   ],
   "source": [
    "features = list(df.columns.difference([\"Close\"]))\n",
    "features"
   ]
  },
  {
   "cell_type": "markdown",
   "id": "a65613d0",
   "metadata": {},
   "source": [
    "## Data Processing"
   ]
  },
  {
   "cell_type": "markdown",
   "id": "0c7baf43",
   "metadata": {},
   "source": [
    "To process the data, we first define few terms"
   ]
  },
  {
   "cell_type": "code",
   "execution_count": 72,
   "id": "465d24a1",
   "metadata": {},
   "outputs": [],
   "source": [
    "sequence_length = window= 14 # Number of time steps that will be inputted into LSTM network and Number of Predicting days \n",
    "batch_size=16 # Number of training instances in the batch\n",
    "torch.manual_seed(101)\n",
    "random.seed(42)"
   ]
  },
  {
   "cell_type": "markdown",
   "id": "dc621071",
   "metadata": {},
   "source": [
    "Next, in order to ensure that some values due to their mangnitude do not inherently dominate the features, we standardize their values."
   ]
  },
  {
   "cell_type": "code",
   "execution_count": 73,
   "id": "bff7d289",
   "metadata": {},
   "outputs": [],
   "source": [
    "target_mean = df[target].mean()\n",
    "target_stdev = df[target].std()\n",
    "\n",
    "for c in df.columns:\n",
    "    mean = df[c].mean()\n",
    "    stdev = df[c].std()\n",
    "\n",
    "    df[c] = (df[c] - mean) / stdev"
   ]
  },
  {
   "cell_type": "code",
   "execution_count": 74,
   "id": "943866a4",
   "metadata": {},
   "outputs": [
    {
     "data": {
      "text/html": [
       "<div>\n",
       "<style scoped>\n",
       "    .dataframe tbody tr th:only-of-type {\n",
       "        vertical-align: middle;\n",
       "    }\n",
       "\n",
       "    .dataframe tbody tr th {\n",
       "        vertical-align: top;\n",
       "    }\n",
       "\n",
       "    .dataframe thead th {\n",
       "        text-align: right;\n",
       "    }\n",
       "</style>\n",
       "<table border=\"1\" class=\"dataframe\">\n",
       "  <thead>\n",
       "    <tr style=\"text-align: right;\">\n",
       "      <th></th>\n",
       "      <th>Adj Close</th>\n",
       "      <th>BBB_20_2.0</th>\n",
       "      <th>BBL_20_2.0</th>\n",
       "      <th>BBM_20_2.0</th>\n",
       "      <th>BBP_20_2.0</th>\n",
       "      <th>BBU_20_2.0</th>\n",
       "      <th>CUMLOGRET_1</th>\n",
       "      <th>Close</th>\n",
       "      <th>Crude Futures</th>\n",
       "      <th>EMA_10</th>\n",
       "      <th>...</th>\n",
       "      <th>FT9</th>\n",
       "      <th>GBP USD</th>\n",
       "      <th>Gold in USD</th>\n",
       "      <th>MACD_12_26_9</th>\n",
       "      <th>MACDh_12_26_9</th>\n",
       "      <th>MACDs_12_26_9</th>\n",
       "      <th>SMA_10</th>\n",
       "      <th>SMA_20</th>\n",
       "      <th>SMA_50</th>\n",
       "      <th>Volume</th>\n",
       "    </tr>\n",
       "  </thead>\n",
       "  <tbody>\n",
       "    <tr>\n",
       "      <th>0</th>\n",
       "      <td>0.012995</td>\n",
       "      <td>-1.729066</td>\n",
       "      <td>-2.049566</td>\n",
       "      <td>-2.052075</td>\n",
       "      <td>-1.415966</td>\n",
       "      <td>-2.052789</td>\n",
       "      <td>0.029243</td>\n",
       "      <td>0.012995</td>\n",
       "      <td>1.411000</td>\n",
       "      <td>-3.152930</td>\n",
       "      <td>...</td>\n",
       "      <td>1.854712</td>\n",
       "      <td>2.592148</td>\n",
       "      <td>1.601011</td>\n",
       "      <td>-0.571786</td>\n",
       "      <td>-0.128520</td>\n",
       "      <td>-0.647478</td>\n",
       "      <td>-3.151745</td>\n",
       "      <td>-2.052075</td>\n",
       "      <td>-1.015015</td>\n",
       "      <td>0.430117</td>\n",
       "    </tr>\n",
       "    <tr>\n",
       "      <th>1</th>\n",
       "      <td>-0.696678</td>\n",
       "      <td>-1.729066</td>\n",
       "      <td>-2.049566</td>\n",
       "      <td>-2.052075</td>\n",
       "      <td>-1.415966</td>\n",
       "      <td>-2.052789</td>\n",
       "      <td>-0.682508</td>\n",
       "      <td>-0.696678</td>\n",
       "      <td>0.828470</td>\n",
       "      <td>-3.152930</td>\n",
       "      <td>...</td>\n",
       "      <td>1.812925</td>\n",
       "      <td>2.161558</td>\n",
       "      <td>2.181198</td>\n",
       "      <td>-0.571786</td>\n",
       "      <td>-0.128520</td>\n",
       "      <td>-0.647478</td>\n",
       "      <td>-3.151745</td>\n",
       "      <td>-2.052075</td>\n",
       "      <td>-1.015015</td>\n",
       "      <td>-0.143354</td>\n",
       "    </tr>\n",
       "    <tr>\n",
       "      <th>2</th>\n",
       "      <td>-1.757546</td>\n",
       "      <td>-1.729066</td>\n",
       "      <td>-2.049566</td>\n",
       "      <td>-2.052075</td>\n",
       "      <td>-1.415966</td>\n",
       "      <td>-2.052789</td>\n",
       "      <td>-1.778908</td>\n",
       "      <td>-1.757546</td>\n",
       "      <td>0.828470</td>\n",
       "      <td>-3.152930</td>\n",
       "      <td>...</td>\n",
       "      <td>1.771162</td>\n",
       "      <td>2.161558</td>\n",
       "      <td>2.181198</td>\n",
       "      <td>-0.571786</td>\n",
       "      <td>-0.128520</td>\n",
       "      <td>-0.647478</td>\n",
       "      <td>-3.151745</td>\n",
       "      <td>-2.052075</td>\n",
       "      <td>-1.015015</td>\n",
       "      <td>-0.276309</td>\n",
       "    </tr>\n",
       "    <tr>\n",
       "      <th>3</th>\n",
       "      <td>-1.453961</td>\n",
       "      <td>-1.729066</td>\n",
       "      <td>-2.049566</td>\n",
       "      <td>-2.052075</td>\n",
       "      <td>-1.415966</td>\n",
       "      <td>-2.052789</td>\n",
       "      <td>-1.461052</td>\n",
       "      <td>-1.453961</td>\n",
       "      <td>0.994908</td>\n",
       "      <td>-3.152930</td>\n",
       "      <td>...</td>\n",
       "      <td>1.729429</td>\n",
       "      <td>1.730969</td>\n",
       "      <td>2.134977</td>\n",
       "      <td>-0.571786</td>\n",
       "      <td>-0.128520</td>\n",
       "      <td>-0.647478</td>\n",
       "      <td>-3.151745</td>\n",
       "      <td>-2.052075</td>\n",
       "      <td>-1.015015</td>\n",
       "      <td>0.319218</td>\n",
       "    </tr>\n",
       "    <tr>\n",
       "      <th>4</th>\n",
       "      <td>-0.547686</td>\n",
       "      <td>-1.729066</td>\n",
       "      <td>-2.049566</td>\n",
       "      <td>-2.052075</td>\n",
       "      <td>-1.415966</td>\n",
       "      <td>-2.052789</td>\n",
       "      <td>-0.531676</td>\n",
       "      <td>-0.547686</td>\n",
       "      <td>1.859786</td>\n",
       "      <td>-3.152930</td>\n",
       "      <td>...</td>\n",
       "      <td>1.687730</td>\n",
       "      <td>0.869790</td>\n",
       "      <td>1.457485</td>\n",
       "      <td>-0.571786</td>\n",
       "      <td>-0.128520</td>\n",
       "      <td>-0.647478</td>\n",
       "      <td>-3.151745</td>\n",
       "      <td>-2.052075</td>\n",
       "      <td>-1.015015</td>\n",
       "      <td>-0.090411</td>\n",
       "    </tr>\n",
       "    <tr>\n",
       "      <th>...</th>\n",
       "      <td>...</td>\n",
       "      <td>...</td>\n",
       "      <td>...</td>\n",
       "      <td>...</td>\n",
       "      <td>...</td>\n",
       "      <td>...</td>\n",
       "      <td>...</td>\n",
       "      <td>...</td>\n",
       "      <td>...</td>\n",
       "      <td>...</td>\n",
       "      <td>...</td>\n",
       "      <td>...</td>\n",
       "      <td>...</td>\n",
       "      <td>...</td>\n",
       "      <td>...</td>\n",
       "      <td>...</td>\n",
       "      <td>...</td>\n",
       "      <td>...</td>\n",
       "      <td>...</td>\n",
       "      <td>...</td>\n",
       "      <td>...</td>\n",
       "    </tr>\n",
       "    <tr>\n",
       "      <th>95</th>\n",
       "      <td>1.378009</td>\n",
       "      <td>0.112913</td>\n",
       "      <td>0.564471</td>\n",
       "      <td>0.549079</td>\n",
       "      <td>0.801435</td>\n",
       "      <td>0.534538</td>\n",
       "      <td>1.352645</td>\n",
       "      <td>1.378009</td>\n",
       "      <td>0.510457</td>\n",
       "      <td>0.451796</td>\n",
       "      <td>...</td>\n",
       "      <td>-1.406991</td>\n",
       "      <td>-1.713745</td>\n",
       "      <td>-0.572560</td>\n",
       "      <td>1.153489</td>\n",
       "      <td>0.379173</td>\n",
       "      <td>1.258185</td>\n",
       "      <td>0.459923</td>\n",
       "      <td>0.549079</td>\n",
       "      <td>0.995527</td>\n",
       "      <td>1.970389</td>\n",
       "    </tr>\n",
       "    <tr>\n",
       "      <th>96</th>\n",
       "      <td>1.233497</td>\n",
       "      <td>0.009253</td>\n",
       "      <td>0.576177</td>\n",
       "      <td>0.554918</td>\n",
       "      <td>0.565190</td>\n",
       "      <td>0.534991</td>\n",
       "      <td>1.215263</td>\n",
       "      <td>1.233497</td>\n",
       "      <td>0.266745</td>\n",
       "      <td>0.452333</td>\n",
       "      <td>...</td>\n",
       "      <td>-1.428371</td>\n",
       "      <td>-1.713745</td>\n",
       "      <td>-0.778119</td>\n",
       "      <td>1.061804</td>\n",
       "      <td>0.130678</td>\n",
       "      <td>1.300059</td>\n",
       "      <td>0.464038</td>\n",
       "      <td>0.554918</td>\n",
       "      <td>0.996330</td>\n",
       "      <td>1.729874</td>\n",
       "    </tr>\n",
       "    <tr>\n",
       "      <th>97</th>\n",
       "      <td>1.350002</td>\n",
       "      <td>-0.159000</td>\n",
       "      <td>0.592577</td>\n",
       "      <td>0.561766</td>\n",
       "      <td>0.669216</td>\n",
       "      <td>0.533074</td>\n",
       "      <td>1.326069</td>\n",
       "      <td>1.350002</td>\n",
       "      <td>0.266745</td>\n",
       "      <td>0.455193</td>\n",
       "      <td>...</td>\n",
       "      <td>-1.449404</td>\n",
       "      <td>-1.713745</td>\n",
       "      <td>-0.778119</td>\n",
       "      <td>1.018244</td>\n",
       "      <td>0.009018</td>\n",
       "      <td>1.322279</td>\n",
       "      <td>0.469485</td>\n",
       "      <td>0.561766</td>\n",
       "      <td>0.997406</td>\n",
       "      <td>-0.715588</td>\n",
       "    </tr>\n",
       "    <tr>\n",
       "      <th>98</th>\n",
       "      <td>1.555007</td>\n",
       "      <td>-0.243888</td>\n",
       "      <td>0.603879</td>\n",
       "      <td>0.568193</td>\n",
       "      <td>0.897878</td>\n",
       "      <td>0.535024</td>\n",
       "      <td>1.520061</td>\n",
       "      <td>1.555007</td>\n",
       "      <td>0.590703</td>\n",
       "      <td>0.461792</td>\n",
       "      <td>...</td>\n",
       "      <td>-1.470087</td>\n",
       "      <td>-1.713745</td>\n",
       "      <td>-0.476471</td>\n",
       "      <td>1.048502</td>\n",
       "      <td>0.030010</td>\n",
       "      <td>1.347889</td>\n",
       "      <td>0.469107</td>\n",
       "      <td>0.568193</td>\n",
       "      <td>0.998336</td>\n",
       "      <td>1.402693</td>\n",
       "    </tr>\n",
       "    <tr>\n",
       "      <th>99</th>\n",
       "      <td>1.602057</td>\n",
       "      <td>-0.434106</td>\n",
       "      <td>0.622095</td>\n",
       "      <td>0.575517</td>\n",
       "      <td>0.949957</td>\n",
       "      <td>0.532353</td>\n",
       "      <td>1.564407</td>\n",
       "      <td>1.602057</td>\n",
       "      <td>0.332131</td>\n",
       "      <td>0.468169</td>\n",
       "      <td>...</td>\n",
       "      <td>-1.490420</td>\n",
       "      <td>-1.713745</td>\n",
       "      <td>-0.424169</td>\n",
       "      <td>1.072679</td>\n",
       "      <td>0.037056</td>\n",
       "      <td>1.374638</td>\n",
       "      <td>0.471277</td>\n",
       "      <td>0.575517</td>\n",
       "      <td>1.000112</td>\n",
       "      <td>-0.263056</td>\n",
       "    </tr>\n",
       "  </tbody>\n",
       "</table>\n",
       "<p>100 rows × 24 columns</p>\n",
       "</div>"
      ],
      "text/plain": [
       "    Adj Close  BBB_20_2.0  BBL_20_2.0  BBM_20_2.0  BBP_20_2.0  BBU_20_2.0  \\\n",
       "0    0.012995   -1.729066   -2.049566   -2.052075   -1.415966   -2.052789   \n",
       "1   -0.696678   -1.729066   -2.049566   -2.052075   -1.415966   -2.052789   \n",
       "2   -1.757546   -1.729066   -2.049566   -2.052075   -1.415966   -2.052789   \n",
       "3   -1.453961   -1.729066   -2.049566   -2.052075   -1.415966   -2.052789   \n",
       "4   -0.547686   -1.729066   -2.049566   -2.052075   -1.415966   -2.052789   \n",
       "..        ...         ...         ...         ...         ...         ...   \n",
       "95   1.378009    0.112913    0.564471    0.549079    0.801435    0.534538   \n",
       "96   1.233497    0.009253    0.576177    0.554918    0.565190    0.534991   \n",
       "97   1.350002   -0.159000    0.592577    0.561766    0.669216    0.533074   \n",
       "98   1.555007   -0.243888    0.603879    0.568193    0.897878    0.535024   \n",
       "99   1.602057   -0.434106    0.622095    0.575517    0.949957    0.532353   \n",
       "\n",
       "    CUMLOGRET_1     Close  Crude Futures    EMA_10  ...       FT9  GBP USD   \\\n",
       "0      0.029243  0.012995       1.411000 -3.152930  ...  1.854712  2.592148   \n",
       "1     -0.682508 -0.696678       0.828470 -3.152930  ...  1.812925  2.161558   \n",
       "2     -1.778908 -1.757546       0.828470 -3.152930  ...  1.771162  2.161558   \n",
       "3     -1.461052 -1.453961       0.994908 -3.152930  ...  1.729429  1.730969   \n",
       "4     -0.531676 -0.547686       1.859786 -3.152930  ...  1.687730  0.869790   \n",
       "..          ...       ...            ...       ...  ...       ...       ...   \n",
       "95     1.352645  1.378009       0.510457  0.451796  ... -1.406991 -1.713745   \n",
       "96     1.215263  1.233497       0.266745  0.452333  ... -1.428371 -1.713745   \n",
       "97     1.326069  1.350002       0.266745  0.455193  ... -1.449404 -1.713745   \n",
       "98     1.520061  1.555007       0.590703  0.461792  ... -1.470087 -1.713745   \n",
       "99     1.564407  1.602057       0.332131  0.468169  ... -1.490420 -1.713745   \n",
       "\n",
       "    Gold in USD  MACD_12_26_9  MACDh_12_26_9  MACDs_12_26_9    SMA_10  \\\n",
       "0      1.601011     -0.571786      -0.128520      -0.647478 -3.151745   \n",
       "1      2.181198     -0.571786      -0.128520      -0.647478 -3.151745   \n",
       "2      2.181198     -0.571786      -0.128520      -0.647478 -3.151745   \n",
       "3      2.134977     -0.571786      -0.128520      -0.647478 -3.151745   \n",
       "4      1.457485     -0.571786      -0.128520      -0.647478 -3.151745   \n",
       "..          ...           ...            ...            ...       ...   \n",
       "95    -0.572560      1.153489       0.379173       1.258185  0.459923   \n",
       "96    -0.778119      1.061804       0.130678       1.300059  0.464038   \n",
       "97    -0.778119      1.018244       0.009018       1.322279  0.469485   \n",
       "98    -0.476471      1.048502       0.030010       1.347889  0.469107   \n",
       "99    -0.424169      1.072679       0.037056       1.374638  0.471277   \n",
       "\n",
       "      SMA_20    SMA_50    Volume  \n",
       "0  -2.052075 -1.015015  0.430117  \n",
       "1  -2.052075 -1.015015 -0.143354  \n",
       "2  -2.052075 -1.015015 -0.276309  \n",
       "3  -2.052075 -1.015015  0.319218  \n",
       "4  -2.052075 -1.015015 -0.090411  \n",
       "..       ...       ...       ...  \n",
       "95  0.549079  0.995527  1.970389  \n",
       "96  0.554918  0.996330  1.729874  \n",
       "97  0.561766  0.997406 -0.715588  \n",
       "98  0.568193  0.998336  1.402693  \n",
       "99  0.575517  1.000112 -0.263056  \n",
       "\n",
       "[100 rows x 24 columns]"
      ]
     },
     "execution_count": 74,
     "metadata": {},
     "output_type": "execute_result"
    }
   ],
   "source": [
    "df"
   ]
  },
  {
   "cell_type": "code",
   "execution_count": 75,
   "id": "d001b000",
   "metadata": {},
   "outputs": [
    {
     "name": "stdout",
     "output_type": "stream",
     "text": [
      "torch.Size([72, 14, 23]) torch.Size([72, 14])\n"
     ]
    }
   ],
   "source": [
    "def create_dataset(dataset,target,features, lookback, window):\n",
    "    X_store, y_store = [], []\n",
    "    for i in range(len(dataset)-lookback-window):\n",
    "        X = (dataset[features].values)[i:i+lookback]\n",
    "        y = (dataset[target].values)[i+lookback-1:i+lookback+window-1]\n",
    "        X_store.append(X)\n",
    "        y_store.append(y)\n",
    "    return torch.FloatTensor(np.array(X_store)), torch.FloatTensor(np.array(y_store))\n",
    "\n",
    "X_ts, y_ts = create_dataset(\n",
    "    df,\n",
    "    target=target,\n",
    "    features=features,\n",
    "    lookback=sequence_length, window=window)\n",
    "\n",
    "print(X_ts.shape, y_ts.shape)"
   ]
  },
  {
   "cell_type": "code",
   "execution_count": 76,
   "id": "448c63c4",
   "metadata": {},
   "outputs": [],
   "source": [
    "indices = torch.randperm(X_ts.size()[0])\n",
    "X_ts=X_ts[indices]\n",
    "y_ts=y_ts[indices]"
   ]
  },
  {
   "cell_type": "code",
   "execution_count": 77,
   "id": "0c7f423c",
   "metadata": {},
   "outputs": [
    {
     "name": "stdout",
     "output_type": "stream",
     "text": [
      "torch.Size([72, 14, 23]) torch.Size([72, 14])\n",
      "torch.Size([72, 14, 23]) torch.Size([72, 14])\n"
     ]
    }
   ],
   "source": [
    "print(X_ts.shape, y_ts.shape)\n",
    "X_ts=torch.FloatTensor(np.array(X_ts))\n",
    "y_ts=torch.FloatTensor(np.array(y_ts))\n",
    "print(X_ts.shape, y_ts.shape)"
   ]
  },
  {
   "cell_type": "code",
   "execution_count": 78,
   "id": "b4abbe45",
   "metadata": {},
   "outputs": [
    {
     "name": "stdout",
     "output_type": "stream",
     "text": [
      "Shape of train is torch.Size([64, 14, 23]) and torch.Size([64, 14])\n",
      "Shape os test is torch.Size([8, 14, 23]) and torch.Size([8, 14])\n"
     ]
    }
   ],
   "source": [
    "# Train test split\n",
    "n=X_ts.shape[0] # get first dimension\n",
    "size=int(n*0.9)\n",
    "X_train_ts=X_ts[:size]\n",
    "y_train_ts=y_ts[:size]\n",
    "X_test_ts=X_ts[size:]\n",
    "y_test_ts=y_ts[size:]\n",
    "print('Shape of train is',X_train_ts.shape,'and',y_train_ts.shape)\n",
    "print('Shape os test is',X_test_ts.shape,'and',y_test_ts.shape)"
   ]
  },
  {
   "cell_type": "code",
   "execution_count": 79,
   "id": "3b50e8e3",
   "metadata": {},
   "outputs": [],
   "source": [
    "train_loader = DataLoader(data.TensorDataset(X_train_ts, y_train_ts), shuffle=True, batch_size=batch_size)\n",
    "test_loader= DataLoader(data.TensorDataset(X_test_ts, y_test_ts), shuffle=True, batch_size=batch_size)"
   ]
  },
  {
   "cell_type": "code",
   "execution_count": 80,
   "id": "ad6c198c",
   "metadata": {},
   "outputs": [
    {
     "data": {
      "text/plain": [
       "torch.Size([1, 14, 23])"
      ]
     },
     "execution_count": 80,
     "metadata": {},
     "output_type": "execute_result"
    }
   ],
   "source": [
    "# The unknown data\n",
    "X_check=(df[features].values)[len(df)-window-sequence_length+1:len(df)- window+1]\n",
    "y_check=(df[target].values)[len(df)-window:len(df)]\n",
    "torch.FloatTensor([X_check]).shape"
   ]
  },
  {
   "cell_type": "code",
   "execution_count": 81,
   "id": "13da5665",
   "metadata": {},
   "outputs": [],
   "source": [
    "# for X, y in train_loader:\n",
    "#     print(X)\n",
    "#     print(y)"
   ]
  },
  {
   "cell_type": "markdown",
   "id": "b15a96e7",
   "metadata": {},
   "source": [
    "## Running DRC"
   ]
  },
  {
   "cell_type": "code",
   "execution_count": 82,
   "id": "17e97ab8",
   "metadata": {},
   "outputs": [],
   "source": [
    "def train_model(data_loader, model, loss_function, optimizer):\n",
    "    num_batches = len(data_loader)\n",
    "    total_loss = 0\n",
    "    model.train()\n",
    "    \n",
    "    for X, y in data_loader:\n",
    "        output = model(X)\n",
    "        loss = loss_function(output, y)\n",
    "\n",
    "        optimizer.zero_grad()\n",
    "        loss.backward()\n",
    "        optimizer.step()\n",
    "\n",
    "        total_loss += loss.item()\n",
    "\n",
    "    avg_loss = total_loss / num_batches\n",
    "    print(f\"Train loss: {avg_loss}\")\n",
    "    return avg_loss\n",
    "\n",
    "def test_model(data_loader, model, loss_function):\n",
    "    \n",
    "    num_batches = len(data_loader)\n",
    "    total_loss = 0\n",
    "\n",
    "    model.eval()\n",
    "    with torch.no_grad():\n",
    "        for X, y in data_loader:\n",
    "            output = model(X)\n",
    "            total_loss += loss_function(output, y).item()\n",
    "\n",
    "    avg_loss = total_loss / num_batches\n",
    "    print(f\"Test loss: {avg_loss}\")\n",
    "    return avg_loss"
   ]
  },
  {
   "cell_type": "code",
   "execution_count": 83,
   "id": "32c8e360",
   "metadata": {},
   "outputs": [],
   "source": [
    "class QLSTM(nn.Module):\n",
    "    def __init__(self, \n",
    "                input_size, \n",
    "                hidden_size, \n",
    "                n_qubits=2,\n",
    "                n_inp_size=18, # Decide the number of input to quantum model\n",
    "                n_qlayers=1,\n",
    "                n_vrotations=3,\n",
    "                batch_first=True,\n",
    "                return_sequences=False, \n",
    "                return_state=False,\n",
    "                backend=\"default.qubit\"):\n",
    "        super(QLSTM, self).__init__()\n",
    "        self.n_inputs = input_size \n",
    "        self.hidden_size = hidden_size\n",
    "        self.n_inp_size=n_inp_size\n",
    "        self.concat_size = self.n_inputs + self.hidden_size\n",
    "        self.n_qubits = n_qubits\n",
    "        self.n_qlayers = n_qlayers\n",
    "        self.n_vrotations = n_vrotations\n",
    "        self.backend = backend  # \"default.qubit\", \"qiskit.basicaer\", \"qiskit.ibm\"\n",
    "\n",
    "        self.batch_first = batch_first\n",
    "        self.return_sequences = return_sequences\n",
    "        self.return_state = return_state\n",
    "        \n",
    "        self.wires_forget = [f\"wire_forget_{i}\" for i in range(self.n_qubits)]\n",
    "        self.wires_input = [f\"wire_input_{i}\" for i in range(self.n_qubits)]\n",
    "        self.wires_update = [f\"wire_update_{i}\" for i in range(self.n_qubits)]\n",
    "        self.wires_output = [f\"wire_output_{i}\" for i in range(self.n_qubits)]\n",
    "\n",
    "        self.dev_forget = qml.device(self.backend, wires=self.wires_forget, shots=None)\n",
    "        self.dev_input = qml.device(self.backend, wires=self.wires_input, shots=None)\n",
    "        self.dev_update = qml.device(self.backend, wires=self.wires_update, shots=None)\n",
    "        self.dev_output = qml.device(self.backend, wires=self.wires_output, shots=None)\n",
    "            \n",
    "        def VQC(inputs, weights, wires_type): # inputs, weights, self.wires_update\n",
    "            inputs_ = [torch.arctan(feature) for feature in inputs]               \n",
    "            for p1,p2,p3,p4,p5,p6 in zip(weights[:4],weights[4:8],weights[8:12],weights[12:16],weights[16:20],weights[20:]):\n",
    "                qml.Rot(*inputs_[:3], wires=wires_type[0])\n",
    "                qml.Rot(*inputs_[3:6], wires=wires_type[1])\n",
    "                qml.Rot(*inputs_[6:9], wires=wires_type[2])\n",
    "                qml.Rot(*inputs_[9:12], wires=wires_type[3])\n",
    "                qml.Rot(*inputs_[12:15], wires=wires_type[4])\n",
    "                qml.Rot(*inputs_[15:], wires=wires_type[5])\n",
    "#                 qml.CNOT(wires=[wires_type[0], wires_type[1]])\n",
    "#                 qml.CNOT(wires=[wires_type[1], wires_type[2]])\n",
    "#                 qml.CNOT(wires=[wires_type[2], wires_type[3]])\n",
    "#                 qml.CNOT(wires=[wires_type[3], wires_type[4]])\n",
    "#                 qml.CNOT(wires=[wires_type[4], wires_type[5]])\n",
    "#                 qml.CNOT(wires=[wires_type[5], wires_type[0]])\n",
    "                qml.Rot(*p1, wires=wires_type[0])\n",
    "                qml.Rot(*p2, wires=wires_type[1])\n",
    "                qml.Rot(*p3, wires=wires_type[2])\n",
    "                qml.Rot(*p4, wires=wires_type[3])\n",
    "                qml.Rot(*p5, wires=wires_type[4])\n",
    "                qml.Rot(*p6, wires=wires_type[5])\n",
    "                qml.CNOT(wires=[wires_type[0], wires_type[1]])\n",
    "                qml.CNOT(wires=[wires_type[1], wires_type[2]])\n",
    "                qml.CNOT(wires=[wires_type[2], wires_type[3]]) \n",
    "                qml.CNOT(wires=[wires_type[3], wires_type[4]])\n",
    "                qml.CNOT(wires=[wires_type[4], wires_type[5]])\n",
    "                qml.CNOT(wires=[wires_type[5], wires_type[0]])\n",
    "                \n",
    "        def _circuit_forget(inputs, weights):\n",
    "            VQC(inputs, weights, self.wires_forget)\n",
    "            return [qml.expval(qml.PauliZ(wires=i)) for i in self.wires_forget]\n",
    "        self.qlayer_forget = qml.QNode(_circuit_forget, self.dev_forget, interface=\"torch\", diff_method='backprop')\n",
    "\n",
    "        def _circuit_input(inputs, weights):\n",
    "            VQC(inputs, weights, self.wires_input)\n",
    "            return [qml.expval(qml.PauliZ(wires=i)) for i in self.wires_input]\n",
    "        self.qlayer_input = qml.QNode(_circuit_input, self.dev_input, interface=\"torch\", diff_method='backprop')\n",
    "\n",
    "        def _circuit_update(inputs, weights):\n",
    "            VQC(inputs, weights, self.wires_update)\n",
    "            return [qml.expval(qml.PauliZ(wires=i)) for i in self.wires_update]\n",
    "        self.qlayer_update = qml.QNode(_circuit_update, self.dev_update, interface=\"torch\", diff_method='backprop')\n",
    "\n",
    "        def _circuit_output(inputs, weights):\n",
    "            VQC(inputs, weights, self.wires_output)\n",
    "            return [qml.expval(qml.PauliZ(wires=i)) for i in self.wires_output]\n",
    "        self.qlayer_output = qml.QNode(_circuit_output, self.dev_output, interface=\"torch\", diff_method='backprop')\n",
    "\n",
    "        weight_shapes = {\"weights\": (self.n_qlayers, self.n_vrotations)}\n",
    "        print(f\"weight_shapes = (n_qlayers, n_vrotations) = ({self.n_qlayers}, {self.n_vrotations})\")\n",
    "\n",
    "        self.clayer_in = torch.nn.Linear(self.concat_size, self.n_inp_size)\n",
    "        self.VQC = {\n",
    "            'forget': qml.qnn.TorchLayer(self.qlayer_forget, weight_shapes),\n",
    "            'input': qml.qnn.TorchLayer(self.qlayer_input, weight_shapes),\n",
    "            'update': qml.qnn.TorchLayer(self.qlayer_update, weight_shapes),\n",
    "            'output': qml.qnn.TorchLayer(self.qlayer_output, weight_shapes)\n",
    "        }\n",
    "        self.clayer_out = torch.nn.Linear(self.n_qubits, self.hidden_size)\n",
    "        #self.clayer_out = [torch.nn.Linear(n_qubits, self.hidden_size) for _ in range(4)]\n",
    "\n",
    "    def forward(self, x, init_states=None):\n",
    "        '''\n",
    "        x.shape is (batch_size, seq_length, feature_size)\n",
    "        recurrent_activation -> sigmoid\n",
    "        activation -> tanh\n",
    "        '''\n",
    "        if self.batch_first is True:\n",
    "            batch_size, seq_length, features_size = x.size()\n",
    "        else:\n",
    "            seq_length, batch_size, features_size = x.size()\n",
    "\n",
    "        hidden_seq = []\n",
    "        if init_states is None:\n",
    "            h_t = torch.zeros(batch_size, self.hidden_size)  # hidden state (output)\n",
    "            c_t = torch.zeros(batch_size, self.hidden_size)  # cell state\n",
    "        else:\n",
    "            # for now we ignore the fact that in PyTorch you can stack multiple RNNs\n",
    "            # so we take only the first elements of the init_states tuple init_states[0][0], init_states[1][0]\n",
    "            h_t, c_t = init_states\n",
    "            h_t = h_t[0]\n",
    "            c_t = c_t[0]\n",
    "\n",
    "        for t in range(seq_length):\n",
    "            # get features from the t-th element in seq, for all entries in the batch\n",
    "            x_t = x[:, t, :]\n",
    "            \n",
    "            # Concatenate input and hidden state\n",
    "            v_t = torch.cat((h_t, x_t), dim=1)\n",
    "\n",
    "            # match qubit dimension\n",
    "            y_t = self.clayer_in(v_t)\n",
    "\n",
    "            f_t = torch.sigmoid(self.clayer_out(self.VQC['forget'](y_t)))  # forget block\n",
    "            i_t = torch.sigmoid(self.clayer_out(self.VQC['input'](y_t)))  # input block\n",
    "            g_t = torch.tanh(self.clayer_out(self.VQC['update'](y_t)))  # update block\n",
    "            o_t = torch.sigmoid(self.clayer_out(self.VQC['output'](y_t))) # output block\n",
    "\n",
    "            c_t = (f_t * c_t) + (i_t * g_t)\n",
    "            h_t = o_t * torch.tanh(c_t)\n",
    "\n",
    "            hidden_seq.append(h_t.unsqueeze(0))\n",
    "        hidden_seq = torch.cat(hidden_seq, dim=0)\n",
    "        hidden_seq = hidden_seq.transpose(0, 1).contiguous()\n",
    "        return hidden_seq, (h_t, c_t)"
   ]
  },
  {
   "cell_type": "code",
   "execution_count": 84,
   "id": "f4f27880",
   "metadata": {},
   "outputs": [],
   "source": [
    "class QShallowRegressionLSTM(nn.Module):\n",
    "    def __init__(self, num_sensors, hidden_units, n_qubits=1, n_qlayers=24): # n_qlayers decide the weights\n",
    "        super().__init__()\n",
    "        self.num_sensors = num_sensors  # this is the number of features\n",
    "        self.hidden_units = hidden_units\n",
    "        self.num_layers = 2\n",
    "\n",
    "        self.lstm = QLSTM(\n",
    "            input_size=num_sensors,\n",
    "            hidden_size=hidden_units,\n",
    "            batch_first=True,\n",
    "            n_qubits = n_qubits,\n",
    "            n_qlayers= n_qlayers\n",
    "        )\n",
    "\n",
    "        self.linear = nn.Linear(in_features=self.hidden_units, out_features=1)\n",
    "\n",
    "    def forward(self, x):\n",
    "        batch_size = x.shape[0]\n",
    "        h0 = torch.zeros(self.num_layers, batch_size, self.hidden_units).requires_grad_()\n",
    "        c0 = torch.zeros(self.num_layers, batch_size, self.hidden_units).requires_grad_()\n",
    "        \n",
    "        out_, (hn, _) = self.lstm(x, (h0, c0))\n",
    "        out = self.linear(out_)  # First dim of Hn is num_layers, which is set to 1 above.\n",
    "\n",
    "        return torch.squeeze(out)"
   ]
  },
  {
   "cell_type": "code",
   "execution_count": 85,
   "id": "5ccb5d61",
   "metadata": {},
   "outputs": [
    {
     "name": "stdout",
     "output_type": "stream",
     "text": [
      "weight_shapes = (n_qlayers, n_vrotations) = (24, 3)\n"
     ]
    }
   ],
   "source": [
    "learning_rate = 0.05\n",
    "num_hidden_units = 100\n",
    "\n",
    "Qmodel = QShallowRegressionLSTM(num_sensors=len(features), hidden_units=num_hidden_units, n_qubits=6)\n",
    "loss_function = nn.MSELoss()\n",
    "optimizer = torch.optim.Adagrad(Qmodel.parameters(), lr=learning_rate)"
   ]
  },
  {
   "cell_type": "code",
   "execution_count": 86,
   "id": "02505957",
   "metadata": {},
   "outputs": [
    {
     "name": "stdout",
     "output_type": "stream",
     "text": [
      "Epoch 0\n",
      "---------\n",
      "Train loss: 0.7099518030881882\n",
      "Test loss: 0.6027649641036987\n",
      "Execution time 475.48799228668213\n"
     ]
    }
   ],
   "source": [
    "quantum_loss_train = []\n",
    "quantum_loss_test = []\n",
    "num_epoch=1\n",
    "for ix_epoch in range(num_epoch):\n",
    "    print(f\"Epoch {ix_epoch}\\n---------\")\n",
    "    start = time.time()\n",
    "    train_loss = train_model(train_loader, Qmodel, loss_function, optimizer=optimizer)\n",
    "    end = time.time()\n",
    "    test_loss = test_model(test_loader, Qmodel, loss_function)\n",
    "    print(\"Execution time\", end - start)\n",
    "    quantum_loss_train.append(train_loss)\n",
    "    quantum_loss_test.append(test_loss)"
   ]
  },
  {
   "cell_type": "code",
   "execution_count": 87,
   "id": "fbc1709f",
   "metadata": {},
   "outputs": [
    {
     "data": {
      "image/png": "[encoded data removed]",
      "text/plain": [
       "<Figure size 576x432 with 1 Axes>"
      ]
     },
     "metadata": {
      "needs_background": "light"
     },
     "output_type": "display_data"
    }
   ],
   "source": [
    "plt.figure(figsize=(8, 6))\n",
    "plt.plot(range(num_epoch), quantum_loss_train, label='train')\n",
    "plt.plot(range(num_epoch), quantum_loss_test, label='test')\n",
    "plt.ylabel('Loss')\n",
    "plt.xlabel('Epoch')\n",
    "plt.legend()\n",
    "plt.show()"
   ]
  },
  {
   "cell_type": "code",
   "execution_count": 88,
   "id": "478ffa72",
   "metadata": {},
   "outputs": [],
   "source": [
    "def predict(data_loader, model):\n",
    "    \"\"\"Just like `test_loop` function but keep track of the outputs instead of the loss\n",
    "    function.\n",
    "    \"\"\"\n",
    "    output = []\n",
    "    model.eval()\n",
    "    with torch.no_grad():\n",
    "        for X, _ in data_loader:\n",
    "            y_star = model(X)\n",
    "            output.append(y_star.numpy())  \n",
    "    return output"
   ]
  },
  {
   "cell_type": "code",
   "execution_count": 89,
   "id": "aec3abbe",
   "metadata": {},
   "outputs": [],
   "source": [
    "# Prepare data to evaluate training accuracy of lstm\n",
    "train_eval_loader = DataLoader(data.TensorDataset(X_train_ts, y_train_ts), shuffle=False, batch_size=batch_size)\n",
    "y_train_pred_qlstm=predict(train_eval_loader, Qmodel)\n",
    "y_train_qlstm=[]\n",
    "for X, y in train_eval_loader:\n",
    "    y_train_qlstm.append(y)\n",
    "# Prepare data to evaluate test accuracy of lstm\n",
    "test_eval_loader = DataLoader(data.TensorDataset(X_test_ts, y_test_ts), shuffle=False, batch_size=batch_size)\n",
    "y_test_pred_qlstm=predict(test_eval_loader, Qmodel)\n",
    "y_test_qlstm=[]\n",
    "for X, y in test_eval_loader:\n",
    "    y_test_qlstm.append(y)"
   ]
  },
  {
   "cell_type": "code",
   "execution_count": 90,
   "id": "1d45f169",
   "metadata": {},
   "outputs": [],
   "source": [
    "from sklearn.metrics import mean_squared_error\n",
    "from sklearn.metrics import mean_absolute_error\n",
    "def cal_metrics(y_true,y_pred):\n",
    "    mae=0\n",
    "    rmse=0\n",
    "    for i in range(len(y_true)):\n",
    "        y1=y_true[i].flatten().numpy()* target_stdev + target_mean\n",
    "        y2=y_pred[i].flatten()* target_stdev + target_mean\n",
    "        mae=mean_absolute_error(y1, y2)+mae\n",
    "        rmse=mean_squared_error(y1, y2, squared=False)+rmse  \n",
    "    return mae/len(y_true) , rmse/len(y_true)"
   ]
  },
  {
   "cell_type": "code",
   "execution_count": 91,
   "id": "32adb12f",
   "metadata": {},
   "outputs": [
    {
     "name": "stdout",
     "output_type": "stream",
     "text": [
      "MAE train error is 98.7656307220459\n",
      "RMSE train error is 139.658353805542\n",
      "MAE test error is 93.40594482421875\n",
      "RMSE test error is 138.60934448242188\n"
     ]
    }
   ],
   "source": [
    "mae_train_qlstm, rmse_train_qlstm= cal_metrics(y_train_qlstm,y_train_pred_qlstm)\n",
    "print('MAE train error is',mae_train_qlstm)\n",
    "print('RMSE train error is',rmse_train_qlstm)\n",
    "mae_test_qlstm, rmse_test_qlstm= cal_metrics(y_test_qlstm,y_test_pred_qlstm)\n",
    "print('MAE test error is',mae_test_qlstm)\n",
    "print('RMSE test error is',rmse_test_qlstm)"
   ]
  },
  {
   "cell_type": "code",
   "execution_count": 92,
   "id": "8d537957",
   "metadata": {},
   "outputs": [
    {
     "name": "stdout",
     "output_type": "stream",
     "text": [
      "MAE check error  :  124.08401227678567\n",
      "RMSE check error :  128.54655779275078\n"
     ]
    }
   ],
   "source": [
    "y_check_pred_qlstm = Qmodel(torch.FloatTensor([X_check]))\n",
    "y_check_pred_qlstm = y_check_pred_qlstm.detach().numpy()\n",
    "\n",
    "mae_check_qlstm = mean_absolute_error(y_check* target_stdev + target_mean,y_check_pred_qlstm* target_stdev + target_mean)\n",
    "print('MAE check error  : ',mae_check_qlstm)\n",
    "rmse_check_qlstm = mean_squared_error(y_check* target_stdev + target_mean,y_check_pred_qlstm* target_stdev + target_mean, squared=False)\n",
    "print('RMSE check error : ',rmse_check_qlstm)"
   ]
  },
  {
   "cell_type": "code",
   "execution_count": 93,
   "id": "d2f5805a",
   "metadata": {},
   "outputs": [
    {
     "data": {
      "image/png": "[encoded data removed]",
      "text/plain": [
       "<Figure size 864x504 with 1 Axes>"
      ]
     },
     "metadata": {
      "needs_background": "light"
     },
     "output_type": "display_data"
    }
   ],
   "source": [
    "plt.figure(figsize=(12, 7))\n",
    "plt.plot(y_check* target_stdev + target_mean, label = \"Real\",marker='o')\n",
    "plt.plot(y_check_pred_qlstm* target_stdev + target_mean, label = \"Quantum ANN\",marker='^')\n",
    "plt.ylabel('Stock Price')\n",
    "plt.xlabel('Days')\n",
    "plt.title(str(window)+'days')\n",
    "plt.legend()\n",
    "plt.show()"
   ]
  },
  {
   "cell_type": "code",
   "execution_count": 94,
   "id": "1ae1e450",
   "metadata": {},
   "outputs": [],
   "source": [
    "save_data=[y_check* target_stdev + target_mean,\n",
    "          y_check_pred_qlstm* target_stdev + target_mean]"
   ]
  },
  {
   "cell_type": "code",
   "execution_count": 95,
   "id": "f277fec8",
   "metadata": {},
   "outputs": [],
   "source": [
    "import csv \n",
    "# name of csv file   \n",
    "filename = \"LSTM_DRC_result_code.csv\"\n",
    "      \n",
    "# writing to csv file   \n",
    "with open(filename, 'w') as csvfile:   \n",
    "    # creating a csv writer object   \n",
    "    csvwriter = csv.writer(csvfile)     \n",
    "          \n",
    "    # writing the data rows   \n",
    "    csvwriter.writerows(save_data)"
   ]
  },
  {
   "cell_type": "code",
   "execution_count": null,
   "id": "f6907ba3",
   "metadata": {},
   "outputs": [],
   "source": []
  },
  {
   "cell_type": "code",
   "execution_count": null,
   "id": "2014698a",
   "metadata": {},
   "outputs": [],
   "source": []
  }
 ],
 "metadata": {
  "kernelspec": {
   "display_name": "Python 3",
   "language": "python",
   "name": "python3"
  },
  "language_info": {
   "codemirror_mode": {
    "name": "ipython",
    "version": 3
   },
   "file_extension": ".py",
   "mimetype": "text/x-python",
   "name": "python",
   "nbconvert_exporter": "python",
   "pygments_lexer": "ipython3",
   "version": "3.8.8"
  }
 },
 "nbformat": 4,
 "nbformat_minor": 5
}
