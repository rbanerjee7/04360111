{
 "cells": [
  {
   "cell_type": "code",
   "execution_count": 1,
   "id": "a33a1f56",
   "metadata": {},
   "outputs": [],
   "source": [
    "# import helper\n",
    "import pandas as pd\n",
    "from utils import *\n",
    "\n",
    "import time\n",
    "import numpy as np\n",
    "import math\n",
    "import matplotlib.pyplot as plt\n",
    "\n",
    "import torch\n",
    "from torch.utils.data import DataLoader\n",
    "from torch import nn\n",
    "\n",
    "from IPython.display import Image\n",
    "\n",
    "import torch\n",
    "from torch import nn\n",
    "from torch.utils.data import Dataset\n",
    "import pennylane as qml\n",
    "import torch.optim as optim\n",
    "import torch.utils.data as data\n",
    "import random\n",
    "import tensorflow as tf"
   ]
  },
  {
   "cell_type": "code",
   "execution_count": 96,
   "id": "e58cbbcb",
   "metadata": {},
   "outputs": [],
   "source": [
    "plt.rcParams[\"font.weight\"] = \"bold\"\n",
    "plt.rcParams[\"axes.labelweight\"] = \"bold\"\n",
    "plt.rcParams.update({'font.size':20})\n",
    "legend_prop = {'weight':'bold'}\n",
    "from pylab import rcParams\n",
    "rcParams['axes.linewidth'] = 2"
   ]
  },
  {
   "cell_type": "markdown",
   "id": "696bb7d7",
   "metadata": {},
   "source": [
    "## Brief Outline"
   ]
  },
  {
   "cell_type": "markdown",
   "id": "4e301a55",
   "metadata": {},
   "source": [
    "The notebook will proceed in the following manner:\n",
    "\n",
    "1. Brief description of Data\n",
    "2. Using Classical LSTM to perform stock price prediction\n",
    "3. Using classical ARIMA to perform stock price prediction\n",
    "4. Using Multiple linear regression to perform stock price prediction "
   ]
  },
  {
   "cell_type": "markdown",
   "id": "8dcf2258",
   "metadata": {},
   "source": [
    "## 1. Data"
   ]
  },
  {
   "cell_type": "markdown",
   "id": "3b37e1ea",
   "metadata": {},
   "source": [
    "First, we read in the data, dropping the index and the date."
   ]
  },
  {
   "cell_type": "code",
   "execution_count": 2,
   "id": "31c36071",
   "metadata": {},
   "outputs": [],
   "source": [
    "df = pd.read_csv('dataset_FTSE_prediction_v1.csv')\n",
    "df = df.drop([ 'Unnamed: 0'], axis=1)\n",
    "df=df.drop(columns=['ARIMA'])"
   ]
  },
  {
   "cell_type": "markdown",
   "id": "4aaa9b52",
   "metadata": {},
   "source": [
    "We identify the dependent and independent variables:"
   ]
  },
  {
   "cell_type": "code",
   "execution_count": 3,
   "id": "d53abe07",
   "metadata": {},
   "outputs": [],
   "source": [
    "target = \"Close\""
   ]
  },
  {
   "cell_type": "code",
   "execution_count": 5,
   "id": "a8cedb86",
   "metadata": {},
   "outputs": [
    {
     "data": {
      "text/plain": [
       "['Adj Close',\n",
       " 'BBB_20_2.0',\n",
       " 'BBL_20_2.0',\n",
       " 'BBM_20_2.0',\n",
       " 'BBP_20_2.0',\n",
       " 'BBU_20_2.0',\n",
       " 'CUMLOGRET_1',\n",
       " 'Close_copy',\n",
       " 'Crude Futures',\n",
       " 'EMA_10',\n",
       " 'EMA_20',\n",
       " 'EMA_50',\n",
       " 'FT3',\n",
       " 'FT6',\n",
       " 'FT9',\n",
       " 'GBP USD ',\n",
       " 'Gold in USD',\n",
       " 'MACD_12_26_9',\n",
       " 'MACDh_12_26_9',\n",
       " 'MACDs_12_26_9',\n",
       " 'SMA_10',\n",
       " 'SMA_20',\n",
       " 'SMA_50',\n",
       " 'Volume']"
      ]
     },
     "execution_count": 5,
     "metadata": {},
     "output_type": "execute_result"
    }
   ],
   "source": [
    "features = list(df.columns.difference([\"Close\"]))\n",
    "features"
   ]
  },
  {
   "cell_type": "markdown",
   "id": "a65613d0",
   "metadata": {},
   "source": [
    "## Data processing for time series model"
   ]
  },
  {
   "cell_type": "markdown",
   "id": "0c7baf43",
   "metadata": {},
   "source": [
    "To process the data, we first define few terms"
   ]
  },
  {
   "cell_type": "code",
   "execution_count": 6,
   "id": "465d24a1",
   "metadata": {},
   "outputs": [],
   "source": [
    "sequence_length = window = 30 # Number of time steps that will be inputted into LSTM network and Number of Predicting days \n",
    "batch_size=16 # Number of training instances in the batch\n",
    "torch.manual_seed(42)\n",
    "random.seed(42)"
   ]
  },
  {
   "cell_type": "markdown",
   "id": "dc621071",
   "metadata": {},
   "source": [
    "Next, in order to ensure that some values due to their mangnitude do not inherently dominate the features, we standardize their values."
   ]
  },
  {
   "cell_type": "code",
   "execution_count": 7,
   "id": "bff7d289",
   "metadata": {},
   "outputs": [],
   "source": [
    "target_mean = df[target].mean()\n",
    "target_stdev = df[target].std()\n",
    "\n",
    "for c in df.columns:\n",
    "    mean = df[c].mean()\n",
    "    stdev = df[c].std()\n",
    "\n",
    "    df[c] = (df[c] - mean) / stdev"
   ]
  },
  {
   "cell_type": "code",
   "execution_count": 8,
   "id": "943866a4",
   "metadata": {},
   "outputs": [
    {
     "data": {
      "text/html": [
       "<div>\n",
       "<style scoped>\n",
       "    .dataframe tbody tr th:only-of-type {\n",
       "        vertical-align: middle;\n",
       "    }\n",
       "\n",
       "    .dataframe tbody tr th {\n",
       "        vertical-align: top;\n",
       "    }\n",
       "\n",
       "    .dataframe thead th {\n",
       "        text-align: right;\n",
       "    }\n",
       "</style>\n",
       "<table border=\"1\" class=\"dataframe\">\n",
       "  <thead>\n",
       "    <tr style=\"text-align: right;\">\n",
       "      <th></th>\n",
       "      <th>Adj Close</th>\n",
       "      <th>BBB_20_2.0</th>\n",
       "      <th>BBL_20_2.0</th>\n",
       "      <th>BBM_20_2.0</th>\n",
       "      <th>BBP_20_2.0</th>\n",
       "      <th>BBU_20_2.0</th>\n",
       "      <th>CUMLOGRET_1</th>\n",
       "      <th>Close</th>\n",
       "      <th>Crude Futures</th>\n",
       "      <th>EMA_10</th>\n",
       "      <th>...</th>\n",
       "      <th>GBP USD</th>\n",
       "      <th>Gold in USD</th>\n",
       "      <th>MACD_12_26_9</th>\n",
       "      <th>MACDh_12_26_9</th>\n",
       "      <th>MACDs_12_26_9</th>\n",
       "      <th>SMA_10</th>\n",
       "      <th>SMA_20</th>\n",
       "      <th>SMA_50</th>\n",
       "      <th>Volume</th>\n",
       "      <th>Close_copy</th>\n",
       "    </tr>\n",
       "  </thead>\n",
       "  <tbody>\n",
       "    <tr>\n",
       "      <th>0</th>\n",
       "      <td>-2.117565</td>\n",
       "      <td>-1.416161</td>\n",
       "      <td>-7.846089</td>\n",
       "      <td>-8.197548</td>\n",
       "      <td>-1.587882</td>\n",
       "      <td>-8.374291</td>\n",
       "      <td>-2.243124</td>\n",
       "      <td>-2.117565</td>\n",
       "      <td>1.500541</td>\n",
       "      <td>-9.214615</td>\n",
       "      <td>...</td>\n",
       "      <td>1.529613</td>\n",
       "      <td>1.234563</td>\n",
       "      <td>-0.077292</td>\n",
       "      <td>0.000882</td>\n",
       "      <td>-0.083523</td>\n",
       "      <td>-9.189175</td>\n",
       "      <td>-8.197548</td>\n",
       "      <td>-6.432481</td>\n",
       "      <td>0.730166</td>\n",
       "      <td>-2.117565</td>\n",
       "    </tr>\n",
       "    <tr>\n",
       "      <th>1</th>\n",
       "      <td>-2.312586</td>\n",
       "      <td>-1.416161</td>\n",
       "      <td>-7.846089</td>\n",
       "      <td>-8.197548</td>\n",
       "      <td>-1.587882</td>\n",
       "      <td>-8.374291</td>\n",
       "      <td>-2.482745</td>\n",
       "      <td>-2.312586</td>\n",
       "      <td>1.423609</td>\n",
       "      <td>-9.214615</td>\n",
       "      <td>...</td>\n",
       "      <td>1.462366</td>\n",
       "      <td>1.411190</td>\n",
       "      <td>-0.077292</td>\n",
       "      <td>0.000882</td>\n",
       "      <td>-0.083523</td>\n",
       "      <td>-9.189175</td>\n",
       "      <td>-8.197548</td>\n",
       "      <td>-6.432481</td>\n",
       "      <td>0.160281</td>\n",
       "      <td>-2.312586</td>\n",
       "    </tr>\n",
       "    <tr>\n",
       "      <th>2</th>\n",
       "      <td>-2.604116</td>\n",
       "      <td>-1.416161</td>\n",
       "      <td>-7.846089</td>\n",
       "      <td>-8.197548</td>\n",
       "      <td>-1.587882</td>\n",
       "      <td>-8.374291</td>\n",
       "      <td>-2.851864</td>\n",
       "      <td>-2.604116</td>\n",
       "      <td>1.423609</td>\n",
       "      <td>-9.214615</td>\n",
       "      <td>...</td>\n",
       "      <td>1.462366</td>\n",
       "      <td>1.411190</td>\n",
       "      <td>-0.077292</td>\n",
       "      <td>0.000882</td>\n",
       "      <td>-0.083523</td>\n",
       "      <td>-9.189175</td>\n",
       "      <td>-8.197548</td>\n",
       "      <td>-6.432481</td>\n",
       "      <td>0.028158</td>\n",
       "      <td>-2.604116</td>\n",
       "    </tr>\n",
       "    <tr>\n",
       "      <th>3</th>\n",
       "      <td>-2.520689</td>\n",
       "      <td>-1.416161</td>\n",
       "      <td>-7.846089</td>\n",
       "      <td>-8.197548</td>\n",
       "      <td>-1.587882</td>\n",
       "      <td>-8.374291</td>\n",
       "      <td>-2.744853</td>\n",
       "      <td>-2.520689</td>\n",
       "      <td>1.445590</td>\n",
       "      <td>-9.214615</td>\n",
       "      <td>...</td>\n",
       "      <td>1.395119</td>\n",
       "      <td>1.397119</td>\n",
       "      <td>-0.077292</td>\n",
       "      <td>0.000882</td>\n",
       "      <td>-0.083523</td>\n",
       "      <td>-9.189175</td>\n",
       "      <td>-8.197548</td>\n",
       "      <td>-6.432481</td>\n",
       "      <td>0.619960</td>\n",
       "      <td>-2.520689</td>\n",
       "    </tr>\n",
       "    <tr>\n",
       "      <th>4</th>\n",
       "      <td>-2.271642</td>\n",
       "      <td>-1.416161</td>\n",
       "      <td>-7.846089</td>\n",
       "      <td>-8.197548</td>\n",
       "      <td>-1.587882</td>\n",
       "      <td>-8.374291</td>\n",
       "      <td>-2.431965</td>\n",
       "      <td>-2.271642</td>\n",
       "      <td>1.559810</td>\n",
       "      <td>-9.214615</td>\n",
       "      <td>...</td>\n",
       "      <td>1.260624</td>\n",
       "      <td>1.190869</td>\n",
       "      <td>-0.077292</td>\n",
       "      <td>0.000882</td>\n",
       "      <td>-0.083523</td>\n",
       "      <td>-9.189175</td>\n",
       "      <td>-8.197548</td>\n",
       "      <td>-6.432481</td>\n",
       "      <td>0.212893</td>\n",
       "      <td>-2.271642</td>\n",
       "    </tr>\n",
       "    <tr>\n",
       "      <th>...</th>\n",
       "      <td>...</td>\n",
       "      <td>...</td>\n",
       "      <td>...</td>\n",
       "      <td>...</td>\n",
       "      <td>...</td>\n",
       "      <td>...</td>\n",
       "      <td>...</td>\n",
       "      <td>...</td>\n",
       "      <td>...</td>\n",
       "      <td>...</td>\n",
       "      <td>...</td>\n",
       "      <td>...</td>\n",
       "      <td>...</td>\n",
       "      <td>...</td>\n",
       "      <td>...</td>\n",
       "      <td>...</td>\n",
       "      <td>...</td>\n",
       "      <td>...</td>\n",
       "      <td>...</td>\n",
       "      <td>...</td>\n",
       "      <td>...</td>\n",
       "    </tr>\n",
       "    <tr>\n",
       "      <th>3134</th>\n",
       "      <td>0.972282</td>\n",
       "      <td>-0.117595</td>\n",
       "      <td>0.764524</td>\n",
       "      <td>0.780643</td>\n",
       "      <td>0.142467</td>\n",
       "      <td>0.779948</td>\n",
       "      <td>0.948611</td>\n",
       "      <td>0.972282</td>\n",
       "      <td>0.570682</td>\n",
       "      <td>0.879767</td>\n",
       "      <td>...</td>\n",
       "      <td>-0.958536</td>\n",
       "      <td>1.575597</td>\n",
       "      <td>-0.350816</td>\n",
       "      <td>0.702786</td>\n",
       "      <td>-0.631190</td>\n",
       "      <td>0.868999</td>\n",
       "      <td>0.780643</td>\n",
       "      <td>0.749319</td>\n",
       "      <td>-1.251617</td>\n",
       "      <td>0.972282</td>\n",
       "    </tr>\n",
       "    <tr>\n",
       "      <th>3135</th>\n",
       "      <td>0.996293</td>\n",
       "      <td>-0.303076</td>\n",
       "      <td>0.786476</td>\n",
       "      <td>0.769910</td>\n",
       "      <td>0.407189</td>\n",
       "      <td>0.736435</td>\n",
       "      <td>0.969864</td>\n",
       "      <td>0.996293</td>\n",
       "      <td>0.543992</td>\n",
       "      <td>0.884342</td>\n",
       "      <td>...</td>\n",
       "      <td>-1.025783</td>\n",
       "      <td>1.573375</td>\n",
       "      <td>-0.305387</td>\n",
       "      <td>0.671263</td>\n",
       "      <td>-0.570851</td>\n",
       "      <td>0.883658</td>\n",
       "      <td>0.769910</td>\n",
       "      <td>0.748743</td>\n",
       "      <td>-1.223489</td>\n",
       "      <td>0.996293</td>\n",
       "    </tr>\n",
       "    <tr>\n",
       "      <th>3136</th>\n",
       "      <td>1.052475</td>\n",
       "      <td>-0.347235</td>\n",
       "      <td>0.791464</td>\n",
       "      <td>0.767120</td>\n",
       "      <td>0.805365</td>\n",
       "      <td>0.725847</td>\n",
       "      <td>1.019417</td>\n",
       "      <td>1.052475</td>\n",
       "      <td>0.572645</td>\n",
       "      <td>0.897109</td>\n",
       "      <td>...</td>\n",
       "      <td>-1.025783</td>\n",
       "      <td>1.576708</td>\n",
       "      <td>-0.221191</td>\n",
       "      <td>0.738941</td>\n",
       "      <td>-0.504421</td>\n",
       "      <td>0.902589</td>\n",
       "      <td>0.767120</td>\n",
       "      <td>0.747719</td>\n",
       "      <td>-0.489123</td>\n",
       "      <td>1.052475</td>\n",
       "    </tr>\n",
       "    <tr>\n",
       "      <th>3137</th>\n",
       "      <td>1.081259</td>\n",
       "      <td>-0.357591</td>\n",
       "      <td>0.792661</td>\n",
       "      <td>0.766495</td>\n",
       "      <td>1.003170</td>\n",
       "      <td>0.723395</td>\n",
       "      <td>1.044711</td>\n",
       "      <td>1.081259</td>\n",
       "      <td>0.572252</td>\n",
       "      <td>0.912179</td>\n",
       "      <td>...</td>\n",
       "      <td>-1.025783</td>\n",
       "      <td>1.594852</td>\n",
       "      <td>-0.130016</td>\n",
       "      <td>0.809806</td>\n",
       "      <td>-0.431612</td>\n",
       "      <td>0.924056</td>\n",
       "      <td>0.766495</td>\n",
       "      <td>0.747135</td>\n",
       "      <td>-0.800152</td>\n",
       "      <td>1.081259</td>\n",
       "    </tr>\n",
       "    <tr>\n",
       "      <th>3138</th>\n",
       "      <td>1.081259</td>\n",
       "      <td>-0.308976</td>\n",
       "      <td>0.790481</td>\n",
       "      <td>0.773004</td>\n",
       "      <td>0.904779</td>\n",
       "      <td>0.738542</td>\n",
       "      <td>1.044711</td>\n",
       "      <td>1.081259</td>\n",
       "      <td>0.572252</td>\n",
       "      <td>0.924509</td>\n",
       "      <td>...</td>\n",
       "      <td>-1.025783</td>\n",
       "      <td>1.594852</td>\n",
       "      <td>-0.057981</td>\n",
       "      <td>0.820632</td>\n",
       "      <td>-0.357829</td>\n",
       "      <td>0.928382</td>\n",
       "      <td>0.773004</td>\n",
       "      <td>0.746696</td>\n",
       "      <td>-0.800152</td>\n",
       "      <td>1.081259</td>\n",
       "    </tr>\n",
       "  </tbody>\n",
       "</table>\n",
       "<p>3139 rows × 25 columns</p>\n",
       "</div>"
      ],
      "text/plain": [
       "      Adj Close  BBB_20_2.0  BBL_20_2.0  BBM_20_2.0  BBP_20_2.0  BBU_20_2.0  \\\n",
       "0     -2.117565   -1.416161   -7.846089   -8.197548   -1.587882   -8.374291   \n",
       "1     -2.312586   -1.416161   -7.846089   -8.197548   -1.587882   -8.374291   \n",
       "2     -2.604116   -1.416161   -7.846089   -8.197548   -1.587882   -8.374291   \n",
       "3     -2.520689   -1.416161   -7.846089   -8.197548   -1.587882   -8.374291   \n",
       "4     -2.271642   -1.416161   -7.846089   -8.197548   -1.587882   -8.374291   \n",
       "...         ...         ...         ...         ...         ...         ...   \n",
       "3134   0.972282   -0.117595    0.764524    0.780643    0.142467    0.779948   \n",
       "3135   0.996293   -0.303076    0.786476    0.769910    0.407189    0.736435   \n",
       "3136   1.052475   -0.347235    0.791464    0.767120    0.805365    0.725847   \n",
       "3137   1.081259   -0.357591    0.792661    0.766495    1.003170    0.723395   \n",
       "3138   1.081259   -0.308976    0.790481    0.773004    0.904779    0.738542   \n",
       "\n",
       "      CUMLOGRET_1     Close  Crude Futures    EMA_10  ...  GBP USD   \\\n",
       "0       -2.243124 -2.117565       1.500541 -9.214615  ...  1.529613   \n",
       "1       -2.482745 -2.312586       1.423609 -9.214615  ...  1.462366   \n",
       "2       -2.851864 -2.604116       1.423609 -9.214615  ...  1.462366   \n",
       "3       -2.744853 -2.520689       1.445590 -9.214615  ...  1.395119   \n",
       "4       -2.431965 -2.271642       1.559810 -9.214615  ...  1.260624   \n",
       "...           ...       ...            ...       ...  ...       ...   \n",
       "3134     0.948611  0.972282       0.570682  0.879767  ... -0.958536   \n",
       "3135     0.969864  0.996293       0.543992  0.884342  ... -1.025783   \n",
       "3136     1.019417  1.052475       0.572645  0.897109  ... -1.025783   \n",
       "3137     1.044711  1.081259       0.572252  0.912179  ... -1.025783   \n",
       "3138     1.044711  1.081259       0.572252  0.924509  ... -1.025783   \n",
       "\n",
       "      Gold in USD  MACD_12_26_9  MACDh_12_26_9  MACDs_12_26_9    SMA_10  \\\n",
       "0        1.234563     -0.077292       0.000882      -0.083523 -9.189175   \n",
       "1        1.411190     -0.077292       0.000882      -0.083523 -9.189175   \n",
       "2        1.411190     -0.077292       0.000882      -0.083523 -9.189175   \n",
       "3        1.397119     -0.077292       0.000882      -0.083523 -9.189175   \n",
       "4        1.190869     -0.077292       0.000882      -0.083523 -9.189175   \n",
       "...           ...           ...            ...            ...       ...   \n",
       "3134     1.575597     -0.350816       0.702786      -0.631190  0.868999   \n",
       "3135     1.573375     -0.305387       0.671263      -0.570851  0.883658   \n",
       "3136     1.576708     -0.221191       0.738941      -0.504421  0.902589   \n",
       "3137     1.594852     -0.130016       0.809806      -0.431612  0.924056   \n",
       "3138     1.594852     -0.057981       0.820632      -0.357829  0.928382   \n",
       "\n",
       "        SMA_20    SMA_50    Volume  Close_copy  \n",
       "0    -8.197548 -6.432481  0.730166   -2.117565  \n",
       "1    -8.197548 -6.432481  0.160281   -2.312586  \n",
       "2    -8.197548 -6.432481  0.028158   -2.604116  \n",
       "3    -8.197548 -6.432481  0.619960   -2.520689  \n",
       "4    -8.197548 -6.432481  0.212893   -2.271642  \n",
       "...        ...       ...       ...         ...  \n",
       "3134  0.780643  0.749319 -1.251617    0.972282  \n",
       "3135  0.769910  0.748743 -1.223489    0.996293  \n",
       "3136  0.767120  0.747719 -0.489123    1.052475  \n",
       "3137  0.766495  0.747135 -0.800152    1.081259  \n",
       "3138  0.773004  0.746696 -0.800152    1.081259  \n",
       "\n",
       "[3139 rows x 25 columns]"
      ]
     },
     "execution_count": 8,
     "metadata": {},
     "output_type": "execute_result"
    }
   ],
   "source": [
    "df"
   ]
  },
  {
   "cell_type": "markdown",
   "id": "c9d23113",
   "metadata": {},
   "source": [
    "The last step in the data processing is to prepare the data in a sequence of past observations. Preparation of the time series data means that it uses a certain number of past observations to predict the future. In this case, the sequence length decides how many days the LSTM considers in advance and window decides how many days we want to predict for. If the sequence length is $n$ and window is $w$, then the LSTM considers the last $n$ observations to predict the next $w$ day price."
   ]
  },
  {
   "cell_type": "code",
   "execution_count": 9,
   "id": "d001b000",
   "metadata": {},
   "outputs": [
    {
     "name": "stdout",
     "output_type": "stream",
     "text": [
      "torch.Size([3079, 30, 24]) torch.Size([3079, 30])\n"
     ]
    }
   ],
   "source": [
    "def create_dataset(dataset,target,features, lookback, window):\n",
    "    X_store, y_store = [], []\n",
    "    for i in range(len(dataset)-lookback-window):\n",
    "        X = (dataset[features].values)[i:i+lookback]\n",
    "        y = (dataset[target].values)[i+lookback-1:i+lookback+window-1]\n",
    "        X_store.append(X)\n",
    "        y_store.append(y)\n",
    "    return torch.FloatTensor(np.array(X_store)), torch.FloatTensor(np.array(y_store))\n",
    "\n",
    "X_ts, y_ts = create_dataset(\n",
    "    df,\n",
    "    target=target,\n",
    "    features=features,\n",
    "    lookback=sequence_length, window=window)\n",
    "\n",
    "print(X_ts.shape, y_ts.shape)"
   ]
  },
  {
   "cell_type": "code",
   "execution_count": 10,
   "id": "26f32573",
   "metadata": {},
   "outputs": [],
   "source": [
    "indices = tf.range(start=0, limit=tf.shape(X_ts)[0])\n",
    "shuffled_indices = tf.random.shuffle(indices)"
   ]
  },
  {
   "cell_type": "code",
   "execution_count": 11,
   "id": "1eb8e292",
   "metadata": {},
   "outputs": [
    {
     "name": "stdout",
     "output_type": "stream",
     "text": [
      "(3079, 30, 24) (3079, 30)\n",
      "torch.Size([3079, 30, 24]) torch.Size([3079, 30])\n"
     ]
    }
   ],
   "source": [
    "X_ts = tf.gather(X_ts, shuffled_indices)\n",
    "y_ts = tf.gather(y_ts, shuffled_indices)\n",
    "print(X_ts.shape, y_ts.shape)\n",
    "X_ts=torch.FloatTensor(np.array(X_ts))\n",
    "y_ts=torch.FloatTensor(np.array(y_ts))\n",
    "print(X_ts.shape, y_ts.shape)"
   ]
  },
  {
   "cell_type": "code",
   "execution_count": 12,
   "id": "916353cc",
   "metadata": {
    "scrolled": true
   },
   "outputs": [
    {
     "name": "stdout",
     "output_type": "stream",
     "text": [
      "Shape of train is torch.Size([2771, 30, 24]) and torch.Size([2771, 30])\n",
      "Shape os test is torch.Size([308, 30, 24]) and torch.Size([308, 30])\n"
     ]
    }
   ],
   "source": [
    "# Train test split\n",
    "n=X_ts.shape[0] # get first dimension\n",
    "size=int(n*0.9)\n",
    "X_train_ts=X_ts[:size]\n",
    "y_train_ts=y_ts[:size]\n",
    "X_test_ts=X_ts[size:]\n",
    "y_test_ts=y_ts[size:]\n",
    "print('Shape of train is',X_train_ts.shape,'and',y_train_ts.shape)\n",
    "print('Shape os test is',X_test_ts.shape,'and',y_test_ts.shape)"
   ]
  },
  {
   "cell_type": "code",
   "execution_count": 13,
   "id": "0c7f423c",
   "metadata": {},
   "outputs": [],
   "source": [
    "train_loader = DataLoader(data.TensorDataset(X_train_ts, y_train_ts), shuffle=True, batch_size=batch_size)\n",
    "test_loader= DataLoader(data.TensorDataset(X_test_ts, y_test_ts), shuffle=True, batch_size=batch_size)"
   ]
  },
  {
   "cell_type": "code",
   "execution_count": 14,
   "id": "c2083a85",
   "metadata": {},
   "outputs": [
    {
     "name": "stderr",
     "output_type": "stream",
     "text": [
      "<ipython-input-14-65eb19419169>:4: UserWarning: Creating a tensor from a list of numpy.ndarrays is extremely slow. Please consider converting the list to a single numpy.ndarray with numpy.array() before converting to a tensor. (Triggered internally at  ..\\torch\\csrc\\utils\\tensor_new.cpp:201.)\n",
      "  torch.FloatTensor([X_check]).shape\n"
     ]
    },
    {
     "data": {
      "text/plain": [
       "torch.Size([1, 30, 24])"
      ]
     },
     "execution_count": 14,
     "metadata": {},
     "output_type": "execute_result"
    }
   ],
   "source": [
    "# The unknown data\n",
    "X_check=(df[features].values)[len(df)-window-sequence_length+1:len(df)- window+1]\n",
    "y_check=(df[target].values)[len(df)-window:len(df)]\n",
    "torch.FloatTensor([X_check]).shape"
   ]
  },
  {
   "cell_type": "code",
   "execution_count": 15,
   "id": "fe0b327d",
   "metadata": {},
   "outputs": [
    {
     "data": {
      "text/plain": [
       "array([[ 1.08910894, -0.72207635,  1.08204197,  0.99933972, -1.20771297,\n",
       "         0.89406971,  1.05159877,  1.08910894, -0.07539102,  1.08607964,\n",
       "         1.02806264,  0.92689584, -0.0203494 ,  0.24239476,  0.68138609,\n",
       "        -0.82404156,  1.5556016 , -0.63029335, -0.01196808, -0.67524222,\n",
       "         1.09284983,  0.99933972,  0.97500514, -0.38975293],\n",
       "       [ 1.02738588, -0.65796763,  1.0608889 ,  0.98931125, -1.53972768,\n",
       "         0.89549633,  0.99731787,  1.02738588, -0.08677384,  1.05813739,\n",
       "         1.01203695,  0.91957167, -0.02763145,  0.2301629 ,  0.66453088,\n",
       "        -0.89128884,  1.57929994, -0.73802892, -0.26755709, -0.69940345,\n",
       "         1.07922104,  0.98931125,  0.96712673, -0.60155586],\n",
       "       [ 1.01461028, -0.60403668,  1.04108375,  0.97877923, -1.43903188,\n",
       "         0.89456019,  0.98604624,  1.01461028, -0.07382097,  1.03322342,\n",
       "         0.99657464,  0.91222086, -0.03491967,  0.2178975 ,  0.64756148,\n",
       "        -0.89128884,  1.59633313, -0.82536866, -0.42315524, -0.73756953,\n",
       "         1.06334111,  0.97877923,  0.95894278,  0.26044701],\n",
       "       [ 1.02677019, -0.55829554,  1.02938929,  0.97510273, -1.23687306,\n",
       "         0.89906263,  0.99677495,  1.02677019, -0.1491831 ,  1.01479249,\n",
       "         0.9835014 ,  0.90545706, -0.04221386,  0.20559911,  0.63047964,\n",
       "        -0.89128884,  1.56041533, -0.87531501, -0.45803069, -0.77887463,\n",
       "         1.04526431,  0.97510273,  0.9503361 , -0.40117105],\n",
       "       [ 1.08680009, -0.61032982,  1.04183893,  0.97840308, -0.85333058,\n",
       "         0.89304947,  1.04957355,  1.08680009, -0.07970864,  1.00935517,\n",
       "         0.97619762,  0.90043331, -0.04951384,  0.19326832,  0.61328713,\n",
       "        -0.89128884,  1.55412045, -0.85619701, -0.32043715, -0.80779541,\n",
       "         1.03140498,  0.97840308,  0.94268251, -0.52150106],\n",
       "       [ 1.04247032, -0.59356359,  1.03776379,  0.97727465, -1.18245577,\n",
       "         0.89492206,  1.01061041,  1.04247032, -0.06754079,  0.99778581,\n",
       "         0.96624835,  0.89451749, -0.05681944,  0.18090568,  0.59598572,\n",
       "        -0.95853612,  1.54264157, -0.86864154, -0.28599332, -0.83361602,\n",
       "         1.01016847,  0.97727465,  0.93440249, -0.64695815],\n",
       "       [ 1.13451617, -0.60136739,  1.0346983 ,  0.97267599, -0.39862143,\n",
       "         0.88887475,  1.09134619,  1.13451617, -0.04556017,  1.00310518,\n",
       "         0.964184  ,  0.89109502, -0.06413047,  0.16851178,  0.57857724,\n",
       "        -0.95853612,  1.58670568, -0.79400158, -0.04976398, -0.83817446,\n",
       "         0.99508865,  0.97267599,  0.92705058, -0.19498893],\n",
       "       [ 1.12805141, -0.60728198,  1.03147789,  0.96826541, -0.40829151,\n",
       "         0.88335787,  1.08569675,  1.12805141, -0.05537295,  1.00641896,\n",
       "         0.96182902,  0.88764793, -0.07144674,  0.1560872 ,  0.5610635 ,\n",
       "        -0.89128884,  1.5889274 , -0.73264901,  0.10737987, -0.82858892,\n",
       "         0.98678932,  0.96826541,  0.91965448, -0.93121672],\n",
       "       [ 1.11635328, -0.63453028,  1.02994654,  0.96168896, -0.44873117,\n",
       "         0.87182836,  1.07546594,  1.11635328, -0.05537295,  1.00725118,\n",
       "         0.95881666,  0.88404864, -0.07876807,  0.1436325 ,  0.54344635,\n",
       "        -0.89128884,  1.5889274 , -0.68669132,  0.19620531, -0.81100852,\n",
       "         0.98006307,  0.96168896,  0.91251779, -0.43800777],\n",
       "       [ 0.99690916, -0.61098208,  1.01505831,  0.95063519, -1.30675243,\n",
       "         0.86488818,  0.97040816,  0.99690916,  0.02312927,  0.98874594,\n",
       "         0.94708883,  0.87765601, -0.08609428,  0.1311483 ,  0.52572766,\n",
       "        -0.89128884,  1.58115138, -0.74154666,  0.0256947 , -0.80877519,\n",
       "         0.96418315,  0.95063519,  0.90462977, -0.06125793],\n",
       "       [ 0.74816986, -0.32867363,  0.94633963,  0.93126986, -2.35847296,\n",
       "         0.89579609,  0.74806656,  0.74816986,  0.01802663,  0.93365063,\n",
       "         0.9177308 ,  0.8654031 , -0.09342519,  0.11863516,  0.5079093 ,\n",
       "        -0.89128884,  1.54079014, -0.98063475, -0.55217742, -0.8585541 ,\n",
       "         0.93414555,  0.93126986,  0.89404003, -0.13843722],\n",
       "       [ 0.71184407, -0.08156777,  0.88484615,  0.91273569, -2.00277111,\n",
       "         0.92105842,  0.71518351,  0.71184407,  0.09456629,  0.88273769,\n",
       "         0.88843094,  0.85273826, -0.1007606 ,  0.1060937 ,  0.48999319,\n",
       "        -0.89128884,  1.60559029, -1.18740535, -0.93703503, -0.9429727 ,\n",
       "         0.90634552,  0.91273569,  0.88224739, -1.07873407],\n",
       "       [ 0.73785703,  0.07269161,  0.84039331,  0.89472326, -1.58702792,\n",
       "         0.93014532,  0.73874196,  0.73785703,  0.06395042,  0.84526007,\n",
       "         0.8638821 ,  0.84120915, -0.10810035,  0.09352449,  0.47198123,\n",
       "        -0.82404156,  1.60114686, -1.31545353, -1.0562843 , -1.03812452,\n",
       "         0.88196286,  0.89472326,  0.87077949, -1.3294597 ],\n",
       "       [ 0.75124832,  0.16383976,  0.80625948,  0.87577654, -1.34413286,\n",
       "         0.92695122,  0.75084835,  0.75124832,  0.13106982,  0.81674758,\n",
       "         0.84268054,  0.83046116, -0.11544423,  0.08092816,  0.45387536,\n",
       "        -0.75679429,  1.62447491, -1.39070063, -1.0251603 , -1.13047497,\n",
       "         0.85768868,  0.87577654,  0.86135422,  0.03392971],\n",
       "       [ 0.95688922,  0.12578349,  0.80214966,  0.86445584, -0.42161559,\n",
       "         0.90859293,  0.93496324,  0.95688922,  0.15893811,  0.82645101,\n",
       "         0.83899705,  0.82518681, -0.12279208,  0.0683053 ,  0.43567754,\n",
       "        -0.75679429,  1.71667628, -1.26629829, -0.52185556, -1.17752472,\n",
       "         0.84624321,  0.86445584,  0.85420024,  0.8012703 ],\n",
       "       [ 0.99398462,  0.04601077,  0.80525564,  0.85304412, -0.20467047,\n",
       "         0.88276498,  0.96782215,  0.99398462,  0.208002  ,  0.84034877,\n",
       "         0.8384602 ,  0.82103064, -0.1301437 ,  0.05565652,  0.41738974,\n",
       "        -0.68954701,  1.72778488, -1.12490657, -0.07850138, -1.18466971,\n",
       "         0.8419715 ,  0.85304412,  0.84915805, -0.74061489],\n",
       "       [ 0.98536495, -0.06854087,  0.81325827,  0.84041904, -0.17934455,\n",
       "         0.84957827,  0.96019639,  0.98536495,  0.14951784,  0.85033509,\n",
       "         0.83732483,  0.81682569, -0.13749891,  0.04298243,  0.39901393,\n",
       "        -0.62229974,  1.73111746, -1.00924918,  0.21451666, -1.16544116,\n",
       "         0.8288309 ,  0.84041904,  0.84255172, -0.60543617],\n",
       "       [ 0.94195871, -0.13568783,  0.81442394,  0.82937134, -0.33946747,\n",
       "         0.82643402,  0.92170772,  0.94195871,  0.09574382,  0.85153343,\n",
       "         0.83302611,  0.81171925, -0.14485752,  0.03028366,  0.38055212,\n",
       "        -0.62229974,  1.70260539, -0.94355702,  0.32920305, -1.1358901 ,\n",
       "         0.81243566,  0.82937134,  0.8354035 , -1.28562481],\n",
       "       [ 1.01476421, -0.19928797,  0.81881657,  0.82235808,  0.09806661,\n",
       "         0.80805211,  0.98618212,  1.01476421,  0.14009758,  0.86420854,\n",
       "         0.83462406,  0.80860173, -0.15221936,  0.01756081,  0.36200634,\n",
       "        -0.62229974,  1.79443647, -0.82260006,  0.55337916, -1.08616173,\n",
       "         0.8034854 ,  0.82235808,  0.82943896, -1.19172308],\n",
       "       [ 1.22179042, -0.16897059,  0.81520433,  0.82411747,  1.19855702,\n",
       "         0.81519914,  1.16730679,  1.22179042,  0.13342489,  0.90783343,\n",
       "         0.8516731 ,  0.81069263, -0.15958424,  0.00481451,  0.3433786 ,\n",
       "        -0.68954701,  1.79554733, -0.54981632,  1.09653163, -0.9875461 ,\n",
       "         0.82329801,  0.82411747,  0.82649705,  0.40322001],\n",
       "       [ 1.31091174, -0.03227091,  0.79966607,  0.83285977,  1.45095126,\n",
       "         0.84827728,  1.24429152,  1.31091174,  0.14049009,  0.95784196,\n",
       "         0.87381539,  0.81489106, -0.16695197, -0.00795461,  0.32467097,\n",
       "        -0.75679429,  1.76148096, -0.25773499,  1.57729498, -0.84565865,\n",
       "         0.87287699,  0.83285977,  0.82487332, -0.54112122],\n",
       "       [ 1.33800216,  0.11418422,  0.7857135 ,  0.84510264,  1.35409131,\n",
       "         0.88671408,  1.26757725,  1.33800216,  0.19661918,  1.00310953,\n",
       "         0.89589065,  0.81959039, -0.17432237, -0.02074592,  0.30588549,\n",
       "        -0.75679429,  1.7466695 , -0.00465704,  1.86844472, -0.67756582,\n",
       "         0.92804311,  0.84510264,  0.82312662, -1.03259757],\n",
       "       [ 1.36093666,  0.25249447,  0.77446094,  0.85875301,  1.25652651,\n",
       "         0.92522221,  1.28724897,  1.36093666,  0.26216853,  1.04383056,\n",
       "         0.91759205,  0.82466889, -0.18169525, -0.03355879,  0.28702424,\n",
       "        -0.75679429,  1.73185803,  0.21157557,  2.01307467, -0.49645536,\n",
       "         0.982938  ,  0.85875301,  0.82122235, -0.97661449],\n",
       "       [ 1.38125447,  0.3813326 ,  0.76510595,  0.87272493,  1.16909893,\n",
       "         0.96245294,  1.3046444 ,  1.38125447,  0.29749453,  1.0804114 ,\n",
       "         0.93875798,  0.83004739, -0.18907044, -0.04639259,  0.26808932,\n",
       "        -0.82404156,  1.73852319,  0.39433388,  2.04856659, -0.31215039,\n",
       "         1.03844313,  0.87272493,  0.82008287, -1.26689392],\n",
       "       [ 1.35831997,  0.47521006,  0.75873948,  0.88342682,  0.97712385,\n",
       "         0.99016296,  1.28500647,  1.35831997,  0.26923373,  1.10665724,\n",
       "         0.95617956,  0.83465152, -0.19644774, -0.05924667,  0.24908283,\n",
       "        -0.75679429,  1.76370268,  0.51336603,  1.92425771, -0.13903403,\n",
       "         1.0738102 ,  0.88342682,  0.81919318,  0.09791312],\n",
       "       [ 1.3827937 ,  0.56941897,  0.75484037,  0.89684059,  0.95096495,\n",
       "         1.02077287,  1.30596102,  1.3827937 ,  0.3210452 ,  1.13206229,\n",
       "         0.97378649,  0.83967636, -0.20382698, -0.0721204 ,  0.23000688,\n",
       "        -0.75679429,  1.67668533,  0.61993399,  1.7949436 ,  0.02244322,\n",
       "         1.10806526,  0.89684059,  0.81824201,  0.68719935],\n",
       "       [ 1.38510255,  0.65092485,  0.74979571,  0.90671739,  0.87662588,\n",
       "         1.04550714,  1.30793563,  1.38510255,  0.35048353,  1.1532191 ,\n",
       "         0.98989059,  0.84456088, -0.21120797, -0.08501312,  0.2108636 ,\n",
       "        -0.82404156,  1.73222832,  0.6973724 ,  1.62169128,  0.16832663,\n",
       "         1.14328316,  0.90671739,  0.81703911, -0.25578259],\n",
       "       [ 1.39295261,  0.72756269,  0.74611185,  0.91715841,  0.82492858,\n",
       "         1.06998874,  1.31464642,  1.39295261,  0.37285666,  1.17179017,\n",
       "         1.00505262,  0.8494467 , -0.21859052, -0.09792419,  0.19165513,\n",
       "        -0.75679429,  1.76962727,  0.75564346,  1.43716008,  0.29760104,\n",
       "         1.18301686,  0.91715841,  0.81566327, -0.70455002],\n",
       "       [ 1.34200415,  0.77326062,  0.7464133 ,  0.92605239,  0.61628891,\n",
       "         1.08736867,  1.27101265,  1.34200415,  0.34734344,  1.1788009 ,\n",
       "         1.01493072,  0.85288923, -0.22597444, -0.11085296,  0.17238362,\n",
       "        -0.82404156,  1.65928186,  0.75008615,  1.13658781,  0.39982198,\n",
       "         1.21184753,  0.92605239,  0.81380511, -0.84407532],\n",
       "       [ 1.18084694,  0.76136317,  0.75534713,  0.93330225,  0.09949927,\n",
       "         1.09275988,  1.13174188,  1.18084694,  0.28022404,  1.15865048,\n",
       "         1.01172185,  0.85223748, -0.23335957, -0.12379877,  0.15305124,\n",
       "        -0.82404156,  1.6470624 ,  0.60433977,  0.56020507,  0.45016473,\n",
       "         1.2082403 ,  0.93330225,  0.81254649, -0.12956683]])"
      ]
     },
     "execution_count": 15,
     "metadata": {},
     "output_type": "execute_result"
    }
   ],
   "source": [
    "X_check"
   ]
  },
  {
   "cell_type": "code",
   "execution_count": 16,
   "id": "6e478fa1",
   "metadata": {},
   "outputs": [
    {
     "data": {
      "text/plain": [
       "array([1.18084694, 1.13097595, 1.18515678, 1.16991842, 1.12820534,\n",
       "       1.22040511, 1.26858296, 1.1232798 , 1.09711292, 0.91609967,\n",
       "       0.8657669 , 0.79388494, 0.72030983, 0.71322938, 0.73323934,\n",
       "       0.80973899, 0.82990288, 0.83759903, 0.83759903, 1.03215749,\n",
       "       1.04554877, 0.99229147, 1.03138787, 1.0133789 , 0.9904444 ,\n",
       "       0.97228151, 0.99629347, 1.0524753 , 1.08125887, 1.08125887])"
      ]
     },
     "execution_count": 16,
     "metadata": {},
     "output_type": "execute_result"
    }
   ],
   "source": [
    "y_check"
   ]
  },
  {
   "cell_type": "code",
   "execution_count": 17,
   "id": "13da5665",
   "metadata": {},
   "outputs": [],
   "source": [
    "# for X, y in train_loader:\n",
    "#     print(X)\n",
    "#     print(y)"
   ]
  },
  {
   "cell_type": "markdown",
   "id": "245af1d7",
   "metadata": {},
   "source": [
    "## Classical LSTM"
   ]
  },
  {
   "cell_type": "markdown",
   "id": "50a784bc",
   "metadata": {},
   "source": [
    "We first define train_model: function to train the model based on the batches of data\n",
    "We print the loss at the end to understand how the model is performing with regards to the data."
   ]
  },
  {
   "cell_type": "code",
   "execution_count": 18,
   "id": "dbe496cd",
   "metadata": {},
   "outputs": [],
   "source": [
    "def train_model(data_loader, model, loss_function, optimizer):\n",
    "    num_batches = len(data_loader)\n",
    "    total_loss = 0\n",
    "    model.train()\n",
    "    \n",
    "    for X, y in data_loader:\n",
    "        output = model(X)\n",
    "        loss = loss_function(output, y)\n",
    "\n",
    "        optimizer.zero_grad()\n",
    "        loss.backward()\n",
    "        optimizer.step()\n",
    "\n",
    "        total_loss += loss.item()\n",
    "\n",
    "    avg_loss = total_loss / num_batches\n",
    "    print(f\"Train loss: {avg_loss}\")\n",
    "    return avg_loss\n",
    "\n",
    "def test_model(data_loader, model, loss_function):\n",
    "    \n",
    "    num_batches = len(data_loader)\n",
    "    total_loss = 0\n",
    "\n",
    "    model.eval()\n",
    "    with torch.no_grad():\n",
    "        for X, y in data_loader:\n",
    "            output = model(X)\n",
    "            total_loss += loss_function(output, y).item()\n",
    "\n",
    "    avg_loss = total_loss / num_batches\n",
    "    print(f\"Test loss: {avg_loss}\")\n",
    "    return avg_loss"
   ]
  },
  {
   "cell_type": "markdown",
   "id": "8dd5d66a",
   "metadata": {},
   "source": [
    "## Running the Classical LSTM"
   ]
  },
  {
   "cell_type": "markdown",
   "id": "8dd7aabb",
   "metadata": {},
   "source": [
    "In the following code, we train LSTM to predict future stock prices, and then test it on the test dataset. "
   ]
  },
  {
   "cell_type": "code",
   "execution_count": 28,
   "id": "aa31393b",
   "metadata": {},
   "outputs": [],
   "source": [
    "class ShallowRegressionLSTM(nn.Module):\n",
    "    def __init__(self, num_sensors, hidden_units):\n",
    "        super().__init__()\n",
    "        self.num_sensors = num_sensors  # this is the number of features\n",
    "        self.hidden_units = hidden_units\n",
    "        self.num_layers = 2\n",
    "\n",
    "        self.lstm = nn.LSTM(\n",
    "            input_size=num_sensors,\n",
    "            hidden_size=hidden_units,\n",
    "            batch_first=True,\n",
    "            num_layers=self.num_layers\n",
    "        )\n",
    "\n",
    "        self.linear = nn.Linear(in_features=self.hidden_units, out_features=1) # The output dimesion is set as window\n",
    "\n",
    "    def forward(self, x):\n",
    "        batch_size = x.shape[0]\n",
    "        h0 = torch.zeros(self.num_layers, batch_size, self.hidden_units).requires_grad_()\n",
    "        c0 = torch.zeros(self.num_layers, batch_size, self.hidden_units).requires_grad_()\n",
    "        \n",
    "        out_, (hn, _) = self.lstm(x, (h0, c0))\n",
    "        out = self.linear(out_)\n",
    "        return torch.squeeze(out)"
   ]
  },
  {
   "cell_type": "code",
   "execution_count": 29,
   "id": "2a758f02",
   "metadata": {},
   "outputs": [],
   "source": [
    "learning_rate = 0.005\n",
    "num_hidden_units = 200\n",
    "\n",
    "model_lstm = ShallowRegressionLSTM(num_sensors=len(features), hidden_units=num_hidden_units)\n",
    "loss_function = nn.MSELoss()\n",
    "optimizer = torch.optim.Adam(model_lstm.parameters(), lr=learning_rate)"
   ]
  },
  {
   "cell_type": "code",
   "execution_count": 30,
   "id": "5e2cdd9a",
   "metadata": {},
   "outputs": [
    {
     "name": "stdout",
     "output_type": "stream",
     "text": [
      "Epoch 0\n",
      "---------\n",
      "Train loss: 0.15504045461186733\n",
      "Test loss: 0.08008267059922218\n",
      "Epoch 1\n",
      "---------\n",
      "Train loss: 0.08075721399194893\n",
      "Test loss: 0.10840049404650927\n",
      "Epoch 2\n",
      "---------\n",
      "Train loss: 0.05260605725791605\n",
      "Test loss: 0.04408582067117095\n",
      "Epoch 3\n",
      "---------\n",
      "Train loss: 0.030450548141680914\n",
      "Test loss: 0.025957097858190538\n",
      "Epoch 4\n",
      "---------\n",
      "Train loss: 0.01960530115997997\n",
      "Test loss: 0.018649040814489128\n",
      "Epoch 5\n",
      "---------\n",
      "Train loss: 0.01563764707420835\n",
      "Test loss: 0.012525695888325573\n",
      "Epoch 6\n",
      "---------\n",
      "Train loss: 0.011385485390736454\n",
      "Test loss: 0.010979733313433826\n",
      "Epoch 7\n",
      "---------\n",
      "Train loss: 0.010382551357321355\n",
      "Test loss: 0.012691252678632737\n",
      "Epoch 8\n",
      "---------\n",
      "Train loss: 0.008472778031538272\n",
      "Test loss: 0.00897274650633335\n",
      "Epoch 9\n",
      "---------\n",
      "Train loss: 0.007157710651149866\n",
      "Test loss: 0.007018500124104321\n",
      "Epoch 10\n",
      "---------\n",
      "Train loss: 0.00641529791421075\n",
      "Test loss: 0.006420658435672522\n",
      "Epoch 11\n",
      "---------\n",
      "Train loss: 0.005728463228824067\n",
      "Test loss: 0.005591188929975033\n",
      "Epoch 12\n",
      "---------\n",
      "Train loss: 0.005240575743614343\n",
      "Test loss: 0.005889943044167012\n",
      "Epoch 13\n",
      "---------\n",
      "Train loss: 0.005361248662791632\n",
      "Test loss: 0.0043842348619364205\n",
      "Epoch 14\n",
      "---------\n",
      "Train loss: 0.004605883850191517\n",
      "Test loss: 0.004644858231768012\n",
      "Epoch 15\n",
      "---------\n",
      "Train loss: 0.004839643694182065\n",
      "Test loss: 0.00424264632165432\n",
      "Epoch 16\n",
      "---------\n",
      "Train loss: 0.00644561909834972\n",
      "Test loss: 0.014119248325005173\n",
      "Epoch 17\n",
      "---------\n",
      "Train loss: 0.031735196958520805\n",
      "Test loss: 0.030517303850501776\n",
      "Epoch 18\n",
      "---------\n",
      "Train loss: 0.012780511674160758\n",
      "Test loss: 0.006100724125280977\n",
      "Epoch 19\n",
      "---------\n",
      "Train loss: 0.005282542850265558\n",
      "Test loss: 0.00424337803851813\n",
      "Epoch 20\n",
      "---------\n",
      "Train loss: 0.0035075830889801526\n",
      "Test loss: 0.0034135895257350057\n",
      "Epoch 21\n",
      "---------\n",
      "Train loss: 0.002851132191744387\n",
      "Test loss: 0.0035930107813328506\n",
      "Epoch 22\n",
      "---------\n",
      "Train loss: 0.0024650203774618947\n",
      "Test loss: 0.0028895014082081618\n",
      "Epoch 23\n",
      "---------\n",
      "Train loss: 0.0024084590901299542\n",
      "Test loss: 0.0028963020944502206\n",
      "Epoch 24\n",
      "---------\n",
      "Train loss: 0.002865108534233409\n",
      "Test loss: 0.005240604153368622\n",
      "Epoch 25\n",
      "---------\n",
      "Train loss: 0.0025290801134977446\n",
      "Test loss: 0.0026951467909384517\n",
      "Epoch 26\n",
      "---------\n",
      "Train loss: 0.0029592549939500704\n",
      "Test loss: 0.0026088151440490036\n",
      "Epoch 27\n",
      "---------\n",
      "Train loss: 0.0019236324708266504\n",
      "Test loss: 0.0021711085399147125\n",
      "Epoch 28\n",
      "---------\n",
      "Train loss: 0.0015503836433729693\n",
      "Test loss: 0.0019197647518012673\n",
      "Epoch 29\n",
      "---------\n",
      "Train loss: 0.0014621822495313212\n",
      "Test loss: 0.0020339501730632036\n",
      "Epoch 30\n",
      "---------\n",
      "Train loss: 0.007690228342517525\n",
      "Test loss: 0.00869970212224871\n",
      "Epoch 31\n",
      "---------\n",
      "Train loss: 0.004423045397377519\n",
      "Test loss: 0.0028865583182778208\n",
      "Epoch 32\n",
      "---------\n",
      "Train loss: 0.001972202642154398\n",
      "Test loss: 0.0022264754108618943\n",
      "Epoch 33\n",
      "---------\n",
      "Train loss: 0.0017493149642324097\n",
      "Test loss: 0.0038456871348898857\n",
      "Epoch 34\n",
      "---------\n",
      "Train loss: 0.001707973254740174\n",
      "Test loss: 0.0020621086296159774\n",
      "Epoch 35\n",
      "---------\n",
      "Train loss: 0.0015447833983431004\n",
      "Test loss: 0.0022192380391061308\n",
      "Epoch 36\n",
      "---------\n",
      "Train loss: 0.0011851693417919778\n",
      "Test loss: 0.0016961892193648963\n",
      "Epoch 37\n",
      "---------\n",
      "Train loss: 0.0011526125148019015\n",
      "Test loss: 0.0014918570173904299\n",
      "Epoch 38\n",
      "---------\n",
      "Train loss: 0.0010031794879288446\n",
      "Test loss: 0.0017202564748004078\n",
      "Epoch 39\n",
      "---------\n",
      "Train loss: 0.033679129334699215\n",
      "Test loss: 0.016707365540787576\n",
      "Epoch 40\n",
      "---------\n",
      "Train loss: 0.009617179522462103\n",
      "Test loss: 0.00606245428789407\n",
      "Epoch 41\n",
      "---------\n",
      "Train loss: 0.0038948790103346966\n",
      "Test loss: 0.00379185471101664\n",
      "Epoch 42\n",
      "---------\n",
      "Train loss: 0.0023323900726002953\n",
      "Test loss: 0.0025871898978948593\n",
      "Epoch 43\n",
      "---------\n",
      "Train loss: 0.0018641286246590958\n",
      "Test loss: 0.002126440790016204\n",
      "Epoch 44\n",
      "---------\n",
      "Train loss: 0.001504641173450255\n",
      "Test loss: 0.0020532782364171\n",
      "Epoch 45\n",
      "---------\n",
      "Train loss: 0.001196650514545069\n",
      "Test loss: 0.0016009714279789477\n",
      "Epoch 46\n",
      "---------\n",
      "Train loss: 0.0009850757562852432\n",
      "Test loss: 0.0015209827630314975\n",
      "Epoch 47\n",
      "---------\n",
      "Train loss: 0.0010035745612206473\n",
      "Test loss: 0.0015190641599474475\n",
      "Epoch 48\n",
      "---------\n",
      "Train loss: 0.0025301377570668727\n",
      "Test loss: 0.0029372568242251873\n",
      "Epoch 49\n",
      "---------\n",
      "Train loss: 0.0012584110864454173\n",
      "Test loss: 0.0014333828759845347\n",
      "Epoch 50\n",
      "---------\n",
      "Train loss: 0.0008618359632278932\n",
      "Test loss: 0.0015031905233627186\n",
      "Epoch 51\n",
      "---------\n",
      "Train loss: 0.0008446425463784829\n",
      "Test loss: 0.0018601546704303472\n",
      "Epoch 52\n",
      "---------\n",
      "Train loss: 0.0008102199940837856\n",
      "Test loss: 0.001442440104437992\n",
      "Epoch 53\n",
      "---------\n",
      "Train loss: 0.0010480092128875248\n",
      "Test loss: 0.0015063993021612986\n",
      "Epoch 54\n",
      "---------\n",
      "Train loss: 0.0007748728617691253\n",
      "Test loss: 0.0014533759240293875\n",
      "Epoch 55\n",
      "---------\n",
      "Train loss: 0.0008114143627650244\n",
      "Test loss: 0.0018911990569904446\n",
      "Epoch 56\n",
      "---------\n",
      "Train loss: 0.000864724630634461\n",
      "Test loss: 0.0014551497268257662\n",
      "Epoch 57\n",
      "---------\n",
      "Train loss: 0.000682669093774835\n",
      "Test loss: 0.0013991611573146655\n",
      "Epoch 58\n",
      "---------\n",
      "Train loss: 0.000606656959347277\n",
      "Test loss: 0.0014466323336819187\n",
      "Epoch 59\n",
      "---------\n",
      "Train loss: 0.0006929416202434242\n",
      "Test loss: 0.0014774593146285042\n",
      "Epoch 60\n",
      "---------\n",
      "Train loss: 0.0006113580759914443\n",
      "Test loss: 0.0012404419045196845\n",
      "Epoch 61\n",
      "---------\n",
      "Train loss: 0.0007709133283712837\n",
      "Test loss: 0.0015578924736473708\n",
      "Epoch 62\n",
      "---------\n",
      "Train loss: 0.001028776796228231\n",
      "Test loss: 0.0018659997178474442\n",
      "Epoch 63\n",
      "---------\n",
      "Train loss: 0.0008168138392020723\n",
      "Test loss: 0.0020287911349441854\n",
      "Epoch 64\n",
      "---------\n",
      "Train loss: 0.013429677294535113\n",
      "Test loss: 0.012765359599143267\n",
      "Epoch 65\n",
      "---------\n",
      "Train loss: 0.005544270327229096\n",
      "Test loss: 0.003096445876872167\n",
      "Epoch 66\n",
      "---------\n",
      "Train loss: 0.0016263380496837627\n",
      "Test loss: 0.0017622852814383806\n",
      "Epoch 67\n",
      "---------\n",
      "Train loss: 0.0009434437482944293\n",
      "Test loss: 0.0016001512587536127\n",
      "Epoch 68\n",
      "---------\n",
      "Train loss: 0.0007481321231823351\n",
      "Test loss: 0.0013736499007791282\n",
      "Epoch 69\n",
      "---------\n",
      "Train loss: 0.0006724823175611017\n",
      "Test loss: 0.0012903322814963758\n",
      "Epoch 70\n",
      "---------\n",
      "Train loss: 0.0005268820054827783\n",
      "Test loss: 0.0013583342224592343\n",
      "Epoch 71\n",
      "---------\n",
      "Train loss: 0.0005153289856589881\n",
      "Test loss: 0.001474988626432605\n",
      "Epoch 72\n",
      "---------\n",
      "Train loss: 0.0012747650573313792\n",
      "Test loss: 0.0013639936078106984\n",
      "Epoch 73\n",
      "---------\n",
      "Train loss: 0.0005283151671622248\n",
      "Test loss: 0.001272157499624882\n",
      "Epoch 74\n",
      "---------\n",
      "Train loss: 0.0003990531101523117\n",
      "Test loss: 0.001204147981479764\n",
      "Epoch 75\n",
      "---------\n",
      "Train loss: 0.00039839062902637514\n",
      "Test loss: 0.0013262376676721032\n",
      "Epoch 76\n",
      "---------\n",
      "Train loss: 0.0003854835793327797\n",
      "Test loss: 0.0011326330946758389\n",
      "Epoch 77\n",
      "---------\n",
      "Train loss: 0.0005567512170869279\n",
      "Test loss: 0.0014016315355547704\n",
      "Epoch 78\n",
      "---------\n",
      "Train loss: 0.0032641303512447074\n",
      "Test loss: 0.0020153186575043946\n",
      "Epoch 79\n",
      "---------\n",
      "Train loss: 0.0006498093974385839\n",
      "Test loss: 0.0011563289735931903\n",
      "Epoch 80\n",
      "---------\n",
      "Train loss: 0.0008491004247488668\n",
      "Test loss: 0.0017353441449813544\n",
      "Epoch 81\n",
      "---------\n",
      "Train loss: 0.005447715949053052\n",
      "Test loss: 0.00205186712264549\n",
      "Epoch 82\n",
      "---------\n",
      "Train loss: 0.0013548988631816752\n",
      "Test loss: 0.0016573975211940707\n",
      "Epoch 83\n",
      "---------\n",
      "Train loss: 0.0007631380941274565\n",
      "Test loss: 0.0012501133111072703\n",
      "Epoch 84\n",
      "---------\n",
      "Train loss: 0.0004599466663149678\n",
      "Test loss: 0.0011947058781515806\n",
      "Epoch 85\n",
      "---------\n",
      "Train loss: 0.0003595265045349925\n",
      "Test loss: 0.0011494226302602329\n",
      "Epoch 86\n",
      "---------\n",
      "Train loss: 0.0003248454798675335\n",
      "Test loss: 0.0011187642550794408\n",
      "Epoch 87\n",
      "---------\n",
      "Train loss: 0.00029959154692304525\n",
      "Test loss: 0.0011184678180143238\n",
      "Epoch 88\n",
      "---------\n",
      "Train loss: 0.00030697349658979895\n",
      "Test loss: 0.0010665318957762792\n",
      "Epoch 89\n",
      "---------\n",
      "Train loss: 0.000324287607944062\n",
      "Test loss: 0.001142553865793161\n",
      "Epoch 90\n",
      "---------\n",
      "Train loss: 0.00032906625192376905\n",
      "Test loss: 0.0011413277738029138\n",
      "Epoch 91\n",
      "---------\n",
      "Train loss: 0.00037995729533200765\n",
      "Test loss: 0.0012041195237543433\n",
      "Epoch 92\n",
      "---------\n",
      "Train loss: 0.0003321518067433766\n",
      "Test loss: 0.0011604341969359666\n",
      "Epoch 93\n",
      "---------\n",
      "Train loss: 0.00030735574186653775\n",
      "Test loss: 0.001225218542094808\n",
      "Epoch 94\n",
      "---------\n",
      "Train loss: 0.00036203699626681534\n",
      "Test loss: 0.001307246190845035\n",
      "Epoch 95\n",
      "---------\n",
      "Train loss: 0.0005181725120209372\n",
      "Test loss: 0.0014356339670484886\n",
      "Epoch 96\n",
      "---------\n",
      "Train loss: 0.0018844268172337063\n"
     ]
    },
    {
     "name": "stdout",
     "output_type": "stream",
     "text": [
      "Test loss: 0.0030284900043625385\n",
      "Epoch 97\n",
      "---------\n",
      "Train loss: 0.0030912203097384124\n",
      "Test loss: 0.0034860393207054585\n",
      "Epoch 98\n",
      "---------\n",
      "Train loss: 0.0019556710614632793\n",
      "Test loss: 0.002751001750584692\n",
      "Epoch 99\n",
      "---------\n",
      "Train loss: 0.000855458411923342\n",
      "Test loss: 0.0017210266494657844\n",
      "Epoch 100\n",
      "---------\n",
      "Train loss: 0.00046123152290304973\n",
      "Test loss: 0.0014684092457173392\n",
      "Epoch 101\n",
      "---------\n",
      "Train loss: 0.0003284866231307655\n",
      "Test loss: 0.0011514193698531016\n",
      "Epoch 102\n",
      "---------\n",
      "Train loss: 0.0002942298248864512\n",
      "Test loss: 0.0011099663330242037\n",
      "Epoch 103\n",
      "---------\n",
      "Train loss: 0.00026932690077997884\n",
      "Test loss: 0.0011096885580627713\n",
      "Epoch 104\n",
      "---------\n",
      "Train loss: 0.00023794950915356007\n",
      "Test loss: 0.0011895171017386019\n",
      "Epoch 105\n",
      "---------\n",
      "Train loss: 0.00024250813737450083\n",
      "Test loss: 0.001253887583152391\n",
      "Epoch 106\n",
      "---------\n",
      "Train loss: 0.00030095446684221124\n",
      "Test loss: 0.0011933410889469088\n",
      "Epoch 107\n",
      "---------\n",
      "Train loss: 0.00027297572289652395\n",
      "Test loss: 0.001655146401026286\n",
      "Epoch 108\n",
      "---------\n",
      "Train loss: 0.0005492553509298134\n",
      "Test loss: 0.001123318744066637\n",
      "Epoch 109\n",
      "---------\n",
      "Train loss: 0.00025418289199781913\n",
      "Test loss: 0.0010171996298595331\n",
      "Epoch 110\n",
      "---------\n",
      "Train loss: 0.0003043821336344907\n",
      "Test loss: 0.0013169686993933284\n",
      "Epoch 111\n",
      "---------\n",
      "Train loss: 0.00023909276665787845\n",
      "Test loss: 0.0010900311957811938\n",
      "Epoch 112\n",
      "---------\n",
      "Train loss: 0.0014805498478757538\n",
      "Test loss: 0.004833658051211387\n",
      "Epoch 113\n",
      "---------\n",
      "Train loss: 0.004068553539049202\n",
      "Test loss: 0.006083664199104532\n",
      "Epoch 114\n",
      "---------\n",
      "Train loss: 0.0016972962519335936\n",
      "Test loss: 0.001356994526577182\n",
      "Epoch 115\n",
      "---------\n",
      "Train loss: 0.00040359615828994467\n",
      "Test loss: 0.0014739836435182952\n",
      "Epoch 116\n",
      "---------\n",
      "Train loss: 0.0003648624531225564\n",
      "Test loss: 0.001197938904806506\n",
      "Epoch 117\n",
      "---------\n",
      "Train loss: 0.00021813587586986885\n",
      "Test loss: 0.001062264667416457\n",
      "Epoch 118\n",
      "---------\n",
      "Train loss: 0.0001662153468066532\n",
      "Test loss: 0.0010888487246120348\n",
      "Epoch 119\n",
      "---------\n",
      "Train loss: 0.00016517408041453427\n",
      "Test loss: 0.0010322441798052751\n",
      "Epoch 120\n",
      "---------\n",
      "Train loss: 0.00015066683691061214\n",
      "Test loss: 0.0011044065991882234\n",
      "Epoch 121\n",
      "---------\n",
      "Train loss: 0.0001324264426905014\n",
      "Test loss: 0.0011220683489227667\n",
      "Epoch 122\n",
      "---------\n",
      "Train loss: 0.00018330133401644257\n",
      "Test loss: 0.0011914948583580554\n",
      "Epoch 123\n",
      "---------\n",
      "Train loss: 0.00016716981821676084\n",
      "Test loss: 0.0011056378862122074\n",
      "Epoch 124\n",
      "---------\n",
      "Train loss: 0.00030583879414808015\n",
      "Test loss: 0.0012281471776077525\n",
      "Epoch 125\n",
      "---------\n",
      "Train loss: 0.0002435430547409161\n",
      "Test loss: 0.0012000436792732217\n",
      "Epoch 126\n",
      "---------\n",
      "Train loss: 0.0002666298487279216\n",
      "Test loss: 0.0011102146716439165\n",
      "Epoch 127\n",
      "---------\n",
      "Train loss: 0.00019384952870548177\n",
      "Test loss: 0.001099952012009453\n",
      "Epoch 128\n",
      "---------\n",
      "Train loss: 0.00016315464414930474\n",
      "Test loss: 0.0011592268725507892\n",
      "Epoch 129\n",
      "---------\n",
      "Train loss: 0.00018249690435169768\n",
      "Test loss: 0.001212932396447286\n",
      "Epoch 130\n",
      "---------\n",
      "Train loss: 0.00024695471471915525\n",
      "Test loss: 0.0011154214793350548\n",
      "Epoch 131\n",
      "---------\n",
      "Train loss: 0.0003043610806929499\n",
      "Test loss: 0.0020768160495208575\n",
      "Epoch 132\n",
      "---------\n",
      "Train loss: 0.00813465360545382\n",
      "Test loss: 0.004462421487551183\n",
      "Epoch 133\n",
      "---------\n",
      "Train loss: 0.0019515354026392658\n",
      "Test loss: 0.001968189998297021\n",
      "Epoch 134\n",
      "---------\n",
      "Train loss: 0.000869540433682389\n",
      "Test loss: 0.0014866236684611066\n",
      "Epoch 135\n",
      "---------\n",
      "Train loss: 0.000529099689346963\n",
      "Test loss: 0.001497847176506184\n",
      "Epoch 136\n",
      "---------\n",
      "Train loss: 0.00046241947301882907\n",
      "Test loss: 0.0013054594528512098\n",
      "Epoch 137\n",
      "---------\n",
      "Train loss: 0.0003209022942919755\n",
      "Test loss: 0.0012824371486203745\n",
      "Epoch 138\n",
      "---------\n",
      "Train loss: 0.0002739880925302672\n",
      "Test loss: 0.0012708315363852308\n",
      "Epoch 139\n",
      "---------\n",
      "Train loss: 0.00024388870684330984\n",
      "Test loss: 0.001309180448879488\n",
      "Epoch 140\n",
      "---------\n",
      "Train loss: 0.00021403897168140206\n",
      "Test loss: 0.0013052536611212417\n",
      "Epoch 141\n",
      "---------\n",
      "Train loss: 0.00020393576866401168\n",
      "Test loss: 0.0013068912987364456\n",
      "Epoch 142\n",
      "---------\n",
      "Train loss: 0.00024960155484411093\n",
      "Test loss: 0.001224787376122549\n",
      "Epoch 143\n",
      "---------\n",
      "Train loss: 0.00025826206342310476\n",
      "Test loss: 0.0012622006615856662\n",
      "Epoch 144\n",
      "---------\n",
      "Train loss: 0.0002087750576668012\n",
      "Test loss: 0.0013557950063841418\n",
      "Epoch 145\n",
      "---------\n",
      "Train loss: 0.0002810938609379274\n",
      "Test loss: 0.0012903986644232646\n",
      "Epoch 146\n",
      "---------\n",
      "Train loss: 0.00023298953856701492\n",
      "Test loss: 0.0012177033204352483\n",
      "Epoch 147\n",
      "---------\n",
      "Train loss: 0.0001861869519186372\n",
      "Test loss: 0.0011744778297725134\n",
      "Epoch 148\n",
      "---------\n",
      "Train loss: 0.00019343293798169465\n",
      "Test loss: 0.0014978571096435189\n",
      "Epoch 149\n",
      "---------\n",
      "Train loss: 0.00018720900300848726\n",
      "Test loss: 0.0013406937156105413\n"
     ]
    }
   ],
   "source": [
    "lstm_loss_train = []\n",
    "lstm_loss_test=[]\n",
    "num_epoch=150\n",
    "for ix_epoch in range(num_epoch):\n",
    "    print(f\"Epoch {ix_epoch}\\n---------\")\n",
    "    train_loss = train_model(train_loader, model_lstm, loss_function, optimizer=optimizer)\n",
    "    test_loss = test_model(test_loader, model_lstm, loss_function)\n",
    "    lstm_loss_train.append(train_loss)\n",
    "    lstm_loss_test.append(test_loss)"
   ]
  },
  {
   "cell_type": "code",
   "execution_count": 95,
   "id": "f8806195",
   "metadata": {},
   "outputs": [
    {
     "data": {
      "image/png": "[encoded data removed]",
      "text/plain": [
       "<Figure size 576x432 with 1 Axes>"
      ]
     },
     "metadata": {
      "needs_background": "light"
     },
     "output_type": "display_data"
    }
   ],
   "source": [
    "plt.figure(figsize=(8, 6))\n",
    "plt.plot(range(num_epoch), lstm_loss_train, label='train')\n",
    "plt.plot(range(num_epoch), lstm_loss_test, label='test')\n",
    "plt.ylabel('Loss')\n",
    "plt.xlabel('Epoch')\n",
    "plt.legend()\n",
    "plt.show()"
   ]
  },
  {
   "cell_type": "markdown",
   "id": "2f44945e",
   "metadata": {},
   "source": [
    "We then use the model to predict the test set, and then compare the results of the prediction to the real values."
   ]
  },
  {
   "cell_type": "code",
   "execution_count": 37,
   "id": "478ffa72",
   "metadata": {},
   "outputs": [],
   "source": [
    "def predict(data_loader, model):\n",
    "    \"\"\"Just like `test_loop` function but keep track of the outputs instead of the loss\n",
    "    function.\n",
    "    \"\"\"\n",
    "    output = []\n",
    "    model.eval()\n",
    "    with torch.no_grad():\n",
    "        for X, _ in data_loader:\n",
    "            y_star = model(X)\n",
    "            output.append(y_star.numpy())  \n",
    "    return output"
   ]
  },
  {
   "cell_type": "code",
   "execution_count": 38,
   "id": "aec3abbe",
   "metadata": {},
   "outputs": [],
   "source": [
    "# Prepare data to evaluate training accuracy of lstm\n",
    "train_eval_loader = DataLoader(data.TensorDataset(X_train_ts, y_train_ts), shuffle=False, batch_size=batch_size)\n",
    "y_train_pred_lstm=predict(train_eval_loader, model_lstm)\n",
    "y_train_lstm=[]\n",
    "for X, y in train_eval_loader:\n",
    "    y_train_lstm.append(y)\n",
    "# Prepare data to evaluate test accuracy of lstm\n",
    "test_eval_loader = DataLoader(data.TensorDataset(X_test_ts, y_test_ts), shuffle=False, batch_size=batch_size)\n",
    "y_test_pred_lstm=predict(test_eval_loader, model_lstm)\n",
    "y_test_lstm=[]\n",
    "for X, y in test_eval_loader:\n",
    "    y_test_lstm.append(y)"
   ]
  },
  {
   "cell_type": "code",
   "execution_count": 39,
   "id": "1d45f169",
   "metadata": {},
   "outputs": [],
   "source": [
    "from sklearn.metrics import mean_squared_error\n",
    "from sklearn.metrics import mean_absolute_error\n",
    "def cal_metrics(y_true,y_pred):\n",
    "    mae=0\n",
    "    rmse=0\n",
    "    for i in range(len(y_true)):\n",
    "        y1=y_true[i].flatten().numpy()* target_stdev + target_mean\n",
    "        y2=y_pred[i].flatten()* target_stdev + target_mean\n",
    "        mae=mean_absolute_error(y1, y2)+mae\n",
    "        rmse=mean_squared_error(y1, y2, squared=False)+rmse  \n",
    "    return mae/len(y_true) , rmse/len(y_true)"
   ]
  },
  {
   "cell_type": "code",
   "execution_count": 40,
   "id": "ba63dddb",
   "metadata": {},
   "outputs": [
    {
     "name": "stdout",
     "output_type": "stream",
     "text": [
      "MAE train error is 5.286083262542198\n",
      "RMSE train error is 8.534762842901822\n",
      "MAE test error is 9.167039108276366\n",
      "RMSE test error is 22.353366088867187\n"
     ]
    }
   ],
   "source": [
    "mae_train_lstm, rmse_train_lstm= cal_metrics(y_train_lstm,y_train_pred_lstm)\n",
    "print('MAE train error is',mae_train_lstm)\n",
    "print('RMSE train error is',rmse_train_lstm)\n",
    "mae_test_lstm, rmse_test_lstm= cal_metrics(y_test_lstm,y_test_pred_lstm)\n",
    "print('MAE test error is',mae_test_lstm)\n",
    "print('RMSE test error is',rmse_test_lstm)"
   ]
  },
  {
   "cell_type": "code",
   "execution_count": 41,
   "id": "99a37bd3",
   "metadata": {},
   "outputs": [
    {
     "name": "stdout",
     "output_type": "stream",
     "text": [
      "MAE check error  :  29.459833984375017\n",
      "RMSE check error :  48.98254608380377\n"
     ]
    }
   ],
   "source": [
    "y_check_pred_lstm = model_lstm(torch.FloatTensor([X_check]))\n",
    "y_check_pred_lstm = y_check_pred_lstm.detach().numpy()\n",
    "\n",
    "mae_check_lstm = mean_absolute_error(y_check* target_stdev + target_mean,y_check_pred_lstm* target_stdev + target_mean)\n",
    "print('MAE check error  : ',mae_check_lstm)\n",
    "rmse_check_lstm = mean_squared_error(y_check* target_stdev + target_mean,y_check_pred_lstm* target_stdev + target_mean, squared=False)\n",
    "print('RMSE check error : ',rmse_check_lstm)"
   ]
  },
  {
   "cell_type": "code",
   "execution_count": null,
   "id": "f0dead4b",
   "metadata": {},
   "outputs": [],
   "source": []
  },
  {
   "cell_type": "code",
   "execution_count": null,
   "id": "6b51cc68",
   "metadata": {},
   "outputs": [],
   "source": []
  },
  {
   "cell_type": "markdown",
   "id": "5f530116",
   "metadata": {},
   "source": [
    "## Running the ARIMA "
   ]
  },
  {
   "cell_type": "code",
   "execution_count": 42,
   "id": "a3e88a61",
   "metadata": {},
   "outputs": [
    {
     "name": "stderr",
     "output_type": "stream",
     "text": [
      "<ipython-input-42-c2c42f0d7345>:3: FutureWarning: The pandas.datetime class is deprecated and will be removed from pandas in a future version. Import from datetime module instead.\n",
      "  from pandas import datetime\n"
     ]
    }
   ],
   "source": [
    "from statsmodels.tsa.arima.model import ARIMA\n",
    "from pandas import DataFrame\n",
    "from pandas import datetime"
   ]
  },
  {
   "cell_type": "code",
   "execution_count": 43,
   "id": "17dab4d7",
   "metadata": {},
   "outputs": [
    {
     "name": "stderr",
     "output_type": "stream",
     "text": [
      "<ipython-input-43-de4a1ff72067>:2: FutureWarning: The pandas.datetime class is deprecated and will be removed from pandas in a future version. Import from datetime module instead.\n",
      "  from pandas import datetime\n"
     ]
    }
   ],
   "source": [
    "from pandas import read_csv\n",
    "from pandas import datetime\n",
    "from statsmodels.tsa.arima.model import ARIMA\n",
    "from sklearn.metrics import mean_squared_error\n",
    "from pmdarima.arima import auto_arima\n",
    "train_data_arima=df[target].values[:len(df)-window] # train on full data\n",
    "check_data_arima=df[target].values[len(df)-window:]"
   ]
  },
  {
   "cell_type": "code",
   "execution_count": 44,
   "id": "0b4db432",
   "metadata": {},
   "outputs": [
    {
     "name": "stdout",
     "output_type": "stream",
     "text": [
      "[1.18084694 1.13097595 1.18515678 1.16991842 1.12820534 1.22040511\n",
      " 1.26858296 1.1232798  1.09711292 0.91609967 0.8657669  0.79388494\n",
      " 0.72030983 0.71322938 0.73323934 0.80973899 0.82990288 0.83759903\n",
      " 0.83759903 1.03215749 1.04554877 0.99229147 1.03138787 1.0133789\n",
      " 0.9904444  0.97228151 0.99629347 1.0524753  1.08125887 1.08125887]\n"
     ]
    }
   ],
   "source": [
    "print(check_data_arima)"
   ]
  },
  {
   "cell_type": "code",
   "execution_count": 45,
   "id": "89be58bd",
   "metadata": {},
   "outputs": [
    {
     "name": "stdout",
     "output_type": "stream",
     "text": [
      "Performing stepwise search to minimize aic\n",
      " ARIMA(0,0,0)(0,0,0)[0]             : AIC=8823.545, Time=0.04 sec\n",
      " ARIMA(1,0,0)(0,0,0)[0]             : AIC=inf, Time=0.12 sec\n",
      " ARIMA(0,0,1)(0,0,0)[0]             : AIC=4877.183, Time=0.21 sec\n",
      " ARIMA(1,0,1)(0,0,0)[0]             : AIC=-5645.045, Time=0.13 sec\n",
      " ARIMA(2,0,1)(0,0,0)[0]             : AIC=-5653.338, Time=0.77 sec\n",
      " ARIMA(2,0,0)(0,0,0)[0]             : AIC=inf, Time=0.16 sec\n",
      " ARIMA(3,0,1)(0,0,0)[0]             : AIC=-5649.352, Time=1.10 sec\n",
      " ARIMA(2,0,2)(0,0,0)[0]             : AIC=-5643.928, Time=0.57 sec\n",
      " ARIMA(1,0,2)(0,0,0)[0]             : AIC=-5643.970, Time=0.19 sec\n",
      " ARIMA(3,0,0)(0,0,0)[0]             : AIC=inf, Time=0.18 sec\n",
      " ARIMA(3,0,2)(0,0,0)[0]             : AIC=-5641.260, Time=1.36 sec\n",
      " ARIMA(2,0,1)(0,0,0)[0] intercept   : AIC=-5651.361, Time=1.70 sec\n",
      "\n",
      "Best model:  ARIMA(2,0,1)(0,0,0)[0]          \n",
      "Total fit time: 6.551 seconds\n",
      "                               SARIMAX Results                                \n",
      "==============================================================================\n",
      "Dep. Variable:                      y   No. Observations:                 3109\n",
      "Model:               SARIMAX(2, 0, 1)   Log Likelihood                2830.669\n",
      "Date:                Thu, 11 Jan 2024   AIC                          -5653.338\n",
      "Time:                        11:26:56   BIC                          -5629.170\n",
      "Sample:                             0   HQIC                         -5644.661\n",
      "                               - 3109                                         \n",
      "Covariance Type:                  opg                                         \n",
      "==============================================================================\n",
      "                 coef    std err          z      P>|z|      [0.025      0.975]\n",
      "------------------------------------------------------------------------------\n",
      "ar.L1          0.0621      0.033      1.903      0.057      -0.002       0.126\n",
      "ar.L2          0.9298      0.033     28.574      0.000       0.866       0.994\n",
      "ma.L1          0.9536      0.029     32.882      0.000       0.897       1.010\n",
      "sigma2         0.0095      0.000     78.257      0.000       0.009       0.010\n",
      "===================================================================================\n",
      "Ljung-Box (L1) (Q):                   0.84   Jarque-Bera (JB):              6633.15\n",
      "Prob(Q):                              0.36   Prob(JB):                         0.00\n",
      "Heteroskedasticity (H):               2.04   Skew:                            -0.72\n",
      "Prob(H) (two-sided):                  0.00   Kurtosis:                        10.01\n",
      "===================================================================================\n",
      "\n",
      "Warnings:\n",
      "[1] Covariance matrix calculated using the outer product of gradients (complex-step).\n"
     ]
    },
    {
     "data": {
      "image/png": "[encoded data removed]",
      "text/plain": [
       "<Figure size 1080x576 with 4 Axes>"
      ]
     },
     "metadata": {
      "needs_background": "light"
     },
     "output_type": "display_data"
    }
   ],
   "source": [
    "model_autoARIMA = auto_arima(train_data_arima, start_p=0, start_q=0,\n",
    "                      test='adf',       # use adftest to find optimal 'd'\n",
    "                      max_p=3, max_q=3, # maximum p and q\n",
    "                      m=1,              # frequency of series\n",
    "                      d=None,           # let model determine 'd'\n",
    "                      seasonal=False,   # No Seasonality\n",
    "                      start_P=0, \n",
    "                      D=0, \n",
    "                      trace=True,\n",
    "                      error_action='ignore',  \n",
    "                      suppress_warnings=True, \n",
    "                      stepwise=True)\n",
    "print(model_autoARIMA.summary())\n",
    "model_autoARIMA.plot_diagnostics(figsize=(15,8))\n",
    "plt.show()"
   ]
  },
  {
   "cell_type": "code",
   "execution_count": 46,
   "id": "83c2e727",
   "metadata": {},
   "outputs": [
    {
     "name": "stderr",
     "output_type": "stream",
     "text": [
      "C:\\anaconda_installed\\lib\\site-packages\\statsmodels\\tsa\\statespace\\sarimax.py:966: UserWarning: Non-stationary starting autoregressive parameters found. Using zeros as starting parameters.\n",
      "  warn('Non-stationary starting autoregressive parameters'\n",
      "C:\\anaconda_installed\\lib\\site-packages\\statsmodels\\tsa\\statespace\\sarimax.py:978: UserWarning: Non-invertible starting MA parameters found. Using zeros as starting parameters.\n",
      "  warn('Non-invertible starting MA parameters found.'\n"
     ]
    },
    {
     "name": "stdout",
     "output_type": "stream",
     "text": [
      "                               SARIMAX Results                                \n",
      "==============================================================================\n",
      "Dep. Variable:                      y   No. Observations:                 3109\n",
      "Model:                 ARIMA(2, 0, 1)   Log Likelihood                2830.680\n",
      "Date:                Thu, 11 Jan 2024   AIC                          -5651.359\n",
      "Time:                        11:27:11   BIC                          -5621.149\n",
      "Sample:                             0   HQIC                         -5640.512\n",
      "                               - 3109                                         \n",
      "Covariance Type:                  opg                                         \n",
      "==============================================================================\n",
      "                 coef    std err          z      P>|z|      [0.025      0.975]\n",
      "------------------------------------------------------------------------------\n",
      "const         -0.0712      0.380     -0.188      0.851      -0.815       0.673\n",
      "ar.L1          0.0617      0.033      1.893      0.058      -0.002       0.126\n",
      "ar.L2          0.9300      0.033     28.590      0.000       0.866       0.994\n",
      "ma.L1          0.9538      0.029     32.915      0.000       0.897       1.011\n",
      "sigma2         0.0095      0.000     76.939      0.000       0.009       0.010\n",
      "===================================================================================\n",
      "Ljung-Box (L1) (Q):                   0.83   Jarque-Bera (JB):              6638.40\n",
      "Prob(Q):                              0.36   Prob(JB):                         0.00\n",
      "Heteroskedasticity (H):               2.04   Skew:                            -0.72\n",
      "Prob(H) (two-sided):                  0.00   Kurtosis:                        10.01\n",
      "===================================================================================\n",
      "\n",
      "Warnings:\n",
      "[1] Covariance matrix calculated using the outer product of gradients (complex-step).\n"
     ]
    }
   ],
   "source": [
    "import statsmodels.api as sm\n",
    "model = ARIMA(train_data_arima, order=(2,0,1))  \n",
    "fitted = model.fit()  \n",
    "print(fitted.summary())"
   ]
  },
  {
   "cell_type": "code",
   "execution_count": 47,
   "id": "cef8c68d",
   "metadata": {},
   "outputs": [
    {
     "name": "stderr",
     "output_type": "stream",
     "text": [
      "C:\\anaconda_installed\\lib\\site-packages\\statsmodels\\tsa\\statespace\\representation.py:374: FutureWarning: Unknown keyword arguments: dict_keys(['alpha']).Passing unknown keyword arguments will raise a TypeError beginning in version 0.15.\n",
      "  warnings.warn(msg, FutureWarning)\n"
     ]
    }
   ],
   "source": [
    "# Forecast\n",
    "y_check_pred_arima = fitted.forecast(window, alpha=0.05)  # 95% conf"
   ]
  },
  {
   "cell_type": "code",
   "execution_count": 48,
   "id": "dc6af13c",
   "metadata": {},
   "outputs": [
    {
     "name": "stdout",
     "output_type": "stream",
     "text": [
      "Mean absolute error(check) :  167.56200461802888\n",
      "Root Mean Squared error(check) :  193.08683898071834\n"
     ]
    }
   ],
   "source": [
    "mae_check_arima = mean_absolute_error(y_check* target_stdev + target_mean,y_check_pred_arima* target_stdev + target_mean)\n",
    "print('Mean absolute error(check) : ',mae_check_arima)\n",
    "rmse_check_arima = mean_squared_error(y_check* target_stdev + target_mean,y_check_pred_arima* target_stdev + target_mean, squared=False)\n",
    "print('Root Mean Squared error(check) : ',rmse_check_arima)"
   ]
  },
  {
   "cell_type": "markdown",
   "id": "aa29c82e",
   "metadata": {},
   "source": [
    "## Data processing for regression model"
   ]
  },
  {
   "cell_type": "code",
   "execution_count": 49,
   "id": "67e797f2",
   "metadata": {},
   "outputs": [
    {
     "name": "stdout",
     "output_type": "stream",
     "text": [
      "(3079, 30, 24) (3079, 30)\n"
     ]
    }
   ],
   "source": [
    "# Data for regression model\n",
    "sequence_length_reg = window_reg =30 # Number of time steps that will be inputted into LSTM network\n",
    "\n",
    "def create_dataset_reg(dataset,target,features, lookback, window):\n",
    "    X_store, y_store = [], []\n",
    "    for i in range(len(dataset)-lookback-window):\n",
    "        X = (dataset[features].values)[i:i+lookback]\n",
    "        y = (dataset[target].values)[i+lookback-1:i+lookback+window-1]\n",
    "        X_store.append(X)\n",
    "        y_store.append(y)\n",
    "    return X_store,y_store\n",
    "\n",
    "X_reg,y_reg = create_dataset_reg(\n",
    "    df,\n",
    "    target=target,\n",
    "    features=features,\n",
    "    lookback=sequence_length_reg, window=window_reg)\n",
    "\n",
    "print(np.array(X_reg).shape, np.array(y_reg).shape)"
   ]
  },
  {
   "cell_type": "code",
   "execution_count": 50,
   "id": "1229439a",
   "metadata": {},
   "outputs": [],
   "source": [
    "X_reg = tf.gather(X_reg, shuffled_indices)\n",
    "y_reg = tf.gather(y_reg, shuffled_indices)"
   ]
  },
  {
   "cell_type": "code",
   "execution_count": 51,
   "id": "64866d2b",
   "metadata": {},
   "outputs": [
    {
     "name": "stdout",
     "output_type": "stream",
     "text": [
      "Shape of train is (2771, 30, 24) and (2771, 30)\n",
      "Shape os test is (308, 30, 24) and (308, 30)\n"
     ]
    }
   ],
   "source": [
    "# Train test split\n",
    "m=np.array(X_reg).shape[0] # get first dimension\n",
    "size=int(m*0.9)\n",
    "X_train_reg=X_reg[:size]\n",
    "y_train_reg=y_reg[:size]\n",
    "X_test_reg=X_reg[size:]\n",
    "y_test_reg=y_reg[size:]\n",
    "print('Shape of train is',np.array(X_train_reg).shape,'and',np.array(y_train_reg).shape)\n",
    "print('Shape os test is',np.array(X_test_reg).shape,'and',np.array(y_test_reg).shape)"
   ]
  },
  {
   "cell_type": "code",
   "execution_count": 52,
   "id": "3b64fca9",
   "metadata": {},
   "outputs": [
    {
     "name": "stdout",
     "output_type": "stream",
     "text": [
      "(83130, 24)\n",
      "(83130,)\n"
     ]
    }
   ],
   "source": [
    "X_train_reg_=np.array([inner for outer in X_train_reg for inner in outer])\n",
    "print(X_train_reg_.shape)\n",
    "y_train_reg_=np.array([inner for outer in y_train_reg for inner in outer])\n",
    "print(y_train_reg_.shape)"
   ]
  },
  {
   "cell_type": "code",
   "execution_count": 53,
   "id": "3d5beda1",
   "metadata": {},
   "outputs": [
    {
     "name": "stdout",
     "output_type": "stream",
     "text": [
      "(9240, 24)\n",
      "(9240,)\n"
     ]
    }
   ],
   "source": [
    "X_test_reg_=np.array([inner for outer in X_test_reg for inner in outer])\n",
    "print(X_test_reg_.shape)\n",
    "y_test_reg_=np.array([inner for outer in y_test_reg for inner in outer])\n",
    "print(y_test_reg_.shape)"
   ]
  },
  {
   "cell_type": "code",
   "execution_count": 54,
   "id": "b9a2781c",
   "metadata": {},
   "outputs": [],
   "source": [
    "# Prepare test data\n",
    "X_check_reg=(df[features].values)[len(df)-window_reg-sequence_length_reg+1:len(df)- window_reg+1]\n",
    "y_check_reg=(df[target].values)[len(df)-window_reg:len(df)]"
   ]
  },
  {
   "cell_type": "code",
   "execution_count": null,
   "id": "97c39e12",
   "metadata": {},
   "outputs": [],
   "source": []
  },
  {
   "cell_type": "markdown",
   "id": "afbd8682",
   "metadata": {},
   "source": [
    "## Linear regression model"
   ]
  },
  {
   "cell_type": "code",
   "execution_count": 55,
   "id": "13632897",
   "metadata": {},
   "outputs": [
    {
     "data": {
      "text/html": [
       "<style>#sk-container-id-1 {color: black;background-color: white;}#sk-container-id-1 pre{padding: 0;}#sk-container-id-1 div.sk-toggleable {background-color: white;}#sk-container-id-1 label.sk-toggleable__label {cursor: pointer;display: block;width: 100%;margin-bottom: 0;padding: 0.3em;box-sizing: border-box;text-align: center;}#sk-container-id-1 label.sk-toggleable__label-arrow:before {content: \"▸\";float: left;margin-right: 0.25em;color: #696969;}#sk-container-id-1 label.sk-toggleable__label-arrow:hover:before {color: black;}#sk-container-id-1 div.sk-estimator:hover label.sk-toggleable__label-arrow:before {color: black;}#sk-container-id-1 div.sk-toggleable__content {max-height: 0;max-width: 0;overflow: hidden;text-align: left;background-color: #f0f8ff;}#sk-container-id-1 div.sk-toggleable__content pre {margin: 0.2em;color: black;border-radius: 0.25em;background-color: #f0f8ff;}#sk-container-id-1 input.sk-toggleable__control:checked~div.sk-toggleable__content {max-height: 200px;max-width: 100%;overflow: auto;}#sk-container-id-1 input.sk-toggleable__control:checked~label.sk-toggleable__label-arrow:before {content: \"▾\";}#sk-container-id-1 div.sk-estimator input.sk-toggleable__control:checked~label.sk-toggleable__label {background-color: #d4ebff;}#sk-container-id-1 div.sk-label input.sk-toggleable__control:checked~label.sk-toggleable__label {background-color: #d4ebff;}#sk-container-id-1 input.sk-hidden--visually {border: 0;clip: rect(1px 1px 1px 1px);clip: rect(1px, 1px, 1px, 1px);height: 1px;margin: -1px;overflow: hidden;padding: 0;position: absolute;width: 1px;}#sk-container-id-1 div.sk-estimator {font-family: monospace;background-color: #f0f8ff;border: 1px dotted black;border-radius: 0.25em;box-sizing: border-box;margin-bottom: 0.5em;}#sk-container-id-1 div.sk-estimator:hover {background-color: #d4ebff;}#sk-container-id-1 div.sk-parallel-item::after {content: \"\";width: 100%;border-bottom: 1px solid gray;flex-grow: 1;}#sk-container-id-1 div.sk-label:hover label.sk-toggleable__label {background-color: #d4ebff;}#sk-container-id-1 div.sk-serial::before {content: \"\";position: absolute;border-left: 1px solid gray;box-sizing: border-box;top: 0;bottom: 0;left: 50%;z-index: 0;}#sk-container-id-1 div.sk-serial {display: flex;flex-direction: column;align-items: center;background-color: white;padding-right: 0.2em;padding-left: 0.2em;position: relative;}#sk-container-id-1 div.sk-item {position: relative;z-index: 1;}#sk-container-id-1 div.sk-parallel {display: flex;align-items: stretch;justify-content: center;background-color: white;position: relative;}#sk-container-id-1 div.sk-item::before, #sk-container-id-1 div.sk-parallel-item::before {content: \"\";position: absolute;border-left: 1px solid gray;box-sizing: border-box;top: 0;bottom: 0;left: 50%;z-index: -1;}#sk-container-id-1 div.sk-parallel-item {display: flex;flex-direction: column;z-index: 1;position: relative;background-color: white;}#sk-container-id-1 div.sk-parallel-item:first-child::after {align-self: flex-end;width: 50%;}#sk-container-id-1 div.sk-parallel-item:last-child::after {align-self: flex-start;width: 50%;}#sk-container-id-1 div.sk-parallel-item:only-child::after {width: 0;}#sk-container-id-1 div.sk-dashed-wrapped {border: 1px dashed gray;margin: 0 0.4em 0.5em 0.4em;box-sizing: border-box;padding-bottom: 0.4em;background-color: white;}#sk-container-id-1 div.sk-label label {font-family: monospace;font-weight: bold;display: inline-block;line-height: 1.2em;}#sk-container-id-1 div.sk-label-container {text-align: center;}#sk-container-id-1 div.sk-container {/* jupyter's `normalize.less` sets `[hidden] { display: none; }` but bootstrap.min.css set `[hidden] { display: none !important; }` so we also need the `!important` here to be able to override the default hidden behavior on the sphinx rendered scikit-learn.org. See: https://github.com/scikit-learn/scikit-learn/issues/21755 */display: inline-block !important;position: relative;}#sk-container-id-1 div.sk-text-repr-fallback {display: none;}</style><div id=\"sk-container-id-1\" class=\"sk-top-container\"><div class=\"sk-text-repr-fallback\"><pre>LinearRegression()</pre><b>In a Jupyter environment, please rerun this cell to show the HTML representation or trust the notebook. <br />On GitHub, the HTML representation is unable to render, please try loading this page with nbviewer.org.</b></div><div class=\"sk-container\" hidden><div class=\"sk-item\"><div class=\"sk-estimator sk-toggleable\"><input class=\"sk-toggleable__control sk-hidden--visually\" id=\"sk-estimator-id-1\" type=\"checkbox\" checked><label for=\"sk-estimator-id-1\" class=\"sk-toggleable__label sk-toggleable__label-arrow\">LinearRegression</label><div class=\"sk-toggleable__content\"><pre>LinearRegression()</pre></div></div></div></div></div>"
      ],
      "text/plain": [
       "LinearRegression()"
      ]
     },
     "execution_count": 55,
     "metadata": {},
     "output_type": "execute_result"
    }
   ],
   "source": [
    "from sklearn.linear_model import LinearRegression\n",
    "#Creating the Regressor\n",
    "regressor = LinearRegression()\n",
    "regressor.fit(X_train_reg_, y_train_reg_)"
   ]
  },
  {
   "cell_type": "code",
   "execution_count": 56,
   "id": "9cc5d7a0",
   "metadata": {},
   "outputs": [
    {
     "name": "stdout",
     "output_type": "stream",
     "text": [
      "MAE train Error :  164.09589708723485\n",
      "RMSE train Error :  227.28661774273726\n"
     ]
    }
   ],
   "source": [
    "y_train_pred_mlr=regressor.predict(X_train_reg_)\n",
    "mae_train_mlr = mean_absolute_error(y_train_reg_* target_stdev + target_mean,y_train_pred_mlr* target_stdev + target_mean)\n",
    "print('MAE train Error : ',mae_train_mlr)\n",
    "rmse_train_mlr = mean_squared_error(y_train_reg_* target_stdev + target_mean,y_train_pred_mlr* target_stdev + target_mean, squared=False)\n",
    "print('RMSE train Error : ',rmse_train_mlr)"
   ]
  },
  {
   "cell_type": "code",
   "execution_count": 57,
   "id": "8f3520ad",
   "metadata": {},
   "outputs": [
    {
     "name": "stdout",
     "output_type": "stream",
     "text": [
      "MAE test Error :  162.89248485226412\n",
      "RMSE test Error :  224.71638965442867\n"
     ]
    }
   ],
   "source": [
    "y_test_pred_mlr=regressor.predict(X_test_reg_)\n",
    "mae_test_mlr = mean_absolute_error(y_test_reg_* target_stdev + target_mean,y_test_pred_mlr* target_stdev + target_mean)\n",
    "print('MAE test Error : ',mae_test_mlr)\n",
    "rmse_test_mlr = mean_squared_error(y_test_reg_* target_stdev + target_mean,y_test_pred_mlr* target_stdev + target_mean, squared=False)\n",
    "print('RMSE test Error : ',rmse_test_mlr)"
   ]
  },
  {
   "cell_type": "code",
   "execution_count": 58,
   "id": "59ce3315",
   "metadata": {},
   "outputs": [
    {
     "name": "stdout",
     "output_type": "stream",
     "text": [
      "MAE check error :  481.13985192189915\n",
      "RMSE check error:  491.53032208186283\n"
     ]
    }
   ],
   "source": [
    "y_check_pred_mlr = regressor.predict(X_check_reg)\n",
    "mae_check_mlr = mean_absolute_error(y_check_reg* target_stdev + target_mean,y_check_pred_mlr* target_stdev + target_mean)\n",
    "print('MAE check error : ',mae_check_mlr)\n",
    "rmse_check_mlr = mean_squared_error(y_check_reg* target_stdev + target_mean,y_check_pred_mlr* target_stdev + target_mean, squared=False)\n",
    "print('RMSE check error: ',rmse_check_mlr)"
   ]
  },
  {
   "cell_type": "code",
   "execution_count": null,
   "id": "c814f50e",
   "metadata": {},
   "outputs": [],
   "source": []
  },
  {
   "cell_type": "markdown",
   "id": "eaa44a54",
   "metadata": {},
   "source": [
    "## XGboost"
   ]
  },
  {
   "cell_type": "code",
   "execution_count": 59,
   "id": "b0726d75",
   "metadata": {},
   "outputs": [],
   "source": [
    "import xgboost as xg"
   ]
  },
  {
   "cell_type": "code",
   "execution_count": 60,
   "id": "a95c77d5",
   "metadata": {},
   "outputs": [
    {
     "data": {
      "text/html": [
       "<style>#sk-container-id-2 {color: black;background-color: white;}#sk-container-id-2 pre{padding: 0;}#sk-container-id-2 div.sk-toggleable {background-color: white;}#sk-container-id-2 label.sk-toggleable__label {cursor: pointer;display: block;width: 100%;margin-bottom: 0;padding: 0.3em;box-sizing: border-box;text-align: center;}#sk-container-id-2 label.sk-toggleable__label-arrow:before {content: \"▸\";float: left;margin-right: 0.25em;color: #696969;}#sk-container-id-2 label.sk-toggleable__label-arrow:hover:before {color: black;}#sk-container-id-2 div.sk-estimator:hover label.sk-toggleable__label-arrow:before {color: black;}#sk-container-id-2 div.sk-toggleable__content {max-height: 0;max-width: 0;overflow: hidden;text-align: left;background-color: #f0f8ff;}#sk-container-id-2 div.sk-toggleable__content pre {margin: 0.2em;color: black;border-radius: 0.25em;background-color: #f0f8ff;}#sk-container-id-2 input.sk-toggleable__control:checked~div.sk-toggleable__content {max-height: 200px;max-width: 100%;overflow: auto;}#sk-container-id-2 input.sk-toggleable__control:checked~label.sk-toggleable__label-arrow:before {content: \"▾\";}#sk-container-id-2 div.sk-estimator input.sk-toggleable__control:checked~label.sk-toggleable__label {background-color: #d4ebff;}#sk-container-id-2 div.sk-label input.sk-toggleable__control:checked~label.sk-toggleable__label {background-color: #d4ebff;}#sk-container-id-2 input.sk-hidden--visually {border: 0;clip: rect(1px 1px 1px 1px);clip: rect(1px, 1px, 1px, 1px);height: 1px;margin: -1px;overflow: hidden;padding: 0;position: absolute;width: 1px;}#sk-container-id-2 div.sk-estimator {font-family: monospace;background-color: #f0f8ff;border: 1px dotted black;border-radius: 0.25em;box-sizing: border-box;margin-bottom: 0.5em;}#sk-container-id-2 div.sk-estimator:hover {background-color: #d4ebff;}#sk-container-id-2 div.sk-parallel-item::after {content: \"\";width: 100%;border-bottom: 1px solid gray;flex-grow: 1;}#sk-container-id-2 div.sk-label:hover label.sk-toggleable__label {background-color: #d4ebff;}#sk-container-id-2 div.sk-serial::before {content: \"\";position: absolute;border-left: 1px solid gray;box-sizing: border-box;top: 0;bottom: 0;left: 50%;z-index: 0;}#sk-container-id-2 div.sk-serial {display: flex;flex-direction: column;align-items: center;background-color: white;padding-right: 0.2em;padding-left: 0.2em;position: relative;}#sk-container-id-2 div.sk-item {position: relative;z-index: 1;}#sk-container-id-2 div.sk-parallel {display: flex;align-items: stretch;justify-content: center;background-color: white;position: relative;}#sk-container-id-2 div.sk-item::before, #sk-container-id-2 div.sk-parallel-item::before {content: \"\";position: absolute;border-left: 1px solid gray;box-sizing: border-box;top: 0;bottom: 0;left: 50%;z-index: -1;}#sk-container-id-2 div.sk-parallel-item {display: flex;flex-direction: column;z-index: 1;position: relative;background-color: white;}#sk-container-id-2 div.sk-parallel-item:first-child::after {align-self: flex-end;width: 50%;}#sk-container-id-2 div.sk-parallel-item:last-child::after {align-self: flex-start;width: 50%;}#sk-container-id-2 div.sk-parallel-item:only-child::after {width: 0;}#sk-container-id-2 div.sk-dashed-wrapped {border: 1px dashed gray;margin: 0 0.4em 0.5em 0.4em;box-sizing: border-box;padding-bottom: 0.4em;background-color: white;}#sk-container-id-2 div.sk-label label {font-family: monospace;font-weight: bold;display: inline-block;line-height: 1.2em;}#sk-container-id-2 div.sk-label-container {text-align: center;}#sk-container-id-2 div.sk-container {/* jupyter's `normalize.less` sets `[hidden] { display: none; }` but bootstrap.min.css set `[hidden] { display: none !important; }` so we also need the `!important` here to be able to override the default hidden behavior on the sphinx rendered scikit-learn.org. See: https://github.com/scikit-learn/scikit-learn/issues/21755 */display: inline-block !important;position: relative;}#sk-container-id-2 div.sk-text-repr-fallback {display: none;}</style><div id=\"sk-container-id-2\" class=\"sk-top-container\"><div class=\"sk-text-repr-fallback\"><pre>XGBRegressor(base_score=0.5, booster=&#x27;gbtree&#x27;, colsample_bylevel=1,\n",
       "             colsample_bynode=1, colsample_bytree=1, enable_categorical=False,\n",
       "             gamma=0, gpu_id=-1, importance_type=None,\n",
       "             interaction_constraints=&#x27;&#x27;, learning_rate=0.300000012,\n",
       "             max_delta_step=0, max_depth=6, min_child_weight=1, missing=nan,\n",
       "             monotone_constraints=&#x27;()&#x27;, n_estimators=100, n_jobs=8,\n",
       "             num_parallel_tree=1, predictor=&#x27;auto&#x27;, random_state=123,\n",
       "             reg_alpha=0, reg_lambda=1, scale_pos_weight=1, seed=123,\n",
       "             subsample=1, tree_method=&#x27;exact&#x27;, validate_parameters=1,\n",
       "             verbosity=None)</pre><b>In a Jupyter environment, please rerun this cell to show the HTML representation or trust the notebook. <br />On GitHub, the HTML representation is unable to render, please try loading this page with nbviewer.org.</b></div><div class=\"sk-container\" hidden><div class=\"sk-item\"><div class=\"sk-estimator sk-toggleable\"><input class=\"sk-toggleable__control sk-hidden--visually\" id=\"sk-estimator-id-2\" type=\"checkbox\" checked><label for=\"sk-estimator-id-2\" class=\"sk-toggleable__label sk-toggleable__label-arrow\">XGBRegressor</label><div class=\"sk-toggleable__content\"><pre>XGBRegressor(base_score=0.5, booster=&#x27;gbtree&#x27;, colsample_bylevel=1,\n",
       "             colsample_bynode=1, colsample_bytree=1, enable_categorical=False,\n",
       "             gamma=0, gpu_id=-1, importance_type=None,\n",
       "             interaction_constraints=&#x27;&#x27;, learning_rate=0.300000012,\n",
       "             max_delta_step=0, max_depth=6, min_child_weight=1, missing=nan,\n",
       "             monotone_constraints=&#x27;()&#x27;, n_estimators=100, n_jobs=8,\n",
       "             num_parallel_tree=1, predictor=&#x27;auto&#x27;, random_state=123,\n",
       "             reg_alpha=0, reg_lambda=1, scale_pos_weight=1, seed=123,\n",
       "             subsample=1, tree_method=&#x27;exact&#x27;, validate_parameters=1,\n",
       "             verbosity=None)</pre></div></div></div></div></div>"
      ],
      "text/plain": [
       "XGBRegressor(base_score=0.5, booster='gbtree', colsample_bylevel=1,\n",
       "             colsample_bynode=1, colsample_bytree=1, enable_categorical=False,\n",
       "             gamma=0, gpu_id=-1, importance_type=None,\n",
       "             interaction_constraints='', learning_rate=0.300000012,\n",
       "             max_delta_step=0, max_depth=6, min_child_weight=1, missing=nan,\n",
       "             monotone_constraints='()', n_estimators=100, n_jobs=8,\n",
       "             num_parallel_tree=1, predictor='auto', random_state=123,\n",
       "             reg_alpha=0, reg_lambda=1, scale_pos_weight=1, seed=123,\n",
       "             subsample=1, tree_method='exact', validate_parameters=1,\n",
       "             verbosity=None)"
      ]
     },
     "execution_count": 60,
     "metadata": {},
     "output_type": "execute_result"
    }
   ],
   "source": [
    "# Instantiation \n",
    "xgb_r = xg.XGBRegressor(objective ='reg:squarederror', \n",
    "                   seed = 123) \n",
    "# Fitting the model \n",
    "xgb_r.fit(X_train_reg_, y_train_reg_) "
   ]
  },
  {
   "cell_type": "code",
   "execution_count": 61,
   "id": "2a12e02f",
   "metadata": {},
   "outputs": [
    {
     "name": "stdout",
     "output_type": "stream",
     "text": [
      "MAE train:  11.776860461400817\n",
      "RMSE train:  15.328551771821145\n"
     ]
    }
   ],
   "source": [
    "# Predict the model \n",
    "y_train_pred_xg = xgb_r.predict(X_train_reg_) \n",
    "mae_train_xg = mean_absolute_error(y_train_reg_* target_stdev + target_mean, y_train_pred_xg* target_stdev + target_mean)\n",
    "print('MAE train: ',mae_train_xg)\n",
    "rmse_train_xg = mean_squared_error(y_train_reg_* target_stdev + target_mean, y_train_pred_xg* target_stdev + target_mean, squared=False)\n",
    "print('RMSE train: ',rmse_train_xg)"
   ]
  },
  {
   "cell_type": "code",
   "execution_count": 62,
   "id": "f5e66624",
   "metadata": {},
   "outputs": [
    {
     "name": "stdout",
     "output_type": "stream",
     "text": [
      "MAE test:  11.778206612723212\n",
      "RMSE test:  15.427405310178957\n"
     ]
    }
   ],
   "source": [
    "# Predict the model \n",
    "y_test_pred_xg = xgb_r.predict(X_test_reg_) \n",
    "mae_test_xg = mean_absolute_error(y_test_reg_* target_stdev + target_mean, y_test_pred_xg* target_stdev + target_mean)\n",
    "print('MAE test: ',mae_test_xg)\n",
    "rmse_test_xg = mean_squared_error(y_test_reg_* target_stdev + target_mean, y_test_pred_xg* target_stdev + target_mean, squared=False)\n",
    "print('RMSE test: ',rmse_test_xg)"
   ]
  },
  {
   "cell_type": "code",
   "execution_count": 63,
   "id": "4e2c2637",
   "metadata": {},
   "outputs": [
    {
     "name": "stdout",
     "output_type": "stream",
     "text": [
      "Mean absolute Error :  40.6940201822916\n",
      "Root Mean Squared Error :  137.3179632490203\n"
     ]
    }
   ],
   "source": [
    "# Predict the model \n",
    "y_check_pred_xg = xgb_r.predict(X_check_reg) \n",
    "mae_check_xg = mean_absolute_error(y_check_reg* target_stdev + target_mean, y_check_pred_xg* target_stdev + target_mean)\n",
    "print('Mean absolute Error : ',mae_check_xg)\n",
    "rmse_check_xg = mean_squared_error(y_check_reg* target_stdev + target_mean, y_check_pred_xg* target_stdev + target_mean, squared=False)\n",
    "print('Root Mean Squared Error : ',rmse_check_xg)"
   ]
  },
  {
   "cell_type": "code",
   "execution_count": null,
   "id": "5ed77741",
   "metadata": {},
   "outputs": [],
   "source": []
  },
  {
   "cell_type": "markdown",
   "id": "8127e08b",
   "metadata": {},
   "source": [
    "## ANN"
   ]
  },
  {
   "cell_type": "code",
   "execution_count": 64,
   "id": "821b24bc",
   "metadata": {},
   "outputs": [],
   "source": [
    "from tensorflow.keras import regularizers, initializers\n",
    "from keras.layers import Input, Dense, Reshape, Embedding, concatenate, Dropout, Flatten\n",
    "from keras.layers.merge import Dot\n",
    "from keras.preprocessing import sequence\n",
    "from keras import Model"
   ]
  },
  {
   "cell_type": "code",
   "execution_count": 65,
   "id": "06b1a913",
   "metadata": {},
   "outputs": [],
   "source": [
    "input_ = Input((len(features),)) # feature\n",
    "\n",
    "den1=Dense(256, use_bias=True,activation='relu')(input_)\n",
    "\n",
    "den2=Dense(128, use_bias=True,activation='relu')(den1)\n",
    "\n",
    "den3=Dense(64, use_bias=True,activation='relu')(den2)\n",
    "\n",
    "den4=Dense(32, use_bias=True,activation='relu')(den3)\n",
    "\n",
    "den5=Dense(1, use_bias=True,activation='linear')(den4)\n",
    "\n",
    "model = Model(inputs=[input_], outputs=den5)"
   ]
  },
  {
   "cell_type": "code",
   "execution_count": 66,
   "id": "be2a8978",
   "metadata": {},
   "outputs": [],
   "source": [
    "import tensorflow as tf"
   ]
  },
  {
   "cell_type": "code",
   "execution_count": 67,
   "id": "3b81301b",
   "metadata": {},
   "outputs": [],
   "source": [
    "loss_fn = tf.keras.losses.MeanSquaredError()\n",
    "opt = tf.keras.optimizers.Adam(learning_rate=0.0001)\n",
    "model.compile(opt, loss=loss_fn)"
   ]
  },
  {
   "cell_type": "code",
   "execution_count": 68,
   "id": "9c48c57e",
   "metadata": {},
   "outputs": [
    {
     "name": "stdout",
     "output_type": "stream",
     "text": [
      "Epoch 1/150\n",
      "5196/5196 [==============================] - 7s 1ms/step - loss: 0.0503 - val_loss: 0.0180\n",
      "Epoch 2/150\n",
      "5196/5196 [==============================] - 5s 1ms/step - loss: 0.0127 - val_loss: 0.0085\n",
      "Epoch 3/150\n",
      "5196/5196 [==============================] - 6s 1ms/step - loss: 0.0081 - val_loss: 0.0067\n",
      "Epoch 4/150\n",
      "5196/5196 [==============================] - 6s 1ms/step - loss: 0.0062 - val_loss: 0.0050\n",
      "Epoch 5/150\n",
      "5196/5196 [==============================] - 6s 1ms/step - loss: 0.0050 - val_loss: 0.0043\n",
      "Epoch 6/150\n",
      "5196/5196 [==============================] - 6s 1ms/step - loss: 0.0044 - val_loss: 0.0080\n",
      "Epoch 7/150\n",
      "5196/5196 [==============================] - 6s 1ms/step - loss: 0.0039 - val_loss: 0.0037\n",
      "Epoch 8/150\n",
      "5196/5196 [==============================] - 6s 1ms/step - loss: 0.0035 - val_loss: 0.0024\n",
      "Epoch 9/150\n",
      "5196/5196 [==============================] - 6s 1ms/step - loss: 0.0031 - val_loss: 0.0033\n",
      "Epoch 10/150\n",
      "5196/5196 [==============================] - 6s 1ms/step - loss: 0.0029 - val_loss: 0.0023\n",
      "Epoch 11/150\n",
      "5196/5196 [==============================] - 6s 1ms/step - loss: 0.0027 - val_loss: 0.0018\n",
      "Epoch 12/150\n",
      "5196/5196 [==============================] - 6s 1ms/step - loss: 0.0025 - val_loss: 0.0019\n",
      "Epoch 13/150\n",
      "5196/5196 [==============================] - 6s 1ms/step - loss: 0.0023 - val_loss: 0.0024\n",
      "Epoch 14/150\n",
      "5196/5196 [==============================] - 6s 1ms/step - loss: 0.0022 - val_loss: 0.0024\n",
      "Epoch 15/150\n",
      "5196/5196 [==============================] - 6s 1ms/step - loss: 0.0020 - val_loss: 0.0020\n",
      "Epoch 16/150\n",
      "5196/5196 [==============================] - 5s 1ms/step - loss: 0.0019 - val_loss: 0.0014\n",
      "Epoch 17/150\n",
      "5196/5196 [==============================] - 6s 1ms/step - loss: 0.0018 - val_loss: 0.0015\n",
      "Epoch 18/150\n",
      "5196/5196 [==============================] - 6s 1ms/step - loss: 0.0017 - val_loss: 0.0025\n",
      "Epoch 19/150\n",
      "5196/5196 [==============================] - 5s 1ms/step - loss: 0.0016 - val_loss: 0.0018\n",
      "Epoch 20/150\n",
      "5196/5196 [==============================] - 6s 1ms/step - loss: 0.0016 - val_loss: 0.0013\n",
      "Epoch 21/150\n",
      "5196/5196 [==============================] - 6s 1ms/step - loss: 0.0015 - val_loss: 0.0014\n",
      "Epoch 22/150\n",
      "5196/5196 [==============================] - 5s 1ms/step - loss: 0.0014 - val_loss: 0.0013\n",
      "Epoch 23/150\n",
      "5196/5196 [==============================] - 5s 1ms/step - loss: 0.0014 - val_loss: 0.0013\n",
      "Epoch 24/150\n",
      "5196/5196 [==============================] - 5s 1ms/step - loss: 0.0014 - val_loss: 0.0012\n",
      "Epoch 25/150\n",
      "5196/5196 [==============================] - 5s 1ms/step - loss: 0.0012 - val_loss: 0.0010\n",
      "Epoch 26/150\n",
      "5196/5196 [==============================] - 5s 1ms/step - loss: 0.0013 - val_loss: 0.0016\n",
      "Epoch 27/150\n",
      "5196/5196 [==============================] - 6s 1ms/step - loss: 0.0012 - val_loss: 0.0011\n",
      "Epoch 28/150\n",
      "5196/5196 [==============================] - 6s 1ms/step - loss: 0.0012 - val_loss: 0.0015\n",
      "Epoch 29/150\n",
      "5196/5196 [==============================] - 5s 1ms/step - loss: 0.0011 - val_loss: 0.0015\n",
      "Epoch 30/150\n",
      "5196/5196 [==============================] - 6s 1ms/step - loss: 0.0011 - val_loss: 0.0012\n",
      "Epoch 31/150\n",
      "5196/5196 [==============================] - 6s 1ms/step - loss: 0.0011 - val_loss: 6.9083e-04\n",
      "Epoch 32/150\n",
      "5196/5196 [==============================] - 5s 1ms/step - loss: 0.0010 - val_loss: 0.0011\n",
      "Epoch 33/150\n",
      "5196/5196 [==============================] - 5s 1ms/step - loss: 0.0010 - val_loss: 7.6604e-04\n",
      "Epoch 34/150\n",
      "5196/5196 [==============================] - 5s 1ms/step - loss: 9.8561e-04 - val_loss: 9.4447e-04\n",
      "Epoch 35/150\n",
      "5196/5196 [==============================] - 5s 1ms/step - loss: 9.5715e-04 - val_loss: 6.9525e-04\n",
      "Epoch 36/150\n",
      "5196/5196 [==============================] - 6s 1ms/step - loss: 9.2861e-04 - val_loss: 5.0741e-04\n",
      "Epoch 37/150\n",
      "5196/5196 [==============================] - 5s 1ms/step - loss: 8.7417e-04 - val_loss: 7.0021e-04\n",
      "Epoch 38/150\n",
      "5196/5196 [==============================] - 6s 1ms/step - loss: 8.7661e-04 - val_loss: 0.0011\n",
      "Epoch 39/150\n",
      "5196/5196 [==============================] - 5s 1ms/step - loss: 8.7877e-04 - val_loss: 6.4093e-04\n",
      "Epoch 40/150\n",
      "5196/5196 [==============================] - 5s 1ms/step - loss: 8.3838e-04 - val_loss: 6.8420e-04\n",
      "Epoch 41/150\n",
      "5196/5196 [==============================] - 5s 1ms/step - loss: 8.3569e-04 - val_loss: 6.0476e-04\n",
      "Epoch 42/150\n",
      "5196/5196 [==============================] - 6s 1ms/step - loss: 8.0859e-04 - val_loss: 6.4462e-04\n",
      "Epoch 43/150\n",
      "5196/5196 [==============================] - 5s 1ms/step - loss: 7.7887e-04 - val_loss: 5.4928e-04\n",
      "Epoch 44/150\n",
      "5196/5196 [==============================] - 5s 1ms/step - loss: 7.9273e-04 - val_loss: 4.7776e-04\n",
      "Epoch 45/150\n",
      "5196/5196 [==============================] - 5s 1ms/step - loss: 7.7871e-04 - val_loss: 0.0012\n",
      "Epoch 46/150\n",
      "5196/5196 [==============================] - 5s 1ms/step - loss: 7.3017e-04 - val_loss: 5.4857e-04\n",
      "Epoch 47/150\n",
      "5196/5196 [==============================] - 5s 1ms/step - loss: 7.1735e-04 - val_loss: 5.4075e-04\n",
      "Epoch 48/150\n",
      "5196/5196 [==============================] - 5s 1ms/step - loss: 7.1725e-04 - val_loss: 6.3342e-04\n",
      "Epoch 49/150\n",
      "5196/5196 [==============================] - 6s 1ms/step - loss: 7.0572e-04 - val_loss: 6.8381e-04\n",
      "Epoch 50/150\n",
      "5196/5196 [==============================] - 5s 1ms/step - loss: 6.8685e-04 - val_loss: 5.9955e-04\n",
      "Epoch 51/150\n",
      "5196/5196 [==============================] - 5s 1ms/step - loss: 6.7761e-04 - val_loss: 8.5110e-04\n",
      "Epoch 52/150\n",
      "5196/5196 [==============================] - 6s 1ms/step - loss: 6.6854e-04 - val_loss: 7.5116e-04\n",
      "Epoch 53/150\n",
      "5196/5196 [==============================] - 6s 1ms/step - loss: 6.4659e-04 - val_loss: 6.1698e-04\n",
      "Epoch 54/150\n",
      "5196/5196 [==============================] - 5s 1ms/step - loss: 6.4471e-04 - val_loss: 6.8220e-04\n",
      "Epoch 55/150\n",
      "5196/5196 [==============================] - 5s 1ms/step - loss: 6.3005e-04 - val_loss: 7.0080e-04\n",
      "Epoch 56/150\n",
      "5196/5196 [==============================] - 5s 1ms/step - loss: 6.3154e-04 - val_loss: 8.8701e-04\n",
      "Epoch 57/150\n",
      "5196/5196 [==============================] - 5s 1ms/step - loss: 6.1977e-04 - val_loss: 5.9794e-04\n",
      "Epoch 58/150\n",
      "5196/5196 [==============================] - 5s 1ms/step - loss: 6.0318e-04 - val_loss: 6.2304e-04\n",
      "Epoch 59/150\n",
      "5196/5196 [==============================] - 5s 1ms/step - loss: 5.8722e-04 - val_loss: 5.0970e-04\n",
      "Epoch 60/150\n",
      "5196/5196 [==============================] - 5s 1ms/step - loss: 6.0152e-04 - val_loss: 5.2312e-04\n",
      "Epoch 61/150\n",
      "5196/5196 [==============================] - 5s 1ms/step - loss: 5.6997e-04 - val_loss: 4.3610e-04\n",
      "Epoch 62/150\n",
      "5196/5196 [==============================] - 5s 1ms/step - loss: 5.7102e-04 - val_loss: 5.4225e-04\n",
      "Epoch 63/150\n",
      "5196/5196 [==============================] - 5s 1ms/step - loss: 5.5406e-04 - val_loss: 6.0451e-04\n",
      "Epoch 64/150\n",
      "5196/5196 [==============================] - 6s 1ms/step - loss: 5.4579e-04 - val_loss: 3.5832e-04\n",
      "Epoch 65/150\n",
      "5196/5196 [==============================] - 5s 1ms/step - loss: 5.3767e-04 - val_loss: 5.3680e-04\n",
      "Epoch 66/150\n",
      "5196/5196 [==============================] - 5s 1ms/step - loss: 5.2963e-04 - val_loss: 0.0011\n",
      "Epoch 67/150\n",
      "5196/5196 [==============================] - 5s 1ms/step - loss: 5.2316e-04 - val_loss: 6.1565e-04\n",
      "Epoch 68/150\n",
      "5196/5196 [==============================] - 6s 1ms/step - loss: 5.1943e-04 - val_loss: 5.0361e-04\n",
      "Epoch 69/150\n",
      "5196/5196 [==============================] - 5s 1ms/step - loss: 5.2653e-04 - val_loss: 6.8345e-04\n",
      "Epoch 70/150\n",
      "5196/5196 [==============================] - 5s 1ms/step - loss: 5.0394e-04 - val_loss: 3.9782e-04\n",
      "Epoch 71/150\n",
      "5196/5196 [==============================] - 5s 1ms/step - loss: 5.2809e-04 - val_loss: 5.3220e-04\n",
      "Epoch 72/150\n",
      "5196/5196 [==============================] - 5s 1ms/step - loss: 4.8116e-04 - val_loss: 4.5687e-04\n",
      "Epoch 73/150\n",
      "5196/5196 [==============================] - 5s 1ms/step - loss: 5.0060e-04 - val_loss: 5.9665e-04\n",
      "Epoch 74/150\n",
      "5196/5196 [==============================] - 6s 1ms/step - loss: 5.0839e-04 - val_loss: 3.3104e-04\n",
      "Epoch 75/150\n",
      "5196/5196 [==============================] - 6s 1ms/step - loss: 4.8229e-04 - val_loss: 5.9419e-04\n",
      "Epoch 76/150\n"
     ]
    },
    {
     "name": "stdout",
     "output_type": "stream",
     "text": [
      "5196/5196 [==============================] - 5s 1ms/step - loss: 4.6615e-04 - val_loss: 3.2842e-04\n",
      "Epoch 77/150\n",
      "5196/5196 [==============================] - 5s 1ms/step - loss: 4.9266e-04 - val_loss: 3.3905e-04\n",
      "Epoch 78/150\n",
      "5196/5196 [==============================] - 5s 1ms/step - loss: 4.6981e-04 - val_loss: 3.1398e-04\n",
      "Epoch 79/150\n",
      "5196/5196 [==============================] - 5s 1ms/step - loss: 4.5692e-04 - val_loss: 4.8043e-04\n",
      "Epoch 80/150\n",
      "5196/5196 [==============================] - 5s 1ms/step - loss: 4.5266e-04 - val_loss: 0.0012\n",
      "Epoch 81/150\n",
      "5196/5196 [==============================] - 5s 1ms/step - loss: 4.6136e-04 - val_loss: 2.8765e-04\n",
      "Epoch 82/150\n",
      "5196/5196 [==============================] - 5s 1ms/step - loss: 4.4229e-04 - val_loss: 4.0636e-04\n",
      "Epoch 83/150\n",
      "5196/5196 [==============================] - 5s 1ms/step - loss: 4.4074e-04 - val_loss: 4.8889e-04\n",
      "Epoch 84/150\n",
      "5196/5196 [==============================] - 7s 1ms/step - loss: 4.4461e-04 - val_loss: 3.5132e-04\n",
      "Epoch 85/150\n",
      "5196/5196 [==============================] - 6s 1ms/step - loss: 4.2144e-04 - val_loss: 4.6575e-04\n",
      "Epoch 86/150\n",
      "5196/5196 [==============================] - 6s 1ms/step - loss: 4.3612e-04 - val_loss: 3.5316e-04\n",
      "Epoch 87/150\n",
      "5196/5196 [==============================] - 5s 1ms/step - loss: 4.1273e-04 - val_loss: 5.9952e-04\n",
      "Epoch 88/150\n",
      "5196/5196 [==============================] - 5s 1ms/step - loss: 4.1080e-04 - val_loss: 4.4380e-04\n",
      "Epoch 89/150\n",
      "5196/5196 [==============================] - 5s 1ms/step - loss: 4.1126e-04 - val_loss: 3.2449e-04\n",
      "Epoch 90/150\n",
      "5196/5196 [==============================] - 5s 1ms/step - loss: 4.1778e-04 - val_loss: 3.3019e-04\n",
      "Epoch 91/150\n",
      "5196/5196 [==============================] - 5s 1ms/step - loss: 3.9904e-04 - val_loss: 3.5774e-04\n",
      "Epoch 92/150\n",
      "5196/5196 [==============================] - 5s 1ms/step - loss: 3.9854e-04 - val_loss: 4.6828e-04\n",
      "Epoch 93/150\n",
      "5196/5196 [==============================] - 5s 1ms/step - loss: 4.0231e-04 - val_loss: 0.0010\n",
      "Epoch 94/150\n",
      "5196/5196 [==============================] - 5s 1ms/step - loss: 4.0615e-04 - val_loss: 2.4900e-04\n",
      "Epoch 95/150\n",
      "5196/5196 [==============================] - 6s 1ms/step - loss: 3.9183e-04 - val_loss: 2.6424e-04\n",
      "Epoch 96/150\n",
      "5196/5196 [==============================] - 6s 1ms/step - loss: 3.8690e-04 - val_loss: 3.4257e-04\n",
      "Epoch 97/150\n",
      "5196/5196 [==============================] - 6s 1ms/step - loss: 3.8570e-04 - val_loss: 2.5991e-04\n",
      "Epoch 98/150\n",
      "5196/5196 [==============================] - 5s 1ms/step - loss: 3.6960e-04 - val_loss: 7.2315e-04\n",
      "Epoch 99/150\n",
      "5196/5196 [==============================] - 5s 1ms/step - loss: 3.7260e-04 - val_loss: 3.3465e-04\n",
      "Epoch 100/150\n",
      "5196/5196 [==============================] - 5s 1ms/step - loss: 3.6422e-04 - val_loss: 3.8148e-04\n",
      "Epoch 101/150\n",
      "5196/5196 [==============================] - 5s 1ms/step - loss: 3.6620e-04 - val_loss: 2.9725e-04\n",
      "Epoch 102/150\n",
      "5196/5196 [==============================] - 5s 1ms/step - loss: 3.6249e-04 - val_loss: 4.9128e-04\n",
      "Epoch 103/150\n",
      "5196/5196 [==============================] - 5s 1ms/step - loss: 3.6935e-04 - val_loss: 2.8654e-04\n",
      "Epoch 104/150\n",
      "5196/5196 [==============================] - 5s 1ms/step - loss: 3.6710e-04 - val_loss: 3.6506e-04\n",
      "Epoch 105/150\n",
      "5196/5196 [==============================] - 5s 1ms/step - loss: 3.6031e-04 - val_loss: 2.6954e-04\n",
      "Epoch 106/150\n",
      "5196/5196 [==============================] - 5s 1ms/step - loss: 3.4851e-04 - val_loss: 4.0881e-04\n",
      "Epoch 107/150\n",
      "5196/5196 [==============================] - 6s 1ms/step - loss: 3.5946e-04 - val_loss: 5.0821e-04\n",
      "Epoch 108/150\n",
      "5196/5196 [==============================] - 6s 1ms/step - loss: 3.4113e-04 - val_loss: 3.8761e-04\n",
      "Epoch 109/150\n",
      "5196/5196 [==============================] - 5s 1ms/step - loss: 3.5237e-04 - val_loss: 2.9125e-04\n",
      "Epoch 110/150\n",
      "5196/5196 [==============================] - 5s 1ms/step - loss: 3.5536e-04 - val_loss: 3.4561e-04\n",
      "Epoch 111/150\n",
      "5196/5196 [==============================] - 5s 1ms/step - loss: 3.4402e-04 - val_loss: 3.2292e-04\n",
      "Epoch 112/150\n",
      "5196/5196 [==============================] - 5s 1ms/step - loss: 3.4162e-04 - val_loss: 2.3223e-04\n",
      "Epoch 113/150\n",
      "5196/5196 [==============================] - 6s 1ms/step - loss: 3.3209e-04 - val_loss: 5.0240e-04\n",
      "Epoch 114/150\n",
      "5196/5196 [==============================] - 5s 1ms/step - loss: 3.3648e-04 - val_loss: 3.5163e-04\n",
      "Epoch 115/150\n",
      "5196/5196 [==============================] - 5s 1ms/step - loss: 3.3666e-04 - val_loss: 3.7147e-04\n",
      "Epoch 116/150\n",
      "5196/5196 [==============================] - 5s 1ms/step - loss: 3.2593e-04 - val_loss: 2.8366e-04\n",
      "Epoch 117/150\n",
      "5196/5196 [==============================] - 6s 1ms/step - loss: 3.2014e-04 - val_loss: 2.5714e-04\n",
      "Epoch 118/150\n",
      "5196/5196 [==============================] - 8s 2ms/step - loss: 3.1820e-04 - val_loss: 2.7640e-04\n",
      "Epoch 119/150\n",
      "5196/5196 [==============================] - 7s 1ms/step - loss: 3.1635e-04 - val_loss: 4.0181e-04\n",
      "Epoch 120/150\n",
      "5196/5196 [==============================] - 6s 1ms/step - loss: 3.2449e-04 - val_loss: 3.1293e-04\n",
      "Epoch 121/150\n",
      "5196/5196 [==============================] - 6s 1ms/step - loss: 3.0328e-04 - val_loss: 2.2170e-04\n",
      "Epoch 122/150\n",
      "5196/5196 [==============================] - 6s 1ms/step - loss: 3.0993e-04 - val_loss: 4.5905e-04\n",
      "Epoch 123/150\n",
      "5196/5196 [==============================] - 6s 1ms/step - loss: 3.0718e-04 - val_loss: 3.4996e-04\n",
      "Epoch 124/150\n",
      "5196/5196 [==============================] - 6s 1ms/step - loss: 3.0156e-04 - val_loss: 3.1582e-04\n",
      "Epoch 125/150\n",
      "5196/5196 [==============================] - 6s 1ms/step - loss: 3.0085e-04 - val_loss: 3.2644e-04\n",
      "Epoch 126/150\n",
      "5196/5196 [==============================] - 5s 1ms/step - loss: 2.9469e-04 - val_loss: 2.2920e-04\n",
      "Epoch 127/150\n",
      "5196/5196 [==============================] - 5s 1ms/step - loss: 2.9887e-04 - val_loss: 2.6631e-04\n",
      "Epoch 128/150\n",
      "5196/5196 [==============================] - 6s 1ms/step - loss: 2.9725e-04 - val_loss: 2.3871e-04\n",
      "Epoch 129/150\n",
      "5196/5196 [==============================] - 6s 1ms/step - loss: 2.9505e-04 - val_loss: 4.0860e-04\n",
      "Epoch 130/150\n",
      "5196/5196 [==============================] - 5s 1ms/step - loss: 2.7888e-04 - val_loss: 2.8945e-04\n",
      "Epoch 131/150\n",
      "5196/5196 [==============================] - 5s 1ms/step - loss: 3.1090e-04 - val_loss: 1.9000e-04\n",
      "Epoch 132/150\n",
      "5196/5196 [==============================] - 5s 1ms/step - loss: 2.7545e-04 - val_loss: 4.5691e-04\n",
      "Epoch 133/150\n",
      "5196/5196 [==============================] - 5s 1ms/step - loss: 2.8343e-04 - val_loss: 2.5911e-04\n",
      "Epoch 134/150\n",
      "5196/5196 [==============================] - 5s 1ms/step - loss: 2.7981e-04 - val_loss: 2.2769e-04\n",
      "Epoch 135/150\n",
      "5196/5196 [==============================] - 5s 1ms/step - loss: 2.7630e-04 - val_loss: 3.0967e-04\n",
      "Epoch 136/150\n",
      "5196/5196 [==============================] - 6s 1ms/step - loss: 2.8378e-04 - val_loss: 3.2786e-04\n",
      "Epoch 137/150\n",
      "5196/5196 [==============================] - 6s 1ms/step - loss: 2.7453e-04 - val_loss: 3.1321e-04\n",
      "Epoch 138/150\n",
      "5196/5196 [==============================] - 6s 1ms/step - loss: 2.6452e-04 - val_loss: 1.9804e-04\n",
      "Epoch 139/150\n",
      "5196/5196 [==============================] - 7s 1ms/step - loss: 2.6781e-04 - val_loss: 2.8202e-04\n",
      "Epoch 140/150\n",
      "5196/5196 [==============================] - 6s 1ms/step - loss: 2.7825e-04 - val_loss: 2.8507e-04\n",
      "Epoch 141/150\n",
      "5196/5196 [==============================] - 6s 1ms/step - loss: 2.8150e-04 - val_loss: 3.5562e-04\n",
      "Epoch 142/150\n",
      "5196/5196 [==============================] - 5s 1ms/step - loss: 2.7634e-04 - val_loss: 1.8686e-04\n",
      "Epoch 143/150\n",
      "5196/5196 [==============================] - 5s 1ms/step - loss: 2.7071e-04 - val_loss: 3.9914e-04\n",
      "Epoch 144/150\n",
      "5196/5196 [==============================] - 5s 1ms/step - loss: 2.7277e-04 - val_loss: 2.5096e-04\n",
      "Epoch 145/150\n",
      "5196/5196 [==============================] - 5s 1ms/step - loss: 2.5812e-04 - val_loss: 1.6048e-04\n",
      "Epoch 146/150\n",
      "5196/5196 [==============================] - 6s 1ms/step - loss: 2.7535e-04 - val_loss: 2.0676e-04\n",
      "Epoch 147/150\n",
      "5196/5196 [==============================] - 6s 1ms/step - loss: 2.6278e-04 - val_loss: 1.9496e-04\n",
      "Epoch 148/150\n",
      "5196/5196 [==============================] - 5s 1ms/step - loss: 2.5324e-04 - val_loss: 1.7873e-04\n"
     ]
    },
    {
     "name": "stdout",
     "output_type": "stream",
     "text": [
      "Epoch 149/150\n",
      "5196/5196 [==============================] - 7s 1ms/step - loss: 2.6576e-04 - val_loss: 2.9160e-04\n",
      "Epoch 150/150\n",
      "5196/5196 [==============================] - 7s 1ms/step - loss: 2.6338e-04 - val_loss: 1.7951e-04\n"
     ]
    }
   ],
   "source": [
    "model_history = model.fit(X_train_reg_, y_train_reg_,\n",
    "                    validation_data=(X_test_reg_, y_test_reg_),\n",
    "                   batch_size=16, \n",
    "                   epochs=150,  # total epoch\n",
    "                   )"
   ]
  },
  {
   "cell_type": "code",
   "execution_count": 69,
   "id": "93f52c49",
   "metadata": {},
   "outputs": [
    {
     "data": {
      "image/png": "[encoded data removed]",
      "text/plain": [
       "<Figure size 432x288 with 1 Axes>"
      ]
     },
     "metadata": {
      "needs_background": "light"
     },
     "output_type": "display_data"
    }
   ],
   "source": [
    "import keras\n",
    "from matplotlib import pyplot as plt\n",
    "plt.plot(model_history.history['loss'])\n",
    "plt.plot(model_history.history['val_loss'])\n",
    "plt.title('model loss')\n",
    "plt.ylabel('loss')\n",
    "plt.xlabel('epoch')\n",
    "plt.legend(['train', 'val'], loc='upper left')\n",
    "plt.show()"
   ]
  },
  {
   "cell_type": "code",
   "execution_count": 70,
   "id": "218497ae",
   "metadata": {},
   "outputs": [
    {
     "name": "stdout",
     "output_type": "stream",
     "text": [
      "MAE train:  5.980096379306138\n",
      "RMSE train:  8.520438203236516\n"
     ]
    }
   ],
   "source": [
    "# Predict the model \n",
    "y_train_pred_ann = model.predict(X_train_reg_) \n",
    "mae_train_ann = mean_absolute_error(y_train_reg_* target_stdev + target_mean, y_train_pred_ann* target_stdev + target_mean)\n",
    "print('MAE train: ',mae_train_ann)\n",
    "rmse_train_ann = mean_squared_error(y_train_reg_* target_stdev + target_mean, y_train_pred_ann* target_stdev + target_mean, squared=False)\n",
    "print('RMSE train: ',rmse_train_ann)"
   ]
  },
  {
   "cell_type": "code",
   "execution_count": 71,
   "id": "1cb197bf",
   "metadata": {},
   "outputs": [
    {
     "name": "stdout",
     "output_type": "stream",
     "text": [
      "MAE test:  6.0186989101393396\n",
      "RMSE test :  8.704440627988465\n"
     ]
    }
   ],
   "source": [
    "# Predict the model \n",
    "y_test_pred_ann = model.predict(X_test_reg_) \n",
    "mae_test_ann = mean_absolute_error(y_test_reg_* target_stdev + target_mean, y_test_pred_ann* target_stdev + target_mean)\n",
    "print('MAE test: ',mae_test_ann)\n",
    "rmse_test_ann = mean_squared_error(y_test_reg_* target_stdev + target_mean, y_test_pred_ann* target_stdev + target_mean, squared=False)\n",
    "print('RMSE test : ',rmse_test_ann)"
   ]
  },
  {
   "cell_type": "code",
   "execution_count": 72,
   "id": "5e0d8c50",
   "metadata": {},
   "outputs": [
    {
     "name": "stdout",
     "output_type": "stream",
     "text": [
      "Model: \"model\"\n",
      "_________________________________________________________________\n",
      " Layer (type)                Output Shape              Param #   \n",
      "=================================================================\n",
      " input_1 (InputLayer)        [(None, 24)]              0         \n",
      "                                                                 \n",
      " dense (Dense)               (None, 256)               6400      \n",
      "                                                                 \n",
      " dense_1 (Dense)             (None, 128)               32896     \n",
      "                                                                 \n",
      " dense_2 (Dense)             (None, 64)                8256      \n",
      "                                                                 \n",
      " dense_3 (Dense)             (None, 32)                2080      \n",
      "                                                                 \n",
      " dense_4 (Dense)             (None, 1)                 33        \n",
      "                                                                 \n",
      "=================================================================\n",
      "Total params: 49,665\n",
      "Trainable params: 49,665\n",
      "Non-trainable params: 0\n",
      "_________________________________________________________________\n"
     ]
    }
   ],
   "source": [
    "model.summary()"
   ]
  },
  {
   "cell_type": "code",
   "execution_count": 73,
   "id": "9813d22f",
   "metadata": {},
   "outputs": [
    {
     "name": "stdout",
     "output_type": "stream",
     "text": [
      "Mean absolute Error :  17.814563802083377\n",
      "Root Mean Squared Error :  47.42759347531046\n"
     ]
    }
   ],
   "source": [
    "y_check_pred_nn = model.predict(X_check_reg)\n",
    "y_check_pred_nn=y_check_pred_nn.flatten()\n",
    "mae_check_nn = mean_absolute_error(y_check_reg* target_stdev + target_mean, y_check_pred_nn* target_stdev + target_mean)\n",
    "print('Mean absolute Error : ',mae_check_nn)\n",
    "rmse_check_nn = mean_squared_error(y_check_reg* target_stdev + target_mean, y_check_pred_nn* target_stdev + target_mean, squared=False)\n",
    "print('Root Mean Squared Error : ',rmse_check_nn)"
   ]
  },
  {
   "cell_type": "code",
   "execution_count": 74,
   "id": "127f15e2",
   "metadata": {},
   "outputs": [
    {
     "name": "stdout",
     "output_type": "stream",
     "text": [
      "+----------------------------+-------------+------------+--------------+-------------+\n",
      "| Model                      |   Train MAE |   Test MAE |   Train RMSE |   Test RMSE |\n",
      "+============================+=============+============+==============+=============+\n",
      "| LSTM                       |     5.28608 |    9.16704 |      8.53476 |    22.3534  |\n",
      "+----------------------------+-------------+------------+--------------+-------------+\n",
      "| Multiple linear regression |   164.096   |  162.892   |    227.287   |   224.716   |\n",
      "+----------------------------+-------------+------------+--------------+-------------+\n",
      "| XGboost                    |    11.7769  |   11.7782  |     15.3286  |    15.4274  |\n",
      "+----------------------------+-------------+------------+--------------+-------------+\n",
      "| ANN                        |     5.9801  |    6.0187  |      8.52044 |     8.70444 |\n",
      "+----------------------------+-------------+------------+--------------+-------------+\n"
     ]
    }
   ],
   "source": [
    "# import module\n",
    "from tabulate import tabulate\n",
    " \n",
    "# assign data\n",
    "mydata = [\n",
    "    [\"LSTM\", mae_train_lstm,mae_test_lstm, rmse_train_lstm,rmse_test_lstm], \n",
    "    [\"Multiple linear regression\",mae_train_mlr,mae_test_mlr, rmse_train_mlr,rmse_test_mlr], \n",
    "      [\"XGboost\", mae_train_xg, mae_test_xg, rmse_train_xg,rmse_test_xg],\n",
    "    [\"ANN\", mae_train_ann, mae_test_ann,  rmse_train_ann ,rmse_test_ann]\n",
    "]\n",
    " \n",
    "# create header\n",
    "head = [\"Model\",\"Train MAE\" ,\"Test MAE\", \"Train RMSE\",\"Test RMSE\"]\n",
    "# display table\n",
    "print(tabulate(mydata, headers=head, tablefmt=\"grid\"))"
   ]
  },
  {
   "cell_type": "markdown",
   "id": "82bfd3b0",
   "metadata": {},
   "source": [
    "## Comparison"
   ]
  },
  {
   "cell_type": "code",
   "execution_count": 76,
   "id": "099ed8ce",
   "metadata": {},
   "outputs": [
    {
     "data": {
      "image/png": "[encoded data removed]",
      "text/plain": [
       "<Figure size 864x504 with 1 Axes>"
      ]
     },
     "metadata": {
      "needs_background": "light"
     },
     "output_type": "display_data"
    }
   ],
   "source": [
    "plt.figure(figsize=(12, 7))\n",
    "# plt.plot(y_test_reg* target_stdev + target_mean, label = \"Real\",marker='o')\n",
    "plt.plot(y_check* target_stdev + target_mean, label = \"Real\",marker='o')\n",
    "plt.plot(y_check_pred_lstm* target_stdev + target_mean, label = \"LSTM Prediction\",marker='^')\n",
    "plt.plot(y_check_pred_arima* target_stdev + target_mean, label = \"ARIMA Prediction\",marker='^')\n",
    "plt.plot(y_check_pred_mlr* target_stdev + target_mean, label = \"MLR Prediction\",marker='^')\n",
    "plt.plot(y_check_pred_xg* target_stdev + target_mean, label = \"XG boost\",marker='^')\n",
    "plt.plot(y_check_pred_nn* target_stdev + target_mean, label = \"ANN\",marker='^')\n",
    "plt.ylabel('Stock Price')\n",
    "plt.xlabel('Days')\n",
    "plt.title('Next '+str(window)+' days prediction')\n",
    "plt.legend()\n",
    "plt.show()"
   ]
  },
  {
   "cell_type": "code",
   "execution_count": 94,
   "id": "6aca2814",
   "metadata": {},
   "outputs": [
    {
     "name": "stdout",
     "output_type": "stream",
     "text": [
      "+----------------------------+-------------+--------------+\n",
      "| Model                      |   Check MAE |   Check RMSE |\n",
      "+============================+=============+==============+\n",
      "| LSTM                       |     29.4598 |      48.9825 |\n",
      "+----------------------------+-------------+--------------+\n",
      "| ARIMA                      |    167.562  |     193.087  |\n",
      "+----------------------------+-------------+--------------+\n",
      "| Multiple linear regression |    162.892  |     491.53   |\n",
      "+----------------------------+-------------+--------------+\n",
      "| XGboost                    |     40.694  |     137.318  |\n",
      "+----------------------------+-------------+--------------+\n",
      "| ANN                        |     17.8146 |      47.4276 |\n",
      "+----------------------------+-------------+--------------+\n"
     ]
    }
   ],
   "source": [
    "# import module\n",
    "from tabulate import tabulate\n",
    " \n",
    "# assign data\n",
    "mydata = [\n",
    "    [\"LSTM\", mae_check_lstm, rmse_check_lstm], \n",
    "    [\"ARIMA\", mae_check_arima, rmse_check_arima], \n",
    "    [\"Multiple linear regression\",mae_test_mlr, rmse_check_mlr], \n",
    "      [\"XGboost\", mae_check_xg, rmse_check_xg],\n",
    "    [\"ANN\", mae_check_nn, rmse_check_nn]\n",
    "]\n",
    " \n",
    "# create header\n",
    "head = [\"Model\",\"Check MAE\" , \"Check RMSE\"]\n",
    "# display table\n",
    "print(tabulate(mydata, headers=head, tablefmt=\"grid\"))"
   ]
  },
  {
   "cell_type": "code",
   "execution_count": 78,
   "id": "e41dfac2",
   "metadata": {},
   "outputs": [],
   "source": [
    "low_=0\n",
    "high_=window"
   ]
  },
  {
   "cell_type": "code",
   "execution_count": 79,
   "id": "e12a00c5",
   "metadata": {},
   "outputs": [],
   "source": [
    "list_real=list(y_check* target_stdev + target_mean)[low_:high_]\n",
    "list_real_=list(y_check_reg* target_stdev + target_mean)[low_:high_]\n",
    "list_lstm=list(y_check_pred_lstm* target_stdev + target_mean)[low_:high_]\n",
    "list_arima=list(y_check_pred_arima* target_stdev + target_mean)[low_:high_]\n",
    "list_mlr=list(y_check_pred_mlr* target_stdev + target_mean)[low_:high_]\n",
    "list_xg=list(y_check_pred_xg* target_stdev + target_mean)[low_:high_]\n",
    "list_nn=list(y_check_pred_nn* target_stdev + target_mean)[low_:high_]"
   ]
  },
  {
   "cell_type": "code",
   "execution_count": 80,
   "id": "55a25f6c",
   "metadata": {},
   "outputs": [
    {
     "data": {
      "image/png": "[encoded data removed]",
      "text/plain": [
       "<Figure size 864x504 with 1 Axes>"
      ]
     },
     "metadata": {
      "needs_background": "light"
     },
     "output_type": "display_data"
    }
   ],
   "source": [
    "plt.figure(figsize=(12, 7))\n",
    "plt.plot(list_real_, label = \"Real\",marker='o')\n",
    "# plt.plot(list_real, label = \"Real\",marker='o')\n",
    "plt.plot(list_lstm, label = \"LSTM Prediction\",marker='^')\n",
    "plt.plot(list_arima, label = \"ARIMA Prediction\",marker='^')\n",
    "plt.plot(list_mlr, label = \"MLR Prediction\",marker='^')\n",
    "plt.plot(list_xg, label = \"XG boost\",marker='^')\n",
    "plt.plot(list_nn, label = \"ANN\",marker='^')\n",
    "plt.ylabel('Stock Price')\n",
    "plt.xlabel('Days')\n",
    "plt.title(str(window)+'days')\n",
    "plt.legend()\n",
    "plt.show()"
   ]
  },
  {
   "cell_type": "code",
   "execution_count": 81,
   "id": "5f62d3c3",
   "metadata": {},
   "outputs": [],
   "source": [
    "save_data=[list_real,list_lstm,\n",
    "          list_arima,list_mlr,\n",
    "          list_xg,list_nn]"
   ]
  },
  {
   "cell_type": "code",
   "execution_count": 82,
   "id": "ec33a959",
   "metadata": {},
   "outputs": [],
   "source": [
    "import csv \n",
    "# name of csv file   \n",
    "filename = \"Stock Prediction_predict_3_ver_2_DRC.csv\"\n",
    "      \n",
    "# writing to csv file   \n",
    "with open(filename, 'w') as csvfile:   \n",
    "    # creating a csv writer object   \n",
    "    csvwriter = csv.writer(csvfile)     \n",
    "          \n",
    "    # writing the data rows   \n",
    "    csvwriter.writerows(save_data)"
   ]
  },
  {
   "cell_type": "code",
   "execution_count": 83,
   "id": "50a233c1",
   "metadata": {},
   "outputs": [
    {
     "name": "stdout",
     "output_type": "stream",
     "text": [
      "Mean absolute Error :  29.459833984375017\n",
      "Root Mean Squared Error :  48.98254608380377\n"
     ]
    }
   ],
   "source": [
    "mae_check_lstm = mean_absolute_error(list_real,list_lstm)\n",
    "print('Mean absolute Error : ',mae_check_lstm)\n",
    "rmse_check_lstm = mean_squared_error(list_real,list_lstm, squared=False)\n",
    "print('Root Mean Squared Error : ',rmse_check_lstm)"
   ]
  },
  {
   "cell_type": "code",
   "execution_count": 84,
   "id": "a51a4aa1",
   "metadata": {},
   "outputs": [
    {
     "name": "stdout",
     "output_type": "stream",
     "text": [
      "Mean absolute Error :  167.56200461802888\n",
      "Root Mean Squared Error :  193.08683898071834\n"
     ]
    }
   ],
   "source": [
    "mae_check_arima = mean_absolute_error(list_real,list_arima)\n",
    "print('Mean absolute Error : ',mae_check_arima)\n",
    "rmse_check_arima = mean_squared_error(list_real,list_arima, squared=False)\n",
    "print('Root Mean Squared Error : ',rmse_check_arima)"
   ]
  },
  {
   "cell_type": "code",
   "execution_count": 85,
   "id": "b229bcec",
   "metadata": {},
   "outputs": [
    {
     "name": "stdout",
     "output_type": "stream",
     "text": [
      "Mean absolute Error :  481.13985192189915\n",
      "Root Mean Squared Error :  491.53032208186283\n"
     ]
    }
   ],
   "source": [
    "mae_check_mlr = mean_absolute_error(list_real,list_mlr)\n",
    "print('Mean absolute Error : ',mae_check_mlr)\n",
    "rmse_check_mlr = mean_squared_error(list_real,list_mlr, squared=False)\n",
    "print('Root Mean Squared Error : ',rmse_check_mlr)"
   ]
  },
  {
   "cell_type": "code",
   "execution_count": 86,
   "id": "509f0dcd",
   "metadata": {},
   "outputs": [
    {
     "name": "stdout",
     "output_type": "stream",
     "text": [
      "Mean absolute Error :  40.6940201822916\n",
      "Root Mean Squared Error :  137.3179632490203\n"
     ]
    }
   ],
   "source": [
    "mae_check_xg = mean_absolute_error(list_real,list_xg)\n",
    "print('Mean absolute Error : ',mae_check_xg)\n",
    "rmse_check_xg = mean_squared_error(list_real, list_xg, squared=False)\n",
    "print('Root Mean Squared Error : ',rmse_check_xg)"
   ]
  },
  {
   "cell_type": "code",
   "execution_count": 87,
   "id": "ca07d36f",
   "metadata": {},
   "outputs": [
    {
     "name": "stdout",
     "output_type": "stream",
     "text": [
      "Mean absolute Error :  17.814563802083377\n",
      "Root Mean Squared Error :  47.42759347531046\n"
     ]
    }
   ],
   "source": [
    "mae_check_nn = mean_absolute_error(list_real,list_nn)\n",
    "print('Mean absolute Error : ',mae_check_nn)\n",
    "rmse_check_nn = mean_squared_error(list_real, list_nn, squared=False)\n",
    "print('Root Mean Squared Error : ',rmse_check_nn)"
   ]
  },
  {
   "cell_type": "code",
   "execution_count": 88,
   "id": "52b37e71",
   "metadata": {},
   "outputs": [
    {
     "name": "stdout",
     "output_type": "stream",
     "text": [
      "+----------------------------+------------+-------------+\n",
      "| Model                      |   Test MAE |   Test RMSE |\n",
      "+============================+============+=============+\n",
      "| LSTM                       |    29.4598 |     48.9825 |\n",
      "+----------------------------+------------+-------------+\n",
      "| ARIMA                      |   167.562  |    193.087  |\n",
      "+----------------------------+------------+-------------+\n",
      "| Multiple linear regression |   162.892  |    491.53   |\n",
      "+----------------------------+------------+-------------+\n",
      "| XGboost                    |    40.694  |    137.318  |\n",
      "+----------------------------+------------+-------------+\n",
      "| ANN                        |    17.8146 |     47.4276 |\n",
      "+----------------------------+------------+-------------+\n"
     ]
    }
   ],
   "source": [
    "# import module\n",
    "from tabulate import tabulate\n",
    " \n",
    "# assign data\n",
    "mydata = [\n",
    "    [\"LSTM\", mae_check_lstm, rmse_check_lstm], \n",
    "    [\"ARIMA\", mae_check_arima, rmse_check_arima], \n",
    "    [\"Multiple linear regression\",mae_test_mlr, rmse_check_mlr], \n",
    "      [\"XGboost\", mae_check_xg, rmse_check_xg],\n",
    "    [\"ANN\", mae_check_nn, rmse_check_nn]\n",
    "]\n",
    " \n",
    "# create header\n",
    "head = [\"Model\",\"Test MAE\" , \"Test RMSE\"]\n",
    "# display table\n",
    "print(tabulate(mydata, headers=head, tablefmt=\"grid\"))"
   ]
  },
  {
   "cell_type": "code",
   "execution_count": 89,
   "id": "538075b5",
   "metadata": {},
   "outputs": [],
   "source": [
    "df_=pd.read_csv('Stock Prediction_predict_3_ver_2_DRC.csv',header=None)  "
   ]
  },
  {
   "cell_type": "code",
   "execution_count": 90,
   "id": "7b979ea9",
   "metadata": {},
   "outputs": [],
   "source": [
    "result_real=df_.iloc[0,:].values\n",
    "result_lstm=df_.iloc[1,:].values\n",
    "result_arima=df_.iloc[2,:].values\n",
    "result_mlr=df_.iloc[3,:].values\n",
    "result_xg=df_.iloc[4,:].values\n",
    "result_nn=df_.iloc[5,:].values"
   ]
  },
  {
   "cell_type": "code",
   "execution_count": 91,
   "id": "2a4e6001",
   "metadata": {},
   "outputs": [
    {
     "name": "stdout",
     "output_type": "stream",
     "text": [
      "R2 score between real and lstm 0.7605755491306959\n",
      "R2 score between real and ARIMA -2.720413100805737\n",
      "R2 score between real and MLR -23.10940252673855\n",
      "R2 score between real and xg -0.8816571154100596\n",
      "R2 score between real and nn 0.7755353175040689\n"
     ]
    }
   ],
   "source": [
    "from sklearn.metrics import r2_score\n",
    "print ('R2 score between real and lstm',r2_score(result_real, result_lstm))\n",
    "print ('R2 score between real and ARIMA',r2_score(result_real, result_arima))\n",
    "print ('R2 score between real and MLR',r2_score(result_real, result_mlr))\n",
    "print ('R2 score between real and xg',r2_score(result_real, result_xg))\n",
    "print ('R2 score between real and nn',r2_score(result_real, result_nn))"
   ]
  },
  {
   "cell_type": "code",
   "execution_count": 92,
   "id": "ccf18cc1",
   "metadata": {},
   "outputs": [],
   "source": [
    "def accuracy(y_true, y_pred, threshold):\n",
    "    c=0\n",
    "    for i in range(len(y_true)):\n",
    "        if abs(y_true[i]-y_pred[i])<threshold:\n",
    "            c=c+1\n",
    "    return c/len(y_true)"
   ]
  },
  {
   "cell_type": "code",
   "execution_count": 93,
   "id": "36a081e4",
   "metadata": {},
   "outputs": [
    {
     "name": "stdout",
     "output_type": "stream",
     "text": [
      "The mean absolute error between real and lstm is 0.9\n",
      "The mean absolute error between real and arima is 0.23333333333333334\n",
      "The mean absolute error between real and MLR is 0.0\n",
      "The mean absolute error between real and xg is 0.9666666666666667\n",
      "The mean absolute error between real and nn is 0.9333333333333333\n"
     ]
    }
   ],
   "source": [
    "threshold=100\n",
    "print('The mean absolute error between real and lstm is',accuracy(result_real, result_lstm,threshold))\n",
    "print('The mean absolute error between real and arima is',accuracy(result_real, result_arima,threshold))\n",
    "print('The mean absolute error between real and MLR is',accuracy(result_real, result_mlr,threshold))\n",
    "print('The mean absolute error between real and xg is',accuracy(result_real, result_xg,threshold))\n",
    "print('The mean absolute error between real and nn is',accuracy(result_real, result_nn,threshold))"
   ]
  },
  {
   "cell_type": "code",
   "execution_count": null,
   "id": "803938bf",
   "metadata": {},
   "outputs": [],
   "source": []
  },
  {
   "cell_type": "code",
   "execution_count": null,
   "id": "42168d65",
   "metadata": {},
   "outputs": [],
   "source": []
  },
  {
   "cell_type": "code",
   "execution_count": null,
   "id": "09c4f6dc",
   "metadata": {},
   "outputs": [],
   "source": []
  }
 ],
 "metadata": {
  "kernelspec": {
   "display_name": "Python 3",
   "language": "python",
   "name": "python3"
  },
  "language_info": {
   "codemirror_mode": {
    "name": "ipython",
    "version": 3
   },
   "file_extension": ".py",
   "mimetype": "text/x-python",
   "name": "python",
   "nbconvert_exporter": "python",
   "pygments_lexer": "ipython3",
   "version": "3.8.8"
  }
 },
 "nbformat": 4,
 "nbformat_minor": 5
}
