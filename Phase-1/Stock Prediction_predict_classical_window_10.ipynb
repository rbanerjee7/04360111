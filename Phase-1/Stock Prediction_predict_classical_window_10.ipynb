{
 "cells": [
  {
   "cell_type": "code",
   "execution_count": 1,
   "id": "a33a1f56",
   "metadata": {},
   "outputs": [],
   "source": [
    "# import helper\n",
    "import pandas as pd\n",
    "from utils import *\n",
    "\n",
    "import time\n",
    "import numpy as np\n",
    "import math\n",
    "import matplotlib.pyplot as plt\n",
    "\n",
    "import torch\n",
    "from torch.utils.data import DataLoader\n",
    "from torch import nn\n",
    "\n",
    "from IPython.display import Image\n",
    "\n",
    "import torch\n",
    "from torch import nn\n",
    "from torch.utils.data import Dataset\n",
    "import pennylane as qml\n",
    "import torch.optim as optim\n",
    "import torch.utils.data as data\n",
    "import random\n",
    "import tensorflow as tf"
   ]
  },
  {
   "cell_type": "code",
   "execution_count": 91,
   "id": "bc351ad0",
   "metadata": {},
   "outputs": [],
   "source": [
    "plt.rcParams[\"font.weight\"] = \"bold\"\n",
    "plt.rcParams[\"axes.labelweight\"] = \"bold\"\n",
    "plt.rcParams.update({'font.size':20})\n",
    "legend_prop = {'weight':'bold'}\n",
    "from pylab import rcParams\n",
    "rcParams['axes.linewidth'] = 2"
   ]
  },
  {
   "cell_type": "markdown",
   "id": "696bb7d7",
   "metadata": {},
   "source": [
    "## Brief Outline"
   ]
  },
  {
   "cell_type": "markdown",
   "id": "4e301a55",
   "metadata": {},
   "source": [
    "The notebook will proceed in the following manner:\n",
    "\n",
    "1. Brief description of Data\n",
    "2. Using Classical LSTM to perform stock price prediction\n",
    "3. Using classical ARIMA to perform stock price prediction\n",
    "4. Using Multiple linear regression to perform stock price prediction "
   ]
  },
  {
   "cell_type": "markdown",
   "id": "8dcf2258",
   "metadata": {},
   "source": [
    "## 1. Data"
   ]
  },
  {
   "cell_type": "markdown",
   "id": "3b37e1ea",
   "metadata": {},
   "source": [
    "First, we read in the data, dropping the index and the date."
   ]
  },
  {
   "cell_type": "code",
   "execution_count": 2,
   "id": "31c36071",
   "metadata": {},
   "outputs": [],
   "source": [
    "df = pd.read_csv('dataset_FTSE_prediction_v1.csv')\n",
    "df = df.drop([ 'Unnamed: 0'], axis=1)\n",
    "df=df.drop(columns=['ARIMA'])"
   ]
  },
  {
   "cell_type": "markdown",
   "id": "4aaa9b52",
   "metadata": {},
   "source": [
    "We identify the dependent and independent variables:"
   ]
  },
  {
   "cell_type": "code",
   "execution_count": 3,
   "id": "d53abe07",
   "metadata": {},
   "outputs": [],
   "source": [
    "target = \"Close\""
   ]
  },
  {
   "cell_type": "code",
   "execution_count": 4,
   "id": "a8cedb86",
   "metadata": {},
   "outputs": [
    {
     "data": {
      "text/plain": [
       "['Adj Close',\n",
       " 'BBB_20_2.0',\n",
       " 'BBL_20_2.0',\n",
       " 'BBM_20_2.0',\n",
       " 'BBP_20_2.0',\n",
       " 'BBU_20_2.0',\n",
       " 'CUMLOGRET_1',\n",
       " 'Close_copy',\n",
       " 'Crude Futures',\n",
       " 'EMA_10',\n",
       " 'EMA_20',\n",
       " 'EMA_50',\n",
       " 'FT3',\n",
       " 'FT6',\n",
       " 'FT9',\n",
       " 'GBP USD ',\n",
       " 'Gold in USD',\n",
       " 'MACD_12_26_9',\n",
       " 'MACDh_12_26_9',\n",
       " 'MACDs_12_26_9',\n",
       " 'SMA_10',\n",
       " 'SMA_20',\n",
       " 'SMA_50',\n",
       " 'Volume']"
      ]
     },
     "execution_count": 4,
     "metadata": {},
     "output_type": "execute_result"
    }
   ],
   "source": [
    "features = list(df.columns.difference([\"Close\"]))\n",
    "features"
   ]
  },
  {
   "cell_type": "markdown",
   "id": "a65613d0",
   "metadata": {},
   "source": [
    "## Data processing for time series model"
   ]
  },
  {
   "cell_type": "markdown",
   "id": "0c7baf43",
   "metadata": {},
   "source": [
    "To process the data, we first define few terms"
   ]
  },
  {
   "cell_type": "code",
   "execution_count": 5,
   "id": "465d24a1",
   "metadata": {},
   "outputs": [],
   "source": [
    "sequence_length = window= 10 # Number of time steps that will be inputted into LSTM network and Number of Predicting days \n",
    "batch_size=16 # Number of training instances in the batch\n",
    "torch.manual_seed(42)\n",
    "random.seed(42)"
   ]
  },
  {
   "cell_type": "markdown",
   "id": "dc621071",
   "metadata": {},
   "source": [
    "Next, in order to ensure that some values due to their mangnitude do not inherently dominate the features, we standardize their values."
   ]
  },
  {
   "cell_type": "code",
   "execution_count": 6,
   "id": "bff7d289",
   "metadata": {},
   "outputs": [],
   "source": [
    "target_mean = df[target].mean()\n",
    "target_stdev = df[target].std()\n",
    "\n",
    "for c in df.columns:\n",
    "    mean = df[c].mean()\n",
    "    stdev = df[c].std()\n",
    "\n",
    "    df[c] = (df[c] - mean) / stdev"
   ]
  },
  {
   "cell_type": "code",
   "execution_count": 7,
   "id": "943866a4",
   "metadata": {},
   "outputs": [
    {
     "data": {
      "text/html": [
       "<div>\n",
       "<style scoped>\n",
       "    .dataframe tbody tr th:only-of-type {\n",
       "        vertical-align: middle;\n",
       "    }\n",
       "\n",
       "    .dataframe tbody tr th {\n",
       "        vertical-align: top;\n",
       "    }\n",
       "\n",
       "    .dataframe thead th {\n",
       "        text-align: right;\n",
       "    }\n",
       "</style>\n",
       "<table border=\"1\" class=\"dataframe\">\n",
       "  <thead>\n",
       "    <tr style=\"text-align: right;\">\n",
       "      <th></th>\n",
       "      <th>Adj Close</th>\n",
       "      <th>BBB_20_2.0</th>\n",
       "      <th>BBL_20_2.0</th>\n",
       "      <th>BBM_20_2.0</th>\n",
       "      <th>BBP_20_2.0</th>\n",
       "      <th>BBU_20_2.0</th>\n",
       "      <th>CUMLOGRET_1</th>\n",
       "      <th>Close</th>\n",
       "      <th>Crude Futures</th>\n",
       "      <th>EMA_10</th>\n",
       "      <th>...</th>\n",
       "      <th>GBP USD</th>\n",
       "      <th>Gold in USD</th>\n",
       "      <th>MACD_12_26_9</th>\n",
       "      <th>MACDh_12_26_9</th>\n",
       "      <th>MACDs_12_26_9</th>\n",
       "      <th>SMA_10</th>\n",
       "      <th>SMA_20</th>\n",
       "      <th>SMA_50</th>\n",
       "      <th>Volume</th>\n",
       "      <th>Close_copy</th>\n",
       "    </tr>\n",
       "  </thead>\n",
       "  <tbody>\n",
       "    <tr>\n",
       "      <th>0</th>\n",
       "      <td>-2.117565</td>\n",
       "      <td>-1.416161</td>\n",
       "      <td>-7.846089</td>\n",
       "      <td>-8.197548</td>\n",
       "      <td>-1.587882</td>\n",
       "      <td>-8.374291</td>\n",
       "      <td>-2.243124</td>\n",
       "      <td>-2.117565</td>\n",
       "      <td>1.500541</td>\n",
       "      <td>-9.214615</td>\n",
       "      <td>...</td>\n",
       "      <td>1.529613</td>\n",
       "      <td>1.234563</td>\n",
       "      <td>-0.077292</td>\n",
       "      <td>0.000882</td>\n",
       "      <td>-0.083523</td>\n",
       "      <td>-9.189175</td>\n",
       "      <td>-8.197548</td>\n",
       "      <td>-6.432481</td>\n",
       "      <td>0.730166</td>\n",
       "      <td>-2.117565</td>\n",
       "    </tr>\n",
       "    <tr>\n",
       "      <th>1</th>\n",
       "      <td>-2.312586</td>\n",
       "      <td>-1.416161</td>\n",
       "      <td>-7.846089</td>\n",
       "      <td>-8.197548</td>\n",
       "      <td>-1.587882</td>\n",
       "      <td>-8.374291</td>\n",
       "      <td>-2.482745</td>\n",
       "      <td>-2.312586</td>\n",
       "      <td>1.423609</td>\n",
       "      <td>-9.214615</td>\n",
       "      <td>...</td>\n",
       "      <td>1.462366</td>\n",
       "      <td>1.411190</td>\n",
       "      <td>-0.077292</td>\n",
       "      <td>0.000882</td>\n",
       "      <td>-0.083523</td>\n",
       "      <td>-9.189175</td>\n",
       "      <td>-8.197548</td>\n",
       "      <td>-6.432481</td>\n",
       "      <td>0.160281</td>\n",
       "      <td>-2.312586</td>\n",
       "    </tr>\n",
       "    <tr>\n",
       "      <th>2</th>\n",
       "      <td>-2.604116</td>\n",
       "      <td>-1.416161</td>\n",
       "      <td>-7.846089</td>\n",
       "      <td>-8.197548</td>\n",
       "      <td>-1.587882</td>\n",
       "      <td>-8.374291</td>\n",
       "      <td>-2.851864</td>\n",
       "      <td>-2.604116</td>\n",
       "      <td>1.423609</td>\n",
       "      <td>-9.214615</td>\n",
       "      <td>...</td>\n",
       "      <td>1.462366</td>\n",
       "      <td>1.411190</td>\n",
       "      <td>-0.077292</td>\n",
       "      <td>0.000882</td>\n",
       "      <td>-0.083523</td>\n",
       "      <td>-9.189175</td>\n",
       "      <td>-8.197548</td>\n",
       "      <td>-6.432481</td>\n",
       "      <td>0.028158</td>\n",
       "      <td>-2.604116</td>\n",
       "    </tr>\n",
       "    <tr>\n",
       "      <th>3</th>\n",
       "      <td>-2.520689</td>\n",
       "      <td>-1.416161</td>\n",
       "      <td>-7.846089</td>\n",
       "      <td>-8.197548</td>\n",
       "      <td>-1.587882</td>\n",
       "      <td>-8.374291</td>\n",
       "      <td>-2.744853</td>\n",
       "      <td>-2.520689</td>\n",
       "      <td>1.445590</td>\n",
       "      <td>-9.214615</td>\n",
       "      <td>...</td>\n",
       "      <td>1.395119</td>\n",
       "      <td>1.397119</td>\n",
       "      <td>-0.077292</td>\n",
       "      <td>0.000882</td>\n",
       "      <td>-0.083523</td>\n",
       "      <td>-9.189175</td>\n",
       "      <td>-8.197548</td>\n",
       "      <td>-6.432481</td>\n",
       "      <td>0.619960</td>\n",
       "      <td>-2.520689</td>\n",
       "    </tr>\n",
       "    <tr>\n",
       "      <th>4</th>\n",
       "      <td>-2.271642</td>\n",
       "      <td>-1.416161</td>\n",
       "      <td>-7.846089</td>\n",
       "      <td>-8.197548</td>\n",
       "      <td>-1.587882</td>\n",
       "      <td>-8.374291</td>\n",
       "      <td>-2.431965</td>\n",
       "      <td>-2.271642</td>\n",
       "      <td>1.559810</td>\n",
       "      <td>-9.214615</td>\n",
       "      <td>...</td>\n",
       "      <td>1.260624</td>\n",
       "      <td>1.190869</td>\n",
       "      <td>-0.077292</td>\n",
       "      <td>0.000882</td>\n",
       "      <td>-0.083523</td>\n",
       "      <td>-9.189175</td>\n",
       "      <td>-8.197548</td>\n",
       "      <td>-6.432481</td>\n",
       "      <td>0.212893</td>\n",
       "      <td>-2.271642</td>\n",
       "    </tr>\n",
       "    <tr>\n",
       "      <th>...</th>\n",
       "      <td>...</td>\n",
       "      <td>...</td>\n",
       "      <td>...</td>\n",
       "      <td>...</td>\n",
       "      <td>...</td>\n",
       "      <td>...</td>\n",
       "      <td>...</td>\n",
       "      <td>...</td>\n",
       "      <td>...</td>\n",
       "      <td>...</td>\n",
       "      <td>...</td>\n",
       "      <td>...</td>\n",
       "      <td>...</td>\n",
       "      <td>...</td>\n",
       "      <td>...</td>\n",
       "      <td>...</td>\n",
       "      <td>...</td>\n",
       "      <td>...</td>\n",
       "      <td>...</td>\n",
       "      <td>...</td>\n",
       "      <td>...</td>\n",
       "    </tr>\n",
       "    <tr>\n",
       "      <th>3134</th>\n",
       "      <td>0.972282</td>\n",
       "      <td>-0.117595</td>\n",
       "      <td>0.764524</td>\n",
       "      <td>0.780643</td>\n",
       "      <td>0.142467</td>\n",
       "      <td>0.779948</td>\n",
       "      <td>0.948611</td>\n",
       "      <td>0.972282</td>\n",
       "      <td>0.570682</td>\n",
       "      <td>0.879767</td>\n",
       "      <td>...</td>\n",
       "      <td>-0.958536</td>\n",
       "      <td>1.575597</td>\n",
       "      <td>-0.350816</td>\n",
       "      <td>0.702786</td>\n",
       "      <td>-0.631190</td>\n",
       "      <td>0.868999</td>\n",
       "      <td>0.780643</td>\n",
       "      <td>0.749319</td>\n",
       "      <td>-1.251617</td>\n",
       "      <td>0.972282</td>\n",
       "    </tr>\n",
       "    <tr>\n",
       "      <th>3135</th>\n",
       "      <td>0.996293</td>\n",
       "      <td>-0.303076</td>\n",
       "      <td>0.786476</td>\n",
       "      <td>0.769910</td>\n",
       "      <td>0.407189</td>\n",
       "      <td>0.736435</td>\n",
       "      <td>0.969864</td>\n",
       "      <td>0.996293</td>\n",
       "      <td>0.543992</td>\n",
       "      <td>0.884342</td>\n",
       "      <td>...</td>\n",
       "      <td>-1.025783</td>\n",
       "      <td>1.573375</td>\n",
       "      <td>-0.305387</td>\n",
       "      <td>0.671263</td>\n",
       "      <td>-0.570851</td>\n",
       "      <td>0.883658</td>\n",
       "      <td>0.769910</td>\n",
       "      <td>0.748743</td>\n",
       "      <td>-1.223489</td>\n",
       "      <td>0.996293</td>\n",
       "    </tr>\n",
       "    <tr>\n",
       "      <th>3136</th>\n",
       "      <td>1.052475</td>\n",
       "      <td>-0.347235</td>\n",
       "      <td>0.791464</td>\n",
       "      <td>0.767120</td>\n",
       "      <td>0.805365</td>\n",
       "      <td>0.725847</td>\n",
       "      <td>1.019417</td>\n",
       "      <td>1.052475</td>\n",
       "      <td>0.572645</td>\n",
       "      <td>0.897109</td>\n",
       "      <td>...</td>\n",
       "      <td>-1.025783</td>\n",
       "      <td>1.576708</td>\n",
       "      <td>-0.221191</td>\n",
       "      <td>0.738941</td>\n",
       "      <td>-0.504421</td>\n",
       "      <td>0.902589</td>\n",
       "      <td>0.767120</td>\n",
       "      <td>0.747719</td>\n",
       "      <td>-0.489123</td>\n",
       "      <td>1.052475</td>\n",
       "    </tr>\n",
       "    <tr>\n",
       "      <th>3137</th>\n",
       "      <td>1.081259</td>\n",
       "      <td>-0.357591</td>\n",
       "      <td>0.792661</td>\n",
       "      <td>0.766495</td>\n",
       "      <td>1.003170</td>\n",
       "      <td>0.723395</td>\n",
       "      <td>1.044711</td>\n",
       "      <td>1.081259</td>\n",
       "      <td>0.572252</td>\n",
       "      <td>0.912179</td>\n",
       "      <td>...</td>\n",
       "      <td>-1.025783</td>\n",
       "      <td>1.594852</td>\n",
       "      <td>-0.130016</td>\n",
       "      <td>0.809806</td>\n",
       "      <td>-0.431612</td>\n",
       "      <td>0.924056</td>\n",
       "      <td>0.766495</td>\n",
       "      <td>0.747135</td>\n",
       "      <td>-0.800152</td>\n",
       "      <td>1.081259</td>\n",
       "    </tr>\n",
       "    <tr>\n",
       "      <th>3138</th>\n",
       "      <td>1.081259</td>\n",
       "      <td>-0.308976</td>\n",
       "      <td>0.790481</td>\n",
       "      <td>0.773004</td>\n",
       "      <td>0.904779</td>\n",
       "      <td>0.738542</td>\n",
       "      <td>1.044711</td>\n",
       "      <td>1.081259</td>\n",
       "      <td>0.572252</td>\n",
       "      <td>0.924509</td>\n",
       "      <td>...</td>\n",
       "      <td>-1.025783</td>\n",
       "      <td>1.594852</td>\n",
       "      <td>-0.057981</td>\n",
       "      <td>0.820632</td>\n",
       "      <td>-0.357829</td>\n",
       "      <td>0.928382</td>\n",
       "      <td>0.773004</td>\n",
       "      <td>0.746696</td>\n",
       "      <td>-0.800152</td>\n",
       "      <td>1.081259</td>\n",
       "    </tr>\n",
       "  </tbody>\n",
       "</table>\n",
       "<p>3139 rows × 25 columns</p>\n",
       "</div>"
      ],
      "text/plain": [
       "      Adj Close  BBB_20_2.0  BBL_20_2.0  BBM_20_2.0  BBP_20_2.0  BBU_20_2.0  \\\n",
       "0     -2.117565   -1.416161   -7.846089   -8.197548   -1.587882   -8.374291   \n",
       "1     -2.312586   -1.416161   -7.846089   -8.197548   -1.587882   -8.374291   \n",
       "2     -2.604116   -1.416161   -7.846089   -8.197548   -1.587882   -8.374291   \n",
       "3     -2.520689   -1.416161   -7.846089   -8.197548   -1.587882   -8.374291   \n",
       "4     -2.271642   -1.416161   -7.846089   -8.197548   -1.587882   -8.374291   \n",
       "...         ...         ...         ...         ...         ...         ...   \n",
       "3134   0.972282   -0.117595    0.764524    0.780643    0.142467    0.779948   \n",
       "3135   0.996293   -0.303076    0.786476    0.769910    0.407189    0.736435   \n",
       "3136   1.052475   -0.347235    0.791464    0.767120    0.805365    0.725847   \n",
       "3137   1.081259   -0.357591    0.792661    0.766495    1.003170    0.723395   \n",
       "3138   1.081259   -0.308976    0.790481    0.773004    0.904779    0.738542   \n",
       "\n",
       "      CUMLOGRET_1     Close  Crude Futures    EMA_10  ...  GBP USD   \\\n",
       "0       -2.243124 -2.117565       1.500541 -9.214615  ...  1.529613   \n",
       "1       -2.482745 -2.312586       1.423609 -9.214615  ...  1.462366   \n",
       "2       -2.851864 -2.604116       1.423609 -9.214615  ...  1.462366   \n",
       "3       -2.744853 -2.520689       1.445590 -9.214615  ...  1.395119   \n",
       "4       -2.431965 -2.271642       1.559810 -9.214615  ...  1.260624   \n",
       "...           ...       ...            ...       ...  ...       ...   \n",
       "3134     0.948611  0.972282       0.570682  0.879767  ... -0.958536   \n",
       "3135     0.969864  0.996293       0.543992  0.884342  ... -1.025783   \n",
       "3136     1.019417  1.052475       0.572645  0.897109  ... -1.025783   \n",
       "3137     1.044711  1.081259       0.572252  0.912179  ... -1.025783   \n",
       "3138     1.044711  1.081259       0.572252  0.924509  ... -1.025783   \n",
       "\n",
       "      Gold in USD  MACD_12_26_9  MACDh_12_26_9  MACDs_12_26_9    SMA_10  \\\n",
       "0        1.234563     -0.077292       0.000882      -0.083523 -9.189175   \n",
       "1        1.411190     -0.077292       0.000882      -0.083523 -9.189175   \n",
       "2        1.411190     -0.077292       0.000882      -0.083523 -9.189175   \n",
       "3        1.397119     -0.077292       0.000882      -0.083523 -9.189175   \n",
       "4        1.190869     -0.077292       0.000882      -0.083523 -9.189175   \n",
       "...           ...           ...            ...            ...       ...   \n",
       "3134     1.575597     -0.350816       0.702786      -0.631190  0.868999   \n",
       "3135     1.573375     -0.305387       0.671263      -0.570851  0.883658   \n",
       "3136     1.576708     -0.221191       0.738941      -0.504421  0.902589   \n",
       "3137     1.594852     -0.130016       0.809806      -0.431612  0.924056   \n",
       "3138     1.594852     -0.057981       0.820632      -0.357829  0.928382   \n",
       "\n",
       "        SMA_20    SMA_50    Volume  Close_copy  \n",
       "0    -8.197548 -6.432481  0.730166   -2.117565  \n",
       "1    -8.197548 -6.432481  0.160281   -2.312586  \n",
       "2    -8.197548 -6.432481  0.028158   -2.604116  \n",
       "3    -8.197548 -6.432481  0.619960   -2.520689  \n",
       "4    -8.197548 -6.432481  0.212893   -2.271642  \n",
       "...        ...       ...       ...         ...  \n",
       "3134  0.780643  0.749319 -1.251617    0.972282  \n",
       "3135  0.769910  0.748743 -1.223489    0.996293  \n",
       "3136  0.767120  0.747719 -0.489123    1.052475  \n",
       "3137  0.766495  0.747135 -0.800152    1.081259  \n",
       "3138  0.773004  0.746696 -0.800152    1.081259  \n",
       "\n",
       "[3139 rows x 25 columns]"
      ]
     },
     "execution_count": 7,
     "metadata": {},
     "output_type": "execute_result"
    }
   ],
   "source": [
    "df"
   ]
  },
  {
   "cell_type": "markdown",
   "id": "c9d23113",
   "metadata": {},
   "source": [
    "The last step in the data processing is to prepare the data in a sequence of past observations. Preparation of the time series data means that it uses a certain number of past observations to predict the future. In this case, the sequence length decides how many days the LSTM considers in advance and window decides how many days we want to predict for. If the sequence length is $n$ and window is $w$, then the LSTM considers the last $n$ observations to predict the next $w$ day price."
   ]
  },
  {
   "cell_type": "code",
   "execution_count": 8,
   "id": "d001b000",
   "metadata": {},
   "outputs": [
    {
     "name": "stdout",
     "output_type": "stream",
     "text": [
      "torch.Size([3119, 10, 24]) torch.Size([3119, 10])\n"
     ]
    }
   ],
   "source": [
    "def create_dataset(dataset,target,features, lookback, window):\n",
    "    X_store, y_store = [], []\n",
    "    for i in range(len(dataset)-lookback-window):\n",
    "        X = (dataset[features].values)[i:i+lookback]\n",
    "        y = (dataset[target].values)[i+lookback-1:i+lookback+window-1]\n",
    "        X_store.append(X)\n",
    "        y_store.append(y)\n",
    "    return torch.FloatTensor(np.array(X_store)), torch.FloatTensor(np.array(y_store))\n",
    "\n",
    "X_ts, y_ts = create_dataset(\n",
    "    df,\n",
    "    target=target,\n",
    "    features=features,\n",
    "    lookback=sequence_length, window=window)\n",
    "\n",
    "print(X_ts.shape, y_ts.shape)"
   ]
  },
  {
   "cell_type": "code",
   "execution_count": 9,
   "id": "26f32573",
   "metadata": {},
   "outputs": [],
   "source": [
    "indices = tf.range(start=0, limit=tf.shape(X_ts)[0])\n",
    "shuffled_indices = tf.random.shuffle(indices)"
   ]
  },
  {
   "cell_type": "code",
   "execution_count": 10,
   "id": "1eb8e292",
   "metadata": {},
   "outputs": [
    {
     "name": "stdout",
     "output_type": "stream",
     "text": [
      "(3119, 10, 24) (3119, 10)\n",
      "torch.Size([3119, 10, 24]) torch.Size([3119, 10])\n"
     ]
    }
   ],
   "source": [
    "X_ts = tf.gather(X_ts, shuffled_indices)\n",
    "y_ts = tf.gather(y_ts, shuffled_indices)\n",
    "print(X_ts.shape, y_ts.shape)\n",
    "X_ts=torch.FloatTensor(np.array(X_ts))\n",
    "y_ts=torch.FloatTensor(np.array(y_ts))\n",
    "print(X_ts.shape, y_ts.shape)"
   ]
  },
  {
   "cell_type": "code",
   "execution_count": 11,
   "id": "916353cc",
   "metadata": {},
   "outputs": [
    {
     "name": "stdout",
     "output_type": "stream",
     "text": [
      "Shape of train is torch.Size([2807, 10, 24]) and torch.Size([2807, 10])\n",
      "Shape os test is torch.Size([312, 10, 24]) and torch.Size([312, 10])\n"
     ]
    }
   ],
   "source": [
    "# Train test split\n",
    "n=X_ts.shape[0] # get first dimension\n",
    "size=int(n*0.9)\n",
    "X_train_ts=X_ts[:size]\n",
    "y_train_ts=y_ts[:size]\n",
    "X_test_ts=X_ts[size:]\n",
    "y_test_ts=y_ts[size:]\n",
    "print('Shape of train is',X_train_ts.shape,'and',y_train_ts.shape)\n",
    "print('Shape os test is',X_test_ts.shape,'and',y_test_ts.shape)"
   ]
  },
  {
   "cell_type": "code",
   "execution_count": 12,
   "id": "0c7f423c",
   "metadata": {},
   "outputs": [],
   "source": [
    "train_loader = DataLoader(data.TensorDataset(X_train_ts, y_train_ts), shuffle=True, batch_size=batch_size)\n",
    "test_loader= DataLoader(data.TensorDataset(X_test_ts, y_test_ts), shuffle=True, batch_size=batch_size)"
   ]
  },
  {
   "cell_type": "code",
   "execution_count": 13,
   "id": "c2083a85",
   "metadata": {},
   "outputs": [
    {
     "name": "stderr",
     "output_type": "stream",
     "text": [
      "<ipython-input-13-65eb19419169>:4: UserWarning: Creating a tensor from a list of numpy.ndarrays is extremely slow. Please consider converting the list to a single numpy.ndarray with numpy.array() before converting to a tensor. (Triggered internally at  ..\\torch\\csrc\\utils\\tensor_new.cpp:201.)\n",
      "  torch.FloatTensor([X_check]).shape\n"
     ]
    },
    {
     "data": {
      "text/plain": [
       "torch.Size([1, 10, 24])"
      ]
     },
     "execution_count": 13,
     "metadata": {},
     "output_type": "execute_result"
    }
   ],
   "source": [
    "# The unknown data\n",
    "X_check=(df[features].values)[len(df)-window-sequence_length+1:len(df)- window+1]\n",
    "y_check=(df[target].values)[len(df)-window:len(df)]\n",
    "torch.FloatTensor([X_check]).shape"
   ]
  },
  {
   "cell_type": "code",
   "execution_count": 14,
   "id": "2147142a",
   "metadata": {},
   "outputs": [
    {
     "data": {
      "text/plain": [
       "array([[ 0.79388494,  0.11492139,  0.9271362 ,  0.99339423, -1.827603  ,\n",
       "         1.03871918,  0.78929789,  0.79388494,  0.31633506,  0.93808485,\n",
       "         0.91886577,  0.82118453, -0.31462227, -0.26713774, -0.06299376,\n",
       "        -0.89128884,  1.44969963, -0.69458969, -1.62274847, -0.16465527,\n",
       "         0.97347243,  0.99339423,  0.79575778, -1.2886136 ],\n",
       "       [ 0.72030983,  0.34272636,  0.86341434,  0.96904803, -1.764907  ,\n",
       "         1.05467601,  0.72285648,  0.72030983,  0.34302582,  0.88772553,\n",
       "         0.89009587,  0.81046173, -0.3220074 , -0.28023606, -0.0828843 ,\n",
       "        -0.82404156,  1.45710536, -0.92417061, -1.84815061, -0.3310802 ,\n",
       "         0.93251823,  0.96904803,  0.78999309, -0.78794397],\n",
       "       [ 0.71322938,  0.50520554,  0.81036512,  0.9435188 , -1.53858648,\n",
       "         1.05750005,  0.71643948,  0.71322938,  0.32968044,  0.84538512,\n",
       "         0.86353232,  0.79998548, -0.32939134, -0.29334268, -0.10280674,\n",
       "        -0.89128884,  1.48376599, -1.1001885 , -1.90012309, -0.502183  ,\n",
       "         0.89228277,  0.9435188 ,  0.78398052, -1.17351791],\n",
       "       [ 0.73323934,  0.59231072,  0.77078501,  0.91797743, -1.3051516 ,\n",
       "         1.04669474,  0.73456399,  0.73323934,  0.31280246,  0.81395715,\n",
       "         0.84100676,  0.79041167, -0.3367739 , -0.3064569 , -0.12275879,\n",
       "        -0.82404156,  1.49524488, -1.21005215, -1.78318047, -0.6627602 ,\n",
       "         0.85748527,  0.91797743,  0.77775465, -0.1257441 ],\n",
       "       [ 0.80973899,  0.60516085,  0.7480802 ,  0.89635524, -0.95708181,\n",
       "         1.02663631,  0.80355786,  0.80973899,  0.28061655,  0.80053138,\n",
       "         0.82639216,  0.78309273, -0.34415491, -0.31957803, -0.14273818,\n",
       "        -0.89128884,  1.57707822, -1.220577  , -1.45158798, -0.79349191,\n",
       "         0.82130455,  0.89635524,  0.77233199,  0.4828266 ],\n",
       "       [ 0.82990288,  0.56469932,  0.73460178,  0.87456318, -0.81588295,\n",
       "         0.99692048,  0.82166537,  0.82990288,  0.28650422,  0.79278557,\n",
       "         0.81468915,  0.77655618, -0.35153418, -0.33270539, -0.1627426 ,\n",
       "        -0.89128884,  1.57596736, -1.19928288, -1.11006849, -0.89348465,\n",
       "         0.78265572,  0.87456318,  0.76666914, -1.52014545],\n",
       "       [ 0.83759903,  0.48716098,  0.72779551,  0.85298345, -0.72449498,\n",
       "         0.96088729,  0.8285681 ,  0.83759903,  0.33046546,  0.7876843 ,\n",
       "         0.80468077,  0.77046505, -0.35891152, -0.34583827, -0.18276978,\n",
       "        -0.95853612,  1.54967701, -1.16351125, -0.80216149, -0.96576376,\n",
       "         0.75748652,  0.85298345,  0.76082567, -1.53800628],\n",
       "       [ 0.83759903,  0.36616152,  0.72823782,  0.83109432, -0.66579556,\n",
       "         0.91691705,  0.8285681 ,  0.83759903,  0.3281104 ,  0.78351054,\n",
       "         0.79562556,  0.76461278, -0.36628675, -0.35897598, -0.2028174 ,\n",
       "        -0.95853612,  1.5748565 , -1.12310648, -0.54473383, -1.0148727 ,\n",
       "         0.73462269,  0.83109432,  0.75602368, -1.53800628],\n",
       "       [ 1.03215749,  0.22633699,  0.74108032,  0.81888179,  0.14354491,\n",
       "         0.87966184,  1.00152454,  1.03215749,  0.37010908,  0.81134731,\n",
       "         0.80209637,  0.76376989, -0.3736597 , -0.37211782, -0.22288318,\n",
       "        -0.95853612,  1.64372982, -0.92021805,  0.05055612, -1.01040168,\n",
       "         0.74484768,  0.81888179,  0.75401949,  1.34714351],\n",
       "       [ 1.04554877,  0.18223463,  0.74370574,  0.81354904,  0.23453888,\n",
       "         0.86640648,  1.01332104,  1.04554877,  0.38463199,  0.83627387,\n",
       "         0.80896019,  0.76328904, -0.38103017, -0.38526308, -0.24296479,\n",
       "        -0.95853612,  1.67261217, -0.74068844,  0.47081505, -0.96810461,\n",
       "         0.76068692,  0.81354904,  0.75237655, -0.92068034]])"
      ]
     },
     "execution_count": 14,
     "metadata": {},
     "output_type": "execute_result"
    }
   ],
   "source": [
    "X_check"
   ]
  },
  {
   "cell_type": "code",
   "execution_count": 15,
   "id": "0e355af6",
   "metadata": {},
   "outputs": [
    {
     "data": {
      "text/plain": [
       "array([1.04554877, 0.99229147, 1.03138787, 1.0133789 , 0.9904444 ,\n",
       "       0.97228151, 0.99629347, 1.0524753 , 1.08125887, 1.08125887])"
      ]
     },
     "execution_count": 15,
     "metadata": {},
     "output_type": "execute_result"
    }
   ],
   "source": [
    "y_check"
   ]
  },
  {
   "cell_type": "code",
   "execution_count": 16,
   "id": "13da5665",
   "metadata": {},
   "outputs": [],
   "source": [
    "# for X, y in train_loader:\n",
    "#     print(X)\n",
    "#     print(y)"
   ]
  },
  {
   "cell_type": "markdown",
   "id": "245af1d7",
   "metadata": {},
   "source": [
    "## Classical LSTM"
   ]
  },
  {
   "cell_type": "markdown",
   "id": "50a784bc",
   "metadata": {},
   "source": [
    "We first define train_model: function to train the model based on the batches of data\n",
    "We print the loss at the end to understand how the model is performing with regards to the data."
   ]
  },
  {
   "cell_type": "code",
   "execution_count": 17,
   "id": "dbe496cd",
   "metadata": {},
   "outputs": [],
   "source": [
    "def train_model(data_loader, model, loss_function, optimizer):\n",
    "    num_batches = len(data_loader)\n",
    "    total_loss = 0\n",
    "    model.train()\n",
    "    \n",
    "    for X, y in data_loader:\n",
    "        output = model(X)\n",
    "        loss = loss_function(output, y)\n",
    "\n",
    "        optimizer.zero_grad()\n",
    "        loss.backward()\n",
    "        optimizer.step()\n",
    "\n",
    "        total_loss += loss.item()\n",
    "\n",
    "    avg_loss = total_loss / num_batches\n",
    "    print(f\"Train loss: {avg_loss}\")\n",
    "    return avg_loss\n",
    "\n",
    "def test_model(data_loader, model, loss_function):\n",
    "    \n",
    "    num_batches = len(data_loader)\n",
    "    total_loss = 0\n",
    "\n",
    "    model.eval()\n",
    "    with torch.no_grad():\n",
    "        for X, y in data_loader:\n",
    "            output = model(X)\n",
    "            total_loss += loss_function(output, y).item()\n",
    "\n",
    "    avg_loss = total_loss / num_batches\n",
    "    print(f\"Test loss: {avg_loss}\")\n",
    "    return avg_loss"
   ]
  },
  {
   "cell_type": "markdown",
   "id": "8dd5d66a",
   "metadata": {},
   "source": [
    "## Running the Classical LSTM"
   ]
  },
  {
   "cell_type": "markdown",
   "id": "8dd7aabb",
   "metadata": {},
   "source": [
    "In the following code, we train LSTM to predict future stock prices, and then test it on the test dataset. "
   ]
  },
  {
   "cell_type": "code",
   "execution_count": 18,
   "id": "aa31393b",
   "metadata": {},
   "outputs": [],
   "source": [
    "class ShallowRegressionLSTM(nn.Module):\n",
    "    def __init__(self, num_sensors, hidden_units):\n",
    "        super().__init__()\n",
    "        self.num_sensors = num_sensors  # this is the number of features\n",
    "        self.hidden_units = hidden_units\n",
    "        self.num_layers = 2\n",
    "\n",
    "        self.lstm = nn.LSTM(\n",
    "            input_size=num_sensors,\n",
    "            hidden_size=hidden_units,\n",
    "            batch_first=True,\n",
    "            num_layers=self.num_layers\n",
    "        )\n",
    "\n",
    "        self.linear = nn.Linear(in_features=self.hidden_units, out_features=1) # The output dimesion is set as window\n",
    "\n",
    "    def forward(self, x):\n",
    "        batch_size = x.shape[0]\n",
    "        h0 = torch.zeros(self.num_layers, batch_size, self.hidden_units).requires_grad_()\n",
    "        c0 = torch.zeros(self.num_layers, batch_size, self.hidden_units).requires_grad_()\n",
    "        \n",
    "        out_, (hn, _) = self.lstm(x, (h0, c0))\n",
    "        out = self.linear(out_)\n",
    "        return torch.squeeze(out)"
   ]
  },
  {
   "cell_type": "code",
   "execution_count": 19,
   "id": "2a758f02",
   "metadata": {},
   "outputs": [],
   "source": [
    "learning_rate = 0.005\n",
    "num_hidden_units = 200\n",
    "\n",
    "model_lstm = ShallowRegressionLSTM(num_sensors=len(features), hidden_units=num_hidden_units)\n",
    "loss_function = nn.MSELoss()\n",
    "optimizer = torch.optim.Adam(model_lstm.parameters(), lr=learning_rate)"
   ]
  },
  {
   "cell_type": "code",
   "execution_count": 20,
   "id": "5e2cdd9a",
   "metadata": {},
   "outputs": [
    {
     "name": "stdout",
     "output_type": "stream",
     "text": [
      "Epoch 0\n",
      "---------\n",
      "Train loss: 0.0919897045453333\n",
      "Test loss: 0.05683253118768335\n",
      "Epoch 1\n",
      "---------\n",
      "Train loss: 0.05633831989358772\n",
      "Test loss: 0.05286929188296199\n",
      "Epoch 2\n",
      "---------\n",
      "Train loss: 0.05138774074360051\n",
      "Test loss: 0.03534358227625489\n",
      "Epoch 3\n",
      "---------\n",
      "Train loss: 0.03978060795502229\n",
      "Test loss: 0.032307722605764866\n",
      "Epoch 4\n",
      "---------\n",
      "Train loss: 0.033690230465832756\n",
      "Test loss: 0.0388983610086143\n",
      "Epoch 5\n",
      "---------\n",
      "Train loss: 0.030561402154324405\n",
      "Test loss: 0.02771311402320862\n",
      "Epoch 6\n",
      "---------\n",
      "Train loss: 0.027002666134979914\n",
      "Test loss: 0.02450331919826567\n",
      "Epoch 7\n",
      "---------\n",
      "Train loss: 0.023111863194075835\n",
      "Test loss: 0.018545725010335447\n",
      "Epoch 8\n",
      "---------\n",
      "Train loss: 0.019576949220870367\n",
      "Test loss: 0.017691591568291188\n",
      "Epoch 9\n",
      "---------\n",
      "Train loss: 0.016460452038286763\n",
      "Test loss: 0.015620964230038226\n",
      "Epoch 10\n",
      "---------\n",
      "Train loss: 0.014825827722564678\n",
      "Test loss: 0.015834626788273454\n",
      "Epoch 11\n",
      "---------\n",
      "Train loss: 0.013717368843076243\n",
      "Test loss: 0.012360806344076991\n",
      "Epoch 12\n",
      "---------\n",
      "Train loss: 0.011945854173973203\n",
      "Test loss: 0.012675639032386244\n",
      "Epoch 13\n",
      "---------\n",
      "Train loss: 0.010105123748706485\n",
      "Test loss: 0.010305902734398843\n",
      "Epoch 14\n",
      "---------\n",
      "Train loss: 0.00906471786120991\n",
      "Test loss: 0.011946330498903989\n",
      "Epoch 15\n",
      "---------\n",
      "Train loss: 0.008920427813956683\n",
      "Test loss: 0.008988288743421436\n",
      "Epoch 16\n",
      "---------\n",
      "Train loss: 0.009187873746585947\n",
      "Test loss: 0.008487583533860744\n",
      "Epoch 17\n",
      "---------\n",
      "Train loss: 0.007555078582795845\n",
      "Test loss: 0.008975665573962033\n",
      "Epoch 18\n",
      "---------\n",
      "Train loss: 0.007954714229774916\n",
      "Test loss: 0.00976572735235095\n",
      "Epoch 19\n",
      "---------\n",
      "Train loss: 0.006648057701320134\n",
      "Test loss: 0.007379603153094649\n",
      "Epoch 20\n",
      "---------\n",
      "Train loss: 0.005987854841144078\n",
      "Test loss: 0.007403833977878094\n",
      "Epoch 21\n",
      "---------\n",
      "Train loss: 0.006046331756145016\n",
      "Test loss: 0.005871991044841707\n",
      "Epoch 22\n",
      "---------\n",
      "Train loss: 0.005057153040649031\n",
      "Test loss: 0.006872469559311867\n",
      "Epoch 23\n",
      "---------\n",
      "Train loss: 0.004722172100710767\n",
      "Test loss: 0.005872212909162044\n",
      "Epoch 24\n",
      "---------\n",
      "Train loss: 0.004261188131005672\n",
      "Test loss: 0.005076644674409181\n",
      "Epoch 25\n",
      "---------\n",
      "Train loss: 0.004331021932144226\n",
      "Test loss: 0.005641925823874771\n",
      "Epoch 26\n",
      "---------\n",
      "Train loss: 0.00432400559392673\n",
      "Test loss: 0.005909796128980816\n",
      "Epoch 27\n",
      "---------\n",
      "Train loss: 0.003872071664690421\n",
      "Test loss: 0.004875044245272875\n",
      "Epoch 28\n",
      "---------\n",
      "Train loss: 0.004389174475694414\n",
      "Test loss: 0.004996143362950534\n",
      "Epoch 29\n",
      "---------\n",
      "Train loss: 0.003916039085280235\n",
      "Test loss: 0.005081154860090464\n",
      "Epoch 30\n",
      "---------\n",
      "Train loss: 0.004415405379735272\n",
      "Test loss: 0.0071925442549400035\n",
      "Epoch 31\n",
      "---------\n",
      "Train loss: 0.004585546043844343\n",
      "Test loss: 0.00486007547006011\n",
      "Epoch 32\n",
      "---------\n",
      "Train loss: 0.00488191157968355\n",
      "Test loss: 0.00573631830047816\n",
      "Epoch 33\n",
      "---------\n",
      "Train loss: 0.00345844631440493\n",
      "Test loss: 0.004200339422095567\n",
      "Epoch 34\n",
      "---------\n",
      "Train loss: 0.0025810611854963513\n",
      "Test loss: 0.0038171570049598813\n",
      "Epoch 35\n",
      "---------\n",
      "Train loss: 0.002564368317094208\n",
      "Test loss: 0.0034260131302289664\n",
      "Epoch 36\n",
      "---------\n",
      "Train loss: 0.002497718676088632\n",
      "Test loss: 0.00430739582516253\n",
      "Epoch 37\n",
      "---------\n",
      "Train loss: 0.0028196162470108407\n",
      "Test loss: 0.00407277955673635\n",
      "Epoch 38\n",
      "---------\n",
      "Train loss: 0.0027448760024113158\n",
      "Test loss: 0.0038470644503831863\n",
      "Epoch 39\n",
      "---------\n",
      "Train loss: 0.0021798016036469066\n",
      "Test loss: 0.0037110539502464234\n",
      "Epoch 40\n",
      "---------\n",
      "Train loss: 0.004682109469616658\n",
      "Test loss: 0.013259293395094573\n",
      "Epoch 41\n",
      "---------\n",
      "Train loss: 0.011724265272443352\n",
      "Test loss: 0.010366942989639938\n",
      "Epoch 42\n",
      "---------\n",
      "Train loss: 0.005204608702942179\n",
      "Test loss: 0.004366454307455569\n",
      "Epoch 43\n",
      "---------\n",
      "Train loss: 0.0025611598102841526\n",
      "Test loss: 0.003060897794784978\n",
      "Epoch 44\n",
      "---------\n",
      "Train loss: 0.00177289808065821\n",
      "Test loss: 0.0030205311137251555\n",
      "Epoch 45\n",
      "---------\n",
      "Train loss: 0.0017221609166220085\n",
      "Test loss: 0.003182423661928624\n",
      "Epoch 46\n",
      "---------\n",
      "Train loss: 0.0016975253678207412\n",
      "Test loss: 0.002904740138910711\n",
      "Epoch 47\n",
      "---------\n",
      "Train loss: 0.0015128444670567246\n",
      "Test loss: 0.003198231034912169\n",
      "Epoch 48\n",
      "---------\n",
      "Train loss: 0.0015565365786394316\n",
      "Test loss: 0.0028580261627212168\n",
      "Epoch 49\n",
      "---------\n",
      "Train loss: 0.002474043800413545\n",
      "Test loss: 0.0051765646785497665\n",
      "Epoch 50\n",
      "---------\n",
      "Train loss: 0.007706965750416698\n",
      "Test loss: 0.007192902127280831\n",
      "Epoch 51\n",
      "---------\n",
      "Train loss: 0.002982818431601944\n",
      "Test loss: 0.0041229793685488405\n",
      "Epoch 52\n",
      "---------\n",
      "Train loss: 0.0015355338843867437\n",
      "Test loss: 0.0028366650105454026\n",
      "Epoch 53\n",
      "---------\n",
      "Train loss: 0.001318540987664495\n",
      "Test loss: 0.002697738417191431\n",
      "Epoch 54\n",
      "---------\n",
      "Train loss: 0.0012837257196555254\n",
      "Test loss: 0.0028584023180883377\n",
      "Epoch 55\n",
      "---------\n",
      "Train loss: 0.0011888210967960979\n",
      "Test loss: 0.0029125103552360087\n",
      "Epoch 56\n",
      "---------\n",
      "Train loss: 0.0011340004950232635\n",
      "Test loss: 0.002937065757578239\n",
      "Epoch 57\n",
      "---------\n",
      "Train loss: 0.0013075299100984755\n",
      "Test loss: 0.0030706510180607436\n",
      "Epoch 58\n",
      "---------\n",
      "Train loss: 0.0011012166269210866\n",
      "Test loss: 0.0028677122259978204\n",
      "Epoch 59\n",
      "---------\n",
      "Train loss: 0.0014815627860529771\n",
      "Test loss: 0.0041227580630220475\n",
      "Epoch 60\n",
      "---------\n",
      "Train loss: 0.0015067188681066248\n",
      "Test loss: 0.0028681643336312844\n",
      "Epoch 61\n",
      "---------\n",
      "Train loss: 0.0012406609838018828\n",
      "Test loss: 0.0028682257572654633\n",
      "Epoch 62\n",
      "---------\n",
      "Train loss: 0.0012278507419978268\n",
      "Test loss: 0.0030963508994318544\n",
      "Epoch 63\n",
      "---------\n",
      "Train loss: 0.0012429353955667466\n",
      "Test loss: 0.0027233840024564414\n",
      "Epoch 64\n",
      "---------\n",
      "Train loss: 0.001150742100931397\n",
      "Test loss: 0.002927038969937712\n",
      "Epoch 65\n",
      "---------\n",
      "Train loss: 0.0011306219183263072\n",
      "Test loss: 0.0027065140136983247\n",
      "Epoch 66\n",
      "---------\n",
      "Train loss: 0.0011518751160276058\n",
      "Test loss: 0.002694321935996413\n",
      "Epoch 67\n",
      "---------\n",
      "Train loss: 0.00108778443377973\n",
      "Test loss: 0.0027060710533987732\n",
      "Epoch 68\n",
      "---------\n",
      "Train loss: 0.002990005920847497\n",
      "Test loss: 0.006342882686294615\n",
      "Epoch 69\n",
      "---------\n",
      "Train loss: 0.00553910267692779\n",
      "Test loss: 0.004137100710067898\n",
      "Epoch 70\n",
      "---------\n",
      "Train loss: 0.003060797579316634\n",
      "Test loss: 0.0035547515377402305\n",
      "Epoch 71\n",
      "---------\n",
      "Train loss: 0.001369135954353789\n",
      "Test loss: 0.00295019416953437\n",
      "Epoch 72\n",
      "---------\n",
      "Train loss: 0.0009862798607090635\n",
      "Test loss: 0.0026368399790953844\n",
      "Epoch 73\n",
      "---------\n",
      "Train loss: 0.0007445752891561079\n",
      "Test loss: 0.0025260499387513846\n",
      "Epoch 74\n",
      "---------\n",
      "Train loss: 0.0007378091527657075\n",
      "Test loss: 0.0026234175078570844\n",
      "Epoch 75\n",
      "---------\n",
      "Train loss: 0.0007763824161718895\n",
      "Test loss: 0.0025005478761158883\n",
      "Epoch 76\n",
      "---------\n",
      "Train loss: 0.0006336256041818574\n",
      "Test loss: 0.002450534634408541\n",
      "Epoch 77\n",
      "---------\n",
      "Train loss: 0.0008215603485785488\n",
      "Test loss: 0.0027119274483993648\n",
      "Epoch 78\n",
      "---------\n",
      "Train loss: 0.0007956830013426952\n",
      "Test loss: 0.002643394801998511\n",
      "Epoch 79\n",
      "---------\n",
      "Train loss: 0.0007902618905394444\n",
      "Test loss: 0.0027363444154616446\n",
      "Epoch 80\n",
      "---------\n",
      "Train loss: 0.0009269185644701462\n",
      "Test loss: 0.002985597710357979\n",
      "Epoch 81\n",
      "---------\n",
      "Train loss: 0.0010029654721703\n",
      "Test loss: 0.0027756596682593226\n",
      "Epoch 82\n",
      "---------\n",
      "Train loss: 0.000864701540690889\n",
      "Test loss: 0.0029755099618341773\n",
      "Epoch 83\n",
      "---------\n",
      "Train loss: 0.0009102412133705167\n",
      "Test loss: 0.003039587487000972\n",
      "Epoch 84\n",
      "---------\n",
      "Train loss: 0.0037518281372864626\n",
      "Test loss: 0.006427430908661336\n",
      "Epoch 85\n",
      "---------\n",
      "Train loss: 0.003837524317284326\n",
      "Test loss: 0.0036633757525123658\n",
      "Epoch 86\n",
      "---------\n",
      "Train loss: 0.0011002312229803383\n",
      "Test loss: 0.0027129464433528483\n",
      "Epoch 87\n",
      "---------\n",
      "Train loss: 0.0006767612764881712\n",
      "Test loss: 0.002518218505429104\n",
      "Epoch 88\n",
      "---------\n",
      "Train loss: 0.0005751755108411254\n",
      "Test loss: 0.002550680562853813\n",
      "Epoch 89\n",
      "---------\n",
      "Train loss: 0.0005337157887300815\n",
      "Test loss: 0.00273762927390635\n",
      "Epoch 90\n",
      "---------\n",
      "Train loss: 0.0005238070381727249\n",
      "Test loss: 0.0027963547268882393\n",
      "Epoch 91\n",
      "---------\n",
      "Train loss: 0.0006690952828979458\n",
      "Test loss: 0.0025889274082146587\n",
      "Epoch 92\n",
      "---------\n",
      "Train loss: 0.0005846250873715194\n",
      "Test loss: 0.0026523029955569655\n",
      "Epoch 93\n",
      "---------\n",
      "Train loss: 0.0006226344215643952\n",
      "Test loss: 0.0031650933960918337\n",
      "Epoch 94\n",
      "---------\n",
      "Train loss: 0.0007212553924050139\n",
      "Test loss: 0.0028107713966164737\n",
      "Epoch 95\n",
      "---------\n",
      "Train loss: 0.0007108324981262823\n",
      "Test loss: 0.002658995456295088\n",
      "Epoch 96\n",
      "---------\n",
      "Train loss: 0.000625104026767076\n",
      "Test loss: 0.002953152992995456\n",
      "Epoch 97\n",
      "---------\n"
     ]
    },
    {
     "name": "stdout",
     "output_type": "stream",
     "text": [
      "Train loss: 0.0006480724679766519\n",
      "Test loss: 0.002682593834470026\n",
      "Epoch 98\n",
      "---------\n",
      "Train loss: 0.0006209093837903558\n",
      "Test loss: 0.0027481953176902605\n",
      "Epoch 99\n",
      "---------\n",
      "Train loss: 0.0006693369242301825\n",
      "Test loss: 0.003277149907080457\n",
      "Epoch 100\n",
      "---------\n",
      "Train loss: 0.0012446210045957494\n",
      "Test loss: 0.0029866340395528824\n",
      "Epoch 101\n",
      "---------\n",
      "Train loss: 0.0008393071746633558\n",
      "Test loss: 0.0031691290787421167\n",
      "Epoch 102\n",
      "---------\n",
      "Train loss: 0.0008087692666859683\n",
      "Test loss: 0.0026438813598360865\n",
      "Epoch 103\n",
      "---------\n",
      "Train loss: 0.0018905827374427727\n",
      "Test loss: 0.008259277453180402\n",
      "Epoch 104\n",
      "---------\n",
      "Train loss: 0.002147214566569098\n",
      "Test loss: 0.003671091212891042\n",
      "Epoch 105\n",
      "---------\n",
      "Train loss: 0.0007073696704703087\n",
      "Test loss: 0.0027151724498253316\n",
      "Epoch 106\n",
      "---------\n",
      "Train loss: 0.00048451290438771883\n",
      "Test loss: 0.0027433455747086556\n",
      "Epoch 107\n",
      "---------\n",
      "Train loss: 0.0004537682871159632\n",
      "Test loss: 0.0025358599348692225\n",
      "Epoch 108\n",
      "---------\n",
      "Train loss: 0.00041313167672673114\n",
      "Test loss: 0.002573769207810983\n",
      "Epoch 109\n",
      "---------\n",
      "Train loss: 0.00045290106283408187\n",
      "Test loss: 0.002614292810903862\n",
      "Epoch 110\n",
      "---------\n",
      "Train loss: 0.0005747724801701472\n",
      "Test loss: 0.0029269864491652696\n",
      "Epoch 111\n",
      "---------\n",
      "Train loss: 0.0005733389998567873\n",
      "Test loss: 0.0026222318643704056\n",
      "Epoch 112\n",
      "---------\n",
      "Train loss: 0.0005053956829215167\n",
      "Test loss: 0.0026027922169305382\n",
      "Epoch 113\n",
      "---------\n",
      "Train loss: 0.0004691161042997423\n",
      "Test loss: 0.002881160785909742\n",
      "Epoch 114\n",
      "---------\n",
      "Train loss: 0.0008900417231581576\n",
      "Test loss: 0.003105660527944565\n",
      "Epoch 115\n",
      "---------\n",
      "Train loss: 0.0007972275743668433\n",
      "Test loss: 0.0030091366905253382\n",
      "Epoch 116\n",
      "---------\n",
      "Train loss: 0.0007010161506596804\n",
      "Test loss: 0.0029564503638539463\n",
      "Epoch 117\n",
      "---------\n",
      "Train loss: 0.0032773077876878565\n",
      "Test loss: 0.007802650285884738\n",
      "Epoch 118\n",
      "---------\n",
      "Train loss: 0.0038986230673882264\n",
      "Test loss: 0.00493497452698648\n",
      "Epoch 119\n",
      "---------\n",
      "Train loss: 0.0017033336622592867\n",
      "Test loss: 0.003423288156045601\n",
      "Epoch 120\n",
      "---------\n",
      "Train loss: 0.0006992348741153943\n",
      "Test loss: 0.002772318001370877\n",
      "Epoch 121\n",
      "---------\n",
      "Train loss: 0.000491293360358792\n",
      "Test loss: 0.0029204332153312863\n",
      "Epoch 122\n",
      "---------\n",
      "Train loss: 0.0004030325220479757\n",
      "Test loss: 0.002601883880561218\n",
      "Epoch 123\n",
      "---------\n",
      "Train loss: 0.0003955953790699079\n",
      "Test loss: 0.002833936276147142\n",
      "Epoch 124\n",
      "---------\n",
      "Train loss: 0.00039442789354573256\n",
      "Test loss: 0.0027759989839978515\n",
      "Epoch 125\n",
      "---------\n",
      "Train loss: 0.00032628121177615617\n",
      "Test loss: 0.002702468622010201\n",
      "Epoch 126\n",
      "---------\n",
      "Train loss: 0.0004785709220000585\n",
      "Test loss: 0.0029433803400024773\n",
      "Epoch 127\n",
      "---------\n",
      "Train loss: 0.0004821231650566915\n",
      "Test loss: 0.002904728933935985\n",
      "Epoch 128\n",
      "---------\n",
      "Train loss: 0.00041249373093292394\n",
      "Test loss: 0.0028079637966584416\n",
      "Epoch 129\n",
      "---------\n",
      "Train loss: 0.00037423260379331293\n",
      "Test loss: 0.0026346752187237144\n",
      "Epoch 130\n",
      "---------\n",
      "Train loss: 0.0003756870258836319\n",
      "Test loss: 0.0028502707369625568\n",
      "Epoch 131\n",
      "---------\n",
      "Train loss: 0.0004924261298914313\n",
      "Test loss: 0.002815816440852359\n",
      "Epoch 132\n",
      "---------\n",
      "Train loss: 0.0004579689832760116\n",
      "Test loss: 0.002841428149258718\n",
      "Epoch 133\n",
      "---------\n",
      "Train loss: 0.0006046489981434371\n",
      "Test loss: 0.0032015043427236376\n",
      "Epoch 134\n",
      "---------\n",
      "Train loss: 0.0005932948237056156\n",
      "Test loss: 0.0027379362465580924\n",
      "Epoch 135\n",
      "---------\n",
      "Train loss: 0.000743975803743524\n",
      "Test loss: 0.0030174355022609236\n",
      "Epoch 136\n",
      "---------\n",
      "Train loss: 0.0011924675969070945\n",
      "Test loss: 0.002838098257780075\n",
      "Epoch 137\n",
      "---------\n",
      "Train loss: 0.0007063297277702738\n",
      "Test loss: 0.0029307432705536485\n",
      "Epoch 138\n",
      "---------\n",
      "Train loss: 0.0004773511265573854\n",
      "Test loss: 0.00254350078466814\n",
      "Epoch 139\n",
      "---------\n",
      "Train loss: 0.00032129079057664387\n",
      "Test loss: 0.002658502955455333\n",
      "Epoch 140\n",
      "---------\n",
      "Train loss: 0.0003465066578924465\n",
      "Test loss: 0.0026371446263510736\n",
      "Epoch 141\n",
      "---------\n",
      "Train loss: 0.0003579284492926408\n",
      "Test loss: 0.0025310473225545137\n",
      "Epoch 142\n",
      "---------\n",
      "Train loss: 0.00044738399810739793\n",
      "Test loss: 0.0027618857275228947\n",
      "Epoch 143\n",
      "---------\n",
      "Train loss: 0.00048689646874580916\n",
      "Test loss: 0.0028033987793605773\n",
      "Epoch 144\n",
      "---------\n",
      "Train loss: 0.0005054750919787858\n",
      "Test loss: 0.0029645718459505588\n",
      "Epoch 145\n",
      "---------\n",
      "Train loss: 0.0004932500407283607\n",
      "Test loss: 0.0027786697901319712\n",
      "Epoch 146\n",
      "---------\n",
      "Train loss: 0.00047399446628498316\n",
      "Test loss: 0.002877665520645678\n",
      "Epoch 147\n",
      "---------\n",
      "Train loss: 0.0005574878006717137\n",
      "Test loss: 0.0027244841447100045\n",
      "Epoch 148\n",
      "---------\n",
      "Train loss: 0.0005001433728466509\n",
      "Test loss: 0.002740064513636753\n",
      "Epoch 149\n",
      "---------\n",
      "Train loss: 0.0004969594430638773\n",
      "Test loss: 0.0028609703411348166\n"
     ]
    }
   ],
   "source": [
    "lstm_loss_train = []\n",
    "lstm_loss_test=[]\n",
    "num_epoch=150\n",
    "for ix_epoch in range(num_epoch):\n",
    "    print(f\"Epoch {ix_epoch}\\n---------\")\n",
    "    train_loss = train_model(train_loader, model_lstm, loss_function, optimizer=optimizer)\n",
    "    test_loss = test_model(test_loader, model_lstm, loss_function)\n",
    "    lstm_loss_train.append(train_loss)\n",
    "    lstm_loss_test.append(test_loss)"
   ]
  },
  {
   "cell_type": "code",
   "execution_count": 21,
   "id": "f8806195",
   "metadata": {},
   "outputs": [
    {
     "data": {
      "image/png": "[encoded data removed]",
      "text/plain": [
       "<Figure size 576x432 with 1 Axes>"
      ]
     },
     "metadata": {
      "needs_background": "light"
     },
     "output_type": "display_data"
    }
   ],
   "source": [
    "plt.figure(figsize=(8, 6))\n",
    "plt.plot(range(num_epoch), lstm_loss_train, label='train')\n",
    "plt.plot(range(num_epoch), lstm_loss_test, label='test')\n",
    "plt.ylabel('Loss')\n",
    "plt.xlabel('Epoch')\n",
    "plt.legend()\n",
    "plt.show()"
   ]
  },
  {
   "cell_type": "markdown",
   "id": "2f44945e",
   "metadata": {},
   "source": [
    "We then use the model to predict the test set, and then compare the results of the prediction to the real values."
   ]
  },
  {
   "cell_type": "code",
   "execution_count": 22,
   "id": "478ffa72",
   "metadata": {},
   "outputs": [],
   "source": [
    "def predict(data_loader, model):\n",
    "    \"\"\"Just like `test_loop` function but keep track of the outputs instead of the loss\n",
    "    function.\n",
    "    \"\"\"\n",
    "    output = []\n",
    "    model.eval()\n",
    "    with torch.no_grad():\n",
    "        for X, _ in data_loader:\n",
    "            y_star = model(X)\n",
    "            output.append(y_star.numpy())  \n",
    "    return output"
   ]
  },
  {
   "cell_type": "code",
   "execution_count": 23,
   "id": "aec3abbe",
   "metadata": {},
   "outputs": [],
   "source": [
    "# Prepare data to evaluate training accuracy of lstm\n",
    "train_eval_loader = DataLoader(data.TensorDataset(X_train_ts, y_train_ts), shuffle=False, batch_size=batch_size)\n",
    "y_train_pred_lstm=predict(train_eval_loader, model_lstm)\n",
    "y_train_lstm=[]\n",
    "for X, y in train_eval_loader:\n",
    "    y_train_lstm.append(y)\n",
    "# Prepare data to evaluate test accuracy of lstm\n",
    "test_eval_loader = DataLoader(data.TensorDataset(X_test_ts, y_test_ts), shuffle=False, batch_size=batch_size)\n",
    "y_test_pred_lstm=predict(test_eval_loader, model_lstm)\n",
    "y_test_lstm=[]\n",
    "for X, y in test_eval_loader:\n",
    "    y_test_lstm.append(y)"
   ]
  },
  {
   "cell_type": "code",
   "execution_count": 24,
   "id": "1d45f169",
   "metadata": {},
   "outputs": [],
   "source": [
    "from sklearn.metrics import mean_squared_error\n",
    "from sklearn.metrics import mean_absolute_error\n",
    "def cal_metrics(y_true,y_pred):\n",
    "    mae=0\n",
    "    rmse=0\n",
    "    for i in range(len(y_true)):\n",
    "        y1=y_true[i].flatten().numpy()* target_stdev + target_mean\n",
    "        y2=y_pred[i].flatten()* target_stdev + target_mean\n",
    "        mae=mean_absolute_error(y1, y2)+mae\n",
    "        rmse=mean_squared_error(y1, y2, squared=False)+rmse  \n",
    "    return mae/len(y_true) , rmse/len(y_true)"
   ]
  },
  {
   "cell_type": "code",
   "execution_count": 25,
   "id": "ba63dddb",
   "metadata": {},
   "outputs": [
    {
     "name": "stdout",
     "output_type": "stream",
     "text": [
      "MAE train error is 9.571815729141235\n",
      "RMSE train error is 15.383524585853923\n",
      "MAE test error is 18.161194801330566\n",
      "RMSE test error is 34.056847190856935\n"
     ]
    }
   ],
   "source": [
    "mae_train_lstm, rmse_train_lstm= cal_metrics(y_train_lstm,y_train_pred_lstm)\n",
    "print('MAE train error is',mae_train_lstm)\n",
    "print('RMSE train error is',rmse_train_lstm)\n",
    "mae_test_lstm, rmse_test_lstm= cal_metrics(y_test_lstm,y_test_pred_lstm)\n",
    "print('MAE test error is',mae_test_lstm)\n",
    "print('RMSE test error is',rmse_test_lstm)"
   ]
  },
  {
   "cell_type": "code",
   "execution_count": 26,
   "id": "99a37bd3",
   "metadata": {},
   "outputs": [
    {
     "name": "stdout",
     "output_type": "stream",
     "text": [
      "MAE check error  :  22.073339843749817\n",
      "RMSE check error :  29.498719661310094\n"
     ]
    }
   ],
   "source": [
    "y_check_pred_lstm = model_lstm(torch.FloatTensor([X_check]))\n",
    "y_check_pred_lstm = y_check_pred_lstm.detach().numpy()\n",
    "\n",
    "mae_check_lstm = mean_absolute_error(y_check* target_stdev + target_mean,y_check_pred_lstm* target_stdev + target_mean)\n",
    "print('MAE check error  : ',mae_check_lstm)\n",
    "rmse_check_lstm = mean_squared_error(y_check* target_stdev + target_mean,y_check_pred_lstm* target_stdev + target_mean, squared=False)\n",
    "print('RMSE check error : ',rmse_check_lstm)"
   ]
  },
  {
   "cell_type": "code",
   "execution_count": null,
   "id": "f0dead4b",
   "metadata": {},
   "outputs": [],
   "source": []
  },
  {
   "cell_type": "code",
   "execution_count": null,
   "id": "6b51cc68",
   "metadata": {},
   "outputs": [],
   "source": []
  },
  {
   "cell_type": "markdown",
   "id": "5f530116",
   "metadata": {},
   "source": [
    "## Running the ARIMA "
   ]
  },
  {
   "cell_type": "code",
   "execution_count": 27,
   "id": "a3e88a61",
   "metadata": {},
   "outputs": [
    {
     "name": "stderr",
     "output_type": "stream",
     "text": [
      "<ipython-input-27-c2c42f0d7345>:3: FutureWarning: The pandas.datetime class is deprecated and will be removed from pandas in a future version. Import from datetime module instead.\n",
      "  from pandas import datetime\n"
     ]
    }
   ],
   "source": [
    "from statsmodels.tsa.arima.model import ARIMA\n",
    "from pandas import DataFrame\n",
    "from pandas import datetime"
   ]
  },
  {
   "cell_type": "code",
   "execution_count": 28,
   "id": "17dab4d7",
   "metadata": {},
   "outputs": [
    {
     "name": "stderr",
     "output_type": "stream",
     "text": [
      "<ipython-input-28-de4a1ff72067>:2: FutureWarning: The pandas.datetime class is deprecated and will be removed from pandas in a future version. Import from datetime module instead.\n",
      "  from pandas import datetime\n"
     ]
    }
   ],
   "source": [
    "from pandas import read_csv\n",
    "from pandas import datetime\n",
    "from statsmodels.tsa.arima.model import ARIMA\n",
    "from sklearn.metrics import mean_squared_error\n",
    "from pmdarima.arima import auto_arima\n",
    "train_data_arima=df[target].values[:len(df)-window] # train on full data\n",
    "check_data_arima=df[target].values[len(df)-window:]"
   ]
  },
  {
   "cell_type": "code",
   "execution_count": 29,
   "id": "0b4db432",
   "metadata": {},
   "outputs": [
    {
     "name": "stdout",
     "output_type": "stream",
     "text": [
      "[1.04554877 0.99229147 1.03138787 1.0133789  0.9904444  0.97228151\n",
      " 0.99629347 1.0524753  1.08125887 1.08125887]\n"
     ]
    }
   ],
   "source": [
    "print(check_data_arima)"
   ]
  },
  {
   "cell_type": "code",
   "execution_count": 30,
   "id": "89be58bd",
   "metadata": {},
   "outputs": [
    {
     "name": "stdout",
     "output_type": "stream",
     "text": [
      "Performing stepwise search to minimize aic\n",
      " ARIMA(0,0,0)(0,0,0)[0]             : AIC=8880.184, Time=0.06 sec\n",
      " ARIMA(1,0,0)(0,0,0)[0]             : AIC=inf, Time=0.18 sec\n",
      " ARIMA(0,0,1)(0,0,0)[0]             : AIC=4907.180, Time=0.35 sec\n",
      " ARIMA(1,0,1)(0,0,0)[0]             : AIC=-5685.308, Time=0.23 sec\n",
      " ARIMA(2,0,1)(0,0,0)[0]             : AIC=-5693.845, Time=1.22 sec\n",
      " ARIMA(2,0,0)(0,0,0)[0]             : AIC=inf, Time=0.34 sec\n",
      " ARIMA(3,0,1)(0,0,0)[0]             : AIC=-5689.003, Time=1.89 sec\n",
      " ARIMA(2,0,2)(0,0,0)[0]             : AIC=-5683.446, Time=0.60 sec\n",
      " ARIMA(1,0,2)(0,0,0)[0]             : AIC=-5684.169, Time=0.37 sec\n",
      " ARIMA(3,0,0)(0,0,0)[0]             : AIC=inf, Time=0.33 sec\n",
      " ARIMA(3,0,2)(0,0,0)[0]             : AIC=-5685.012, Time=2.44 sec\n",
      " ARIMA(2,0,1)(0,0,0)[0] intercept   : AIC=-5691.881, Time=3.25 sec\n",
      "\n",
      "Best model:  ARIMA(2,0,1)(0,0,0)[0]          \n",
      "Total fit time: 11.280 seconds\n",
      "                               SARIMAX Results                                \n",
      "==============================================================================\n",
      "Dep. Variable:                      y   No. Observations:                 3129\n",
      "Model:               SARIMAX(2, 0, 1)   Log Likelihood                2850.922\n",
      "Date:                Thu, 11 Jan 2024   AIC                          -5693.845\n",
      "Time:                        10:48:36   BIC                          -5669.651\n",
      "Sample:                             0   HQIC                         -5685.161\n",
      "                               - 3129                                         \n",
      "Covariance Type:                  opg                                         \n",
      "==============================================================================\n",
      "                 coef    std err          z      P>|z|      [0.025      0.975]\n",
      "------------------------------------------------------------------------------\n",
      "ar.L1          0.0629      0.032      1.936      0.053      -0.001       0.127\n",
      "ar.L2          0.9288      0.032     28.697      0.000       0.865       0.992\n",
      "ma.L1          0.9531      0.029     33.059      0.000       0.897       1.010\n",
      "sigma2         0.0094      0.000     78.411      0.000       0.009       0.010\n",
      "===================================================================================\n",
      "Ljung-Box (L1) (Q):                   0.75   Jarque-Bera (JB):              6616.26\n",
      "Prob(Q):                              0.39   Prob(JB):                         0.00\n",
      "Heteroskedasticity (H):               1.91   Skew:                            -0.72\n",
      "Prob(H) (two-sided):                  0.00   Kurtosis:                         9.98\n",
      "===================================================================================\n",
      "\n",
      "Warnings:\n",
      "[1] Covariance matrix calculated using the outer product of gradients (complex-step).\n"
     ]
    },
    {
     "data": {
      "image/png": "[encoded data removed]",
      "text/plain": [
       "<Figure size 1080x576 with 4 Axes>"
      ]
     },
     "metadata": {
      "needs_background": "light"
     },
     "output_type": "display_data"
    }
   ],
   "source": [
    "model_autoARIMA = auto_arima(train_data_arima, start_p=0, start_q=0,\n",
    "                      test='adf',       # use adftest to find optimal 'd'\n",
    "                      max_p=3, max_q=3, # maximum p and q\n",
    "                      m=1,              # frequency of series\n",
    "                      d=None,           # let model determine 'd'\n",
    "                      seasonal=False,   # No Seasonality\n",
    "                      start_P=0, \n",
    "                      D=0, \n",
    "                      trace=True,\n",
    "                      error_action='ignore',  \n",
    "                      suppress_warnings=True, \n",
    "                      stepwise=True)\n",
    "print(model_autoARIMA.summary())\n",
    "model_autoARIMA.plot_diagnostics(figsize=(15,8))\n",
    "plt.show()"
   ]
  },
  {
   "cell_type": "code",
   "execution_count": 70,
   "id": "83c2e727",
   "metadata": {},
   "outputs": [
    {
     "name": "stderr",
     "output_type": "stream",
     "text": [
      "C:\\anaconda_installed\\lib\\site-packages\\statsmodels\\tsa\\statespace\\sarimax.py:966: UserWarning: Non-stationary starting autoregressive parameters found. Using zeros as starting parameters.\n",
      "  warn('Non-stationary starting autoregressive parameters'\n",
      "C:\\anaconda_installed\\lib\\site-packages\\statsmodels\\tsa\\statespace\\sarimax.py:978: UserWarning: Non-invertible starting MA parameters found. Using zeros as starting parameters.\n",
      "  warn('Non-invertible starting MA parameters found.'\n"
     ]
    },
    {
     "name": "stdout",
     "output_type": "stream",
     "text": [
      "                               SARIMAX Results                                \n",
      "==============================================================================\n",
      "Dep. Variable:                      y   No. Observations:                 3129\n",
      "Model:                 ARIMA(2, 0, 1)   Log Likelihood                2850.599\n",
      "Date:                Thu, 11 Jan 2024   AIC                          -5691.197\n",
      "Time:                        11:05:02   BIC                          -5660.955\n",
      "Sample:                             0   HQIC                         -5680.343\n",
      "                               - 3129                                         \n",
      "Covariance Type:                  opg                                         \n",
      "==============================================================================\n",
      "                 coef    std err          z      P>|z|      [0.025      0.975]\n",
      "------------------------------------------------------------------------------\n",
      "const         -0.0117      0.429     -0.027      0.978      -0.852       0.829\n",
      "ar.L1          0.0905      0.044      2.039      0.041       0.004       0.177\n",
      "ar.L2          0.9023      0.044     20.402      0.000       0.816       0.989\n",
      "ma.L1          0.9294      0.040     23.033      0.000       0.850       1.008\n",
      "sigma2         0.0095      0.000     77.195      0.000       0.009       0.010\n",
      "===================================================================================\n",
      "Ljung-Box (L1) (Q):                   1.18   Jarque-Bera (JB):              6564.14\n",
      "Prob(Q):                              0.28   Prob(JB):                         0.00\n",
      "Heteroskedasticity (H):               1.91   Skew:                            -0.71\n",
      "Prob(H) (two-sided):                  0.00   Kurtosis:                         9.95\n",
      "===================================================================================\n",
      "\n",
      "Warnings:\n",
      "[1] Covariance matrix calculated using the outer product of gradients (complex-step).\n"
     ]
    }
   ],
   "source": [
    "import statsmodels.api as sm\n",
    "model = ARIMA(train_data_arima, order=(2,0,1))  \n",
    "fitted = model.fit()  \n",
    "print(fitted.summary())"
   ]
  },
  {
   "cell_type": "code",
   "execution_count": 71,
   "id": "cef8c68d",
   "metadata": {},
   "outputs": [
    {
     "name": "stderr",
     "output_type": "stream",
     "text": [
      "C:\\anaconda_installed\\lib\\site-packages\\statsmodels\\tsa\\statespace\\representation.py:374: FutureWarning: Unknown keyword arguments: dict_keys(['alpha']).Passing unknown keyword arguments will raise a TypeError beginning in version 0.15.\n",
      "  warnings.warn(msg, FutureWarning)\n"
     ]
    }
   ],
   "source": [
    "# Forecast\n",
    "y_check_pred_arima = fitted.forecast(window, alpha=0.05)  # 95% conf"
   ]
  },
  {
   "cell_type": "code",
   "execution_count": 72,
   "id": "dc6af13c",
   "metadata": {},
   "outputs": [
    {
     "name": "stdout",
     "output_type": "stream",
     "text": [
      "Mean absolute error(check) :  22.75176847388793\n",
      "Root Mean Squared error(check) :  29.2383270172977\n"
     ]
    }
   ],
   "source": [
    "mae_check_arima = mean_absolute_error(y_check* target_stdev + target_mean,y_check_pred_arima* target_stdev + target_mean)\n",
    "print('Mean absolute error(check) : ',mae_check_arima)\n",
    "rmse_check_arima = mean_squared_error(y_check* target_stdev + target_mean,y_check_pred_arima* target_stdev + target_mean, squared=False)\n",
    "print('Root Mean Squared error(check) : ',rmse_check_arima)"
   ]
  },
  {
   "cell_type": "markdown",
   "id": "aa29c82e",
   "metadata": {},
   "source": [
    "## Data processing for regression model"
   ]
  },
  {
   "cell_type": "code",
   "execution_count": 31,
   "id": "67e797f2",
   "metadata": {},
   "outputs": [
    {
     "name": "stdout",
     "output_type": "stream",
     "text": [
      "(3119, 10, 24) (3119, 10)\n"
     ]
    }
   ],
   "source": [
    "# Data for regression model\n",
    "sequence_length_reg = window_reg =10 # Number of time steps that will be inputted into LSTM network\n",
    "\n",
    "def create_dataset_reg(dataset,target,features, lookback, window):\n",
    "    X_store, y_store = [], []\n",
    "    for i in range(len(dataset)-lookback-window):\n",
    "        X = (dataset[features].values)[i:i+lookback]\n",
    "        y = (dataset[target].values)[i+lookback-1:i+lookback+window-1]\n",
    "        X_store.append(X)\n",
    "        y_store.append(y)\n",
    "    return X_store,y_store\n",
    "\n",
    "X_reg,y_reg = create_dataset_reg(\n",
    "    df,\n",
    "    target=target,\n",
    "    features=features,\n",
    "    lookback=sequence_length_reg, window=window_reg)\n",
    "\n",
    "print(np.array(X_reg).shape, np.array(y_reg).shape)"
   ]
  },
  {
   "cell_type": "code",
   "execution_count": 32,
   "id": "1229439a",
   "metadata": {},
   "outputs": [],
   "source": [
    "X_reg = tf.gather(X_reg, shuffled_indices)\n",
    "y_reg = tf.gather(y_reg, shuffled_indices)"
   ]
  },
  {
   "cell_type": "code",
   "execution_count": 33,
   "id": "64866d2b",
   "metadata": {},
   "outputs": [
    {
     "name": "stdout",
     "output_type": "stream",
     "text": [
      "Shape of train is (2807, 10, 24) and (2807, 10)\n",
      "Shape os test is (312, 10, 24) and (312, 10)\n"
     ]
    }
   ],
   "source": [
    "# Train test split\n",
    "m=np.array(X_reg).shape[0] # get first dimension\n",
    "size=int(m*0.9)\n",
    "X_train_reg=X_reg[:size]\n",
    "y_train_reg=y_reg[:size]\n",
    "X_test_reg=X_reg[size:]\n",
    "y_test_reg=y_reg[size:]\n",
    "print('Shape of train is',np.array(X_train_reg).shape,'and',np.array(y_train_reg).shape)\n",
    "print('Shape os test is',np.array(X_test_reg).shape,'and',np.array(y_test_reg).shape)"
   ]
  },
  {
   "cell_type": "code",
   "execution_count": 34,
   "id": "3b64fca9",
   "metadata": {},
   "outputs": [
    {
     "name": "stdout",
     "output_type": "stream",
     "text": [
      "(28070, 24)\n",
      "(28070,)\n"
     ]
    }
   ],
   "source": [
    "X_train_reg_=np.array([inner for outer in X_train_reg for inner in outer])\n",
    "print(X_train_reg_.shape)\n",
    "y_train_reg_=np.array([inner for outer in y_train_reg for inner in outer])\n",
    "print(y_train_reg_.shape)"
   ]
  },
  {
   "cell_type": "code",
   "execution_count": 35,
   "id": "3d5beda1",
   "metadata": {},
   "outputs": [
    {
     "name": "stdout",
     "output_type": "stream",
     "text": [
      "(3120, 24)\n",
      "(3120,)\n"
     ]
    }
   ],
   "source": [
    "X_test_reg_=np.array([inner for outer in X_test_reg for inner in outer])\n",
    "print(X_test_reg_.shape)\n",
    "y_test_reg_=np.array([inner for outer in y_test_reg for inner in outer])\n",
    "print(y_test_reg_.shape)"
   ]
  },
  {
   "cell_type": "code",
   "execution_count": 36,
   "id": "b9a2781c",
   "metadata": {},
   "outputs": [],
   "source": [
    "# Prepare test data\n",
    "X_check_reg=(df[features].values)[len(df)-window_reg-sequence_length_reg+1:len(df)- window_reg+1]\n",
    "y_check_reg=(df[target].values)[len(df)-window_reg:len(df)]"
   ]
  },
  {
   "cell_type": "code",
   "execution_count": null,
   "id": "97c39e12",
   "metadata": {},
   "outputs": [],
   "source": []
  },
  {
   "cell_type": "markdown",
   "id": "afbd8682",
   "metadata": {},
   "source": [
    "## Linear regression model"
   ]
  },
  {
   "cell_type": "code",
   "execution_count": 37,
   "id": "13632897",
   "metadata": {},
   "outputs": [
    {
     "data": {
      "text/html": [
       "<style>#sk-container-id-1 {color: black;background-color: white;}#sk-container-id-1 pre{padding: 0;}#sk-container-id-1 div.sk-toggleable {background-color: white;}#sk-container-id-1 label.sk-toggleable__label {cursor: pointer;display: block;width: 100%;margin-bottom: 0;padding: 0.3em;box-sizing: border-box;text-align: center;}#sk-container-id-1 label.sk-toggleable__label-arrow:before {content: \"▸\";float: left;margin-right: 0.25em;color: #696969;}#sk-container-id-1 label.sk-toggleable__label-arrow:hover:before {color: black;}#sk-container-id-1 div.sk-estimator:hover label.sk-toggleable__label-arrow:before {color: black;}#sk-container-id-1 div.sk-toggleable__content {max-height: 0;max-width: 0;overflow: hidden;text-align: left;background-color: #f0f8ff;}#sk-container-id-1 div.sk-toggleable__content pre {margin: 0.2em;color: black;border-radius: 0.25em;background-color: #f0f8ff;}#sk-container-id-1 input.sk-toggleable__control:checked~div.sk-toggleable__content {max-height: 200px;max-width: 100%;overflow: auto;}#sk-container-id-1 input.sk-toggleable__control:checked~label.sk-toggleable__label-arrow:before {content: \"▾\";}#sk-container-id-1 div.sk-estimator input.sk-toggleable__control:checked~label.sk-toggleable__label {background-color: #d4ebff;}#sk-container-id-1 div.sk-label input.sk-toggleable__control:checked~label.sk-toggleable__label {background-color: #d4ebff;}#sk-container-id-1 input.sk-hidden--visually {border: 0;clip: rect(1px 1px 1px 1px);clip: rect(1px, 1px, 1px, 1px);height: 1px;margin: -1px;overflow: hidden;padding: 0;position: absolute;width: 1px;}#sk-container-id-1 div.sk-estimator {font-family: monospace;background-color: #f0f8ff;border: 1px dotted black;border-radius: 0.25em;box-sizing: border-box;margin-bottom: 0.5em;}#sk-container-id-1 div.sk-estimator:hover {background-color: #d4ebff;}#sk-container-id-1 div.sk-parallel-item::after {content: \"\";width: 100%;border-bottom: 1px solid gray;flex-grow: 1;}#sk-container-id-1 div.sk-label:hover label.sk-toggleable__label {background-color: #d4ebff;}#sk-container-id-1 div.sk-serial::before {content: \"\";position: absolute;border-left: 1px solid gray;box-sizing: border-box;top: 0;bottom: 0;left: 50%;z-index: 0;}#sk-container-id-1 div.sk-serial {display: flex;flex-direction: column;align-items: center;background-color: white;padding-right: 0.2em;padding-left: 0.2em;position: relative;}#sk-container-id-1 div.sk-item {position: relative;z-index: 1;}#sk-container-id-1 div.sk-parallel {display: flex;align-items: stretch;justify-content: center;background-color: white;position: relative;}#sk-container-id-1 div.sk-item::before, #sk-container-id-1 div.sk-parallel-item::before {content: \"\";position: absolute;border-left: 1px solid gray;box-sizing: border-box;top: 0;bottom: 0;left: 50%;z-index: -1;}#sk-container-id-1 div.sk-parallel-item {display: flex;flex-direction: column;z-index: 1;position: relative;background-color: white;}#sk-container-id-1 div.sk-parallel-item:first-child::after {align-self: flex-end;width: 50%;}#sk-container-id-1 div.sk-parallel-item:last-child::after {align-self: flex-start;width: 50%;}#sk-container-id-1 div.sk-parallel-item:only-child::after {width: 0;}#sk-container-id-1 div.sk-dashed-wrapped {border: 1px dashed gray;margin: 0 0.4em 0.5em 0.4em;box-sizing: border-box;padding-bottom: 0.4em;background-color: white;}#sk-container-id-1 div.sk-label label {font-family: monospace;font-weight: bold;display: inline-block;line-height: 1.2em;}#sk-container-id-1 div.sk-label-container {text-align: center;}#sk-container-id-1 div.sk-container {/* jupyter's `normalize.less` sets `[hidden] { display: none; }` but bootstrap.min.css set `[hidden] { display: none !important; }` so we also need the `!important` here to be able to override the default hidden behavior on the sphinx rendered scikit-learn.org. See: https://github.com/scikit-learn/scikit-learn/issues/21755 */display: inline-block !important;position: relative;}#sk-container-id-1 div.sk-text-repr-fallback {display: none;}</style><div id=\"sk-container-id-1\" class=\"sk-top-container\"><div class=\"sk-text-repr-fallback\"><pre>LinearRegression()</pre><b>In a Jupyter environment, please rerun this cell to show the HTML representation or trust the notebook. <br />On GitHub, the HTML representation is unable to render, please try loading this page with nbviewer.org.</b></div><div class=\"sk-container\" hidden><div class=\"sk-item\"><div class=\"sk-estimator sk-toggleable\"><input class=\"sk-toggleable__control sk-hidden--visually\" id=\"sk-estimator-id-1\" type=\"checkbox\" checked><label for=\"sk-estimator-id-1\" class=\"sk-toggleable__label sk-toggleable__label-arrow\">LinearRegression</label><div class=\"sk-toggleable__content\"><pre>LinearRegression()</pre></div></div></div></div></div>"
      ],
      "text/plain": [
       "LinearRegression()"
      ]
     },
     "execution_count": 37,
     "metadata": {},
     "output_type": "execute_result"
    }
   ],
   "source": [
    "from sklearn.linear_model import LinearRegression\n",
    "#Creating the Regressor\n",
    "regressor = LinearRegression()\n",
    "regressor.fit(X_train_reg_, y_train_reg_)"
   ]
  },
  {
   "cell_type": "code",
   "execution_count": 38,
   "id": "9cc5d7a0",
   "metadata": {},
   "outputs": [
    {
     "name": "stdout",
     "output_type": "stream",
     "text": [
      "MAE train Error :  118.20555995947178\n",
      "RMSE train Error :  165.4362281477088\n"
     ]
    }
   ],
   "source": [
    "y_train_pred_mlr=regressor.predict(X_train_reg_)\n",
    "mae_train_mlr = mean_absolute_error(y_train_reg_* target_stdev + target_mean,y_train_pred_mlr* target_stdev + target_mean)\n",
    "print('MAE train Error : ',mae_train_mlr)\n",
    "rmse_train_mlr = mean_squared_error(y_train_reg_* target_stdev + target_mean,y_train_pred_mlr* target_stdev + target_mean, squared=False)\n",
    "print('RMSE train Error : ',rmse_train_mlr)"
   ]
  },
  {
   "cell_type": "code",
   "execution_count": 39,
   "id": "8f3520ad",
   "metadata": {},
   "outputs": [
    {
     "name": "stdout",
     "output_type": "stream",
     "text": [
      "MAE test Error :  118.87821243238109\n",
      "RMSE test Error :  176.1853758673319\n"
     ]
    }
   ],
   "source": [
    "y_test_pred_mlr=regressor.predict(X_test_reg_)\n",
    "mae_test_mlr = mean_absolute_error(y_test_reg_* target_stdev + target_mean,y_test_pred_mlr* target_stdev + target_mean)\n",
    "print('MAE test Error : ',mae_test_mlr)\n",
    "rmse_test_mlr = mean_squared_error(y_test_reg_* target_stdev + target_mean,y_test_pred_mlr* target_stdev + target_mean, squared=False)\n",
    "print('RMSE test Error : ',rmse_test_mlr)"
   ]
  },
  {
   "cell_type": "code",
   "execution_count": 40,
   "id": "59ce3315",
   "metadata": {},
   "outputs": [
    {
     "name": "stdout",
     "output_type": "stream",
     "text": [
      "MAE check error :  349.6513205342826\n",
      "RMSE check error:  351.7809343909762\n"
     ]
    }
   ],
   "source": [
    "y_check_pred_mlr = regressor.predict(X_check_reg)\n",
    "mae_check_mlr = mean_absolute_error(y_check_reg* target_stdev + target_mean,y_check_pred_mlr* target_stdev + target_mean)\n",
    "print('MAE check error : ',mae_check_mlr)\n",
    "rmse_check_mlr = mean_squared_error(y_check_reg* target_stdev + target_mean,y_check_pred_mlr* target_stdev + target_mean, squared=False)\n",
    "print('RMSE check error: ',rmse_check_mlr)"
   ]
  },
  {
   "cell_type": "code",
   "execution_count": null,
   "id": "c814f50e",
   "metadata": {},
   "outputs": [],
   "source": []
  },
  {
   "cell_type": "markdown",
   "id": "eaa44a54",
   "metadata": {},
   "source": [
    "## XGboost"
   ]
  },
  {
   "cell_type": "code",
   "execution_count": 41,
   "id": "b0726d75",
   "metadata": {},
   "outputs": [],
   "source": [
    "import xgboost as xg"
   ]
  },
  {
   "cell_type": "code",
   "execution_count": 42,
   "id": "a95c77d5",
   "metadata": {},
   "outputs": [
    {
     "data": {
      "text/html": [
       "<style>#sk-container-id-2 {color: black;background-color: white;}#sk-container-id-2 pre{padding: 0;}#sk-container-id-2 div.sk-toggleable {background-color: white;}#sk-container-id-2 label.sk-toggleable__label {cursor: pointer;display: block;width: 100%;margin-bottom: 0;padding: 0.3em;box-sizing: border-box;text-align: center;}#sk-container-id-2 label.sk-toggleable__label-arrow:before {content: \"▸\";float: left;margin-right: 0.25em;color: #696969;}#sk-container-id-2 label.sk-toggleable__label-arrow:hover:before {color: black;}#sk-container-id-2 div.sk-estimator:hover label.sk-toggleable__label-arrow:before {color: black;}#sk-container-id-2 div.sk-toggleable__content {max-height: 0;max-width: 0;overflow: hidden;text-align: left;background-color: #f0f8ff;}#sk-container-id-2 div.sk-toggleable__content pre {margin: 0.2em;color: black;border-radius: 0.25em;background-color: #f0f8ff;}#sk-container-id-2 input.sk-toggleable__control:checked~div.sk-toggleable__content {max-height: 200px;max-width: 100%;overflow: auto;}#sk-container-id-2 input.sk-toggleable__control:checked~label.sk-toggleable__label-arrow:before {content: \"▾\";}#sk-container-id-2 div.sk-estimator input.sk-toggleable__control:checked~label.sk-toggleable__label {background-color: #d4ebff;}#sk-container-id-2 div.sk-label input.sk-toggleable__control:checked~label.sk-toggleable__label {background-color: #d4ebff;}#sk-container-id-2 input.sk-hidden--visually {border: 0;clip: rect(1px 1px 1px 1px);clip: rect(1px, 1px, 1px, 1px);height: 1px;margin: -1px;overflow: hidden;padding: 0;position: absolute;width: 1px;}#sk-container-id-2 div.sk-estimator {font-family: monospace;background-color: #f0f8ff;border: 1px dotted black;border-radius: 0.25em;box-sizing: border-box;margin-bottom: 0.5em;}#sk-container-id-2 div.sk-estimator:hover {background-color: #d4ebff;}#sk-container-id-2 div.sk-parallel-item::after {content: \"\";width: 100%;border-bottom: 1px solid gray;flex-grow: 1;}#sk-container-id-2 div.sk-label:hover label.sk-toggleable__label {background-color: #d4ebff;}#sk-container-id-2 div.sk-serial::before {content: \"\";position: absolute;border-left: 1px solid gray;box-sizing: border-box;top: 0;bottom: 0;left: 50%;z-index: 0;}#sk-container-id-2 div.sk-serial {display: flex;flex-direction: column;align-items: center;background-color: white;padding-right: 0.2em;padding-left: 0.2em;position: relative;}#sk-container-id-2 div.sk-item {position: relative;z-index: 1;}#sk-container-id-2 div.sk-parallel {display: flex;align-items: stretch;justify-content: center;background-color: white;position: relative;}#sk-container-id-2 div.sk-item::before, #sk-container-id-2 div.sk-parallel-item::before {content: \"\";position: absolute;border-left: 1px solid gray;box-sizing: border-box;top: 0;bottom: 0;left: 50%;z-index: -1;}#sk-container-id-2 div.sk-parallel-item {display: flex;flex-direction: column;z-index: 1;position: relative;background-color: white;}#sk-container-id-2 div.sk-parallel-item:first-child::after {align-self: flex-end;width: 50%;}#sk-container-id-2 div.sk-parallel-item:last-child::after {align-self: flex-start;width: 50%;}#sk-container-id-2 div.sk-parallel-item:only-child::after {width: 0;}#sk-container-id-2 div.sk-dashed-wrapped {border: 1px dashed gray;margin: 0 0.4em 0.5em 0.4em;box-sizing: border-box;padding-bottom: 0.4em;background-color: white;}#sk-container-id-2 div.sk-label label {font-family: monospace;font-weight: bold;display: inline-block;line-height: 1.2em;}#sk-container-id-2 div.sk-label-container {text-align: center;}#sk-container-id-2 div.sk-container {/* jupyter's `normalize.less` sets `[hidden] { display: none; }` but bootstrap.min.css set `[hidden] { display: none !important; }` so we also need the `!important` here to be able to override the default hidden behavior on the sphinx rendered scikit-learn.org. See: https://github.com/scikit-learn/scikit-learn/issues/21755 */display: inline-block !important;position: relative;}#sk-container-id-2 div.sk-text-repr-fallback {display: none;}</style><div id=\"sk-container-id-2\" class=\"sk-top-container\"><div class=\"sk-text-repr-fallback\"><pre>XGBRegressor(base_score=0.5, booster=&#x27;gbtree&#x27;, colsample_bylevel=1,\n",
       "             colsample_bynode=1, colsample_bytree=1, enable_categorical=False,\n",
       "             gamma=0, gpu_id=-1, importance_type=None,\n",
       "             interaction_constraints=&#x27;&#x27;, learning_rate=0.300000012,\n",
       "             max_delta_step=0, max_depth=6, min_child_weight=1, missing=nan,\n",
       "             monotone_constraints=&#x27;()&#x27;, n_estimators=100, n_jobs=8,\n",
       "             num_parallel_tree=1, predictor=&#x27;auto&#x27;, random_state=42,\n",
       "             reg_alpha=0, reg_lambda=1, scale_pos_weight=1, seed=42,\n",
       "             subsample=1, tree_method=&#x27;exact&#x27;, validate_parameters=1,\n",
       "             verbosity=None)</pre><b>In a Jupyter environment, please rerun this cell to show the HTML representation or trust the notebook. <br />On GitHub, the HTML representation is unable to render, please try loading this page with nbviewer.org.</b></div><div class=\"sk-container\" hidden><div class=\"sk-item\"><div class=\"sk-estimator sk-toggleable\"><input class=\"sk-toggleable__control sk-hidden--visually\" id=\"sk-estimator-id-2\" type=\"checkbox\" checked><label for=\"sk-estimator-id-2\" class=\"sk-toggleable__label sk-toggleable__label-arrow\">XGBRegressor</label><div class=\"sk-toggleable__content\"><pre>XGBRegressor(base_score=0.5, booster=&#x27;gbtree&#x27;, colsample_bylevel=1,\n",
       "             colsample_bynode=1, colsample_bytree=1, enable_categorical=False,\n",
       "             gamma=0, gpu_id=-1, importance_type=None,\n",
       "             interaction_constraints=&#x27;&#x27;, learning_rate=0.300000012,\n",
       "             max_delta_step=0, max_depth=6, min_child_weight=1, missing=nan,\n",
       "             monotone_constraints=&#x27;()&#x27;, n_estimators=100, n_jobs=8,\n",
       "             num_parallel_tree=1, predictor=&#x27;auto&#x27;, random_state=42,\n",
       "             reg_alpha=0, reg_lambda=1, scale_pos_weight=1, seed=42,\n",
       "             subsample=1, tree_method=&#x27;exact&#x27;, validate_parameters=1,\n",
       "             verbosity=None)</pre></div></div></div></div></div>"
      ],
      "text/plain": [
       "XGBRegressor(base_score=0.5, booster='gbtree', colsample_bylevel=1,\n",
       "             colsample_bynode=1, colsample_bytree=1, enable_categorical=False,\n",
       "             gamma=0, gpu_id=-1, importance_type=None,\n",
       "             interaction_constraints='', learning_rate=0.300000012,\n",
       "             max_delta_step=0, max_depth=6, min_child_weight=1, missing=nan,\n",
       "             monotone_constraints='()', n_estimators=100, n_jobs=8,\n",
       "             num_parallel_tree=1, predictor='auto', random_state=42,\n",
       "             reg_alpha=0, reg_lambda=1, scale_pos_weight=1, seed=42,\n",
       "             subsample=1, tree_method='exact', validate_parameters=1,\n",
       "             verbosity=None)"
      ]
     },
     "execution_count": 42,
     "metadata": {},
     "output_type": "execute_result"
    }
   ],
   "source": [
    "# Instantiation \n",
    "xgb_r = xg.XGBRegressor(objective ='reg:squarederror', \n",
    "                   seed = 42) \n",
    "# Fitting the model \n",
    "xgb_r.fit(X_train_reg_, y_train_reg_) "
   ]
  },
  {
   "cell_type": "code",
   "execution_count": 43,
   "id": "2a12e02f",
   "metadata": {},
   "outputs": [
    {
     "name": "stdout",
     "output_type": "stream",
     "text": [
      "MAE train :  12.981215077540528\n",
      "RMSE train :  16.89391452781247\n"
     ]
    }
   ],
   "source": [
    "# Predict the model \n",
    "y_train_pred_xg = xgb_r.predict(X_train_reg_) \n",
    "mae_train_xg = mean_absolute_error(y_train_reg_* target_stdev + target_mean, y_train_pred_xg* target_stdev + target_mean)\n",
    "print('MAE train : ',mae_train_xg)\n",
    "rmse_train_xg = mean_squared_error(y_train_reg_* target_stdev + target_mean, y_train_pred_xg* target_stdev + target_mean, squared=False)\n",
    "print('RMSE train : ',rmse_train_xg)"
   ]
  },
  {
   "cell_type": "code",
   "execution_count": 44,
   "id": "f5e66624",
   "metadata": {},
   "outputs": [
    {
     "name": "stdout",
     "output_type": "stream",
     "text": [
      "MAE test :  14.160013271233975\n",
      "RMSE test :  18.59289354978675\n"
     ]
    }
   ],
   "source": [
    "# Predict the model \n",
    "y_test_pred_xg = xgb_r.predict(X_test_reg_) \n",
    "mae_test_xg = mean_absolute_error(y_test_reg_* target_stdev + target_mean, y_test_pred_xg* target_stdev + target_mean)\n",
    "print('MAE test : ',mae_test_xg)\n",
    "rmse_test_xg = mean_squared_error(y_test_reg_* target_stdev + target_mean, y_test_pred_xg* target_stdev + target_mean, squared=False)\n",
    "print('RMSE test : ',rmse_test_xg)"
   ]
  },
  {
   "cell_type": "code",
   "execution_count": 45,
   "id": "4e2c2637",
   "metadata": {},
   "outputs": [
    {
     "name": "stdout",
     "output_type": "stream",
     "text": [
      "Mean absolute Error :  106.45943359374978\n",
      "Root Mean Squared Error :  206.66926827629123\n"
     ]
    }
   ],
   "source": [
    "# Predict the model \n",
    "y_check_pred_xg = xgb_r.predict(X_check_reg) \n",
    "mae_check_xg = mean_absolute_error(y_check_reg* target_stdev + target_mean, y_check_pred_xg* target_stdev + target_mean)\n",
    "print('Mean absolute Error : ',mae_check_xg)\n",
    "rmse_check_xg = mean_squared_error(y_check_reg* target_stdev + target_mean, y_check_pred_xg* target_stdev + target_mean, squared=False)\n",
    "print('Root Mean Squared Error : ',rmse_check_xg)"
   ]
  },
  {
   "cell_type": "code",
   "execution_count": null,
   "id": "5ed77741",
   "metadata": {},
   "outputs": [],
   "source": []
  },
  {
   "cell_type": "markdown",
   "id": "8127e08b",
   "metadata": {},
   "source": [
    "## ANN"
   ]
  },
  {
   "cell_type": "code",
   "execution_count": 48,
   "id": "821b24bc",
   "metadata": {},
   "outputs": [],
   "source": [
    "from tensorflow.keras import regularizers, initializers\n",
    "from keras.layers import Input, Dense, Reshape, Embedding, concatenate, Dropout, Flatten\n",
    "from keras.layers.merge import Dot\n",
    "from keras.preprocessing import sequence\n",
    "from keras import Model"
   ]
  },
  {
   "cell_type": "code",
   "execution_count": 54,
   "id": "06b1a913",
   "metadata": {},
   "outputs": [],
   "source": [
    "input_ = Input((len(features)),) # feature\n",
    "\n",
    "den1=Dense(256, use_bias=True,activation='relu')(input_)\n",
    "\n",
    "den2=Dense(128, use_bias=True,activation='relu')(den1)\n",
    "\n",
    "den3=Dense(64, use_bias=True,activation='relu')(den2)\n",
    "\n",
    "den4=Dense(32, use_bias=True,activation='relu')(den3)\n",
    "\n",
    "den5=Dense(1, use_bias=True,activation='linear')(den4)\n",
    "\n",
    "model = Model(inputs=[input_], outputs=den5)"
   ]
  },
  {
   "cell_type": "code",
   "execution_count": 55,
   "id": "be2a8978",
   "metadata": {},
   "outputs": [],
   "source": [
    "import tensorflow as tf"
   ]
  },
  {
   "cell_type": "code",
   "execution_count": 56,
   "id": "3b81301b",
   "metadata": {},
   "outputs": [],
   "source": [
    "loss_fn = tf.keras.losses.MeanSquaredError()\n",
    "opt = tf.keras.optimizers.Adam(learning_rate=0.0001)\n",
    "model.compile(opt, loss=loss_fn)"
   ]
  },
  {
   "cell_type": "code",
   "execution_count": 57,
   "id": "9c48c57e",
   "metadata": {},
   "outputs": [
    {
     "name": "stdout",
     "output_type": "stream",
     "text": [
      "Epoch 1/150\n",
      "1755/1755 [==============================] - 4s 2ms/step - loss: 0.0617 - val_loss: 0.0333\n",
      "Epoch 2/150\n",
      "1755/1755 [==============================] - 4s 2ms/step - loss: 0.0293 - val_loss: 0.0226\n",
      "Epoch 3/150\n",
      "1755/1755 [==============================] - 4s 2ms/step - loss: 0.0210 - val_loss: 0.0187\n",
      "Epoch 4/150\n",
      "1755/1755 [==============================] - 4s 2ms/step - loss: 0.0160 - val_loss: 0.0137\n",
      "Epoch 5/150\n",
      "1755/1755 [==============================] - 3s 2ms/step - loss: 0.0127 - val_loss: 0.0100\n",
      "Epoch 6/150\n",
      "1755/1755 [==============================] - 3s 2ms/step - loss: 0.0103 - val_loss: 0.0092\n",
      "Epoch 7/150\n",
      "1755/1755 [==============================] - 3s 2ms/step - loss: 0.0089 - val_loss: 0.0087\n",
      "Epoch 8/150\n",
      "1755/1755 [==============================] - 3s 2ms/step - loss: 0.0078 - val_loss: 0.0075\n",
      "Epoch 9/150\n",
      "1755/1755 [==============================] - 4s 2ms/step - loss: 0.0069 - val_loss: 0.0083\n",
      "Epoch 10/150\n",
      "1755/1755 [==============================] - 5s 3ms/step - loss: 0.0064 - val_loss: 0.0053\n",
      "Epoch 11/150\n",
      "1755/1755 [==============================] - 4s 2ms/step - loss: 0.0058 - val_loss: 0.0057\n",
      "Epoch 12/150\n",
      "1755/1755 [==============================] - 4s 2ms/step - loss: 0.0055 - val_loss: 0.0053\n",
      "Epoch 13/150\n",
      "1755/1755 [==============================] - 4s 2ms/step - loss: 0.0049 - val_loss: 0.0048\n",
      "Epoch 14/150\n",
      "1755/1755 [==============================] - 4s 2ms/step - loss: 0.0048 - val_loss: 0.0048 ETA: 1s - loss: 0. - ETA\n",
      "Epoch 15/150\n",
      "1755/1755 [==============================] - 3s 2ms/step - loss: 0.0044 - val_loss: 0.0043\n",
      "Epoch 16/150\n",
      "1755/1755 [==============================] - 4s 2ms/step - loss: 0.0043 - val_loss: 0.0047\n",
      "Epoch 17/150\n",
      "1755/1755 [==============================] - 4s 2ms/step - loss: 0.0042 - val_loss: 0.0038\n",
      "Epoch 18/150\n",
      "1755/1755 [==============================] - 3s 2ms/step - loss: 0.0039 - val_loss: 0.0039\n",
      "Epoch 19/150\n",
      "1755/1755 [==============================] - 3s 2ms/step - loss: 0.0037 - val_loss: 0.0033\n",
      "Epoch 20/150\n",
      "1755/1755 [==============================] - 3s 2ms/step - loss: 0.0037 - val_loss: 0.0045\n",
      "Epoch 21/150\n",
      "1755/1755 [==============================] - 4s 2ms/step - loss: 0.0034 - val_loss: 0.0036\n",
      "Epoch 22/150\n",
      "1755/1755 [==============================] - 4s 2ms/step - loss: 0.0033 - val_loss: 0.0030\n",
      "Epoch 23/150\n",
      "1755/1755 [==============================] - 4s 2ms/step - loss: 0.0032 - val_loss: 0.0032\n",
      "Epoch 24/150\n",
      "1755/1755 [==============================] - 3s 2ms/step - loss: 0.0031 - val_loss: 0.0033\n",
      "Epoch 25/150\n",
      "1755/1755 [==============================] - 3s 2ms/step - loss: 0.0029 - val_loss: 0.0030\n",
      "Epoch 26/150\n",
      "1755/1755 [==============================] - 3s 2ms/step - loss: 0.0029 - val_loss: 0.0027\n",
      "Epoch 27/150\n",
      "1755/1755 [==============================] - 4s 2ms/step - loss: 0.0028 - val_loss: 0.0054\n",
      "Epoch 28/150\n",
      "1755/1755 [==============================] - 4s 2ms/step - loss: 0.0027 - val_loss: 0.0038\n",
      "Epoch 29/150\n",
      "1755/1755 [==============================] - 4s 2ms/step - loss: 0.0027 - val_loss: 0.0028\n",
      "Epoch 30/150\n",
      "1755/1755 [==============================] - 4s 2ms/step - loss: 0.0026 - val_loss: 0.0029\n",
      "Epoch 31/150\n",
      "1755/1755 [==============================] - 4s 2ms/step - loss: 0.0024 - val_loss: 0.0037\n",
      "Epoch 32/150\n",
      "1755/1755 [==============================] - 3s 2ms/step - loss: 0.0026 - val_loss: 0.0029\n",
      "Epoch 33/150\n",
      "1755/1755 [==============================] - 4s 2ms/step - loss: 0.0023 - val_loss: 0.0025\n",
      "Epoch 34/150\n",
      "1755/1755 [==============================] - 4s 2ms/step - loss: 0.0024 - val_loss: 0.0024\n",
      "Epoch 35/150\n",
      "1755/1755 [==============================] - 4s 2ms/step - loss: 0.0022 - val_loss: 0.0026\n",
      "Epoch 36/150\n",
      "1755/1755 [==============================] - 4s 2ms/step - loss: 0.0023 - val_loss: 0.0019\n",
      "Epoch 37/150\n",
      "1755/1755 [==============================] - 3s 2ms/step - loss: 0.0022 - val_loss: 0.0020\n",
      "Epoch 38/150\n",
      "1755/1755 [==============================] - 4s 2ms/step - loss: 0.0021 - val_loss: 0.0020\n",
      "Epoch 39/150\n",
      "1755/1755 [==============================] - 4s 2ms/step - loss: 0.0021 - val_loss: 0.0028\n",
      "Epoch 40/150\n",
      "1755/1755 [==============================] - 4s 2ms/step - loss: 0.0022 - val_loss: 0.0030\n",
      "Epoch 41/150\n",
      "1755/1755 [==============================] - 5s 3ms/step - loss: 0.0021 - val_loss: 0.0019\n",
      "Epoch 42/150\n",
      "1755/1755 [==============================] - 4s 2ms/step - loss: 0.0020 - val_loss: 0.0017\n",
      "Epoch 43/150\n",
      "1755/1755 [==============================] - 4s 2ms/step - loss: 0.0020 - val_loss: 0.0019\n",
      "Epoch 44/150\n",
      "1755/1755 [==============================] - 4s 2ms/step - loss: 0.0019 - val_loss: 0.0022\n",
      "Epoch 45/150\n",
      "1755/1755 [==============================] - 4s 2ms/step - loss: 0.0019 - val_loss: 0.0018\n",
      "Epoch 46/150\n",
      "1755/1755 [==============================] - 5s 3ms/step - loss: 0.0019 - val_loss: 0.0018\n",
      "Epoch 47/150\n",
      "1755/1755 [==============================] - 4s 2ms/step - loss: 0.0018 - val_loss: 0.0020\n",
      "Epoch 48/150\n",
      "1755/1755 [==============================] - 4s 2ms/step - loss: 0.0019 - val_loss: 0.0015\n",
      "Epoch 49/150\n",
      "1755/1755 [==============================] - 4s 2ms/step - loss: 0.0017 - val_loss: 0.0017\n",
      "Epoch 50/150\n",
      "1755/1755 [==============================] - 4s 2ms/step - loss: 0.0017 - val_loss: 0.0016\n",
      "Epoch 51/150\n",
      "1755/1755 [==============================] - 3s 2ms/step - loss: 0.0017 - val_loss: 0.0020\n",
      "Epoch 52/150\n",
      "1755/1755 [==============================] - 4s 2ms/step - loss: 0.0017 - val_loss: 0.0016\n",
      "Epoch 53/150\n",
      "1755/1755 [==============================] - 3s 2ms/step - loss: 0.0016 - val_loss: 0.0015\n",
      "Epoch 54/150\n",
      "1755/1755 [==============================] - 3s 2ms/step - loss: 0.0018 - val_loss: 0.0016\n",
      "Epoch 55/150\n",
      "1755/1755 [==============================] - 4s 2ms/step - loss: 0.0015 - val_loss: 0.0020\n",
      "Epoch 56/150\n",
      "1755/1755 [==============================] - 4s 2ms/step - loss: 0.0016 - val_loss: 0.0017\n",
      "Epoch 57/150\n",
      "1755/1755 [==============================] - 4s 2ms/step - loss: 0.0015 - val_loss: 0.0017\n",
      "Epoch 58/150\n",
      "1755/1755 [==============================] - 4s 2ms/step - loss: 0.0016 - val_loss: 0.0015\n",
      "Epoch 59/150\n",
      "1755/1755 [==============================] - 4s 2ms/step - loss: 0.0015 - val_loss: 0.0015\n",
      "Epoch 60/150\n",
      "1755/1755 [==============================] - 5s 3ms/step - loss: 0.0015 - val_loss: 0.0014\n",
      "Epoch 61/150\n",
      "1755/1755 [==============================] - 4s 2ms/step - loss: 0.0015 - val_loss: 0.0015\n",
      "Epoch 62/150\n",
      "1755/1755 [==============================] - 3s 2ms/step - loss: 0.0015 - val_loss: 0.0014\n",
      "Epoch 63/150\n",
      "1755/1755 [==============================] - 4s 2ms/step - loss: 0.0015 - val_loss: 0.0016\n",
      "Epoch 64/150\n",
      "1755/1755 [==============================] - 4s 2ms/step - loss: 0.0014 - val_loss: 0.0016\n",
      "Epoch 65/150\n",
      "1755/1755 [==============================] - 4s 2ms/step - loss: 0.0015 - val_loss: 0.0018\n",
      "Epoch 66/150\n",
      "1755/1755 [==============================] - 4s 2ms/step - loss: 0.0013 - val_loss: 0.0013\n",
      "Epoch 67/150\n",
      "1755/1755 [==============================] - 3s 2ms/step - loss: 0.0015 - val_loss: 0.0012\n",
      "Epoch 68/150\n",
      "1755/1755 [==============================] - 4s 2ms/step - loss: 0.0013 - val_loss: 0.0011\n",
      "Epoch 69/150\n",
      "1755/1755 [==============================] - 3s 2ms/step - loss: 0.0013 - val_loss: 0.0013\n",
      "Epoch 70/150\n",
      "1755/1755 [==============================] - 3s 2ms/step - loss: 0.0013 - val_loss: 0.0016\n",
      "Epoch 71/150\n",
      "1755/1755 [==============================] - 4s 2ms/step - loss: 0.0013 - val_loss: 0.0012\n",
      "Epoch 72/150\n",
      "1755/1755 [==============================] - 5s 3ms/step - loss: 0.0012 - val_loss: 0.0012\n",
      "Epoch 73/150\n",
      "1755/1755 [==============================] - 5s 3ms/step - loss: 0.0013 - val_loss: 0.0013\n",
      "Epoch 74/150\n",
      "1755/1755 [==============================] - 5s 3ms/step - loss: 0.0012 - val_loss: 0.0013\n",
      "Epoch 75/150\n",
      "1755/1755 [==============================] - 4s 2ms/step - loss: 0.0012 - val_loss: 0.0013\n",
      "Epoch 76/150\n",
      "1755/1755 [==============================] - 4s 2ms/step - loss: 0.0011 - val_loss: 0.0011\n",
      "Epoch 77/150\n",
      "1755/1755 [==============================] - 4s 2ms/step - loss: 0.0013 - val_loss: 0.0014\n",
      "Epoch 78/150\n",
      "1755/1755 [==============================] - 3s 2ms/step - loss: 0.0011 - val_loss: 9.7269e-04\n",
      "Epoch 79/150\n"
     ]
    },
    {
     "name": "stdout",
     "output_type": "stream",
     "text": [
      "1755/1755 [==============================] - 4s 2ms/step - loss: 0.0012 - val_loss: 0.0011\n",
      "Epoch 80/150\n",
      "1755/1755 [==============================] - 4s 2ms/step - loss: 0.0012 - val_loss: 0.0012\n",
      "Epoch 81/150\n",
      "1755/1755 [==============================] - 4s 2ms/step - loss: 0.0011 - val_loss: 0.0013\n",
      "Epoch 82/150\n",
      "1755/1755 [==============================] - 4s 2ms/step - loss: 0.0011 - val_loss: 9.3695e-04\n",
      "Epoch 83/150\n",
      "1755/1755 [==============================] - 3s 2ms/step - loss: 0.0011 - val_loss: 0.0012\n",
      "Epoch 84/150\n",
      "1755/1755 [==============================] - 4s 2ms/step - loss: 0.0011 - val_loss: 0.0011\n",
      "Epoch 85/150\n",
      "1755/1755 [==============================] - 4s 2ms/step - loss: 0.0011 - val_loss: 9.5316e-04\n",
      "Epoch 86/150\n",
      "1755/1755 [==============================] - 4s 2ms/step - loss: 0.0011 - val_loss: 8.4508e-04\n",
      "Epoch 87/150\n",
      "1755/1755 [==============================] - 4s 2ms/step - loss: 0.0011 - val_loss: 8.5975e-04\n",
      "Epoch 88/150\n",
      "1755/1755 [==============================] - 3s 2ms/step - loss: 0.0011 - val_loss: 0.0015\n",
      "Epoch 89/150\n",
      "1755/1755 [==============================] - 4s 2ms/step - loss: 0.0011 - val_loss: 7.7181e-04\n",
      "Epoch 90/150\n",
      "1755/1755 [==============================] - 4s 3ms/step - loss: 9.9532e-04 - val_loss: 8.9063e-04\n",
      "Epoch 91/150\n",
      "1755/1755 [==============================] - 4s 2ms/step - loss: 9.4990e-04 - val_loss: 0.0015\n",
      "Epoch 92/150\n",
      "1755/1755 [==============================] - 4s 2ms/step - loss: 0.0011 - val_loss: 8.2985e-04\n",
      "Epoch 93/150\n",
      "1755/1755 [==============================] - 4s 2ms/step - loss: 9.9049e-04 - val_loss: 0.0012\n",
      "Epoch 94/150\n",
      "1755/1755 [==============================] - 3s 2ms/step - loss: 0.0010 - val_loss: 0.0015\n",
      "Epoch 95/150\n",
      "1755/1755 [==============================] - 3s 2ms/step - loss: 9.3041e-04 - val_loss: 8.5232e-04\n",
      "Epoch 96/150\n",
      "1755/1755 [==============================] - 4s 2ms/step - loss: 0.0010 - val_loss: 0.0011\n",
      "Epoch 97/150\n",
      "1755/1755 [==============================] - 4s 2ms/step - loss: 9.5949e-04 - val_loss: 0.0011\n",
      "Epoch 98/150\n",
      "1755/1755 [==============================] - 4s 2ms/step - loss: 9.4278e-04 - val_loss: 0.0010\n",
      "Epoch 99/150\n",
      "1755/1755 [==============================] - 4s 2ms/step - loss: 9.2780e-04 - val_loss: 0.0011\n",
      "Epoch 100/150\n",
      "1755/1755 [==============================] - 3s 2ms/step - loss: 9.2569e-04 - val_loss: 8.0682e-04\n",
      "Epoch 101/150\n",
      "1755/1755 [==============================] - 4s 2ms/step - loss: 0.0010 - val_loss: 6.7733e-04\n",
      "Epoch 102/150\n",
      "1755/1755 [==============================] - 4s 2ms/step - loss: 8.9202e-04 - val_loss: 0.0012\n",
      "Epoch 103/150\n",
      "1755/1755 [==============================] - 4s 2ms/step - loss: 9.5783e-04 - val_loss: 7.9427e-04\n",
      "Epoch 104/150\n",
      "1755/1755 [==============================] - 3s 2ms/step - loss: 8.7469e-04 - val_loss: 8.9294e-04\n",
      "Epoch 105/150\n",
      "1755/1755 [==============================] - 4s 2ms/step - loss: 8.3959e-04 - val_loss: 8.6220e-04\n",
      "Epoch 106/150\n",
      "1755/1755 [==============================] - 4s 2ms/step - loss: 8.9410e-04 - val_loss: 8.7585e-04\n",
      "Epoch 107/150\n",
      "1755/1755 [==============================] - 4s 2ms/step - loss: 8.5906e-04 - val_loss: 9.1302e-04\n",
      "Epoch 108/150\n",
      "1755/1755 [==============================] - 4s 2ms/step - loss: 8.7966e-04 - val_loss: 8.4306e-04\n",
      "Epoch 109/150\n",
      "1755/1755 [==============================] - 4s 2ms/step - loss: 8.4048e-04 - val_loss: 0.0014\n",
      "Epoch 110/150\n",
      "1755/1755 [==============================] - 4s 2ms/step - loss: 8.0241e-04 - val_loss: 0.0014\n",
      "Epoch 111/150\n",
      "1755/1755 [==============================] - 4s 2ms/step - loss: 8.3797e-04 - val_loss: 9.9627e-04\n",
      "Epoch 112/150\n",
      "1755/1755 [==============================] - 4s 2ms/step - loss: 9.2391e-04 - val_loss: 0.0012\n",
      "Epoch 113/150\n",
      "1755/1755 [==============================] - 4s 2ms/step - loss: 7.8758e-04 - val_loss: 7.9957e-04\n",
      "Epoch 114/150\n",
      "1755/1755 [==============================] - 4s 2ms/step - loss: 8.5380e-04 - val_loss: 7.5815e-04\n",
      "Epoch 115/150\n",
      "1755/1755 [==============================] - 4s 2ms/step - loss: 7.7191e-04 - val_loss: 6.6593e-04\n",
      "Epoch 116/150\n",
      "1755/1755 [==============================] - 4s 2ms/step - loss: 8.2516e-04 - val_loss: 6.8613e-04\n",
      "Epoch 117/150\n",
      "1755/1755 [==============================] - 4s 2ms/step - loss: 8.3839e-04 - val_loss: 8.1797e-04\n",
      "Epoch 118/150\n",
      "1755/1755 [==============================] - 4s 2ms/step - loss: 7.6475e-04 - val_loss: 7.2035e-04\n",
      "Epoch 119/150\n",
      "1755/1755 [==============================] - 4s 2ms/step - loss: 7.7430e-04 - val_loss: 8.1066e-04\n",
      "Epoch 120/150\n",
      "1755/1755 [==============================] - 4s 2ms/step - loss: 8.3651e-04 - val_loss: 6.8563e-04\n",
      "Epoch 121/150\n",
      "1755/1755 [==============================] - 4s 2ms/step - loss: 7.9680e-04 - val_loss: 8.4525e-04\n",
      "Epoch 122/150\n",
      "1755/1755 [==============================] - 5s 3ms/step - loss: 7.0874e-04 - val_loss: 7.1172e-04\n",
      "Epoch 123/150\n",
      "1755/1755 [==============================] - 4s 2ms/step - loss: 7.7987e-04 - val_loss: 6.0862e-04\n",
      "Epoch 124/150\n",
      "1755/1755 [==============================] - 4s 2ms/step - loss: 7.7853e-04 - val_loss: 5.8364e-04\n",
      "Epoch 125/150\n",
      "1755/1755 [==============================] - 4s 2ms/step - loss: 7.1732e-04 - val_loss: 5.5383e-04\n",
      "Epoch 126/150\n",
      "1755/1755 [==============================] - 4s 2ms/step - loss: 7.1389e-04 - val_loss: 6.9154e-04\n",
      "Epoch 127/150\n",
      "1755/1755 [==============================] - 4s 2ms/step - loss: 7.4747e-04 - val_loss: 4.8982e-04\n",
      "Epoch 128/150\n",
      "1755/1755 [==============================] - 4s 2ms/step - loss: 7.1375e-04 - val_loss: 6.7909e-04\n",
      "Epoch 129/150\n",
      "1755/1755 [==============================] - 4s 2ms/step - loss: 7.0627e-04 - val_loss: 9.2456e-04\n",
      "Epoch 130/150\n",
      "1755/1755 [==============================] - 4s 2ms/step - loss: 6.9626e-04 - val_loss: 8.0390e-04\n",
      "Epoch 131/150\n",
      "1755/1755 [==============================] - 4s 2ms/step - loss: 7.3541e-04 - val_loss: 5.9631e-04\n",
      "Epoch 132/150\n",
      "1755/1755 [==============================] - 4s 2ms/step - loss: 7.0007e-04 - val_loss: 7.7356e-04\n",
      "Epoch 133/150\n",
      "1755/1755 [==============================] - 4s 2ms/step - loss: 7.2180e-04 - val_loss: 7.8690e-04\n",
      "Epoch 134/150\n",
      "1755/1755 [==============================] - 4s 2ms/step - loss: 6.9108e-04 - val_loss: 0.0011\n",
      "Epoch 135/150\n",
      "1755/1755 [==============================] - 4s 2ms/step - loss: 7.1084e-04 - val_loss: 6.4310e-04\n",
      "Epoch 136/150\n",
      "1755/1755 [==============================] - 4s 2ms/step - loss: 6.6096e-04 - val_loss: 6.2900e-04\n",
      "Epoch 137/150\n",
      "1755/1755 [==============================] - 4s 2ms/step - loss: 6.4444e-04 - val_loss: 7.3473e-04- ETA: 0s -\n",
      "Epoch 138/150\n",
      "1755/1755 [==============================] - 4s 2ms/step - loss: 7.6801e-04 - val_loss: 9.4957e-04\n",
      "Epoch 139/150\n",
      "1755/1755 [==============================] - 4s 2ms/step - loss: 6.4244e-04 - val_loss: 7.9356e-04\n",
      "Epoch 140/150\n",
      "1755/1755 [==============================] - 4s 2ms/step - loss: 6.2295e-04 - val_loss: 7.2146e-04\n",
      "Epoch 141/150\n",
      "1755/1755 [==============================] - 4s 2ms/step - loss: 6.5628e-04 - val_loss: 9.8396e-04\n",
      "Epoch 142/150\n",
      "1755/1755 [==============================] - 4s 2ms/step - loss: 6.5371e-04 - val_loss: 0.0011\n",
      "Epoch 143/150\n",
      "1755/1755 [==============================] - 4s 2ms/step - loss: 6.5046e-04 - val_loss: 5.6606e-04\n",
      "Epoch 144/150\n",
      "1755/1755 [==============================] - 4s 2ms/step - loss: 6.4194e-04 - val_loss: 6.2645e-04\n",
      "Epoch 145/150\n",
      "1755/1755 [==============================] - 4s 2ms/step - loss: 6.8278e-04 - val_loss: 6.2254e-04\n",
      "Epoch 146/150\n",
      "1755/1755 [==============================] - 4s 2ms/step - loss: 6.5144e-04 - val_loss: 6.4326e-04\n",
      "Epoch 147/150\n",
      "1755/1755 [==============================] - 4s 2ms/step - loss: 6.4552e-04 - val_loss: 7.5703e-04\n",
      "Epoch 148/150\n",
      "1755/1755 [==============================] - 4s 2ms/step - loss: 5.7092e-04 - val_loss: 5.8077e-04\n",
      "Epoch 149/150\n",
      "1755/1755 [==============================] - 4s 2ms/step - loss: 6.4375e-04 - val_loss: 5.9915e-04\n",
      "Epoch 150/150\n",
      "1755/1755 [==============================] - 4s 2ms/step - loss: 6.4990e-04 - val_loss: 7.4517e-04\n"
     ]
    }
   ],
   "source": [
    "model_history = model.fit(X_train_reg_, y_train_reg_,\n",
    "                    validation_data=(X_test_reg_, y_test_reg_),\n",
    "                   batch_size=16, \n",
    "                   epochs=150,  # total epoch\n",
    "                   )"
   ]
  },
  {
   "cell_type": "code",
   "execution_count": 58,
   "id": "93f52c49",
   "metadata": {},
   "outputs": [
    {
     "data": {
      "image/png": "[encoded data removed]",
      "text/plain": [
       "<Figure size 432x288 with 1 Axes>"
      ]
     },
     "metadata": {
      "needs_background": "light"
     },
     "output_type": "display_data"
    }
   ],
   "source": [
    "import keras\n",
    "from matplotlib import pyplot as plt\n",
    "plt.plot(model_history.history['loss'])\n",
    "plt.plot(model_history.history['val_loss'])\n",
    "plt.title('model loss')\n",
    "plt.ylabel('loss')\n",
    "plt.xlabel('epoch')\n",
    "plt.legend(['train', 'val'], loc='upper left')\n",
    "plt.show()"
   ]
  },
  {
   "cell_type": "code",
   "execution_count": 59,
   "id": "62917e57",
   "metadata": {},
   "outputs": [
    {
     "name": "stdout",
     "output_type": "stream",
     "text": [
      "MAE train:  12.790140531762109\n",
      "RMSE train:  17.49350280679969\n"
     ]
    }
   ],
   "source": [
    "# Predict the model \n",
    "y_train_pred_ann = model.predict(X_train_reg_) \n",
    "mae_train_ann = mean_absolute_error(y_train_reg_* target_stdev + target_mean, y_train_pred_ann* target_stdev + target_mean)\n",
    "print('MAE train: ',mae_train_ann)\n",
    "rmse_train_ann = mean_squared_error(y_train_reg_* target_stdev + target_mean, y_train_pred_ann* target_stdev + target_mean, squared=False)\n",
    "print('RMSE train: ',rmse_train_ann)"
   ]
  },
  {
   "cell_type": "code",
   "execution_count": 60,
   "id": "8357c256",
   "metadata": {},
   "outputs": [
    {
     "name": "stdout",
     "output_type": "stream",
     "text": [
      "MAE test:  12.955870330028036\n",
      "RMSE test:  17.73478198090599\n"
     ]
    }
   ],
   "source": [
    "# Predict the model \n",
    "y_test_pred_ann = model.predict(X_test_reg_) \n",
    "mae_test_ann = mean_absolute_error(y_test_reg_* target_stdev + target_mean, y_test_pred_ann* target_stdev + target_mean)\n",
    "print('MAE test: ',mae_test_ann)\n",
    "rmse_test_ann = mean_squared_error(y_test_reg_* target_stdev + target_mean, y_test_pred_ann* target_stdev + target_mean, squared=False)\n",
    "print('RMSE test: ',rmse_test_ann)"
   ]
  },
  {
   "cell_type": "code",
   "execution_count": 61,
   "id": "5e0d8c50",
   "metadata": {},
   "outputs": [
    {
     "name": "stdout",
     "output_type": "stream",
     "text": [
      "Model: \"model_1\"\n",
      "_________________________________________________________________\n",
      " Layer (type)                Output Shape              Param #   \n",
      "=================================================================\n",
      " input_2 (InputLayer)        [(None, 24)]              0         \n",
      "                                                                 \n",
      " dense_5 (Dense)             (None, 256)               6400      \n",
      "                                                                 \n",
      " dense_6 (Dense)             (None, 128)               32896     \n",
      "                                                                 \n",
      " dense_7 (Dense)             (None, 64)                8256      \n",
      "                                                                 \n",
      " dense_8 (Dense)             (None, 32)                2080      \n",
      "                                                                 \n",
      " dense_9 (Dense)             (None, 1)                 33        \n",
      "                                                                 \n",
      "=================================================================\n",
      "Total params: 49,665\n",
      "Trainable params: 49,665\n",
      "Non-trainable params: 0\n",
      "_________________________________________________________________\n"
     ]
    }
   ],
   "source": [
    "model.summary()"
   ]
  },
  {
   "cell_type": "code",
   "execution_count": 62,
   "id": "9813d22f",
   "metadata": {},
   "outputs": [
    {
     "name": "stdout",
     "output_type": "stream",
     "text": [
      "Mean absolute Error :  32.11800781250004\n",
      "Root Mean Squared Error :  50.908359159104165\n"
     ]
    }
   ],
   "source": [
    "y_check_pred_nn = model.predict(X_check_reg)\n",
    "y_check_pred_nn=y_check_pred_nn.flatten()\n",
    "mae_check_nn = mean_absolute_error(y_check_reg* target_stdev + target_mean, y_check_pred_nn* target_stdev + target_mean)\n",
    "print('Mean absolute Error : ',mae_check_nn)\n",
    "rmse_check_nn = mean_squared_error(y_check_reg* target_stdev + target_mean, y_check_pred_nn* target_stdev + target_mean, squared=False)\n",
    "print('Root Mean Squared Error : ',rmse_check_nn)"
   ]
  },
  {
   "cell_type": "code",
   "execution_count": 65,
   "id": "e4ee2dac",
   "metadata": {},
   "outputs": [
    {
     "name": "stdout",
     "output_type": "stream",
     "text": [
      "+----------------------------+-------------+------------+--------------+-------------+\n",
      "| Model                      |   Train MAE |   Test MAE |   Train RMSE |   Test RMSE |\n",
      "+============================+=============+============+==============+=============+\n",
      "| LSTM                       |     9.57182 |    18.1612 |      15.3835 |     34.0568 |\n",
      "+----------------------------+-------------+------------+--------------+-------------+\n",
      "| Multiple linear regression |   118.206   |   118.878  |     165.436  |    176.185  |\n",
      "+----------------------------+-------------+------------+--------------+-------------+\n",
      "| XGboost                    |    12.9812  |    14.16   |      16.8939 |     18.5929 |\n",
      "+----------------------------+-------------+------------+--------------+-------------+\n",
      "| ANN                        |    12.7901  |    12.9559 |      17.4935 |     17.7348 |\n",
      "+----------------------------+-------------+------------+--------------+-------------+\n"
     ]
    }
   ],
   "source": [
    "# import module\n",
    "from tabulate import tabulate\n",
    " \n",
    "# assign data\n",
    "mydata = [\n",
    "    [\"LSTM\", mae_train_lstm,mae_test_lstm, rmse_train_lstm,rmse_test_lstm], \n",
    "    [\"Multiple linear regression\",mae_train_mlr,mae_test_mlr, rmse_train_mlr,rmse_test_mlr], \n",
    "      [\"XGboost\", mae_train_xg, mae_test_xg, rmse_train_xg,rmse_test_xg],\n",
    "    [\"ANN\", mae_train_ann, mae_test_ann,  rmse_train_ann ,rmse_test_ann]\n",
    "]\n",
    " \n",
    "# create header\n",
    "head = [\"Model\",\"Train MAE\" ,\"Test MAE\", \"Train RMSE\",\"Test RMSE\"]\n",
    "# display table\n",
    "print(tabulate(mydata, headers=head, tablefmt=\"grid\"))"
   ]
  },
  {
   "cell_type": "markdown",
   "id": "82bfd3b0",
   "metadata": {},
   "source": [
    "## Comparison"
   ]
  },
  {
   "cell_type": "code",
   "execution_count": 73,
   "id": "099ed8ce",
   "metadata": {},
   "outputs": [
    {
     "data": {
      "image/png": "[encoded data removed]",
      "text/plain": [
       "<Figure size 864x504 with 1 Axes>"
      ]
     },
     "metadata": {
      "needs_background": "light"
     },
     "output_type": "display_data"
    }
   ],
   "source": [
    "plt.figure(figsize=(12, 7))\n",
    "# plt.plot(y_test_reg* target_stdev + target_mean, label = \"Real\",marker='o')\n",
    "plt.plot(y_check* target_stdev + target_mean, label = \"Real\",marker='o')\n",
    "plt.plot(y_check_pred_lstm* target_stdev + target_mean, label = \"LSTM Prediction\",marker='^')\n",
    "plt.plot(y_check_pred_arima* target_stdev + target_mean, label = \"ARIMA Prediction\",marker='^')\n",
    "plt.plot(y_check_pred_mlr* target_stdev + target_mean, label = \"MLR Prediction\",marker='^')\n",
    "plt.plot(y_check_pred_xg* target_stdev + target_mean, label = \"XG boost\",marker='^')\n",
    "plt.plot(y_check_pred_nn* target_stdev + target_mean, label = \"ANN\",marker='^')\n",
    "plt.ylabel('Stock Price')\n",
    "plt.xlabel('Days')\n",
    "plt.title('Next '+str(window)+' days prediction')\n",
    "plt.legend()\n",
    "plt.show()"
   ]
  },
  {
   "cell_type": "code",
   "execution_count": 74,
   "id": "6aca2814",
   "metadata": {},
   "outputs": [
    {
     "name": "stdout",
     "output_type": "stream",
     "text": [
      "+----------------------------+-------------+--------------+\n",
      "| Model                      |   Check MAE |   Check RMSE |\n",
      "+============================+=============+==============+\n",
      "| LSTM                       |     22.0733 |      29.4987 |\n",
      "+----------------------------+-------------+--------------+\n",
      "| ARIMA                      |     22.7518 |      29.2383 |\n",
      "+----------------------------+-------------+--------------+\n",
      "| Multiple linear regression |    118.878  |     351.781  |\n",
      "+----------------------------+-------------+--------------+\n",
      "| XGboost                    |    106.459  |     206.669  |\n",
      "+----------------------------+-------------+--------------+\n",
      "| ANN                        |     32.118  |      50.9084 |\n",
      "+----------------------------+-------------+--------------+\n"
     ]
    }
   ],
   "source": [
    "# import module\n",
    "from tabulate import tabulate\n",
    " \n",
    "# assign data\n",
    "mydata = [\n",
    "    [\"LSTM\", mae_check_lstm, rmse_check_lstm], \n",
    "    [\"ARIMA\", mae_check_arima, rmse_check_arima], \n",
    "    [\"Multiple linear regression\",mae_test_mlr, rmse_check_mlr], \n",
    "      [\"XGboost\", mae_check_xg, rmse_check_xg],\n",
    "    [\"ANN\", mae_check_nn, rmse_check_nn]\n",
    "]\n",
    " \n",
    "# create header\n",
    "head = [\"Model\",\"Check MAE\" , \"Check RMSE\"]\n",
    "# display table\n",
    "print(tabulate(mydata, headers=head, tablefmt=\"grid\"))"
   ]
  },
  {
   "cell_type": "code",
   "execution_count": 75,
   "id": "e41dfac2",
   "metadata": {},
   "outputs": [],
   "source": [
    "low_=0\n",
    "high_=window"
   ]
  },
  {
   "cell_type": "code",
   "execution_count": 76,
   "id": "e12a00c5",
   "metadata": {},
   "outputs": [],
   "source": [
    "list_real=list(y_check* target_stdev + target_mean)[low_:high_]\n",
    "list_real_=list(y_check_reg* target_stdev + target_mean)[low_:high_]\n",
    "list_lstm=list(y_check_pred_lstm* target_stdev + target_mean)[low_:high_]\n",
    "list_arima=list(y_check_pred_arima* target_stdev + target_mean)[low_:high_]\n",
    "list_mlr=list(y_check_pred_mlr* target_stdev + target_mean)[low_:high_]\n",
    "list_xg=list(y_check_pred_xg* target_stdev + target_mean)[low_:high_]\n",
    "list_nn=list(y_check_pred_nn* target_stdev + target_mean)[low_:high_]"
   ]
  },
  {
   "cell_type": "code",
   "execution_count": 77,
   "id": "55a25f6c",
   "metadata": {},
   "outputs": [
    {
     "data": {
      "image/png": "[encoded data removed]",
      "text/plain": [
       "<Figure size 864x504 with 1 Axes>"
      ]
     },
     "metadata": {
      "needs_background": "light"
     },
     "output_type": "display_data"
    }
   ],
   "source": [
    "plt.figure(figsize=(12, 7))\n",
    "plt.plot(list_real_, label = \"Real\",marker='o')\n",
    "# plt.plot(list_real, label = \"Real\",marker='o')\n",
    "plt.plot(list_lstm, label = \"LSTM Prediction\",marker='^')\n",
    "plt.plot(list_arima, label = \"ARIMA Prediction\",marker='^')\n",
    "plt.plot(list_mlr, label = \"MLR Prediction\",marker='^')\n",
    "plt.plot(list_xg, label = \"XG boost\",marker='^')\n",
    "plt.plot(list_nn, label = \"ANN\",marker='^')\n",
    "plt.ylabel('Stock Price')\n",
    "plt.xlabel('Days')\n",
    "plt.title('Next '+str(window)+' days prediction')\n",
    "plt.legend()\n",
    "plt.show()"
   ]
  },
  {
   "cell_type": "code",
   "execution_count": 78,
   "id": "5f62d3c3",
   "metadata": {},
   "outputs": [],
   "source": [
    "save_data=[list_real,list_lstm,\n",
    "          list_arima,list_mlr,\n",
    "          list_xg,list_nn]"
   ]
  },
  {
   "cell_type": "code",
   "execution_count": 79,
   "id": "ec33a959",
   "metadata": {},
   "outputs": [],
   "source": [
    "import csv \n",
    "# name of csv file   \n",
    "filename = \"Stock Prediction_predict_3_ver_2_DRC.csv\"\n",
    "      \n",
    "# writing to csv file   \n",
    "with open(filename, 'w') as csvfile:   \n",
    "    # creating a csv writer object   \n",
    "    csvwriter = csv.writer(csvfile)     \n",
    "          \n",
    "    # writing the data rows   \n",
    "    csvwriter.writerows(save_data)"
   ]
  },
  {
   "cell_type": "code",
   "execution_count": 80,
   "id": "50a233c1",
   "metadata": {},
   "outputs": [
    {
     "name": "stdout",
     "output_type": "stream",
     "text": [
      "Mean absolute Error :  22.073339843749817\n",
      "Root Mean Squared Error :  29.498719661310094\n"
     ]
    }
   ],
   "source": [
    "mae_check_lstm = mean_absolute_error(list_real,list_lstm)\n",
    "print('Mean absolute Error : ',mae_check_lstm)\n",
    "rmse_check_lstm = mean_squared_error(list_real,list_lstm, squared=False)\n",
    "print('Root Mean Squared Error : ',rmse_check_lstm)"
   ]
  },
  {
   "cell_type": "code",
   "execution_count": 81,
   "id": "a51a4aa1",
   "metadata": {},
   "outputs": [
    {
     "name": "stdout",
     "output_type": "stream",
     "text": [
      "Mean absolute Error :  22.75176847388793\n",
      "Root Mean Squared Error :  29.2383270172977\n"
     ]
    }
   ],
   "source": [
    "mae_check_arima = mean_absolute_error(list_real,list_arima)\n",
    "print('Mean absolute Error : ',mae_check_arima)\n",
    "rmse_check_arima = mean_squared_error(list_real,list_arima, squared=False)\n",
    "print('Root Mean Squared Error : ',rmse_check_arima)"
   ]
  },
  {
   "cell_type": "code",
   "execution_count": 82,
   "id": "b229bcec",
   "metadata": {},
   "outputs": [
    {
     "name": "stdout",
     "output_type": "stream",
     "text": [
      "Mean absolute Error :  349.6513205342826\n",
      "Root Mean Squared Error :  351.7809343909762\n"
     ]
    }
   ],
   "source": [
    "mae_check_mlr = mean_absolute_error(list_real,list_mlr)\n",
    "print('Mean absolute Error : ',mae_check_mlr)\n",
    "rmse_check_mlr = mean_squared_error(list_real,list_mlr, squared=False)\n",
    "print('Root Mean Squared Error : ',rmse_check_mlr)"
   ]
  },
  {
   "cell_type": "code",
   "execution_count": 83,
   "id": "509f0dcd",
   "metadata": {},
   "outputs": [
    {
     "name": "stdout",
     "output_type": "stream",
     "text": [
      "Mean absolute Error :  106.45943359374978\n",
      "Root Mean Squared Error :  206.66926827629123\n"
     ]
    }
   ],
   "source": [
    "mae_check_xg = mean_absolute_error(list_real,list_xg)\n",
    "print('Mean absolute Error : ',mae_check_xg)\n",
    "rmse_check_xg = mean_squared_error(list_real, list_xg, squared=False)\n",
    "print('Root Mean Squared Error : ',rmse_check_xg)"
   ]
  },
  {
   "cell_type": "code",
   "execution_count": 84,
   "id": "ca07d36f",
   "metadata": {},
   "outputs": [
    {
     "name": "stdout",
     "output_type": "stream",
     "text": [
      "Mean absolute Error :  32.11800781250004\n",
      "Root Mean Squared Error :  50.908359159104165\n"
     ]
    }
   ],
   "source": [
    "mae_check_nn = mean_absolute_error(list_real,list_nn)\n",
    "print('Mean absolute Error : ',mae_check_nn)\n",
    "rmse_check_nn = mean_squared_error(list_real, list_nn, squared=False)\n",
    "print('Root Mean Squared Error : ',rmse_check_nn)"
   ]
  },
  {
   "cell_type": "code",
   "execution_count": 85,
   "id": "52b37e71",
   "metadata": {},
   "outputs": [
    {
     "name": "stdout",
     "output_type": "stream",
     "text": [
      "+----------------------------+------------+-------------+\n",
      "| Model                      |   Test MAE |   Test RMSE |\n",
      "+============================+============+=============+\n",
      "| LSTM                       |    22.0733 |     29.4987 |\n",
      "+----------------------------+------------+-------------+\n",
      "| ARIMA                      |    22.7518 |     29.2383 |\n",
      "+----------------------------+------------+-------------+\n",
      "| Multiple linear regression |   118.878  |    351.781  |\n",
      "+----------------------------+------------+-------------+\n",
      "| XGboost                    |   106.459  |    206.669  |\n",
      "+----------------------------+------------+-------------+\n",
      "| ANN                        |    32.118  |     50.9084 |\n",
      "+----------------------------+------------+-------------+\n"
     ]
    }
   ],
   "source": [
    "# import module\n",
    "from tabulate import tabulate\n",
    " \n",
    "# assign data\n",
    "mydata = [\n",
    "    [\"LSTM\", mae_check_lstm, rmse_check_lstm], \n",
    "    [\"ARIMA\", mae_check_arima, rmse_check_arima], \n",
    "    [\"Multiple linear regression\",mae_test_mlr, rmse_check_mlr], \n",
    "      [\"XGboost\", mae_check_xg, rmse_check_xg],\n",
    "    [\"ANN\", mae_check_nn, rmse_check_nn]\n",
    "]\n",
    " \n",
    "# create header\n",
    "head = [\"Model\",\"Test MAE\" , \"Test RMSE\"]\n",
    "# display table\n",
    "print(tabulate(mydata, headers=head, tablefmt=\"grid\"))"
   ]
  },
  {
   "cell_type": "code",
   "execution_count": 86,
   "id": "538075b5",
   "metadata": {},
   "outputs": [],
   "source": [
    "df_=pd.read_csv('Stock Prediction_predict_3_ver_2_DRC.csv',header=None)  "
   ]
  },
  {
   "cell_type": "code",
   "execution_count": 87,
   "id": "7b979ea9",
   "metadata": {},
   "outputs": [],
   "source": [
    "result_real=df_.iloc[0,:].values\n",
    "result_lstm=df_.iloc[1,:].values\n",
    "result_arima=df_.iloc[2,:].values\n",
    "result_mlr=df_.iloc[3,:].values\n",
    "result_xg=df_.iloc[4,:].values\n",
    "result_nn=df_.iloc[5,:].values"
   ]
  },
  {
   "cell_type": "code",
   "execution_count": 88,
   "id": "2a4e6001",
   "metadata": {},
   "outputs": [
    {
     "name": "stdout",
     "output_type": "stream",
     "text": [
      "R2 score between real and lstm -0.521954388732023\n",
      "R2 score between real and ARIMA -0.4952048189978462\n",
      "R2 score between real and MLR -215.44135594270992\n",
      "R2 score between real and xg -73.70464297145202\n",
      "R2 score between real and nn -3.5328838103107847\n"
     ]
    }
   ],
   "source": [
    "from sklearn.metrics import r2_score\n",
    "print ('R2 score between real and lstm',r2_score(result_real, result_lstm))\n",
    "print ('R2 score between real and ARIMA',r2_score(result_real, result_arima))\n",
    "print ('R2 score between real and MLR',r2_score(result_real, result_mlr))\n",
    "print ('R2 score between real and xg',r2_score(result_real, result_xg))\n",
    "print ('R2 score between real and nn',r2_score(result_real, result_nn))"
   ]
  },
  {
   "cell_type": "code",
   "execution_count": 89,
   "id": "ccf18cc1",
   "metadata": {},
   "outputs": [],
   "source": [
    "def accuracy(y_true, y_pred, threshold):\n",
    "    c=0\n",
    "    for i in range(len(y_true)):\n",
    "        if abs(y_true[i]-y_pred[i])<threshold:\n",
    "            c=c+1\n",
    "    return c/len(y_true)"
   ]
  },
  {
   "cell_type": "code",
   "execution_count": 90,
   "id": "36a081e4",
   "metadata": {},
   "outputs": [
    {
     "name": "stdout",
     "output_type": "stream",
     "text": [
      "The mean absolute error between real and lstm is 1.0\n",
      "The mean absolute error between real and arima is 1.0\n",
      "The mean absolute error between real and MLR is 0.0\n",
      "The mean absolute error between real and xg is 0.8\n",
      "The mean absolute error between real and nn is 0.9\n"
     ]
    }
   ],
   "source": [
    "threshold=100\n",
    "print('The mean absolute error between real and lstm is',accuracy(result_real, result_lstm,threshold))\n",
    "print('The mean absolute error between real and arima is',accuracy(result_real, result_arima,threshold))\n",
    "print('The mean absolute error between real and MLR is',accuracy(result_real, result_mlr,threshold))\n",
    "print('The mean absolute error between real and xg is',accuracy(result_real, result_xg,threshold))\n",
    "print('The mean absolute error between real and nn is',accuracy(result_real, result_nn,threshold))"
   ]
  },
  {
   "cell_type": "code",
   "execution_count": null,
   "id": "803938bf",
   "metadata": {},
   "outputs": [],
   "source": []
  },
  {
   "cell_type": "code",
   "execution_count": null,
   "id": "42168d65",
   "metadata": {},
   "outputs": [],
   "source": []
  },
  {
   "cell_type": "code",
   "execution_count": null,
   "id": "09c4f6dc",
   "metadata": {},
   "outputs": [],
   "source": []
  }
 ],
 "metadata": {
  "kernelspec": {
   "display_name": "Python 3",
   "language": "python",
   "name": "python3"
  },
  "language_info": {
   "codemirror_mode": {
    "name": "ipython",
    "version": 3
   },
   "file_extension": ".py",
   "mimetype": "text/x-python",
   "name": "python",
   "nbconvert_exporter": "python",
   "pygments_lexer": "ipython3",
   "version": "3.8.8"
  }
 },
 "nbformat": 4,
 "nbformat_minor": 5
}
