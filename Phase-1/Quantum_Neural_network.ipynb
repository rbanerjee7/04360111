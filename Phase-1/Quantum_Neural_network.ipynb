{
 "cells": [
  {
   "cell_type": "code",
   "execution_count": 28,
   "id": "a33a1f56",
   "metadata": {},
   "outputs": [],
   "source": [
    "import pandas as pd\n",
    "import numpy as np\n",
    "import math\n",
    "import pennylane as qml\n",
    "import random\n",
    "import tensorflow as tf"
   ]
  },
  {
   "cell_type": "markdown",
   "id": "696bb7d7",
   "metadata": {},
   "source": [
    "## Brief Outline"
   ]
  },
  {
   "cell_type": "markdown",
   "id": "4e301a55",
   "metadata": {},
   "source": [
    "The notebook will proceed in the following manner:\n",
    "\n",
    "1. Brief description of Data\n",
    "2. Defining QNN and using it to perform stock price prediction\n"
   ]
  },
  {
   "cell_type": "markdown",
   "id": "8dcf2258",
   "metadata": {},
   "source": [
    "## 1. Data"
   ]
  },
  {
   "cell_type": "markdown",
   "id": "3b37e1ea",
   "metadata": {},
   "source": [
    "First, we read in the data, dropping the index and the date."
   ]
  },
  {
   "cell_type": "code",
   "execution_count": 29,
   "id": "31c36071",
   "metadata": {},
   "outputs": [],
   "source": [
    "df = pd.read_csv('dataset_FTSE_prediction_v1.csv')\n",
    "df = df.drop(['Unnamed: 0'], axis=1)\n",
    "# df=df.drop(columns=['ARIMA'])\n",
    "df=df[:100]"
   ]
  },
  {
   "cell_type": "markdown",
   "id": "4aaa9b52",
   "metadata": {},
   "source": [
    "We identify the dependent and independent variables:"
   ]
  },
  {
   "cell_type": "code",
   "execution_count": 30,
   "id": "d53abe07",
   "metadata": {},
   "outputs": [],
   "source": [
    "target = \"Close\""
   ]
  },
  {
   "cell_type": "code",
   "execution_count": 31,
   "id": "a8cedb86",
   "metadata": {},
   "outputs": [
    {
     "data": {
      "text/plain": [
       "['ARIMA',\n",
       " 'Adj Close',\n",
       " 'BBB_20_2.0',\n",
       " 'BBL_20_2.0',\n",
       " 'BBM_20_2.0',\n",
       " 'BBP_20_2.0',\n",
       " 'BBU_20_2.0',\n",
       " 'CUMLOGRET_1',\n",
       " 'Crude Futures',\n",
       " 'EMA_10',\n",
       " 'EMA_20',\n",
       " 'EMA_50',\n",
       " 'FT3',\n",
       " 'FT6',\n",
       " 'FT9',\n",
       " 'GBP USD ',\n",
       " 'Gold in USD',\n",
       " 'MACD_12_26_9',\n",
       " 'MACDh_12_26_9',\n",
       " 'MACDs_12_26_9',\n",
       " 'SMA_10',\n",
       " 'SMA_20',\n",
       " 'SMA_50',\n",
       " 'Volume']"
      ]
     },
     "execution_count": 31,
     "metadata": {},
     "output_type": "execute_result"
    }
   ],
   "source": [
    "features = list(df.columns.difference([\"Close\"]))\n",
    "features"
   ]
  },
  {
   "cell_type": "markdown",
   "id": "a65613d0",
   "metadata": {},
   "source": [
    "## Data Processing"
   ]
  },
  {
   "cell_type": "markdown",
   "id": "0c7baf43",
   "metadata": {},
   "source": [
    "To process the data, we first define few terms"
   ]
  },
  {
   "cell_type": "code",
   "execution_count": 32,
   "id": "465d24a1",
   "metadata": {},
   "outputs": [],
   "source": [
    "random.seed(42)"
   ]
  },
  {
   "cell_type": "markdown",
   "id": "dc621071",
   "metadata": {},
   "source": [
    "Next, in order to ensure that some values due to their mangnitude do not inherently dominate the features, we standardize their values."
   ]
  },
  {
   "cell_type": "code",
   "execution_count": 33,
   "id": "bff7d289",
   "metadata": {},
   "outputs": [],
   "source": [
    "target_mean = df[target].mean()\n",
    "target_stdev = df[target].std()\n",
    "\n",
    "for c in df.columns:\n",
    "    mean = df[c].mean()\n",
    "    stdev = df[c].std()\n",
    "\n",
    "    df[c] = (df[c] - mean) / stdev"
   ]
  },
  {
   "cell_type": "code",
   "execution_count": 34,
   "id": "943866a4",
   "metadata": {},
   "outputs": [
    {
     "data": {
      "text/html": [
       "<div>\n",
       "<style scoped>\n",
       "    .dataframe tbody tr th:only-of-type {\n",
       "        vertical-align: middle;\n",
       "    }\n",
       "\n",
       "    .dataframe tbody tr th {\n",
       "        vertical-align: top;\n",
       "    }\n",
       "\n",
       "    .dataframe thead th {\n",
       "        text-align: right;\n",
       "    }\n",
       "</style>\n",
       "<table border=\"1\" class=\"dataframe\">\n",
       "  <thead>\n",
       "    <tr style=\"text-align: right;\">\n",
       "      <th></th>\n",
       "      <th>ARIMA</th>\n",
       "      <th>Adj Close</th>\n",
       "      <th>BBB_20_2.0</th>\n",
       "      <th>BBL_20_2.0</th>\n",
       "      <th>BBM_20_2.0</th>\n",
       "      <th>BBP_20_2.0</th>\n",
       "      <th>BBU_20_2.0</th>\n",
       "      <th>CUMLOGRET_1</th>\n",
       "      <th>Close</th>\n",
       "      <th>Crude Futures</th>\n",
       "      <th>...</th>\n",
       "      <th>FT9</th>\n",
       "      <th>GBP USD</th>\n",
       "      <th>Gold in USD</th>\n",
       "      <th>MACD_12_26_9</th>\n",
       "      <th>MACDh_12_26_9</th>\n",
       "      <th>MACDs_12_26_9</th>\n",
       "      <th>SMA_10</th>\n",
       "      <th>SMA_20</th>\n",
       "      <th>SMA_50</th>\n",
       "      <th>Volume</th>\n",
       "    </tr>\n",
       "  </thead>\n",
       "  <tbody>\n",
       "    <tr>\n",
       "      <th>0</th>\n",
       "      <td>0.012995</td>\n",
       "      <td>0.012995</td>\n",
       "      <td>-1.729066</td>\n",
       "      <td>-2.049566</td>\n",
       "      <td>-2.052075</td>\n",
       "      <td>-1.415966</td>\n",
       "      <td>-2.052789</td>\n",
       "      <td>0.029243</td>\n",
       "      <td>0.012995</td>\n",
       "      <td>1.411000</td>\n",
       "      <td>...</td>\n",
       "      <td>1.854712</td>\n",
       "      <td>2.592148</td>\n",
       "      <td>1.601011</td>\n",
       "      <td>-0.571786</td>\n",
       "      <td>-0.128520</td>\n",
       "      <td>-0.647478</td>\n",
       "      <td>-3.151745</td>\n",
       "      <td>-2.052075</td>\n",
       "      <td>-1.015015</td>\n",
       "      <td>0.430117</td>\n",
       "    </tr>\n",
       "    <tr>\n",
       "      <th>1</th>\n",
       "      <td>-0.696678</td>\n",
       "      <td>-0.696678</td>\n",
       "      <td>-1.729066</td>\n",
       "      <td>-2.049566</td>\n",
       "      <td>-2.052075</td>\n",
       "      <td>-1.415966</td>\n",
       "      <td>-2.052789</td>\n",
       "      <td>-0.682508</td>\n",
       "      <td>-0.696678</td>\n",
       "      <td>0.828470</td>\n",
       "      <td>...</td>\n",
       "      <td>1.812925</td>\n",
       "      <td>2.161558</td>\n",
       "      <td>2.181198</td>\n",
       "      <td>-0.571786</td>\n",
       "      <td>-0.128520</td>\n",
       "      <td>-0.647478</td>\n",
       "      <td>-3.151745</td>\n",
       "      <td>-2.052075</td>\n",
       "      <td>-1.015015</td>\n",
       "      <td>-0.143354</td>\n",
       "    </tr>\n",
       "    <tr>\n",
       "      <th>2</th>\n",
       "      <td>-1.757546</td>\n",
       "      <td>-1.757546</td>\n",
       "      <td>-1.729066</td>\n",
       "      <td>-2.049566</td>\n",
       "      <td>-2.052075</td>\n",
       "      <td>-1.415966</td>\n",
       "      <td>-2.052789</td>\n",
       "      <td>-1.778908</td>\n",
       "      <td>-1.757546</td>\n",
       "      <td>0.828470</td>\n",
       "      <td>...</td>\n",
       "      <td>1.771162</td>\n",
       "      <td>2.161558</td>\n",
       "      <td>2.181198</td>\n",
       "      <td>-0.571786</td>\n",
       "      <td>-0.128520</td>\n",
       "      <td>-0.647478</td>\n",
       "      <td>-3.151745</td>\n",
       "      <td>-2.052075</td>\n",
       "      <td>-1.015015</td>\n",
       "      <td>-0.276309</td>\n",
       "    </tr>\n",
       "    <tr>\n",
       "      <th>3</th>\n",
       "      <td>-1.453961</td>\n",
       "      <td>-1.453961</td>\n",
       "      <td>-1.729066</td>\n",
       "      <td>-2.049566</td>\n",
       "      <td>-2.052075</td>\n",
       "      <td>-1.415966</td>\n",
       "      <td>-2.052789</td>\n",
       "      <td>-1.461052</td>\n",
       "      <td>-1.453961</td>\n",
       "      <td>0.994908</td>\n",
       "      <td>...</td>\n",
       "      <td>1.729429</td>\n",
       "      <td>1.730969</td>\n",
       "      <td>2.134977</td>\n",
       "      <td>-0.571786</td>\n",
       "      <td>-0.128520</td>\n",
       "      <td>-0.647478</td>\n",
       "      <td>-3.151745</td>\n",
       "      <td>-2.052075</td>\n",
       "      <td>-1.015015</td>\n",
       "      <td>0.319218</td>\n",
       "    </tr>\n",
       "    <tr>\n",
       "      <th>4</th>\n",
       "      <td>-0.547686</td>\n",
       "      <td>-0.547686</td>\n",
       "      <td>-1.729066</td>\n",
       "      <td>-2.049566</td>\n",
       "      <td>-2.052075</td>\n",
       "      <td>-1.415966</td>\n",
       "      <td>-2.052789</td>\n",
       "      <td>-0.531676</td>\n",
       "      <td>-0.547686</td>\n",
       "      <td>1.859786</td>\n",
       "      <td>...</td>\n",
       "      <td>1.687730</td>\n",
       "      <td>0.869790</td>\n",
       "      <td>1.457485</td>\n",
       "      <td>-0.571786</td>\n",
       "      <td>-0.128520</td>\n",
       "      <td>-0.647478</td>\n",
       "      <td>-3.151745</td>\n",
       "      <td>-2.052075</td>\n",
       "      <td>-1.015015</td>\n",
       "      <td>-0.090411</td>\n",
       "    </tr>\n",
       "    <tr>\n",
       "      <th>...</th>\n",
       "      <td>...</td>\n",
       "      <td>...</td>\n",
       "      <td>...</td>\n",
       "      <td>...</td>\n",
       "      <td>...</td>\n",
       "      <td>...</td>\n",
       "      <td>...</td>\n",
       "      <td>...</td>\n",
       "      <td>...</td>\n",
       "      <td>...</td>\n",
       "      <td>...</td>\n",
       "      <td>...</td>\n",
       "      <td>...</td>\n",
       "      <td>...</td>\n",
       "      <td>...</td>\n",
       "      <td>...</td>\n",
       "      <td>...</td>\n",
       "      <td>...</td>\n",
       "      <td>...</td>\n",
       "      <td>...</td>\n",
       "      <td>...</td>\n",
       "    </tr>\n",
       "    <tr>\n",
       "      <th>95</th>\n",
       "      <td>1.378009</td>\n",
       "      <td>1.378009</td>\n",
       "      <td>0.112913</td>\n",
       "      <td>0.564471</td>\n",
       "      <td>0.549079</td>\n",
       "      <td>0.801435</td>\n",
       "      <td>0.534538</td>\n",
       "      <td>1.352645</td>\n",
       "      <td>1.378009</td>\n",
       "      <td>0.510457</td>\n",
       "      <td>...</td>\n",
       "      <td>-1.406991</td>\n",
       "      <td>-1.713745</td>\n",
       "      <td>-0.572560</td>\n",
       "      <td>1.153489</td>\n",
       "      <td>0.379173</td>\n",
       "      <td>1.258185</td>\n",
       "      <td>0.459923</td>\n",
       "      <td>0.549079</td>\n",
       "      <td>0.995527</td>\n",
       "      <td>1.970389</td>\n",
       "    </tr>\n",
       "    <tr>\n",
       "      <th>96</th>\n",
       "      <td>1.233497</td>\n",
       "      <td>1.233497</td>\n",
       "      <td>0.009253</td>\n",
       "      <td>0.576177</td>\n",
       "      <td>0.554918</td>\n",
       "      <td>0.565190</td>\n",
       "      <td>0.534991</td>\n",
       "      <td>1.215263</td>\n",
       "      <td>1.233497</td>\n",
       "      <td>0.266745</td>\n",
       "      <td>...</td>\n",
       "      <td>-1.428371</td>\n",
       "      <td>-1.713745</td>\n",
       "      <td>-0.778119</td>\n",
       "      <td>1.061804</td>\n",
       "      <td>0.130678</td>\n",
       "      <td>1.300059</td>\n",
       "      <td>0.464038</td>\n",
       "      <td>0.554918</td>\n",
       "      <td>0.996330</td>\n",
       "      <td>1.729874</td>\n",
       "    </tr>\n",
       "    <tr>\n",
       "      <th>97</th>\n",
       "      <td>1.350002</td>\n",
       "      <td>1.350002</td>\n",
       "      <td>-0.159000</td>\n",
       "      <td>0.592577</td>\n",
       "      <td>0.561766</td>\n",
       "      <td>0.669216</td>\n",
       "      <td>0.533074</td>\n",
       "      <td>1.326069</td>\n",
       "      <td>1.350002</td>\n",
       "      <td>0.266745</td>\n",
       "      <td>...</td>\n",
       "      <td>-1.449404</td>\n",
       "      <td>-1.713745</td>\n",
       "      <td>-0.778119</td>\n",
       "      <td>1.018244</td>\n",
       "      <td>0.009018</td>\n",
       "      <td>1.322279</td>\n",
       "      <td>0.469485</td>\n",
       "      <td>0.561766</td>\n",
       "      <td>0.997406</td>\n",
       "      <td>-0.715588</td>\n",
       "    </tr>\n",
       "    <tr>\n",
       "      <th>98</th>\n",
       "      <td>1.555007</td>\n",
       "      <td>1.555007</td>\n",
       "      <td>-0.243888</td>\n",
       "      <td>0.603879</td>\n",
       "      <td>0.568193</td>\n",
       "      <td>0.897878</td>\n",
       "      <td>0.535024</td>\n",
       "      <td>1.520061</td>\n",
       "      <td>1.555007</td>\n",
       "      <td>0.590703</td>\n",
       "      <td>...</td>\n",
       "      <td>-1.470087</td>\n",
       "      <td>-1.713745</td>\n",
       "      <td>-0.476471</td>\n",
       "      <td>1.048502</td>\n",
       "      <td>0.030010</td>\n",
       "      <td>1.347889</td>\n",
       "      <td>0.469107</td>\n",
       "      <td>0.568193</td>\n",
       "      <td>0.998336</td>\n",
       "      <td>1.402693</td>\n",
       "    </tr>\n",
       "    <tr>\n",
       "      <th>99</th>\n",
       "      <td>1.602057</td>\n",
       "      <td>1.602057</td>\n",
       "      <td>-0.434106</td>\n",
       "      <td>0.622095</td>\n",
       "      <td>0.575517</td>\n",
       "      <td>0.949957</td>\n",
       "      <td>0.532353</td>\n",
       "      <td>1.564407</td>\n",
       "      <td>1.602057</td>\n",
       "      <td>0.332131</td>\n",
       "      <td>...</td>\n",
       "      <td>-1.490420</td>\n",
       "      <td>-1.713745</td>\n",
       "      <td>-0.424169</td>\n",
       "      <td>1.072679</td>\n",
       "      <td>0.037056</td>\n",
       "      <td>1.374638</td>\n",
       "      <td>0.471277</td>\n",
       "      <td>0.575517</td>\n",
       "      <td>1.000112</td>\n",
       "      <td>-0.263056</td>\n",
       "    </tr>\n",
       "  </tbody>\n",
       "</table>\n",
       "<p>100 rows × 25 columns</p>\n",
       "</div>"
      ],
      "text/plain": [
       "       ARIMA  Adj Close  BBB_20_2.0  BBL_20_2.0  BBM_20_2.0  BBP_20_2.0  \\\n",
       "0   0.012995   0.012995   -1.729066   -2.049566   -2.052075   -1.415966   \n",
       "1  -0.696678  -0.696678   -1.729066   -2.049566   -2.052075   -1.415966   \n",
       "2  -1.757546  -1.757546   -1.729066   -2.049566   -2.052075   -1.415966   \n",
       "3  -1.453961  -1.453961   -1.729066   -2.049566   -2.052075   -1.415966   \n",
       "4  -0.547686  -0.547686   -1.729066   -2.049566   -2.052075   -1.415966   \n",
       "..       ...        ...         ...         ...         ...         ...   \n",
       "95  1.378009   1.378009    0.112913    0.564471    0.549079    0.801435   \n",
       "96  1.233497   1.233497    0.009253    0.576177    0.554918    0.565190   \n",
       "97  1.350002   1.350002   -0.159000    0.592577    0.561766    0.669216   \n",
       "98  1.555007   1.555007   -0.243888    0.603879    0.568193    0.897878   \n",
       "99  1.602057   1.602057   -0.434106    0.622095    0.575517    0.949957   \n",
       "\n",
       "    BBU_20_2.0  CUMLOGRET_1     Close  Crude Futures  ...       FT9  GBP USD   \\\n",
       "0    -2.052789     0.029243  0.012995       1.411000  ...  1.854712  2.592148   \n",
       "1    -2.052789    -0.682508 -0.696678       0.828470  ...  1.812925  2.161558   \n",
       "2    -2.052789    -1.778908 -1.757546       0.828470  ...  1.771162  2.161558   \n",
       "3    -2.052789    -1.461052 -1.453961       0.994908  ...  1.729429  1.730969   \n",
       "4    -2.052789    -0.531676 -0.547686       1.859786  ...  1.687730  0.869790   \n",
       "..         ...          ...       ...            ...  ...       ...       ...   \n",
       "95    0.534538     1.352645  1.378009       0.510457  ... -1.406991 -1.713745   \n",
       "96    0.534991     1.215263  1.233497       0.266745  ... -1.428371 -1.713745   \n",
       "97    0.533074     1.326069  1.350002       0.266745  ... -1.449404 -1.713745   \n",
       "98    0.535024     1.520061  1.555007       0.590703  ... -1.470087 -1.713745   \n",
       "99    0.532353     1.564407  1.602057       0.332131  ... -1.490420 -1.713745   \n",
       "\n",
       "    Gold in USD  MACD_12_26_9  MACDh_12_26_9  MACDs_12_26_9    SMA_10  \\\n",
       "0      1.601011     -0.571786      -0.128520      -0.647478 -3.151745   \n",
       "1      2.181198     -0.571786      -0.128520      -0.647478 -3.151745   \n",
       "2      2.181198     -0.571786      -0.128520      -0.647478 -3.151745   \n",
       "3      2.134977     -0.571786      -0.128520      -0.647478 -3.151745   \n",
       "4      1.457485     -0.571786      -0.128520      -0.647478 -3.151745   \n",
       "..          ...           ...            ...            ...       ...   \n",
       "95    -0.572560      1.153489       0.379173       1.258185  0.459923   \n",
       "96    -0.778119      1.061804       0.130678       1.300059  0.464038   \n",
       "97    -0.778119      1.018244       0.009018       1.322279  0.469485   \n",
       "98    -0.476471      1.048502       0.030010       1.347889  0.469107   \n",
       "99    -0.424169      1.072679       0.037056       1.374638  0.471277   \n",
       "\n",
       "      SMA_20    SMA_50    Volume  \n",
       "0  -2.052075 -1.015015  0.430117  \n",
       "1  -2.052075 -1.015015 -0.143354  \n",
       "2  -2.052075 -1.015015 -0.276309  \n",
       "3  -2.052075 -1.015015  0.319218  \n",
       "4  -2.052075 -1.015015 -0.090411  \n",
       "..       ...       ...       ...  \n",
       "95  0.549079  0.995527  1.970389  \n",
       "96  0.554918  0.996330  1.729874  \n",
       "97  0.561766  0.997406 -0.715588  \n",
       "98  0.568193  0.998336  1.402693  \n",
       "99  0.575517  1.000112 -0.263056  \n",
       "\n",
       "[100 rows x 25 columns]"
      ]
     },
     "execution_count": 34,
     "metadata": {},
     "output_type": "execute_result"
    }
   ],
   "source": [
    "df"
   ]
  },
  {
   "cell_type": "code",
   "execution_count": 35,
   "id": "d001b000",
   "metadata": {},
   "outputs": [
    {
     "name": "stdout",
     "output_type": "stream",
     "text": [
      "(80, 10, 24) (80, 10)\n"
     ]
    }
   ],
   "source": [
    "# Data for regression model\n",
    "sequence_length_reg = window_reg =10 # Number of time steps that will be inputted into LSTM network\n",
    "\n",
    "def create_dataset_reg(dataset,target,features, lookback, window):\n",
    "    X_store, y_store = [], []\n",
    "    for i in range(len(dataset)-lookback-window):\n",
    "        X = (dataset[features].values)[i:i+lookback]\n",
    "        y = (dataset[target].values)[i+lookback-1:i+lookback+window-1]\n",
    "        X_store.append(X)\n",
    "        y_store.append(y)\n",
    "    return X_store,y_store\n",
    "\n",
    "X_reg,y_reg = create_dataset_reg(\n",
    "    df,\n",
    "    target=target,\n",
    "    features=features,\n",
    "    lookback=sequence_length_reg, window=window_reg)\n",
    "\n",
    "print(np.array(X_reg).shape, np.array(y_reg).shape)"
   ]
  },
  {
   "cell_type": "code",
   "execution_count": 36,
   "id": "92c76f7c",
   "metadata": {},
   "outputs": [],
   "source": [
    "indices = tf.range(start=0, limit=tf.shape(X_reg)[0])\n",
    "shuffled_indices = tf.random.shuffle(indices)"
   ]
  },
  {
   "cell_type": "code",
   "execution_count": 37,
   "id": "760fad6a",
   "metadata": {},
   "outputs": [],
   "source": [
    "X_reg = tf.gather(X_reg, shuffled_indices)\n",
    "y_reg = tf.gather(y_reg, shuffled_indices)"
   ]
  },
  {
   "cell_type": "code",
   "execution_count": 38,
   "id": "e72f466f",
   "metadata": {},
   "outputs": [
    {
     "name": "stdout",
     "output_type": "stream",
     "text": [
      "Shape of train is (72, 10, 24) and (72, 10)\n",
      "Shape os test is (8, 10, 24) and (8, 10)\n"
     ]
    }
   ],
   "source": [
    "# Train test split\n",
    "m=np.array(X_reg).shape[0] # get first dimension\n",
    "size=int(m*0.9)\n",
    "X_train_reg=X_reg[:size]\n",
    "y_train_reg=y_reg[:size]\n",
    "X_test_reg=X_reg[size:]\n",
    "y_test_reg=y_reg[size:]\n",
    "print('Shape of train is',np.array(X_train_reg).shape,'and',np.array(y_train_reg).shape)\n",
    "print('Shape os test is',np.array(X_test_reg).shape,'and',np.array(y_test_reg).shape)"
   ]
  },
  {
   "cell_type": "code",
   "execution_count": 39,
   "id": "73e6fcf1",
   "metadata": {},
   "outputs": [
    {
     "name": "stdout",
     "output_type": "stream",
     "text": [
      "(720, 24)\n",
      "(720,)\n"
     ]
    }
   ],
   "source": [
    "X_train_reg_=np.array([inner for outer in X_train_reg for inner in outer])\n",
    "print(X_train_reg_.shape)\n",
    "y_train_reg_=np.array([inner for outer in y_train_reg for inner in outer])\n",
    "print(y_train_reg_.shape)"
   ]
  },
  {
   "cell_type": "code",
   "execution_count": 40,
   "id": "9fde5607",
   "metadata": {},
   "outputs": [
    {
     "name": "stdout",
     "output_type": "stream",
     "text": [
      "(80, 24)\n",
      "(80,)\n"
     ]
    }
   ],
   "source": [
    "X_test_reg_=np.array([inner for outer in X_test_reg for inner in outer])\n",
    "print(X_test_reg_.shape)\n",
    "y_test_reg_=np.array([inner for outer in y_test_reg for inner in outer])\n",
    "print(y_test_reg_.shape)"
   ]
  },
  {
   "cell_type": "code",
   "execution_count": 41,
   "id": "13bbfc00",
   "metadata": {},
   "outputs": [],
   "source": [
    "# Prepare test data\n",
    "X_check_reg=(df[features].values)[len(df)-window_reg-sequence_length_reg+1:len(df)- window_reg+1]\n",
    "y_check_reg=(df[target].values)[len(df)-window_reg:len(df)]"
   ]
  },
  {
   "cell_type": "markdown",
   "id": "a09ae8b6",
   "metadata": {},
   "source": [
    "# QNN"
   ]
  },
  {
   "cell_type": "code",
   "execution_count": 44,
   "id": "7df9e0d9",
   "metadata": {},
   "outputs": [],
   "source": [
    "nqubits = 6\n",
    "device = qml.device('default.qubit', wires=nqubits)\n",
    "# Define QNode\n",
    "@qml.qnode(device)\n",
    "def qnode(inputs, weights): # inputs, weights, self.wires_update\n",
    "#     inputs_ = [torch.arctan(feature) for feature in inputs]\n",
    "    inputs_=inputs\n",
    "    for p1,p2,p3,p4,p5,p6 in zip(weights[:5],weights[5:10],weights[10:15],weights[15:20],weights[20:25],weights[25:]):\n",
    "        qml.Rot(*inputs_[:3], wires=0)\n",
    "        qml.Rot(*inputs_[3:6], wires=1)\n",
    "        qml.Rot(*inputs_[6:9], wires=2)\n",
    "        qml.Rot(*inputs_[9:12], wires=3)\n",
    "        qml.Rot(*inputs_[12:15], wires=4)\n",
    "        qml.Rot(*inputs_[15:], wires=5)\n",
    "        qml.Rot(*p1, wires=0)\n",
    "        qml.Rot(*p2, wires=1)\n",
    "        qml.Rot(*p3, wires=2)\n",
    "        qml.Rot(*p4, wires=3)\n",
    "        qml.Rot(*p5, wires=4)\n",
    "        qml.Rot(*p6, wires=5)\n",
    "        qml.CNOT(wires=[0, 1])\n",
    "        qml.CNOT(wires=[1, 2])\n",
    "        qml.CNOT(wires=[2, 3])\n",
    "        qml.CNOT(wires=[3, 4]) \n",
    "        qml.CNOT(wires=[4, 5])\n",
    "        qml.CNOT(wires=[5, 0]) \n",
    "    return [qml.expval(qml.PauliZ(i)) for i in range(nqubits)]\n",
    "\n",
    "# define weight_shapes\n",
    "weight_shapes = {\"weights\": (30, 3)}"
   ]
  },
  {
   "cell_type": "code",
   "execution_count": 45,
   "id": "6c6ce900",
   "metadata": {},
   "outputs": [],
   "source": [
    "from tensorflow.keras import regularizers, initializers\n",
    "from tensorflow.keras.layers import Input, Dense, Reshape, Embedding, concatenate, Dropout, Flatten\n",
    "from tensorflow.keras.preprocessing import sequence\n",
    "from tensorflow.keras import Model"
   ]
  },
  {
   "cell_type": "code",
   "execution_count": 46,
   "id": "899220b3",
   "metadata": {},
   "outputs": [],
   "source": [
    "input_ = Input((24,)) # feature\n",
    "den1=Dense(18, use_bias=True,activation='relu')(input_) \n",
    "qlayer = qml.qnn.KerasLayer(qnode, weight_shapes, output_dim=nqubits)(den1)\n",
    "den5=Dense(1, use_bias=True,activation='linear')(qlayer)\n",
    "model = Model(inputs=[input_], outputs=den5)"
   ]
  },
  {
   "cell_type": "code",
   "execution_count": 47,
   "id": "73dbb88a",
   "metadata": {},
   "outputs": [],
   "source": [
    "loss_fn = tf.keras.losses.MeanSquaredError()\n",
    "opt = tf.keras.optimizers.Adam(learning_rate=0.01)\n",
    "model.compile(opt, loss=loss_fn)"
   ]
  },
  {
   "cell_type": "code",
   "execution_count": 48,
   "id": "1ae1e450",
   "metadata": {},
   "outputs": [
    {
     "name": "stdout",
     "output_type": "stream",
     "text": [
      "Epoch 1/5\n",
      "23/23 [==============================] - 473s 21s/step - loss: 0.4416 - val_loss: 0.2971\n",
      "Epoch 2/5\n",
      "23/23 [==============================] - 580s 25s/step - loss: 0.1720 - val_loss: 0.1221\n",
      "Epoch 3/5\n",
      "23/23 [==============================] - 661s 29s/step - loss: 0.0762 - val_loss: 0.0669\n",
      "Epoch 4/5\n",
      "23/23 [==============================] - 682s 30s/step - loss: 0.0504 - val_loss: 0.0583\n",
      "Epoch 5/5\n",
      "23/23 [==============================] - 816s 36s/step - loss: 0.0386 - val_loss: 0.0541\n"
     ]
    }
   ],
   "source": [
    "model_history = model.fit(X_train_reg_, y_train_reg_,\n",
    "                    validation_data=(X_test_reg_, y_test_reg_),\n",
    "                   batch_size=32, \n",
    "                   epochs=5,  # total epoch\n",
    "                   )"
   ]
  },
  {
   "cell_type": "code",
   "execution_count": 49,
   "id": "197a243b",
   "metadata": {},
   "outputs": [
    {
     "data": {
      "image/png": "[encoded data removed]",
      "text/plain": [
       "<Figure size 432x288 with 1 Axes>"
      ]
     },
     "metadata": {
      "needs_background": "light"
     },
     "output_type": "display_data"
    }
   ],
   "source": [
    "import keras\n",
    "from matplotlib import pyplot as plt\n",
    "plt.plot(model_history.history['loss'])\n",
    "plt.plot(model_history.history['val_loss'])\n",
    "plt.title('model loss')\n",
    "plt.ylabel('loss')\n",
    "plt.xlabel('epoch')\n",
    "plt.legend(['train', 'val'], loc='upper left')\n",
    "plt.show()"
   ]
  },
  {
   "cell_type": "code",
   "execution_count": null,
   "id": "69f2eafc",
   "metadata": {},
   "outputs": [],
   "source": [
    "# Predict the model \n",
    "y_train_pred_ann = model.predict(X_train_reg_) \n",
    "mae_train_ann = mean_absolute_error(y_train_reg_* target_stdev + target_mean, y_train_pred_ann* target_stdev + target_mean)\n",
    "print('MAE train: ',mae_train_ann)\n",
    "rmse_train_ann = mean_squared_error(y_train_reg_* target_stdev + target_mean, y_train_pred_ann* target_stdev + target_mean, squared=False)\n",
    "print('RMSE train: ',rmse_train_ann)"
   ]
  },
  {
   "cell_type": "code",
   "execution_count": null,
   "id": "d0b773dd",
   "metadata": {},
   "outputs": [],
   "source": [
    "# Predict the model \n",
    "y_test_pred_ann = model.predict(X_test_reg_) \n",
    "mae_test_ann = mean_absolute_error(y_test_reg_* target_stdev + target_mean, y_test_pred_ann* target_stdev + target_mean)\n",
    "print('MAE test: ',mae_test_ann)\n",
    "rmse_test_ann = mean_squared_error(y_test_reg_* target_stdev + target_mean, y_test_pred_ann* target_stdev + target_mean, squared=False)\n",
    "print('RMSE test : ',rmse_test_ann)"
   ]
  },
  {
   "cell_type": "code",
   "execution_count": 50,
   "id": "2dd1cadd",
   "metadata": {},
   "outputs": [],
   "source": [
    "def mae_metric(actual, predicted):\n",
    "    sum_error = 0.0\n",
    "    for i in range(len(actual)):\n",
    "        sum_error += abs(predicted[i] - actual[i])\n",
    "    return sum_error/len(actual)\n",
    "\n",
    "def rmse_metric(actual, predicted):\n",
    "    sum_error = 0.0\n",
    "    for i in range(len(actual)):\n",
    "        sum_error += (predicted[i] - actual[i])**2\n",
    "    return (sum_error/len(actual))**0.5"
   ]
  },
  {
   "cell_type": "code",
   "execution_count": 51,
   "id": "68262b4a",
   "metadata": {},
   "outputs": [
    {
     "name": "stdout",
     "output_type": "stream",
     "text": [
      "Mean absolute Error :  59.5512988281248\n",
      "Root Mean Squared Error :  98.52153712214302\n"
     ]
    }
   ],
   "source": [
    "from sklearn.metrics import mean_squared_error\n",
    "from sklearn.metrics import mean_absolute_error\n",
    "y_check_pred_qnn = model.predict(X_check_reg)\n",
    "y_check_pred_qnn=y_check_pred_qnn.flatten()\n",
    "mae_check_qnn = mean_absolute_error(y_check_reg* target_stdev + target_mean, y_check_pred_qnn* target_stdev + target_mean)\n",
    "print('Mean absolute Error : ',mae_check_qnn)\n",
    "rmse_check_qnn = mean_squared_error(y_check_reg* target_stdev + target_mean, y_check_pred_qnn* target_stdev + target_mean, squared=False)\n",
    "print('Root Mean Squared Error : ',rmse_check_qnn)"
   ]
  },
  {
   "cell_type": "code",
   "execution_count": 52,
   "id": "f8e512c2",
   "metadata": {},
   "outputs": [
    {
     "data": {
      "image/png": "[encoded data removed]",
      "text/plain": [
       "<Figure size 864x504 with 1 Axes>"
      ]
     },
     "metadata": {
      "needs_background": "light"
     },
     "output_type": "display_data"
    }
   ],
   "source": [
    "plt.figure(figsize=(12, 7))\n",
    "plt.plot(y_check_reg* target_stdev + target_mean, label = \"Real\",marker='o')\n",
    "plt.plot(y_check_pred_qnn* target_stdev + target_mean, label = \"Quantum ANN\",marker='^')\n",
    "plt.ylabel('Stock Price')\n",
    "plt.xlabel('Days')\n",
    "plt.title(str(window_reg)+'days')\n",
    "plt.legend()\n",
    "plt.show()"
   ]
  },
  {
   "cell_type": "code",
   "execution_count": 53,
   "id": "803938bf",
   "metadata": {},
   "outputs": [],
   "source": [
    "save_data=[y_check_reg* target_stdev + target_mean,\n",
    "          y_check_pred_qnn* target_stdev + target_mean]"
   ]
  },
  {
   "cell_type": "code",
   "execution_count": 54,
   "id": "276b2848",
   "metadata": {},
   "outputs": [],
   "source": [
    "import csv \n",
    "# name of csv file   \n",
    "filename = \"QNN_result_code.csv\"\n",
    "      \n",
    "# writing to csv file   \n",
    "with open(filename, 'w') as csvfile:   \n",
    "    # creating a csv writer object   \n",
    "    csvwriter = csv.writer(csvfile)     \n",
    "          \n",
    "    # writing the data rows   \n",
    "    csvwriter.writerows(save_data)"
   ]
  },
  {
   "cell_type": "code",
   "execution_count": null,
   "id": "bb59da90",
   "metadata": {},
   "outputs": [],
   "source": []
  },
  {
   "cell_type": "code",
   "execution_count": null,
   "id": "93a62b0b",
   "metadata": {},
   "outputs": [],
   "source": []
  },
  {
   "cell_type": "code",
   "execution_count": null,
   "id": "9677f60e",
   "metadata": {},
   "outputs": [],
   "source": []
  }
 ],
 "metadata": {
  "kernelspec": {
   "display_name": "Python 3",
   "language": "python",
   "name": "python3"
  },
  "language_info": {
   "codemirror_mode": {
    "name": "ipython",
    "version": 3
   },
   "file_extension": ".py",
   "mimetype": "text/x-python",
   "name": "python",
   "nbconvert_exporter": "python",
   "pygments_lexer": "ipython3",
   "version": "3.8.8"
  }
 },
 "nbformat": 4,
 "nbformat_minor": 5
}
