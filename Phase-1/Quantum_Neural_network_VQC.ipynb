{
 "cells": [
  {
   "cell_type": "code",
   "execution_count": 1,
   "id": "a33a1f56",
   "metadata": {},
   "outputs": [],
   "source": [
    "import pandas as pd\n",
    "import numpy as np\n",
    "import math\n",
    "import pennylane as qml\n",
    "import random\n",
    "import tensorflow as tf"
   ]
  },
  {
   "cell_type": "markdown",
   "id": "696bb7d7",
   "metadata": {},
   "source": [
    "## Brief Outline"
   ]
  },
  {
   "cell_type": "markdown",
   "id": "4e301a55",
   "metadata": {},
   "source": [
    "The notebook will proceed in the following manner:\n",
    "\n",
    "1. Brief description of Data\n",
    "2. Defining QNN and using it to perform stock price prediction\n"
   ]
  },
  {
   "cell_type": "markdown",
   "id": "8dcf2258",
   "metadata": {},
   "source": [
    "## 1. Data"
   ]
  },
  {
   "cell_type": "markdown",
   "id": "3b37e1ea",
   "metadata": {},
   "source": [
    "First, we read in the data, dropping the index and the date."
   ]
  },
  {
   "cell_type": "code",
   "execution_count": 2,
   "id": "31c36071",
   "metadata": {},
   "outputs": [],
   "source": [
    "df = pd.read_csv('dataset_FTSE_prediction_v1.csv')\n",
    "df = df.drop(['Unnamed: 0'], axis=1)\n",
    "# df=df.drop(columns=['ARIMA'])\n",
    "df=df[:1000]"
   ]
  },
  {
   "cell_type": "markdown",
   "id": "4aaa9b52",
   "metadata": {},
   "source": [
    "We identify the dependent and independent variables:"
   ]
  },
  {
   "cell_type": "code",
   "execution_count": 3,
   "id": "d53abe07",
   "metadata": {},
   "outputs": [],
   "source": [
    "target = \"Close\""
   ]
  },
  {
   "cell_type": "code",
   "execution_count": 4,
   "id": "a8cedb86",
   "metadata": {},
   "outputs": [
    {
     "data": {
      "text/plain": [
       "['Adj Close',\n",
       " 'BBB_20_2.0',\n",
       " 'BBL_20_2.0',\n",
       " 'BBM_20_2.0',\n",
       " 'BBP_20_2.0',\n",
       " 'BBU_20_2.0',\n",
       " 'CUMLOGRET_1',\n",
       " 'Close_copy',\n",
       " 'Crude Futures',\n",
       " 'EMA_10',\n",
       " 'EMA_20',\n",
       " 'EMA_50',\n",
       " 'FT3',\n",
       " 'FT6',\n",
       " 'FT9',\n",
       " 'GBP USD ',\n",
       " 'Gold in USD',\n",
       " 'MACD_12_26_9',\n",
       " 'MACDh_12_26_9',\n",
       " 'MACDs_12_26_9',\n",
       " 'SMA_10',\n",
       " 'SMA_20',\n",
       " 'SMA_50',\n",
       " 'Volume']"
      ]
     },
     "execution_count": 4,
     "metadata": {},
     "output_type": "execute_result"
    }
   ],
   "source": [
    "features = list(df.columns.difference([\"Close\"]))\n",
    "features"
   ]
  },
  {
   "cell_type": "markdown",
   "id": "a65613d0",
   "metadata": {},
   "source": [
    "## Data Processing"
   ]
  },
  {
   "cell_type": "markdown",
   "id": "0c7baf43",
   "metadata": {},
   "source": [
    "To process the data, we first define few terms"
   ]
  },
  {
   "cell_type": "code",
   "execution_count": 5,
   "id": "465d24a1",
   "metadata": {},
   "outputs": [],
   "source": [
    "random.seed(42)"
   ]
  },
  {
   "cell_type": "markdown",
   "id": "dc621071",
   "metadata": {},
   "source": [
    "Next, in order to ensure that some values due to their mangnitude do not inherently dominate the features, we standardize their values."
   ]
  },
  {
   "cell_type": "code",
   "execution_count": 6,
   "id": "bff7d289",
   "metadata": {},
   "outputs": [],
   "source": [
    "target_mean = df[target].mean()\n",
    "target_stdev = df[target].std()\n",
    "\n",
    "for c in df.columns:\n",
    "    mean = df[c].mean()\n",
    "    stdev = df[c].std()\n",
    "\n",
    "    df[c] = (df[c] - mean) / stdev"
   ]
  },
  {
   "cell_type": "code",
   "execution_count": 7,
   "id": "943866a4",
   "metadata": {},
   "outputs": [
    {
     "data": {
      "text/html": [
       "<div>\n",
       "<style scoped>\n",
       "    .dataframe tbody tr th:only-of-type {\n",
       "        vertical-align: middle;\n",
       "    }\n",
       "\n",
       "    .dataframe tbody tr th {\n",
       "        vertical-align: top;\n",
       "    }\n",
       "\n",
       "    .dataframe thead th {\n",
       "        text-align: right;\n",
       "    }\n",
       "</style>\n",
       "<table border=\"1\" class=\"dataframe\">\n",
       "  <thead>\n",
       "    <tr style=\"text-align: right;\">\n",
       "      <th></th>\n",
       "      <th>Adj Close</th>\n",
       "      <th>BBB_20_2.0</th>\n",
       "      <th>BBL_20_2.0</th>\n",
       "      <th>BBM_20_2.0</th>\n",
       "      <th>BBP_20_2.0</th>\n",
       "      <th>BBU_20_2.0</th>\n",
       "      <th>CUMLOGRET_1</th>\n",
       "      <th>Close</th>\n",
       "      <th>Crude Futures</th>\n",
       "      <th>EMA_10</th>\n",
       "      <th>...</th>\n",
       "      <th>GBP USD</th>\n",
       "      <th>Gold in USD</th>\n",
       "      <th>MACD_12_26_9</th>\n",
       "      <th>MACDh_12_26_9</th>\n",
       "      <th>MACDs_12_26_9</th>\n",
       "      <th>SMA_10</th>\n",
       "      <th>SMA_20</th>\n",
       "      <th>SMA_50</th>\n",
       "      <th>Volume</th>\n",
       "      <th>Close_copy</th>\n",
       "    </tr>\n",
       "  </thead>\n",
       "  <tbody>\n",
       "    <tr>\n",
       "      <th>0</th>\n",
       "      <td>-1.683788</td>\n",
       "      <td>-2.036569</td>\n",
       "      <td>-6.119758</td>\n",
       "      <td>-6.215784</td>\n",
       "      <td>-1.576248</td>\n",
       "      <td>-6.275358</td>\n",
       "      <td>-1.722925</td>\n",
       "      <td>-1.683788</td>\n",
       "      <td>0.715028</td>\n",
       "      <td>-7.986904</td>\n",
       "      <td>...</td>\n",
       "      <td>0.791322</td>\n",
       "      <td>1.861594</td>\n",
       "      <td>-0.256965</td>\n",
       "      <td>0.013277</td>\n",
       "      <td>-0.293347</td>\n",
       "      <td>-7.974110</td>\n",
       "      <td>-6.215784</td>\n",
       "      <td>-4.163501</td>\n",
       "      <td>1.061571</td>\n",
       "      <td>-1.683788</td>\n",
       "    </tr>\n",
       "    <tr>\n",
       "      <th>1</th>\n",
       "      <td>-1.928550</td>\n",
       "      <td>-2.036569</td>\n",
       "      <td>-6.119758</td>\n",
       "      <td>-6.215784</td>\n",
       "      <td>-1.576248</td>\n",
       "      <td>-6.275358</td>\n",
       "      <td>-2.002803</td>\n",
       "      <td>-1.928550</td>\n",
       "      <td>0.611988</td>\n",
       "      <td>-7.986904</td>\n",
       "      <td>...</td>\n",
       "      <td>0.606822</td>\n",
       "      <td>2.090899</td>\n",
       "      <td>-0.256965</td>\n",
       "      <td>0.013277</td>\n",
       "      <td>-0.293347</td>\n",
       "      <td>-7.974110</td>\n",
       "      <td>-6.215784</td>\n",
       "      <td>-4.163501</td>\n",
       "      <td>0.375712</td>\n",
       "      <td>-1.928550</td>\n",
       "    </tr>\n",
       "    <tr>\n",
       "      <th>2</th>\n",
       "      <td>-2.294438</td>\n",
       "      <td>-2.036569</td>\n",
       "      <td>-6.119758</td>\n",
       "      <td>-6.215784</td>\n",
       "      <td>-1.576248</td>\n",
       "      <td>-6.275358</td>\n",
       "      <td>-2.433936</td>\n",
       "      <td>-2.294438</td>\n",
       "      <td>0.611988</td>\n",
       "      <td>-7.986904</td>\n",
       "      <td>...</td>\n",
       "      <td>0.606822</td>\n",
       "      <td>2.090899</td>\n",
       "      <td>-0.256965</td>\n",
       "      <td>0.013277</td>\n",
       "      <td>-0.293347</td>\n",
       "      <td>-7.974110</td>\n",
       "      <td>-6.215784</td>\n",
       "      <td>-4.163501</td>\n",
       "      <td>0.216701</td>\n",
       "      <td>-2.294438</td>\n",
       "    </tr>\n",
       "    <tr>\n",
       "      <th>3</th>\n",
       "      <td>-2.189733</td>\n",
       "      <td>-2.036569</td>\n",
       "      <td>-6.119758</td>\n",
       "      <td>-6.215784</td>\n",
       "      <td>-1.576248</td>\n",
       "      <td>-6.275358</td>\n",
       "      <td>-2.308947</td>\n",
       "      <td>-2.189733</td>\n",
       "      <td>0.641428</td>\n",
       "      <td>-7.986904</td>\n",
       "      <td>...</td>\n",
       "      <td>0.422321</td>\n",
       "      <td>2.072632</td>\n",
       "      <td>-0.256965</td>\n",
       "      <td>0.013277</td>\n",
       "      <td>-0.293347</td>\n",
       "      <td>-7.974110</td>\n",
       "      <td>-6.215784</td>\n",
       "      <td>-4.163501</td>\n",
       "      <td>0.928938</td>\n",
       "      <td>-2.189733</td>\n",
       "    </tr>\n",
       "    <tr>\n",
       "      <th>4</th>\n",
       "      <td>-1.877164</td>\n",
       "      <td>-2.036569</td>\n",
       "      <td>-6.119758</td>\n",
       "      <td>-6.215784</td>\n",
       "      <td>-1.576248</td>\n",
       "      <td>-6.275358</td>\n",
       "      <td>-1.943493</td>\n",
       "      <td>-1.877164</td>\n",
       "      <td>0.794410</td>\n",
       "      <td>-7.986904</td>\n",
       "      <td>...</td>\n",
       "      <td>0.053321</td>\n",
       "      <td>1.804868</td>\n",
       "      <td>-0.256965</td>\n",
       "      <td>0.013277</td>\n",
       "      <td>-0.293347</td>\n",
       "      <td>-7.974110</td>\n",
       "      <td>-6.215784</td>\n",
       "      <td>-4.163501</td>\n",
       "      <td>0.439031</td>\n",
       "      <td>-1.877164</td>\n",
       "    </tr>\n",
       "    <tr>\n",
       "      <th>...</th>\n",
       "      <td>...</td>\n",
       "      <td>...</td>\n",
       "      <td>...</td>\n",
       "      <td>...</td>\n",
       "      <td>...</td>\n",
       "      <td>...</td>\n",
       "      <td>...</td>\n",
       "      <td>...</td>\n",
       "      <td>...</td>\n",
       "      <td>...</td>\n",
       "      <td>...</td>\n",
       "      <td>...</td>\n",
       "      <td>...</td>\n",
       "      <td>...</td>\n",
       "      <td>...</td>\n",
       "      <td>...</td>\n",
       "      <td>...</td>\n",
       "      <td>...</td>\n",
       "      <td>...</td>\n",
       "      <td>...</td>\n",
       "      <td>...</td>\n",
       "    </tr>\n",
       "    <tr>\n",
       "      <th>995</th>\n",
       "      <td>0.999709</td>\n",
       "      <td>-0.029876</td>\n",
       "      <td>0.637243</td>\n",
       "      <td>0.643441</td>\n",
       "      <td>-0.152500</td>\n",
       "      <td>0.645966</td>\n",
       "      <td>0.976688</td>\n",
       "      <td>0.999709</td>\n",
       "      <td>-1.970825</td>\n",
       "      <td>0.716082</td>\n",
       "      <td>...</td>\n",
       "      <td>-0.315680</td>\n",
       "      <td>-1.284748</td>\n",
       "      <td>-1.206908</td>\n",
       "      <td>0.656828</td>\n",
       "      <td>-1.641128</td>\n",
       "      <td>0.671557</td>\n",
       "      <td>0.643441</td>\n",
       "      <td>0.647618</td>\n",
       "      <td>-0.387877</td>\n",
       "      <td>0.999709</td>\n",
       "    </tr>\n",
       "    <tr>\n",
       "      <th>996</th>\n",
       "      <td>0.895198</td>\n",
       "      <td>-0.215551</td>\n",
       "      <td>0.642165</td>\n",
       "      <td>0.631833</td>\n",
       "      <td>-0.562964</td>\n",
       "      <td>0.618332</td>\n",
       "      <td>0.882308</td>\n",
       "      <td>0.895198</td>\n",
       "      <td>-1.967670</td>\n",
       "      <td>0.706288</td>\n",
       "      <td>...</td>\n",
       "      <td>-0.315680</td>\n",
       "      <td>-1.278018</td>\n",
       "      <td>-1.220334</td>\n",
       "      <td>0.500655</td>\n",
       "      <td>-1.587679</td>\n",
       "      <td>0.667567</td>\n",
       "      <td>0.631833</td>\n",
       "      <td>0.644271</td>\n",
       "      <td>-0.650815</td>\n",
       "      <td>0.895198</td>\n",
       "    </tr>\n",
       "    <tr>\n",
       "      <th>997</th>\n",
       "      <td>0.637879</td>\n",
       "      <td>-0.167381</td>\n",
       "      <td>0.621381</td>\n",
       "      <td>0.615072</td>\n",
       "      <td>-1.629896</td>\n",
       "      <td>0.605579</td>\n",
       "      <td>0.646672</td>\n",
       "      <td>0.637879</td>\n",
       "      <td>-2.033384</td>\n",
       "      <td>0.667259</td>\n",
       "      <td>...</td>\n",
       "      <td>-0.315680</td>\n",
       "      <td>-1.251098</td>\n",
       "      <td>-1.466207</td>\n",
       "      <td>-0.099759</td>\n",
       "      <td>-1.600075</td>\n",
       "      <td>0.656060</td>\n",
       "      <td>0.615072</td>\n",
       "      <td>0.638275</td>\n",
       "      <td>0.098631</td>\n",
       "      <td>0.637879</td>\n",
       "    </tr>\n",
       "    <tr>\n",
       "      <th>998</th>\n",
       "      <td>0.445662</td>\n",
       "      <td>0.126202</td>\n",
       "      <td>0.575433</td>\n",
       "      <td>0.594578</td>\n",
       "      <td>-2.058484</td>\n",
       "      <td>0.609970</td>\n",
       "      <td>0.467538</td>\n",
       "      <td>0.445662</td>\n",
       "      <td>-1.950322</td>\n",
       "      <td>0.612159</td>\n",
       "      <td>...</td>\n",
       "      <td>-0.315680</td>\n",
       "      <td>-1.284748</td>\n",
       "      <td>-1.829071</td>\n",
       "      <td>-0.819398</td>\n",
       "      <td>-1.691391</td>\n",
       "      <td>0.631881</td>\n",
       "      <td>0.594578</td>\n",
       "      <td>0.630746</td>\n",
       "      <td>0.639817</td>\n",
       "      <td>0.445662</td>\n",
       "    </tr>\n",
       "    <tr>\n",
       "      <th>999</th>\n",
       "      <td>0.614890</td>\n",
       "      <td>0.041349</td>\n",
       "      <td>0.565936</td>\n",
       "      <td>0.577375</td>\n",
       "      <td>-1.268299</td>\n",
       "      <td>0.585360</td>\n",
       "      <td>0.625390</td>\n",
       "      <td>0.614890</td>\n",
       "      <td>-2.033384</td>\n",
       "      <td>0.587474</td>\n",
       "      <td>...</td>\n",
       "      <td>-0.315680</td>\n",
       "      <td>-1.296766</td>\n",
       "      <td>-1.933448</td>\n",
       "      <td>-0.866369</td>\n",
       "      <td>-1.787859</td>\n",
       "      <td>0.622675</td>\n",
       "      <td>0.577375</td>\n",
       "      <td>0.624917</td>\n",
       "      <td>0.220175</td>\n",
       "      <td>0.614890</td>\n",
       "    </tr>\n",
       "  </tbody>\n",
       "</table>\n",
       "<p>1000 rows × 25 columns</p>\n",
       "</div>"
      ],
      "text/plain": [
       "     Adj Close  BBB_20_2.0  BBL_20_2.0  BBM_20_2.0  BBP_20_2.0  BBU_20_2.0  \\\n",
       "0    -1.683788   -2.036569   -6.119758   -6.215784   -1.576248   -6.275358   \n",
       "1    -1.928550   -2.036569   -6.119758   -6.215784   -1.576248   -6.275358   \n",
       "2    -2.294438   -2.036569   -6.119758   -6.215784   -1.576248   -6.275358   \n",
       "3    -2.189733   -2.036569   -6.119758   -6.215784   -1.576248   -6.275358   \n",
       "4    -1.877164   -2.036569   -6.119758   -6.215784   -1.576248   -6.275358   \n",
       "..         ...         ...         ...         ...         ...         ...   \n",
       "995   0.999709   -0.029876    0.637243    0.643441   -0.152500    0.645966   \n",
       "996   0.895198   -0.215551    0.642165    0.631833   -0.562964    0.618332   \n",
       "997   0.637879   -0.167381    0.621381    0.615072   -1.629896    0.605579   \n",
       "998   0.445662    0.126202    0.575433    0.594578   -2.058484    0.609970   \n",
       "999   0.614890    0.041349    0.565936    0.577375   -1.268299    0.585360   \n",
       "\n",
       "     CUMLOGRET_1     Close  Crude Futures    EMA_10  ...  GBP USD   \\\n",
       "0      -1.722925 -1.683788       0.715028 -7.986904  ...  0.791322   \n",
       "1      -2.002803 -1.928550       0.611988 -7.986904  ...  0.606822   \n",
       "2      -2.433936 -2.294438       0.611988 -7.986904  ...  0.606822   \n",
       "3      -2.308947 -2.189733       0.641428 -7.986904  ...  0.422321   \n",
       "4      -1.943493 -1.877164       0.794410 -7.986904  ...  0.053321   \n",
       "..           ...       ...            ...       ...  ...       ...   \n",
       "995     0.976688  0.999709      -1.970825  0.716082  ... -0.315680   \n",
       "996     0.882308  0.895198      -1.967670  0.706288  ... -0.315680   \n",
       "997     0.646672  0.637879      -2.033384  0.667259  ... -0.315680   \n",
       "998     0.467538  0.445662      -1.950322  0.612159  ... -0.315680   \n",
       "999     0.625390  0.614890      -2.033384  0.587474  ... -0.315680   \n",
       "\n",
       "     Gold in USD  MACD_12_26_9  MACDh_12_26_9  MACDs_12_26_9    SMA_10  \\\n",
       "0       1.861594     -0.256965       0.013277      -0.293347 -7.974110   \n",
       "1       2.090899     -0.256965       0.013277      -0.293347 -7.974110   \n",
       "2       2.090899     -0.256965       0.013277      -0.293347 -7.974110   \n",
       "3       2.072632     -0.256965       0.013277      -0.293347 -7.974110   \n",
       "4       1.804868     -0.256965       0.013277      -0.293347 -7.974110   \n",
       "..           ...           ...            ...            ...       ...   \n",
       "995    -1.284748     -1.206908       0.656828      -1.641128  0.671557   \n",
       "996    -1.278018     -1.220334       0.500655      -1.587679  0.667567   \n",
       "997    -1.251098     -1.466207      -0.099759      -1.600075  0.656060   \n",
       "998    -1.284748     -1.829071      -0.819398      -1.691391  0.631881   \n",
       "999    -1.296766     -1.933448      -0.866369      -1.787859  0.622675   \n",
       "\n",
       "       SMA_20    SMA_50    Volume  Close_copy  \n",
       "0   -6.215784 -4.163501  1.061571   -1.683788  \n",
       "1   -6.215784 -4.163501  0.375712   -1.928550  \n",
       "2   -6.215784 -4.163501  0.216701   -2.294438  \n",
       "3   -6.215784 -4.163501  0.928938   -2.189733  \n",
       "4   -6.215784 -4.163501  0.439031   -1.877164  \n",
       "..        ...       ...       ...         ...  \n",
       "995  0.643441  0.647618 -0.387877    0.999709  \n",
       "996  0.631833  0.644271 -0.650815    0.895198  \n",
       "997  0.615072  0.638275  0.098631    0.637879  \n",
       "998  0.594578  0.630746  0.639817    0.445662  \n",
       "999  0.577375  0.624917  0.220175    0.614890  \n",
       "\n",
       "[1000 rows x 25 columns]"
      ]
     },
     "execution_count": 7,
     "metadata": {},
     "output_type": "execute_result"
    }
   ],
   "source": [
    "df"
   ]
  },
  {
   "cell_type": "code",
   "execution_count": 15,
   "id": "d001b000",
   "metadata": {},
   "outputs": [
    {
     "name": "stdout",
     "output_type": "stream",
     "text": [
      "(188, 30, 24) (188, 30)\n"
     ]
    }
   ],
   "source": [
    "# Data for regression model\n",
    "sequence_length_reg = window_reg =30 # Number of time steps that will be inputted into LSTM network\n",
    "\n",
    "def create_dataset_reg(dataset,target,features, lookback, window):\n",
    "    X_store, y_store = [], []\n",
    "    for i in range(0,len(dataset)-lookback-window,5):\n",
    "        X = (dataset[features].values)[i:i+lookback]\n",
    "        y = (dataset[target].values)[i+lookback-1:i+lookback+window-1]\n",
    "        X_store.append(X)\n",
    "        y_store.append(y)\n",
    "    return X_store,y_store\n",
    "\n",
    "X_reg,y_reg = create_dataset_reg(\n",
    "    df,\n",
    "    target=target,\n",
    "    features=features,\n",
    "    lookback=sequence_length_reg, window=window_reg)\n",
    "\n",
    "print(np.array(X_reg).shape, np.array(y_reg).shape)"
   ]
  },
  {
   "cell_type": "code",
   "execution_count": 16,
   "id": "92c76f7c",
   "metadata": {},
   "outputs": [],
   "source": [
    "indices = tf.range(start=0, limit=tf.shape(X_reg)[0])\n",
    "shuffled_indices = tf.random.shuffle(indices)"
   ]
  },
  {
   "cell_type": "code",
   "execution_count": 17,
   "id": "760fad6a",
   "metadata": {},
   "outputs": [],
   "source": [
    "X_reg = tf.gather(X_reg, shuffled_indices)\n",
    "y_reg = tf.gather(y_reg, shuffled_indices)"
   ]
  },
  {
   "cell_type": "code",
   "execution_count": 18,
   "id": "e72f466f",
   "metadata": {},
   "outputs": [
    {
     "name": "stdout",
     "output_type": "stream",
     "text": [
      "Shape of train is (169, 30, 24) and (169, 30)\n",
      "Shape os test is (19, 30, 24) and (19, 30)\n"
     ]
    }
   ],
   "source": [
    "# Train test split\n",
    "m=np.array(X_reg).shape[0] # get first dimension\n",
    "size=int(m*0.9)\n",
    "X_train_reg=X_reg[:size]\n",
    "y_train_reg=y_reg[:size]\n",
    "X_test_reg=X_reg[size:]\n",
    "y_test_reg=y_reg[size:]\n",
    "print('Shape of train is',np.array(X_train_reg).shape,'and',np.array(y_train_reg).shape)\n",
    "print('Shape os test is',np.array(X_test_reg).shape,'and',np.array(y_test_reg).shape)"
   ]
  },
  {
   "cell_type": "code",
   "execution_count": 19,
   "id": "73e6fcf1",
   "metadata": {},
   "outputs": [
    {
     "name": "stdout",
     "output_type": "stream",
     "text": [
      "(5070, 24)\n",
      "(5070,)\n"
     ]
    }
   ],
   "source": [
    "X_train_reg_=np.array([inner for outer in X_train_reg for inner in outer])\n",
    "print(X_train_reg_.shape)\n",
    "y_train_reg_=np.array([inner for outer in y_train_reg for inner in outer])\n",
    "print(y_train_reg_.shape)"
   ]
  },
  {
   "cell_type": "code",
   "execution_count": 20,
   "id": "9fde5607",
   "metadata": {},
   "outputs": [
    {
     "name": "stdout",
     "output_type": "stream",
     "text": [
      "(570, 24)\n",
      "(570,)\n"
     ]
    }
   ],
   "source": [
    "X_test_reg_=np.array([inner for outer in X_test_reg for inner in outer])\n",
    "print(X_test_reg_.shape)\n",
    "y_test_reg_=np.array([inner for outer in y_test_reg for inner in outer])\n",
    "print(y_test_reg_.shape)"
   ]
  },
  {
   "cell_type": "code",
   "execution_count": 21,
   "id": "13bbfc00",
   "metadata": {},
   "outputs": [],
   "source": [
    "# Prepare test data\n",
    "X_check_reg=(df[features].values)[len(df)-window_reg-sequence_length_reg+1:len(df)- window_reg+1]\n",
    "y_check_reg=(df[target].values)[len(df)-window_reg:len(df)]"
   ]
  },
  {
   "cell_type": "code",
   "execution_count": 22,
   "id": "f00e4dc5",
   "metadata": {},
   "outputs": [],
   "source": [
    "# import torch"
   ]
  },
  {
   "cell_type": "markdown",
   "id": "a09ae8b6",
   "metadata": {},
   "source": [
    "# QNN"
   ]
  },
  {
   "cell_type": "code",
   "execution_count": 31,
   "id": "fc5c0d01",
   "metadata": {},
   "outputs": [],
   "source": [
    "# Define QNode\n",
    "n_layers=3\n",
    "nqubits = 8\n",
    "device = qml.device('default.qubit.tf', wires=nqubits)\n",
    "@qml.qnode(device, interface=\"tf\", diff_method=\"backprop\")\n",
    "def qnode(inputs, weights):\n",
    "    # Preproccess input data to encode the initial state.\n",
    "    ry_params = [math.atan(feature) for feature in inputs]\n",
    "    rz_params = [math.atan(feature**2) for feature in inputs]\n",
    "    for i in range(nqubits):\n",
    "        qml.Hadamard(wires=i)\n",
    "        qml.RY(ry_params[i], wires=i)\n",
    "        qml.RZ(ry_params[i], wires=i)\n",
    "    qml.templates.AngleEmbedding(inputs, wires=range(nqubits))\n",
    "    qml.templates.StronglyEntanglingLayers(weights, wires=range(nqubits))\n",
    "    return [qml.expval(qml.PauliZ(i)) for i in range(nqubits)]\n",
    "# define weight_shapes\n",
    "weight_shapes = {\"weights\": (n_layers, nqubits, 3)}"
   ]
  },
  {
   "cell_type": "code",
   "execution_count": 32,
   "id": "6c6ce900",
   "metadata": {},
   "outputs": [],
   "source": [
    "from tensorflow.keras import regularizers, initializers\n",
    "from tensorflow.keras.layers import Input, Dense, Reshape, Embedding, concatenate, Dropout, Flatten\n",
    "from tensorflow.keras.preprocessing import sequence\n",
    "from tensorflow.keras import Model"
   ]
  },
  {
   "cell_type": "code",
   "execution_count": 33,
   "id": "899220b3",
   "metadata": {},
   "outputs": [],
   "source": [
    "input_ = Input((24,)) # feature\n",
    "den1=Dense(8, use_bias=True,activation='relu')(input_) \n",
    "qlayer = qml.qnn.KerasLayer(qnode, weight_shapes, output_dim=nqubits)(den1)\n",
    "den5=Dense(1, use_bias=True,activation='linear')(qlayer)\n",
    "model = Model(inputs=[input_], outputs=den5)"
   ]
  },
  {
   "cell_type": "code",
   "execution_count": 34,
   "id": "73dbb88a",
   "metadata": {},
   "outputs": [],
   "source": [
    "loss_fn = tf.keras.losses.MeanSquaredError()\n",
    "opt = tf.keras.optimizers.Adam(learning_rate=0.01)\n",
    "model.compile(opt, loss=loss_fn)"
   ]
  },
  {
   "cell_type": "code",
   "execution_count": 35,
   "id": "4f4ab376",
   "metadata": {},
   "outputs": [],
   "source": [
    "import time"
   ]
  },
  {
   "cell_type": "code",
   "execution_count": null,
   "id": "1ae1e450",
   "metadata": {},
   "outputs": [
    {
     "name": "stdout",
     "output_type": "stream",
     "text": [
      "Epoch 1/10\n",
      "159/159 [==============================] - 2076s 13s/step - loss: 0.1998\n",
      "Epoch 2/10\n",
      "159/159 [==============================] - 2371s 15s/step - loss: 0.0461\n",
      "Epoch 3/10\n",
      " 62/159 [==========>...................] - ETA: 21:25 - loss: 0.0356"
     ]
    }
   ],
   "source": [
    "start=time.time()\n",
    "model_history = model.fit(X_train_reg_, y_train_reg_,\n",
    "#                     validation_data=(X_test_reg_, y_test_reg_),\n",
    "                   batch_size=32, \n",
    "                   epochs=10,  # total epoch\n",
    "                   )\n",
    "end=time.time()"
   ]
  },
  {
   "cell_type": "code",
   "execution_count": null,
   "id": "fa702e8e",
   "metadata": {},
   "outputs": [],
   "source": [
    "print(end-start)"
   ]
  },
  {
   "cell_type": "code",
   "execution_count": null,
   "id": "10a8809a",
   "metadata": {},
   "outputs": [],
   "source": []
  },
  {
   "cell_type": "code",
   "execution_count": 101,
   "id": "197a243b",
   "metadata": {},
   "outputs": [
    {
     "data": {
      "image/png": "[encoded data removed]",
      "text/plain": [
       "<Figure size 432x288 with 1 Axes>"
      ]
     },
     "metadata": {
      "needs_background": "light"
     },
     "output_type": "display_data"
    }
   ],
   "source": [
    "import keras\n",
    "from matplotlib import pyplot as plt\n",
    "plt.plot(model_history.history['loss'])\n",
    "plt.plot(model_history.history['val_loss'])\n",
    "plt.title('model loss')\n",
    "plt.ylabel('loss')\n",
    "plt.xlabel('epoch')\n",
    "plt.legend(['train', 'val'], loc='upper left')\n",
    "plt.show()"
   ]
  },
  {
   "cell_type": "code",
   "execution_count": 102,
   "id": "2dd1cadd",
   "metadata": {},
   "outputs": [],
   "source": [
    "def mae_metric(actual, predicted):\n",
    "    sum_error = 0.0\n",
    "    for i in range(len(actual)):\n",
    "        sum_error += abs(predicted[i] - actual[i])\n",
    "    return sum_error/len(actual)\n",
    "\n",
    "def rmse_metric(actual, predicted):\n",
    "    sum_error = 0.0\n",
    "    for i in range(len(actual)):\n",
    "        sum_error += (predicted[i] - actual[i])**2\n",
    "    return (sum_error/len(actual))**0.5"
   ]
  },
  {
   "cell_type": "code",
   "execution_count": 103,
   "id": "68262b4a",
   "metadata": {},
   "outputs": [
    {
     "name": "stdout",
     "output_type": "stream",
     "text": [
      "Mean absolute Error :  105.18241210937495\n",
      "Root Mean Squared Error :  138.3136030831423\n"
     ]
    }
   ],
   "source": [
    "from sklearn.metrics import mean_squared_error\n",
    "from sklearn.metrics import mean_absolute_error\n",
    "y_check_pred_qnn = model.predict(X_check_reg)\n",
    "y_check_pred_qnn=y_check_pred_qnn.flatten()\n",
    "mae_check_qnn = mean_absolute_error(y_check_reg* target_stdev + target_mean, y_check_pred_qnn* target_stdev + target_mean)\n",
    "print('Mean absolute Error : ',mae_check_qnn)\n",
    "rmse_check_qnn = mean_squared_error(y_check_reg* target_stdev + target_mean, y_check_pred_qnn* target_stdev + target_mean, squared=False)\n",
    "print('Root Mean Squared Error : ',rmse_check_qnn)"
   ]
  },
  {
   "cell_type": "code",
   "execution_count": 104,
   "id": "f8e512c2",
   "metadata": {},
   "outputs": [
    {
     "data": {
      "image/png": "[encoded data removed]",
      "text/plain": [
       "<Figure size 864x504 with 1 Axes>"
      ]
     },
     "metadata": {
      "needs_background": "light"
     },
     "output_type": "display_data"
    }
   ],
   "source": [
    "plt.figure(figsize=(12, 7))\n",
    "plt.plot(y_check_reg* target_stdev + target_mean, label = \"Real\",marker='o')\n",
    "plt.plot(y_check_pred_qnn* target_stdev + target_mean, label = \"Quantum ANN\",marker='^')\n",
    "plt.ylabel('Stock Price')\n",
    "plt.xlabel('Days')\n",
    "plt.title(str(window_reg)+'days')\n",
    "plt.legend()\n",
    "plt.show()"
   ]
  },
  {
   "cell_type": "code",
   "execution_count": 105,
   "id": "803938bf",
   "metadata": {},
   "outputs": [],
   "source": [
    "save_data=[y_check_reg* target_stdev + target_mean,\n",
    "          y_check_pred_qnn* target_stdev + target_mean]"
   ]
  },
  {
   "cell_type": "code",
   "execution_count": 106,
   "id": "276b2848",
   "metadata": {},
   "outputs": [],
   "source": [
    "import csv \n",
    "# name of csv file   \n",
    "filename = \"QNN_result_vqc.csv\"\n",
    "      \n",
    "# writing to csv file   \n",
    "with open(filename, 'w') as csvfile:   \n",
    "    # creating a csv writer object   \n",
    "    csvwriter = csv.writer(csvfile)     \n",
    "          \n",
    "    # writing the data rows   \n",
    "    csvwriter.writerows(save_data)"
   ]
  },
  {
   "cell_type": "code",
   "execution_count": null,
   "id": "bb59da90",
   "metadata": {},
   "outputs": [],
   "source": []
  },
  {
   "cell_type": "code",
   "execution_count": null,
   "id": "93a62b0b",
   "metadata": {},
   "outputs": [],
   "source": []
  },
  {
   "cell_type": "code",
   "execution_count": null,
   "id": "9677f60e",
   "metadata": {},
   "outputs": [],
   "source": []
  }
 ],
 "metadata": {
  "kernelspec": {
   "display_name": "Python 3",
   "language": "python",
   "name": "python3"
  },
  "language_info": {
   "codemirror_mode": {
    "name": "ipython",
    "version": 3
   },
   "file_extension": ".py",
   "mimetype": "text/x-python",
   "name": "python",
   "nbconvert_exporter": "python",
   "pygments_lexer": "ipython3",
   "version": "3.8.8"
  }
 },
 "nbformat": 4,
 "nbformat_minor": 5
}
