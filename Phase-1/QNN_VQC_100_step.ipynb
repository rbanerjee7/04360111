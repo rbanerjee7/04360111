{
 "cells": [
  {
   "cell_type": "code",
   "execution_count": 26,
   "id": "a33a1f56",
   "metadata": {},
   "outputs": [],
   "source": [
    "import pandas as pd\n",
    "import numpy as np\n",
    "import math\n",
    "import pennylane as qml\n",
    "import random\n",
    "import tensorflow as tf"
   ]
  },
  {
   "cell_type": "markdown",
   "id": "8dcf2258",
   "metadata": {},
   "source": [
    "## Data"
   ]
  },
  {
   "cell_type": "markdown",
   "id": "3b37e1ea",
   "metadata": {},
   "source": [
    "First, we read in the data, dropping the index and the date."
   ]
  },
  {
   "cell_type": "code",
   "execution_count": 27,
   "id": "31c36071",
   "metadata": {},
   "outputs": [],
   "source": [
    "df = pd.read_csv('dataset_FTSE_prediction_v1.csv')\n",
    "df = df.drop(['Unnamed: 0'], axis=1)\n",
    "df=df.drop(columns=['ARIMA'])\n",
    "df=df[800:]"
   ]
  },
  {
   "cell_type": "markdown",
   "id": "4aaa9b52",
   "metadata": {},
   "source": [
    "We identify the dependent and independent variables:"
   ]
  },
  {
   "cell_type": "code",
   "execution_count": 28,
   "id": "d53abe07",
   "metadata": {},
   "outputs": [],
   "source": [
    "target = \"Close\""
   ]
  },
  {
   "cell_type": "code",
   "execution_count": 29,
   "id": "a8cedb86",
   "metadata": {},
   "outputs": [
    {
     "data": {
      "text/plain": [
       "['Adj Close',\n",
       " 'BBB_20_2.0',\n",
       " 'BBL_20_2.0',\n",
       " 'BBM_20_2.0',\n",
       " 'BBP_20_2.0',\n",
       " 'BBU_20_2.0',\n",
       " 'CUMLOGRET_1',\n",
       " 'Close_copy',\n",
       " 'Crude Futures',\n",
       " 'EMA_10',\n",
       " 'EMA_20',\n",
       " 'EMA_50',\n",
       " 'FT3',\n",
       " 'FT6',\n",
       " 'FT9',\n",
       " 'GBP USD ',\n",
       " 'Gold in USD',\n",
       " 'MACD_12_26_9',\n",
       " 'MACDh_12_26_9',\n",
       " 'MACDs_12_26_9',\n",
       " 'SMA_10',\n",
       " 'SMA_20',\n",
       " 'SMA_50',\n",
       " 'Volume']"
      ]
     },
     "execution_count": 29,
     "metadata": {},
     "output_type": "execute_result"
    }
   ],
   "source": [
    "features = list(df.columns.difference([\"Close\"]))\n",
    "features"
   ]
  },
  {
   "cell_type": "code",
   "execution_count": 30,
   "id": "21c162b6",
   "metadata": {},
   "outputs": [
    {
     "data": {
      "text/plain": [
       "24"
      ]
     },
     "execution_count": 30,
     "metadata": {},
     "output_type": "execute_result"
    }
   ],
   "source": [
    "len(features)"
   ]
  },
  {
   "cell_type": "markdown",
   "id": "a65613d0",
   "metadata": {},
   "source": [
    "## Data Processing"
   ]
  },
  {
   "cell_type": "markdown",
   "id": "0c7baf43",
   "metadata": {},
   "source": [
    "To process the data, we first define few terms"
   ]
  },
  {
   "cell_type": "code",
   "execution_count": 31,
   "id": "465d24a1",
   "metadata": {},
   "outputs": [],
   "source": [
    "random.seed(42)"
   ]
  },
  {
   "cell_type": "markdown",
   "id": "dc621071",
   "metadata": {},
   "source": [
    "Next, in order to ensure that some values due to their mangnitude do not inherently dominate the features, we standardize their values."
   ]
  },
  {
   "cell_type": "code",
   "execution_count": 32,
   "id": "bff7d289",
   "metadata": {},
   "outputs": [],
   "source": [
    "target_mean = df[target].mean()\n",
    "target_stdev = df[target].std()\n",
    "\n",
    "for c in df.columns:\n",
    "    mean = df[c].mean()\n",
    "    stdev = df[c].std()\n",
    "\n",
    "    df[c] = (df[c] - mean) / stdev"
   ]
  },
  {
   "cell_type": "code",
   "execution_count": 33,
   "id": "943866a4",
   "metadata": {},
   "outputs": [
    {
     "data": {
      "text/html": [
       "<div>\n",
       "<style scoped>\n",
       "    .dataframe tbody tr th:only-of-type {\n",
       "        vertical-align: middle;\n",
       "    }\n",
       "\n",
       "    .dataframe tbody tr th {\n",
       "        vertical-align: top;\n",
       "    }\n",
       "\n",
       "    .dataframe thead th {\n",
       "        text-align: right;\n",
       "    }\n",
       "</style>\n",
       "<table border=\"1\" class=\"dataframe\">\n",
       "  <thead>\n",
       "    <tr style=\"text-align: right;\">\n",
       "      <th></th>\n",
       "      <th>Adj Close</th>\n",
       "      <th>BBB_20_2.0</th>\n",
       "      <th>BBL_20_2.0</th>\n",
       "      <th>BBM_20_2.0</th>\n",
       "      <th>BBP_20_2.0</th>\n",
       "      <th>BBU_20_2.0</th>\n",
       "      <th>CUMLOGRET_1</th>\n",
       "      <th>Close</th>\n",
       "      <th>Crude Futures</th>\n",
       "      <th>EMA_10</th>\n",
       "      <th>...</th>\n",
       "      <th>GBP USD</th>\n",
       "      <th>Gold in USD</th>\n",
       "      <th>MACD_12_26_9</th>\n",
       "      <th>MACDh_12_26_9</th>\n",
       "      <th>MACDs_12_26_9</th>\n",
       "      <th>SMA_10</th>\n",
       "      <th>SMA_20</th>\n",
       "      <th>SMA_50</th>\n",
       "      <th>Volume</th>\n",
       "      <th>Close_copy</th>\n",
       "    </tr>\n",
       "  </thead>\n",
       "  <tbody>\n",
       "    <tr>\n",
       "      <th>800</th>\n",
       "      <td>-0.664382</td>\n",
       "      <td>-0.518756</td>\n",
       "      <td>-0.212867</td>\n",
       "      <td>-0.376660</td>\n",
       "      <td>-2.096023</td>\n",
       "      <td>-0.541526</td>\n",
       "      <td>-0.618721</td>\n",
       "      <td>-0.664382</td>\n",
       "      <td>1.732245</td>\n",
       "      <td>-0.477768</td>\n",
       "      <td>...</td>\n",
       "      <td>2.765372</td>\n",
       "      <td>-0.923083</td>\n",
       "      <td>-0.285174</td>\n",
       "      <td>-0.957418</td>\n",
       "      <td>0.029832</td>\n",
       "      <td>-0.442130</td>\n",
       "      <td>-0.376660</td>\n",
       "      <td>-0.460099</td>\n",
       "      <td>0.479939</td>\n",
       "      <td>-0.664382</td>\n",
       "    </tr>\n",
       "    <tr>\n",
       "      <th>801</th>\n",
       "      <td>-0.646763</td>\n",
       "      <td>-0.405198</td>\n",
       "      <td>-0.255201</td>\n",
       "      <td>-0.392525</td>\n",
       "      <td>-1.648446</td>\n",
       "      <td>-0.526270</td>\n",
       "      <td>-0.600796</td>\n",
       "      <td>-0.646763</td>\n",
       "      <td>1.732245</td>\n",
       "      <td>-0.510207</td>\n",
       "      <td>...</td>\n",
       "      <td>2.765372</td>\n",
       "      <td>-0.947383</td>\n",
       "      <td>-0.387140</td>\n",
       "      <td>-1.015113</td>\n",
       "      <td>-0.059456</td>\n",
       "      <td>-0.471115</td>\n",
       "      <td>-0.392525</td>\n",
       "      <td>-0.463963</td>\n",
       "      <td>-0.746811</td>\n",
       "      <td>-0.646763</td>\n",
       "    </tr>\n",
       "    <tr>\n",
       "      <th>802</th>\n",
       "      <td>-0.651849</td>\n",
       "      <td>-0.315221</td>\n",
       "      <td>-0.292326</td>\n",
       "      <td>-0.409164</td>\n",
       "      <td>-1.448674</td>\n",
       "      <td>-0.518568</td>\n",
       "      <td>-0.605967</td>\n",
       "      <td>-0.651849</td>\n",
       "      <td>1.742954</td>\n",
       "      <td>-0.537690</td>\n",
       "      <td>...</td>\n",
       "      <td>2.671345</td>\n",
       "      <td>-0.935746</td>\n",
       "      <td>-0.466173</td>\n",
       "      <td>-1.005142</td>\n",
       "      <td>-0.147868</td>\n",
       "      <td>-0.500101</td>\n",
       "      <td>-0.409164</td>\n",
       "      <td>-0.467120</td>\n",
       "      <td>-0.835320</td>\n",
       "      <td>-0.651849</td>\n",
       "    </tr>\n",
       "    <tr>\n",
       "      <th>803</th>\n",
       "      <td>-0.695260</td>\n",
       "      <td>-0.219031</td>\n",
       "      <td>-0.333231</td>\n",
       "      <td>-0.428391</td>\n",
       "      <td>-1.458203</td>\n",
       "      <td>-0.511942</td>\n",
       "      <td>-0.650199</td>\n",
       "      <td>-0.695260</td>\n",
       "      <td>1.607479</td>\n",
       "      <td>-0.568214</td>\n",
       "      <td>...</td>\n",
       "      <td>2.671345</td>\n",
       "      <td>-0.959704</td>\n",
       "      <td>-0.550693</td>\n",
       "      <td>-1.010594</td>\n",
       "      <td>-0.236759</td>\n",
       "      <td>-0.531275</td>\n",
       "      <td>-0.428391</td>\n",
       "      <td>-0.473782</td>\n",
       "      <td>0.314693</td>\n",
       "      <td>-0.695260</td>\n",
       "    </tr>\n",
       "    <tr>\n",
       "      <th>804</th>\n",
       "      <td>-0.813687</td>\n",
       "      <td>-0.091393</td>\n",
       "      <td>-0.390878</td>\n",
       "      <td>-0.457822</td>\n",
       "      <td>-1.732959</td>\n",
       "      <td>-0.507468</td>\n",
       "      <td>-0.771680</td>\n",
       "      <td>-0.813687</td>\n",
       "      <td>1.580170</td>\n",
       "      <td>-0.615116</td>\n",
       "      <td>...</td>\n",
       "      <td>2.671345</td>\n",
       "      <td>-0.945671</td>\n",
       "      <td>-0.686218</td>\n",
       "      <td>-1.139791</td>\n",
       "      <td>-0.336992</td>\n",
       "      <td>-0.572362</td>\n",
       "      <td>-0.457822</td>\n",
       "      <td>-0.483073</td>\n",
       "      <td>-0.020605</td>\n",
       "      <td>-0.813687</td>\n",
       "    </tr>\n",
       "    <tr>\n",
       "      <th>...</th>\n",
       "      <td>...</td>\n",
       "      <td>...</td>\n",
       "      <td>...</td>\n",
       "      <td>...</td>\n",
       "      <td>...</td>\n",
       "      <td>...</td>\n",
       "      <td>...</td>\n",
       "      <td>...</td>\n",
       "      <td>...</td>\n",
       "      <td>...</td>\n",
       "      <td>...</td>\n",
       "      <td>...</td>\n",
       "      <td>...</td>\n",
       "      <td>...</td>\n",
       "      <td>...</td>\n",
       "      <td>...</td>\n",
       "      <td>...</td>\n",
       "      <td>...</td>\n",
       "      <td>...</td>\n",
       "      <td>...</td>\n",
       "      <td>...</td>\n",
       "    </tr>\n",
       "    <tr>\n",
       "      <th>3134</th>\n",
       "      <td>0.764009</td>\n",
       "      <td>-0.149978</td>\n",
       "      <td>0.687472</td>\n",
       "      <td>0.738442</td>\n",
       "      <td>0.156114</td>\n",
       "      <td>0.753486</td>\n",
       "      <td>0.755674</td>\n",
       "      <td>0.764009</td>\n",
       "      <td>1.389541</td>\n",
       "      <td>0.775099</td>\n",
       "      <td>...</td>\n",
       "      <td>-0.713624</td>\n",
       "      <td>1.462017</td>\n",
       "      <td>-0.279086</td>\n",
       "      <td>0.658465</td>\n",
       "      <td>-0.531071</td>\n",
       "      <td>0.759355</td>\n",
       "      <td>0.738442</td>\n",
       "      <td>0.919877</td>\n",
       "      <td>-1.255627</td>\n",
       "      <td>0.764009</td>\n",
       "    </tr>\n",
       "    <tr>\n",
       "      <th>3135</th>\n",
       "      <td>0.792344</td>\n",
       "      <td>-0.320354</td>\n",
       "      <td>0.718714</td>\n",
       "      <td>0.721971</td>\n",
       "      <td>0.421769</td>\n",
       "      <td>0.683547</td>\n",
       "      <td>0.781440</td>\n",
       "      <td>0.792344</td>\n",
       "      <td>1.353128</td>\n",
       "      <td>0.781322</td>\n",
       "      <td>...</td>\n",
       "      <td>-0.807650</td>\n",
       "      <td>1.459964</td>\n",
       "      <td>-0.237484</td>\n",
       "      <td>0.628980</td>\n",
       "      <td>-0.476021</td>\n",
       "      <td>0.779237</td>\n",
       "      <td>0.721971</td>\n",
       "      <td>0.918719</td>\n",
       "      <td>-1.228554</td>\n",
       "      <td>0.792344</td>\n",
       "    </tr>\n",
       "    <tr>\n",
       "      <th>3136</th>\n",
       "      <td>0.858642</td>\n",
       "      <td>-0.360917</td>\n",
       "      <td>0.725812</td>\n",
       "      <td>0.717688</td>\n",
       "      <td>0.821349</td>\n",
       "      <td>0.666530</td>\n",
       "      <td>0.841517</td>\n",
       "      <td>0.858642</td>\n",
       "      <td>1.392218</td>\n",
       "      <td>0.798688</td>\n",
       "      <td>...</td>\n",
       "      <td>-0.807650</td>\n",
       "      <td>1.463044</td>\n",
       "      <td>-0.160380</td>\n",
       "      <td>0.692283</td>\n",
       "      <td>-0.415414</td>\n",
       "      <td>0.804912</td>\n",
       "      <td>0.717688</td>\n",
       "      <td>0.916662</td>\n",
       "      <td>-0.521709</td>\n",
       "      <td>0.858642</td>\n",
       "    </tr>\n",
       "    <tr>\n",
       "      <th>3137</th>\n",
       "      <td>0.892608</td>\n",
       "      <td>-0.370429</td>\n",
       "      <td>0.727517</td>\n",
       "      <td>0.716729</td>\n",
       "      <td>1.019851</td>\n",
       "      <td>0.662588</td>\n",
       "      <td>0.872183</td>\n",
       "      <td>0.892608</td>\n",
       "      <td>1.391683</td>\n",
       "      <td>0.819186</td>\n",
       "      <td>...</td>\n",
       "      <td>-0.807650</td>\n",
       "      <td>1.479814</td>\n",
       "      <td>-0.076886</td>\n",
       "      <td>0.758568</td>\n",
       "      <td>-0.348987</td>\n",
       "      <td>0.834026</td>\n",
       "      <td>0.716729</td>\n",
       "      <td>0.915488</td>\n",
       "      <td>-0.821082</td>\n",
       "      <td>0.892608</td>\n",
       "    </tr>\n",
       "    <tr>\n",
       "      <th>3138</th>\n",
       "      <td>0.892608</td>\n",
       "      <td>-0.325773</td>\n",
       "      <td>0.724413</td>\n",
       "      <td>0.726719</td>\n",
       "      <td>0.921113</td>\n",
       "      <td>0.686933</td>\n",
       "      <td>0.872183</td>\n",
       "      <td>0.892608</td>\n",
       "      <td>1.391683</td>\n",
       "      <td>0.835957</td>\n",
       "      <td>...</td>\n",
       "      <td>-0.807650</td>\n",
       "      <td>1.479814</td>\n",
       "      <td>-0.010920</td>\n",
       "      <td>0.768694</td>\n",
       "      <td>-0.281671</td>\n",
       "      <td>0.839893</td>\n",
       "      <td>0.726719</td>\n",
       "      <td>0.914608</td>\n",
       "      <td>-0.821082</td>\n",
       "      <td>0.892608</td>\n",
       "    </tr>\n",
       "  </tbody>\n",
       "</table>\n",
       "<p>2339 rows × 25 columns</p>\n",
       "</div>"
      ],
      "text/plain": [
       "      Adj Close  BBB_20_2.0  BBL_20_2.0  BBM_20_2.0  BBP_20_2.0  BBU_20_2.0  \\\n",
       "800   -0.664382   -0.518756   -0.212867   -0.376660   -2.096023   -0.541526   \n",
       "801   -0.646763   -0.405198   -0.255201   -0.392525   -1.648446   -0.526270   \n",
       "802   -0.651849   -0.315221   -0.292326   -0.409164   -1.448674   -0.518568   \n",
       "803   -0.695260   -0.219031   -0.333231   -0.428391   -1.458203   -0.511942   \n",
       "804   -0.813687   -0.091393   -0.390878   -0.457822   -1.732959   -0.507468   \n",
       "...         ...         ...         ...         ...         ...         ...   \n",
       "3134   0.764009   -0.149978    0.687472    0.738442    0.156114    0.753486   \n",
       "3135   0.792344   -0.320354    0.718714    0.721971    0.421769    0.683547   \n",
       "3136   0.858642   -0.360917    0.725812    0.717688    0.821349    0.666530   \n",
       "3137   0.892608   -0.370429    0.727517    0.716729    1.019851    0.662588   \n",
       "3138   0.892608   -0.325773    0.724413    0.726719    0.921113    0.686933   \n",
       "\n",
       "      CUMLOGRET_1     Close  Crude Futures    EMA_10  ...  GBP USD   \\\n",
       "800     -0.618721 -0.664382       1.732245 -0.477768  ...  2.765372   \n",
       "801     -0.600796 -0.646763       1.732245 -0.510207  ...  2.765372   \n",
       "802     -0.605967 -0.651849       1.742954 -0.537690  ...  2.671345   \n",
       "803     -0.650199 -0.695260       1.607479 -0.568214  ...  2.671345   \n",
       "804     -0.771680 -0.813687       1.580170 -0.615116  ...  2.671345   \n",
       "...           ...       ...            ...       ...  ...       ...   \n",
       "3134     0.755674  0.764009       1.389541  0.775099  ... -0.713624   \n",
       "3135     0.781440  0.792344       1.353128  0.781322  ... -0.807650   \n",
       "3136     0.841517  0.858642       1.392218  0.798688  ... -0.807650   \n",
       "3137     0.872183  0.892608       1.391683  0.819186  ... -0.807650   \n",
       "3138     0.872183  0.892608       1.391683  0.835957  ... -0.807650   \n",
       "\n",
       "      Gold in USD  MACD_12_26_9  MACDh_12_26_9  MACDs_12_26_9    SMA_10  \\\n",
       "800     -0.923083     -0.285174      -0.957418       0.029832 -0.442130   \n",
       "801     -0.947383     -0.387140      -1.015113      -0.059456 -0.471115   \n",
       "802     -0.935746     -0.466173      -1.005142      -0.147868 -0.500101   \n",
       "803     -0.959704     -0.550693      -1.010594      -0.236759 -0.531275   \n",
       "804     -0.945671     -0.686218      -1.139791      -0.336992 -0.572362   \n",
       "...           ...           ...            ...            ...       ...   \n",
       "3134     1.462017     -0.279086       0.658465      -0.531071  0.759355   \n",
       "3135     1.459964     -0.237484       0.628980      -0.476021  0.779237   \n",
       "3136     1.463044     -0.160380       0.692283      -0.415414  0.804912   \n",
       "3137     1.479814     -0.076886       0.758568      -0.348987  0.834026   \n",
       "3138     1.479814     -0.010920       0.768694      -0.281671  0.839893   \n",
       "\n",
       "        SMA_20    SMA_50    Volume  Close_copy  \n",
       "800  -0.376660 -0.460099  0.479939   -0.664382  \n",
       "801  -0.392525 -0.463963 -0.746811   -0.646763  \n",
       "802  -0.409164 -0.467120 -0.835320   -0.651849  \n",
       "803  -0.428391 -0.473782  0.314693   -0.695260  \n",
       "804  -0.457822 -0.483073 -0.020605   -0.813687  \n",
       "...        ...       ...       ...         ...  \n",
       "3134  0.738442  0.919877 -1.255627    0.764009  \n",
       "3135  0.721971  0.918719 -1.228554    0.792344  \n",
       "3136  0.717688  0.916662 -0.521709    0.858642  \n",
       "3137  0.716729  0.915488 -0.821082    0.892608  \n",
       "3138  0.726719  0.914608 -0.821082    0.892608  \n",
       "\n",
       "[2339 rows x 25 columns]"
      ]
     },
     "execution_count": 33,
     "metadata": {},
     "output_type": "execute_result"
    }
   ],
   "source": [
    "df"
   ]
  },
  {
   "cell_type": "code",
   "execution_count": 34,
   "id": "d001b000",
   "metadata": {},
   "outputs": [
    {
     "name": "stdout",
     "output_type": "stream",
     "text": [
      "(460, 20, 24) (460, 20)\n"
     ]
    }
   ],
   "source": [
    "# Data for regression model\n",
    "sequence_length_reg = window_reg =20 # Number of time steps that will be inputted into LSTM network\n",
    "\n",
    "def create_dataset_reg(dataset,target,features, lookback, window):\n",
    "    X_store, y_store = [], []\n",
    "    for i in range(0,len(dataset)-lookback-window,5):\n",
    "        X = (dataset[features].values)[i:i+lookback]\n",
    "        y = (dataset[target].values)[i+lookback:i+lookback+window]\n",
    "        X_store.append(X)\n",
    "        y_store.append(y)\n",
    "    return X_store,y_store\n",
    "\n",
    "X_reg,y_reg = create_dataset_reg(\n",
    "    df,\n",
    "    target=target,\n",
    "    features=features,\n",
    "    lookback=sequence_length_reg, window=window_reg)\n",
    "\n",
    "print(np.array(X_reg).shape, np.array(y_reg).shape)"
   ]
  },
  {
   "cell_type": "code",
   "execution_count": 35,
   "id": "92c76f7c",
   "metadata": {},
   "outputs": [],
   "source": [
    "indices = tf.range(start=0, limit=tf.shape(X_reg)[0])\n",
    "shuffled_indices = tf.random.shuffle(indices)"
   ]
  },
  {
   "cell_type": "code",
   "execution_count": 36,
   "id": "760fad6a",
   "metadata": {},
   "outputs": [],
   "source": [
    "X_reg = tf.gather(X_reg, shuffled_indices)\n",
    "y_reg = tf.gather(y_reg, shuffled_indices)"
   ]
  },
  {
   "cell_type": "code",
   "execution_count": 37,
   "id": "e72f466f",
   "metadata": {},
   "outputs": [
    {
     "name": "stdout",
     "output_type": "stream",
     "text": [
      "Shape of train is (414, 20, 24) and (414, 20)\n",
      "Shape os test is (46, 20, 24) and (46, 20)\n"
     ]
    }
   ],
   "source": [
    "# Train test split\n",
    "m=np.array(X_reg).shape[0] # get first dimension\n",
    "size=int(m*0.9)\n",
    "X_train_reg=X_reg[:size]\n",
    "y_train_reg=y_reg[:size]\n",
    "X_test_reg=X_reg[size:]\n",
    "y_test_reg=y_reg[size:]\n",
    "print('Shape of train is',np.array(X_train_reg).shape,'and',np.array(y_train_reg).shape)\n",
    "print('Shape os test is',np.array(X_test_reg).shape,'and',np.array(y_test_reg).shape)"
   ]
  },
  {
   "cell_type": "code",
   "execution_count": 38,
   "id": "73e6fcf1",
   "metadata": {},
   "outputs": [
    {
     "name": "stdout",
     "output_type": "stream",
     "text": [
      "(8280, 24)\n",
      "(8280,)\n"
     ]
    }
   ],
   "source": [
    "X_train_reg_=np.array([inner for outer in X_train_reg for inner in outer])\n",
    "print(X_train_reg_.shape)\n",
    "y_train_reg_=np.array([inner for outer in y_train_reg for inner in outer])\n",
    "print(y_train_reg_.shape)"
   ]
  },
  {
   "cell_type": "code",
   "execution_count": 39,
   "id": "9fde5607",
   "metadata": {},
   "outputs": [
    {
     "name": "stdout",
     "output_type": "stream",
     "text": [
      "(920, 24)\n",
      "(920,)\n"
     ]
    }
   ],
   "source": [
    "X_test_reg_=np.array([inner for outer in X_test_reg for inner in outer])\n",
    "print(X_test_reg_.shape)\n",
    "y_test_reg_=np.array([inner for outer in y_test_reg for inner in outer])\n",
    "print(y_test_reg_.shape)"
   ]
  },
  {
   "cell_type": "code",
   "execution_count": 40,
   "id": "13bbfc00",
   "metadata": {},
   "outputs": [],
   "source": [
    "# Prepare test data\n",
    "X_check_reg=(df[features].values)[len(df)-window_reg-sequence_length_reg:len(df)- window_reg]\n",
    "y_check_reg=(df[target].values)[len(df)-window_reg:len(df)]"
   ]
  },
  {
   "cell_type": "code",
   "execution_count": 41,
   "id": "f00e4dc5",
   "metadata": {},
   "outputs": [],
   "source": [
    "# import torch"
   ]
  },
  {
   "cell_type": "markdown",
   "id": "a09ae8b6",
   "metadata": {},
   "source": [
    "# QNN"
   ]
  },
  {
   "cell_type": "code",
   "execution_count": 42,
   "id": "fc5c0d01",
   "metadata": {},
   "outputs": [],
   "source": [
    "# Define QNode\n",
    "n_layers=2\n",
    "nqubits = 10\n",
    "device = qml.device('default.qubit.tf', wires=nqubits)\n",
    "@qml.qnode(device, interface=\"tf\", diff_method=\"backprop\")\n",
    "def qnode(inputs, weights):\n",
    "    # Preproccess input data to encode the initial state.\n",
    "    ry_params = [math.atan(feature) for feature in inputs]\n",
    "    rz_params = [math.atan(feature**2) for feature in inputs]\n",
    "    for i in range(nqubits):\n",
    "        qml.Hadamard(wires=i)\n",
    "        qml.RY(ry_params[i], wires=i)\n",
    "        qml.RZ(ry_params[i], wires=i)\n",
    "    qml.templates.AngleEmbedding(inputs, wires=range(nqubits))\n",
    "    qml.templates.StronglyEntanglingLayers(weights, wires=range(nqubits))\n",
    "    return [qml.expval(qml.PauliZ(i)) for i in range(nqubits)]\n",
    "# define weight_shapes\n",
    "weight_shapes = {\"weights\": (n_layers, nqubits, 3)}"
   ]
  },
  {
   "cell_type": "code",
   "execution_count": 43,
   "id": "6c6ce900",
   "metadata": {},
   "outputs": [],
   "source": [
    "from tensorflow.keras import regularizers, initializers\n",
    "from tensorflow.keras.layers import Input, Dense, Reshape, Embedding, concatenate, Dropout, Flatten\n",
    "from tensorflow.keras.preprocessing import sequence\n",
    "from tensorflow.keras import Model"
   ]
  },
  {
   "cell_type": "code",
   "execution_count": 44,
   "id": "899220b3",
   "metadata": {},
   "outputs": [],
   "source": [
    "input_ = Input((24,)) # feature\n",
    "den1=Dense(10, use_bias=True,activation='relu')(input_) \n",
    "qlayer = qml.qnn.KerasLayer(qnode, weight_shapes, output_dim=nqubits)(den1)\n",
    "den5=Dense(1, use_bias=True,activation='linear')(qlayer)\n",
    "model = Model(inputs=[input_], outputs=den5)"
   ]
  },
  {
   "cell_type": "code",
   "execution_count": 45,
   "id": "73dbb88a",
   "metadata": {},
   "outputs": [],
   "source": [
    "loss_fn = tf.keras.losses.MeanSquaredError()\n",
    "opt = tf.keras.optimizers.Adam(learning_rate=0.01)\n",
    "model.compile(opt, loss=loss_fn)"
   ]
  },
  {
   "cell_type": "code",
   "execution_count": 46,
   "id": "69c73657",
   "metadata": {},
   "outputs": [],
   "source": [
    "import time"
   ]
  },
  {
   "cell_type": "code",
   "execution_count": null,
   "id": "1ae1e450",
   "metadata": {},
   "outputs": [
    {
     "name": "stdout",
     "output_type": "stream",
     "text": [
      "Epoch 1/100\n",
      " 30/259 [==>...........................] - ETA: 1:17:46 - loss: 0.9666"
     ]
    }
   ],
   "source": [
    "start=time.time()\n",
    "model_history = model.fit(X_train_reg_, y_train_reg_,\n",
    "                    validation_data=(X_test_reg_, y_test_reg_),\n",
    "                   batch_size=32, \n",
    "                   epochs=100,  # total epoch\n",
    "                   )\n",
    "end=time.time()"
   ]
  },
  {
   "cell_type": "code",
   "execution_count": null,
   "id": "41c87a30",
   "metadata": {},
   "outputs": [],
   "source": [
    "print(end-start)"
   ]
  },
  {
   "cell_type": "code",
   "execution_count": null,
   "id": "c138e761",
   "metadata": {},
   "outputs": [],
   "source": []
  },
  {
   "cell_type": "code",
   "execution_count": 45,
   "id": "197a243b",
   "metadata": {},
   "outputs": [
    {
     "data": {
      "image/png": "[encoded data removed]",
      "text/plain": [
       "<Figure size 432x288 with 1 Axes>"
      ]
     },
     "metadata": {
      "needs_background": "light"
     },
     "output_type": "display_data"
    }
   ],
   "source": [
    "import keras\n",
    "from matplotlib import pyplot as plt\n",
    "plt.plot(model_history.history['loss'])\n",
    "# plt.plot(model_history.history['val_loss'])\n",
    "plt.title('model loss')\n",
    "plt.ylabel('loss')\n",
    "plt.xlabel('epoch')\n",
    "# plt.legend(['train', 'val'], loc='upper left')\n",
    "plt.show()"
   ]
  },
  {
   "cell_type": "code",
   "execution_count": 42,
   "id": "2dd1cadd",
   "metadata": {},
   "outputs": [],
   "source": [
    "def mae_metric(actual, predicted):\n",
    "    sum_error = 0.0\n",
    "    for i in range(len(actual)):\n",
    "        sum_error += abs(predicted[i] - actual[i])\n",
    "    return sum_error/len(actual)\n",
    "\n",
    "def rmse_metric(actual, predicted):\n",
    "    sum_error = 0.0\n",
    "    for i in range(len(actual)):\n",
    "        sum_error += (predicted[i] - actual[i])**2\n",
    "    return (sum_error/len(actual))**0.5"
   ]
  },
  {
   "cell_type": "code",
   "execution_count": 43,
   "id": "68262b4a",
   "metadata": {},
   "outputs": [
    {
     "name": "stdout",
     "output_type": "stream",
     "text": [
      "Mean absolute Error :  95.0752180989583\n",
      "Root Mean Squared Error :  124.08813078115676\n"
     ]
    }
   ],
   "source": [
    "from sklearn.metrics import mean_squared_error\n",
    "from sklearn.metrics import mean_absolute_error\n",
    "y_check_pred_qnn = model.predict(X_check_reg)\n",
    "y_check_pred_qnn=y_check_pred_qnn.flatten()\n",
    "mae_check_qnn = mean_absolute_error(y_check_reg* target_stdev + target_mean, y_check_pred_qnn* target_stdev + target_mean)\n",
    "print('Mean absolute Error : ',mae_check_qnn)\n",
    "rmse_check_qnn = mean_squared_error(y_check_reg* target_stdev + target_mean, y_check_pred_qnn* target_stdev + target_mean, squared=False)\n",
    "print('Root Mean Squared Error : ',rmse_check_qnn)"
   ]
  },
  {
   "cell_type": "code",
   "execution_count": 44,
   "id": "f8e512c2",
   "metadata": {},
   "outputs": [
    {
     "data": {
      "image/png": "[encoded data removed]",
      "text/plain": [
       "<Figure size 864x504 with 1 Axes>"
      ]
     },
     "metadata": {
      "needs_background": "light"
     },
     "output_type": "display_data"
    }
   ],
   "source": [
    "plt.figure(figsize=(12, 7))\n",
    "plt.plot(y_check_reg* target_stdev + target_mean, label = \"Real\",marker='o')\n",
    "plt.plot(y_check_pred_qnn* target_stdev + target_mean, label = \"Quantum ANN\",marker='^')\n",
    "plt.ylabel('Stock Price')\n",
    "plt.xlabel('Days')\n",
    "plt.title(str(window_reg)+'days')\n",
    "plt.legend()\n",
    "plt.show()"
   ]
  },
  {
   "cell_type": "code",
   "execution_count": 41,
   "id": "803938bf",
   "metadata": {},
   "outputs": [],
   "source": [
    "save_data=[y_check_reg* target_stdev + target_mean,\n",
    "          y_check_pred_qnn* target_stdev + target_mean]"
   ]
  },
  {
   "cell_type": "code",
   "execution_count": 106,
   "id": "276b2848",
   "metadata": {},
   "outputs": [],
   "source": [
    "# import csv \n",
    "# # name of csv file   \n",
    "# filename = \"QNN_result_vqc.csv\"\n",
    "      \n",
    "# # writing to csv file   \n",
    "# with open(filename, 'w') as csvfile:   \n",
    "#     # creating a csv writer object   \n",
    "#     csvwriter = csv.writer(csvfile)     \n",
    "          \n",
    "#     # writing the data rows   \n",
    "#     csvwriter.writerows(save_data)"
   ]
  },
  {
   "cell_type": "code",
   "execution_count": null,
   "id": "bb59da90",
   "metadata": {},
   "outputs": [],
   "source": []
  },
  {
   "cell_type": "code",
   "execution_count": null,
   "id": "93a62b0b",
   "metadata": {},
   "outputs": [],
   "source": []
  },
  {
   "cell_type": "code",
   "execution_count": null,
   "id": "9677f60e",
   "metadata": {},
   "outputs": [],
   "source": []
  }
 ],
 "metadata": {
  "kernelspec": {
   "display_name": "Python 3",
   "language": "python",
   "name": "python3"
  },
  "language_info": {
   "codemirror_mode": {
    "name": "ipython",
    "version": 3
   },
   "file_extension": ".py",
   "mimetype": "text/x-python",
   "name": "python",
   "nbconvert_exporter": "python",
   "pygments_lexer": "ipython3",
   "version": "3.8.8"
  }
 },
 "nbformat": 4,
 "nbformat_minor": 5
}
