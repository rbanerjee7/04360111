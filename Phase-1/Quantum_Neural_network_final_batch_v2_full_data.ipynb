{
 "cells": [
  {
   "cell_type": "code",
   "execution_count": 1,
   "id": "a33a1f56",
   "metadata": {},
   "outputs": [],
   "source": [
    "import pandas as pd\n",
    "from pennylane import numpy as np\n",
    "import math\n",
    "import pennylane as qml\n",
    "import random\n",
    "import tensorflow as tf\n",
    "import time"
   ]
  },
  {
   "cell_type": "code",
   "execution_count": 2,
   "id": "31c36071",
   "metadata": {},
   "outputs": [],
   "source": [
    "# Read data\n",
    "df = pd.read_csv('dataset_FTSE_prediction_v1.csv')\n",
    "df = df.drop(['Unnamed: 0'], axis=1)\n",
    "# df=df.drop(columns=['ARIMA'])"
   ]
  },
  {
   "cell_type": "code",
   "execution_count": 3,
   "id": "d53abe07",
   "metadata": {},
   "outputs": [
    {
     "data": {
      "text/plain": [
       "['Adj Close',\n",
       " 'BBB_20_2.0',\n",
       " 'BBL_20_2.0',\n",
       " 'BBM_20_2.0',\n",
       " 'BBP_20_2.0',\n",
       " 'BBU_20_2.0',\n",
       " 'CUMLOGRET_1',\n",
       " 'Close_copy',\n",
       " 'Crude Futures',\n",
       " 'EMA_10',\n",
       " 'EMA_20',\n",
       " 'EMA_50',\n",
       " 'FT3',\n",
       " 'FT6',\n",
       " 'FT9',\n",
       " 'GBP USD ',\n",
       " 'Gold in USD',\n",
       " 'MACD_12_26_9',\n",
       " 'MACDh_12_26_9',\n",
       " 'MACDs_12_26_9',\n",
       " 'SMA_10',\n",
       " 'SMA_20',\n",
       " 'SMA_50',\n",
       " 'Volume']"
      ]
     },
     "execution_count": 3,
     "metadata": {},
     "output_type": "execute_result"
    }
   ],
   "source": [
    "target = \"Close\"\n",
    "features = list(df.columns.difference([\"Close\",\"ARIMA\"]))\n",
    "features"
   ]
  },
  {
   "cell_type": "code",
   "execution_count": 4,
   "id": "c0e70f03",
   "metadata": {},
   "outputs": [
    {
     "data": {
      "text/plain": [
       "24"
      ]
     },
     "execution_count": 4,
     "metadata": {},
     "output_type": "execute_result"
    }
   ],
   "source": [
    "len(features)"
   ]
  },
  {
   "cell_type": "markdown",
   "id": "a65613d0",
   "metadata": {},
   "source": [
    "## Data Processing"
   ]
  },
  {
   "cell_type": "code",
   "execution_count": 5,
   "id": "465d24a1",
   "metadata": {},
   "outputs": [],
   "source": [
    "random.seed(42)\n",
    "close_min=min(df['Close'].values)\n",
    "close_max=max(df['Close'].values)\n",
    "normalized_df=(df-df.min())/(df.max()-df.min())"
   ]
  },
  {
   "cell_type": "code",
   "execution_count": 6,
   "id": "ac53f062",
   "metadata": {},
   "outputs": [
    {
     "data": {
      "text/html": [
       "<div>\n",
       "<style scoped>\n",
       "    .dataframe tbody tr th:only-of-type {\n",
       "        vertical-align: middle;\n",
       "    }\n",
       "\n",
       "    .dataframe tbody tr th {\n",
       "        vertical-align: top;\n",
       "    }\n",
       "\n",
       "    .dataframe thead th {\n",
       "        text-align: right;\n",
       "    }\n",
       "</style>\n",
       "<table border=\"1\" class=\"dataframe\">\n",
       "  <thead>\n",
       "    <tr style=\"text-align: right;\">\n",
       "      <th></th>\n",
       "      <th>ARIMA</th>\n",
       "      <th>Adj Close</th>\n",
       "      <th>BBB_20_2.0</th>\n",
       "      <th>BBL_20_2.0</th>\n",
       "      <th>BBM_20_2.0</th>\n",
       "      <th>BBP_20_2.0</th>\n",
       "      <th>BBU_20_2.0</th>\n",
       "      <th>CUMLOGRET_1</th>\n",
       "      <th>Close</th>\n",
       "      <th>Crude Futures</th>\n",
       "      <th>...</th>\n",
       "      <th>GBP USD</th>\n",
       "      <th>Gold in USD</th>\n",
       "      <th>MACD_12_26_9</th>\n",
       "      <th>MACDh_12_26_9</th>\n",
       "      <th>MACDs_12_26_9</th>\n",
       "      <th>SMA_10</th>\n",
       "      <th>SMA_20</th>\n",
       "      <th>SMA_50</th>\n",
       "      <th>Volume</th>\n",
       "      <th>Close_copy</th>\n",
       "    </tr>\n",
       "  </thead>\n",
       "  <tbody>\n",
       "    <tr>\n",
       "      <th>0</th>\n",
       "      <td>0.154541</td>\n",
       "      <td>0.154500</td>\n",
       "      <td>0.0</td>\n",
       "      <td>0.0</td>\n",
       "      <td>0.0</td>\n",
       "      <td>0.249473</td>\n",
       "      <td>0.0</td>\n",
       "      <td>0.189660</td>\n",
       "      <td>0.154500</td>\n",
       "      <td>0.873999</td>\n",
       "      <td>...</td>\n",
       "      <td>0.861538</td>\n",
       "      <td>0.774658</td>\n",
       "      <td>0.800531</td>\n",
       "      <td>0.59667</td>\n",
       "      <td>0.799648</td>\n",
       "      <td>0.0</td>\n",
       "      <td>0.0</td>\n",
       "      <td>0.0</td>\n",
       "      <td>0.257662</td>\n",
       "      <td>0.154500</td>\n",
       "    </tr>\n",
       "    <tr>\n",
       "      <th>1</th>\n",
       "      <td>0.113258</td>\n",
       "      <td>0.113228</td>\n",
       "      <td>0.0</td>\n",
       "      <td>0.0</td>\n",
       "      <td>0.0</td>\n",
       "      <td>0.249473</td>\n",
       "      <td>0.0</td>\n",
       "      <td>0.140672</td>\n",
       "      <td>0.113228</td>\n",
       "      <td>0.855960</td>\n",
       "      <td>...</td>\n",
       "      <td>0.846154</td>\n",
       "      <td>0.822324</td>\n",
       "      <td>0.800531</td>\n",
       "      <td>0.59667</td>\n",
       "      <td>0.799648</td>\n",
       "      <td>0.0</td>\n",
       "      <td>0.0</td>\n",
       "      <td>0.0</td>\n",
       "      <td>0.217311</td>\n",
       "      <td>0.113228</td>\n",
       "    </tr>\n",
       "    <tr>\n",
       "      <th>2</th>\n",
       "      <td>0.051546</td>\n",
       "      <td>0.051533</td>\n",
       "      <td>0.0</td>\n",
       "      <td>0.0</td>\n",
       "      <td>0.0</td>\n",
       "      <td>0.249473</td>\n",
       "      <td>0.0</td>\n",
       "      <td>0.065210</td>\n",
       "      <td>0.051533</td>\n",
       "      <td>0.855960</td>\n",
       "      <td>...</td>\n",
       "      <td>0.846154</td>\n",
       "      <td>0.822324</td>\n",
       "      <td>0.800531</td>\n",
       "      <td>0.59667</td>\n",
       "      <td>0.799648</td>\n",
       "      <td>0.0</td>\n",
       "      <td>0.0</td>\n",
       "      <td>0.0</td>\n",
       "      <td>0.207956</td>\n",
       "      <td>0.051533</td>\n",
       "    </tr>\n",
       "    <tr>\n",
       "      <th>3</th>\n",
       "      <td>0.069206</td>\n",
       "      <td>0.069188</td>\n",
       "      <td>0.0</td>\n",
       "      <td>0.0</td>\n",
       "      <td>0.0</td>\n",
       "      <td>0.249473</td>\n",
       "      <td>0.0</td>\n",
       "      <td>0.087087</td>\n",
       "      <td>0.069188</td>\n",
       "      <td>0.861114</td>\n",
       "      <td>...</td>\n",
       "      <td>0.830769</td>\n",
       "      <td>0.818527</td>\n",
       "      <td>0.800531</td>\n",
       "      <td>0.59667</td>\n",
       "      <td>0.799648</td>\n",
       "      <td>0.0</td>\n",
       "      <td>0.0</td>\n",
       "      <td>0.0</td>\n",
       "      <td>0.249859</td>\n",
       "      <td>0.069188</td>\n",
       "    </tr>\n",
       "    <tr>\n",
       "      <th>4</th>\n",
       "      <td>0.121925</td>\n",
       "      <td>0.121893</td>\n",
       "      <td>0.0</td>\n",
       "      <td>0.0</td>\n",
       "      <td>0.0</td>\n",
       "      <td>0.249473</td>\n",
       "      <td>0.0</td>\n",
       "      <td>0.151053</td>\n",
       "      <td>0.121893</td>\n",
       "      <td>0.887897</td>\n",
       "      <td>...</td>\n",
       "      <td>0.800000</td>\n",
       "      <td>0.762866</td>\n",
       "      <td>0.800531</td>\n",
       "      <td>0.59667</td>\n",
       "      <td>0.799648</td>\n",
       "      <td>0.0</td>\n",
       "      <td>0.0</td>\n",
       "      <td>0.0</td>\n",
       "      <td>0.221036</td>\n",
       "      <td>0.121893</td>\n",
       "    </tr>\n",
       "  </tbody>\n",
       "</table>\n",
       "<p>5 rows × 26 columns</p>\n",
       "</div>"
      ],
      "text/plain": [
       "      ARIMA  Adj Close  BBB_20_2.0  BBL_20_2.0  BBM_20_2.0  BBP_20_2.0  \\\n",
       "0  0.154541   0.154500         0.0         0.0         0.0    0.249473   \n",
       "1  0.113258   0.113228         0.0         0.0         0.0    0.249473   \n",
       "2  0.051546   0.051533         0.0         0.0         0.0    0.249473   \n",
       "3  0.069206   0.069188         0.0         0.0         0.0    0.249473   \n",
       "4  0.121925   0.121893         0.0         0.0         0.0    0.249473   \n",
       "\n",
       "   BBU_20_2.0  CUMLOGRET_1     Close  Crude Futures  ...  GBP USD   \\\n",
       "0         0.0     0.189660  0.154500       0.873999  ...  0.861538   \n",
       "1         0.0     0.140672  0.113228       0.855960  ...  0.846154   \n",
       "2         0.0     0.065210  0.051533       0.855960  ...  0.846154   \n",
       "3         0.0     0.087087  0.069188       0.861114  ...  0.830769   \n",
       "4         0.0     0.151053  0.121893       0.887897  ...  0.800000   \n",
       "\n",
       "   Gold in USD  MACD_12_26_9  MACDh_12_26_9  MACDs_12_26_9  SMA_10  SMA_20  \\\n",
       "0     0.774658      0.800531        0.59667       0.799648     0.0     0.0   \n",
       "1     0.822324      0.800531        0.59667       0.799648     0.0     0.0   \n",
       "2     0.822324      0.800531        0.59667       0.799648     0.0     0.0   \n",
       "3     0.818527      0.800531        0.59667       0.799648     0.0     0.0   \n",
       "4     0.762866      0.800531        0.59667       0.799648     0.0     0.0   \n",
       "\n",
       "   SMA_50    Volume  Close_copy  \n",
       "0     0.0  0.257662    0.154500  \n",
       "1     0.0  0.217311    0.113228  \n",
       "2     0.0  0.207956    0.051533  \n",
       "3     0.0  0.249859    0.069188  \n",
       "4     0.0  0.221036    0.121893  \n",
       "\n",
       "[5 rows x 26 columns]"
      ]
     },
     "execution_count": 6,
     "metadata": {},
     "output_type": "execute_result"
    }
   ],
   "source": [
    "normalized_df.head()"
   ]
  },
  {
   "cell_type": "code",
   "execution_count": 7,
   "id": "943866a4",
   "metadata": {},
   "outputs": [],
   "source": [
    "df=normalized_df.copy()"
   ]
  },
  {
   "cell_type": "code",
   "execution_count": 8,
   "id": "d001b000",
   "metadata": {},
   "outputs": [
    {
     "name": "stdout",
     "output_type": "stream",
     "text": [
      "(616, 30, 24) (616, 30)\n"
     ]
    }
   ],
   "source": [
    "# Data for regression model\n",
    "sequence_length_reg = window_reg =30 # Number of time steps that will be inputted into LSTM network\n",
    "\n",
    "def create_dataset_reg(dataset,target,features, lookback, window):\n",
    "    X_store, y_store = [], []\n",
    "    for i in range(0,len(dataset)-lookback-window,5):\n",
    "        X = (dataset[features].values)[i:i+lookback]\n",
    "        y = (dataset[target].values)[i+lookback-1:i+lookback+window-1]\n",
    "        X_store.append(X)\n",
    "        y_store.append(y)\n",
    "    return X_store,y_store\n",
    "\n",
    "X_reg,y_reg = create_dataset_reg(\n",
    "    df,\n",
    "    target=target,\n",
    "    features=features,\n",
    "    lookback=sequence_length_reg, window=window_reg)\n",
    "\n",
    "print(np.array(X_reg).shape, np.array(y_reg).shape)"
   ]
  },
  {
   "cell_type": "code",
   "execution_count": 9,
   "id": "92c76f7c",
   "metadata": {},
   "outputs": [],
   "source": [
    "indices = tf.range(start=0, limit=tf.shape(X_reg)[0])\n",
    "shuffled_indices = tf.random.shuffle(indices)\n",
    "X_reg = tf.gather(X_reg, shuffled_indices)\n",
    "y_reg = tf.gather(y_reg, shuffled_indices)"
   ]
  },
  {
   "cell_type": "code",
   "execution_count": 10,
   "id": "e72f466f",
   "metadata": {},
   "outputs": [
    {
     "name": "stdout",
     "output_type": "stream",
     "text": [
      "Shape of train is (554, 30, 24) and (554, 30)\n",
      "Shape os test is (62, 30, 24) and (62, 30)\n"
     ]
    }
   ],
   "source": [
    "# Train test split\n",
    "m=np.array(X_reg).shape[0] # get first dimension\n",
    "size=int(m*0.9)\n",
    "X_train_reg=X_reg[:size]\n",
    "y_train_reg=y_reg[:size]\n",
    "X_test_reg=X_reg[size:]\n",
    "y_test_reg=y_reg[size:]\n",
    "print('Shape of train is',np.array(X_train_reg).shape,'and',np.array(y_train_reg).shape)\n",
    "print('Shape os test is',np.array(X_test_reg).shape,'and',np.array(y_test_reg).shape)"
   ]
  },
  {
   "cell_type": "code",
   "execution_count": 11,
   "id": "73e6fcf1",
   "metadata": {},
   "outputs": [
    {
     "name": "stdout",
     "output_type": "stream",
     "text": [
      "(16620, 24)\n",
      "(16620,)\n"
     ]
    }
   ],
   "source": [
    "X_train_reg_=np.array([inner for outer in X_train_reg for inner in outer])\n",
    "print(X_train_reg_.shape)\n",
    "y_train_reg_=np.array([inner for outer in y_train_reg for inner in outer])\n",
    "print(y_train_reg_.shape)"
   ]
  },
  {
   "cell_type": "code",
   "execution_count": 12,
   "id": "9fde5607",
   "metadata": {},
   "outputs": [
    {
     "name": "stdout",
     "output_type": "stream",
     "text": [
      "(1860, 24)\n",
      "(1860,)\n"
     ]
    }
   ],
   "source": [
    "X_test_reg_=np.array([inner for outer in X_test_reg for inner in outer])\n",
    "print(X_test_reg_.shape)\n",
    "y_test_reg_=np.array([inner for outer in y_test_reg for inner in outer])\n",
    "print(y_test_reg_.shape)"
   ]
  },
  {
   "cell_type": "code",
   "execution_count": 13,
   "id": "13bbfc00",
   "metadata": {},
   "outputs": [],
   "source": [
    "# Prepare check data\n",
    "X_check_reg=(df[features].values)[len(df)-window_reg-sequence_length_reg+1:len(df)- window_reg+1]\n",
    "y_check_reg=(df[target].values)[len(df)-window_reg:len(df)]"
   ]
  },
  {
   "cell_type": "code",
   "execution_count": 14,
   "id": "0cee0167",
   "metadata": {},
   "outputs": [
    {
     "name": "stdout",
     "output_type": "stream",
     "text": [
      "The factors of 16620 are:\n",
      "1\n",
      "2\n",
      "3\n",
      "4\n",
      "5\n",
      "6\n",
      "10\n",
      "12\n",
      "15\n",
      "20\n",
      "30\n",
      "60\n",
      "277\n",
      "554\n",
      "831\n",
      "1108\n",
      "1385\n",
      "1662\n",
      "2770\n",
      "3324\n",
      "4155\n",
      "5540\n",
      "8310\n",
      "16620\n"
     ]
    }
   ],
   "source": [
    "# Python Program to find the factors of a number\n",
    "\n",
    "# This function computes the factor of the argument passed\n",
    "def print_factors(x):\n",
    "    print(\"The factors of\",x,\"are:\")\n",
    "    for i in range(1, x + 1):\n",
    "        if x % i == 0:\n",
    "            print(i)\n",
    "\n",
    "num = 16620\n",
    "\n",
    "print_factors(num)"
   ]
  },
  {
   "cell_type": "markdown",
   "id": "a09ae8b6",
   "metadata": {},
   "source": [
    "# QNN"
   ]
  },
  {
   "cell_type": "code",
   "execution_count": 15,
   "id": "7df9e0d9",
   "metadata": {},
   "outputs": [],
   "source": [
    "nqubits = 8\n",
    "device = qml.device('default.qubit', wires=nqubits)\n",
    "# Define QNode\n",
    "@qml.qnode(device)\n",
    "def quantum_circuit(inputs, params):\n",
    "    for p1,p2,p3,p4,p5,p6,p7,p8 in zip(params[:4],params[4:8],params[8:12],params[12:16],params[16:20],params[20:24]\n",
    "                                ,params[24:28],params[28:32]):\n",
    "        qml.Rot(*inputs[:3], wires=0)\n",
    "        qml.Rot(*inputs[3:6], wires=1)\n",
    "        qml.Rot(*inputs[6:9], wires=2)\n",
    "        qml.Rot(*inputs[9:12], wires=3)\n",
    "        qml.Rot(*inputs[12:15], wires=4)\n",
    "        qml.Rot(*inputs[15:18], wires=5)\n",
    "        qml.Rot(*inputs[18:21], wires=6)\n",
    "        qml.Rot(*inputs[21:24], wires=7)\n",
    "        qml.Rot(*p1, wires=0)\n",
    "        qml.Rot(*p2, wires=1)\n",
    "        qml.Rot(*p3, wires=2)\n",
    "        qml.Rot(*p4, wires=3)\n",
    "        qml.Rot(*p5, wires=4)\n",
    "        qml.Rot(*p6, wires=5)\n",
    "        qml.Rot(*p7, wires=6)\n",
    "        qml.Rot(*p8, wires=7)\n",
    "        qml.CNOT(wires=[0, 1])\n",
    "        qml.CNOT(wires=[1, 2])\n",
    "        qml.CNOT(wires=[2, 3])\n",
    "        qml.CNOT(wires=[3, 4]) \n",
    "        qml.CNOT(wires=[4, 5])\n",
    "        qml.CNOT(wires=[5, 6]) \n",
    "        qml.CNOT(wires=[6, 7])\n",
    "        qml.CNOT(wires=[7, 0]) \n",
    "    return [qml.expval(qml.PauliZ(0))]"
   ]
  },
  {
   "cell_type": "code",
   "execution_count": 16,
   "id": "6934ef2b",
   "metadata": {},
   "outputs": [],
   "source": [
    "def loss_func(params):\n",
    "    predictions = [quantum_circuit(x, params)  for x in X_train_reg_]\n",
    "    predictions=np.array([i[0] for i in predictions])\n",
    "    total_losses=np.mean((y_train_reg_ - predictions) ** 2)\n",
    "    return total_losses"
   ]
  },
  {
   "cell_type": "code",
   "execution_count": 17,
   "id": "30f170be",
   "metadata": {},
   "outputs": [],
   "source": [
    "def cost_fn(params,**kwargs):\n",
    "    z=kwargs['batch']\n",
    "    predictions = [quantum_circuit(x, params)  for x in X_train_reg_[z*batch_size: (z+1)*batch_size]]\n",
    "    predictions=np.array([i[0] for i in predictions])\n",
    "    cost=np.mean((y_train_reg_[z*batch_size: (z+1)*batch_size] - predictions) ** 2)\n",
    "    return cost"
   ]
  },
  {
   "cell_type": "code",
   "execution_count": 18,
   "id": "fef5b12d",
   "metadata": {},
   "outputs": [],
   "source": [
    "opt = qml.AdamOptimizer(stepsize=0.01)\n",
    "params=np.random.normal(-0.05, 0.05, size=(32, 3))"
   ]
  },
  {
   "cell_type": "code",
   "execution_count": 19,
   "id": "c716dace",
   "metadata": {},
   "outputs": [],
   "source": [
    "batch_size=60 # Batch size\n",
    "batch_list=list(range(0,int(len(X_train_reg_)/batch_size)))"
   ]
  },
  {
   "cell_type": "code",
   "execution_count": null,
   "id": "a909c995",
   "metadata": {},
   "outputs": [],
   "source": [
    "for i in range (30):\n",
    "    for j in batch_list:\n",
    "        # Run for batch\n",
    "#         start=time.time()\n",
    "        params, prev_cost = opt.step_and_cost(cost_fn,params,batch=j)\n",
    "#         end=time.time()\n",
    "#         print('Execution time for optimizer',end-start)\n",
    "    # Loss for whole data\n",
    "#     start=time.time()\n",
    "    if i%5==0:\n",
    "        print(f'Step = {i} Cost = {loss_func(params)}')\n",
    "#     end=time.time()\n",
    "#     print('Execution time for loss check',end-start)"
   ]
  },
  {
   "cell_type": "code",
   "execution_count": null,
   "id": "b0475dcd",
   "metadata": {},
   "outputs": [],
   "source": [
    "params"
   ]
  },
  {
   "cell_type": "code",
   "execution_count": null,
   "id": "e54aa50f",
   "metadata": {},
   "outputs": [],
   "source": [
    "# Make pred for check data\n",
    "def pred_(X,params):\n",
    "    predict_ = [quantum_circuit(x, params)  for x in X]\n",
    "    return predict_"
   ]
  },
  {
   "cell_type": "code",
   "execution_count": null,
   "id": "840c1baf",
   "metadata": {},
   "outputs": [],
   "source": [
    "def mae_metric(actual, predicted):\n",
    "    sum_error = 0.0\n",
    "    for i in range(len(actual)):\n",
    "        sum_error += abs(predicted[i] - actual[i])\n",
    "    return sum_error/len(actual)\n",
    "\n",
    "def rmse_metric(actual, predicted):\n",
    "    sum_error = 0.0\n",
    "    for i in range(len(actual)):\n",
    "        sum_error += (predicted[i] - actual[i])**2\n",
    "    return (sum_error/len(actual))**0.5\n",
    "    \n",
    "def cal_metrics(y_true,y_pred):\n",
    "    mae=0\n",
    "    rmse=0\n",
    "    for i in range(len(y_true)):\n",
    "        y1=y_true[i].flatten().numpy()* target_stdev + target_mean\n",
    "        y2=y_pred[i].flatten()* target_stdev + target_mean\n",
    "        mae=mae_metric(y1, y2)+mae\n",
    "        rmse=rmse_metric(y1, y2)+rmse  \n",
    "    return mae/len(y_true) , rmse/len(y_true)"
   ]
  },
  {
   "cell_type": "code",
   "execution_count": null,
   "id": "4c06696f",
   "metadata": {},
   "outputs": [],
   "source": [
    "# Predict the price\n",
    "y_test_pred_ann = pred_(X_test_reg_,params) \n",
    "\n",
    "y_test_pred_ann_=[]\n",
    "for i in y_test_pred_ann:\n",
    "    y_test_pred_ann_.append(i[0].numpy())"
   ]
  },
  {
   "cell_type": "code",
   "execution_count": null,
   "id": "acab21f4",
   "metadata": {},
   "outputs": [],
   "source": [
    "mae_test_ann = mae_metric((y_test_reg_*(close_max - close_min)) + close_min, np.array(y_test_pred_ann_)*(close_max - close_min)+ close_min)\n",
    "print('MAE test: ',mae_test_ann)\n",
    "rmse_test_ann = rmse_metric((y_test_reg_*(close_max - close_min)) + close_min, np.array(y_test_pred_ann_)*(close_max - close_min)+ close_min)\n",
    "print('RMSE test: ',rmse_test_ann)"
   ]
  },
  {
   "cell_type": "code",
   "execution_count": null,
   "id": "bb59da90",
   "metadata": {},
   "outputs": [],
   "source": [
    "# Predict the model \n",
    "y_check_pred_ann = pred_(X_check_reg,params) "
   ]
  },
  {
   "cell_type": "code",
   "execution_count": null,
   "id": "93a62b0b",
   "metadata": {},
   "outputs": [],
   "source": [
    "y_check_pred_ann_=[]\n",
    "for i in y_check_pred_ann:\n",
    "    y_check_pred_ann_.append(i[0].numpy())"
   ]
  },
  {
   "cell_type": "code",
   "execution_count": null,
   "id": "9677f60e",
   "metadata": {},
   "outputs": [],
   "source": [
    "mae_check_ann = mae_metric((y_check_reg*(close_max - close_min)) + close_min, np.array(y_check_pred_ann_)*(close_max - close_min)+ close_min)\n",
    "print('MAE test: ',mae_check_ann)\n",
    "rmse_check_ann = rmse_metric((y_check_reg*(close_max - close_min)) + close_min, np.array(y_check_pred_ann_)*(close_max - close_min)+ close_min)\n",
    "print('RMSE test: ',rmse_check_ann)"
   ]
  },
  {
   "cell_type": "code",
   "execution_count": null,
   "id": "d47d0d29",
   "metadata": {},
   "outputs": [],
   "source": [
    "import matplotlib.pyplot as plt"
   ]
  },
  {
   "cell_type": "code",
   "execution_count": null,
   "id": "5da4b25a",
   "metadata": {},
   "outputs": [],
   "source": [
    "plt.figure(figsize=(12, 7))\n",
    "# plt.plot(y_test_reg* target_stdev + target_mean, label = \"Real\",marker='o')\n",
    "plt.plot(y_check_reg *(close_max - close_min) + close_min, label = \"Real\",marker='o')\n",
    "plt.plot(np.array(y_check_pred_ann_)*(close_max - close_min)+ close_min, label = \"ANN\",marker='^')\n",
    "plt.ylabel('Stock Price')\n",
    "plt.xlabel('Days')\n",
    "plt.title('Next '+str(window_reg)+' days prediction')\n",
    "plt.legend()\n",
    "plt.show()"
   ]
  },
  {
   "cell_type": "code",
   "execution_count": null,
   "id": "d3dc71fd",
   "metadata": {},
   "outputs": [],
   "source": []
  }
 ],
 "metadata": {
  "kernelspec": {
   "display_name": "Python 3",
   "language": "python",
   "name": "python3"
  },
  "language_info": {
   "codemirror_mode": {
    "name": "ipython",
    "version": 3
   },
   "file_extension": ".py",
   "mimetype": "text/x-python",
   "name": "python",
   "nbconvert_exporter": "python",
   "pygments_lexer": "ipython3",
   "version": "3.8.8"
  }
 },
 "nbformat": 4,
 "nbformat_minor": 5
}
